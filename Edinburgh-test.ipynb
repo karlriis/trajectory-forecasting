{
 "cells": [
  {
   "cell_type": "markdown",
   "id": "8fab3896",
   "metadata": {},
   "source": [
    "## Prerequisites to run:\n",
    "- clone https://github.com/crowdbotp/OpenTraj into the current folder"
   ]
  },
  {
   "cell_type": "code",
   "execution_count": 8,
   "id": "aa024d4b",
   "metadata": {},
   "outputs": [],
   "source": [
    "import os, yaml\n",
    "import sys\n",
    "sys.path.insert(0, os.path.abspath(os.getcwd()) + '/OpenTraj/opentraj') # Anaconda python can't find the toolkit path without this for some reason\n",
    "\n",
    "from toolkit.loaders.loader_edinburgh import load_edinburgh\n",
    "from matplotlib import pyplot as plt\n",
    "import numpy as np"
   ]
  },
  {
   "cell_type": "markdown",
   "id": "83e3656d",
   "metadata": {},
   "source": [
    "# Tests with OpenTraj Edinburgh dataset\n",
    "https://github.com/crowdbotp/OpenTraj/tree/master/datasets/Edinburgh"
   ]
  },
  {
   "cell_type": "code",
   "execution_count": null,
   "id": "b99324a3",
   "metadata": {},
   "outputs": [],
   "source": [
    "opentraj_root = './OpenTraj/'\n",
    "selected_day = '01Sep' # 3 days of data in total, ['01Jul', '01Aug', '01Sep']\n",
    "edinburgh_path = os.path.join(opentraj_root, 'datasets/Edinburgh/annotations', 'tracks.%s.txt' % selected_day)\n",
    "traj_dataset = load_edinburgh(edinburgh_path, title=\"Edinburgh\", \n",
    "                              use_kalman=False, scene_id=selected_day, sampling_rate=4)"
   ]
  },
  {
   "cell_type": "markdown",
   "id": "043bb691",
   "metadata": {},
   "source": [
    "## Dataset overview"
   ]
  },
  {
   "cell_type": "code",
   "execution_count": null,
   "id": "2c62e891",
   "metadata": {},
   "outputs": [],
   "source": [
    "data = traj_dataset.data"
   ]
  },
  {
   "cell_type": "code",
   "execution_count": null,
   "id": "6edf5c5c",
   "metadata": {},
   "outputs": [],
   "source": [
    "data.head()"
   ]
  },
  {
   "cell_type": "code",
   "execution_count": null,
   "id": "bf39ec25",
   "metadata": {},
   "outputs": [],
   "source": [
    "0.618650/(15.543484 - 15.268529)"
   ]
  },
  {
   "cell_type": "code",
   "execution_count": null,
   "id": "54131637",
   "metadata": {},
   "outputs": [],
   "source": [
    "max(data[\"agent_id\"])"
   ]
  },
  {
   "cell_type": "code",
   "execution_count": null,
   "id": "7e3b7edb",
   "metadata": {},
   "outputs": [],
   "source": [
    "for i in range(1000):\n",
    "    plt.plot(data.loc[data[\"agent_id\"]==i, [\"pos_x\"]],data.loc[data[\"agent_id\"]==i, [\"pos_y\"]])\n",
    "plt.show()"
   ]
  },
  {
   "cell_type": "code",
   "execution_count": null,
   "id": "89547f1a",
   "metadata": {},
   "outputs": [],
   "source": [
    "def generate_data(data, begin_idx, agent_id, num_steps=5):\n",
    "    sample_x = data[\"pos_x\"].loc[data[\"agent_id\"]==agent_id][begin_idx:begin_idx+num_steps].values\n",
    "    sample_y = data[\"pos_y\"].loc[data[\"agent_id\"]==agent_id][begin_idx:begin_idx+num_steps].values\n",
    "\n",
    "    test_x = data[\"pos_x\"].loc[data[\"agent_id\"]==agent_id][begin_idx+num_steps:begin_idx+2*num_steps].values\n",
    "    test_y = data[\"pos_y\"].loc[data[\"agent_id\"]==agent_id][begin_idx+num_steps:begin_idx+2*num_steps].values\n",
    "    \n",
    "    return sample_x, sample_y, test_x, test_y"
   ]
  },
  {
   "cell_type": "markdown",
   "id": "c475b0b1",
   "metadata": {},
   "source": [
    "## Testing with numpy polyfit"
   ]
  },
  {
   "cell_type": "markdown",
   "id": "7ef9eb04",
   "metadata": {},
   "source": [
    "### Single test"
   ]
  },
  {
   "cell_type": "code",
   "execution_count": null,
   "id": "38865be6",
   "metadata": {},
   "outputs": [],
   "source": [
    "sample_x, sample_y, test_x, test_y = generate_data(data, 0, agent_id=10, num_steps=5)\n",
    "\n",
    "polynomialOrder = 2\n",
    "fittedParameters = np.polyfit(sample_x, sample_y, polynomialOrder)"
   ]
  },
  {
   "cell_type": "code",
   "execution_count": null,
   "id": "723fa77e",
   "metadata": {},
   "outputs": [],
   "source": [
    "modelPredictions = np.polyval(fittedParameters, sample_x)"
   ]
  },
  {
   "cell_type": "code",
   "execution_count": null,
   "id": "80b70988",
   "metadata": {},
   "outputs": [],
   "source": [
    "plt.plot(test_x, modelPredictions, label=\"fitted polynomial\")\n",
    "plt.plot(test_x, test_y, label=\"test data\")\n",
    "plt.legend()"
   ]
  },
  {
   "cell_type": "markdown",
   "id": "69a0dd34",
   "metadata": {},
   "source": [
    "### Many tests"
   ]
  },
  {
   "cell_type": "code",
   "execution_count": null,
   "id": "001713f8",
   "metadata": {},
   "outputs": [],
   "source": [
    "# Baseline tests\n",
    "def one_run(data, start_idx, agent_id, step, plot_data=False):\n",
    "    # Generate 'seen' and 'unseen' data\n",
    "    sample_x, sample_y, test_x, test_y = generate_data(data, start_idx, agent_id, step)\n",
    "    \n",
    "    if len(sample_x) + len(sample_y) + len(test_x) + len(test_y) < 4*(step-start_idx):\n",
    "        return None, None # return None if same amount of data is not available for each slice\n",
    "    \n",
    "    \n",
    "    pred_x_list = []\n",
    "    pred_y_list = []\n",
    "    for i in range(10):\n",
    "        noisy_sample_x = sample_x + np.random.normal(0,0.1,len(sample_x))\n",
    "        noisy_sample_y = sample_y + np.random.normal(0,0.1,len(sample_y))\n",
    "        \n",
    "        # Fit a polynomial function to the data\n",
    "        time_range = range(len(sample_x))\n",
    "        fitted_x = np.polyfit(time_range, noisy_sample_x, 2)\n",
    "        fitted_y = np.polyfit(time_range, noisy_sample_y, 2)\n",
    "\n",
    "        time_range_pred = range(len(sample_x), 2*len(sample_x))\n",
    "        pred_x = np.polyval(fitted_x, time_range_pred)\n",
    "        pred_y = np.polyval(fitted_y, time_range_pred)\n",
    "        \n",
    "        pred_x_list.append(pred_x)\n",
    "        pred_y_list.append(pred_y)\n",
    "    \n",
    "    if (plot_data):\n",
    "        plt.axes().set_aspect('equal')\n",
    "        for i in range(10):\n",
    "            plt.plot(np.append(sample_x,pred_x_list[i]), np.append(sample_y,pred_y_list[i]), label=\"fitted polynomial\")\n",
    "        plt.plot(np.append(sample_x,test_x), np.append(sample_y,test_y), label=\"actual data\")\n",
    "        plt.scatter(sample_x[0], sample_y[0])\n",
    "        \n",
    "        #plt.xlim(np.mean(test_x)-2, np.mean(test_x)+2)\n",
    "        #plt.ylim(np.mean(test_y)-2, np.mean(test_y)+2)\n",
    "        #plt.legend()\n",
    "        plt.show()\n",
    "    \n",
    "    # Error calculation\n",
    "    '''\n",
    "    absError = modelPredictions - test_y\n",
    "    SE = np.square(absError)\n",
    "    MSE = np.mean(SE)\n",
    "    RMSE = np.sqrt(MSE)\n",
    "    \n",
    "    distance_y = modelPredictions[-1], test_y[-1]\n",
    "    '''\n",
    "    return RMSE, None\n",
    "\n",
    "step = 5\n",
    "all_rmse = []\n",
    "all_distance = []\n",
    "for i in range(0, 1000):\n",
    "    run_rmse, run_final_distance = one_run(data, start_idx=0, agent_id=i, step=step)\n",
    "    if run_rmse != None:\n",
    "        all_rmse.append(run_rmse)\n",
    "        all_distance.append(run_final_distance)\n",
    "'''\n",
    "#print(all_rmse)\n",
    "plt.plot(all_rmse)\n",
    "plt.title(\"RMSE\")\n",
    "plt.ylim(0, 500)\n",
    "plt.show()\n",
    "\n",
    "plt.plot(all_distance)\n",
    "plt.title(\"Final distance\")\n",
    "plt.ylim(-100,100)\n",
    "plt.show()'''"
   ]
  },
  {
   "cell_type": "code",
   "execution_count": null,
   "id": "0f1513d4",
   "metadata": {},
   "outputs": [],
   "source": [
    "#data[\"pos_x\"].loc[data[\"agent_id\"]==9][0:300]"
   ]
  },
  {
   "cell_type": "code",
   "execution_count": null,
   "id": "a5568660",
   "metadata": {},
   "outputs": [],
   "source": [
    "print(np.append(sample_x, test_x))"
   ]
  },
  {
   "cell_type": "code",
   "execution_count": null,
   "id": "4f849b6f",
   "metadata": {},
   "outputs": [],
   "source": [
    "# Checking the fitted polynomial for some data\n",
    "for i in range(10, 30):\n",
    "    run_rmse = one_run(data, start_idx=0, agent_id=i, step=step, plot_data=True)"
   ]
  },
  {
   "cell_type": "markdown",
   "id": "e016862b",
   "metadata": {},
   "source": [
    "## Testing scipy.optimize.curve_fit\n",
    "source: https://stackoverflow.com/questions/59391249/python-scipy-optimise-curve-fit-gives-linear-fit"
   ]
  },
  {
   "cell_type": "code",
   "execution_count": null,
   "id": "3a62dd00",
   "metadata": {},
   "outputs": [],
   "source": [
    "from scipy.optimize import curve_fit\n",
    "from scipy.optimize import differential_evolution\n",
    "import warnings\n",
    "\n",
    "def hyperbolic_func(x, a, b, c):\n",
    "    return  a * x / (b + x) + c * x\n",
    "\n",
    "agent_id=100 # Does not find optimal parameters often (e.g. finds them with id=100, but not with id=10)\n",
    "begin_idx=0\n",
    "num_steps=5\n",
    "\n",
    "sample_x = data[\"pos_x\"].loc[data[\"agent_id\"]==agent_id][begin_idx:begin_idx+num_steps].values\n",
    "sample_y = data[\"pos_y\"].loc[data[\"agent_id\"]==agent_id][begin_idx:begin_idx+num_steps].values\n",
    "\n",
    "test_x = data[\"pos_x\"].loc[data[\"agent_id\"]==agent_id][begin_idx+num_steps:begin_idx+2*num_steps].values\n",
    "test_y = data[\"pos_y\"].loc[data[\"agent_id\"]==agent_id][begin_idx+num_steps:begin_idx+2*num_steps].values\n",
    "\n",
    "\n",
    "fittedParameters, pcov = curve_fit(hyperbolic_func, sample_x, sample_y)\n",
    "modelPredictions = hyperbolic_func(test_x, *fittedParameters) "
   ]
  },
  {
   "cell_type": "code",
   "execution_count": null,
   "id": "7653a972",
   "metadata": {},
   "outputs": [],
   "source": [
    "plt.plot(test_x, test_y, label=\"actual\")\n",
    "plt.plot(test_x, modelPredictions, label=\"fitted\")\n",
    "plt.legend()"
   ]
  },
  {
   "cell_type": "markdown",
   "id": "aa59e673",
   "metadata": {},
   "source": [
    "## Testing with np.polyfit and np.poly1d\n",
    "source: https://www.analyticsvidhya.com/blog/2018/03/introduction-regression-splines-python-codes/"
   ]
  },
  {
   "cell_type": "code",
   "execution_count": null,
   "id": "3db10db6",
   "metadata": {},
   "outputs": [],
   "source": [
    "# Data\n",
    "agent_id=1\n",
    "begin_idx=0\n",
    "num_steps=5\n",
    "\n",
    "sample_x = data[\"pos_x\"].loc[data[\"agent_id\"]==agent_id][begin_idx:begin_idx+num_steps].values\n",
    "sample_y = data[\"pos_y\"].loc[data[\"agent_id\"]==agent_id][begin_idx:begin_idx+num_steps].values\n",
    "\n",
    "test_x = data[\"pos_x\"].loc[data[\"agent_id\"]==agent_id][begin_idx+num_steps:begin_idx+2*num_steps].values\n",
    "test_y = data[\"pos_y\"].loc[data[\"agent_id\"]==agent_id][begin_idx+num_steps:begin_idx+2*num_steps].values\n",
    "\n",
    "# Generating weights for polynomial function with degree =2\n",
    "weights = np.polyfit(sample_x, sample_y, 2)\n",
    "\n",
    "# Generating model with the given weights\n",
    "model = np.poly1d(weights)\n",
    "\n",
    "# Prediction on validation set\n",
    "pred = model(test_x)\n",
    "plt.scatter(test_x, test_y, facecolor='None', edgecolor='k', alpha=0.3)\n",
    "plt.plot(test_x, pred)\n",
    "plt.show()\n"
   ]
  },
  {
   "cell_type": "markdown",
   "id": "16d84316",
   "metadata": {},
   "source": [
    "## Bezier curve fitting\n",
    "source: https://stackoverflow.com/questions/12643079/b%C3%A9zier-curve-fitting-with-scipy"
   ]
  },
  {
   "cell_type": "code",
   "execution_count": null,
   "id": "b9fa2cb8",
   "metadata": {},
   "outputs": [],
   "source": [
    "import numpy as np\n",
    "from scipy.special import comb\n",
    "\n",
    "def bernstein_poly(i, n, t):\n",
    "    \"\"\"\n",
    "     The Bernstein polynomial of n, i as a function of t\n",
    "    \"\"\"\n",
    "\n",
    "    return comb(n, i) * ( t**(n-i) ) * (1 - t)**i\n",
    "\n",
    "\n",
    "def bezier_curve(x_data, y_data, nTimes=1000):\n",
    "    n_points = len(x_data)\n",
    "\n",
    "    t = np.linspace(0.0, 1.0, nTimes)\n",
    "\n",
    "    polynomial_array = np.array([ bernstein_poly(i, n_points-1, t) for i in range(0, n_points)   ])\n",
    "\n",
    "    xvals = np.dot(x_data, polynomial_array)\n",
    "    yvals = np.dot(y_data, polynomial_array)\n",
    "\n",
    "    return polynomial_array, xvals, yvals"
   ]
  },
  {
   "cell_type": "code",
   "execution_count": null,
   "id": "71948a18",
   "metadata": {},
   "outputs": [],
   "source": [
    "# Data\n",
    "agent_id=1\n",
    "begin_idx=0\n",
    "num_steps=5\n",
    "\n",
    "sample_x = data[\"pos_x\"].loc[data[\"agent_id\"]==agent_id][begin_idx:begin_idx+num_steps].values\n",
    "sample_y = data[\"pos_y\"].loc[data[\"agent_id\"]==agent_id][begin_idx:begin_idx+num_steps].values\n",
    "\n",
    "test_x = data[\"pos_x\"].loc[data[\"agent_id\"]==agent_id][begin_idx+num_steps:begin_idx+2*num_steps].values\n",
    "test_y = data[\"pos_y\"].loc[data[\"agent_id\"]==agent_id][begin_idx+num_steps:begin_idx+2*num_steps].values\n",
    "\n",
    "poly_array, b_x, b_y = bezier_curve(sample_x, sample_y)"
   ]
  },
  {
   "cell_type": "code",
   "execution_count": null,
   "id": "7a54cac4",
   "metadata": {},
   "outputs": [],
   "source": [
    "plt.plot(b_x, b_y)\n",
    "plt.plot(sample_x, sample_y)\n",
    "plt.show()"
   ]
  },
  {
   "cell_type": "code",
   "execution_count": null,
   "id": "529ebbcf",
   "metadata": {},
   "outputs": [],
   "source": []
  }
 ],
 "metadata": {
  "kernelspec": {
   "display_name": "Python 3",
   "language": "python",
   "name": "python3"
  },
  "language_info": {
   "codemirror_mode": {
    "name": "ipython",
    "version": 3
   },
   "file_extension": ".py",
   "mimetype": "text/x-python",
   "name": "python",
   "nbconvert_exporter": "python",
   "pygments_lexer": "ipython3",
   "version": "3.8.8"
  }
 },
 "nbformat": 4,
 "nbformat_minor": 5
}
