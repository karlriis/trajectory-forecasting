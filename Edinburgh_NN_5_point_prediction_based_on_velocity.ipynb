{
 "cells": [
  {
   "cell_type": "markdown",
   "id": "06891f97",
   "metadata": {},
   "source": [
    "## Neural network predicting 5 points at once based on velocities"
   ]
  },
  {
   "cell_type": "code",
   "execution_count": 2,
   "id": "43186641",
   "metadata": {
    "id": "43186641"
   },
   "outputs": [],
   "source": [
    "import os\n",
    "import sys\n",
    "sys.path.insert(0, os.path.abspath(os.getcwd()) + '/OpenTraj/opentraj/') # Anaconda python can't find the toolkit path without this for some reason\n",
    "\n",
    "from toolkit.loaders.loader_edinburgh import load_edinburgh\n",
    "from matplotlib import pyplot as plt\n",
    "import numpy as np\n",
    "np.random.seed(42)\n",
    "\n",
    "import warnings\n",
    "warnings.filterwarnings('ignore')\n",
    "# tensorflow logging level\n",
    "#os.environ['TF_CPP_MIN_LOG_LEVEL'] = '3'"
   ]
  },
  {
   "cell_type": "markdown",
   "id": "1f124715",
   "metadata": {},
   "source": [
    "## Data preparation"
   ]
  },
  {
   "cell_type": "code",
   "execution_count": 3,
   "id": "63295479",
   "metadata": {
    "colab": {
     "base_uri": "https://localhost:8080/"
    },
    "id": "63295479",
    "outputId": "ad31dcd2-7582-4a14-9232-e9ce081f0d68"
   },
   "outputs": [
    {
     "name": "stdout",
     "output_type": "stream",
     "text": [
      "reading:./OpenTraj/datasets/Edinburgh/annotations/tracks.01Sep.txt\n"
     ]
    },
    {
     "name": "stderr",
     "output_type": "stream",
     "text": [
      "100%|█████████████████████████████████████████████████████████████████████████████████████████████████| 2342/2342 [01:01<00:00, 37.78it/s]\n"
     ]
    },
    {
     "name": "stdout",
     "output_type": "stream",
     "text": [
      "Warning! too big dt in [Edinburgh]\n",
      "finish\n"
     ]
    }
   ],
   "source": [
    "opentraj_root = './OpenTraj/'\n",
    "selected_day = '01Sep' # 3 days of data in total, ['01Jul', '01Aug', '01Sep']\n",
    "edinburgh_path = os.path.join(opentraj_root, 'datasets/Edinburgh/annotations', 'tracks.%s.txt' % selected_day)\n",
    "traj_dataset = load_edinburgh(edinburgh_path, title=\"Edinburgh\", \n",
    "                              use_kalman=False, scene_id=selected_day, sampling_rate=9)"
   ]
  },
  {
   "cell_type": "code",
   "execution_count": 22,
   "id": "d2107c6b",
   "metadata": {
    "id": "d2107c6b"
   },
   "outputs": [],
   "source": [
    "data = traj_dataset.data\n",
    "NUM_OF_STEPS = 5\n",
    "\n",
    "# Removing any agents which don't have enough steps for model fitting and predicting\n",
    "agent_ids = data.agent_id.unique()\n",
    "for agent_id in agent_ids:\n",
    "    if len(data[data.agent_id == agent_id]) < 2*NUM_OF_STEPS:\n",
    "        data = data[data.agent_id != agent_id]\n",
    "agent_ids = data.agent_id.unique()"
   ]
  },
  {
   "cell_type": "code",
   "execution_count": 23,
   "id": "9fb4ab4b",
   "metadata": {
    "id": "9fb4ab4b"
   },
   "outputs": [],
   "source": [
    "# 'Normalize' the data so that all trajectories will begin at x=0, y=0\n",
    "for agent_id in agent_ids:\n",
    "    first_x = data[data.agent_id == agent_id]['pos_x'].iloc[0]\n",
    "    first_y = data[data.agent_id == agent_id]['pos_y'].iloc[0]\n",
    "    \n",
    "    data.loc[data.agent_id == agent_id, 'pos_x'] = data[data.agent_id == agent_id]['pos_x'] - first_x\n",
    "    data.loc[data.agent_id == agent_id, 'pos_y'] = data[data.agent_id == agent_id]['pos_y'] - first_y"
   ]
  },
  {
   "cell_type": "code",
   "execution_count": 24,
   "id": "a7407d78",
   "metadata": {
    "id": "a7407d78"
   },
   "outputs": [],
   "source": [
    "# Select the useful columns from the dataset\n",
    "data = data[['index', 'agent_id', 'pos_x', 'pos_y', 'vel_x', 'vel_y']]"
   ]
  },
  {
   "cell_type": "code",
   "execution_count": 25,
   "id": "f7c7210a",
   "metadata": {
    "id": "f7c7210a"
   },
   "outputs": [],
   "source": [
    "from sklearn.model_selection import train_test_split\n",
    "train_agent_ids, test_agent_ids = train_test_split(agent_ids, test_size=0.2)"
   ]
  },
  {
   "cell_type": "markdown",
   "id": "7a69be78",
   "metadata": {
    "id": "7a69be78"
   },
   "source": [
    "### Helper functions"
   ]
  },
  {
   "cell_type": "code",
   "execution_count": 26,
   "id": "987ee314",
   "metadata": {
    "id": "987ee314"
   },
   "outputs": [],
   "source": [
    "def create_dataset(data, agent_ids):\n",
    "    data_X, data_Y_vel_x, data_Y_vel_y = [], [], []\n",
    "    for agent_id in agent_ids:\n",
    "        # We only see 4 velocities, so train is 4 velocities long\n",
    "        x = data[data['agent_id'] == agent_id].iloc[1:5][['vel_x', 'vel_y']]\n",
    "        y_vel_x = data[data['agent_id'] == agent_id].iloc[5:10]['vel_x']\n",
    "        y_vel_y = data[data['agent_id'] == agent_id].iloc[5:10]['vel_y']\n",
    "        data_X.append(x)\n",
    "        data_Y_vel_x.append(y_vel_x)\n",
    "        data_Y_vel_y.append(y_vel_y)\n",
    "    return np.array(data_X), np.array(data_Y_vel_x), np.array(data_Y_vel_y)\n",
    "    \n",
    "def calculate_error(pred_x, pred_y, test_x, test_y):\n",
    "    \n",
    "    # FDE\n",
    "    final_displacement_x = pred_x[-1] - test_x[-1]\n",
    "    final_displacement_y = pred_y[-1] - test_y[-1]\n",
    "    FDE = np.sqrt(final_displacement_x**2 + final_displacement_y**2)\n",
    "    \n",
    "    # MSE\n",
    "    abs_error_x = pred_x - test_x\n",
    "    abs_error_y = pred_y - test_y\n",
    "    \n",
    "    MSE = np.mean(np.square(abs_error_x)) + np.mean(np.square(abs_error_y))\n",
    "    \n",
    "    return FDE, MSE"
   ]
  },
  {
   "cell_type": "markdown",
   "id": "12c085ad",
   "metadata": {},
   "source": [
    "## Experiment"
   ]
  },
  {
   "cell_type": "code",
   "execution_count": 27,
   "id": "7f3fa56d",
   "metadata": {
    "id": "7f3fa56d"
   },
   "outputs": [],
   "source": [
    "train = create_dataset(data, train_agent_ids)\n",
    "test = create_dataset(data, test_agent_ids)"
   ]
  },
  {
   "cell_type": "code",
   "execution_count": 28,
   "id": "fc388252",
   "metadata": {
    "id": "fc388252"
   },
   "outputs": [],
   "source": [
    "from keras.models import Model\n",
    "from keras.layers import *\n",
    "from keras import backend as K\n",
    "\n",
    "# Note: RMSE seems to yield a worse loss than mean_squared_error\n",
    "def RMSE(y_true, y_pred):\n",
    "    return K.sqrt(K.mean(K.square(y_pred - y_true))) \n",
    "    \n",
    "def RMSE_with_discount(y_true, y_pred):\n",
    "    difference = y_true - y_pred\n",
    "    difference = difference * [1, 0.95, 0.90, 0.85, 0.80]\n",
    "    return K.sqrt(K.mean(K.square(difference))) \n",
    "    \n",
    "\n",
    "#inp = Input((5,2))\n",
    "inp = Input((4,2))\n",
    "\n",
    "x = Flatten()(inp)\n",
    "\n",
    "x = Dense(64, activation='relu')(x)\n",
    "x = Dense(32, activation='relu')(x)\n",
    "x = Dense(16, activation='relu')(x)\n",
    "x = Dense(16, activation='relu')(x)\n",
    "\n",
    "'''\n",
    "x = Dense(128, activation='relu')(x)\n",
    "x = Dense(64, activation='relu')(x)\n",
    "x = Dense(32, activation='relu')(x)\n",
    "x = Dense(16, activation='relu')(x)\n",
    "'''\n",
    "out1 = Dense(5, activation='linear')(x)    \n",
    "out2 = Dense(5, activation='linear')(x)\n",
    "\n",
    "model = Model(inputs=inp, outputs=[out1,out2])\n",
    "model.compile(optimizer=tf.keras.optimizers.Adam(learning_rate=0.001), loss = RMSE)"
   ]
  },
  {
   "cell_type": "code",
   "execution_count": 29,
   "id": "d2ad3d42",
   "metadata": {
    "colab": {
     "base_uri": "https://localhost:8080/"
    },
    "id": "d2ad3d42",
    "outputId": "83b641d4-9d00-4d8f-a643-c4a48ddaaa46"
   },
   "outputs": [
    {
     "name": "stdout",
     "output_type": "stream",
     "text": [
      "Epoch 1/400\n"
     ]
    },
    {
     "name": "stderr",
     "output_type": "stream",
     "text": [
      "2022-01-13 16:54:14.015461: I tensorflow/core/grappler/optimizers/custom_graph_optimizer_registry.cc:112] Plugin optimizer for device_type GPU is enabled.\n"
     ]
    },
    {
     "name": "stdout",
     "output_type": "stream",
     "text": [
      "20/20 - 1s - loss: 1.5478 - dense_10_loss: 0.7170 - dense_11_loss: 0.8308 - 528ms/epoch - 26ms/step\n",
      "Epoch 2/400\n",
      "20/20 - 0s - loss: 1.3491 - dense_10_loss: 0.6208 - dense_11_loss: 0.7283 - 111ms/epoch - 6ms/step\n",
      "Epoch 3/400\n",
      "20/20 - 0s - loss: 1.1716 - dense_10_loss: 0.5338 - dense_11_loss: 0.6377 - 108ms/epoch - 5ms/step\n",
      "Epoch 4/400\n",
      "20/20 - 0s - loss: 1.0744 - dense_10_loss: 0.4928 - dense_11_loss: 0.5816 - 104ms/epoch - 5ms/step\n",
      "Epoch 5/400\n",
      "20/20 - 0s - loss: 1.0263 - dense_10_loss: 0.4704 - dense_11_loss: 0.5559 - 102ms/epoch - 5ms/step\n",
      "Epoch 6/400\n",
      "20/20 - 0s - loss: 0.9892 - dense_10_loss: 0.4530 - dense_11_loss: 0.5362 - 104ms/epoch - 5ms/step\n",
      "Epoch 7/400\n",
      "20/20 - 0s - loss: 0.9529 - dense_10_loss: 0.4525 - dense_11_loss: 0.5004 - 110ms/epoch - 6ms/step\n",
      "Epoch 8/400\n",
      "20/20 - 0s - loss: 0.9183 - dense_10_loss: 0.4271 - dense_11_loss: 0.4912 - 103ms/epoch - 5ms/step\n",
      "Epoch 9/400\n",
      "20/20 - 0s - loss: 0.8877 - dense_10_loss: 0.4064 - dense_11_loss: 0.4814 - 106ms/epoch - 5ms/step\n",
      "Epoch 10/400\n",
      "20/20 - 0s - loss: 0.8658 - dense_10_loss: 0.3943 - dense_11_loss: 0.4715 - 106ms/epoch - 5ms/step\n",
      "Epoch 11/400\n",
      "20/20 - 0s - loss: 0.8433 - dense_10_loss: 0.3865 - dense_11_loss: 0.4568 - 111ms/epoch - 6ms/step\n",
      "Epoch 12/400\n",
      "20/20 - 0s - loss: 0.8367 - dense_10_loss: 0.3787 - dense_11_loss: 0.4580 - 108ms/epoch - 5ms/step\n",
      "Epoch 13/400\n",
      "20/20 - 0s - loss: 0.8109 - dense_10_loss: 0.3671 - dense_11_loss: 0.4438 - 109ms/epoch - 5ms/step\n",
      "Epoch 14/400\n",
      "20/20 - 0s - loss: 0.8174 - dense_10_loss: 0.3706 - dense_11_loss: 0.4468 - 105ms/epoch - 5ms/step\n",
      "Epoch 15/400\n",
      "20/20 - 0s - loss: 0.8023 - dense_10_loss: 0.3650 - dense_11_loss: 0.4373 - 112ms/epoch - 6ms/step\n",
      "Epoch 16/400\n",
      "20/20 - 0s - loss: 0.8031 - dense_10_loss: 0.3641 - dense_11_loss: 0.4389 - 109ms/epoch - 5ms/step\n",
      "Epoch 17/400\n",
      "20/20 - 0s - loss: 0.7925 - dense_10_loss: 0.3584 - dense_11_loss: 0.4341 - 104ms/epoch - 5ms/step\n",
      "Epoch 18/400\n",
      "20/20 - 0s - loss: 0.7909 - dense_10_loss: 0.3590 - dense_11_loss: 0.4319 - 102ms/epoch - 5ms/step\n",
      "Epoch 19/400\n",
      "20/20 - 0s - loss: 0.7884 - dense_10_loss: 0.3581 - dense_11_loss: 0.4303 - 103ms/epoch - 5ms/step\n",
      "Epoch 20/400\n",
      "20/20 - 0s - loss: 0.7860 - dense_10_loss: 0.3590 - dense_11_loss: 0.4270 - 113ms/epoch - 6ms/step\n",
      "Epoch 21/400\n",
      "20/20 - 0s - loss: 0.7820 - dense_10_loss: 0.3548 - dense_11_loss: 0.4271 - 109ms/epoch - 5ms/step\n",
      "Epoch 22/400\n",
      "20/20 - 0s - loss: 0.7780 - dense_10_loss: 0.3536 - dense_11_loss: 0.4244 - 107ms/epoch - 5ms/step\n",
      "Epoch 23/400\n",
      "20/20 - 0s - loss: 0.7731 - dense_10_loss: 0.3535 - dense_11_loss: 0.4196 - 104ms/epoch - 5ms/step\n",
      "Epoch 24/400\n",
      "20/20 - 0s - loss: 0.7708 - dense_10_loss: 0.3508 - dense_11_loss: 0.4200 - 104ms/epoch - 5ms/step\n",
      "Epoch 25/400\n",
      "20/20 - 0s - loss: 0.7659 - dense_10_loss: 0.3509 - dense_11_loss: 0.4150 - 103ms/epoch - 5ms/step\n",
      "Epoch 26/400\n",
      "20/20 - 0s - loss: 0.7602 - dense_10_loss: 0.3486 - dense_11_loss: 0.4115 - 106ms/epoch - 5ms/step\n",
      "Epoch 27/400\n",
      "20/20 - 0s - loss: 0.7664 - dense_10_loss: 0.3515 - dense_11_loss: 0.4149 - 107ms/epoch - 5ms/step\n",
      "Epoch 28/400\n",
      "20/20 - 0s - loss: 0.7648 - dense_10_loss: 0.3512 - dense_11_loss: 0.4137 - 112ms/epoch - 6ms/step\n",
      "Epoch 29/400\n",
      "20/20 - 0s - loss: 0.7595 - dense_10_loss: 0.3504 - dense_11_loss: 0.4092 - 114ms/epoch - 6ms/step\n",
      "Epoch 30/400\n",
      "20/20 - 0s - loss: 0.7528 - dense_10_loss: 0.3433 - dense_11_loss: 0.4095 - 106ms/epoch - 5ms/step\n",
      "Epoch 31/400\n",
      "20/20 - 0s - loss: 0.7509 - dense_10_loss: 0.3454 - dense_11_loss: 0.4055 - 112ms/epoch - 6ms/step\n",
      "Epoch 32/400\n",
      "20/20 - 0s - loss: 0.7448 - dense_10_loss: 0.3439 - dense_11_loss: 0.4009 - 110ms/epoch - 5ms/step\n",
      "Epoch 33/400\n",
      "20/20 - 0s - loss: 0.7442 - dense_10_loss: 0.3438 - dense_11_loss: 0.4004 - 109ms/epoch - 5ms/step\n",
      "Epoch 34/400\n",
      "20/20 - 0s - loss: 0.7402 - dense_10_loss: 0.3412 - dense_11_loss: 0.3990 - 114ms/epoch - 6ms/step\n",
      "Epoch 35/400\n",
      "20/20 - 0s - loss: 0.7435 - dense_10_loss: 0.3434 - dense_11_loss: 0.4001 - 116ms/epoch - 6ms/step\n",
      "Epoch 36/400\n",
      "20/20 - 0s - loss: 0.7384 - dense_10_loss: 0.3395 - dense_11_loss: 0.3989 - 106ms/epoch - 5ms/step\n",
      "Epoch 37/400\n",
      "20/20 - 0s - loss: 0.7377 - dense_10_loss: 0.3423 - dense_11_loss: 0.3954 - 104ms/epoch - 5ms/step\n",
      "Epoch 38/400\n",
      "20/20 - 0s - loss: 0.7362 - dense_10_loss: 0.3415 - dense_11_loss: 0.3947 - 103ms/epoch - 5ms/step\n",
      "Epoch 39/400\n",
      "20/20 - 0s - loss: 0.7347 - dense_10_loss: 0.3414 - dense_11_loss: 0.3933 - 112ms/epoch - 6ms/step\n",
      "Epoch 40/400\n",
      "20/20 - 0s - loss: 0.7354 - dense_10_loss: 0.3425 - dense_11_loss: 0.3928 - 104ms/epoch - 5ms/step\n",
      "Epoch 41/400\n",
      "20/20 - 0s - loss: 0.7291 - dense_10_loss: 0.3406 - dense_11_loss: 0.3885 - 104ms/epoch - 5ms/step\n",
      "Epoch 42/400\n",
      "20/20 - 0s - loss: 0.7277 - dense_10_loss: 0.3370 - dense_11_loss: 0.3907 - 103ms/epoch - 5ms/step\n",
      "Epoch 43/400\n",
      "20/20 - 0s - loss: 0.7303 - dense_10_loss: 0.3407 - dense_11_loss: 0.3895 - 103ms/epoch - 5ms/step\n",
      "Epoch 44/400\n",
      "20/20 - 0s - loss: 0.7321 - dense_10_loss: 0.3415 - dense_11_loss: 0.3906 - 103ms/epoch - 5ms/step\n",
      "Epoch 45/400\n",
      "20/20 - 0s - loss: 0.7243 - dense_10_loss: 0.3367 - dense_11_loss: 0.3876 - 101ms/epoch - 5ms/step\n",
      "Epoch 46/400\n",
      "20/20 - 0s - loss: 0.7184 - dense_10_loss: 0.3375 - dense_11_loss: 0.3809 - 101ms/epoch - 5ms/step\n",
      "Epoch 47/400\n",
      "20/20 - 0s - loss: 0.7261 - dense_10_loss: 0.3417 - dense_11_loss: 0.3844 - 104ms/epoch - 5ms/step\n",
      "Epoch 48/400\n",
      "20/20 - 0s - loss: 0.7187 - dense_10_loss: 0.3358 - dense_11_loss: 0.3829 - 113ms/epoch - 6ms/step\n",
      "Epoch 49/400\n",
      "20/20 - 0s - loss: 0.7157 - dense_10_loss: 0.3380 - dense_11_loss: 0.3778 - 111ms/epoch - 6ms/step\n",
      "Epoch 50/400\n",
      "20/20 - 0s - loss: 0.7153 - dense_10_loss: 0.3362 - dense_11_loss: 0.3791 - 102ms/epoch - 5ms/step\n",
      "Epoch 51/400\n",
      "20/20 - 0s - loss: 0.7133 - dense_10_loss: 0.3353 - dense_11_loss: 0.3780 - 109ms/epoch - 5ms/step\n",
      "Epoch 52/400\n",
      "20/20 - 0s - loss: 0.7113 - dense_10_loss: 0.3345 - dense_11_loss: 0.3768 - 107ms/epoch - 5ms/step\n",
      "Epoch 53/400\n",
      "20/20 - 0s - loss: 0.7077 - dense_10_loss: 0.3321 - dense_11_loss: 0.3756 - 110ms/epoch - 6ms/step\n",
      "Epoch 54/400\n",
      "20/20 - 0s - loss: 0.7092 - dense_10_loss: 0.3342 - dense_11_loss: 0.3750 - 111ms/epoch - 6ms/step\n",
      "Epoch 55/400\n",
      "20/20 - 0s - loss: 0.7064 - dense_10_loss: 0.3305 - dense_11_loss: 0.3759 - 103ms/epoch - 5ms/step\n",
      "Epoch 56/400\n",
      "20/20 - 0s - loss: 0.7036 - dense_10_loss: 0.3323 - dense_11_loss: 0.3713 - 109ms/epoch - 5ms/step\n",
      "Epoch 57/400\n",
      "20/20 - 0s - loss: 0.7045 - dense_10_loss: 0.3311 - dense_11_loss: 0.3734 - 102ms/epoch - 5ms/step\n",
      "Epoch 58/400\n",
      "20/20 - 0s - loss: 0.6972 - dense_10_loss: 0.3301 - dense_11_loss: 0.3670 - 104ms/epoch - 5ms/step\n",
      "Epoch 59/400\n",
      "20/20 - 0s - loss: 0.7001 - dense_10_loss: 0.3302 - dense_11_loss: 0.3699 - 104ms/epoch - 5ms/step\n",
      "Epoch 60/400\n",
      "20/20 - 0s - loss: 0.7016 - dense_10_loss: 0.3338 - dense_11_loss: 0.3678 - 99ms/epoch - 5ms/step\n",
      "Epoch 61/400\n",
      "20/20 - 0s - loss: 0.7009 - dense_10_loss: 0.3288 - dense_11_loss: 0.3720 - 105ms/epoch - 5ms/step\n",
      "Epoch 62/400\n",
      "20/20 - 0s - loss: 0.6935 - dense_10_loss: 0.3284 - dense_11_loss: 0.3650 - 106ms/epoch - 5ms/step\n",
      "Epoch 63/400\n",
      "20/20 - 0s - loss: 0.6918 - dense_10_loss: 0.3260 - dense_11_loss: 0.3658 - 106ms/epoch - 5ms/step\n",
      "Epoch 64/400\n",
      "20/20 - 0s - loss: 0.6974 - dense_10_loss: 0.3297 - dense_11_loss: 0.3677 - 105ms/epoch - 5ms/step\n",
      "Epoch 65/400\n",
      "20/20 - 0s - loss: 0.6907 - dense_10_loss: 0.3264 - dense_11_loss: 0.3642 - 105ms/epoch - 5ms/step\n",
      "Epoch 66/400\n",
      "20/20 - 0s - loss: 0.6860 - dense_10_loss: 0.3228 - dense_11_loss: 0.3632 - 105ms/epoch - 5ms/step\n",
      "Epoch 67/400\n",
      "20/20 - 0s - loss: 0.6883 - dense_10_loss: 0.3241 - dense_11_loss: 0.3642 - 102ms/epoch - 5ms/step\n",
      "Epoch 68/400\n",
      "20/20 - 0s - loss: 0.6856 - dense_10_loss: 0.3246 - dense_11_loss: 0.3610 - 102ms/epoch - 5ms/step\n",
      "Epoch 69/400\n",
      "20/20 - 0s - loss: 0.6855 - dense_10_loss: 0.3230 - dense_11_loss: 0.3625 - 104ms/epoch - 5ms/step\n",
      "Epoch 70/400\n",
      "20/20 - 0s - loss: 0.6833 - dense_10_loss: 0.3240 - dense_11_loss: 0.3593 - 106ms/epoch - 5ms/step\n",
      "Epoch 71/400\n",
      "20/20 - 0s - loss: 0.6831 - dense_10_loss: 0.3235 - dense_11_loss: 0.3596 - 105ms/epoch - 5ms/step\n",
      "Epoch 72/400\n",
      "20/20 - 0s - loss: 0.6850 - dense_10_loss: 0.3281 - dense_11_loss: 0.3569 - 102ms/epoch - 5ms/step\n",
      "Epoch 73/400\n",
      "20/20 - 0s - loss: 0.6807 - dense_10_loss: 0.3253 - dense_11_loss: 0.3554 - 104ms/epoch - 5ms/step\n",
      "Epoch 74/400\n",
      "20/20 - 0s - loss: 0.6796 - dense_10_loss: 0.3229 - dense_11_loss: 0.3567 - 102ms/epoch - 5ms/step\n",
      "Epoch 75/400\n",
      "20/20 - 0s - loss: 0.6797 - dense_10_loss: 0.3210 - dense_11_loss: 0.3587 - 102ms/epoch - 5ms/step\n",
      "Epoch 76/400\n",
      "20/20 - 0s - loss: 0.6762 - dense_10_loss: 0.3215 - dense_11_loss: 0.3547 - 102ms/epoch - 5ms/step\n",
      "Epoch 77/400\n",
      "20/20 - 0s - loss: 0.6711 - dense_10_loss: 0.3179 - dense_11_loss: 0.3532 - 99ms/epoch - 5ms/step\n",
      "Epoch 78/400\n",
      "20/20 - 0s - loss: 0.6700 - dense_10_loss: 0.3189 - dense_11_loss: 0.3510 - 104ms/epoch - 5ms/step\n",
      "Epoch 79/400\n",
      "20/20 - 0s - loss: 0.6753 - dense_10_loss: 0.3183 - dense_11_loss: 0.3570 - 101ms/epoch - 5ms/step\n",
      "Epoch 80/400\n",
      "20/20 - 0s - loss: 0.6616 - dense_10_loss: 0.3160 - dense_11_loss: 0.3457 - 98ms/epoch - 5ms/step\n",
      "Epoch 81/400\n",
      "20/20 - 0s - loss: 0.6665 - dense_10_loss: 0.3162 - dense_11_loss: 0.3503 - 99ms/epoch - 5ms/step\n",
      "Epoch 82/400\n",
      "20/20 - 0s - loss: 0.6720 - dense_10_loss: 0.3187 - dense_11_loss: 0.3533 - 102ms/epoch - 5ms/step\n",
      "Epoch 83/400\n",
      "20/20 - 0s - loss: 0.6685 - dense_10_loss: 0.3181 - dense_11_loss: 0.3504 - 102ms/epoch - 5ms/step\n",
      "Epoch 84/400\n",
      "20/20 - 0s - loss: 0.6734 - dense_10_loss: 0.3200 - dense_11_loss: 0.3534 - 100ms/epoch - 5ms/step\n",
      "Epoch 85/400\n",
      "20/20 - 0s - loss: 0.6643 - dense_10_loss: 0.3175 - dense_11_loss: 0.3469 - 100ms/epoch - 5ms/step\n",
      "Epoch 86/400\n",
      "20/20 - 0s - loss: 0.6604 - dense_10_loss: 0.3135 - dense_11_loss: 0.3469 - 103ms/epoch - 5ms/step\n",
      "Epoch 87/400\n",
      "20/20 - 0s - loss: 0.6648 - dense_10_loss: 0.3195 - dense_11_loss: 0.3453 - 103ms/epoch - 5ms/step\n",
      "Epoch 88/400\n",
      "20/20 - 0s - loss: 0.6639 - dense_10_loss: 0.3198 - dense_11_loss: 0.3441 - 104ms/epoch - 5ms/step\n",
      "Epoch 89/400\n",
      "20/20 - 0s - loss: 0.6599 - dense_10_loss: 0.3137 - dense_11_loss: 0.3462 - 100ms/epoch - 5ms/step\n",
      "Epoch 90/400\n",
      "20/20 - 0s - loss: 0.6616 - dense_10_loss: 0.3140 - dense_11_loss: 0.3476 - 102ms/epoch - 5ms/step\n",
      "Epoch 91/400\n",
      "20/20 - 0s - loss: 0.6554 - dense_10_loss: 0.3157 - dense_11_loss: 0.3398 - 105ms/epoch - 5ms/step\n",
      "Epoch 92/400\n",
      "20/20 - 0s - loss: 0.6552 - dense_10_loss: 0.3145 - dense_11_loss: 0.3407 - 104ms/epoch - 5ms/step\n",
      "Epoch 93/400\n",
      "20/20 - 0s - loss: 0.6573 - dense_10_loss: 0.3142 - dense_11_loss: 0.3431 - 102ms/epoch - 5ms/step\n",
      "Epoch 94/400\n",
      "20/20 - 0s - loss: 0.6548 - dense_10_loss: 0.3139 - dense_11_loss: 0.3409 - 104ms/epoch - 5ms/step\n",
      "Epoch 95/400\n",
      "20/20 - 0s - loss: 0.6500 - dense_10_loss: 0.3111 - dense_11_loss: 0.3389 - 104ms/epoch - 5ms/step\n",
      "Epoch 96/400\n",
      "20/20 - 0s - loss: 0.6543 - dense_10_loss: 0.3126 - dense_11_loss: 0.3417 - 101ms/epoch - 5ms/step\n",
      "Epoch 97/400\n",
      "20/20 - 0s - loss: 0.6546 - dense_10_loss: 0.3128 - dense_11_loss: 0.3418 - 102ms/epoch - 5ms/step\n",
      "Epoch 98/400\n",
      "20/20 - 0s - loss: 0.6510 - dense_10_loss: 0.3125 - dense_11_loss: 0.3385 - 106ms/epoch - 5ms/step\n",
      "Epoch 99/400\n",
      "20/20 - 0s - loss: 0.6518 - dense_10_loss: 0.3111 - dense_11_loss: 0.3406 - 103ms/epoch - 5ms/step\n",
      "Epoch 100/400\n",
      "20/20 - 0s - loss: 0.6498 - dense_10_loss: 0.3104 - dense_11_loss: 0.3395 - 100ms/epoch - 5ms/step\n",
      "Epoch 101/400\n",
      "20/20 - 0s - loss: 0.6529 - dense_10_loss: 0.3139 - dense_11_loss: 0.3390 - 103ms/epoch - 5ms/step\n",
      "Epoch 102/400\n",
      "20/20 - 0s - loss: 0.6455 - dense_10_loss: 0.3115 - dense_11_loss: 0.3340 - 101ms/epoch - 5ms/step\n",
      "Epoch 103/400\n",
      "20/20 - 0s - loss: 0.6476 - dense_10_loss: 0.3080 - dense_11_loss: 0.3397 - 103ms/epoch - 5ms/step\n",
      "Epoch 104/400\n",
      "20/20 - 0s - loss: 0.6416 - dense_10_loss: 0.3105 - dense_11_loss: 0.3311 - 109ms/epoch - 5ms/step\n",
      "Epoch 105/400\n",
      "20/20 - 0s - loss: 0.6413 - dense_10_loss: 0.3062 - dense_11_loss: 0.3351 - 101ms/epoch - 5ms/step\n",
      "Epoch 106/400\n",
      "20/20 - 0s - loss: 0.6405 - dense_10_loss: 0.3068 - dense_11_loss: 0.3336 - 149ms/epoch - 7ms/step\n",
      "Epoch 107/400\n",
      "20/20 - 0s - loss: 0.6394 - dense_10_loss: 0.3076 - dense_11_loss: 0.3318 - 110ms/epoch - 6ms/step\n",
      "Epoch 108/400\n",
      "20/20 - 0s - loss: 0.6356 - dense_10_loss: 0.3056 - dense_11_loss: 0.3300 - 115ms/epoch - 6ms/step\n",
      "Epoch 109/400\n",
      "20/20 - 0s - loss: 0.6456 - dense_10_loss: 0.3128 - dense_11_loss: 0.3328 - 119ms/epoch - 6ms/step\n",
      "Epoch 110/400\n",
      "20/20 - 0s - loss: 0.6482 - dense_10_loss: 0.3152 - dense_11_loss: 0.3330 - 127ms/epoch - 6ms/step\n",
      "Epoch 111/400\n",
      "20/20 - 0s - loss: 0.6403 - dense_10_loss: 0.3117 - dense_11_loss: 0.3286 - 129ms/epoch - 6ms/step\n",
      "Epoch 112/400\n",
      "20/20 - 0s - loss: 0.6379 - dense_10_loss: 0.3056 - dense_11_loss: 0.3324 - 115ms/epoch - 6ms/step\n",
      "Epoch 113/400\n",
      "20/20 - 0s - loss: 0.6368 - dense_10_loss: 0.3073 - dense_11_loss: 0.3294 - 109ms/epoch - 5ms/step\n",
      "Epoch 114/400\n",
      "20/20 - 0s - loss: 0.6451 - dense_10_loss: 0.3093 - dense_11_loss: 0.3357 - 131ms/epoch - 7ms/step\n",
      "Epoch 115/400\n",
      "20/20 - 0s - loss: 0.6330 - dense_10_loss: 0.3069 - dense_11_loss: 0.3261 - 107ms/epoch - 5ms/step\n",
      "Epoch 116/400\n",
      "20/20 - 0s - loss: 0.6341 - dense_10_loss: 0.3069 - dense_11_loss: 0.3271 - 102ms/epoch - 5ms/step\n",
      "Epoch 117/400\n",
      "20/20 - 0s - loss: 0.6270 - dense_10_loss: 0.3044 - dense_11_loss: 0.3226 - 110ms/epoch - 6ms/step\n",
      "Epoch 118/400\n",
      "20/20 - 0s - loss: 0.6272 - dense_10_loss: 0.3038 - dense_11_loss: 0.3234 - 104ms/epoch - 5ms/step\n",
      "Epoch 119/400\n",
      "20/20 - 0s - loss: 0.6287 - dense_10_loss: 0.3045 - dense_11_loss: 0.3242 - 111ms/epoch - 6ms/step\n",
      "Epoch 120/400\n",
      "20/20 - 0s - loss: 0.6268 - dense_10_loss: 0.3020 - dense_11_loss: 0.3248 - 110ms/epoch - 6ms/step\n",
      "Epoch 121/400\n",
      "20/20 - 0s - loss: 0.6315 - dense_10_loss: 0.3037 - dense_11_loss: 0.3277 - 102ms/epoch - 5ms/step\n",
      "Epoch 122/400\n",
      "20/20 - 0s - loss: 0.6321 - dense_10_loss: 0.3054 - dense_11_loss: 0.3267 - 102ms/epoch - 5ms/step\n",
      "Epoch 123/400\n",
      "20/20 - 0s - loss: 0.6275 - dense_10_loss: 0.3045 - dense_11_loss: 0.3230 - 102ms/epoch - 5ms/step\n",
      "Epoch 124/400\n",
      "20/20 - 0s - loss: 0.6221 - dense_10_loss: 0.3018 - dense_11_loss: 0.3203 - 120ms/epoch - 6ms/step\n",
      "Epoch 125/400\n",
      "20/20 - 0s - loss: 0.6214 - dense_10_loss: 0.3006 - dense_11_loss: 0.3208 - 125ms/epoch - 6ms/step\n",
      "Epoch 126/400\n",
      "20/20 - 0s - loss: 0.6256 - dense_10_loss: 0.3044 - dense_11_loss: 0.3212 - 133ms/epoch - 7ms/step\n",
      "Epoch 127/400\n",
      "20/20 - 0s - loss: 0.6222 - dense_10_loss: 0.3056 - dense_11_loss: 0.3166 - 135ms/epoch - 7ms/step\n",
      "Epoch 128/400\n",
      "20/20 - 0s - loss: 0.6206 - dense_10_loss: 0.3015 - dense_11_loss: 0.3191 - 116ms/epoch - 6ms/step\n",
      "Epoch 129/400\n",
      "20/20 - 0s - loss: 0.6206 - dense_10_loss: 0.3014 - dense_11_loss: 0.3192 - 117ms/epoch - 6ms/step\n",
      "Epoch 130/400\n",
      "20/20 - 0s - loss: 0.6256 - dense_10_loss: 0.3020 - dense_11_loss: 0.3236 - 109ms/epoch - 5ms/step\n",
      "Epoch 131/400\n",
      "20/20 - 0s - loss: 0.6240 - dense_10_loss: 0.3014 - dense_11_loss: 0.3226 - 115ms/epoch - 6ms/step\n",
      "Epoch 132/400\n",
      "20/20 - 0s - loss: 0.6213 - dense_10_loss: 0.3019 - dense_11_loss: 0.3194 - 111ms/epoch - 6ms/step\n",
      "Epoch 133/400\n",
      "20/20 - 0s - loss: 0.6189 - dense_10_loss: 0.3015 - dense_11_loss: 0.3174 - 104ms/epoch - 5ms/step\n",
      "Epoch 134/400\n",
      "20/20 - 0s - loss: 0.6181 - dense_10_loss: 0.3009 - dense_11_loss: 0.3172 - 110ms/epoch - 6ms/step\n",
      "Epoch 135/400\n",
      "20/20 - 0s - loss: 0.6225 - dense_10_loss: 0.3033 - dense_11_loss: 0.3192 - 104ms/epoch - 5ms/step\n",
      "Epoch 136/400\n",
      "20/20 - 0s - loss: 0.6150 - dense_10_loss: 0.2994 - dense_11_loss: 0.3156 - 112ms/epoch - 6ms/step\n",
      "Epoch 137/400\n",
      "20/20 - 0s - loss: 0.6150 - dense_10_loss: 0.3007 - dense_11_loss: 0.3143 - 128ms/epoch - 6ms/step\n",
      "Epoch 138/400\n",
      "20/20 - 0s - loss: 0.6186 - dense_10_loss: 0.2995 - dense_11_loss: 0.3191 - 124ms/epoch - 6ms/step\n",
      "Epoch 139/400\n",
      "20/20 - 0s - loss: 0.6192 - dense_10_loss: 0.3004 - dense_11_loss: 0.3189 - 131ms/epoch - 7ms/step\n",
      "Epoch 140/400\n",
      "20/20 - 0s - loss: 0.6176 - dense_10_loss: 0.3009 - dense_11_loss: 0.3168 - 115ms/epoch - 6ms/step\n",
      "Epoch 141/400\n",
      "20/20 - 0s - loss: 0.6156 - dense_10_loss: 0.2991 - dense_11_loss: 0.3165 - 114ms/epoch - 6ms/step\n",
      "Epoch 142/400\n",
      "20/20 - 0s - loss: 0.6179 - dense_10_loss: 0.3024 - dense_11_loss: 0.3155 - 122ms/epoch - 6ms/step\n",
      "Epoch 143/400\n",
      "20/20 - 0s - loss: 0.6111 - dense_10_loss: 0.2984 - dense_11_loss: 0.3127 - 119ms/epoch - 6ms/step\n",
      "Epoch 144/400\n",
      "20/20 - 0s - loss: 0.6145 - dense_10_loss: 0.2974 - dense_11_loss: 0.3171 - 123ms/epoch - 6ms/step\n",
      "Epoch 145/400\n",
      "20/20 - 0s - loss: 0.6189 - dense_10_loss: 0.3021 - dense_11_loss: 0.3169 - 117ms/epoch - 6ms/step\n",
      "Epoch 146/400\n",
      "20/20 - 0s - loss: 0.6142 - dense_10_loss: 0.3001 - dense_11_loss: 0.3141 - 112ms/epoch - 6ms/step\n",
      "Epoch 147/400\n",
      "20/20 - 0s - loss: 0.6043 - dense_10_loss: 0.2956 - dense_11_loss: 0.3088 - 122ms/epoch - 6ms/step\n",
      "Epoch 148/400\n",
      "20/20 - 0s - loss: 0.6106 - dense_10_loss: 0.2985 - dense_11_loss: 0.3122 - 117ms/epoch - 6ms/step\n",
      "Epoch 149/400\n",
      "20/20 - 0s - loss: 0.6083 - dense_10_loss: 0.2989 - dense_11_loss: 0.3094 - 114ms/epoch - 6ms/step\n",
      "Epoch 150/400\n",
      "20/20 - 0s - loss: 0.6091 - dense_10_loss: 0.2969 - dense_11_loss: 0.3122 - 137ms/epoch - 7ms/step\n",
      "Epoch 151/400\n",
      "20/20 - 0s - loss: 0.6072 - dense_10_loss: 0.2955 - dense_11_loss: 0.3117 - 129ms/epoch - 6ms/step\n",
      "Epoch 152/400\n",
      "20/20 - 0s - loss: 0.6074 - dense_10_loss: 0.2960 - dense_11_loss: 0.3113 - 113ms/epoch - 6ms/step\n",
      "Epoch 153/400\n",
      "20/20 - 0s - loss: 0.6048 - dense_10_loss: 0.2968 - dense_11_loss: 0.3080 - 123ms/epoch - 6ms/step\n",
      "Epoch 154/400\n",
      "20/20 - 0s - loss: 0.6071 - dense_10_loss: 0.2958 - dense_11_loss: 0.3113 - 132ms/epoch - 7ms/step\n",
      "Epoch 155/400\n",
      "20/20 - 0s - loss: 0.6036 - dense_10_loss: 0.2952 - dense_11_loss: 0.3084 - 130ms/epoch - 7ms/step\n",
      "Epoch 156/400\n",
      "20/20 - 0s - loss: 0.6039 - dense_10_loss: 0.2947 - dense_11_loss: 0.3091 - 127ms/epoch - 6ms/step\n",
      "Epoch 157/400\n",
      "20/20 - 0s - loss: 0.6011 - dense_10_loss: 0.2929 - dense_11_loss: 0.3082 - 133ms/epoch - 7ms/step\n",
      "Epoch 158/400\n",
      "20/20 - 0s - loss: 0.5996 - dense_10_loss: 0.2919 - dense_11_loss: 0.3077 - 133ms/epoch - 7ms/step\n",
      "Epoch 159/400\n",
      "20/20 - 0s - loss: 0.6007 - dense_10_loss: 0.2958 - dense_11_loss: 0.3049 - 123ms/epoch - 6ms/step\n",
      "Epoch 160/400\n",
      "20/20 - 0s - loss: 0.5991 - dense_10_loss: 0.2914 - dense_11_loss: 0.3077 - 129ms/epoch - 6ms/step\n",
      "Epoch 161/400\n",
      "20/20 - 0s - loss: 0.5972 - dense_10_loss: 0.2927 - dense_11_loss: 0.3045 - 120ms/epoch - 6ms/step\n",
      "Epoch 162/400\n",
      "20/20 - 0s - loss: 0.5964 - dense_10_loss: 0.2926 - dense_11_loss: 0.3037 - 118ms/epoch - 6ms/step\n",
      "Epoch 163/400\n",
      "20/20 - 0s - loss: 0.6073 - dense_10_loss: 0.2973 - dense_11_loss: 0.3101 - 121ms/epoch - 6ms/step\n",
      "Epoch 164/400\n",
      "20/20 - 0s - loss: 0.6040 - dense_10_loss: 0.2958 - dense_11_loss: 0.3082 - 123ms/epoch - 6ms/step\n",
      "Epoch 165/400\n",
      "20/20 - 0s - loss: 0.5955 - dense_10_loss: 0.2921 - dense_11_loss: 0.3034 - 123ms/epoch - 6ms/step\n",
      "Epoch 166/400\n",
      "20/20 - 0s - loss: 0.6059 - dense_10_loss: 0.2962 - dense_11_loss: 0.3097 - 133ms/epoch - 7ms/step\n",
      "Epoch 167/400\n",
      "20/20 - 0s - loss: 0.5954 - dense_10_loss: 0.2911 - dense_11_loss: 0.3044 - 121ms/epoch - 6ms/step\n",
      "Epoch 168/400\n",
      "20/20 - 0s - loss: 0.5983 - dense_10_loss: 0.2934 - dense_11_loss: 0.3049 - 129ms/epoch - 6ms/step\n",
      "Epoch 169/400\n",
      "20/20 - 0s - loss: 0.6006 - dense_10_loss: 0.2932 - dense_11_loss: 0.3074 - 119ms/epoch - 6ms/step\n",
      "Epoch 170/400\n",
      "20/20 - 0s - loss: 0.5924 - dense_10_loss: 0.2905 - dense_11_loss: 0.3019 - 119ms/epoch - 6ms/step\n",
      "Epoch 171/400\n",
      "20/20 - 0s - loss: 0.5968 - dense_10_loss: 0.2913 - dense_11_loss: 0.3055 - 119ms/epoch - 6ms/step\n",
      "Epoch 172/400\n",
      "20/20 - 0s - loss: 0.5980 - dense_10_loss: 0.2920 - dense_11_loss: 0.3060 - 126ms/epoch - 6ms/step\n",
      "Epoch 173/400\n",
      "20/20 - 0s - loss: 0.5965 - dense_10_loss: 0.2912 - dense_11_loss: 0.3053 - 123ms/epoch - 6ms/step\n",
      "Epoch 174/400\n",
      "20/20 - 0s - loss: 0.5908 - dense_10_loss: 0.2901 - dense_11_loss: 0.3007 - 117ms/epoch - 6ms/step\n",
      "Epoch 175/400\n",
      "20/20 - 0s - loss: 0.5897 - dense_10_loss: 0.2892 - dense_11_loss: 0.3005 - 120ms/epoch - 6ms/step\n",
      "Epoch 176/400\n",
      "20/20 - 0s - loss: 0.5884 - dense_10_loss: 0.2878 - dense_11_loss: 0.3006 - 123ms/epoch - 6ms/step\n",
      "Epoch 177/400\n",
      "20/20 - 0s - loss: 0.5915 - dense_10_loss: 0.2906 - dense_11_loss: 0.3009 - 118ms/epoch - 6ms/step\n",
      "Epoch 178/400\n",
      "20/20 - 0s - loss: 0.5885 - dense_10_loss: 0.2901 - dense_11_loss: 0.2984 - 133ms/epoch - 7ms/step\n",
      "Epoch 179/400\n",
      "20/20 - 0s - loss: 0.5913 - dense_10_loss: 0.2884 - dense_11_loss: 0.3029 - 197ms/epoch - 10ms/step\n",
      "Epoch 180/400\n",
      "20/20 - 0s - loss: 0.5874 - dense_10_loss: 0.2874 - dense_11_loss: 0.3000 - 118ms/epoch - 6ms/step\n",
      "Epoch 181/400\n",
      "20/20 - 0s - loss: 0.5947 - dense_10_loss: 0.2935 - dense_11_loss: 0.3012 - 108ms/epoch - 5ms/step\n",
      "Epoch 182/400\n",
      "20/20 - 0s - loss: 0.5906 - dense_10_loss: 0.2911 - dense_11_loss: 0.2995 - 104ms/epoch - 5ms/step\n",
      "Epoch 183/400\n",
      "20/20 - 0s - loss: 0.5904 - dense_10_loss: 0.2894 - dense_11_loss: 0.3011 - 101ms/epoch - 5ms/step\n",
      "Epoch 184/400\n",
      "20/20 - 0s - loss: 0.5928 - dense_10_loss: 0.2922 - dense_11_loss: 0.3006 - 101ms/epoch - 5ms/step\n",
      "Epoch 185/400\n",
      "20/20 - 0s - loss: 0.5912 - dense_10_loss: 0.2900 - dense_11_loss: 0.3012 - 99ms/epoch - 5ms/step\n",
      "Epoch 186/400\n",
      "20/20 - 0s - loss: 0.5868 - dense_10_loss: 0.2918 - dense_11_loss: 0.2950 - 99ms/epoch - 5ms/step\n",
      "Epoch 187/400\n",
      "20/20 - 0s - loss: 0.5913 - dense_10_loss: 0.2909 - dense_11_loss: 0.3004 - 100ms/epoch - 5ms/step\n",
      "Epoch 188/400\n",
      "20/20 - 0s - loss: 0.5867 - dense_10_loss: 0.2865 - dense_11_loss: 0.3003 - 118ms/epoch - 6ms/step\n",
      "Epoch 189/400\n",
      "20/20 - 0s - loss: 0.5828 - dense_10_loss: 0.2867 - dense_11_loss: 0.2961 - 130ms/epoch - 7ms/step\n",
      "Epoch 190/400\n",
      "20/20 - 0s - loss: 0.5829 - dense_10_loss: 0.2859 - dense_11_loss: 0.2969 - 111ms/epoch - 6ms/step\n",
      "Epoch 191/400\n",
      "20/20 - 0s - loss: 0.5828 - dense_10_loss: 0.2857 - dense_11_loss: 0.2971 - 103ms/epoch - 5ms/step\n",
      "Epoch 192/400\n",
      "20/20 - 0s - loss: 0.5807 - dense_10_loss: 0.2861 - dense_11_loss: 0.2946 - 103ms/epoch - 5ms/step\n",
      "Epoch 193/400\n",
      "20/20 - 0s - loss: 0.5924 - dense_10_loss: 0.2903 - dense_11_loss: 0.3022 - 102ms/epoch - 5ms/step\n",
      "Epoch 194/400\n",
      "20/20 - 0s - loss: 0.5885 - dense_10_loss: 0.2886 - dense_11_loss: 0.2999 - 99ms/epoch - 5ms/step\n",
      "Epoch 195/400\n",
      "20/20 - 0s - loss: 0.5849 - dense_10_loss: 0.2865 - dense_11_loss: 0.2983 - 105ms/epoch - 5ms/step\n",
      "Epoch 196/400\n",
      "20/20 - 0s - loss: 0.5782 - dense_10_loss: 0.2863 - dense_11_loss: 0.2919 - 115ms/epoch - 6ms/step\n",
      "Epoch 197/400\n",
      "20/20 - 0s - loss: 0.5778 - dense_10_loss: 0.2832 - dense_11_loss: 0.2946 - 112ms/epoch - 6ms/step\n",
      "Epoch 198/400\n",
      "20/20 - 0s - loss: 0.5793 - dense_10_loss: 0.2844 - dense_11_loss: 0.2949 - 100ms/epoch - 5ms/step\n",
      "Epoch 199/400\n",
      "20/20 - 0s - loss: 0.5831 - dense_10_loss: 0.2867 - dense_11_loss: 0.2964 - 100ms/epoch - 5ms/step\n",
      "Epoch 200/400\n",
      "20/20 - 0s - loss: 0.5798 - dense_10_loss: 0.2831 - dense_11_loss: 0.2968 - 98ms/epoch - 5ms/step\n",
      "Epoch 201/400\n",
      "20/20 - 0s - loss: 0.5810 - dense_10_loss: 0.2865 - dense_11_loss: 0.2944 - 98ms/epoch - 5ms/step\n",
      "Epoch 202/400\n",
      "20/20 - 0s - loss: 0.5850 - dense_10_loss: 0.2878 - dense_11_loss: 0.2972 - 98ms/epoch - 5ms/step\n",
      "Epoch 203/400\n",
      "20/20 - 0s - loss: 0.5789 - dense_10_loss: 0.2847 - dense_11_loss: 0.2942 - 100ms/epoch - 5ms/step\n",
      "Epoch 204/400\n",
      "20/20 - 0s - loss: 0.5726 - dense_10_loss: 0.2815 - dense_11_loss: 0.2910 - 101ms/epoch - 5ms/step\n",
      "Epoch 205/400\n",
      "20/20 - 0s - loss: 0.5791 - dense_10_loss: 0.2842 - dense_11_loss: 0.2949 - 99ms/epoch - 5ms/step\n",
      "Epoch 206/400\n",
      "20/20 - 0s - loss: 0.5768 - dense_10_loss: 0.2855 - dense_11_loss: 0.2913 - 101ms/epoch - 5ms/step\n",
      "Epoch 207/400\n",
      "20/20 - 0s - loss: 0.5775 - dense_10_loss: 0.2832 - dense_11_loss: 0.2943 - 101ms/epoch - 5ms/step\n",
      "Epoch 208/400\n",
      "20/20 - 0s - loss: 0.5792 - dense_10_loss: 0.2854 - dense_11_loss: 0.2937 - 143ms/epoch - 7ms/step\n",
      "Epoch 209/400\n",
      "20/20 - 0s - loss: 0.5784 - dense_10_loss: 0.2827 - dense_11_loss: 0.2957 - 108ms/epoch - 5ms/step\n",
      "Epoch 210/400\n",
      "20/20 - 0s - loss: 0.5746 - dense_10_loss: 0.2812 - dense_11_loss: 0.2935 - 102ms/epoch - 5ms/step\n",
      "Epoch 211/400\n",
      "20/20 - 0s - loss: 0.5748 - dense_10_loss: 0.2816 - dense_11_loss: 0.2932 - 108ms/epoch - 5ms/step\n",
      "Epoch 212/400\n",
      "20/20 - 0s - loss: 0.5726 - dense_10_loss: 0.2799 - dense_11_loss: 0.2926 - 101ms/epoch - 5ms/step\n",
      "Epoch 213/400\n",
      "20/20 - 0s - loss: 0.5777 - dense_10_loss: 0.2834 - dense_11_loss: 0.2943 - 102ms/epoch - 5ms/step\n",
      "Epoch 214/400\n",
      "20/20 - 0s - loss: 0.5782 - dense_10_loss: 0.2832 - dense_11_loss: 0.2950 - 102ms/epoch - 5ms/step\n",
      "Epoch 215/400\n",
      "20/20 - 0s - loss: 0.5749 - dense_10_loss: 0.2801 - dense_11_loss: 0.2948 - 102ms/epoch - 5ms/step\n",
      "Epoch 216/400\n",
      "20/20 - 0s - loss: 0.5706 - dense_10_loss: 0.2815 - dense_11_loss: 0.2891 - 101ms/epoch - 5ms/step\n",
      "Epoch 217/400\n",
      "20/20 - 0s - loss: 0.5750 - dense_10_loss: 0.2820 - dense_11_loss: 0.2930 - 101ms/epoch - 5ms/step\n",
      "Epoch 218/400\n",
      "20/20 - 0s - loss: 0.5707 - dense_10_loss: 0.2811 - dense_11_loss: 0.2897 - 100ms/epoch - 5ms/step\n",
      "Epoch 219/400\n",
      "20/20 - 0s - loss: 0.5705 - dense_10_loss: 0.2817 - dense_11_loss: 0.2888 - 101ms/epoch - 5ms/step\n",
      "Epoch 220/400\n",
      "20/20 - 0s - loss: 0.5695 - dense_10_loss: 0.2819 - dense_11_loss: 0.2876 - 104ms/epoch - 5ms/step\n",
      "Epoch 221/400\n",
      "20/20 - 0s - loss: 0.5691 - dense_10_loss: 0.2811 - dense_11_loss: 0.2880 - 106ms/epoch - 5ms/step\n",
      "Epoch 222/400\n",
      "20/20 - 0s - loss: 0.5711 - dense_10_loss: 0.2823 - dense_11_loss: 0.2888 - 104ms/epoch - 5ms/step\n",
      "Epoch 223/400\n",
      "20/20 - 0s - loss: 0.5688 - dense_10_loss: 0.2791 - dense_11_loss: 0.2897 - 103ms/epoch - 5ms/step\n",
      "Epoch 224/400\n",
      "20/20 - 0s - loss: 0.5752 - dense_10_loss: 0.2837 - dense_11_loss: 0.2915 - 108ms/epoch - 5ms/step\n",
      "Epoch 225/400\n",
      "20/20 - 0s - loss: 0.5744 - dense_10_loss: 0.2832 - dense_11_loss: 0.2912 - 111ms/epoch - 6ms/step\n",
      "Epoch 226/400\n",
      "20/20 - 0s - loss: 0.5666 - dense_10_loss: 0.2803 - dense_11_loss: 0.2863 - 111ms/epoch - 6ms/step\n",
      "Epoch 227/400\n",
      "20/20 - 0s - loss: 0.5683 - dense_10_loss: 0.2791 - dense_11_loss: 0.2892 - 139ms/epoch - 7ms/step\n",
      "Epoch 228/400\n",
      "20/20 - 0s - loss: 0.5645 - dense_10_loss: 0.2777 - dense_11_loss: 0.2868 - 116ms/epoch - 6ms/step\n",
      "Epoch 229/400\n",
      "20/20 - 0s - loss: 0.5684 - dense_10_loss: 0.2784 - dense_11_loss: 0.2899 - 103ms/epoch - 5ms/step\n",
      "Epoch 230/400\n",
      "20/20 - 0s - loss: 0.5712 - dense_10_loss: 0.2806 - dense_11_loss: 0.2907 - 105ms/epoch - 5ms/step\n",
      "Epoch 231/400\n",
      "20/20 - 0s - loss: 0.5640 - dense_10_loss: 0.2771 - dense_11_loss: 0.2869 - 101ms/epoch - 5ms/step\n",
      "Epoch 232/400\n",
      "20/20 - 0s - loss: 0.5684 - dense_10_loss: 0.2787 - dense_11_loss: 0.2897 - 105ms/epoch - 5ms/step\n",
      "Epoch 233/400\n",
      "20/20 - 0s - loss: 0.5646 - dense_10_loss: 0.2788 - dense_11_loss: 0.2858 - 102ms/epoch - 5ms/step\n",
      "Epoch 234/400\n",
      "20/20 - 0s - loss: 0.5666 - dense_10_loss: 0.2803 - dense_11_loss: 0.2863 - 103ms/epoch - 5ms/step\n",
      "Epoch 235/400\n",
      "20/20 - 0s - loss: 0.5595 - dense_10_loss: 0.2742 - dense_11_loss: 0.2853 - 103ms/epoch - 5ms/step\n",
      "Epoch 236/400\n",
      "20/20 - 0s - loss: 0.5640 - dense_10_loss: 0.2783 - dense_11_loss: 0.2857 - 105ms/epoch - 5ms/step\n",
      "Epoch 237/400\n",
      "20/20 - 0s - loss: 0.5639 - dense_10_loss: 0.2795 - dense_11_loss: 0.2845 - 104ms/epoch - 5ms/step\n",
      "Epoch 238/400\n",
      "20/20 - 0s - loss: 0.5636 - dense_10_loss: 0.2768 - dense_11_loss: 0.2867 - 102ms/epoch - 5ms/step\n",
      "Epoch 239/400\n",
      "20/20 - 0s - loss: 0.5644 - dense_10_loss: 0.2768 - dense_11_loss: 0.2876 - 102ms/epoch - 5ms/step\n",
      "Epoch 240/400\n",
      "20/20 - 0s - loss: 0.5606 - dense_10_loss: 0.2748 - dense_11_loss: 0.2858 - 101ms/epoch - 5ms/step\n",
      "Epoch 241/400\n",
      "20/20 - 0s - loss: 0.5595 - dense_10_loss: 0.2747 - dense_11_loss: 0.2847 - 100ms/epoch - 5ms/step\n",
      "Epoch 242/400\n",
      "20/20 - 0s - loss: 0.5579 - dense_10_loss: 0.2763 - dense_11_loss: 0.2816 - 101ms/epoch - 5ms/step\n",
      "Epoch 243/400\n",
      "20/20 - 0s - loss: 0.5609 - dense_10_loss: 0.2771 - dense_11_loss: 0.2838 - 102ms/epoch - 5ms/step\n",
      "Epoch 244/400\n",
      "20/20 - 0s - loss: 0.5624 - dense_10_loss: 0.2784 - dense_11_loss: 0.2840 - 104ms/epoch - 5ms/step\n",
      "Epoch 245/400\n",
      "20/20 - 0s - loss: 0.5604 - dense_10_loss: 0.2758 - dense_11_loss: 0.2846 - 102ms/epoch - 5ms/step\n",
      "Epoch 246/400\n",
      "20/20 - 0s - loss: 0.5558 - dense_10_loss: 0.2744 - dense_11_loss: 0.2814 - 104ms/epoch - 5ms/step\n",
      "Epoch 247/400\n",
      "20/20 - 0s - loss: 0.5507 - dense_10_loss: 0.2722 - dense_11_loss: 0.2785 - 117ms/epoch - 6ms/step\n",
      "Epoch 248/400\n",
      "20/20 - 0s - loss: 0.5528 - dense_10_loss: 0.2729 - dense_11_loss: 0.2799 - 113ms/epoch - 6ms/step\n",
      "Epoch 249/400\n",
      "20/20 - 0s - loss: 0.5640 - dense_10_loss: 0.2758 - dense_11_loss: 0.2881 - 103ms/epoch - 5ms/step\n",
      "Epoch 250/400\n",
      "20/20 - 0s - loss: 0.5662 - dense_10_loss: 0.2774 - dense_11_loss: 0.2888 - 104ms/epoch - 5ms/step\n",
      "Epoch 251/400\n",
      "20/20 - 0s - loss: 0.5612 - dense_10_loss: 0.2740 - dense_11_loss: 0.2873 - 102ms/epoch - 5ms/step\n",
      "Epoch 252/400\n",
      "20/20 - 0s - loss: 0.5538 - dense_10_loss: 0.2730 - dense_11_loss: 0.2808 - 103ms/epoch - 5ms/step\n",
      "Epoch 253/400\n",
      "20/20 - 0s - loss: 0.5544 - dense_10_loss: 0.2725 - dense_11_loss: 0.2818 - 104ms/epoch - 5ms/step\n",
      "Epoch 254/400\n",
      "20/20 - 0s - loss: 0.5527 - dense_10_loss: 0.2734 - dense_11_loss: 0.2793 - 104ms/epoch - 5ms/step\n",
      "Epoch 255/400\n",
      "20/20 - 0s - loss: 0.5513 - dense_10_loss: 0.2721 - dense_11_loss: 0.2792 - 101ms/epoch - 5ms/step\n",
      "Epoch 256/400\n",
      "20/20 - 0s - loss: 0.5537 - dense_10_loss: 0.2708 - dense_11_loss: 0.2829 - 103ms/epoch - 5ms/step\n",
      "Epoch 257/400\n",
      "20/20 - 0s - loss: 0.5549 - dense_10_loss: 0.2729 - dense_11_loss: 0.2820 - 104ms/epoch - 5ms/step\n",
      "Epoch 258/400\n",
      "20/20 - 0s - loss: 0.5573 - dense_10_loss: 0.2747 - dense_11_loss: 0.2827 - 102ms/epoch - 5ms/step\n",
      "Epoch 259/400\n",
      "20/20 - 0s - loss: 0.5555 - dense_10_loss: 0.2727 - dense_11_loss: 0.2828 - 107ms/epoch - 5ms/step\n",
      "Epoch 260/400\n",
      "20/20 - 0s - loss: 0.5604 - dense_10_loss: 0.2768 - dense_11_loss: 0.2836 - 104ms/epoch - 5ms/step\n",
      "Epoch 261/400\n",
      "20/20 - 0s - loss: 0.5559 - dense_10_loss: 0.2731 - dense_11_loss: 0.2828 - 111ms/epoch - 6ms/step\n",
      "Epoch 262/400\n",
      "20/20 - 0s - loss: 0.5565 - dense_10_loss: 0.2725 - dense_11_loss: 0.2840 - 103ms/epoch - 5ms/step\n",
      "Epoch 263/400\n",
      "20/20 - 0s - loss: 0.5538 - dense_10_loss: 0.2748 - dense_11_loss: 0.2790 - 100ms/epoch - 5ms/step\n",
      "Epoch 264/400\n",
      "20/20 - 0s - loss: 0.5529 - dense_10_loss: 0.2702 - dense_11_loss: 0.2826 - 103ms/epoch - 5ms/step\n",
      "Epoch 265/400\n",
      "20/20 - 0s - loss: 0.5546 - dense_10_loss: 0.2721 - dense_11_loss: 0.2826 - 104ms/epoch - 5ms/step\n",
      "Epoch 266/400\n",
      "20/20 - 0s - loss: 0.5560 - dense_10_loss: 0.2763 - dense_11_loss: 0.2797 - 99ms/epoch - 5ms/step\n",
      "Epoch 267/400\n",
      "20/20 - 0s - loss: 0.5466 - dense_10_loss: 0.2702 - dense_11_loss: 0.2764 - 101ms/epoch - 5ms/step\n",
      "Epoch 268/400\n",
      "20/20 - 0s - loss: 0.5458 - dense_10_loss: 0.2691 - dense_11_loss: 0.2767 - 110ms/epoch - 5ms/step\n",
      "Epoch 269/400\n",
      "20/20 - 0s - loss: 0.5434 - dense_10_loss: 0.2684 - dense_11_loss: 0.2749 - 110ms/epoch - 6ms/step\n",
      "Epoch 270/400\n",
      "20/20 - 0s - loss: 0.5475 - dense_10_loss: 0.2704 - dense_11_loss: 0.2771 - 102ms/epoch - 5ms/step\n",
      "Epoch 271/400\n",
      "20/20 - 0s - loss: 0.5520 - dense_10_loss: 0.2717 - dense_11_loss: 0.2804 - 103ms/epoch - 5ms/step\n",
      "Epoch 272/400\n",
      "20/20 - 0s - loss: 0.5553 - dense_10_loss: 0.2724 - dense_11_loss: 0.2829 - 110ms/epoch - 5ms/step\n",
      "Epoch 273/400\n",
      "20/20 - 0s - loss: 0.5445 - dense_10_loss: 0.2665 - dense_11_loss: 0.2780 - 103ms/epoch - 5ms/step\n",
      "Epoch 274/400\n",
      "20/20 - 0s - loss: 0.5377 - dense_10_loss: 0.2651 - dense_11_loss: 0.2726 - 102ms/epoch - 5ms/step\n",
      "Epoch 275/400\n",
      "20/20 - 0s - loss: 0.5449 - dense_10_loss: 0.2680 - dense_11_loss: 0.2769 - 102ms/epoch - 5ms/step\n",
      "Epoch 276/400\n",
      "20/20 - 0s - loss: 0.5431 - dense_10_loss: 0.2673 - dense_11_loss: 0.2759 - 103ms/epoch - 5ms/step\n",
      "Epoch 277/400\n",
      "20/20 - 0s - loss: 0.5473 - dense_10_loss: 0.2707 - dense_11_loss: 0.2766 - 103ms/epoch - 5ms/step\n",
      "Epoch 278/400\n",
      "20/20 - 0s - loss: 0.5428 - dense_10_loss: 0.2676 - dense_11_loss: 0.2752 - 103ms/epoch - 5ms/step\n",
      "Epoch 279/400\n",
      "20/20 - 0s - loss: 0.5424 - dense_10_loss: 0.2667 - dense_11_loss: 0.2756 - 102ms/epoch - 5ms/step\n",
      "Epoch 280/400\n",
      "20/20 - 0s - loss: 0.5448 - dense_10_loss: 0.2669 - dense_11_loss: 0.2779 - 101ms/epoch - 5ms/step\n",
      "Epoch 281/400\n",
      "20/20 - 0s - loss: 0.5415 - dense_10_loss: 0.2674 - dense_11_loss: 0.2741 - 101ms/epoch - 5ms/step\n",
      "Epoch 282/400\n",
      "20/20 - 0s - loss: 0.5412 - dense_10_loss: 0.2672 - dense_11_loss: 0.2740 - 102ms/epoch - 5ms/step\n",
      "Epoch 283/400\n",
      "20/20 - 0s - loss: 0.5423 - dense_10_loss: 0.2670 - dense_11_loss: 0.2753 - 104ms/epoch - 5ms/step\n",
      "Epoch 284/400\n",
      "20/20 - 0s - loss: 0.5413 - dense_10_loss: 0.2666 - dense_11_loss: 0.2747 - 104ms/epoch - 5ms/step\n",
      "Epoch 285/400\n",
      "20/20 - 0s - loss: 0.5427 - dense_10_loss: 0.2687 - dense_11_loss: 0.2740 - 101ms/epoch - 5ms/step\n",
      "Epoch 286/400\n",
      "20/20 - 0s - loss: 0.5426 - dense_10_loss: 0.2693 - dense_11_loss: 0.2734 - 101ms/epoch - 5ms/step\n",
      "Epoch 287/400\n",
      "20/20 - 0s - loss: 0.5401 - dense_10_loss: 0.2677 - dense_11_loss: 0.2725 - 104ms/epoch - 5ms/step\n",
      "Epoch 288/400\n",
      "20/20 - 0s - loss: 0.5363 - dense_10_loss: 0.2638 - dense_11_loss: 0.2726 - 103ms/epoch - 5ms/step\n",
      "Epoch 289/400\n",
      "20/20 - 0s - loss: 0.5382 - dense_10_loss: 0.2616 - dense_11_loss: 0.2766 - 103ms/epoch - 5ms/step\n",
      "Epoch 290/400\n",
      "20/20 - 0s - loss: 0.5396 - dense_10_loss: 0.2671 - dense_11_loss: 0.2726 - 103ms/epoch - 5ms/step\n",
      "Epoch 291/400\n",
      "20/20 - 0s - loss: 0.5371 - dense_10_loss: 0.2650 - dense_11_loss: 0.2721 - 103ms/epoch - 5ms/step\n",
      "Epoch 292/400\n",
      "20/20 - 0s - loss: 0.5389 - dense_10_loss: 0.2679 - dense_11_loss: 0.2710 - 105ms/epoch - 5ms/step\n",
      "Epoch 293/400\n",
      "20/20 - 0s - loss: 0.5389 - dense_10_loss: 0.2671 - dense_11_loss: 0.2719 - 106ms/epoch - 5ms/step\n",
      "Epoch 294/400\n",
      "20/20 - 0s - loss: 0.5450 - dense_10_loss: 0.2694 - dense_11_loss: 0.2756 - 105ms/epoch - 5ms/step\n",
      "Epoch 295/400\n",
      "20/20 - 0s - loss: 0.5418 - dense_10_loss: 0.2705 - dense_11_loss: 0.2713 - 104ms/epoch - 5ms/step\n",
      "Epoch 296/400\n",
      "20/20 - 0s - loss: 0.5435 - dense_10_loss: 0.2699 - dense_11_loss: 0.2736 - 103ms/epoch - 5ms/step\n",
      "Epoch 297/400\n",
      "20/20 - 0s - loss: 0.5358 - dense_10_loss: 0.2642 - dense_11_loss: 0.2716 - 104ms/epoch - 5ms/step\n",
      "Epoch 298/400\n",
      "20/20 - 0s - loss: 0.5359 - dense_10_loss: 0.2641 - dense_11_loss: 0.2718 - 104ms/epoch - 5ms/step\n",
      "Epoch 299/400\n",
      "20/20 - 0s - loss: 0.5337 - dense_10_loss: 0.2605 - dense_11_loss: 0.2732 - 103ms/epoch - 5ms/step\n",
      "Epoch 300/400\n",
      "20/20 - 0s - loss: 0.5358 - dense_10_loss: 0.2641 - dense_11_loss: 0.2718 - 103ms/epoch - 5ms/step\n",
      "Epoch 301/400\n",
      "20/20 - 0s - loss: 0.5385 - dense_10_loss: 0.2663 - dense_11_loss: 0.2722 - 100ms/epoch - 5ms/step\n",
      "Epoch 302/400\n",
      "20/20 - 0s - loss: 0.5426 - dense_10_loss: 0.2679 - dense_11_loss: 0.2748 - 104ms/epoch - 5ms/step\n",
      "Epoch 303/400\n",
      "20/20 - 0s - loss: 0.5357 - dense_10_loss: 0.2628 - dense_11_loss: 0.2729 - 103ms/epoch - 5ms/step\n",
      "Epoch 304/400\n",
      "20/20 - 0s - loss: 0.5317 - dense_10_loss: 0.2627 - dense_11_loss: 0.2689 - 102ms/epoch - 5ms/step\n",
      "Epoch 305/400\n",
      "20/20 - 0s - loss: 0.5377 - dense_10_loss: 0.2663 - dense_11_loss: 0.2715 - 106ms/epoch - 5ms/step\n",
      "Epoch 306/400\n",
      "20/20 - 0s - loss: 0.5352 - dense_10_loss: 0.2620 - dense_11_loss: 0.2732 - 107ms/epoch - 5ms/step\n",
      "Epoch 307/400\n",
      "20/20 - 0s - loss: 0.5359 - dense_10_loss: 0.2659 - dense_11_loss: 0.2700 - 103ms/epoch - 5ms/step\n",
      "Epoch 308/400\n",
      "20/20 - 0s - loss: 0.5304 - dense_10_loss: 0.2620 - dense_11_loss: 0.2684 - 104ms/epoch - 5ms/step\n",
      "Epoch 309/400\n",
      "20/20 - 0s - loss: 0.5322 - dense_10_loss: 0.2623 - dense_11_loss: 0.2699 - 101ms/epoch - 5ms/step\n",
      "Epoch 310/400\n",
      "20/20 - 0s - loss: 0.5337 - dense_10_loss: 0.2650 - dense_11_loss: 0.2687 - 103ms/epoch - 5ms/step\n",
      "Epoch 311/400\n",
      "20/20 - 0s - loss: 0.5332 - dense_10_loss: 0.2619 - dense_11_loss: 0.2714 - 103ms/epoch - 5ms/step\n",
      "Epoch 312/400\n",
      "20/20 - 0s - loss: 0.5323 - dense_10_loss: 0.2622 - dense_11_loss: 0.2701 - 106ms/epoch - 5ms/step\n",
      "Epoch 313/400\n",
      "20/20 - 0s - loss: 0.5298 - dense_10_loss: 0.2622 - dense_11_loss: 0.2676 - 103ms/epoch - 5ms/step\n",
      "Epoch 314/400\n",
      "20/20 - 0s - loss: 0.5292 - dense_10_loss: 0.2607 - dense_11_loss: 0.2685 - 102ms/epoch - 5ms/step\n",
      "Epoch 315/400\n",
      "20/20 - 0s - loss: 0.5320 - dense_10_loss: 0.2638 - dense_11_loss: 0.2681 - 103ms/epoch - 5ms/step\n",
      "Epoch 316/400\n",
      "20/20 - 0s - loss: 0.5283 - dense_10_loss: 0.2604 - dense_11_loss: 0.2679 - 102ms/epoch - 5ms/step\n",
      "Epoch 317/400\n",
      "20/20 - 0s - loss: 0.5310 - dense_10_loss: 0.2616 - dense_11_loss: 0.2694 - 103ms/epoch - 5ms/step\n",
      "Epoch 318/400\n",
      "20/20 - 0s - loss: 0.5287 - dense_10_loss: 0.2603 - dense_11_loss: 0.2684 - 105ms/epoch - 5ms/step\n",
      "Epoch 319/400\n",
      "20/20 - 0s - loss: 0.5296 - dense_10_loss: 0.2630 - dense_11_loss: 0.2666 - 105ms/epoch - 5ms/step\n",
      "Epoch 320/400\n",
      "20/20 - 0s - loss: 0.5320 - dense_10_loss: 0.2608 - dense_11_loss: 0.2712 - 103ms/epoch - 5ms/step\n",
      "Epoch 321/400\n",
      "20/20 - 0s - loss: 0.5286 - dense_10_loss: 0.2614 - dense_11_loss: 0.2672 - 105ms/epoch - 5ms/step\n",
      "Epoch 322/400\n",
      "20/20 - 0s - loss: 0.5273 - dense_10_loss: 0.2593 - dense_11_loss: 0.2680 - 106ms/epoch - 5ms/step\n",
      "Epoch 323/400\n",
      "20/20 - 0s - loss: 0.5293 - dense_10_loss: 0.2630 - dense_11_loss: 0.2663 - 107ms/epoch - 5ms/step\n",
      "Epoch 324/400\n",
      "20/20 - 0s - loss: 0.5268 - dense_10_loss: 0.2591 - dense_11_loss: 0.2677 - 104ms/epoch - 5ms/step\n",
      "Epoch 325/400\n",
      "20/20 - 0s - loss: 0.5303 - dense_10_loss: 0.2621 - dense_11_loss: 0.2681 - 102ms/epoch - 5ms/step\n",
      "Epoch 326/400\n",
      "20/20 - 0s - loss: 0.5200 - dense_10_loss: 0.2576 - dense_11_loss: 0.2624 - 104ms/epoch - 5ms/step\n",
      "Epoch 327/400\n",
      "20/20 - 0s - loss: 0.5239 - dense_10_loss: 0.2581 - dense_11_loss: 0.2659 - 103ms/epoch - 5ms/step\n",
      "Epoch 328/400\n",
      "20/20 - 0s - loss: 0.5279 - dense_10_loss: 0.2606 - dense_11_loss: 0.2673 - 104ms/epoch - 5ms/step\n",
      "Epoch 329/400\n",
      "20/20 - 0s - loss: 0.5239 - dense_10_loss: 0.2608 - dense_11_loss: 0.2631 - 105ms/epoch - 5ms/step\n",
      "Epoch 330/400\n",
      "20/20 - 0s - loss: 0.5303 - dense_10_loss: 0.2632 - dense_11_loss: 0.2671 - 103ms/epoch - 5ms/step\n",
      "Epoch 331/400\n",
      "20/20 - 0s - loss: 0.5250 - dense_10_loss: 0.2562 - dense_11_loss: 0.2687 - 103ms/epoch - 5ms/step\n",
      "Epoch 332/400\n",
      "20/20 - 0s - loss: 0.5255 - dense_10_loss: 0.2584 - dense_11_loss: 0.2671 - 103ms/epoch - 5ms/step\n",
      "Epoch 333/400\n",
      "20/20 - 0s - loss: 0.5252 - dense_10_loss: 0.2575 - dense_11_loss: 0.2677 - 103ms/epoch - 5ms/step\n",
      "Epoch 334/400\n",
      "20/20 - 0s - loss: 0.5233 - dense_10_loss: 0.2563 - dense_11_loss: 0.2671 - 105ms/epoch - 5ms/step\n",
      "Epoch 335/400\n",
      "20/20 - 0s - loss: 0.5205 - dense_10_loss: 0.2559 - dense_11_loss: 0.2646 - 103ms/epoch - 5ms/step\n",
      "Epoch 336/400\n",
      "20/20 - 0s - loss: 0.5221 - dense_10_loss: 0.2594 - dense_11_loss: 0.2627 - 103ms/epoch - 5ms/step\n",
      "Epoch 337/400\n",
      "20/20 - 0s - loss: 0.5273 - dense_10_loss: 0.2610 - dense_11_loss: 0.2663 - 103ms/epoch - 5ms/step\n",
      "Epoch 338/400\n",
      "20/20 - 0s - loss: 0.5310 - dense_10_loss: 0.2600 - dense_11_loss: 0.2710 - 105ms/epoch - 5ms/step\n",
      "Epoch 339/400\n",
      "20/20 - 0s - loss: 0.5227 - dense_10_loss: 0.2576 - dense_11_loss: 0.2651 - 103ms/epoch - 5ms/step\n",
      "Epoch 340/400\n",
      "20/20 - 0s - loss: 0.5226 - dense_10_loss: 0.2579 - dense_11_loss: 0.2647 - 103ms/epoch - 5ms/step\n",
      "Epoch 341/400\n",
      "20/20 - 0s - loss: 0.5237 - dense_10_loss: 0.2592 - dense_11_loss: 0.2645 - 105ms/epoch - 5ms/step\n",
      "Epoch 342/400\n",
      "20/20 - 0s - loss: 0.5231 - dense_10_loss: 0.2593 - dense_11_loss: 0.2638 - 103ms/epoch - 5ms/step\n",
      "Epoch 343/400\n",
      "20/20 - 0s - loss: 0.5187 - dense_10_loss: 0.2553 - dense_11_loss: 0.2634 - 101ms/epoch - 5ms/step\n",
      "Epoch 344/400\n",
      "20/20 - 0s - loss: 0.5225 - dense_10_loss: 0.2588 - dense_11_loss: 0.2637 - 103ms/epoch - 5ms/step\n",
      "Epoch 345/400\n",
      "20/20 - 0s - loss: 0.5271 - dense_10_loss: 0.2601 - dense_11_loss: 0.2670 - 103ms/epoch - 5ms/step\n",
      "Epoch 346/400\n",
      "20/20 - 0s - loss: 0.5216 - dense_10_loss: 0.2563 - dense_11_loss: 0.2654 - 102ms/epoch - 5ms/step\n",
      "Epoch 347/400\n",
      "20/20 - 0s - loss: 0.5192 - dense_10_loss: 0.2545 - dense_11_loss: 0.2647 - 103ms/epoch - 5ms/step\n",
      "Epoch 348/400\n",
      "20/20 - 0s - loss: 0.5215 - dense_10_loss: 0.2561 - dense_11_loss: 0.2654 - 105ms/epoch - 5ms/step\n",
      "Epoch 349/400\n",
      "20/20 - 0s - loss: 0.5288 - dense_10_loss: 0.2606 - dense_11_loss: 0.2681 - 101ms/epoch - 5ms/step\n",
      "Epoch 350/400\n",
      "20/20 - 0s - loss: 0.5262 - dense_10_loss: 0.2621 - dense_11_loss: 0.2641 - 100ms/epoch - 5ms/step\n",
      "Epoch 351/400\n",
      "20/20 - 0s - loss: 0.5154 - dense_10_loss: 0.2540 - dense_11_loss: 0.2613 - 104ms/epoch - 5ms/step\n",
      "Epoch 352/400\n",
      "20/20 - 0s - loss: 0.5172 - dense_10_loss: 0.2560 - dense_11_loss: 0.2612 - 110ms/epoch - 5ms/step\n",
      "Epoch 353/400\n",
      "20/20 - 0s - loss: 0.5149 - dense_10_loss: 0.2543 - dense_11_loss: 0.2606 - 112ms/epoch - 6ms/step\n",
      "Epoch 354/400\n",
      "20/20 - 0s - loss: 0.5179 - dense_10_loss: 0.2541 - dense_11_loss: 0.2638 - 104ms/epoch - 5ms/step\n",
      "Epoch 355/400\n",
      "20/20 - 0s - loss: 0.5265 - dense_10_loss: 0.2635 - dense_11_loss: 0.2630 - 100ms/epoch - 5ms/step\n",
      "Epoch 356/400\n",
      "20/20 - 0s - loss: 0.5186 - dense_10_loss: 0.2570 - dense_11_loss: 0.2616 - 102ms/epoch - 5ms/step\n",
      "Epoch 357/400\n",
      "20/20 - 0s - loss: 0.5150 - dense_10_loss: 0.2552 - dense_11_loss: 0.2598 - 104ms/epoch - 5ms/step\n",
      "Epoch 358/400\n",
      "20/20 - 0s - loss: 0.5112 - dense_10_loss: 0.2523 - dense_11_loss: 0.2590 - 101ms/epoch - 5ms/step\n",
      "Epoch 359/400\n",
      "20/20 - 0s - loss: 0.5165 - dense_10_loss: 0.2532 - dense_11_loss: 0.2634 - 106ms/epoch - 5ms/step\n",
      "Epoch 360/400\n",
      "20/20 - 0s - loss: 0.5140 - dense_10_loss: 0.2528 - dense_11_loss: 0.2612 - 103ms/epoch - 5ms/step\n",
      "Epoch 361/400\n",
      "20/20 - 0s - loss: 0.5136 - dense_10_loss: 0.2570 - dense_11_loss: 0.2566 - 103ms/epoch - 5ms/step\n",
      "Epoch 362/400\n",
      "20/20 - 0s - loss: 0.5135 - dense_10_loss: 0.2537 - dense_11_loss: 0.2598 - 115ms/epoch - 6ms/step\n",
      "Epoch 363/400\n",
      "20/20 - 0s - loss: 0.5139 - dense_10_loss: 0.2534 - dense_11_loss: 0.2605 - 116ms/epoch - 6ms/step\n",
      "Epoch 364/400\n",
      "20/20 - 0s - loss: 0.5118 - dense_10_loss: 0.2532 - dense_11_loss: 0.2585 - 107ms/epoch - 5ms/step\n",
      "Epoch 365/400\n",
      "20/20 - 0s - loss: 0.5193 - dense_10_loss: 0.2576 - dense_11_loss: 0.2617 - 108ms/epoch - 5ms/step\n",
      "Epoch 366/400\n",
      "20/20 - 0s - loss: 0.5106 - dense_10_loss: 0.2532 - dense_11_loss: 0.2575 - 104ms/epoch - 5ms/step\n",
      "Epoch 367/400\n",
      "20/20 - 0s - loss: 0.5105 - dense_10_loss: 0.2516 - dense_11_loss: 0.2589 - 102ms/epoch - 5ms/step\n",
      "Epoch 368/400\n",
      "20/20 - 0s - loss: 0.5106 - dense_10_loss: 0.2527 - dense_11_loss: 0.2579 - 102ms/epoch - 5ms/step\n",
      "Epoch 369/400\n",
      "20/20 - 0s - loss: 0.5043 - dense_10_loss: 0.2498 - dense_11_loss: 0.2545 - 106ms/epoch - 5ms/step\n",
      "Epoch 370/400\n",
      "20/20 - 0s - loss: 0.5104 - dense_10_loss: 0.2533 - dense_11_loss: 0.2570 - 103ms/epoch - 5ms/step\n",
      "Epoch 371/400\n",
      "20/20 - 0s - loss: 0.5102 - dense_10_loss: 0.2509 - dense_11_loss: 0.2593 - 103ms/epoch - 5ms/step\n",
      "Epoch 372/400\n",
      "20/20 - 0s - loss: 0.5135 - dense_10_loss: 0.2503 - dense_11_loss: 0.2632 - 104ms/epoch - 5ms/step\n",
      "Epoch 373/400\n",
      "20/20 - 0s - loss: 0.5105 - dense_10_loss: 0.2531 - dense_11_loss: 0.2574 - 102ms/epoch - 5ms/step\n",
      "Epoch 374/400\n",
      "20/20 - 0s - loss: 0.5113 - dense_10_loss: 0.2541 - dense_11_loss: 0.2572 - 102ms/epoch - 5ms/step\n",
      "Epoch 375/400\n",
      "20/20 - 0s - loss: 0.5119 - dense_10_loss: 0.2514 - dense_11_loss: 0.2605 - 104ms/epoch - 5ms/step\n",
      "Epoch 376/400\n",
      "20/20 - 0s - loss: 0.5090 - dense_10_loss: 0.2510 - dense_11_loss: 0.2580 - 102ms/epoch - 5ms/step\n",
      "Epoch 377/400\n",
      "20/20 - 0s - loss: 0.5076 - dense_10_loss: 0.2499 - dense_11_loss: 0.2576 - 102ms/epoch - 5ms/step\n",
      "Epoch 378/400\n",
      "20/20 - 0s - loss: 0.5129 - dense_10_loss: 0.2536 - dense_11_loss: 0.2593 - 101ms/epoch - 5ms/step\n",
      "Epoch 379/400\n",
      "20/20 - 0s - loss: 0.5057 - dense_10_loss: 0.2512 - dense_11_loss: 0.2545 - 103ms/epoch - 5ms/step\n",
      "Epoch 380/400\n",
      "20/20 - 0s - loss: 0.5070 - dense_10_loss: 0.2508 - dense_11_loss: 0.2561 - 105ms/epoch - 5ms/step\n",
      "Epoch 381/400\n",
      "20/20 - 0s - loss: 0.5080 - dense_10_loss: 0.2509 - dense_11_loss: 0.2571 - 101ms/epoch - 5ms/step\n",
      "Epoch 382/400\n",
      "20/20 - 0s - loss: 0.5094 - dense_10_loss: 0.2524 - dense_11_loss: 0.2570 - 102ms/epoch - 5ms/step\n",
      "Epoch 383/400\n",
      "20/20 - 0s - loss: 0.5139 - dense_10_loss: 0.2534 - dense_11_loss: 0.2605 - 106ms/epoch - 5ms/step\n",
      "Epoch 384/400\n",
      "20/20 - 0s - loss: 0.5092 - dense_10_loss: 0.2504 - dense_11_loss: 0.2587 - 103ms/epoch - 5ms/step\n",
      "Epoch 385/400\n",
      "20/20 - 0s - loss: 0.5038 - dense_10_loss: 0.2496 - dense_11_loss: 0.2542 - 104ms/epoch - 5ms/step\n",
      "Epoch 386/400\n",
      "20/20 - 0s - loss: 0.5108 - dense_10_loss: 0.2526 - dense_11_loss: 0.2582 - 106ms/epoch - 5ms/step\n",
      "Epoch 387/400\n",
      "20/20 - 0s - loss: 0.5054 - dense_10_loss: 0.2487 - dense_11_loss: 0.2567 - 104ms/epoch - 5ms/step\n",
      "Epoch 388/400\n",
      "20/20 - 0s - loss: 0.5061 - dense_10_loss: 0.2493 - dense_11_loss: 0.2568 - 104ms/epoch - 5ms/step\n",
      "Epoch 389/400\n",
      "20/20 - 0s - loss: 0.5033 - dense_10_loss: 0.2475 - dense_11_loss: 0.2558 - 103ms/epoch - 5ms/step\n",
      "Epoch 390/400\n",
      "20/20 - 0s - loss: 0.5088 - dense_10_loss: 0.2495 - dense_11_loss: 0.2593 - 103ms/epoch - 5ms/step\n",
      "Epoch 391/400\n",
      "20/20 - 0s - loss: 0.5041 - dense_10_loss: 0.2493 - dense_11_loss: 0.2548 - 103ms/epoch - 5ms/step\n",
      "Epoch 392/400\n",
      "20/20 - 0s - loss: 0.5024 - dense_10_loss: 0.2483 - dense_11_loss: 0.2541 - 102ms/epoch - 5ms/step\n",
      "Epoch 393/400\n",
      "20/20 - 0s - loss: 0.5099 - dense_10_loss: 0.2510 - dense_11_loss: 0.2589 - 102ms/epoch - 5ms/step\n",
      "Epoch 394/400\n",
      "20/20 - 0s - loss: 0.5042 - dense_10_loss: 0.2478 - dense_11_loss: 0.2564 - 102ms/epoch - 5ms/step\n",
      "Epoch 395/400\n",
      "20/20 - 0s - loss: 0.5045 - dense_10_loss: 0.2489 - dense_11_loss: 0.2555 - 104ms/epoch - 5ms/step\n",
      "Epoch 396/400\n",
      "20/20 - 0s - loss: 0.5068 - dense_10_loss: 0.2495 - dense_11_loss: 0.2573 - 104ms/epoch - 5ms/step\n",
      "Epoch 397/400\n",
      "20/20 - 0s - loss: 0.5075 - dense_10_loss: 0.2493 - dense_11_loss: 0.2582 - 102ms/epoch - 5ms/step\n",
      "Epoch 398/400\n",
      "20/20 - 0s - loss: 0.5044 - dense_10_loss: 0.2502 - dense_11_loss: 0.2542 - 105ms/epoch - 5ms/step\n",
      "Epoch 399/400\n",
      "20/20 - 0s - loss: 0.5091 - dense_10_loss: 0.2534 - dense_11_loss: 0.2557 - 103ms/epoch - 5ms/step\n",
      "Epoch 400/400\n",
      "20/20 - 0s - loss: 0.5049 - dense_10_loss: 0.2502 - dense_11_loss: 0.2547 - 101ms/epoch - 5ms/step\n"
     ]
    },
    {
     "data": {
      "text/plain": [
       "<keras.callbacks.History at 0x294b37a90>"
      ]
     },
     "execution_count": 29,
     "metadata": {},
     "output_type": "execute_result"
    }
   ],
   "source": [
    "y_vel_x, y_vel_y = train[1], train[2] # separate the y data into x and y position columns\n",
    "model.fit(train[0], [y_vel_x, y_vel_y], epochs=400, batch_size=32, verbose=2)"
   ]
  },
  {
   "cell_type": "code",
   "execution_count": 30,
   "id": "BqPlv1LBOx7C",
   "metadata": {
    "colab": {
     "base_uri": "https://localhost:8080/"
    },
    "id": "BqPlv1LBOx7C",
    "outputId": "81501cf3-4d2c-4958-a105-fb52f5b8c1f5"
   },
   "outputs": [
    {
     "name": "stdout",
     "output_type": "stream",
     "text": [
      "Train Score: 0.50\n"
     ]
    },
    {
     "name": "stderr",
     "output_type": "stream",
     "text": [
      "2022-01-13 16:54:58.175232: I tensorflow/core/grappler/optimizers/custom_graph_optimizer_registry.cc:112] Plugin optimizer for device_type GPU is enabled.\n"
     ]
    },
    {
     "name": "stdout",
     "output_type": "stream",
     "text": [
      "Test Score: 0.98\n"
     ]
    }
   ],
   "source": [
    "trainScore = model.evaluate(train[0], [train[1], train[2]], verbose=0)\n",
    "print('Train Score: %.2f' % (trainScore[0]))\n",
    "\n",
    "testScore = model.evaluate(test[0], [test[1], test[2]], verbose=0)\n",
    "print('Test Score: %.2f' % (testScore[0]))"
   ]
  },
  {
   "cell_type": "markdown",
   "id": "f13b77d2",
   "metadata": {},
   "source": [
    "## Making predictions on test data"
   ]
  },
  {
   "cell_type": "code",
   "execution_count": 31,
   "id": "wdLHm-yCNbJU",
   "metadata": {
    "colab": {
     "base_uri": "https://localhost:8080/",
     "height": 1000
    },
    "id": "wdLHm-yCNbJU",
    "outputId": "19757ef5-3529-4b8e-b5b8-1f7b43deff58"
   },
   "outputs": [
    {
     "name": "stderr",
     "output_type": "stream",
     "text": [
      "2022-01-13 16:55:01.835168: I tensorflow/core/grappler/optimizers/custom_graph_optimizer_registry.cc:112] Plugin optimizer for device_type GPU is enabled.\n"
     ]
    },
    {
     "data": {
      "image/png": "[encoded data removed]",
      "text/plain": [
       "<Figure size 432x288 with 1 Axes>"
      ]
     },
     "metadata": {
      "needs_background": "light"
     },
     "output_type": "display_data"
    },
    {
     "data": {
      "image/png": "[encoded data removed]",
      "text/plain": [
       "<Figure size 432x288 with 1 Axes>"
      ]
     },
     "metadata": {
      "needs_background": "light"
     },
     "output_type": "display_data"
    },
    {
     "data": {
      "image/png": "[encoded data removed]",
      "text/plain": [
       "<Figure size 432x288 with 1 Axes>"
      ]
     },
     "metadata": {
      "needs_background": "light"
     },
     "output_type": "display_data"
    },
    {
     "data": {
      "image/png": "[encoded data removed]",
      "text/plain": [
       "<Figure size 432x288 with 1 Axes>"
      ]
     },
     "metadata": {
      "needs_background": "light"
     },
     "output_type": "display_data"
    },
    {
     "data": {
      "image/png": "[encoded data removed]",
      "text/plain": [
       "<Figure size 432x288 with 1 Axes>"
      ]
     },
     "metadata": {
      "needs_background": "light"
     },
     "output_type": "display_data"
    },
    {
     "data": {
      "image/png": "[encoded data removed]",
      "text/plain": [
       "<Figure size 432x288 with 1 Axes>"
      ]
     },
     "metadata": {
      "needs_background": "light"
     },
     "output_type": "display_data"
    },
    {
     "data": {
      "image/png": "[encoded data removed]",
      "text/plain": [
       "<Figure size 432x288 with 1 Axes>"
      ]
     },
     "metadata": {
      "needs_background": "light"
     },
     "output_type": "display_data"
    },
    {
     "data": {
      "image/png": "[encoded data removed]",
      "text/plain": [
       "<Figure size 432x288 with 1 Axes>"
      ]
     },
     "metadata": {
      "needs_background": "light"
     },
     "output_type": "display_data"
    },
    {
     "data": {
      "image/png": "[encoded data removed]",
      "text/plain": [
       "<Figure size 432x288 with 1 Axes>"
      ]
     },
     "metadata": {
      "needs_background": "light"
     },
     "output_type": "display_data"
    },
    {
     "data": {
      "image/png": "[encoded data removed]",
      "text/plain": [
       "<Figure size 432x288 with 1 Axes>"
      ]
     },
     "metadata": {
      "needs_background": "light"
     },
     "output_type": "display_data"
    },
    {
     "data": {
      "image/png": "[encoded data removed]",
      "text/plain": [
       "<Figure size 432x288 with 1 Axes>"
      ]
     },
     "metadata": {
      "needs_background": "light"
     },
     "output_type": "display_data"
    },
    {
     "data": {
      "image/png": "[encoded data removed]",
      "text/plain": [
       "<Figure size 432x288 with 1 Axes>"
      ]
     },
     "metadata": {
      "needs_background": "light"
     },
     "output_type": "display_data"
    },
    {
     "data": {
      "image/png": "[encoded data removed]",
      "text/plain": [
       "<Figure size 432x288 with 1 Axes>"
      ]
     },
     "metadata": {
      "needs_background": "light"
     },
     "output_type": "display_data"
    },
    {
     "data": {
      "image/png": "[encoded data removed]",
      "text/plain": [
       "<Figure size 432x288 with 1 Axes>"
      ]
     },
     "metadata": {
      "needs_background": "light"
     },
     "output_type": "display_data"
    },
    {
     "data": {
      "image/png": "[encoded data removed]",
      "text/plain": [
       "<Figure size 432x288 with 1 Axes>"
      ]
     },
     "metadata": {
      "needs_background": "light"
     },
     "output_type": "display_data"
    },
    {
     "data": {
      "image/png": "[encoded data removed]",
      "text/plain": [
       "<Figure size 432x288 with 1 Axes>"
      ]
     },
     "metadata": {
      "needs_background": "light"
     },
     "output_type": "display_data"
    },
    {
     "data": {
      "image/png": "[encoded data removed]",
      "text/plain": [
       "<Figure size 432x288 with 1 Axes>"
      ]
     },
     "metadata": {
      "needs_background": "light"
     },
     "output_type": "display_data"
    },
    {
     "data": {
      "image/png": "[encoded data removed]",
      "text/plain": [
       "<Figure size 432x288 with 1 Axes>"
      ]
     },
     "metadata": {
      "needs_background": "light"
     },
     "output_type": "display_data"
    },
    {
     "data": {
      "image/png": "[encoded data removed]",
      "text/plain": [
       "<Figure size 432x288 with 1 Axes>"
      ]
     },
     "metadata": {
      "needs_background": "light"
     },
     "output_type": "display_data"
    },
    {
     "data": {
      "image/png": "[encoded data removed]",
      "text/plain": [
       "<Figure size 432x288 with 1 Axes>"
      ]
     },
     "metadata": {
      "needs_background": "light"
     },
     "output_type": "display_data"
    },
    {
     "name": "stdout",
     "output_type": "stream",
     "text": [
      "Average FDE:  2.238791467939892\n"
     ]
    }
   ],
   "source": [
    "all_FDE = []\n",
    "plotting = True\n",
    "no_of_plotted_trajectories = 20\n",
    "\n",
    "for idx, agent_id in enumerate(test_agent_ids):\n",
    "\n",
    "    seen_x = np.array(data[data['agent_id'] == agent_id].iloc[:5]['pos_x'])\n",
    "    seen_y = np.array(data[data['agent_id'] == agent_id].iloc[:5]['pos_y'])\n",
    "    \n",
    "    seen_vel_x = np.array(data[data['agent_id'] == agent_id].iloc[1:5]['vel_x'])\n",
    "    seen_vel_y = np.array(data[data['agent_id'] == agent_id].iloc[1:5]['vel_y'])\n",
    "    \n",
    "    unseen_x = np.array(data[data['agent_id'] == agent_id].iloc[5:10]['pos_x'])\n",
    "    unseen_y = np.array(data[data['agent_id'] == agent_id].iloc[5:10]['pos_y'])\n",
    "\n",
    "    pred_vel_x, pred_vel_y = model.predict(np.array([np.column_stack((seen_vel_x, seen_vel_y))]))\n",
    "    pred_vel_x = pred_vel_x[0] # destructure the prediction array as it is [[x1, x2, x3...]]\n",
    "    pred_vel_y = pred_vel_y[0]\n",
    "    \n",
    "    pred_coord_x = [seen_x[-1] + pred_vel_x[0]]\n",
    "    pred_coord_y = [seen_y[-1] + pred_vel_y[0]]\n",
    "    \n",
    "    for i in range(1, 5):\n",
    "        pred_coord_x.append(pred_coord_x[-1] + pred_vel_x[i])\n",
    "        pred_coord_y.append(pred_coord_y[-1] + pred_vel_y[i])\n",
    "\n",
    "    FDE = np.sqrt((pred_coord_x[-1] - unseen_x[-1])**2 + (pred_coord_y[-1] - unseen_y[-1])**2)\n",
    "    all_FDE.append(FDE)\n",
    "    # plot data\n",
    "    if plotting and idx < no_of_plotted_trajectories:\n",
    "        plt.axes().set_aspect('equal')\n",
    "\n",
    "        plt.plot(np.append(seen_x, unseen_x), np.append(seen_y, unseen_y), color='g')\n",
    "        plt.scatter(np.append(seen_x, unseen_x), np.append(seen_y, unseen_y), color='g')\n",
    "\n",
    "        plt.plot(pred_coord_x, pred_coord_y, color='r')\n",
    "        plt.scatter(pred_coord_x, pred_coord_y, color='r')\n",
    "\n",
    "        plt.scatter(seen_x[0], seen_y[0], color='b')\n",
    "\n",
    "        plt.show()\n",
    "\n",
    "print(\"Average FDE: \", np.mean(all_FDE))"
   ]
  },
  {
   "cell_type": "code",
   "execution_count": 33,
   "id": "a0cfedb0",
   "metadata": {},
   "outputs": [
    {
     "name": "stdout",
     "output_type": "stream",
     "text": [
      "155\n",
      "620\n"
     ]
    }
   ],
   "source": [
    "print(len(test_agent_ids))\n",
    "print(len(train_agent_ids))"
   ]
  },
  {
   "cell_type": "markdown",
   "id": "5a41be28",
   "metadata": {},
   "source": [
    "## Testing different hyperparameters"
   ]
  },
  {
   "cell_type": "code",
   "execution_count": 14,
   "id": "e-hnN5tT4NM0",
   "metadata": {
    "id": "e-hnN5tT4NM0"
   },
   "outputs": [],
   "source": [
    "# NN architecture\n",
    "def root_mean_squared_error(y_true, y_pred):\n",
    "        return K.sqrt(K.mean(K.square(y_pred - y_true))) \n",
    "\n",
    "inp = Input((5,2))\n",
    "\n",
    "x = Flatten()(inp)\n",
    "\n",
    "x = Dense(64, activation='relu')(x)\n",
    "x = Dense(32, activation='relu')(x)\n",
    "x = Dense(16, activation='relu')(x)\n",
    "x = Dense(16, activation='relu')(x)\n",
    "\n",
    "out1 = Dense(5, activation='linear')(x)    \n",
    "out2 = Dense(5, activation='linear')(x)"
   ]
  },
  {
   "cell_type": "code",
   "execution_count": 20,
   "id": "4db44051",
   "metadata": {},
   "outputs": [
    {
     "name": "stderr",
     "output_type": "stream",
     "text": [
      "2022-01-07 12:18:51.209795: I tensorflow/core/grappler/optimizers/custom_graph_optimizer_registry.cc:112] Plugin optimizer for device_type GPU is enabled.\n",
      "2022-01-07 12:19:43.952301: I tensorflow/core/grappler/optimizers/custom_graph_optimizer_registry.cc:112] Plugin optimizer for device_type GPU is enabled.\n",
      "2022-01-07 12:19:44.418857: I tensorflow/core/grappler/optimizers/custom_graph_optimizer_registry.cc:112] Plugin optimizer for device_type GPU is enabled.\n",
      "2022-01-07 12:20:33.749003: I tensorflow/core/grappler/optimizers/custom_graph_optimizer_registry.cc:112] Plugin optimizer for device_type GPU is enabled.\n",
      "2022-01-07 12:20:34.191168: I tensorflow/core/grappler/optimizers/custom_graph_optimizer_registry.cc:112] Plugin optimizer for device_type GPU is enabled.\n",
      "2022-01-07 12:21:24.954781: I tensorflow/core/grappler/optimizers/custom_graph_optimizer_registry.cc:112] Plugin optimizer for device_type GPU is enabled.\n",
      "2022-01-07 12:21:25.433058: I tensorflow/core/grappler/optimizers/custom_graph_optimizer_registry.cc:112] Plugin optimizer for device_type GPU is enabled.\n",
      "2022-01-07 12:22:15.147576: I tensorflow/core/grappler/optimizers/custom_graph_optimizer_registry.cc:112] Plugin optimizer for device_type GPU is enabled.\n",
      "2022-01-07 12:22:15.593351: I tensorflow/core/grappler/optimizers/custom_graph_optimizer_registry.cc:112] Plugin optimizer for device_type GPU is enabled.\n",
      "2022-01-07 12:23:06.452279: I tensorflow/core/grappler/optimizers/custom_graph_optimizer_registry.cc:112] Plugin optimizer for device_type GPU is enabled.\n",
      "2022-01-07 12:23:06.906542: I tensorflow/core/grappler/optimizers/custom_graph_optimizer_registry.cc:112] Plugin optimizer for device_type GPU is enabled.\n",
      "2022-01-07 12:23:56.440231: I tensorflow/core/grappler/optimizers/custom_graph_optimizer_registry.cc:112] Plugin optimizer for device_type GPU is enabled.\n",
      "2022-01-07 12:23:56.867881: I tensorflow/core/grappler/optimizers/custom_graph_optimizer_registry.cc:112] Plugin optimizer for device_type GPU is enabled.\n",
      "2022-01-07 12:24:47.698793: I tensorflow/core/grappler/optimizers/custom_graph_optimizer_registry.cc:112] Plugin optimizer for device_type GPU is enabled.\n",
      "2022-01-07 12:24:48.161842: I tensorflow/core/grappler/optimizers/custom_graph_optimizer_registry.cc:112] Plugin optimizer for device_type GPU is enabled.\n",
      "2022-01-07 12:25:38.408626: I tensorflow/core/grappler/optimizers/custom_graph_optimizer_registry.cc:112] Plugin optimizer for device_type GPU is enabled.\n",
      "2022-01-07 12:25:38.844278: I tensorflow/core/grappler/optimizers/custom_graph_optimizer_registry.cc:112] Plugin optimizer for device_type GPU is enabled.\n",
      "2022-01-07 12:26:33.445240: I tensorflow/core/grappler/optimizers/custom_graph_optimizer_registry.cc:112] Plugin optimizer for device_type GPU is enabled.\n",
      "2022-01-07 12:26:33.914620: I tensorflow/core/grappler/optimizers/custom_graph_optimizer_registry.cc:112] Plugin optimizer for device_type GPU is enabled.\n",
      "2022-01-07 12:27:23.176708: I tensorflow/core/grappler/optimizers/custom_graph_optimizer_registry.cc:112] Plugin optimizer for device_type GPU is enabled.\n",
      "2022-01-07 12:27:23.617689: I tensorflow/core/grappler/optimizers/custom_graph_optimizer_registry.cc:112] Plugin optimizer for device_type GPU is enabled.\n",
      "2022-01-07 12:28:14.784194: I tensorflow/core/grappler/optimizers/custom_graph_optimizer_registry.cc:112] Plugin optimizer for device_type GPU is enabled.\n",
      "2022-01-07 12:28:15.258721: I tensorflow/core/grappler/optimizers/custom_graph_optimizer_registry.cc:112] Plugin optimizer for device_type GPU is enabled.\n",
      "2022-01-07 12:29:05.069767: I tensorflow/core/grappler/optimizers/custom_graph_optimizer_registry.cc:112] Plugin optimizer for device_type GPU is enabled.\n",
      "2022-01-07 12:29:05.799627: I tensorflow/core/grappler/optimizers/custom_graph_optimizer_registry.cc:112] Plugin optimizer for device_type GPU is enabled.\n",
      "2022-01-07 12:29:58.063234: I tensorflow/core/grappler/optimizers/custom_graph_optimizer_registry.cc:112] Plugin optimizer for device_type GPU is enabled.\n",
      "2022-01-07 12:29:58.539197: I tensorflow/core/grappler/optimizers/custom_graph_optimizer_registry.cc:112] Plugin optimizer for device_type GPU is enabled.\n",
      "2022-01-07 12:30:50.115181: I tensorflow/core/grappler/optimizers/custom_graph_optimizer_registry.cc:112] Plugin optimizer for device_type GPU is enabled.\n",
      "2022-01-07 12:30:50.560530: I tensorflow/core/grappler/optimizers/custom_graph_optimizer_registry.cc:112] Plugin optimizer for device_type GPU is enabled.\n",
      "2022-01-07 12:31:42.159560: I tensorflow/core/grappler/optimizers/custom_graph_optimizer_registry.cc:112] Plugin optimizer for device_type GPU is enabled.\n",
      "2022-01-07 12:31:42.635588: I tensorflow/core/grappler/optimizers/custom_graph_optimizer_registry.cc:112] Plugin optimizer for device_type GPU is enabled.\n",
      "2022-01-07 12:32:32.851151: I tensorflow/core/grappler/optimizers/custom_graph_optimizer_registry.cc:112] Plugin optimizer for device_type GPU is enabled.\n",
      "2022-01-07 12:32:33.301949: I tensorflow/core/grappler/optimizers/custom_graph_optimizer_registry.cc:112] Plugin optimizer for device_type GPU is enabled.\n",
      "2022-01-07 12:33:25.373308: I tensorflow/core/grappler/optimizers/custom_graph_optimizer_registry.cc:112] Plugin optimizer for device_type GPU is enabled.\n",
      "2022-01-07 12:33:25.894588: I tensorflow/core/grappler/optimizers/custom_graph_optimizer_registry.cc:112] Plugin optimizer for device_type GPU is enabled.\n",
      "2022-01-07 12:34:15.901604: I tensorflow/core/grappler/optimizers/custom_graph_optimizer_registry.cc:112] Plugin optimizer for device_type GPU is enabled.\n",
      "2022-01-07 12:34:16.391144: I tensorflow/core/grappler/optimizers/custom_graph_optimizer_registry.cc:112] Plugin optimizer for device_type GPU is enabled.\n",
      "2022-01-07 12:35:09.498158: I tensorflow/core/grappler/optimizers/custom_graph_optimizer_registry.cc:112] Plugin optimizer for device_type GPU is enabled.\n",
      "2022-01-07 12:35:10.002461: I tensorflow/core/grappler/optimizers/custom_graph_optimizer_registry.cc:112] Plugin optimizer for device_type GPU is enabled.\n",
      "2022-01-07 12:36:00.507890: I tensorflow/core/grappler/optimizers/custom_graph_optimizer_registry.cc:112] Plugin optimizer for device_type GPU is enabled.\n",
      "2022-01-07 12:36:01.010051: I tensorflow/core/grappler/optimizers/custom_graph_optimizer_registry.cc:112] Plugin optimizer for device_type GPU is enabled.\n",
      "2022-01-07 12:36:52.815485: I tensorflow/core/grappler/optimizers/custom_graph_optimizer_registry.cc:112] Plugin optimizer for device_type GPU is enabled.\n",
      "2022-01-07 12:36:53.631533: I tensorflow/core/grappler/optimizers/custom_graph_optimizer_registry.cc:112] Plugin optimizer for device_type GPU is enabled.\n",
      "2022-01-07 12:37:43.970705: I tensorflow/core/grappler/optimizers/custom_graph_optimizer_registry.cc:112] Plugin optimizer for device_type GPU is enabled.\n",
      "2022-01-07 12:37:44.414038: I tensorflow/core/grappler/optimizers/custom_graph_optimizer_registry.cc:112] Plugin optimizer for device_type GPU is enabled.\n",
      "2022-01-07 12:38:35.989923: I tensorflow/core/grappler/optimizers/custom_graph_optimizer_registry.cc:112] Plugin optimizer for device_type GPU is enabled.\n",
      "2022-01-07 12:38:36.494516: I tensorflow/core/grappler/optimizers/custom_graph_optimizer_registry.cc:112] Plugin optimizer for device_type GPU is enabled.\n",
      "2022-01-07 12:39:27.220907: I tensorflow/core/grappler/optimizers/custom_graph_optimizer_registry.cc:112] Plugin optimizer for device_type GPU is enabled.\n",
      "2022-01-07 12:39:27.700202: I tensorflow/core/grappler/optimizers/custom_graph_optimizer_registry.cc:112] Plugin optimizer for device_type GPU is enabled.\n",
      "2022-01-07 12:40:19.014755: I tensorflow/core/grappler/optimizers/custom_graph_optimizer_registry.cc:112] Plugin optimizer for device_type GPU is enabled.\n",
      "2022-01-07 12:40:19.513139: I tensorflow/core/grappler/optimizers/custom_graph_optimizer_registry.cc:112] Plugin optimizer for device_type GPU is enabled.\n",
      "2022-01-07 12:41:09.478906: I tensorflow/core/grappler/optimizers/custom_graph_optimizer_registry.cc:112] Plugin optimizer for device_type GPU is enabled.\n",
      "2022-01-07 12:41:09.953429: I tensorflow/core/grappler/optimizers/custom_graph_optimizer_registry.cc:112] Plugin optimizer for device_type GPU is enabled.\n",
      "2022-01-07 12:42:00.810185: I tensorflow/core/grappler/optimizers/custom_graph_optimizer_registry.cc:112] Plugin optimizer for device_type GPU is enabled.\n",
      "2022-01-07 12:42:01.335357: I tensorflow/core/grappler/optimizers/custom_graph_optimizer_registry.cc:112] Plugin optimizer for device_type GPU is enabled.\n",
      "2022-01-07 12:42:51.578456: I tensorflow/core/grappler/optimizers/custom_graph_optimizer_registry.cc:112] Plugin optimizer for device_type GPU is enabled.\n",
      "2022-01-07 12:42:52.074109: I tensorflow/core/grappler/optimizers/custom_graph_optimizer_registry.cc:112] Plugin optimizer for device_type GPU is enabled.\n",
      "2022-01-07 12:43:43.253219: I tensorflow/core/grappler/optimizers/custom_graph_optimizer_registry.cc:112] Plugin optimizer for device_type GPU is enabled.\n",
      "2022-01-07 12:43:43.772148: I tensorflow/core/grappler/optimizers/custom_graph_optimizer_registry.cc:112] Plugin optimizer for device_type GPU is enabled.\n",
      "2022-01-07 12:44:37.342558: I tensorflow/core/grappler/optimizers/custom_graph_optimizer_registry.cc:112] Plugin optimizer for device_type GPU is enabled.\n"
     ]
    }
   ],
   "source": [
    "tf.get_logger().setLevel('ERROR')\n",
    "\n",
    "learning_rates = [0.001, 0.005, 0.01]\n",
    "batch_sizes = [1, 4, 8, 16, 32]\n",
    "loss_functions = ['mean_squared_error', root_mean_squared_error]\n",
    "\n",
    "all_train_RMSE = []\n",
    "all_test_RMSE = []\n",
    "\n",
    "for learning_rate in learning_rates:\n",
    "    for batch_size in batch_sizes:\n",
    "        for loss_function in loss_functions:\n",
    "            model = Model(inputs=inp, outputs=[out1,out2])\n",
    "            model.compile(optimizer=tf.keras.optimizers.Adam(learning_rate=0.001), loss = loss_function)\n",
    "\n",
    "            model.fit(train[0], [train[1], train[2]], epochs=200, batch_size=32, verbose=0)\n",
    "            \n",
    "            trainScore = model.evaluate(train[0], [train[1], train[2]], verbose=0)\n",
    "            testScore = model.evaluate(test[0], [test[1], test[2]], verbose=0)\n",
    "            \n",
    "            if loss_function == 'mean_squared_error':\n",
    "                all_train_RMSE.append(np.sqrt(trainScore[0]))\n",
    "                all_test_RMSE.append(np.sqrt(testScore[0]))\n",
    "                #Wprint(\"Learning rate: %.3f, batch size: %i, loss function: %s\" % (learning_rate, batch_size, loss_function))\n",
    "                #print('Train Score: %.2f MSE (%.2f RMSE)' % (trainScore[0], np.sqrt(trainScore[0])))\n",
    "                #print('Test Score: %.2f MSE (%.2f RMSE)' % (testScore[0], np.sqrt(testScore[0])))\n",
    "            else:\n",
    "                all_train_RMSE.append(trainScore[0])\n",
    "                all_test_RMSE.append(testScore[0])\n",
    "                #print(\"Learning rate: %.3f, batch size: %i, loss function: %s\" % (learning_rate, batch_size, loss_function.__name__))\n",
    "                #print('Train Score: %.2f RMSE' % (trainScore[0]))\n",
    "                #print('Test Score: %.2f RMSE' % (testScore[0]))\n"
   ]
  },
  {
   "cell_type": "code",
   "execution_count": 55,
   "id": "ceb279c3",
   "metadata": {},
   "outputs": [
    {
     "name": "stdout",
     "output_type": "stream",
     "text": [
      "Learning rate: 0.001, batch size: 1, loss function: mean_squared_error\n",
      "Train Score: 0.46 RMSE\n",
      "Test Score: 1.23 RMSE\n",
      "\n",
      "Learning rate: 0.001, batch size: 1, loss function: root_mean_squared_error\n",
      "Train Score: 0.65 RMSE\n",
      "Test Score: 1.68 RMSE\n",
      "\n",
      "Learning rate: 0.001, batch size: 4, loss function: mean_squared_error\n",
      "Train Score: 0.45 RMSE\n",
      "Test Score: 1.24 RMSE\n",
      "\n",
      "Learning rate: 0.001, batch size: 4, loss function: root_mean_squared_error\n",
      "Train Score: 0.65 RMSE\n",
      "Test Score: 1.69 RMSE\n",
      "\n",
      "Learning rate: 0.001, batch size: 8, loss function: mean_squared_error\n",
      "Train Score: 0.45 RMSE\n",
      "Test Score: 1.27 RMSE\n",
      "\n",
      "Learning rate: 0.001, batch size: 8, loss function: root_mean_squared_error\n",
      "Train Score: 0.64 RMSE\n",
      "Test Score: 1.72 RMSE\n",
      "\n",
      "Learning rate: 0.001, batch size: 16, loss function: mean_squared_error\n",
      "Train Score: 0.46 RMSE\n",
      "Test Score: 1.30 RMSE\n",
      "\n",
      "Learning rate: 0.001, batch size: 16, loss function: root_mean_squared_error\n",
      "Train Score: 0.63 RMSE\n",
      "Test Score: 1.70 RMSE\n",
      "\n",
      "Learning rate: 0.001, batch size: 32, loss function: mean_squared_error\n",
      "Train Score: 0.48 RMSE\n",
      "Test Score: 1.28 RMSE\n",
      "\n",
      "Learning rate: 0.001, batch size: 32, loss function: root_mean_squared_error\n",
      "Train Score: 0.60 RMSE\n",
      "Test Score: 1.70 RMSE\n",
      "\n",
      "Learning rate: 0.005, batch size: 1, loss function: mean_squared_error\n",
      "Train Score: 0.44 RMSE\n",
      "Test Score: 1.28 RMSE\n",
      "\n",
      "Learning rate: 0.005, batch size: 1, loss function: root_mean_squared_error\n",
      "Train Score: 0.62 RMSE\n",
      "Test Score: 1.71 RMSE\n",
      "\n",
      "Learning rate: 0.005, batch size: 4, loss function: mean_squared_error\n",
      "Train Score: 0.42 RMSE\n",
      "Test Score: 1.32 RMSE\n",
      "\n",
      "Learning rate: 0.005, batch size: 4, loss function: root_mean_squared_error\n",
      "Train Score: 0.58 RMSE\n",
      "Test Score: 1.70 RMSE\n",
      "\n",
      "Learning rate: 0.005, batch size: 8, loss function: mean_squared_error\n",
      "Train Score: 0.43 RMSE\n",
      "Test Score: 1.31 RMSE\n",
      "\n",
      "Learning rate: 0.005, batch size: 8, loss function: root_mean_squared_error\n",
      "Train Score: 0.58 RMSE\n",
      "Test Score: 1.74 RMSE\n",
      "\n",
      "Learning rate: 0.005, batch size: 16, loss function: mean_squared_error\n",
      "Train Score: 0.42 RMSE\n",
      "Test Score: 1.34 RMSE\n",
      "\n",
      "Learning rate: 0.005, batch size: 16, loss function: root_mean_squared_error\n",
      "Train Score: 0.59 RMSE\n",
      "Test Score: 1.76 RMSE\n",
      "\n",
      "Learning rate: 0.005, batch size: 32, loss function: mean_squared_error\n",
      "Train Score: 0.42 RMSE\n",
      "Test Score: 1.32 RMSE\n",
      "\n",
      "Learning rate: 0.005, batch size: 32, loss function: root_mean_squared_error\n",
      "Train Score: 0.56 RMSE\n",
      "Test Score: 1.78 RMSE\n",
      "\n",
      "Learning rate: 0.010, batch size: 1, loss function: mean_squared_error\n",
      "Train Score: 0.41 RMSE\n",
      "Test Score: 1.34 RMSE\n",
      "\n",
      "Learning rate: 0.010, batch size: 1, loss function: root_mean_squared_error\n",
      "Train Score: 0.59 RMSE\n",
      "Test Score: 1.77 RMSE\n",
      "\n",
      "Learning rate: 0.010, batch size: 4, loss function: mean_squared_error\n",
      "Train Score: 0.40 RMSE\n",
      "Test Score: 1.36 RMSE\n",
      "\n",
      "Learning rate: 0.010, batch size: 4, loss function: root_mean_squared_error\n",
      "Train Score: 0.58 RMSE\n",
      "Test Score: 1.80 RMSE\n",
      "\n",
      "Learning rate: 0.010, batch size: 8, loss function: mean_squared_error\n",
      "Train Score: 0.42 RMSE\n",
      "Test Score: 1.39 RMSE\n",
      "\n",
      "Learning rate: 0.010, batch size: 8, loss function: root_mean_squared_error\n",
      "Train Score: 0.56 RMSE\n",
      "Test Score: 1.80 RMSE\n",
      "\n",
      "Learning rate: 0.010, batch size: 16, loss function: mean_squared_error\n",
      "Train Score: 0.44 RMSE\n",
      "Test Score: 1.34 RMSE\n",
      "\n",
      "Learning rate: 0.010, batch size: 16, loss function: root_mean_squared_error\n",
      "Train Score: 0.55 RMSE\n",
      "Test Score: 1.85 RMSE\n",
      "\n",
      "Learning rate: 0.010, batch size: 32, loss function: mean_squared_error\n",
      "Train Score: 0.40 RMSE\n",
      "Test Score: 1.42 RMSE\n",
      "\n",
      "Learning rate: 0.010, batch size: 32, loss function: root_mean_squared_error\n",
      "Train Score: 0.55 RMSE\n",
      "Test Score: 1.86 RMSE\n",
      "\n"
     ]
    }
   ],
   "source": [
    "best_learning_rate = None\n",
    "best_batch_size = None\n",
    "best_loss_function = None\n",
    "best_test_rmse = min(all_test_RMSE)\n",
    "best_test_rmse_idx = all_test_RMSE.index(best_test_rmse)\n",
    "\n",
    "rmse_idx = 0\n",
    "for learning_rate in learning_rates:\n",
    "    for batch_size in batch_sizes:\n",
    "        for loss_function in loss_functions:\n",
    "            \n",
    "            if rmse_idx == best_test_rmse_idx:\n",
    "                best_learning_rate = learning_rate\n",
    "                best_batch_size = batch_size\n",
    "                if loss_function == 'mean_squared_error':\n",
    "                    best_loss_function = loss_function\n",
    "                else:\n",
    "                    best_loss_function = loss_function.__name__\n",
    "            \n",
    "            if loss_function == 'mean_squared_error':\n",
    "                print(\"Learning rate: %.3f, batch size: %i, loss function: %s\" % (learning_rate, batch_size, loss_function))\n",
    "            else:\n",
    "                print(\"Learning rate: %.3f, batch size: %i, loss function: %s\" % (learning_rate, batch_size, loss_function.__name__))\n",
    "            print('Train Score: %.2f RMSE' % (all_train_RMSE[rmse_idx]))\n",
    "            print('Test Score: %.2f RMSE' % (all_test_RMSE[rmse_idx]))\n",
    "            print()\n",
    "            rmse_idx += 1"
   ]
  },
  {
   "cell_type": "code",
   "execution_count": 56,
   "id": "7336ba82",
   "metadata": {},
   "outputs": [
    {
     "name": "stdout",
     "output_type": "stream",
     "text": [
      "Best test RMSE:  1.2300382315113683\n",
      "Best learning rate:  0.001\n",
      "Best batch size:  1\n",
      "Best loss function:  mean_squared_error\n"
     ]
    }
   ],
   "source": [
    "print(\"Best test RMSE: \", best_test_rmse)\n",
    "print(\"Best learning rate: \", best_learning_rate)\n",
    "print(\"Best batch size: \", best_batch_size)\n",
    "print(\"Best loss function: \", best_loss_function)"
   ]
  },
  {
   "cell_type": "code",
   "execution_count": null,
   "id": "a67cb5f8",
   "metadata": {},
   "outputs": [],
   "source": []
  }
 ],
 "metadata": {
  "accelerator": "TPU",
  "colab": {
   "collapsed_sections": [],
   "include_colab_link": true,
   "name": "Edinburgh-NN-over-all-data.ipynb",
   "provenance": []
  },
  "kernelspec": {
   "display_name": "Python 3 (ipykernel)",
   "language": "python",
   "name": "python3"
  },
  "language_info": {
   "codemirror_mode": {
    "name": "ipython",
    "version": 3
   },
   "file_extension": ".py",
   "mimetype": "text/x-python",
   "name": "python",
   "nbconvert_exporter": "python",
   "pygments_lexer": "ipython3",
   "version": "3.9.0"
  }
 },
 "nbformat": 4,
 "nbformat_minor": 5
}
