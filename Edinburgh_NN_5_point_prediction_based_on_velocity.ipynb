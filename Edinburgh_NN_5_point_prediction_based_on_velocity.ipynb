{
 "cells": [
  {
   "cell_type": "markdown",
   "id": "06891f97",
   "metadata": {},
   "source": [
    "## Neural network predicting 5 points at once based on velocities"
   ]
  },
  {
   "cell_type": "code",
   "execution_count": 12,
   "id": "43186641",
   "metadata": {
    "id": "43186641"
   },
   "outputs": [],
   "source": [
    "from matplotlib import pyplot as plt\n",
    "import numpy as np\n",
    "np.random.seed(42)"
   ]
  },
  {
   "cell_type": "markdown",
   "id": "1f124715",
   "metadata": {},
   "source": [
    "## Data preparation"
   ]
  },
  {
   "cell_type": "code",
   "execution_count": 13,
   "id": "a7407d78",
   "metadata": {
    "id": "a7407d78"
   },
   "outputs": [
    {
     "name": "stderr",
     "output_type": "stream",
     "text": [
      "/Users/kriis/miniforge3/envs/tensorflow_m1/lib/python3.9/site-packages/pandas/util/_decorators.py:311: ParserWarning: Falling back to the 'python' engine because the 'c' engine does not support regex separators (separators > 1 char and different from '\\s+' are interpreted as regex); you can avoid this warning by specifying engine='python'.\n",
      "  return func(*args, **kwargs)\n"
     ]
    },
    {
     "name": "stdout",
     "output_type": "stream",
     "text": [
      "reading:./OpenTraj/datasets/Edinburgh/annotations/tracks.01Sep.txt\n"
     ]
    },
    {
     "name": "stderr",
     "output_type": "stream",
     "text": [
      "100%|█████████████████████████████████████████████████████████████████████████████████████████████████| 2342/2342 [01:03<00:00, 36.85it/s]\n"
     ]
    },
    {
     "name": "stdout",
     "output_type": "stream",
     "text": [
      "Warning! too big dt in [Edinburgh]\n",
      "finish\n"
     ]
    }
   ],
   "source": [
    "from data_processing import read_edinburgh_data \n",
    "data, agent_ids = read_edinburgh_data()"
   ]
  },
  {
   "cell_type": "code",
   "execution_count": 34,
   "id": "f7c7210a",
   "metadata": {
    "id": "f7c7210a"
   },
   "outputs": [],
   "source": [
    "train_agent_ids = np.load('Edinburgh_train_agent_ids.npy')\n",
    "test_agent_ids = np.load('Edinburgh_test_agent_ids.npy')"
   ]
  },
  {
   "cell_type": "markdown",
   "id": "7a69be78",
   "metadata": {
    "id": "7a69be78"
   },
   "source": [
    "### Helper functions"
   ]
  },
  {
   "cell_type": "code",
   "execution_count": 35,
   "id": "987ee314",
   "metadata": {
    "id": "987ee314"
   },
   "outputs": [],
   "source": [
    "def create_dataset(data, agent_ids):\n",
    "    data_X, data_Y_vel_x, data_Y_vel_y = [], [], []\n",
    "    for agent_id in agent_ids:\n",
    "        # We only see 4 velocities, so train is 4 velocities long\n",
    "        x = data[data['agent_id'] == agent_id].iloc[1:5][['vel_x', 'vel_y']]\n",
    "        y_vel_x = data[data['agent_id'] == agent_id].iloc[5:10]['vel_x']\n",
    "        y_vel_y = data[data['agent_id'] == agent_id].iloc[5:10]['vel_y']\n",
    "        data_X.append(x)\n",
    "        data_Y_vel_x.append(y_vel_x)\n",
    "        data_Y_vel_y.append(y_vel_y)\n",
    "    return np.array(data_X), np.array(data_Y_vel_x), np.array(data_Y_vel_y)\n",
    "    \n",
    "def calculate_error(pred_x, pred_y, test_x, test_y):\n",
    "    \n",
    "    # FDE\n",
    "    final_displacement_x = pred_x[-1] - test_x[-1]\n",
    "    final_displacement_y = pred_y[-1] - test_y[-1]\n",
    "    FDE = np.sqrt(final_displacement_x**2 + final_displacement_y**2)\n",
    "    \n",
    "    # MSE\n",
    "    abs_error_x = pred_x - test_x\n",
    "    abs_error_y = pred_y - test_y\n",
    "    \n",
    "    MSE = np.mean(np.square(abs_error_x)) + np.mean(np.square(abs_error_y))\n",
    "    \n",
    "    return FDE, MSE"
   ]
  },
  {
   "cell_type": "markdown",
   "id": "12c085ad",
   "metadata": {},
   "source": [
    "## Experiment"
   ]
  },
  {
   "cell_type": "code",
   "execution_count": 36,
   "id": "7f3fa56d",
   "metadata": {
    "id": "7f3fa56d"
   },
   "outputs": [],
   "source": [
    "train = create_dataset(data, train_agent_ids)\n",
    "test = create_dataset(data, test_agent_ids)"
   ]
  },
  {
   "cell_type": "code",
   "execution_count": 37,
   "id": "fc388252",
   "metadata": {
    "id": "fc388252"
   },
   "outputs": [],
   "source": [
    "from keras.models import Model\n",
    "from keras.layers import *\n",
    "from keras import backend as K\n",
    "\n",
    "# Note: RMSE seems to yield a worse loss than mean_squared_error\n",
    "def RMSE(y_true, y_pred):\n",
    "    return K.sqrt(K.mean(K.square(y_pred - y_true))) \n",
    "    \n",
    "def RMSE_with_discount(y_true, y_pred):\n",
    "    difference = y_true - y_pred\n",
    "    difference = difference * [1, 0.95, 0.90, 0.85, 0.80]\n",
    "    return K.sqrt(K.mean(K.square(difference))) \n",
    "    \n",
    "\n",
    "#inp = Input((5,2))\n",
    "inp = Input((4,2))\n",
    "\n",
    "x = Flatten()(inp)\n",
    "\n",
    "x = Dense(64, activation='relu')(x)\n",
    "x = Dense(32, activation='relu')(x)\n",
    "x = Dense(16, activation='relu')(x)\n",
    "x = Dense(16, activation='relu')(x)\n",
    "\n",
    "'''\n",
    "x = Dense(128, activation='relu')(x)\n",
    "x = Dense(64, activation='relu')(x)\n",
    "x = Dense(32, activation='relu')(x)\n",
    "x = Dense(16, activation='relu')(x)\n",
    "'''\n",
    "out1 = Dense(5, activation='linear')(x)    \n",
    "out2 = Dense(5, activation='linear')(x)\n",
    "\n",
    "model = Model(inputs=inp, outputs=[out1,out2])\n",
    "model.compile(optimizer=tf.keras.optimizers.Adam(learning_rate=0.001), loss = RMSE)"
   ]
  },
  {
   "cell_type": "code",
   "execution_count": 38,
   "id": "d2ad3d42",
   "metadata": {
    "colab": {
     "base_uri": "https://localhost:8080/"
    },
    "id": "d2ad3d42",
    "outputId": "83b641d4-9d00-4d8f-a643-c4a48ddaaa46",
    "tags": []
   },
   "outputs": [
    {
     "name": "stdout",
     "output_type": "stream",
     "text": [
      "Epoch 1/400\n"
     ]
    },
    {
     "name": "stderr",
     "output_type": "stream",
     "text": [
      "2022-01-14 12:04:26.548570: I tensorflow/core/grappler/optimizers/custom_graph_optimizer_registry.cc:112] Plugin optimizer for device_type GPU is enabled.\n"
     ]
    },
    {
     "name": "stdout",
     "output_type": "stream",
     "text": [
      "50/50 - 1s - loss: 0.9391 - dense_22_loss: 0.4174 - dense_23_loss: 0.5217 - 556ms/epoch - 11ms/step\n",
      "Epoch 2/400\n",
      "50/50 - 0s - loss: 0.7939 - dense_22_loss: 0.3637 - dense_23_loss: 0.4302 - 272ms/epoch - 5ms/step\n",
      "Epoch 3/400\n",
      "50/50 - 0s - loss: 0.6861 - dense_22_loss: 0.3230 - dense_23_loss: 0.3631 - 269ms/epoch - 5ms/step\n",
      "Epoch 4/400\n",
      "50/50 - 0s - loss: 0.6323 - dense_22_loss: 0.2979 - dense_23_loss: 0.3344 - 273ms/epoch - 5ms/step\n",
      "Epoch 5/400\n",
      "50/50 - 0s - loss: 0.6116 - dense_22_loss: 0.2896 - dense_23_loss: 0.3220 - 271ms/epoch - 5ms/step\n",
      "Epoch 6/400\n",
      "50/50 - 0s - loss: 0.5992 - dense_22_loss: 0.2855 - dense_23_loss: 0.3137 - 306ms/epoch - 6ms/step\n",
      "Epoch 7/400\n",
      "50/50 - 0s - loss: 0.5928 - dense_22_loss: 0.2831 - dense_23_loss: 0.3097 - 277ms/epoch - 6ms/step\n",
      "Epoch 8/400\n",
      "50/50 - 0s - loss: 0.5794 - dense_22_loss: 0.2736 - dense_23_loss: 0.3058 - 269ms/epoch - 5ms/step\n",
      "Epoch 9/400\n",
      "50/50 - 0s - loss: 0.5807 - dense_22_loss: 0.2758 - dense_23_loss: 0.3048 - 274ms/epoch - 5ms/step\n",
      "Epoch 10/400\n",
      "50/50 - 0s - loss: 0.5779 - dense_22_loss: 0.2739 - dense_23_loss: 0.3040 - 274ms/epoch - 5ms/step\n",
      "Epoch 11/400\n",
      "50/50 - 0s - loss: 0.5739 - dense_22_loss: 0.2719 - dense_23_loss: 0.3020 - 270ms/epoch - 5ms/step\n",
      "Epoch 12/400\n",
      "50/50 - 0s - loss: 0.5688 - dense_22_loss: 0.2692 - dense_23_loss: 0.2995 - 274ms/epoch - 5ms/step\n",
      "Epoch 13/400\n",
      "50/50 - 0s - loss: 0.5677 - dense_22_loss: 0.2691 - dense_23_loss: 0.2986 - 286ms/epoch - 6ms/step\n",
      "Epoch 14/400\n",
      "50/50 - 0s - loss: 0.5660 - dense_22_loss: 0.2693 - dense_23_loss: 0.2966 - 306ms/epoch - 6ms/step\n",
      "Epoch 15/400\n",
      "50/50 - 0s - loss: 0.5637 - dense_22_loss: 0.2654 - dense_23_loss: 0.2984 - 310ms/epoch - 6ms/step\n",
      "Epoch 16/400\n",
      "50/50 - 0s - loss: 0.5601 - dense_22_loss: 0.2647 - dense_23_loss: 0.2953 - 343ms/epoch - 7ms/step\n",
      "Epoch 17/400\n",
      "50/50 - 0s - loss: 0.5542 - dense_22_loss: 0.2631 - dense_23_loss: 0.2911 - 274ms/epoch - 5ms/step\n",
      "Epoch 18/400\n",
      "50/50 - 0s - loss: 0.5580 - dense_22_loss: 0.2648 - dense_23_loss: 0.2931 - 304ms/epoch - 6ms/step\n",
      "Epoch 19/400\n",
      "50/50 - 0s - loss: 0.5537 - dense_22_loss: 0.2600 - dense_23_loss: 0.2937 - 316ms/epoch - 6ms/step\n",
      "Epoch 20/400\n",
      "50/50 - 0s - loss: 0.5509 - dense_22_loss: 0.2603 - dense_23_loss: 0.2906 - 301ms/epoch - 6ms/step\n",
      "Epoch 21/400\n",
      "50/50 - 0s - loss: 0.5493 - dense_22_loss: 0.2594 - dense_23_loss: 0.2899 - 299ms/epoch - 6ms/step\n",
      "Epoch 22/400\n",
      "50/50 - 0s - loss: 0.5484 - dense_22_loss: 0.2577 - dense_23_loss: 0.2907 - 267ms/epoch - 5ms/step\n",
      "Epoch 23/400\n",
      "50/50 - 0s - loss: 0.5475 - dense_22_loss: 0.2595 - dense_23_loss: 0.2880 - 268ms/epoch - 5ms/step\n",
      "Epoch 24/400\n",
      "50/50 - 0s - loss: 0.5448 - dense_22_loss: 0.2570 - dense_23_loss: 0.2878 - 264ms/epoch - 5ms/step\n",
      "Epoch 25/400\n",
      "50/50 - 0s - loss: 0.5482 - dense_22_loss: 0.2584 - dense_23_loss: 0.2897 - 266ms/epoch - 5ms/step\n",
      "Epoch 26/400\n",
      "50/50 - 0s - loss: 0.5418 - dense_22_loss: 0.2553 - dense_23_loss: 0.2864 - 291ms/epoch - 6ms/step\n",
      "Epoch 27/400\n",
      "50/50 - 0s - loss: 0.5386 - dense_22_loss: 0.2498 - dense_23_loss: 0.2888 - 263ms/epoch - 5ms/step\n",
      "Epoch 28/400\n",
      "50/50 - 0s - loss: 0.5399 - dense_22_loss: 0.2535 - dense_23_loss: 0.2864 - 267ms/epoch - 5ms/step\n",
      "Epoch 29/400\n",
      "50/50 - 0s - loss: 0.5420 - dense_22_loss: 0.2546 - dense_23_loss: 0.2873 - 265ms/epoch - 5ms/step\n",
      "Epoch 30/400\n",
      "50/50 - 0s - loss: 0.5425 - dense_22_loss: 0.2549 - dense_23_loss: 0.2875 - 264ms/epoch - 5ms/step\n",
      "Epoch 31/400\n",
      "50/50 - 0s - loss: 0.5368 - dense_22_loss: 0.2529 - dense_23_loss: 0.2839 - 262ms/epoch - 5ms/step\n",
      "Epoch 32/400\n",
      "50/50 - 0s - loss: 0.5389 - dense_22_loss: 0.2536 - dense_23_loss: 0.2853 - 263ms/epoch - 5ms/step\n",
      "Epoch 33/400\n",
      "50/50 - 0s - loss: 0.5383 - dense_22_loss: 0.2535 - dense_23_loss: 0.2848 - 271ms/epoch - 5ms/step\n",
      "Epoch 34/400\n",
      "50/50 - 0s - loss: 0.5335 - dense_22_loss: 0.2488 - dense_23_loss: 0.2847 - 274ms/epoch - 5ms/step\n",
      "Epoch 35/400\n",
      "50/50 - 0s - loss: 0.5364 - dense_22_loss: 0.2547 - dense_23_loss: 0.2816 - 266ms/epoch - 5ms/step\n",
      "Epoch 36/400\n",
      "50/50 - 0s - loss: 0.5363 - dense_22_loss: 0.2519 - dense_23_loss: 0.2844 - 264ms/epoch - 5ms/step\n",
      "Epoch 37/400\n",
      "50/50 - 0s - loss: 0.5307 - dense_22_loss: 0.2479 - dense_23_loss: 0.2828 - 264ms/epoch - 5ms/step\n",
      "Epoch 38/400\n",
      "50/50 - 0s - loss: 0.5295 - dense_22_loss: 0.2479 - dense_23_loss: 0.2815 - 263ms/epoch - 5ms/step\n",
      "Epoch 39/400\n",
      "50/50 - 0s - loss: 0.5288 - dense_22_loss: 0.2468 - dense_23_loss: 0.2820 - 266ms/epoch - 5ms/step\n",
      "Epoch 40/400\n",
      "50/50 - 0s - loss: 0.5246 - dense_22_loss: 0.2446 - dense_23_loss: 0.2799 - 263ms/epoch - 5ms/step\n",
      "Epoch 41/400\n",
      "50/50 - 0s - loss: 0.5246 - dense_22_loss: 0.2457 - dense_23_loss: 0.2788 - 264ms/epoch - 5ms/step\n",
      "Epoch 42/400\n",
      "50/50 - 0s - loss: 0.5253 - dense_22_loss: 0.2451 - dense_23_loss: 0.2802 - 264ms/epoch - 5ms/step\n",
      "Epoch 43/400\n",
      "50/50 - 0s - loss: 0.5241 - dense_22_loss: 0.2437 - dense_23_loss: 0.2804 - 268ms/epoch - 5ms/step\n",
      "Epoch 44/400\n",
      "50/50 - 0s - loss: 0.5250 - dense_22_loss: 0.2440 - dense_23_loss: 0.2810 - 265ms/epoch - 5ms/step\n",
      "Epoch 45/400\n",
      "50/50 - 0s - loss: 0.5244 - dense_22_loss: 0.2442 - dense_23_loss: 0.2802 - 263ms/epoch - 5ms/step\n",
      "Epoch 46/400\n",
      "50/50 - 0s - loss: 0.5230 - dense_22_loss: 0.2437 - dense_23_loss: 0.2793 - 266ms/epoch - 5ms/step\n",
      "Epoch 47/400\n",
      "50/50 - 0s - loss: 0.5191 - dense_22_loss: 0.2408 - dense_23_loss: 0.2784 - 268ms/epoch - 5ms/step\n",
      "Epoch 48/400\n",
      "50/50 - 0s - loss: 0.5180 - dense_22_loss: 0.2403 - dense_23_loss: 0.2777 - 264ms/epoch - 5ms/step\n",
      "Epoch 49/400\n",
      "50/50 - 0s - loss: 0.5193 - dense_22_loss: 0.2404 - dense_23_loss: 0.2790 - 264ms/epoch - 5ms/step\n",
      "Epoch 50/400\n",
      "50/50 - 0s - loss: 0.5175 - dense_22_loss: 0.2399 - dense_23_loss: 0.2776 - 266ms/epoch - 5ms/step\n",
      "Epoch 51/400\n",
      "50/50 - 0s - loss: 0.5197 - dense_22_loss: 0.2404 - dense_23_loss: 0.2793 - 261ms/epoch - 5ms/step\n",
      "Epoch 52/400\n",
      "50/50 - 0s - loss: 0.5159 - dense_22_loss: 0.2378 - dense_23_loss: 0.2781 - 268ms/epoch - 5ms/step\n",
      "Epoch 53/400\n",
      "50/50 - 0s - loss: 0.5162 - dense_22_loss: 0.2405 - dense_23_loss: 0.2756 - 265ms/epoch - 5ms/step\n",
      "Epoch 54/400\n",
      "50/50 - 0s - loss: 0.5167 - dense_22_loss: 0.2425 - dense_23_loss: 0.2742 - 267ms/epoch - 5ms/step\n",
      "Epoch 55/400\n",
      "50/50 - 0s - loss: 0.5170 - dense_22_loss: 0.2431 - dense_23_loss: 0.2740 - 264ms/epoch - 5ms/step\n",
      "Epoch 56/400\n",
      "50/50 - 0s - loss: 0.5153 - dense_22_loss: 0.2402 - dense_23_loss: 0.2751 - 263ms/epoch - 5ms/step\n",
      "Epoch 57/400\n",
      "50/50 - 0s - loss: 0.5155 - dense_22_loss: 0.2397 - dense_23_loss: 0.2758 - 263ms/epoch - 5ms/step\n",
      "Epoch 58/400\n",
      "50/50 - 0s - loss: 0.5127 - dense_22_loss: 0.2385 - dense_23_loss: 0.2742 - 265ms/epoch - 5ms/step\n",
      "Epoch 59/400\n",
      "50/50 - 0s - loss: 0.5114 - dense_22_loss: 0.2382 - dense_23_loss: 0.2732 - 269ms/epoch - 5ms/step\n",
      "Epoch 60/400\n",
      "50/50 - 0s - loss: 0.5118 - dense_22_loss: 0.2371 - dense_23_loss: 0.2747 - 265ms/epoch - 5ms/step\n",
      "Epoch 61/400\n",
      "50/50 - 0s - loss: 0.5113 - dense_22_loss: 0.2363 - dense_23_loss: 0.2750 - 265ms/epoch - 5ms/step\n",
      "Epoch 62/400\n",
      "50/50 - 0s - loss: 0.5145 - dense_22_loss: 0.2385 - dense_23_loss: 0.2760 - 267ms/epoch - 5ms/step\n",
      "Epoch 63/400\n",
      "50/50 - 0s - loss: 0.5080 - dense_22_loss: 0.2365 - dense_23_loss: 0.2715 - 265ms/epoch - 5ms/step\n",
      "Epoch 64/400\n",
      "50/50 - 0s - loss: 0.5135 - dense_22_loss: 0.2361 - dense_23_loss: 0.2774 - 264ms/epoch - 5ms/step\n",
      "Epoch 65/400\n",
      "50/50 - 0s - loss: 0.5054 - dense_22_loss: 0.2359 - dense_23_loss: 0.2695 - 263ms/epoch - 5ms/step\n",
      "Epoch 66/400\n",
      "50/50 - 0s - loss: 0.5061 - dense_22_loss: 0.2347 - dense_23_loss: 0.2714 - 263ms/epoch - 5ms/step\n",
      "Epoch 67/400\n",
      "50/50 - 0s - loss: 0.5051 - dense_22_loss: 0.2344 - dense_23_loss: 0.2707 - 264ms/epoch - 5ms/step\n",
      "Epoch 68/400\n",
      "50/50 - 0s - loss: 0.5061 - dense_22_loss: 0.2335 - dense_23_loss: 0.2726 - 263ms/epoch - 5ms/step\n",
      "Epoch 69/400\n",
      "50/50 - 0s - loss: 0.5058 - dense_22_loss: 0.2331 - dense_23_loss: 0.2727 - 261ms/epoch - 5ms/step\n",
      "Epoch 70/400\n",
      "50/50 - 0s - loss: 0.5077 - dense_22_loss: 0.2347 - dense_23_loss: 0.2730 - 294ms/epoch - 6ms/step\n",
      "Epoch 71/400\n",
      "50/50 - 0s - loss: 0.5074 - dense_22_loss: 0.2351 - dense_23_loss: 0.2723 - 261ms/epoch - 5ms/step\n",
      "Epoch 72/400\n",
      "50/50 - 0s - loss: 0.5018 - dense_22_loss: 0.2313 - dense_23_loss: 0.2705 - 270ms/epoch - 5ms/step\n",
      "Epoch 73/400\n",
      "50/50 - 0s - loss: 0.5027 - dense_22_loss: 0.2323 - dense_23_loss: 0.2705 - 263ms/epoch - 5ms/step\n",
      "Epoch 74/400\n",
      "50/50 - 0s - loss: 0.5137 - dense_22_loss: 0.2412 - dense_23_loss: 0.2725 - 261ms/epoch - 5ms/step\n",
      "Epoch 75/400\n",
      "50/50 - 0s - loss: 0.5031 - dense_22_loss: 0.2350 - dense_23_loss: 0.2682 - 263ms/epoch - 5ms/step\n",
      "Epoch 76/400\n",
      "50/50 - 0s - loss: 0.5071 - dense_22_loss: 0.2352 - dense_23_loss: 0.2720 - 265ms/epoch - 5ms/step\n",
      "Epoch 77/400\n",
      "50/50 - 0s - loss: 0.5016 - dense_22_loss: 0.2313 - dense_23_loss: 0.2703 - 263ms/epoch - 5ms/step\n",
      "Epoch 78/400\n",
      "50/50 - 0s - loss: 0.5001 - dense_22_loss: 0.2302 - dense_23_loss: 0.2699 - 267ms/epoch - 5ms/step\n",
      "Epoch 79/400\n",
      "50/50 - 0s - loss: 0.5012 - dense_22_loss: 0.2301 - dense_23_loss: 0.2711 - 264ms/epoch - 5ms/step\n",
      "Epoch 80/400\n",
      "50/50 - 0s - loss: 0.4991 - dense_22_loss: 0.2308 - dense_23_loss: 0.2683 - 263ms/epoch - 5ms/step\n",
      "Epoch 81/400\n",
      "50/50 - 0s - loss: 0.4969 - dense_22_loss: 0.2291 - dense_23_loss: 0.2678 - 264ms/epoch - 5ms/step\n",
      "Epoch 82/400\n",
      "50/50 - 0s - loss: 0.5010 - dense_22_loss: 0.2308 - dense_23_loss: 0.2702 - 265ms/epoch - 5ms/step\n",
      "Epoch 83/400\n",
      "50/50 - 0s - loss: 0.4985 - dense_22_loss: 0.2285 - dense_23_loss: 0.2700 - 266ms/epoch - 5ms/step\n",
      "Epoch 84/400\n",
      "50/50 - 0s - loss: 0.4994 - dense_22_loss: 0.2303 - dense_23_loss: 0.2691 - 263ms/epoch - 5ms/step\n",
      "Epoch 85/400\n",
      "50/50 - 0s - loss: 0.4951 - dense_22_loss: 0.2294 - dense_23_loss: 0.2657 - 265ms/epoch - 5ms/step\n",
      "Epoch 86/400\n",
      "50/50 - 0s - loss: 0.4999 - dense_22_loss: 0.2297 - dense_23_loss: 0.2702 - 266ms/epoch - 5ms/step\n",
      "Epoch 87/400\n",
      "50/50 - 0s - loss: 0.4972 - dense_22_loss: 0.2302 - dense_23_loss: 0.2670 - 269ms/epoch - 5ms/step\n",
      "Epoch 88/400\n",
      "50/50 - 0s - loss: 0.4958 - dense_22_loss: 0.2289 - dense_23_loss: 0.2669 - 265ms/epoch - 5ms/step\n",
      "Epoch 89/400\n",
      "50/50 - 0s - loss: 0.4956 - dense_22_loss: 0.2281 - dense_23_loss: 0.2674 - 261ms/epoch - 5ms/step\n",
      "Epoch 90/400\n",
      "50/50 - 0s - loss: 0.4929 - dense_22_loss: 0.2263 - dense_23_loss: 0.2666 - 268ms/epoch - 5ms/step\n",
      "Epoch 91/400\n",
      "50/50 - 0s - loss: 0.4979 - dense_22_loss: 0.2306 - dense_23_loss: 0.2674 - 265ms/epoch - 5ms/step\n",
      "Epoch 92/400\n",
      "50/50 - 0s - loss: 0.4930 - dense_22_loss: 0.2265 - dense_23_loss: 0.2665 - 266ms/epoch - 5ms/step\n",
      "Epoch 93/400\n",
      "50/50 - 0s - loss: 0.4923 - dense_22_loss: 0.2269 - dense_23_loss: 0.2654 - 267ms/epoch - 5ms/step\n",
      "Epoch 94/400\n",
      "50/50 - 0s - loss: 0.4915 - dense_22_loss: 0.2265 - dense_23_loss: 0.2650 - 263ms/epoch - 5ms/step\n",
      "Epoch 95/400\n",
      "50/50 - 0s - loss: 0.4937 - dense_22_loss: 0.2263 - dense_23_loss: 0.2673 - 264ms/epoch - 5ms/step\n",
      "Epoch 96/400\n",
      "50/50 - 0s - loss: 0.4973 - dense_22_loss: 0.2281 - dense_23_loss: 0.2692 - 263ms/epoch - 5ms/step\n",
      "Epoch 97/400\n",
      "50/50 - 0s - loss: 0.4984 - dense_22_loss: 0.2325 - dense_23_loss: 0.2658 - 268ms/epoch - 5ms/step\n",
      "Epoch 98/400\n",
      "50/50 - 0s - loss: 0.4928 - dense_22_loss: 0.2279 - dense_23_loss: 0.2649 - 264ms/epoch - 5ms/step\n",
      "Epoch 99/400\n",
      "50/50 - 0s - loss: 0.4948 - dense_22_loss: 0.2299 - dense_23_loss: 0.2649 - 265ms/epoch - 5ms/step\n",
      "Epoch 100/400\n",
      "50/50 - 0s - loss: 0.4934 - dense_22_loss: 0.2266 - dense_23_loss: 0.2668 - 268ms/epoch - 5ms/step\n",
      "Epoch 101/400\n",
      "50/50 - 0s - loss: 0.4902 - dense_22_loss: 0.2249 - dense_23_loss: 0.2653 - 265ms/epoch - 5ms/step\n",
      "Epoch 102/400\n",
      "50/50 - 0s - loss: 0.4928 - dense_22_loss: 0.2272 - dense_23_loss: 0.2656 - 265ms/epoch - 5ms/step\n",
      "Epoch 103/400\n",
      "50/50 - 0s - loss: 0.4859 - dense_22_loss: 0.2236 - dense_23_loss: 0.2623 - 265ms/epoch - 5ms/step\n",
      "Epoch 104/400\n",
      "50/50 - 0s - loss: 0.4898 - dense_22_loss: 0.2252 - dense_23_loss: 0.2647 - 265ms/epoch - 5ms/step\n",
      "Epoch 105/400\n",
      "50/50 - 0s - loss: 0.4907 - dense_22_loss: 0.2250 - dense_23_loss: 0.2657 - 265ms/epoch - 5ms/step\n",
      "Epoch 106/400\n",
      "50/50 - 0s - loss: 0.4890 - dense_22_loss: 0.2244 - dense_23_loss: 0.2646 - 263ms/epoch - 5ms/step\n",
      "Epoch 107/400\n",
      "50/50 - 0s - loss: 0.4902 - dense_22_loss: 0.2259 - dense_23_loss: 0.2643 - 263ms/epoch - 5ms/step\n",
      "Epoch 108/400\n",
      "50/50 - 0s - loss: 0.4901 - dense_22_loss: 0.2249 - dense_23_loss: 0.2653 - 265ms/epoch - 5ms/step\n",
      "Epoch 109/400\n",
      "50/50 - 0s - loss: 0.4867 - dense_22_loss: 0.2235 - dense_23_loss: 0.2632 - 264ms/epoch - 5ms/step\n",
      "Epoch 110/400\n",
      "50/50 - 0s - loss: 0.4886 - dense_22_loss: 0.2248 - dense_23_loss: 0.2638 - 267ms/epoch - 5ms/step\n",
      "Epoch 111/400\n",
      "50/50 - 0s - loss: 0.4861 - dense_22_loss: 0.2242 - dense_23_loss: 0.2618 - 264ms/epoch - 5ms/step\n",
      "Epoch 112/400\n",
      "50/50 - 0s - loss: 0.4862 - dense_22_loss: 0.2235 - dense_23_loss: 0.2627 - 263ms/epoch - 5ms/step\n",
      "Epoch 113/400\n",
      "50/50 - 0s - loss: 0.4834 - dense_22_loss: 0.2222 - dense_23_loss: 0.2611 - 263ms/epoch - 5ms/step\n",
      "Epoch 114/400\n",
      "50/50 - 0s - loss: 0.4821 - dense_22_loss: 0.2203 - dense_23_loss: 0.2618 - 265ms/epoch - 5ms/step\n",
      "Epoch 115/400\n",
      "50/50 - 0s - loss: 0.4907 - dense_22_loss: 0.2259 - dense_23_loss: 0.2648 - 267ms/epoch - 5ms/step\n",
      "Epoch 116/400\n",
      "50/50 - 0s - loss: 0.4878 - dense_22_loss: 0.2239 - dense_23_loss: 0.2639 - 265ms/epoch - 5ms/step\n",
      "Epoch 117/400\n",
      "50/50 - 0s - loss: 0.4834 - dense_22_loss: 0.2228 - dense_23_loss: 0.2606 - 265ms/epoch - 5ms/step\n",
      "Epoch 118/400\n",
      "50/50 - 0s - loss: 0.4835 - dense_22_loss: 0.2210 - dense_23_loss: 0.2625 - 265ms/epoch - 5ms/step\n",
      "Epoch 119/400\n",
      "50/50 - 0s - loss: 0.4858 - dense_22_loss: 0.2242 - dense_23_loss: 0.2616 - 269ms/epoch - 5ms/step\n",
      "Epoch 120/400\n",
      "50/50 - 0s - loss: 0.4802 - dense_22_loss: 0.2215 - dense_23_loss: 0.2587 - 265ms/epoch - 5ms/step\n",
      "Epoch 121/400\n",
      "50/50 - 0s - loss: 0.4816 - dense_22_loss: 0.2222 - dense_23_loss: 0.2594 - 266ms/epoch - 5ms/step\n",
      "Epoch 122/400\n",
      "50/50 - 0s - loss: 0.4871 - dense_22_loss: 0.2236 - dense_23_loss: 0.2635 - 263ms/epoch - 5ms/step\n",
      "Epoch 123/400\n",
      "50/50 - 0s - loss: 0.4831 - dense_22_loss: 0.2229 - dense_23_loss: 0.2603 - 271ms/epoch - 5ms/step\n",
      "Epoch 124/400\n",
      "50/50 - 0s - loss: 0.4813 - dense_22_loss: 0.2230 - dense_23_loss: 0.2582 - 287ms/epoch - 6ms/step\n",
      "Epoch 125/400\n",
      "50/50 - 0s - loss: 0.4838 - dense_22_loss: 0.2231 - dense_23_loss: 0.2606 - 264ms/epoch - 5ms/step\n",
      "Epoch 126/400\n",
      "50/50 - 0s - loss: 0.4825 - dense_22_loss: 0.2222 - dense_23_loss: 0.2603 - 263ms/epoch - 5ms/step\n",
      "Epoch 127/400\n",
      "50/50 - 0s - loss: 0.4796 - dense_22_loss: 0.2213 - dense_23_loss: 0.2583 - 267ms/epoch - 5ms/step\n",
      "Epoch 128/400\n",
      "50/50 - 0s - loss: 0.4805 - dense_22_loss: 0.2199 - dense_23_loss: 0.2606 - 263ms/epoch - 5ms/step\n",
      "Epoch 129/400\n",
      "50/50 - 0s - loss: 0.4811 - dense_22_loss: 0.2197 - dense_23_loss: 0.2615 - 263ms/epoch - 5ms/step\n",
      "Epoch 130/400\n",
      "50/50 - 0s - loss: 0.4812 - dense_22_loss: 0.2210 - dense_23_loss: 0.2602 - 267ms/epoch - 5ms/step\n",
      "Epoch 131/400\n",
      "50/50 - 0s - loss: 0.4794 - dense_22_loss: 0.2202 - dense_23_loss: 0.2592 - 281ms/epoch - 6ms/step\n",
      "Epoch 132/400\n",
      "50/50 - 0s - loss: 0.4759 - dense_22_loss: 0.2185 - dense_23_loss: 0.2574 - 269ms/epoch - 5ms/step\n",
      "Epoch 133/400\n",
      "50/50 - 0s - loss: 0.4739 - dense_22_loss: 0.2150 - dense_23_loss: 0.2589 - 265ms/epoch - 5ms/step\n",
      "Epoch 134/400\n",
      "50/50 - 0s - loss: 0.4782 - dense_22_loss: 0.2199 - dense_23_loss: 0.2582 - 262ms/epoch - 5ms/step\n",
      "Epoch 135/400\n",
      "50/50 - 0s - loss: 0.4776 - dense_22_loss: 0.2191 - dense_23_loss: 0.2585 - 266ms/epoch - 5ms/step\n",
      "Epoch 136/400\n",
      "50/50 - 0s - loss: 0.4778 - dense_22_loss: 0.2184 - dense_23_loss: 0.2594 - 265ms/epoch - 5ms/step\n",
      "Epoch 137/400\n",
      "50/50 - 0s - loss: 0.4765 - dense_22_loss: 0.2172 - dense_23_loss: 0.2593 - 271ms/epoch - 5ms/step\n",
      "Epoch 138/400\n",
      "50/50 - 0s - loss: 0.4750 - dense_22_loss: 0.2182 - dense_23_loss: 0.2568 - 267ms/epoch - 5ms/step\n",
      "Epoch 139/400\n",
      "50/50 - 0s - loss: 0.4767 - dense_22_loss: 0.2188 - dense_23_loss: 0.2579 - 265ms/epoch - 5ms/step\n",
      "Epoch 140/400\n",
      "50/50 - 0s - loss: 0.4752 - dense_22_loss: 0.2191 - dense_23_loss: 0.2561 - 265ms/epoch - 5ms/step\n",
      "Epoch 141/400\n",
      "50/50 - 0s - loss: 0.4745 - dense_22_loss: 0.2169 - dense_23_loss: 0.2576 - 268ms/epoch - 5ms/step\n",
      "Epoch 142/400\n",
      "50/50 - 0s - loss: 0.4775 - dense_22_loss: 0.2185 - dense_23_loss: 0.2591 - 264ms/epoch - 5ms/step\n",
      "Epoch 143/400\n",
      "50/50 - 0s - loss: 0.4748 - dense_22_loss: 0.2176 - dense_23_loss: 0.2572 - 265ms/epoch - 5ms/step\n",
      "Epoch 144/400\n",
      "50/50 - 0s - loss: 0.4742 - dense_22_loss: 0.2164 - dense_23_loss: 0.2578 - 273ms/epoch - 5ms/step\n",
      "Epoch 145/400\n",
      "50/50 - 0s - loss: 0.4741 - dense_22_loss: 0.2178 - dense_23_loss: 0.2563 - 272ms/epoch - 5ms/step\n",
      "Epoch 146/400\n",
      "50/50 - 0s - loss: 0.4779 - dense_22_loss: 0.2209 - dense_23_loss: 0.2570 - 259ms/epoch - 5ms/step\n",
      "Epoch 147/400\n",
      "50/50 - 0s - loss: 0.4757 - dense_22_loss: 0.2194 - dense_23_loss: 0.2564 - 258ms/epoch - 5ms/step\n",
      "Epoch 148/400\n",
      "50/50 - 0s - loss: 0.4760 - dense_22_loss: 0.2187 - dense_23_loss: 0.2573 - 252ms/epoch - 5ms/step\n",
      "Epoch 149/400\n",
      "50/50 - 0s - loss: 0.4714 - dense_22_loss: 0.2164 - dense_23_loss: 0.2549 - 254ms/epoch - 5ms/step\n",
      "Epoch 150/400\n",
      "50/50 - 0s - loss: 0.4740 - dense_22_loss: 0.2157 - dense_23_loss: 0.2583 - 252ms/epoch - 5ms/step\n",
      "Epoch 151/400\n",
      "50/50 - 0s - loss: 0.4727 - dense_22_loss: 0.2162 - dense_23_loss: 0.2564 - 254ms/epoch - 5ms/step\n",
      "Epoch 152/400\n",
      "50/50 - 0s - loss: 0.4729 - dense_22_loss: 0.2153 - dense_23_loss: 0.2576 - 253ms/epoch - 5ms/step\n",
      "Epoch 153/400\n",
      "50/50 - 0s - loss: 0.4725 - dense_22_loss: 0.2165 - dense_23_loss: 0.2559 - 252ms/epoch - 5ms/step\n",
      "Epoch 154/400\n",
      "50/50 - 0s - loss: 0.4691 - dense_22_loss: 0.2131 - dense_23_loss: 0.2560 - 255ms/epoch - 5ms/step\n",
      "Epoch 155/400\n",
      "50/50 - 0s - loss: 0.4710 - dense_22_loss: 0.2158 - dense_23_loss: 0.2553 - 255ms/epoch - 5ms/step\n",
      "Epoch 156/400\n",
      "50/50 - 0s - loss: 0.4703 - dense_22_loss: 0.2146 - dense_23_loss: 0.2557 - 255ms/epoch - 5ms/step\n",
      "Epoch 157/400\n",
      "50/50 - 0s - loss: 0.4694 - dense_22_loss: 0.2148 - dense_23_loss: 0.2546 - 256ms/epoch - 5ms/step\n",
      "Epoch 158/400\n",
      "50/50 - 0s - loss: 0.4694 - dense_22_loss: 0.2145 - dense_23_loss: 0.2549 - 268ms/epoch - 5ms/step\n",
      "Epoch 159/400\n",
      "50/50 - 0s - loss: 0.4690 - dense_22_loss: 0.2134 - dense_23_loss: 0.2556 - 279ms/epoch - 6ms/step\n",
      "Epoch 160/400\n",
      "50/50 - 0s - loss: 0.4623 - dense_22_loss: 0.2110 - dense_23_loss: 0.2513 - 254ms/epoch - 5ms/step\n",
      "Epoch 161/400\n",
      "50/50 - 0s - loss: 0.4689 - dense_22_loss: 0.2137 - dense_23_loss: 0.2553 - 253ms/epoch - 5ms/step\n",
      "Epoch 162/400\n",
      "50/50 - 0s - loss: 0.4680 - dense_22_loss: 0.2149 - dense_23_loss: 0.2531 - 254ms/epoch - 5ms/step\n",
      "Epoch 163/400\n",
      "50/50 - 0s - loss: 0.4687 - dense_22_loss: 0.2137 - dense_23_loss: 0.2550 - 254ms/epoch - 5ms/step\n",
      "Epoch 164/400\n",
      "50/50 - 0s - loss: 0.4670 - dense_22_loss: 0.2135 - dense_23_loss: 0.2535 - 253ms/epoch - 5ms/step\n",
      "Epoch 165/400\n",
      "50/50 - 0s - loss: 0.4643 - dense_22_loss: 0.2116 - dense_23_loss: 0.2528 - 254ms/epoch - 5ms/step\n",
      "Epoch 166/400\n",
      "50/50 - 0s - loss: 0.4651 - dense_22_loss: 0.2141 - dense_23_loss: 0.2510 - 276ms/epoch - 6ms/step\n",
      "Epoch 167/400\n",
      "50/50 - 0s - loss: 0.4685 - dense_22_loss: 0.2139 - dense_23_loss: 0.2545 - 261ms/epoch - 5ms/step\n",
      "Epoch 168/400\n",
      "50/50 - 0s - loss: 0.4676 - dense_22_loss: 0.2146 - dense_23_loss: 0.2530 - 258ms/epoch - 5ms/step\n",
      "Epoch 169/400\n",
      "50/50 - 0s - loss: 0.4658 - dense_22_loss: 0.2139 - dense_23_loss: 0.2520 - 262ms/epoch - 5ms/step\n",
      "Epoch 170/400\n",
      "50/50 - 0s - loss: 0.4687 - dense_22_loss: 0.2157 - dense_23_loss: 0.2530 - 260ms/epoch - 5ms/step\n",
      "Epoch 171/400\n",
      "50/50 - 0s - loss: 0.4647 - dense_22_loss: 0.2135 - dense_23_loss: 0.2512 - 258ms/epoch - 5ms/step\n",
      "Epoch 172/400\n",
      "50/50 - 0s - loss: 0.4638 - dense_22_loss: 0.2142 - dense_23_loss: 0.2496 - 294ms/epoch - 6ms/step\n",
      "Epoch 173/400\n",
      "50/50 - 0s - loss: 0.4659 - dense_22_loss: 0.2129 - dense_23_loss: 0.2530 - 285ms/epoch - 6ms/step\n",
      "Epoch 174/400\n",
      "50/50 - 0s - loss: 0.4642 - dense_22_loss: 0.2111 - dense_23_loss: 0.2531 - 320ms/epoch - 6ms/step\n",
      "Epoch 175/400\n",
      "50/50 - 0s - loss: 0.4644 - dense_22_loss: 0.2130 - dense_23_loss: 0.2514 - 343ms/epoch - 7ms/step\n",
      "Epoch 176/400\n",
      "50/50 - 0s - loss: 0.4642 - dense_22_loss: 0.2124 - dense_23_loss: 0.2518 - 317ms/epoch - 6ms/step\n",
      "Epoch 177/400\n",
      "50/50 - 0s - loss: 0.4649 - dense_22_loss: 0.2131 - dense_23_loss: 0.2518 - 305ms/epoch - 6ms/step\n",
      "Epoch 178/400\n",
      "50/50 - 0s - loss: 0.4667 - dense_22_loss: 0.2122 - dense_23_loss: 0.2544 - 317ms/epoch - 6ms/step\n",
      "Epoch 179/400\n",
      "50/50 - 0s - loss: 0.4616 - dense_22_loss: 0.2121 - dense_23_loss: 0.2495 - 312ms/epoch - 6ms/step\n",
      "Epoch 180/400\n",
      "50/50 - 0s - loss: 0.4658 - dense_22_loss: 0.2125 - dense_23_loss: 0.2533 - 324ms/epoch - 6ms/step\n",
      "Epoch 181/400\n",
      "50/50 - 0s - loss: 0.4646 - dense_22_loss: 0.2128 - dense_23_loss: 0.2518 - 313ms/epoch - 6ms/step\n",
      "Epoch 182/400\n",
      "50/50 - 0s - loss: 0.4624 - dense_22_loss: 0.2127 - dense_23_loss: 0.2497 - 283ms/epoch - 6ms/step\n",
      "Epoch 183/400\n",
      "50/50 - 0s - loss: 0.4658 - dense_22_loss: 0.2130 - dense_23_loss: 0.2528 - 296ms/epoch - 6ms/step\n",
      "Epoch 184/400\n",
      "50/50 - 0s - loss: 0.4617 - dense_22_loss: 0.2107 - dense_23_loss: 0.2509 - 268ms/epoch - 5ms/step\n",
      "Epoch 185/400\n",
      "50/50 - 0s - loss: 0.4604 - dense_22_loss: 0.2097 - dense_23_loss: 0.2507 - 304ms/epoch - 6ms/step\n",
      "Epoch 186/400\n",
      "50/50 - 0s - loss: 0.4620 - dense_22_loss: 0.2108 - dense_23_loss: 0.2512 - 267ms/epoch - 5ms/step\n",
      "Epoch 187/400\n",
      "50/50 - 0s - loss: 0.4600 - dense_22_loss: 0.2102 - dense_23_loss: 0.2498 - 264ms/epoch - 5ms/step\n",
      "Epoch 188/400\n",
      "50/50 - 0s - loss: 0.4615 - dense_22_loss: 0.2108 - dense_23_loss: 0.2507 - 263ms/epoch - 5ms/step\n",
      "Epoch 189/400\n",
      "50/50 - 0s - loss: 0.4602 - dense_22_loss: 0.2093 - dense_23_loss: 0.2509 - 270ms/epoch - 5ms/step\n",
      "Epoch 190/400\n",
      "50/50 - 0s - loss: 0.4621 - dense_22_loss: 0.2123 - dense_23_loss: 0.2498 - 295ms/epoch - 6ms/step\n",
      "Epoch 191/400\n",
      "50/50 - 0s - loss: 0.4616 - dense_22_loss: 0.2115 - dense_23_loss: 0.2501 - 280ms/epoch - 6ms/step\n",
      "Epoch 192/400\n",
      "50/50 - 0s - loss: 0.4606 - dense_22_loss: 0.2107 - dense_23_loss: 0.2499 - 295ms/epoch - 6ms/step\n",
      "Epoch 193/400\n",
      "50/50 - 0s - loss: 0.4634 - dense_22_loss: 0.2115 - dense_23_loss: 0.2520 - 303ms/epoch - 6ms/step\n",
      "Epoch 194/400\n",
      "50/50 - 0s - loss: 0.4563 - dense_22_loss: 0.2088 - dense_23_loss: 0.2475 - 308ms/epoch - 6ms/step\n",
      "Epoch 195/400\n",
      "50/50 - 0s - loss: 0.4598 - dense_22_loss: 0.2107 - dense_23_loss: 0.2492 - 305ms/epoch - 6ms/step\n",
      "Epoch 196/400\n",
      "50/50 - 0s - loss: 0.4583 - dense_22_loss: 0.2092 - dense_23_loss: 0.2491 - 311ms/epoch - 6ms/step\n",
      "Epoch 197/400\n",
      "50/50 - 0s - loss: 0.4596 - dense_22_loss: 0.2102 - dense_23_loss: 0.2494 - 300ms/epoch - 6ms/step\n",
      "Epoch 198/400\n",
      "50/50 - 0s - loss: 0.4593 - dense_22_loss: 0.2098 - dense_23_loss: 0.2495 - 324ms/epoch - 6ms/step\n",
      "Epoch 199/400\n",
      "50/50 - 0s - loss: 0.4586 - dense_22_loss: 0.2097 - dense_23_loss: 0.2489 - 302ms/epoch - 6ms/step\n",
      "Epoch 200/400\n",
      "50/50 - 0s - loss: 0.4591 - dense_22_loss: 0.2078 - dense_23_loss: 0.2514 - 307ms/epoch - 6ms/step\n",
      "Epoch 201/400\n",
      "50/50 - 0s - loss: 0.4588 - dense_22_loss: 0.2088 - dense_23_loss: 0.2500 - 294ms/epoch - 6ms/step\n",
      "Epoch 202/400\n",
      "50/50 - 0s - loss: 0.4608 - dense_22_loss: 0.2092 - dense_23_loss: 0.2515 - 283ms/epoch - 6ms/step\n",
      "Epoch 203/400\n",
      "50/50 - 0s - loss: 0.4602 - dense_22_loss: 0.2116 - dense_23_loss: 0.2486 - 294ms/epoch - 6ms/step\n",
      "Epoch 204/400\n",
      "50/50 - 0s - loss: 0.4579 - dense_22_loss: 0.2089 - dense_23_loss: 0.2490 - 288ms/epoch - 6ms/step\n",
      "Epoch 205/400\n",
      "50/50 - 0s - loss: 0.4565 - dense_22_loss: 0.2090 - dense_23_loss: 0.2475 - 279ms/epoch - 6ms/step\n",
      "Epoch 206/400\n",
      "50/50 - 0s - loss: 0.4585 - dense_22_loss: 0.2095 - dense_23_loss: 0.2490 - 311ms/epoch - 6ms/step\n",
      "Epoch 207/400\n",
      "50/50 - 0s - loss: 0.4571 - dense_22_loss: 0.2080 - dense_23_loss: 0.2491 - 311ms/epoch - 6ms/step\n",
      "Epoch 208/400\n",
      "50/50 - 0s - loss: 0.4564 - dense_22_loss: 0.2081 - dense_23_loss: 0.2482 - 271ms/epoch - 5ms/step\n",
      "Epoch 209/400\n",
      "50/50 - 0s - loss: 0.4580 - dense_22_loss: 0.2092 - dense_23_loss: 0.2488 - 260ms/epoch - 5ms/step\n",
      "Epoch 210/400\n",
      "50/50 - 0s - loss: 0.4568 - dense_22_loss: 0.2085 - dense_23_loss: 0.2483 - 261ms/epoch - 5ms/step\n",
      "Epoch 211/400\n",
      "50/50 - 0s - loss: 0.4567 - dense_22_loss: 0.2079 - dense_23_loss: 0.2489 - 256ms/epoch - 5ms/step\n",
      "Epoch 212/400\n",
      "50/50 - 0s - loss: 0.4647 - dense_22_loss: 0.2154 - dense_23_loss: 0.2493 - 256ms/epoch - 5ms/step\n",
      "Epoch 213/400\n",
      "50/50 - 0s - loss: 0.4633 - dense_22_loss: 0.2105 - dense_23_loss: 0.2528 - 255ms/epoch - 5ms/step\n",
      "Epoch 214/400\n",
      "50/50 - 0s - loss: 0.4598 - dense_22_loss: 0.2079 - dense_23_loss: 0.2518 - 256ms/epoch - 5ms/step\n",
      "Epoch 215/400\n",
      "50/50 - 0s - loss: 0.4544 - dense_22_loss: 0.2064 - dense_23_loss: 0.2480 - 254ms/epoch - 5ms/step\n",
      "Epoch 216/400\n",
      "50/50 - 0s - loss: 0.4554 - dense_22_loss: 0.2080 - dense_23_loss: 0.2474 - 256ms/epoch - 5ms/step\n",
      "Epoch 217/400\n",
      "50/50 - 0s - loss: 0.4565 - dense_22_loss: 0.2086 - dense_23_loss: 0.2479 - 256ms/epoch - 5ms/step\n",
      "Epoch 218/400\n",
      "50/50 - 0s - loss: 0.4580 - dense_22_loss: 0.2083 - dense_23_loss: 0.2498 - 256ms/epoch - 5ms/step\n",
      "Epoch 219/400\n",
      "50/50 - 0s - loss: 0.4548 - dense_22_loss: 0.2057 - dense_23_loss: 0.2491 - 257ms/epoch - 5ms/step\n",
      "Epoch 220/400\n",
      "50/50 - 0s - loss: 0.4547 - dense_22_loss: 0.2069 - dense_23_loss: 0.2479 - 255ms/epoch - 5ms/step\n",
      "Epoch 221/400\n",
      "50/50 - 0s - loss: 0.4534 - dense_22_loss: 0.2075 - dense_23_loss: 0.2459 - 255ms/epoch - 5ms/step\n",
      "Epoch 222/400\n",
      "50/50 - 0s - loss: 0.4560 - dense_22_loss: 0.2092 - dense_23_loss: 0.2469 - 255ms/epoch - 5ms/step\n",
      "Epoch 223/400\n",
      "50/50 - 0s - loss: 0.4566 - dense_22_loss: 0.2085 - dense_23_loss: 0.2481 - 256ms/epoch - 5ms/step\n",
      "Epoch 224/400\n",
      "50/50 - 0s - loss: 0.4526 - dense_22_loss: 0.2086 - dense_23_loss: 0.2440 - 254ms/epoch - 5ms/step\n",
      "Epoch 225/400\n",
      "50/50 - 0s - loss: 0.4570 - dense_22_loss: 0.2084 - dense_23_loss: 0.2486 - 253ms/epoch - 5ms/step\n",
      "Epoch 226/400\n",
      "50/50 - 0s - loss: 0.4571 - dense_22_loss: 0.2080 - dense_23_loss: 0.2491 - 252ms/epoch - 5ms/step\n",
      "Epoch 227/400\n",
      "50/50 - 0s - loss: 0.4552 - dense_22_loss: 0.2070 - dense_23_loss: 0.2482 - 253ms/epoch - 5ms/step\n",
      "Epoch 228/400\n",
      "50/50 - 0s - loss: 0.4557 - dense_22_loss: 0.2082 - dense_23_loss: 0.2474 - 255ms/epoch - 5ms/step\n",
      "Epoch 229/400\n",
      "50/50 - 0s - loss: 0.4526 - dense_22_loss: 0.2057 - dense_23_loss: 0.2469 - 303ms/epoch - 6ms/step\n",
      "Epoch 230/400\n",
      "50/50 - 0s - loss: 0.4533 - dense_22_loss: 0.2068 - dense_23_loss: 0.2465 - 269ms/epoch - 5ms/step\n",
      "Epoch 231/400\n",
      "50/50 - 0s - loss: 0.4545 - dense_22_loss: 0.2065 - dense_23_loss: 0.2480 - 255ms/epoch - 5ms/step\n",
      "Epoch 232/400\n",
      "50/50 - 0s - loss: 0.4516 - dense_22_loss: 0.2057 - dense_23_loss: 0.2458 - 255ms/epoch - 5ms/step\n",
      "Epoch 233/400\n",
      "50/50 - 0s - loss: 0.4539 - dense_22_loss: 0.2073 - dense_23_loss: 0.2466 - 258ms/epoch - 5ms/step\n",
      "Epoch 234/400\n",
      "50/50 - 0s - loss: 0.4557 - dense_22_loss: 0.2082 - dense_23_loss: 0.2475 - 254ms/epoch - 5ms/step\n",
      "Epoch 235/400\n",
      "50/50 - 0s - loss: 0.4540 - dense_22_loss: 0.2076 - dense_23_loss: 0.2464 - 256ms/epoch - 5ms/step\n",
      "Epoch 236/400\n",
      "50/50 - 0s - loss: 0.4542 - dense_22_loss: 0.2072 - dense_23_loss: 0.2470 - 255ms/epoch - 5ms/step\n",
      "Epoch 237/400\n",
      "50/50 - 0s - loss: 0.4541 - dense_22_loss: 0.2076 - dense_23_loss: 0.2465 - 256ms/epoch - 5ms/step\n",
      "Epoch 238/400\n",
      "50/50 - 0s - loss: 0.4518 - dense_22_loss: 0.2042 - dense_23_loss: 0.2476 - 256ms/epoch - 5ms/step\n",
      "Epoch 239/400\n",
      "50/50 - 0s - loss: 0.4519 - dense_22_loss: 0.2055 - dense_23_loss: 0.2464 - 285ms/epoch - 6ms/step\n",
      "Epoch 240/400\n",
      "50/50 - 0s - loss: 0.4519 - dense_22_loss: 0.2046 - dense_23_loss: 0.2473 - 262ms/epoch - 5ms/step\n",
      "Epoch 241/400\n",
      "50/50 - 0s - loss: 0.4535 - dense_22_loss: 0.2070 - dense_23_loss: 0.2465 - 262ms/epoch - 5ms/step\n",
      "Epoch 242/400\n",
      "50/50 - 0s - loss: 0.4485 - dense_22_loss: 0.2040 - dense_23_loss: 0.2445 - 266ms/epoch - 5ms/step\n",
      "Epoch 243/400\n",
      "50/50 - 0s - loss: 0.4537 - dense_22_loss: 0.2068 - dense_23_loss: 0.2469 - 258ms/epoch - 5ms/step\n",
      "Epoch 244/400\n",
      "50/50 - 0s - loss: 0.4507 - dense_22_loss: 0.2065 - dense_23_loss: 0.2441 - 258ms/epoch - 5ms/step\n",
      "Epoch 245/400\n",
      "50/50 - 0s - loss: 0.4517 - dense_22_loss: 0.2059 - dense_23_loss: 0.2458 - 271ms/epoch - 5ms/step\n",
      "Epoch 246/400\n",
      "50/50 - 0s - loss: 0.4491 - dense_22_loss: 0.2040 - dense_23_loss: 0.2451 - 254ms/epoch - 5ms/step\n",
      "Epoch 247/400\n",
      "50/50 - 0s - loss: 0.4515 - dense_22_loss: 0.2061 - dense_23_loss: 0.2454 - 255ms/epoch - 5ms/step\n",
      "Epoch 248/400\n",
      "50/50 - 0s - loss: 0.4537 - dense_22_loss: 0.2073 - dense_23_loss: 0.2464 - 269ms/epoch - 5ms/step\n",
      "Epoch 249/400\n",
      "50/50 - 0s - loss: 0.4507 - dense_22_loss: 0.2053 - dense_23_loss: 0.2454 - 254ms/epoch - 5ms/step\n",
      "Epoch 250/400\n",
      "50/50 - 0s - loss: 0.4513 - dense_22_loss: 0.2044 - dense_23_loss: 0.2470 - 257ms/epoch - 5ms/step\n",
      "Epoch 251/400\n",
      "50/50 - 0s - loss: 0.4513 - dense_22_loss: 0.2050 - dense_23_loss: 0.2464 - 284ms/epoch - 6ms/step\n",
      "Epoch 252/400\n",
      "50/50 - 0s - loss: 0.4483 - dense_22_loss: 0.2039 - dense_23_loss: 0.2444 - 283ms/epoch - 6ms/step\n",
      "Epoch 253/400\n",
      "50/50 - 0s - loss: 0.4497 - dense_22_loss: 0.2047 - dense_23_loss: 0.2450 - 289ms/epoch - 6ms/step\n",
      "Epoch 254/400\n",
      "50/50 - 0s - loss: 0.4473 - dense_22_loss: 0.2048 - dense_23_loss: 0.2425 - 306ms/epoch - 6ms/step\n",
      "Epoch 255/400\n",
      "50/50 - 0s - loss: 0.4479 - dense_22_loss: 0.2046 - dense_23_loss: 0.2433 - 318ms/epoch - 6ms/step\n",
      "Epoch 256/400\n",
      "50/50 - 0s - loss: 0.4485 - dense_22_loss: 0.2042 - dense_23_loss: 0.2443 - 318ms/epoch - 6ms/step\n",
      "Epoch 257/400\n",
      "50/50 - 0s - loss: 0.4471 - dense_22_loss: 0.2038 - dense_23_loss: 0.2433 - 295ms/epoch - 6ms/step\n",
      "Epoch 258/400\n",
      "50/50 - 0s - loss: 0.4459 - dense_22_loss: 0.2034 - dense_23_loss: 0.2426 - 275ms/epoch - 5ms/step\n",
      "Epoch 259/400\n",
      "50/50 - 0s - loss: 0.4469 - dense_22_loss: 0.2037 - dense_23_loss: 0.2432 - 272ms/epoch - 5ms/step\n",
      "Epoch 260/400\n",
      "50/50 - 0s - loss: 0.4497 - dense_22_loss: 0.2041 - dense_23_loss: 0.2456 - 273ms/epoch - 5ms/step\n",
      "Epoch 261/400\n",
      "50/50 - 0s - loss: 0.4471 - dense_22_loss: 0.2053 - dense_23_loss: 0.2417 - 278ms/epoch - 6ms/step\n",
      "Epoch 262/400\n",
      "50/50 - 0s - loss: 0.4495 - dense_22_loss: 0.2066 - dense_23_loss: 0.2429 - 276ms/epoch - 6ms/step\n",
      "Epoch 263/400\n",
      "50/50 - 0s - loss: 0.4477 - dense_22_loss: 0.2032 - dense_23_loss: 0.2445 - 275ms/epoch - 5ms/step\n",
      "Epoch 264/400\n",
      "50/50 - 0s - loss: 0.4446 - dense_22_loss: 0.2040 - dense_23_loss: 0.2406 - 276ms/epoch - 6ms/step\n",
      "Epoch 265/400\n",
      "50/50 - 0s - loss: 0.4487 - dense_22_loss: 0.2049 - dense_23_loss: 0.2438 - 274ms/epoch - 5ms/step\n",
      "Epoch 266/400\n",
      "50/50 - 0s - loss: 0.4469 - dense_22_loss: 0.2042 - dense_23_loss: 0.2427 - 275ms/epoch - 5ms/step\n",
      "Epoch 267/400\n",
      "50/50 - 0s - loss: 0.4473 - dense_22_loss: 0.2031 - dense_23_loss: 0.2442 - 275ms/epoch - 5ms/step\n",
      "Epoch 268/400\n",
      "50/50 - 0s - loss: 0.4483 - dense_22_loss: 0.2056 - dense_23_loss: 0.2427 - 273ms/epoch - 5ms/step\n",
      "Epoch 269/400\n",
      "50/50 - 0s - loss: 0.4483 - dense_22_loss: 0.2051 - dense_23_loss: 0.2432 - 272ms/epoch - 5ms/step\n",
      "Epoch 270/400\n",
      "50/50 - 0s - loss: 0.4470 - dense_22_loss: 0.2059 - dense_23_loss: 0.2412 - 274ms/epoch - 5ms/step\n",
      "Epoch 271/400\n",
      "50/50 - 0s - loss: 0.4479 - dense_22_loss: 0.2059 - dense_23_loss: 0.2420 - 278ms/epoch - 6ms/step\n",
      "Epoch 272/400\n",
      "50/50 - 0s - loss: 0.4497 - dense_22_loss: 0.2044 - dense_23_loss: 0.2454 - 265ms/epoch - 5ms/step\n",
      "Epoch 273/400\n",
      "50/50 - 0s - loss: 0.4511 - dense_22_loss: 0.2053 - dense_23_loss: 0.2458 - 248ms/epoch - 5ms/step\n",
      "Epoch 274/400\n",
      "50/50 - 0s - loss: 0.4459 - dense_22_loss: 0.2032 - dense_23_loss: 0.2427 - 248ms/epoch - 5ms/step\n",
      "Epoch 275/400\n",
      "50/50 - 0s - loss: 0.4488 - dense_22_loss: 0.2039 - dense_23_loss: 0.2449 - 249ms/epoch - 5ms/step\n",
      "Epoch 276/400\n",
      "50/50 - 0s - loss: 0.4460 - dense_22_loss: 0.2028 - dense_23_loss: 0.2432 - 248ms/epoch - 5ms/step\n",
      "Epoch 277/400\n",
      "50/50 - 0s - loss: 0.4468 - dense_22_loss: 0.2046 - dense_23_loss: 0.2422 - 248ms/epoch - 5ms/step\n",
      "Epoch 278/400\n",
      "50/50 - 0s - loss: 0.4463 - dense_22_loss: 0.2037 - dense_23_loss: 0.2426 - 246ms/epoch - 5ms/step\n",
      "Epoch 279/400\n",
      "50/50 - 0s - loss: 0.4462 - dense_22_loss: 0.2029 - dense_23_loss: 0.2434 - 247ms/epoch - 5ms/step\n",
      "Epoch 280/400\n",
      "50/50 - 0s - loss: 0.4456 - dense_22_loss: 0.2029 - dense_23_loss: 0.2428 - 249ms/epoch - 5ms/step\n",
      "Epoch 281/400\n",
      "50/50 - 0s - loss: 0.4424 - dense_22_loss: 0.2024 - dense_23_loss: 0.2401 - 248ms/epoch - 5ms/step\n",
      "Epoch 282/400\n",
      "50/50 - 0s - loss: 0.4442 - dense_22_loss: 0.2020 - dense_23_loss: 0.2422 - 248ms/epoch - 5ms/step\n",
      "Epoch 283/400\n",
      "50/50 - 0s - loss: 0.4438 - dense_22_loss: 0.2023 - dense_23_loss: 0.2415 - 248ms/epoch - 5ms/step\n",
      "Epoch 284/400\n",
      "50/50 - 0s - loss: 0.4443 - dense_22_loss: 0.2027 - dense_23_loss: 0.2417 - 248ms/epoch - 5ms/step\n",
      "Epoch 285/400\n",
      "50/50 - 0s - loss: 0.4468 - dense_22_loss: 0.2043 - dense_23_loss: 0.2425 - 248ms/epoch - 5ms/step\n",
      "Epoch 286/400\n",
      "50/50 - 0s - loss: 0.4487 - dense_22_loss: 0.2050 - dense_23_loss: 0.2437 - 246ms/epoch - 5ms/step\n",
      "Epoch 287/400\n",
      "50/50 - 0s - loss: 0.4440 - dense_22_loss: 0.2036 - dense_23_loss: 0.2404 - 247ms/epoch - 5ms/step\n",
      "Epoch 288/400\n",
      "50/50 - 0s - loss: 0.4452 - dense_22_loss: 0.2031 - dense_23_loss: 0.2421 - 248ms/epoch - 5ms/step\n",
      "Epoch 289/400\n",
      "50/50 - 0s - loss: 0.4440 - dense_22_loss: 0.2020 - dense_23_loss: 0.2420 - 249ms/epoch - 5ms/step\n",
      "Epoch 290/400\n",
      "50/50 - 0s - loss: 0.4440 - dense_22_loss: 0.2031 - dense_23_loss: 0.2409 - 249ms/epoch - 5ms/step\n",
      "Epoch 291/400\n",
      "50/50 - 0s - loss: 0.4446 - dense_22_loss: 0.2034 - dense_23_loss: 0.2412 - 248ms/epoch - 5ms/step\n",
      "Epoch 292/400\n",
      "50/50 - 0s - loss: 0.4433 - dense_22_loss: 0.2018 - dense_23_loss: 0.2414 - 247ms/epoch - 5ms/step\n",
      "Epoch 293/400\n",
      "50/50 - 0s - loss: 0.4419 - dense_22_loss: 0.1995 - dense_23_loss: 0.2424 - 250ms/epoch - 5ms/step\n",
      "Epoch 294/400\n",
      "50/50 - 0s - loss: 0.4435 - dense_22_loss: 0.2020 - dense_23_loss: 0.2414 - 246ms/epoch - 5ms/step\n",
      "Epoch 295/400\n",
      "50/50 - 0s - loss: 0.4419 - dense_22_loss: 0.2016 - dense_23_loss: 0.2403 - 247ms/epoch - 5ms/step\n",
      "Epoch 296/400\n",
      "50/50 - 0s - loss: 0.4434 - dense_22_loss: 0.2019 - dense_23_loss: 0.2415 - 252ms/epoch - 5ms/step\n",
      "Epoch 297/400\n",
      "50/50 - 0s - loss: 0.4422 - dense_22_loss: 0.2038 - dense_23_loss: 0.2385 - 248ms/epoch - 5ms/step\n",
      "Epoch 298/400\n",
      "50/50 - 0s - loss: 0.4437 - dense_22_loss: 0.2047 - dense_23_loss: 0.2389 - 248ms/epoch - 5ms/step\n",
      "Epoch 299/400\n",
      "50/50 - 0s - loss: 0.4413 - dense_22_loss: 0.2020 - dense_23_loss: 0.2393 - 247ms/epoch - 5ms/step\n",
      "Epoch 300/400\n",
      "50/50 - 0s - loss: 0.4478 - dense_22_loss: 0.2044 - dense_23_loss: 0.2433 - 248ms/epoch - 5ms/step\n",
      "Epoch 301/400\n",
      "50/50 - 0s - loss: 0.4421 - dense_22_loss: 0.2001 - dense_23_loss: 0.2420 - 248ms/epoch - 5ms/step\n",
      "Epoch 302/400\n",
      "50/50 - 0s - loss: 0.4458 - dense_22_loss: 0.2030 - dense_23_loss: 0.2428 - 247ms/epoch - 5ms/step\n",
      "Epoch 303/400\n",
      "50/50 - 0s - loss: 0.4576 - dense_22_loss: 0.2095 - dense_23_loss: 0.2482 - 249ms/epoch - 5ms/step\n",
      "Epoch 304/400\n",
      "50/50 - 0s - loss: 0.4415 - dense_22_loss: 0.2014 - dense_23_loss: 0.2401 - 247ms/epoch - 5ms/step\n",
      "Epoch 305/400\n",
      "50/50 - 0s - loss: 0.4425 - dense_22_loss: 0.2030 - dense_23_loss: 0.2395 - 249ms/epoch - 5ms/step\n",
      "Epoch 306/400\n",
      "50/50 - 0s - loss: 0.4394 - dense_22_loss: 0.2002 - dense_23_loss: 0.2392 - 248ms/epoch - 5ms/step\n",
      "Epoch 307/400\n",
      "50/50 - 0s - loss: 0.4410 - dense_22_loss: 0.2023 - dense_23_loss: 0.2387 - 248ms/epoch - 5ms/step\n",
      "Epoch 308/400\n",
      "50/50 - 0s - loss: 0.4412 - dense_22_loss: 0.2011 - dense_23_loss: 0.2401 - 247ms/epoch - 5ms/step\n",
      "Epoch 309/400\n",
      "50/50 - 0s - loss: 0.4390 - dense_22_loss: 0.1998 - dense_23_loss: 0.2392 - 246ms/epoch - 5ms/step\n",
      "Epoch 310/400\n",
      "50/50 - 0s - loss: 0.4398 - dense_22_loss: 0.2010 - dense_23_loss: 0.2388 - 278ms/epoch - 6ms/step\n",
      "Epoch 311/400\n",
      "50/50 - 0s - loss: 0.4392 - dense_22_loss: 0.2011 - dense_23_loss: 0.2381 - 249ms/epoch - 5ms/step\n",
      "Epoch 312/400\n",
      "50/50 - 0s - loss: 0.4436 - dense_22_loss: 0.2025 - dense_23_loss: 0.2411 - 246ms/epoch - 5ms/step\n",
      "Epoch 313/400\n",
      "50/50 - 0s - loss: 0.4424 - dense_22_loss: 0.2018 - dense_23_loss: 0.2406 - 283ms/epoch - 6ms/step\n",
      "Epoch 314/400\n",
      "50/50 - 0s - loss: 0.4363 - dense_22_loss: 0.1990 - dense_23_loss: 0.2373 - 279ms/epoch - 6ms/step\n",
      "Epoch 315/400\n",
      "50/50 - 0s - loss: 0.4393 - dense_22_loss: 0.1997 - dense_23_loss: 0.2397 - 260ms/epoch - 5ms/step\n",
      "Epoch 316/400\n",
      "50/50 - 0s - loss: 0.4391 - dense_22_loss: 0.1993 - dense_23_loss: 0.2398 - 260ms/epoch - 5ms/step\n",
      "Epoch 317/400\n",
      "50/50 - 0s - loss: 0.4381 - dense_22_loss: 0.1997 - dense_23_loss: 0.2384 - 270ms/epoch - 5ms/step\n",
      "Epoch 318/400\n",
      "50/50 - 0s - loss: 0.4390 - dense_22_loss: 0.2005 - dense_23_loss: 0.2385 - 275ms/epoch - 6ms/step\n",
      "Epoch 319/400\n",
      "50/50 - 0s - loss: 0.4399 - dense_22_loss: 0.2014 - dense_23_loss: 0.2385 - 248ms/epoch - 5ms/step\n",
      "Epoch 320/400\n",
      "50/50 - 0s - loss: 0.4410 - dense_22_loss: 0.2012 - dense_23_loss: 0.2399 - 281ms/epoch - 6ms/step\n",
      "Epoch 321/400\n",
      "50/50 - 0s - loss: 0.4383 - dense_22_loss: 0.2025 - dense_23_loss: 0.2358 - 269ms/epoch - 5ms/step\n",
      "Epoch 322/400\n",
      "50/50 - 0s - loss: 0.4369 - dense_22_loss: 0.2022 - dense_23_loss: 0.2346 - 267ms/epoch - 5ms/step\n",
      "Epoch 323/400\n",
      "50/50 - 0s - loss: 0.4370 - dense_22_loss: 0.1993 - dense_23_loss: 0.2377 - 266ms/epoch - 5ms/step\n",
      "Epoch 324/400\n",
      "50/50 - 0s - loss: 0.4344 - dense_22_loss: 0.1986 - dense_23_loss: 0.2357 - 284ms/epoch - 6ms/step\n",
      "Epoch 325/400\n",
      "50/50 - 0s - loss: 0.4348 - dense_22_loss: 0.2004 - dense_23_loss: 0.2345 - 297ms/epoch - 6ms/step\n",
      "Epoch 326/400\n",
      "50/50 - 0s - loss: 0.4370 - dense_22_loss: 0.2002 - dense_23_loss: 0.2368 - 293ms/epoch - 6ms/step\n",
      "Epoch 327/400\n",
      "50/50 - 0s - loss: 0.4380 - dense_22_loss: 0.2005 - dense_23_loss: 0.2375 - 273ms/epoch - 5ms/step\n",
      "Epoch 328/400\n",
      "50/50 - 0s - loss: 0.4368 - dense_22_loss: 0.1992 - dense_23_loss: 0.2376 - 247ms/epoch - 5ms/step\n",
      "Epoch 329/400\n",
      "50/50 - 0s - loss: 0.4369 - dense_22_loss: 0.2003 - dense_23_loss: 0.2366 - 248ms/epoch - 5ms/step\n",
      "Epoch 330/400\n",
      "50/50 - 0s - loss: 0.4366 - dense_22_loss: 0.1987 - dense_23_loss: 0.2379 - 249ms/epoch - 5ms/step\n",
      "Epoch 331/400\n",
      "50/50 - 0s - loss: 0.4343 - dense_22_loss: 0.1979 - dense_23_loss: 0.2364 - 249ms/epoch - 5ms/step\n",
      "Epoch 332/400\n",
      "50/50 - 0s - loss: 0.4576 - dense_22_loss: 0.2132 - dense_23_loss: 0.2444 - 263ms/epoch - 5ms/step\n",
      "Epoch 333/400\n",
      "50/50 - 0s - loss: 0.4431 - dense_22_loss: 0.2013 - dense_23_loss: 0.2418 - 250ms/epoch - 5ms/step\n",
      "Epoch 334/400\n",
      "50/50 - 0s - loss: 0.4398 - dense_22_loss: 0.2023 - dense_23_loss: 0.2375 - 247ms/epoch - 5ms/step\n",
      "Epoch 335/400\n",
      "50/50 - 0s - loss: 0.4334 - dense_22_loss: 0.1993 - dense_23_loss: 0.2340 - 247ms/epoch - 5ms/step\n",
      "Epoch 336/400\n",
      "50/50 - 0s - loss: 0.4355 - dense_22_loss: 0.1994 - dense_23_loss: 0.2361 - 247ms/epoch - 5ms/step\n",
      "Epoch 337/400\n",
      "50/50 - 0s - loss: 0.4370 - dense_22_loss: 0.1998 - dense_23_loss: 0.2371 - 270ms/epoch - 5ms/step\n",
      "Epoch 338/400\n",
      "50/50 - 0s - loss: 0.4428 - dense_22_loss: 0.2022 - dense_23_loss: 0.2406 - 251ms/epoch - 5ms/step\n",
      "Epoch 339/400\n",
      "50/50 - 0s - loss: 0.4409 - dense_22_loss: 0.2025 - dense_23_loss: 0.2383 - 264ms/epoch - 5ms/step\n",
      "Epoch 340/400\n",
      "50/50 - 0s - loss: 0.4362 - dense_22_loss: 0.2000 - dense_23_loss: 0.2362 - 284ms/epoch - 6ms/step\n",
      "Epoch 341/400\n",
      "50/50 - 0s - loss: 0.4389 - dense_22_loss: 0.2008 - dense_23_loss: 0.2381 - 286ms/epoch - 6ms/step\n",
      "Epoch 342/400\n",
      "50/50 - 0s - loss: 0.4391 - dense_22_loss: 0.2010 - dense_23_loss: 0.2381 - 274ms/epoch - 5ms/step\n",
      "Epoch 343/400\n",
      "50/50 - 0s - loss: 0.4371 - dense_22_loss: 0.2001 - dense_23_loss: 0.2370 - 306ms/epoch - 6ms/step\n",
      "Epoch 344/400\n",
      "50/50 - 0s - loss: 0.4356 - dense_22_loss: 0.1991 - dense_23_loss: 0.2366 - 297ms/epoch - 6ms/step\n",
      "Epoch 345/400\n",
      "50/50 - 0s - loss: 0.4337 - dense_22_loss: 0.1982 - dense_23_loss: 0.2355 - 288ms/epoch - 6ms/step\n",
      "Epoch 346/400\n",
      "50/50 - 0s - loss: 0.4347 - dense_22_loss: 0.1987 - dense_23_loss: 0.2360 - 294ms/epoch - 6ms/step\n",
      "Epoch 347/400\n",
      "50/50 - 0s - loss: 0.4391 - dense_22_loss: 0.2013 - dense_23_loss: 0.2378 - 292ms/epoch - 6ms/step\n",
      "Epoch 348/400\n",
      "50/50 - 0s - loss: 0.4398 - dense_22_loss: 0.2025 - dense_23_loss: 0.2373 - 338ms/epoch - 7ms/step\n",
      "Epoch 349/400\n",
      "50/50 - 0s - loss: 0.4358 - dense_22_loss: 0.2003 - dense_23_loss: 0.2355 - 326ms/epoch - 7ms/step\n",
      "Epoch 350/400\n",
      "50/50 - 0s - loss: 0.4373 - dense_22_loss: 0.2008 - dense_23_loss: 0.2365 - 304ms/epoch - 6ms/step\n",
      "Epoch 351/400\n",
      "50/50 - 0s - loss: 0.4346 - dense_22_loss: 0.1993 - dense_23_loss: 0.2353 - 305ms/epoch - 6ms/step\n",
      "Epoch 352/400\n",
      "50/50 - 0s - loss: 0.4337 - dense_22_loss: 0.1980 - dense_23_loss: 0.2357 - 291ms/epoch - 6ms/step\n",
      "Epoch 353/400\n",
      "50/50 - 0s - loss: 0.4350 - dense_22_loss: 0.2004 - dense_23_loss: 0.2346 - 292ms/epoch - 6ms/step\n",
      "Epoch 354/400\n",
      "50/50 - 0s - loss: 0.4355 - dense_22_loss: 0.1981 - dense_23_loss: 0.2375 - 313ms/epoch - 6ms/step\n",
      "Epoch 355/400\n",
      "50/50 - 0s - loss: 0.4327 - dense_22_loss: 0.1981 - dense_23_loss: 0.2345 - 318ms/epoch - 6ms/step\n",
      "Epoch 356/400\n",
      "50/50 - 0s - loss: 0.4327 - dense_22_loss: 0.1976 - dense_23_loss: 0.2351 - 317ms/epoch - 6ms/step\n",
      "Epoch 357/400\n",
      "50/50 - 0s - loss: 0.4342 - dense_22_loss: 0.1997 - dense_23_loss: 0.2345 - 317ms/epoch - 6ms/step\n",
      "Epoch 358/400\n",
      "50/50 - 0s - loss: 0.4357 - dense_22_loss: 0.1988 - dense_23_loss: 0.2369 - 335ms/epoch - 7ms/step\n",
      "Epoch 359/400\n",
      "50/50 - 0s - loss: 0.4347 - dense_22_loss: 0.1985 - dense_23_loss: 0.2362 - 313ms/epoch - 6ms/step\n",
      "Epoch 360/400\n",
      "50/50 - 0s - loss: 0.4317 - dense_22_loss: 0.1971 - dense_23_loss: 0.2346 - 308ms/epoch - 6ms/step\n",
      "Epoch 361/400\n",
      "50/50 - 0s - loss: 0.4293 - dense_22_loss: 0.1980 - dense_23_loss: 0.2313 - 343ms/epoch - 7ms/step\n",
      "Epoch 362/400\n",
      "50/50 - 0s - loss: 0.4335 - dense_22_loss: 0.1994 - dense_23_loss: 0.2341 - 336ms/epoch - 7ms/step\n",
      "Epoch 363/400\n",
      "50/50 - 0s - loss: 0.4358 - dense_22_loss: 0.2009 - dense_23_loss: 0.2349 - 335ms/epoch - 7ms/step\n",
      "Epoch 364/400\n",
      "50/50 - 0s - loss: 0.4367 - dense_22_loss: 0.2006 - dense_23_loss: 0.2361 - 352ms/epoch - 7ms/step\n",
      "Epoch 365/400\n",
      "50/50 - 0s - loss: 0.4362 - dense_22_loss: 0.2000 - dense_23_loss: 0.2361 - 364ms/epoch - 7ms/step\n",
      "Epoch 366/400\n",
      "50/50 - 0s - loss: 0.4325 - dense_22_loss: 0.1974 - dense_23_loss: 0.2351 - 360ms/epoch - 7ms/step\n",
      "Epoch 367/400\n",
      "50/50 - 0s - loss: 0.4330 - dense_22_loss: 0.1977 - dense_23_loss: 0.2352 - 370ms/epoch - 7ms/step\n",
      "Epoch 368/400\n",
      "50/50 - 0s - loss: 0.4351 - dense_22_loss: 0.1992 - dense_23_loss: 0.2359 - 339ms/epoch - 7ms/step\n",
      "Epoch 369/400\n",
      "50/50 - 0s - loss: 0.4323 - dense_22_loss: 0.1971 - dense_23_loss: 0.2352 - 319ms/epoch - 6ms/step\n",
      "Epoch 370/400\n",
      "50/50 - 0s - loss: 0.4323 - dense_22_loss: 0.1966 - dense_23_loss: 0.2357 - 302ms/epoch - 6ms/step\n",
      "Epoch 371/400\n",
      "50/50 - 0s - loss: 0.4294 - dense_22_loss: 0.1969 - dense_23_loss: 0.2325 - 303ms/epoch - 6ms/step\n",
      "Epoch 372/400\n",
      "50/50 - 0s - loss: 0.4305 - dense_22_loss: 0.1971 - dense_23_loss: 0.2334 - 300ms/epoch - 6ms/step\n",
      "Epoch 373/400\n",
      "50/50 - 0s - loss: 0.4304 - dense_22_loss: 0.1975 - dense_23_loss: 0.2329 - 315ms/epoch - 6ms/step\n",
      "Epoch 374/400\n",
      "50/50 - 0s - loss: 0.4304 - dense_22_loss: 0.1971 - dense_23_loss: 0.2332 - 305ms/epoch - 6ms/step\n",
      "Epoch 375/400\n",
      "50/50 - 0s - loss: 0.4304 - dense_22_loss: 0.1963 - dense_23_loss: 0.2341 - 296ms/epoch - 6ms/step\n",
      "Epoch 376/400\n",
      "50/50 - 0s - loss: 0.4345 - dense_22_loss: 0.1999 - dense_23_loss: 0.2346 - 326ms/epoch - 7ms/step\n",
      "Epoch 377/400\n",
      "50/50 - 0s - loss: 0.4312 - dense_22_loss: 0.1977 - dense_23_loss: 0.2335 - 309ms/epoch - 6ms/step\n",
      "Epoch 378/400\n",
      "50/50 - 0s - loss: 0.4292 - dense_22_loss: 0.1953 - dense_23_loss: 0.2339 - 335ms/epoch - 7ms/step\n",
      "Epoch 379/400\n",
      "50/50 - 0s - loss: 0.4323 - dense_22_loss: 0.1972 - dense_23_loss: 0.2351 - 332ms/epoch - 7ms/step\n",
      "Epoch 380/400\n",
      "50/50 - 0s - loss: 0.4335 - dense_22_loss: 0.1985 - dense_23_loss: 0.2350 - 336ms/epoch - 7ms/step\n",
      "Epoch 381/400\n",
      "50/50 - 0s - loss: 0.4324 - dense_22_loss: 0.1992 - dense_23_loss: 0.2332 - 308ms/epoch - 6ms/step\n",
      "Epoch 382/400\n",
      "50/50 - 0s - loss: 0.4279 - dense_22_loss: 0.1960 - dense_23_loss: 0.2319 - 301ms/epoch - 6ms/step\n",
      "Epoch 383/400\n",
      "50/50 - 0s - loss: 0.4371 - dense_22_loss: 0.2008 - dense_23_loss: 0.2363 - 298ms/epoch - 6ms/step\n",
      "Epoch 384/400\n",
      "50/50 - 0s - loss: 0.4334 - dense_22_loss: 0.1980 - dense_23_loss: 0.2354 - 300ms/epoch - 6ms/step\n",
      "Epoch 385/400\n",
      "50/50 - 0s - loss: 0.4394 - dense_22_loss: 0.2040 - dense_23_loss: 0.2354 - 296ms/epoch - 6ms/step\n",
      "Epoch 386/400\n",
      "50/50 - 0s - loss: 0.4335 - dense_22_loss: 0.1981 - dense_23_loss: 0.2354 - 296ms/epoch - 6ms/step\n",
      "Epoch 387/400\n",
      "50/50 - 0s - loss: 0.4318 - dense_22_loss: 0.1969 - dense_23_loss: 0.2350 - 295ms/epoch - 6ms/step\n",
      "Epoch 388/400\n",
      "50/50 - 0s - loss: 0.4276 - dense_22_loss: 0.1955 - dense_23_loss: 0.2320 - 294ms/epoch - 6ms/step\n",
      "Epoch 389/400\n",
      "50/50 - 0s - loss: 0.4280 - dense_22_loss: 0.1959 - dense_23_loss: 0.2321 - 345ms/epoch - 7ms/step\n",
      "Epoch 390/400\n",
      "50/50 - 0s - loss: 0.4300 - dense_22_loss: 0.1978 - dense_23_loss: 0.2322 - 327ms/epoch - 7ms/step\n",
      "Epoch 391/400\n",
      "50/50 - 0s - loss: 0.4329 - dense_22_loss: 0.1998 - dense_23_loss: 0.2331 - 300ms/epoch - 6ms/step\n",
      "Epoch 392/400\n",
      "50/50 - 0s - loss: 0.4326 - dense_22_loss: 0.1990 - dense_23_loss: 0.2336 - 298ms/epoch - 6ms/step\n",
      "Epoch 393/400\n",
      "50/50 - 0s - loss: 0.4300 - dense_22_loss: 0.1973 - dense_23_loss: 0.2327 - 335ms/epoch - 7ms/step\n",
      "Epoch 394/400\n",
      "50/50 - 0s - loss: 0.4294 - dense_22_loss: 0.1962 - dense_23_loss: 0.2332 - 303ms/epoch - 6ms/step\n",
      "Epoch 395/400\n",
      "50/50 - 0s - loss: 0.4274 - dense_22_loss: 0.1962 - dense_23_loss: 0.2313 - 296ms/epoch - 6ms/step\n",
      "Epoch 396/400\n",
      "50/50 - 0s - loss: 0.4295 - dense_22_loss: 0.1969 - dense_23_loss: 0.2326 - 302ms/epoch - 6ms/step\n",
      "Epoch 397/400\n",
      "50/50 - 0s - loss: 0.4283 - dense_22_loss: 0.1955 - dense_23_loss: 0.2328 - 314ms/epoch - 6ms/step\n",
      "Epoch 398/400\n",
      "50/50 - 0s - loss: 0.4310 - dense_22_loss: 0.1983 - dense_23_loss: 0.2327 - 317ms/epoch - 6ms/step\n",
      "Epoch 399/400\n",
      "50/50 - 0s - loss: 0.4250 - dense_22_loss: 0.1940 - dense_23_loss: 0.2310 - 311ms/epoch - 6ms/step\n",
      "Epoch 400/400\n",
      "50/50 - 0s - loss: 0.4263 - dense_22_loss: 0.1946 - dense_23_loss: 0.2317 - 302ms/epoch - 6ms/step\n",
      "INFO:tensorflow:Assets written to: models/Edinburgh_NN_5_point_pred_velocity/assets\n"
     ]
    }
   ],
   "source": [
    "y_vel_x, y_vel_y = train[1], train[2] # separate the y data into x and y position columns\n",
    "model.fit(train[0], [y_vel_x, y_vel_y], epochs=400, batch_size=32, verbose=2)\n",
    "model.save('models/Edinburgh_NN_5_point_pred_velocity')"
   ]
  },
  {
   "cell_type": "code",
   "execution_count": 40,
   "id": "BqPlv1LBOx7C",
   "metadata": {
    "colab": {
     "base_uri": "https://localhost:8080/"
    },
    "id": "BqPlv1LBOx7C",
    "outputId": "81501cf3-4d2c-4958-a105-fb52f5b8c1f5"
   },
   "outputs": [
    {
     "name": "stdout",
     "output_type": "stream",
     "text": [
      "Train Score: 0.42\n",
      "Test Score: 0.64\n"
     ]
    }
   ],
   "source": [
    "trainScore = model.evaluate(train[0], [train[1], train[2]], verbose=0)\n",
    "print('Train Score: %.2f' % (trainScore[0]))\n",
    "\n",
    "testScore = model.evaluate(test[0], [test[1], test[2]], verbose=0)\n",
    "print('Test Score: %.2f' % (testScore[0]))"
   ]
  },
  {
   "cell_type": "markdown",
   "id": "f13b77d2",
   "metadata": {},
   "source": [
    "## Making predictions on test data"
   ]
  },
  {
   "cell_type": "code",
   "execution_count": 22,
   "id": "wdLHm-yCNbJU",
   "metadata": {
    "colab": {
     "base_uri": "https://localhost:8080/",
     "height": 1000
    },
    "id": "wdLHm-yCNbJU",
    "outputId": "19757ef5-3529-4b8e-b5b8-1f7b43deff58"
   },
   "outputs": [
    {
     "name": "stderr",
     "output_type": "stream",
     "text": [
      "2022-01-14 11:55:01.735893: I tensorflow/core/grappler/optimizers/custom_graph_optimizer_registry.cc:112] Plugin optimizer for device_type GPU is enabled.\n"
     ]
    },
    {
     "data": {
      "image/png": "[encoded data removed]",
      "text/plain": [
       "<Figure size 432x288 with 1 Axes>"
      ]
     },
     "metadata": {
      "needs_background": "light"
     },
     "output_type": "display_data"
    },
    {
     "data": {
      "image/png": "[encoded data removed]",
      "text/plain": [
       "<Figure size 432x288 with 1 Axes>"
      ]
     },
     "metadata": {
      "needs_background": "light"
     },
     "output_type": "display_data"
    },
    {
     "data": {
      "image/png": "[encoded data removed]",
      "text/plain": [
       "<Figure size 432x288 with 1 Axes>"
      ]
     },
     "metadata": {
      "needs_background": "light"
     },
     "output_type": "display_data"
    },
    {
     "data": {
      "image/png": "[encoded data removed]",
      "text/plain": [
       "<Figure size 432x288 with 1 Axes>"
      ]
     },
     "metadata": {
      "needs_background": "light"
     },
     "output_type": "display_data"
    },
    {
     "data": {
      "image/png": "[encoded data removed]",
      "text/plain": [
       "<Figure size 432x288 with 1 Axes>"
      ]
     },
     "metadata": {
      "needs_background": "light"
     },
     "output_type": "display_data"
    },
    {
     "data": {
      "image/png": "[encoded data removed]",
      "text/plain": [
       "<Figure size 432x288 with 1 Axes>"
      ]
     },
     "metadata": {
      "needs_background": "light"
     },
     "output_type": "display_data"
    },
    {
     "data": {
      "image/png": "[encoded data removed]",
      "text/plain": [
       "<Figure size 432x288 with 1 Axes>"
      ]
     },
     "metadata": {
      "needs_background": "light"
     },
     "output_type": "display_data"
    },
    {
     "data": {
      "image/png": "[encoded data removed]",
      "text/plain": [
       "<Figure size 432x288 with 1 Axes>"
      ]
     },
     "metadata": {
      "needs_background": "light"
     },
     "output_type": "display_data"
    },
    {
     "data": {
      "image/png": "[encoded data removed]",
      "text/plain": [
       "<Figure size 432x288 with 1 Axes>"
      ]
     },
     "metadata": {
      "needs_background": "light"
     },
     "output_type": "display_data"
    },
    {
     "data": {
      "image/png": "[encoded data removed]",
      "text/plain": [
       "<Figure size 432x288 with 1 Axes>"
      ]
     },
     "metadata": {
      "needs_background": "light"
     },
     "output_type": "display_data"
    },
    {
     "data": {
      "image/png": "[encoded data removed]",
      "text/plain": [
       "<Figure size 432x288 with 1 Axes>"
      ]
     },
     "metadata": {
      "needs_background": "light"
     },
     "output_type": "display_data"
    },
    {
     "data": {
      "image/png": "[encoded data removed]",
      "text/plain": [
       "<Figure size 432x288 with 1 Axes>"
      ]
     },
     "metadata": {
      "needs_background": "light"
     },
     "output_type": "display_data"
    },
    {
     "data": {
      "image/png": "[encoded data removed]",
      "text/plain": [
       "<Figure size 432x288 with 1 Axes>"
      ]
     },
     "metadata": {
      "needs_background": "light"
     },
     "output_type": "display_data"
    },
    {
     "data": {
      "image/png": "[encoded data removed]",
      "text/plain": [
       "<Figure size 432x288 with 1 Axes>"
      ]
     },
     "metadata": {
      "needs_background": "light"
     },
     "output_type": "display_data"
    },
    {
     "data": {
      "image/png": "[encoded data removed]",
      "text/plain": [
       "<Figure size 432x288 with 1 Axes>"
      ]
     },
     "metadata": {
      "needs_background": "light"
     },
     "output_type": "display_data"
    },
    {
     "data": {
      "image/png": "[encoded data removed]",
      "text/plain": [
       "<Figure size 432x288 with 1 Axes>"
      ]
     },
     "metadata": {
      "needs_background": "light"
     },
     "output_type": "display_data"
    },
    {
     "data": {
      "image/png": "[encoded data removed]",
      "text/plain": [
       "<Figure size 432x288 with 1 Axes>"
      ]
     },
     "metadata": {
      "needs_background": "light"
     },
     "output_type": "display_data"
    },
    {
     "data": {
      "image/png": "[encoded data removed]",
      "text/plain": [
       "<Figure size 432x288 with 1 Axes>"
      ]
     },
     "metadata": {
      "needs_background": "light"
     },
     "output_type": "display_data"
    },
    {
     "data": {
      "image/png": "[encoded data removed]",
      "text/plain": [
       "<Figure size 432x288 with 1 Axes>"
      ]
     },
     "metadata": {
      "needs_background": "light"
     },
     "output_type": "display_data"
    },
    {
     "data": {
      "image/png": "[encoded data removed]",
      "text/plain": [
       "<Figure size 432x288 with 1 Axes>"
      ]
     },
     "metadata": {
      "needs_background": "light"
     },
     "output_type": "display_data"
    },
    {
     "name": "stdout",
     "output_type": "stream",
     "text": [
      "Average FDE:  1.0883248996301342\n"
     ]
    }
   ],
   "source": [
    "all_FDE = []\n",
    "plotting = True\n",
    "no_of_plotted_trajectories = 20\n",
    "\n",
    "for idx, agent_id in enumerate(test_agent_ids):\n",
    "\n",
    "    seen_x = np.array(data[data['agent_id'] == agent_id].iloc[:5]['pos_x'])\n",
    "    seen_y = np.array(data[data['agent_id'] == agent_id].iloc[:5]['pos_y'])\n",
    "    \n",
    "    seen_vel_x = np.array(data[data['agent_id'] == agent_id].iloc[1:5]['vel_x'])\n",
    "    seen_vel_y = np.array(data[data['agent_id'] == agent_id].iloc[1:5]['vel_y'])\n",
    "    \n",
    "    unseen_x = np.array(data[data['agent_id'] == agent_id].iloc[5:10]['pos_x'])\n",
    "    unseen_y = np.array(data[data['agent_id'] == agent_id].iloc[5:10]['pos_y'])\n",
    "\n",
    "    pred_vel_x, pred_vel_y = model.predict(np.array([np.column_stack((seen_vel_x, seen_vel_y))]))\n",
    "    pred_vel_x = pred_vel_x[0] # destructure the prediction array as it is [[x1, x2, x3...]]\n",
    "    pred_vel_y = pred_vel_y[0]\n",
    "    \n",
    "    pred_coord_x = [seen_x[-1] + pred_vel_x[0]]\n",
    "    pred_coord_y = [seen_y[-1] + pred_vel_y[0]]\n",
    "    \n",
    "    for i in range(1, 5):\n",
    "        pred_coord_x.append(pred_coord_x[-1] + pred_vel_x[i])\n",
    "        pred_coord_y.append(pred_coord_y[-1] + pred_vel_y[i])\n",
    "\n",
    "    FDE = np.sqrt((pred_coord_x[-1] - unseen_x[-1])**2 + (pred_coord_y[-1] - unseen_y[-1])**2)\n",
    "    all_FDE.append(FDE)\n",
    "    # plot data\n",
    "    if plotting and idx < no_of_plotted_trajectories:\n",
    "        plt.axes().set_aspect('equal')\n",
    "\n",
    "        plt.plot(np.append(seen_x, unseen_x), np.append(seen_y, unseen_y), color='g')\n",
    "        plt.scatter(np.append(seen_x, unseen_x), np.append(seen_y, unseen_y), color='g')\n",
    "\n",
    "        plt.plot(pred_coord_x, pred_coord_y, color='r')\n",
    "        plt.scatter(pred_coord_x, pred_coord_y, color='r')\n",
    "\n",
    "        plt.scatter(seen_x[0], seen_y[0], color='b')\n",
    "\n",
    "        plt.show()\n",
    "\n",
    "print(\"Average FDE: \", np.mean(all_FDE))"
   ]
  },
  {
   "cell_type": "code",
   "execution_count": null,
   "id": "a0cfedb0",
   "metadata": {},
   "outputs": [],
   "source": [
    "print(len(test_agent_ids))\n",
    "print(len(train_agent_ids))"
   ]
  },
  {
   "cell_type": "markdown",
   "id": "5a41be28",
   "metadata": {},
   "source": [
    "## Testing different hyperparameters"
   ]
  },
  {
   "cell_type": "code",
   "execution_count": null,
   "id": "e-hnN5tT4NM0",
   "metadata": {
    "id": "e-hnN5tT4NM0"
   },
   "outputs": [],
   "source": [
    "# NN architecture\n",
    "def root_mean_squared_error(y_true, y_pred):\n",
    "        return K.sqrt(K.mean(K.square(y_pred - y_true))) \n",
    "\n",
    "inp = Input((5,2))\n",
    "\n",
    "x = Flatten()(inp)\n",
    "\n",
    "x = Dense(64, activation='relu')(x)\n",
    "x = Dense(32, activation='relu')(x)\n",
    "x = Dense(16, activation='relu')(x)\n",
    "x = Dense(16, activation='relu')(x)\n",
    "\n",
    "out1 = Dense(5, activation='linear')(x)    \n",
    "out2 = Dense(5, activation='linear')(x)"
   ]
  },
  {
   "cell_type": "code",
   "execution_count": null,
   "id": "4db44051",
   "metadata": {},
   "outputs": [],
   "source": [
    "tf.get_logger().setLevel('ERROR')\n",
    "\n",
    "learning_rates = [0.001, 0.005, 0.01]\n",
    "batch_sizes = [1, 4, 8, 16, 32]\n",
    "loss_functions = ['mean_squared_error', root_mean_squared_error]\n",
    "\n",
    "all_train_RMSE = []\n",
    "all_test_RMSE = []\n",
    "\n",
    "for learning_rate in learning_rates:\n",
    "    for batch_size in batch_sizes:\n",
    "        for loss_function in loss_functions:\n",
    "            model = Model(inputs=inp, outputs=[out1,out2])\n",
    "            model.compile(optimizer=tf.keras.optimizers.Adam(learning_rate=0.001), loss = loss_function)\n",
    "\n",
    "            model.fit(train[0], [train[1], train[2]], epochs=200, batch_size=32, verbose=0)\n",
    "            \n",
    "            trainScore = model.evaluate(train[0], [train[1], train[2]], verbose=0)\n",
    "            testScore = model.evaluate(test[0], [test[1], test[2]], verbose=0)\n",
    "            \n",
    "            if loss_function == 'mean_squared_error':\n",
    "                all_train_RMSE.append(np.sqrt(trainScore[0]))\n",
    "                all_test_RMSE.append(np.sqrt(testScore[0]))\n",
    "                #Wprint(\"Learning rate: %.3f, batch size: %i, loss function: %s\" % (learning_rate, batch_size, loss_function))\n",
    "                #print('Train Score: %.2f MSE (%.2f RMSE)' % (trainScore[0], np.sqrt(trainScore[0])))\n",
    "                #print('Test Score: %.2f MSE (%.2f RMSE)' % (testScore[0], np.sqrt(testScore[0])))\n",
    "            else:\n",
    "                all_train_RMSE.append(trainScore[0])\n",
    "                all_test_RMSE.append(testScore[0])\n",
    "                #print(\"Learning rate: %.3f, batch size: %i, loss function: %s\" % (learning_rate, batch_size, loss_function.__name__))\n",
    "                #print('Train Score: %.2f RMSE' % (trainScore[0]))\n",
    "                #print('Test Score: %.2f RMSE' % (testScore[0]))\n"
   ]
  },
  {
   "cell_type": "code",
   "execution_count": null,
   "id": "ceb279c3",
   "metadata": {},
   "outputs": [],
   "source": [
    "best_learning_rate = None\n",
    "best_batch_size = None\n",
    "best_loss_function = None\n",
    "best_test_rmse = min(all_test_RMSE)\n",
    "best_test_rmse_idx = all_test_RMSE.index(best_test_rmse)\n",
    "\n",
    "rmse_idx = 0\n",
    "for learning_rate in learning_rates:\n",
    "    for batch_size in batch_sizes:\n",
    "        for loss_function in loss_functions:\n",
    "            \n",
    "            if rmse_idx == best_test_rmse_idx:\n",
    "                best_learning_rate = learning_rate\n",
    "                best_batch_size = batch_size\n",
    "                if loss_function == 'mean_squared_error':\n",
    "                    best_loss_function = loss_function\n",
    "                else:\n",
    "                    best_loss_function = loss_function.__name__\n",
    "            \n",
    "            if loss_function == 'mean_squared_error':\n",
    "                print(\"Learning rate: %.3f, batch size: %i, loss function: %s\" % (learning_rate, batch_size, loss_function))\n",
    "            else:\n",
    "                print(\"Learning rate: %.3f, batch size: %i, loss function: %s\" % (learning_rate, batch_size, loss_function.__name__))\n",
    "            print('Train Score: %.2f RMSE' % (all_train_RMSE[rmse_idx]))\n",
    "            print('Test Score: %.2f RMSE' % (all_test_RMSE[rmse_idx]))\n",
    "            print()\n",
    "            rmse_idx += 1"
   ]
  },
  {
   "cell_type": "code",
   "execution_count": null,
   "id": "7336ba82",
   "metadata": {},
   "outputs": [],
   "source": [
    "print(\"Best test RMSE: \", best_test_rmse)\n",
    "print(\"Best learning rate: \", best_learning_rate)\n",
    "print(\"Best batch size: \", best_batch_size)\n",
    "print(\"Best loss function: \", best_loss_function)"
   ]
  },
  {
   "cell_type": "code",
   "execution_count": null,
   "id": "a67cb5f8",
   "metadata": {},
   "outputs": [],
   "source": []
  }
 ],
 "metadata": {
  "accelerator": "TPU",
  "colab": {
   "collapsed_sections": [],
   "include_colab_link": true,
   "name": "Edinburgh-NN-over-all-data.ipynb",
   "provenance": []
  },
  "kernelspec": {
   "display_name": "Python 3 (ipykernel)",
   "language": "python",
   "name": "python3"
  },
  "language_info": {
   "codemirror_mode": {
    "name": "ipython",
    "version": 3
   },
   "file_extension": ".py",
   "mimetype": "text/x-python",
   "name": "python",
   "nbconvert_exporter": "python",
   "pygments_lexer": "ipython3",
   "version": "3.9.0"
  }
 },
 "nbformat": 4,
 "nbformat_minor": 5
}
