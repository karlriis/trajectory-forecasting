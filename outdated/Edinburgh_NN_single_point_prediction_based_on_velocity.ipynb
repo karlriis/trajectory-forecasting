{
 "cells": [
  {
   "cell_type": "markdown",
   "id": "fa949827",
   "metadata": {},
   "source": [
    "## Neural network predicting 1 future point based on velocities"
   ]
  },
  {
   "cell_type": "code",
   "execution_count": 15,
   "id": "43186641",
   "metadata": {
    "id": "43186641"
   },
   "outputs": [],
   "source": [
    "from matplotlib import pyplot as plt\n",
    "import numpy as np\n",
    "np.random.seed(42)"
   ]
  },
  {
   "cell_type": "markdown",
   "id": "b0478b39",
   "metadata": {},
   "source": [
    "## Data preparation"
   ]
  },
  {
   "cell_type": "code",
   "execution_count": 33,
   "id": "63295479",
   "metadata": {
    "colab": {
     "base_uri": "https://localhost:8080/"
    },
    "id": "63295479",
    "outputId": "ad31dcd2-7582-4a14-9232-e9ce081f0d68"
   },
   "outputs": [
    {
     "name": "stderr",
     "output_type": "stream",
     "text": [
      "/Users/kriis/miniforge3/envs/tensorflow_m1/lib/python3.9/site-packages/pandas/util/_decorators.py:311: ParserWarning: Falling back to the 'python' engine because the 'c' engine does not support regex separators (separators > 1 char and different from '\\s+' are interpreted as regex); you can avoid this warning by specifying engine='python'.\n",
      "  return func(*args, **kwargs)\n"
     ]
    },
    {
     "name": "stdout",
     "output_type": "stream",
     "text": [
      "reading:./OpenTraj/datasets/Edinburgh/annotations/tracks.01Sep.txt\n"
     ]
    },
    {
     "name": "stderr",
     "output_type": "stream",
     "text": [
      "100%|█████████████████████████████████████████████████████████████████████████████████████████████████| 2342/2342 [01:08<00:00, 33.99it/s]\n"
     ]
    },
    {
     "name": "stdout",
     "output_type": "stream",
     "text": [
      "Warning! too big dt in [Edinburgh]\n",
      "finish\n"
     ]
    }
   ],
   "source": [
    "from data_processing import read_edinburgh_data \n",
    "data, agent_ids = read_edinburgh_data()"
   ]
  },
  {
   "cell_type": "code",
   "execution_count": 40,
   "id": "f7c7210a",
   "metadata": {
    "id": "f7c7210a"
   },
   "outputs": [],
   "source": [
    "train_agent_ids = np.load('Edinburgh_train_agent_ids.npy')\n",
    "test_agent_ids = np.load('Edinburgh_test_agent_ids.npy')"
   ]
  },
  {
   "cell_type": "markdown",
   "id": "7a69be78",
   "metadata": {
    "id": "7a69be78"
   },
   "source": [
    "### Helper functions"
   ]
  },
  {
   "cell_type": "code",
   "execution_count": 41,
   "id": "987ee314",
   "metadata": {
    "id": "987ee314"
   },
   "outputs": [],
   "source": [
    "def create_dataset(data, agent_ids):\n",
    "    data_X, data_Y_vel_x, data_Y_vel_y = [], [], []\n",
    "    for agent_id in agent_ids:\n",
    "        # We only see 4 velocities, so train is 4 velocities long\n",
    "        x = data[data['agent_id'] == agent_id].iloc[1:5][['vel_x', 'vel_y']]\n",
    "        y_vel_x = data[data['agent_id'] == agent_id].iloc[5]['vel_x']\n",
    "        y_vel_y = data[data['agent_id'] == agent_id].iloc[5]['vel_y']\n",
    "        data_X.append(x)\n",
    "        data_Y_vel_x.append(y_vel_x)\n",
    "        data_Y_vel_y.append(y_vel_y)\n",
    "    return np.array(data_X), np.array(data_Y_vel_x), np.array(data_Y_vel_y)\n",
    "    \n",
    "def calculate_error(pred_x, pred_y, test_x, test_y):\n",
    "    \n",
    "    # FDE\n",
    "    final_displacement_x = pred_x[-1] - test_x[-1]\n",
    "    final_displacement_y = pred_y[-1] - test_y[-1]\n",
    "    FDE = np.sqrt(final_displacement_x**2 + final_displacement_y**2)\n",
    "    \n",
    "    # MSE\n",
    "    abs_error_x = pred_x - test_x\n",
    "    abs_error_y = pred_y - test_y\n",
    "    \n",
    "    MSE = np.mean(np.square(abs_error_x)) + np.mean(np.square(abs_error_y))\n",
    "    \n",
    "    return FDE, MSE"
   ]
  },
  {
   "cell_type": "markdown",
   "id": "c9f384c5",
   "metadata": {},
   "source": [
    "## Experiment"
   ]
  },
  {
   "cell_type": "code",
   "execution_count": 42,
   "id": "7f3fa56d",
   "metadata": {
    "id": "7f3fa56d"
   },
   "outputs": [],
   "source": [
    "train = create_dataset(data, train_agent_ids)\n",
    "test = create_dataset(data, test_agent_ids)"
   ]
  },
  {
   "cell_type": "code",
   "execution_count": 43,
   "id": "fc388252",
   "metadata": {
    "id": "fc388252"
   },
   "outputs": [],
   "source": [
    "from keras.models import Model\n",
    "from keras.layers import *    \n",
    "from keras import backend as K\n",
    "\n",
    "def RMSE(y_true, y_pred):\n",
    "    return K.sqrt(K.mean(K.square(y_pred - y_true))) \n",
    "\n",
    "#inp = Input((5,2))\n",
    "inp = Input((4,2))\n",
    "\n",
    "x = Flatten()(inp)\n",
    "\n",
    "x = Dense(64, activation='relu')(x)\n",
    "x = Dense(32, activation='relu')(x)\n",
    "x = Dense(16, activation='relu')(x)\n",
    "x = Dense(16, activation='relu')(x)\n",
    "\n",
    "out1 = Dense(1, activation='linear')(x)    \n",
    "out2 = Dense(1, activation='linear')(x)\n",
    "\n",
    "model = Model(inputs=inp, outputs=[out1,out2])\n",
    "model.compile(optimizer=tf.keras.optimizers.Adam(learning_rate=0.001), loss = RMSE)"
   ]
  },
  {
   "cell_type": "code",
   "execution_count": 44,
   "id": "d2ad3d42",
   "metadata": {
    "colab": {
     "base_uri": "https://localhost:8080/"
    },
    "id": "d2ad3d42",
    "outputId": "83b641d4-9d00-4d8f-a643-c4a48ddaaa46",
    "tags": []
   },
   "outputs": [
    {
     "name": "stdout",
     "output_type": "stream",
     "text": [
      "Epoch 1/400\n"
     ]
    },
    {
     "name": "stderr",
     "output_type": "stream",
     "text": [
      "2022-01-14 12:10:07.899431: I tensorflow/core/grappler/optimizers/custom_graph_optimizer_registry.cc:112] Plugin optimizer for device_type GPU is enabled.\n"
     ]
    },
    {
     "name": "stdout",
     "output_type": "stream",
     "text": [
      "50/50 - 1s - loss: 0.7043 - dense_40_loss: 0.3402 - dense_41_loss: 0.3640 - 527ms/epoch - 11ms/step\n",
      "Epoch 2/400\n",
      "50/50 - 0s - loss: 0.5269 - dense_40_loss: 0.2596 - dense_41_loss: 0.2673 - 250ms/epoch - 5ms/step\n",
      "Epoch 3/400\n",
      "50/50 - 0s - loss: 0.4939 - dense_40_loss: 0.2421 - dense_41_loss: 0.2518 - 248ms/epoch - 5ms/step\n",
      "Epoch 4/400\n",
      "50/50 - 0s - loss: 0.4840 - dense_40_loss: 0.2320 - dense_41_loss: 0.2520 - 249ms/epoch - 5ms/step\n",
      "Epoch 5/400\n",
      "50/50 - 0s - loss: 0.4719 - dense_40_loss: 0.2268 - dense_41_loss: 0.2452 - 249ms/epoch - 5ms/step\n",
      "Epoch 6/400\n",
      "50/50 - 0s - loss: 0.4618 - dense_40_loss: 0.2200 - dense_41_loss: 0.2418 - 252ms/epoch - 5ms/step\n",
      "Epoch 7/400\n",
      "50/50 - 0s - loss: 0.4622 - dense_40_loss: 0.2212 - dense_41_loss: 0.2409 - 256ms/epoch - 5ms/step\n",
      "Epoch 8/400\n",
      "50/50 - 0s - loss: 0.4545 - dense_40_loss: 0.2137 - dense_41_loss: 0.2408 - 276ms/epoch - 6ms/step\n",
      "Epoch 9/400\n",
      "50/50 - 0s - loss: 0.4551 - dense_40_loss: 0.2154 - dense_41_loss: 0.2397 - 276ms/epoch - 6ms/step\n",
      "Epoch 10/400\n",
      "50/50 - 0s - loss: 0.4456 - dense_40_loss: 0.2097 - dense_41_loss: 0.2359 - 267ms/epoch - 5ms/step\n",
      "Epoch 11/400\n",
      "50/50 - 0s - loss: 0.4406 - dense_40_loss: 0.2076 - dense_41_loss: 0.2330 - 281ms/epoch - 6ms/step\n",
      "Epoch 12/400\n",
      "50/50 - 0s - loss: 0.4339 - dense_40_loss: 0.2015 - dense_41_loss: 0.2325 - 247ms/epoch - 5ms/step\n",
      "Epoch 13/400\n",
      "50/50 - 0s - loss: 0.4382 - dense_40_loss: 0.2058 - dense_41_loss: 0.2324 - 253ms/epoch - 5ms/step\n",
      "Epoch 14/400\n",
      "50/50 - 0s - loss: 0.4299 - dense_40_loss: 0.1988 - dense_41_loss: 0.2311 - 248ms/epoch - 5ms/step\n",
      "Epoch 15/400\n",
      "50/50 - 0s - loss: 0.4284 - dense_40_loss: 0.1975 - dense_41_loss: 0.2309 - 245ms/epoch - 5ms/step\n",
      "Epoch 16/400\n",
      "50/50 - 0s - loss: 0.4229 - dense_40_loss: 0.1962 - dense_41_loss: 0.2267 - 244ms/epoch - 5ms/step\n",
      "Epoch 17/400\n",
      "50/50 - 0s - loss: 0.4206 - dense_40_loss: 0.1953 - dense_41_loss: 0.2253 - 273ms/epoch - 5ms/step\n",
      "Epoch 18/400\n",
      "50/50 - 0s - loss: 0.4140 - dense_40_loss: 0.1906 - dense_41_loss: 0.2234 - 269ms/epoch - 5ms/step\n",
      "Epoch 19/400\n",
      "50/50 - 0s - loss: 0.4179 - dense_40_loss: 0.1928 - dense_41_loss: 0.2251 - 251ms/epoch - 5ms/step\n",
      "Epoch 20/400\n",
      "50/50 - 0s - loss: 0.4070 - dense_40_loss: 0.1866 - dense_41_loss: 0.2204 - 245ms/epoch - 5ms/step\n",
      "Epoch 21/400\n",
      "50/50 - 0s - loss: 0.4108 - dense_40_loss: 0.1860 - dense_41_loss: 0.2248 - 245ms/epoch - 5ms/step\n",
      "Epoch 22/400\n",
      "50/50 - 0s - loss: 0.4104 - dense_40_loss: 0.1882 - dense_41_loss: 0.2222 - 244ms/epoch - 5ms/step\n",
      "Epoch 23/400\n",
      "50/50 - 0s - loss: 0.4032 - dense_40_loss: 0.1825 - dense_41_loss: 0.2207 - 245ms/epoch - 5ms/step\n",
      "Epoch 24/400\n",
      "50/50 - 0s - loss: 0.3995 - dense_40_loss: 0.1824 - dense_41_loss: 0.2171 - 247ms/epoch - 5ms/step\n",
      "Epoch 25/400\n",
      "50/50 - 0s - loss: 0.3945 - dense_40_loss: 0.1802 - dense_41_loss: 0.2143 - 246ms/epoch - 5ms/step\n",
      "Epoch 26/400\n",
      "50/50 - 0s - loss: 0.3931 - dense_40_loss: 0.1791 - dense_41_loss: 0.2140 - 243ms/epoch - 5ms/step\n",
      "Epoch 27/400\n",
      "50/50 - 0s - loss: 0.3894 - dense_40_loss: 0.1747 - dense_41_loss: 0.2147 - 247ms/epoch - 5ms/step\n",
      "Epoch 28/400\n",
      "50/50 - 0s - loss: 0.3941 - dense_40_loss: 0.1786 - dense_41_loss: 0.2156 - 245ms/epoch - 5ms/step\n",
      "Epoch 29/400\n",
      "50/50 - 0s - loss: 0.3864 - dense_40_loss: 0.1745 - dense_41_loss: 0.2119 - 249ms/epoch - 5ms/step\n",
      "Epoch 30/400\n",
      "50/50 - 0s - loss: 0.3820 - dense_40_loss: 0.1730 - dense_41_loss: 0.2090 - 245ms/epoch - 5ms/step\n",
      "Epoch 31/400\n",
      "50/50 - 0s - loss: 0.3844 - dense_40_loss: 0.1733 - dense_41_loss: 0.2110 - 246ms/epoch - 5ms/step\n",
      "Epoch 32/400\n",
      "50/50 - 0s - loss: 0.3769 - dense_40_loss: 0.1696 - dense_41_loss: 0.2073 - 248ms/epoch - 5ms/step\n",
      "Epoch 33/400\n",
      "50/50 - 0s - loss: 0.3774 - dense_40_loss: 0.1728 - dense_41_loss: 0.2047 - 264ms/epoch - 5ms/step\n",
      "Epoch 34/400\n",
      "50/50 - 0s - loss: 0.3701 - dense_40_loss: 0.1667 - dense_41_loss: 0.2034 - 273ms/epoch - 5ms/step\n",
      "Epoch 35/400\n",
      "50/50 - 0s - loss: 0.3697 - dense_40_loss: 0.1674 - dense_41_loss: 0.2023 - 253ms/epoch - 5ms/step\n",
      "Epoch 36/400\n",
      "50/50 - 0s - loss: 0.3651 - dense_40_loss: 0.1651 - dense_41_loss: 0.2000 - 246ms/epoch - 5ms/step\n",
      "Epoch 37/400\n",
      "50/50 - 0s - loss: 0.3693 - dense_40_loss: 0.1688 - dense_41_loss: 0.2005 - 244ms/epoch - 5ms/step\n",
      "Epoch 38/400\n",
      "50/50 - 0s - loss: 0.3664 - dense_40_loss: 0.1652 - dense_41_loss: 0.2013 - 244ms/epoch - 5ms/step\n",
      "Epoch 39/400\n",
      "50/50 - 0s - loss: 0.3573 - dense_40_loss: 0.1610 - dense_41_loss: 0.1963 - 244ms/epoch - 5ms/step\n",
      "Epoch 40/400\n",
      "50/50 - 0s - loss: 0.3647 - dense_40_loss: 0.1655 - dense_41_loss: 0.1992 - 247ms/epoch - 5ms/step\n",
      "Epoch 41/400\n",
      "50/50 - 0s - loss: 0.3620 - dense_40_loss: 0.1644 - dense_41_loss: 0.1977 - 244ms/epoch - 5ms/step\n",
      "Epoch 42/400\n",
      "50/50 - 0s - loss: 0.3632 - dense_40_loss: 0.1641 - dense_41_loss: 0.1991 - 246ms/epoch - 5ms/step\n",
      "Epoch 43/400\n",
      "50/50 - 0s - loss: 0.3653 - dense_40_loss: 0.1655 - dense_41_loss: 0.1998 - 248ms/epoch - 5ms/step\n",
      "Epoch 44/400\n",
      "50/50 - 0s - loss: 0.3567 - dense_40_loss: 0.1619 - dense_41_loss: 0.1947 - 244ms/epoch - 5ms/step\n",
      "Epoch 45/400\n",
      "50/50 - 0s - loss: 0.3533 - dense_40_loss: 0.1605 - dense_41_loss: 0.1928 - 244ms/epoch - 5ms/step\n",
      "Epoch 46/400\n",
      "50/50 - 0s - loss: 0.3543 - dense_40_loss: 0.1605 - dense_41_loss: 0.1938 - 285ms/epoch - 6ms/step\n",
      "Epoch 47/400\n",
      "50/50 - 0s - loss: 0.3480 - dense_40_loss: 0.1590 - dense_41_loss: 0.1890 - 259ms/epoch - 5ms/step\n",
      "Epoch 48/400\n",
      "50/50 - 0s - loss: 0.3498 - dense_40_loss: 0.1584 - dense_41_loss: 0.1915 - 245ms/epoch - 5ms/step\n",
      "Epoch 49/400\n",
      "50/50 - 0s - loss: 0.3488 - dense_40_loss: 0.1593 - dense_41_loss: 0.1894 - 244ms/epoch - 5ms/step\n",
      "Epoch 50/400\n",
      "50/50 - 0s - loss: 0.3520 - dense_40_loss: 0.1591 - dense_41_loss: 0.1928 - 267ms/epoch - 5ms/step\n",
      "Epoch 51/400\n",
      "50/50 - 0s - loss: 0.3470 - dense_40_loss: 0.1575 - dense_41_loss: 0.1895 - 249ms/epoch - 5ms/step\n",
      "Epoch 52/400\n",
      "50/50 - 0s - loss: 0.3480 - dense_40_loss: 0.1602 - dense_41_loss: 0.1877 - 248ms/epoch - 5ms/step\n",
      "Epoch 53/400\n",
      "50/50 - 0s - loss: 0.3429 - dense_40_loss: 0.1560 - dense_41_loss: 0.1869 - 278ms/epoch - 6ms/step\n",
      "Epoch 54/400\n",
      "50/50 - 0s - loss: 0.3422 - dense_40_loss: 0.1554 - dense_41_loss: 0.1868 - 274ms/epoch - 5ms/step\n",
      "Epoch 55/400\n",
      "50/50 - 0s - loss: 0.3470 - dense_40_loss: 0.1584 - dense_41_loss: 0.1886 - 271ms/epoch - 5ms/step\n",
      "Epoch 56/400\n",
      "50/50 - 0s - loss: 0.3406 - dense_40_loss: 0.1544 - dense_41_loss: 0.1862 - 273ms/epoch - 5ms/step\n",
      "Epoch 57/400\n",
      "50/50 - 0s - loss: 0.3434 - dense_40_loss: 0.1552 - dense_41_loss: 0.1882 - 268ms/epoch - 5ms/step\n",
      "Epoch 58/400\n",
      "50/50 - 0s - loss: 0.3400 - dense_40_loss: 0.1552 - dense_41_loss: 0.1848 - 244ms/epoch - 5ms/step\n",
      "Epoch 59/400\n",
      "50/50 - 0s - loss: 0.3373 - dense_40_loss: 0.1548 - dense_41_loss: 0.1826 - 247ms/epoch - 5ms/step\n",
      "Epoch 60/400\n",
      "50/50 - 0s - loss: 0.3369 - dense_40_loss: 0.1527 - dense_41_loss: 0.1842 - 265ms/epoch - 5ms/step\n",
      "Epoch 61/400\n",
      "50/50 - 0s - loss: 0.3341 - dense_40_loss: 0.1512 - dense_41_loss: 0.1828 - 303ms/epoch - 6ms/step\n",
      "Epoch 62/400\n",
      "50/50 - 0s - loss: 0.3365 - dense_40_loss: 0.1528 - dense_41_loss: 0.1837 - 269ms/epoch - 5ms/step\n",
      "Epoch 63/400\n",
      "50/50 - 0s - loss: 0.3315 - dense_40_loss: 0.1508 - dense_41_loss: 0.1807 - 249ms/epoch - 5ms/step\n",
      "Epoch 64/400\n",
      "50/50 - 0s - loss: 0.3339 - dense_40_loss: 0.1531 - dense_41_loss: 0.1808 - 244ms/epoch - 5ms/step\n",
      "Epoch 65/400\n",
      "50/50 - 0s - loss: 0.3331 - dense_40_loss: 0.1540 - dense_41_loss: 0.1791 - 247ms/epoch - 5ms/step\n",
      "Epoch 66/400\n",
      "50/50 - 0s - loss: 0.3290 - dense_40_loss: 0.1514 - dense_41_loss: 0.1775 - 243ms/epoch - 5ms/step\n",
      "Epoch 67/400\n",
      "50/50 - 0s - loss: 0.3301 - dense_40_loss: 0.1509 - dense_41_loss: 0.1791 - 247ms/epoch - 5ms/step\n",
      "Epoch 68/400\n",
      "50/50 - 0s - loss: 0.3308 - dense_40_loss: 0.1502 - dense_41_loss: 0.1807 - 246ms/epoch - 5ms/step\n",
      "Epoch 69/400\n",
      "50/50 - 0s - loss: 0.3318 - dense_40_loss: 0.1503 - dense_41_loss: 0.1815 - 246ms/epoch - 5ms/step\n",
      "Epoch 70/400\n",
      "50/50 - 0s - loss: 0.3291 - dense_40_loss: 0.1493 - dense_41_loss: 0.1798 - 254ms/epoch - 5ms/step\n",
      "Epoch 71/400\n",
      "50/50 - 0s - loss: 0.3241 - dense_40_loss: 0.1491 - dense_41_loss: 0.1750 - 244ms/epoch - 5ms/step\n",
      "Epoch 72/400\n",
      "50/50 - 0s - loss: 0.3263 - dense_40_loss: 0.1488 - dense_41_loss: 0.1774 - 254ms/epoch - 5ms/step\n",
      "Epoch 73/400\n",
      "50/50 - 0s - loss: 0.3254 - dense_40_loss: 0.1482 - dense_41_loss: 0.1772 - 250ms/epoch - 5ms/step\n",
      "Epoch 74/400\n",
      "50/50 - 0s - loss: 0.3252 - dense_40_loss: 0.1483 - dense_41_loss: 0.1769 - 250ms/epoch - 5ms/step\n",
      "Epoch 75/400\n",
      "50/50 - 0s - loss: 0.3239 - dense_40_loss: 0.1496 - dense_41_loss: 0.1743 - 261ms/epoch - 5ms/step\n",
      "Epoch 76/400\n",
      "50/50 - 0s - loss: 0.3228 - dense_40_loss: 0.1484 - dense_41_loss: 0.1744 - 254ms/epoch - 5ms/step\n",
      "Epoch 77/400\n",
      "50/50 - 0s - loss: 0.3260 - dense_40_loss: 0.1509 - dense_41_loss: 0.1751 - 246ms/epoch - 5ms/step\n",
      "Epoch 78/400\n",
      "50/50 - 0s - loss: 0.3225 - dense_40_loss: 0.1470 - dense_41_loss: 0.1755 - 245ms/epoch - 5ms/step\n",
      "Epoch 79/400\n",
      "50/50 - 0s - loss: 0.3227 - dense_40_loss: 0.1509 - dense_41_loss: 0.1718 - 250ms/epoch - 5ms/step\n",
      "Epoch 80/400\n",
      "50/50 - 0s - loss: 0.3254 - dense_40_loss: 0.1494 - dense_41_loss: 0.1759 - 247ms/epoch - 5ms/step\n",
      "Epoch 81/400\n",
      "50/50 - 0s - loss: 0.3190 - dense_40_loss: 0.1479 - dense_41_loss: 0.1711 - 246ms/epoch - 5ms/step\n",
      "Epoch 82/400\n",
      "50/50 - 0s - loss: 0.3175 - dense_40_loss: 0.1458 - dense_41_loss: 0.1717 - 247ms/epoch - 5ms/step\n",
      "Epoch 83/400\n",
      "50/50 - 0s - loss: 0.3135 - dense_40_loss: 0.1430 - dense_41_loss: 0.1705 - 248ms/epoch - 5ms/step\n",
      "Epoch 84/400\n",
      "50/50 - 0s - loss: 0.3190 - dense_40_loss: 0.1464 - dense_41_loss: 0.1726 - 247ms/epoch - 5ms/step\n",
      "Epoch 85/400\n",
      "50/50 - 0s - loss: 0.3161 - dense_40_loss: 0.1441 - dense_41_loss: 0.1720 - 246ms/epoch - 5ms/step\n",
      "Epoch 86/400\n",
      "50/50 - 0s - loss: 0.3141 - dense_40_loss: 0.1449 - dense_41_loss: 0.1692 - 245ms/epoch - 5ms/step\n",
      "Epoch 87/400\n",
      "50/50 - 0s - loss: 0.3102 - dense_40_loss: 0.1424 - dense_41_loss: 0.1678 - 247ms/epoch - 5ms/step\n",
      "Epoch 88/400\n",
      "50/50 - 0s - loss: 0.3128 - dense_40_loss: 0.1459 - dense_41_loss: 0.1669 - 246ms/epoch - 5ms/step\n",
      "Epoch 89/400\n",
      "50/50 - 0s - loss: 0.3133 - dense_40_loss: 0.1445 - dense_41_loss: 0.1688 - 245ms/epoch - 5ms/step\n",
      "Epoch 90/400\n",
      "50/50 - 0s - loss: 0.3104 - dense_40_loss: 0.1429 - dense_41_loss: 0.1675 - 247ms/epoch - 5ms/step\n",
      "Epoch 91/400\n",
      "50/50 - 0s - loss: 0.3117 - dense_40_loss: 0.1431 - dense_41_loss: 0.1686 - 284ms/epoch - 6ms/step\n",
      "Epoch 92/400\n",
      "50/50 - 0s - loss: 0.3055 - dense_40_loss: 0.1427 - dense_41_loss: 0.1628 - 281ms/epoch - 6ms/step\n",
      "Epoch 93/400\n",
      "50/50 - 0s - loss: 0.3115 - dense_40_loss: 0.1444 - dense_41_loss: 0.1671 - 270ms/epoch - 5ms/step\n",
      "Epoch 94/400\n",
      "50/50 - 0s - loss: 0.3151 - dense_40_loss: 0.1480 - dense_41_loss: 0.1671 - 286ms/epoch - 6ms/step\n",
      "Epoch 95/400\n",
      "50/50 - 0s - loss: 0.3133 - dense_40_loss: 0.1433 - dense_41_loss: 0.1700 - 266ms/epoch - 5ms/step\n",
      "Epoch 96/400\n",
      "50/50 - 0s - loss: 0.3083 - dense_40_loss: 0.1419 - dense_41_loss: 0.1664 - 265ms/epoch - 5ms/step\n",
      "Epoch 97/400\n",
      "50/50 - 0s - loss: 0.3076 - dense_40_loss: 0.1433 - dense_41_loss: 0.1643 - 284ms/epoch - 6ms/step\n",
      "Epoch 98/400\n",
      "50/50 - 0s - loss: 0.3083 - dense_40_loss: 0.1408 - dense_41_loss: 0.1674 - 249ms/epoch - 5ms/step\n",
      "Epoch 99/400\n",
      "50/50 - 0s - loss: 0.3063 - dense_40_loss: 0.1409 - dense_41_loss: 0.1654 - 249ms/epoch - 5ms/step\n",
      "Epoch 100/400\n",
      "50/50 - 0s - loss: 0.3057 - dense_40_loss: 0.1438 - dense_41_loss: 0.1618 - 248ms/epoch - 5ms/step\n",
      "Epoch 101/400\n",
      "50/50 - 0s - loss: 0.3061 - dense_40_loss: 0.1427 - dense_41_loss: 0.1634 - 273ms/epoch - 5ms/step\n",
      "Epoch 102/400\n",
      "50/50 - 0s - loss: 0.3103 - dense_40_loss: 0.1425 - dense_41_loss: 0.1678 - 280ms/epoch - 6ms/step\n",
      "Epoch 103/400\n",
      "50/50 - 0s - loss: 0.3022 - dense_40_loss: 0.1388 - dense_41_loss: 0.1634 - 281ms/epoch - 6ms/step\n",
      "Epoch 104/400\n",
      "50/50 - 0s - loss: 0.2991 - dense_40_loss: 0.1396 - dense_41_loss: 0.1596 - 282ms/epoch - 6ms/step\n",
      "Epoch 105/400\n",
      "50/50 - 0s - loss: 0.3049 - dense_40_loss: 0.1413 - dense_41_loss: 0.1636 - 258ms/epoch - 5ms/step\n",
      "Epoch 106/400\n",
      "50/50 - 0s - loss: 0.2973 - dense_40_loss: 0.1373 - dense_41_loss: 0.1600 - 245ms/epoch - 5ms/step\n",
      "Epoch 107/400\n",
      "50/50 - 0s - loss: 0.2983 - dense_40_loss: 0.1384 - dense_41_loss: 0.1600 - 259ms/epoch - 5ms/step\n",
      "Epoch 108/400\n",
      "50/50 - 0s - loss: 0.2986 - dense_40_loss: 0.1389 - dense_41_loss: 0.1597 - 252ms/epoch - 5ms/step\n",
      "Epoch 109/400\n",
      "50/50 - 0s - loss: 0.3024 - dense_40_loss: 0.1407 - dense_41_loss: 0.1617 - 247ms/epoch - 5ms/step\n",
      "Epoch 110/400\n",
      "50/50 - 0s - loss: 0.3033 - dense_40_loss: 0.1423 - dense_41_loss: 0.1609 - 249ms/epoch - 5ms/step\n",
      "Epoch 111/400\n",
      "50/50 - 0s - loss: 0.2972 - dense_40_loss: 0.1388 - dense_41_loss: 0.1585 - 269ms/epoch - 5ms/step\n",
      "Epoch 112/400\n",
      "50/50 - 0s - loss: 0.2983 - dense_40_loss: 0.1373 - dense_41_loss: 0.1610 - 247ms/epoch - 5ms/step\n",
      "Epoch 113/400\n",
      "50/50 - 0s - loss: 0.2967 - dense_40_loss: 0.1380 - dense_41_loss: 0.1587 - 247ms/epoch - 5ms/step\n",
      "Epoch 114/400\n",
      "50/50 - 0s - loss: 0.2942 - dense_40_loss: 0.1375 - dense_41_loss: 0.1566 - 248ms/epoch - 5ms/step\n",
      "Epoch 115/400\n",
      "50/50 - 0s - loss: 0.2939 - dense_40_loss: 0.1357 - dense_41_loss: 0.1582 - 247ms/epoch - 5ms/step\n",
      "Epoch 116/400\n",
      "50/50 - 0s - loss: 0.2919 - dense_40_loss: 0.1373 - dense_41_loss: 0.1546 - 245ms/epoch - 5ms/step\n",
      "Epoch 117/400\n",
      "50/50 - 0s - loss: 0.2952 - dense_40_loss: 0.1359 - dense_41_loss: 0.1593 - 263ms/epoch - 5ms/step\n",
      "Epoch 118/400\n",
      "50/50 - 0s - loss: 0.2950 - dense_40_loss: 0.1349 - dense_41_loss: 0.1601 - 266ms/epoch - 5ms/step\n",
      "Epoch 119/400\n",
      "50/50 - 0s - loss: 0.2984 - dense_40_loss: 0.1397 - dense_41_loss: 0.1587 - 245ms/epoch - 5ms/step\n",
      "Epoch 120/400\n",
      "50/50 - 0s - loss: 0.2948 - dense_40_loss: 0.1365 - dense_41_loss: 0.1583 - 244ms/epoch - 5ms/step\n",
      "Epoch 121/400\n",
      "50/50 - 0s - loss: 0.2946 - dense_40_loss: 0.1362 - dense_41_loss: 0.1584 - 244ms/epoch - 5ms/step\n",
      "Epoch 122/400\n",
      "50/50 - 0s - loss: 0.2947 - dense_40_loss: 0.1356 - dense_41_loss: 0.1591 - 250ms/epoch - 5ms/step\n",
      "Epoch 123/400\n",
      "50/50 - 0s - loss: 0.2885 - dense_40_loss: 0.1332 - dense_41_loss: 0.1552 - 246ms/epoch - 5ms/step\n",
      "Epoch 124/400\n",
      "50/50 - 0s - loss: 0.2946 - dense_40_loss: 0.1361 - dense_41_loss: 0.1585 - 245ms/epoch - 5ms/step\n",
      "Epoch 125/400\n",
      "50/50 - 0s - loss: 0.2890 - dense_40_loss: 0.1339 - dense_41_loss: 0.1551 - 248ms/epoch - 5ms/step\n",
      "Epoch 126/400\n",
      "50/50 - 0s - loss: 0.2921 - dense_40_loss: 0.1359 - dense_41_loss: 0.1562 - 247ms/epoch - 5ms/step\n",
      "Epoch 127/400\n",
      "50/50 - 0s - loss: 0.2921 - dense_40_loss: 0.1363 - dense_41_loss: 0.1558 - 247ms/epoch - 5ms/step\n",
      "Epoch 128/400\n",
      "50/50 - 0s - loss: 0.2897 - dense_40_loss: 0.1334 - dense_41_loss: 0.1563 - 244ms/epoch - 5ms/step\n",
      "Epoch 129/400\n",
      "50/50 - 0s - loss: 0.2904 - dense_40_loss: 0.1337 - dense_41_loss: 0.1567 - 246ms/epoch - 5ms/step\n",
      "Epoch 130/400\n",
      "50/50 - 0s - loss: 0.2867 - dense_40_loss: 0.1332 - dense_41_loss: 0.1535 - 246ms/epoch - 5ms/step\n",
      "Epoch 131/400\n",
      "50/50 - 0s - loss: 0.2913 - dense_40_loss: 0.1335 - dense_41_loss: 0.1578 - 250ms/epoch - 5ms/step\n",
      "Epoch 132/400\n",
      "50/50 - 0s - loss: 0.2855 - dense_40_loss: 0.1315 - dense_41_loss: 0.1540 - 244ms/epoch - 5ms/step\n",
      "Epoch 133/400\n",
      "50/50 - 0s - loss: 0.2885 - dense_40_loss: 0.1328 - dense_41_loss: 0.1557 - 244ms/epoch - 5ms/step\n",
      "Epoch 134/400\n",
      "50/50 - 0s - loss: 0.2847 - dense_40_loss: 0.1315 - dense_41_loss: 0.1532 - 249ms/epoch - 5ms/step\n",
      "Epoch 135/400\n",
      "50/50 - 0s - loss: 0.2810 - dense_40_loss: 0.1304 - dense_41_loss: 0.1506 - 245ms/epoch - 5ms/step\n",
      "Epoch 136/400\n",
      "50/50 - 0s - loss: 0.2784 - dense_40_loss: 0.1322 - dense_41_loss: 0.1462 - 245ms/epoch - 5ms/step\n",
      "Epoch 137/400\n",
      "50/50 - 0s - loss: 0.2779 - dense_40_loss: 0.1291 - dense_41_loss: 0.1488 - 245ms/epoch - 5ms/step\n",
      "Epoch 138/400\n",
      "50/50 - 0s - loss: 0.2829 - dense_40_loss: 0.1293 - dense_41_loss: 0.1536 - 247ms/epoch - 5ms/step\n",
      "Epoch 139/400\n",
      "50/50 - 0s - loss: 0.2868 - dense_40_loss: 0.1320 - dense_41_loss: 0.1548 - 246ms/epoch - 5ms/step\n",
      "Epoch 140/400\n",
      "50/50 - 0s - loss: 0.2826 - dense_40_loss: 0.1327 - dense_41_loss: 0.1499 - 247ms/epoch - 5ms/step\n",
      "Epoch 141/400\n",
      "50/50 - 0s - loss: 0.2852 - dense_40_loss: 0.1330 - dense_41_loss: 0.1522 - 245ms/epoch - 5ms/step\n",
      "Epoch 142/400\n",
      "50/50 - 0s - loss: 0.2859 - dense_40_loss: 0.1321 - dense_41_loss: 0.1538 - 248ms/epoch - 5ms/step\n",
      "Epoch 143/400\n",
      "50/50 - 0s - loss: 0.2765 - dense_40_loss: 0.1286 - dense_41_loss: 0.1478 - 246ms/epoch - 5ms/step\n",
      "Epoch 144/400\n",
      "50/50 - 0s - loss: 0.2760 - dense_40_loss: 0.1275 - dense_41_loss: 0.1484 - 248ms/epoch - 5ms/step\n",
      "Epoch 145/400\n",
      "50/50 - 0s - loss: 0.2794 - dense_40_loss: 0.1277 - dense_41_loss: 0.1517 - 247ms/epoch - 5ms/step\n",
      "Epoch 146/400\n",
      "50/50 - 0s - loss: 0.2763 - dense_40_loss: 0.1262 - dense_41_loss: 0.1501 - 248ms/epoch - 5ms/step\n",
      "Epoch 147/400\n",
      "50/50 - 0s - loss: 0.2772 - dense_40_loss: 0.1269 - dense_41_loss: 0.1504 - 245ms/epoch - 5ms/step\n",
      "Epoch 148/400\n",
      "50/50 - 0s - loss: 0.2778 - dense_40_loss: 0.1292 - dense_41_loss: 0.1486 - 245ms/epoch - 5ms/step\n",
      "Epoch 149/400\n",
      "50/50 - 0s - loss: 0.2773 - dense_40_loss: 0.1289 - dense_41_loss: 0.1484 - 252ms/epoch - 5ms/step\n",
      "Epoch 150/400\n",
      "50/50 - 0s - loss: 0.2729 - dense_40_loss: 0.1279 - dense_41_loss: 0.1450 - 268ms/epoch - 5ms/step\n",
      "Epoch 151/400\n",
      "50/50 - 0s - loss: 0.2763 - dense_40_loss: 0.1255 - dense_41_loss: 0.1507 - 281ms/epoch - 6ms/step\n",
      "Epoch 152/400\n",
      "50/50 - 0s - loss: 0.2716 - dense_40_loss: 0.1263 - dense_41_loss: 0.1453 - 278ms/epoch - 6ms/step\n",
      "Epoch 153/400\n",
      "50/50 - 0s - loss: 0.2762 - dense_40_loss: 0.1287 - dense_41_loss: 0.1475 - 285ms/epoch - 6ms/step\n",
      "Epoch 154/400\n",
      "50/50 - 0s - loss: 0.2745 - dense_40_loss: 0.1278 - dense_41_loss: 0.1467 - 281ms/epoch - 6ms/step\n",
      "Epoch 155/400\n",
      "50/50 - 0s - loss: 0.2714 - dense_40_loss: 0.1249 - dense_41_loss: 0.1465 - 276ms/epoch - 6ms/step\n",
      "Epoch 156/400\n",
      "50/50 - 0s - loss: 0.2757 - dense_40_loss: 0.1292 - dense_41_loss: 0.1465 - 281ms/epoch - 6ms/step\n",
      "Epoch 157/400\n",
      "50/50 - 0s - loss: 0.2788 - dense_40_loss: 0.1284 - dense_41_loss: 0.1504 - 275ms/epoch - 5ms/step\n",
      "Epoch 158/400\n",
      "50/50 - 0s - loss: 0.2828 - dense_40_loss: 0.1327 - dense_41_loss: 0.1501 - 277ms/epoch - 6ms/step\n",
      "Epoch 159/400\n",
      "50/50 - 0s - loss: 0.2754 - dense_40_loss: 0.1272 - dense_41_loss: 0.1482 - 275ms/epoch - 6ms/step\n",
      "Epoch 160/400\n",
      "50/50 - 0s - loss: 0.2720 - dense_40_loss: 0.1249 - dense_41_loss: 0.1471 - 249ms/epoch - 5ms/step\n",
      "Epoch 161/400\n",
      "50/50 - 0s - loss: 0.2745 - dense_40_loss: 0.1256 - dense_41_loss: 0.1489 - 267ms/epoch - 5ms/step\n",
      "Epoch 162/400\n",
      "50/50 - 0s - loss: 0.2767 - dense_40_loss: 0.1261 - dense_41_loss: 0.1507 - 283ms/epoch - 6ms/step\n",
      "Epoch 163/400\n",
      "50/50 - 0s - loss: 0.2707 - dense_40_loss: 0.1246 - dense_41_loss: 0.1461 - 266ms/epoch - 5ms/step\n",
      "Epoch 164/400\n",
      "50/50 - 0s - loss: 0.2711 - dense_40_loss: 0.1235 - dense_41_loss: 0.1477 - 248ms/epoch - 5ms/step\n",
      "Epoch 165/400\n",
      "50/50 - 0s - loss: 0.2744 - dense_40_loss: 0.1253 - dense_41_loss: 0.1491 - 254ms/epoch - 5ms/step\n",
      "Epoch 166/400\n",
      "50/50 - 0s - loss: 0.2696 - dense_40_loss: 0.1241 - dense_41_loss: 0.1455 - 249ms/epoch - 5ms/step\n",
      "Epoch 167/400\n",
      "50/50 - 0s - loss: 0.2658 - dense_40_loss: 0.1243 - dense_41_loss: 0.1414 - 252ms/epoch - 5ms/step\n",
      "Epoch 168/400\n",
      "50/50 - 0s - loss: 0.2717 - dense_40_loss: 0.1262 - dense_41_loss: 0.1455 - 251ms/epoch - 5ms/step\n",
      "Epoch 169/400\n",
      "50/50 - 0s - loss: 0.2652 - dense_40_loss: 0.1228 - dense_41_loss: 0.1424 - 254ms/epoch - 5ms/step\n",
      "Epoch 170/400\n",
      "50/50 - 0s - loss: 0.2692 - dense_40_loss: 0.1243 - dense_41_loss: 0.1449 - 258ms/epoch - 5ms/step\n",
      "Epoch 171/400\n",
      "50/50 - 0s - loss: 0.2666 - dense_40_loss: 0.1235 - dense_41_loss: 0.1431 - 272ms/epoch - 5ms/step\n",
      "Epoch 172/400\n",
      "50/50 - 0s - loss: 0.2632 - dense_40_loss: 0.1228 - dense_41_loss: 0.1404 - 252ms/epoch - 5ms/step\n",
      "Epoch 173/400\n",
      "50/50 - 0s - loss: 0.2659 - dense_40_loss: 0.1234 - dense_41_loss: 0.1425 - 252ms/epoch - 5ms/step\n",
      "Epoch 174/400\n",
      "50/50 - 0s - loss: 0.2702 - dense_40_loss: 0.1222 - dense_41_loss: 0.1479 - 251ms/epoch - 5ms/step\n",
      "Epoch 175/400\n",
      "50/50 - 0s - loss: 0.2685 - dense_40_loss: 0.1236 - dense_41_loss: 0.1449 - 251ms/epoch - 5ms/step\n",
      "Epoch 176/400\n",
      "50/50 - 0s - loss: 0.2659 - dense_40_loss: 0.1238 - dense_41_loss: 0.1421 - 261ms/epoch - 5ms/step\n",
      "Epoch 177/400\n",
      "50/50 - 0s - loss: 0.2690 - dense_40_loss: 0.1224 - dense_41_loss: 0.1466 - 256ms/epoch - 5ms/step\n",
      "Epoch 178/400\n",
      "50/50 - 0s - loss: 0.2655 - dense_40_loss: 0.1219 - dense_41_loss: 0.1436 - 252ms/epoch - 5ms/step\n",
      "Epoch 179/400\n",
      "50/50 - 0s - loss: 0.2613 - dense_40_loss: 0.1218 - dense_41_loss: 0.1395 - 251ms/epoch - 5ms/step\n",
      "Epoch 180/400\n",
      "50/50 - 0s - loss: 0.2642 - dense_40_loss: 0.1223 - dense_41_loss: 0.1418 - 253ms/epoch - 5ms/step\n",
      "Epoch 181/400\n",
      "50/50 - 0s - loss: 0.2633 - dense_40_loss: 0.1221 - dense_41_loss: 0.1413 - 248ms/epoch - 5ms/step\n",
      "Epoch 182/400\n",
      "50/50 - 0s - loss: 0.2627 - dense_40_loss: 0.1222 - dense_41_loss: 0.1405 - 247ms/epoch - 5ms/step\n",
      "Epoch 183/400\n",
      "50/50 - 0s - loss: 0.2660 - dense_40_loss: 0.1231 - dense_41_loss: 0.1429 - 273ms/epoch - 5ms/step\n",
      "Epoch 184/400\n",
      "50/50 - 0s - loss: 0.2614 - dense_40_loss: 0.1197 - dense_41_loss: 0.1417 - 254ms/epoch - 5ms/step\n",
      "Epoch 185/400\n",
      "50/50 - 0s - loss: 0.2608 - dense_40_loss: 0.1195 - dense_41_loss: 0.1413 - 259ms/epoch - 5ms/step\n",
      "Epoch 186/400\n",
      "50/50 - 0s - loss: 0.2602 - dense_40_loss: 0.1196 - dense_41_loss: 0.1406 - 271ms/epoch - 5ms/step\n",
      "Epoch 187/400\n",
      "50/50 - 0s - loss: 0.2652 - dense_40_loss: 0.1223 - dense_41_loss: 0.1429 - 250ms/epoch - 5ms/step\n",
      "Epoch 188/400\n",
      "50/50 - 0s - loss: 0.2655 - dense_40_loss: 0.1246 - dense_41_loss: 0.1409 - 270ms/epoch - 5ms/step\n",
      "Epoch 189/400\n",
      "50/50 - 0s - loss: 0.2680 - dense_40_loss: 0.1257 - dense_41_loss: 0.1423 - 246ms/epoch - 5ms/step\n",
      "Epoch 190/400\n",
      "50/50 - 0s - loss: 0.2630 - dense_40_loss: 0.1205 - dense_41_loss: 0.1425 - 265ms/epoch - 5ms/step\n",
      "Epoch 191/400\n",
      "50/50 - 0s - loss: 0.2555 - dense_40_loss: 0.1212 - dense_41_loss: 0.1343 - 271ms/epoch - 5ms/step\n",
      "Epoch 192/400\n",
      "50/50 - 0s - loss: 0.2534 - dense_40_loss: 0.1186 - dense_41_loss: 0.1348 - 288ms/epoch - 6ms/step\n",
      "Epoch 193/400\n",
      "50/50 - 0s - loss: 0.2563 - dense_40_loss: 0.1184 - dense_41_loss: 0.1379 - 250ms/epoch - 5ms/step\n",
      "Epoch 194/400\n",
      "50/50 - 0s - loss: 0.2541 - dense_40_loss: 0.1159 - dense_41_loss: 0.1382 - 269ms/epoch - 5ms/step\n",
      "Epoch 195/400\n",
      "50/50 - 0s - loss: 0.2542 - dense_40_loss: 0.1169 - dense_41_loss: 0.1373 - 269ms/epoch - 5ms/step\n",
      "Epoch 196/400\n",
      "50/50 - 0s - loss: 0.2578 - dense_40_loss: 0.1208 - dense_41_loss: 0.1370 - 268ms/epoch - 5ms/step\n",
      "Epoch 197/400\n",
      "50/50 - 0s - loss: 0.2563 - dense_40_loss: 0.1190 - dense_41_loss: 0.1373 - 271ms/epoch - 5ms/step\n",
      "Epoch 198/400\n",
      "50/50 - 0s - loss: 0.2603 - dense_40_loss: 0.1203 - dense_41_loss: 0.1401 - 251ms/epoch - 5ms/step\n",
      "Epoch 199/400\n",
      "50/50 - 0s - loss: 0.2596 - dense_40_loss: 0.1207 - dense_41_loss: 0.1388 - 250ms/epoch - 5ms/step\n",
      "Epoch 200/400\n",
      "50/50 - 0s - loss: 0.2589 - dense_40_loss: 0.1206 - dense_41_loss: 0.1383 - 248ms/epoch - 5ms/step\n",
      "Epoch 201/400\n",
      "50/50 - 0s - loss: 0.2512 - dense_40_loss: 0.1156 - dense_41_loss: 0.1357 - 246ms/epoch - 5ms/step\n",
      "Epoch 202/400\n",
      "50/50 - 0s - loss: 0.2496 - dense_40_loss: 0.1163 - dense_41_loss: 0.1333 - 244ms/epoch - 5ms/step\n",
      "Epoch 203/400\n",
      "50/50 - 0s - loss: 0.2622 - dense_40_loss: 0.1215 - dense_41_loss: 0.1407 - 252ms/epoch - 5ms/step\n",
      "Epoch 204/400\n",
      "50/50 - 0s - loss: 0.2568 - dense_40_loss: 0.1182 - dense_41_loss: 0.1386 - 250ms/epoch - 5ms/step\n",
      "Epoch 205/400\n",
      "50/50 - 0s - loss: 0.2551 - dense_40_loss: 0.1180 - dense_41_loss: 0.1371 - 244ms/epoch - 5ms/step\n",
      "Epoch 206/400\n",
      "50/50 - 0s - loss: 0.2523 - dense_40_loss: 0.1173 - dense_41_loss: 0.1350 - 246ms/epoch - 5ms/step\n",
      "Epoch 207/400\n",
      "50/50 - 0s - loss: 0.2514 - dense_40_loss: 0.1159 - dense_41_loss: 0.1355 - 270ms/epoch - 5ms/step\n",
      "Epoch 208/400\n",
      "50/50 - 0s - loss: 0.2558 - dense_40_loss: 0.1180 - dense_41_loss: 0.1378 - 262ms/epoch - 5ms/step\n",
      "Epoch 209/400\n",
      "50/50 - 0s - loss: 0.2561 - dense_40_loss: 0.1180 - dense_41_loss: 0.1382 - 252ms/epoch - 5ms/step\n",
      "Epoch 210/400\n",
      "50/50 - 0s - loss: 0.2520 - dense_40_loss: 0.1164 - dense_41_loss: 0.1355 - 300ms/epoch - 6ms/step\n",
      "Epoch 211/400\n",
      "50/50 - 0s - loss: 0.2568 - dense_40_loss: 0.1195 - dense_41_loss: 0.1373 - 301ms/epoch - 6ms/step\n",
      "Epoch 212/400\n",
      "50/50 - 0s - loss: 0.2546 - dense_40_loss: 0.1168 - dense_41_loss: 0.1379 - 271ms/epoch - 5ms/step\n",
      "Epoch 213/400\n",
      "50/50 - 0s - loss: 0.2505 - dense_40_loss: 0.1167 - dense_41_loss: 0.1339 - 265ms/epoch - 5ms/step\n",
      "Epoch 214/400\n",
      "50/50 - 0s - loss: 0.2610 - dense_40_loss: 0.1208 - dense_41_loss: 0.1402 - 269ms/epoch - 5ms/step\n",
      "Epoch 215/400\n",
      "50/50 - 0s - loss: 0.2511 - dense_40_loss: 0.1160 - dense_41_loss: 0.1351 - 271ms/epoch - 5ms/step\n",
      "Epoch 216/400\n",
      "50/50 - 0s - loss: 0.2489 - dense_40_loss: 0.1157 - dense_41_loss: 0.1332 - 247ms/epoch - 5ms/step\n",
      "Epoch 217/400\n",
      "50/50 - 0s - loss: 0.2500 - dense_40_loss: 0.1151 - dense_41_loss: 0.1349 - 261ms/epoch - 5ms/step\n",
      "Epoch 218/400\n",
      "50/50 - 0s - loss: 0.2521 - dense_40_loss: 0.1172 - dense_41_loss: 0.1349 - 261ms/epoch - 5ms/step\n",
      "Epoch 219/400\n",
      "50/50 - 0s - loss: 0.2479 - dense_40_loss: 0.1136 - dense_41_loss: 0.1343 - 265ms/epoch - 5ms/step\n",
      "Epoch 220/400\n",
      "50/50 - 0s - loss: 0.2473 - dense_40_loss: 0.1137 - dense_41_loss: 0.1336 - 271ms/epoch - 5ms/step\n",
      "Epoch 221/400\n",
      "50/50 - 0s - loss: 0.2495 - dense_40_loss: 0.1149 - dense_41_loss: 0.1346 - 243ms/epoch - 5ms/step\n",
      "Epoch 222/400\n",
      "50/50 - 0s - loss: 0.2527 - dense_40_loss: 0.1170 - dense_41_loss: 0.1358 - 278ms/epoch - 6ms/step\n",
      "Epoch 223/400\n",
      "50/50 - 0s - loss: 0.2458 - dense_40_loss: 0.1125 - dense_41_loss: 0.1333 - 258ms/epoch - 5ms/step\n",
      "Epoch 224/400\n",
      "50/50 - 0s - loss: 0.2485 - dense_40_loss: 0.1157 - dense_41_loss: 0.1328 - 251ms/epoch - 5ms/step\n",
      "Epoch 225/400\n",
      "50/50 - 0s - loss: 0.2468 - dense_40_loss: 0.1144 - dense_41_loss: 0.1324 - 257ms/epoch - 5ms/step\n",
      "Epoch 226/400\n",
      "50/50 - 0s - loss: 0.2484 - dense_40_loss: 0.1149 - dense_41_loss: 0.1336 - 258ms/epoch - 5ms/step\n",
      "Epoch 227/400\n",
      "50/50 - 0s - loss: 0.2443 - dense_40_loss: 0.1133 - dense_41_loss: 0.1311 - 252ms/epoch - 5ms/step\n",
      "Epoch 228/400\n",
      "50/50 - 0s - loss: 0.2529 - dense_40_loss: 0.1174 - dense_41_loss: 0.1355 - 250ms/epoch - 5ms/step\n",
      "Epoch 229/400\n",
      "50/50 - 0s - loss: 0.2484 - dense_40_loss: 0.1198 - dense_41_loss: 0.1286 - 257ms/epoch - 5ms/step\n",
      "Epoch 230/400\n",
      "50/50 - 0s - loss: 0.2502 - dense_40_loss: 0.1160 - dense_41_loss: 0.1342 - 258ms/epoch - 5ms/step\n",
      "Epoch 231/400\n",
      "50/50 - 0s - loss: 0.2502 - dense_40_loss: 0.1148 - dense_41_loss: 0.1355 - 262ms/epoch - 5ms/step\n",
      "Epoch 232/400\n",
      "50/50 - 0s - loss: 0.2477 - dense_40_loss: 0.1149 - dense_41_loss: 0.1328 - 268ms/epoch - 5ms/step\n",
      "Epoch 233/400\n",
      "50/50 - 0s - loss: 0.2437 - dense_40_loss: 0.1117 - dense_41_loss: 0.1320 - 269ms/epoch - 5ms/step\n",
      "Epoch 234/400\n",
      "50/50 - 0s - loss: 0.2460 - dense_40_loss: 0.1138 - dense_41_loss: 0.1321 - 253ms/epoch - 5ms/step\n",
      "Epoch 235/400\n",
      "50/50 - 0s - loss: 0.2440 - dense_40_loss: 0.1139 - dense_41_loss: 0.1300 - 256ms/epoch - 5ms/step\n",
      "Epoch 236/400\n",
      "50/50 - 0s - loss: 0.2442 - dense_40_loss: 0.1133 - dense_41_loss: 0.1308 - 270ms/epoch - 5ms/step\n",
      "Epoch 237/400\n",
      "50/50 - 0s - loss: 0.2480 - dense_40_loss: 0.1154 - dense_41_loss: 0.1326 - 261ms/epoch - 5ms/step\n",
      "Epoch 238/400\n",
      "50/50 - 0s - loss: 0.2423 - dense_40_loss: 0.1129 - dense_41_loss: 0.1295 - 264ms/epoch - 5ms/step\n",
      "Epoch 239/400\n",
      "50/50 - 0s - loss: 0.2412 - dense_40_loss: 0.1127 - dense_41_loss: 0.1285 - 247ms/epoch - 5ms/step\n",
      "Epoch 240/400\n",
      "50/50 - 0s - loss: 0.2435 - dense_40_loss: 0.1136 - dense_41_loss: 0.1300 - 247ms/epoch - 5ms/step\n",
      "Epoch 241/400\n",
      "50/50 - 0s - loss: 0.2440 - dense_40_loss: 0.1141 - dense_41_loss: 0.1300 - 244ms/epoch - 5ms/step\n",
      "Epoch 242/400\n",
      "50/50 - 0s - loss: 0.2412 - dense_40_loss: 0.1121 - dense_41_loss: 0.1291 - 244ms/epoch - 5ms/step\n",
      "Epoch 243/400\n",
      "50/50 - 0s - loss: 0.2411 - dense_40_loss: 0.1146 - dense_41_loss: 0.1265 - 246ms/epoch - 5ms/step\n",
      "Epoch 244/400\n",
      "50/50 - 0s - loss: 0.2529 - dense_40_loss: 0.1176 - dense_41_loss: 0.1354 - 253ms/epoch - 5ms/step\n",
      "Epoch 245/400\n",
      "50/50 - 0s - loss: 0.2456 - dense_40_loss: 0.1127 - dense_41_loss: 0.1329 - 254ms/epoch - 5ms/step\n",
      "Epoch 246/400\n",
      "50/50 - 0s - loss: 0.2495 - dense_40_loss: 0.1166 - dense_41_loss: 0.1330 - 252ms/epoch - 5ms/step\n",
      "Epoch 247/400\n",
      "50/50 - 0s - loss: 0.2515 - dense_40_loss: 0.1146 - dense_41_loss: 0.1369 - 253ms/epoch - 5ms/step\n",
      "Epoch 248/400\n",
      "50/50 - 0s - loss: 0.2409 - dense_40_loss: 0.1125 - dense_41_loss: 0.1285 - 245ms/epoch - 5ms/step\n",
      "Epoch 249/400\n",
      "50/50 - 0s - loss: 0.2397 - dense_40_loss: 0.1123 - dense_41_loss: 0.1274 - 251ms/epoch - 5ms/step\n",
      "Epoch 250/400\n",
      "50/50 - 0s - loss: 0.2407 - dense_40_loss: 0.1101 - dense_41_loss: 0.1307 - 253ms/epoch - 5ms/step\n",
      "Epoch 251/400\n",
      "50/50 - 0s - loss: 0.2384 - dense_40_loss: 0.1131 - dense_41_loss: 0.1253 - 254ms/epoch - 5ms/step\n",
      "Epoch 252/400\n",
      "50/50 - 0s - loss: 0.2365 - dense_40_loss: 0.1099 - dense_41_loss: 0.1266 - 254ms/epoch - 5ms/step\n",
      "Epoch 253/400\n",
      "50/50 - 0s - loss: 0.2413 - dense_40_loss: 0.1110 - dense_41_loss: 0.1304 - 250ms/epoch - 5ms/step\n",
      "Epoch 254/400\n",
      "50/50 - 0s - loss: 0.2416 - dense_40_loss: 0.1141 - dense_41_loss: 0.1276 - 267ms/epoch - 5ms/step\n",
      "Epoch 255/400\n",
      "50/50 - 0s - loss: 0.2404 - dense_40_loss: 0.1106 - dense_41_loss: 0.1298 - 261ms/epoch - 5ms/step\n",
      "Epoch 256/400\n",
      "50/50 - 0s - loss: 0.2404 - dense_40_loss: 0.1111 - dense_41_loss: 0.1293 - 262ms/epoch - 5ms/step\n",
      "Epoch 257/400\n",
      "50/50 - 0s - loss: 0.2396 - dense_40_loss: 0.1115 - dense_41_loss: 0.1281 - 260ms/epoch - 5ms/step\n",
      "Epoch 258/400\n",
      "50/50 - 0s - loss: 0.2397 - dense_40_loss: 0.1107 - dense_41_loss: 0.1290 - 249ms/epoch - 5ms/step\n",
      "Epoch 259/400\n",
      "50/50 - 0s - loss: 0.2380 - dense_40_loss: 0.1097 - dense_41_loss: 0.1282 - 247ms/epoch - 5ms/step\n",
      "Epoch 260/400\n",
      "50/50 - 0s - loss: 0.2400 - dense_40_loss: 0.1112 - dense_41_loss: 0.1288 - 249ms/epoch - 5ms/step\n",
      "Epoch 261/400\n",
      "50/50 - 0s - loss: 0.2378 - dense_40_loss: 0.1107 - dense_41_loss: 0.1271 - 254ms/epoch - 5ms/step\n",
      "Epoch 262/400\n",
      "50/50 - 0s - loss: 0.2363 - dense_40_loss: 0.1090 - dense_41_loss: 0.1273 - 245ms/epoch - 5ms/step\n",
      "Epoch 263/400\n",
      "50/50 - 0s - loss: 0.2393 - dense_40_loss: 0.1107 - dense_41_loss: 0.1286 - 271ms/epoch - 5ms/step\n",
      "Epoch 264/400\n",
      "50/50 - 0s - loss: 0.2440 - dense_40_loss: 0.1124 - dense_41_loss: 0.1316 - 257ms/epoch - 5ms/step\n",
      "Epoch 265/400\n",
      "50/50 - 0s - loss: 0.2400 - dense_40_loss: 0.1116 - dense_41_loss: 0.1284 - 260ms/epoch - 5ms/step\n",
      "Epoch 266/400\n",
      "50/50 - 0s - loss: 0.2402 - dense_40_loss: 0.1122 - dense_41_loss: 0.1280 - 256ms/epoch - 5ms/step\n",
      "Epoch 267/400\n",
      "50/50 - 0s - loss: 0.2362 - dense_40_loss: 0.1109 - dense_41_loss: 0.1254 - 257ms/epoch - 5ms/step\n",
      "Epoch 268/400\n",
      "50/50 - 0s - loss: 0.2397 - dense_40_loss: 0.1128 - dense_41_loss: 0.1269 - 279ms/epoch - 6ms/step\n",
      "Epoch 269/400\n",
      "50/50 - 0s - loss: 0.2398 - dense_40_loss: 0.1094 - dense_41_loss: 0.1304 - 356ms/epoch - 7ms/step\n",
      "Epoch 270/400\n",
      "50/50 - 0s - loss: 0.2368 - dense_40_loss: 0.1090 - dense_41_loss: 0.1277 - 295ms/epoch - 6ms/step\n",
      "Epoch 271/400\n",
      "50/50 - 0s - loss: 0.2347 - dense_40_loss: 0.1101 - dense_41_loss: 0.1245 - 297ms/epoch - 6ms/step\n",
      "Epoch 272/400\n",
      "50/50 - 0s - loss: 0.2334 - dense_40_loss: 0.1094 - dense_41_loss: 0.1240 - 267ms/epoch - 5ms/step\n",
      "Epoch 273/400\n",
      "50/50 - 0s - loss: 0.2317 - dense_40_loss: 0.1086 - dense_41_loss: 0.1231 - 265ms/epoch - 5ms/step\n",
      "Epoch 274/400\n",
      "50/50 - 0s - loss: 0.2361 - dense_40_loss: 0.1100 - dense_41_loss: 0.1261 - 269ms/epoch - 5ms/step\n",
      "Epoch 275/400\n",
      "50/50 - 0s - loss: 0.2405 - dense_40_loss: 0.1126 - dense_41_loss: 0.1279 - 272ms/epoch - 5ms/step\n",
      "Epoch 276/400\n",
      "50/50 - 0s - loss: 0.2343 - dense_40_loss: 0.1113 - dense_41_loss: 0.1230 - 269ms/epoch - 5ms/step\n",
      "Epoch 277/400\n",
      "50/50 - 0s - loss: 0.2399 - dense_40_loss: 0.1124 - dense_41_loss: 0.1275 - 244ms/epoch - 5ms/step\n",
      "Epoch 278/400\n",
      "50/50 - 0s - loss: 0.2375 - dense_40_loss: 0.1107 - dense_41_loss: 0.1267 - 247ms/epoch - 5ms/step\n",
      "Epoch 279/400\n",
      "50/50 - 0s - loss: 0.2336 - dense_40_loss: 0.1109 - dense_41_loss: 0.1227 - 259ms/epoch - 5ms/step\n",
      "Epoch 280/400\n",
      "50/50 - 0s - loss: 0.2343 - dense_40_loss: 0.1082 - dense_41_loss: 0.1261 - 259ms/epoch - 5ms/step\n",
      "Epoch 281/400\n",
      "50/50 - 0s - loss: 0.2390 - dense_40_loss: 0.1101 - dense_41_loss: 0.1289 - 248ms/epoch - 5ms/step\n",
      "Epoch 282/400\n",
      "50/50 - 0s - loss: 0.2368 - dense_40_loss: 0.1112 - dense_41_loss: 0.1257 - 269ms/epoch - 5ms/step\n",
      "Epoch 283/400\n",
      "50/50 - 0s - loss: 0.2364 - dense_40_loss: 0.1097 - dense_41_loss: 0.1267 - 264ms/epoch - 5ms/step\n",
      "Epoch 284/400\n",
      "50/50 - 0s - loss: 0.2384 - dense_40_loss: 0.1113 - dense_41_loss: 0.1271 - 244ms/epoch - 5ms/step\n",
      "Epoch 285/400\n",
      "50/50 - 0s - loss: 0.2342 - dense_40_loss: 0.1068 - dense_41_loss: 0.1274 - 264ms/epoch - 5ms/step\n",
      "Epoch 286/400\n",
      "50/50 - 0s - loss: 0.2358 - dense_40_loss: 0.1077 - dense_41_loss: 0.1281 - 271ms/epoch - 5ms/step\n",
      "Epoch 287/400\n",
      "50/50 - 0s - loss: 0.2385 - dense_40_loss: 0.1092 - dense_41_loss: 0.1293 - 253ms/epoch - 5ms/step\n",
      "Epoch 288/400\n",
      "50/50 - 0s - loss: 0.2315 - dense_40_loss: 0.1087 - dense_41_loss: 0.1228 - 266ms/epoch - 5ms/step\n",
      "Epoch 289/400\n",
      "50/50 - 0s - loss: 0.2317 - dense_40_loss: 0.1077 - dense_41_loss: 0.1241 - 250ms/epoch - 5ms/step\n",
      "Epoch 290/400\n",
      "50/50 - 0s - loss: 0.2384 - dense_40_loss: 0.1085 - dense_41_loss: 0.1299 - 255ms/epoch - 5ms/step\n",
      "Epoch 291/400\n",
      "50/50 - 0s - loss: 0.2343 - dense_40_loss: 0.1094 - dense_41_loss: 0.1249 - 254ms/epoch - 5ms/step\n",
      "Epoch 292/400\n",
      "50/50 - 0s - loss: 0.2362 - dense_40_loss: 0.1103 - dense_41_loss: 0.1258 - 261ms/epoch - 5ms/step\n",
      "Epoch 293/400\n",
      "50/50 - 0s - loss: 0.2315 - dense_40_loss: 0.1089 - dense_41_loss: 0.1227 - 265ms/epoch - 5ms/step\n",
      "Epoch 294/400\n",
      "50/50 - 0s - loss: 0.2347 - dense_40_loss: 0.1109 - dense_41_loss: 0.1238 - 244ms/epoch - 5ms/step\n",
      "Epoch 295/400\n",
      "50/50 - 0s - loss: 0.2340 - dense_40_loss: 0.1112 - dense_41_loss: 0.1228 - 247ms/epoch - 5ms/step\n",
      "Epoch 296/400\n",
      "50/50 - 0s - loss: 0.2305 - dense_40_loss: 0.1077 - dense_41_loss: 0.1228 - 266ms/epoch - 5ms/step\n",
      "Epoch 297/400\n",
      "50/50 - 0s - loss: 0.2362 - dense_40_loss: 0.1105 - dense_41_loss: 0.1257 - 250ms/epoch - 5ms/step\n",
      "Epoch 298/400\n",
      "50/50 - 0s - loss: 0.2322 - dense_40_loss: 0.1087 - dense_41_loss: 0.1235 - 258ms/epoch - 5ms/step\n",
      "Epoch 299/400\n",
      "50/50 - 0s - loss: 0.2295 - dense_40_loss: 0.1074 - dense_41_loss: 0.1221 - 255ms/epoch - 5ms/step\n",
      "Epoch 300/400\n",
      "50/50 - 0s - loss: 0.2285 - dense_40_loss: 0.1068 - dense_41_loss: 0.1218 - 253ms/epoch - 5ms/step\n",
      "Epoch 301/400\n",
      "50/50 - 0s - loss: 0.2340 - dense_40_loss: 0.1101 - dense_41_loss: 0.1239 - 264ms/epoch - 5ms/step\n",
      "Epoch 302/400\n",
      "50/50 - 0s - loss: 0.2328 - dense_40_loss: 0.1079 - dense_41_loss: 0.1249 - 254ms/epoch - 5ms/step\n",
      "Epoch 303/400\n",
      "50/50 - 0s - loss: 0.2297 - dense_40_loss: 0.1060 - dense_41_loss: 0.1236 - 262ms/epoch - 5ms/step\n",
      "Epoch 304/400\n",
      "50/50 - 0s - loss: 0.2299 - dense_40_loss: 0.1080 - dense_41_loss: 0.1219 - 254ms/epoch - 5ms/step\n",
      "Epoch 305/400\n",
      "50/50 - 0s - loss: 0.2294 - dense_40_loss: 0.1085 - dense_41_loss: 0.1209 - 267ms/epoch - 5ms/step\n",
      "Epoch 306/400\n",
      "50/50 - 0s - loss: 0.2290 - dense_40_loss: 0.1094 - dense_41_loss: 0.1196 - 266ms/epoch - 5ms/step\n",
      "Epoch 307/400\n",
      "50/50 - 0s - loss: 0.2260 - dense_40_loss: 0.1056 - dense_41_loss: 0.1204 - 258ms/epoch - 5ms/step\n",
      "Epoch 308/400\n",
      "50/50 - 0s - loss: 0.2268 - dense_40_loss: 0.1062 - dense_41_loss: 0.1207 - 264ms/epoch - 5ms/step\n",
      "Epoch 309/400\n",
      "50/50 - 0s - loss: 0.2335 - dense_40_loss: 0.1083 - dense_41_loss: 0.1252 - 257ms/epoch - 5ms/step\n",
      "Epoch 310/400\n",
      "50/50 - 0s - loss: 0.2283 - dense_40_loss: 0.1063 - dense_41_loss: 0.1220 - 254ms/epoch - 5ms/step\n",
      "Epoch 311/400\n",
      "50/50 - 0s - loss: 0.2253 - dense_40_loss: 0.1054 - dense_41_loss: 0.1199 - 248ms/epoch - 5ms/step\n",
      "Epoch 312/400\n",
      "50/50 - 0s - loss: 0.2298 - dense_40_loss: 0.1090 - dense_41_loss: 0.1208 - 251ms/epoch - 5ms/step\n",
      "Epoch 313/400\n",
      "50/50 - 0s - loss: 0.2334 - dense_40_loss: 0.1076 - dense_41_loss: 0.1258 - 246ms/epoch - 5ms/step\n",
      "Epoch 314/400\n",
      "50/50 - 0s - loss: 0.2308 - dense_40_loss: 0.1081 - dense_41_loss: 0.1227 - 260ms/epoch - 5ms/step\n",
      "Epoch 315/400\n",
      "50/50 - 0s - loss: 0.2309 - dense_40_loss: 0.1074 - dense_41_loss: 0.1235 - 245ms/epoch - 5ms/step\n",
      "Epoch 316/400\n",
      "50/50 - 0s - loss: 0.2261 - dense_40_loss: 0.1058 - dense_41_loss: 0.1203 - 263ms/epoch - 5ms/step\n",
      "Epoch 317/400\n",
      "50/50 - 0s - loss: 0.2291 - dense_40_loss: 0.1048 - dense_41_loss: 0.1243 - 259ms/epoch - 5ms/step\n",
      "Epoch 318/400\n",
      "50/50 - 0s - loss: 0.2265 - dense_40_loss: 0.1069 - dense_41_loss: 0.1196 - 266ms/epoch - 5ms/step\n",
      "Epoch 319/400\n",
      "50/50 - 0s - loss: 0.2277 - dense_40_loss: 0.1062 - dense_41_loss: 0.1215 - 258ms/epoch - 5ms/step\n",
      "Epoch 320/400\n",
      "50/50 - 0s - loss: 0.2258 - dense_40_loss: 0.1069 - dense_41_loss: 0.1189 - 251ms/epoch - 5ms/step\n",
      "Epoch 321/400\n",
      "50/50 - 0s - loss: 0.2433 - dense_40_loss: 0.1121 - dense_41_loss: 0.1312 - 256ms/epoch - 5ms/step\n",
      "Epoch 322/400\n",
      "50/50 - 0s - loss: 0.2366 - dense_40_loss: 0.1104 - dense_41_loss: 0.1262 - 260ms/epoch - 5ms/step\n",
      "Epoch 323/400\n",
      "50/50 - 0s - loss: 0.2361 - dense_40_loss: 0.1083 - dense_41_loss: 0.1277 - 256ms/epoch - 5ms/step\n",
      "Epoch 324/400\n",
      "50/50 - 0s - loss: 0.2299 - dense_40_loss: 0.1070 - dense_41_loss: 0.1228 - 242ms/epoch - 5ms/step\n",
      "Epoch 325/400\n",
      "50/50 - 0s - loss: 0.2270 - dense_40_loss: 0.1061 - dense_41_loss: 0.1208 - 252ms/epoch - 5ms/step\n",
      "Epoch 326/400\n",
      "50/50 - 0s - loss: 0.2219 - dense_40_loss: 0.1041 - dense_41_loss: 0.1179 - 251ms/epoch - 5ms/step\n",
      "Epoch 327/400\n",
      "50/50 - 0s - loss: 0.2237 - dense_40_loss: 0.1047 - dense_41_loss: 0.1190 - 252ms/epoch - 5ms/step\n",
      "Epoch 328/400\n",
      "50/50 - 0s - loss: 0.2243 - dense_40_loss: 0.1051 - dense_41_loss: 0.1191 - 257ms/epoch - 5ms/step\n",
      "Epoch 329/400\n",
      "50/50 - 0s - loss: 0.2271 - dense_40_loss: 0.1088 - dense_41_loss: 0.1183 - 269ms/epoch - 5ms/step\n",
      "Epoch 330/400\n",
      "50/50 - 0s - loss: 0.2257 - dense_40_loss: 0.1060 - dense_41_loss: 0.1197 - 266ms/epoch - 5ms/step\n",
      "Epoch 331/400\n",
      "50/50 - 0s - loss: 0.2281 - dense_40_loss: 0.1085 - dense_41_loss: 0.1196 - 264ms/epoch - 5ms/step\n",
      "Epoch 332/400\n",
      "50/50 - 0s - loss: 0.2305 - dense_40_loss: 0.1079 - dense_41_loss: 0.1226 - 256ms/epoch - 5ms/step\n",
      "Epoch 333/400\n",
      "50/50 - 0s - loss: 0.2252 - dense_40_loss: 0.1059 - dense_41_loss: 0.1193 - 253ms/epoch - 5ms/step\n",
      "Epoch 334/400\n",
      "50/50 - 0s - loss: 0.2271 - dense_40_loss: 0.1081 - dense_41_loss: 0.1190 - 264ms/epoch - 5ms/step\n",
      "Epoch 335/400\n",
      "50/50 - 0s - loss: 0.2229 - dense_40_loss: 0.1041 - dense_41_loss: 0.1189 - 262ms/epoch - 5ms/step\n",
      "Epoch 336/400\n",
      "50/50 - 0s - loss: 0.2236 - dense_40_loss: 0.1039 - dense_41_loss: 0.1197 - 244ms/epoch - 5ms/step\n",
      "Epoch 337/400\n",
      "50/50 - 0s - loss: 0.2226 - dense_40_loss: 0.1043 - dense_41_loss: 0.1183 - 264ms/epoch - 5ms/step\n",
      "Epoch 338/400\n",
      "50/50 - 0s - loss: 0.2231 - dense_40_loss: 0.1064 - dense_41_loss: 0.1167 - 256ms/epoch - 5ms/step\n",
      "Epoch 339/400\n",
      "50/50 - 0s - loss: 0.2204 - dense_40_loss: 0.1040 - dense_41_loss: 0.1164 - 262ms/epoch - 5ms/step\n",
      "Epoch 340/400\n",
      "50/50 - 0s - loss: 0.2219 - dense_40_loss: 0.1033 - dense_41_loss: 0.1186 - 263ms/epoch - 5ms/step\n",
      "Epoch 341/400\n",
      "50/50 - 0s - loss: 0.2184 - dense_40_loss: 0.1022 - dense_41_loss: 0.1162 - 246ms/epoch - 5ms/step\n",
      "Epoch 342/400\n",
      "50/50 - 0s - loss: 0.2256 - dense_40_loss: 0.1045 - dense_41_loss: 0.1211 - 245ms/epoch - 5ms/step\n",
      "Epoch 343/400\n",
      "50/50 - 0s - loss: 0.2254 - dense_40_loss: 0.1042 - dense_41_loss: 0.1212 - 251ms/epoch - 5ms/step\n",
      "Epoch 344/400\n",
      "50/50 - 0s - loss: 0.2260 - dense_40_loss: 0.1053 - dense_41_loss: 0.1207 - 253ms/epoch - 5ms/step\n",
      "Epoch 345/400\n",
      "50/50 - 0s - loss: 0.2251 - dense_40_loss: 0.1058 - dense_41_loss: 0.1193 - 256ms/epoch - 5ms/step\n",
      "Epoch 346/400\n",
      "50/50 - 0s - loss: 0.2268 - dense_40_loss: 0.1062 - dense_41_loss: 0.1206 - 248ms/epoch - 5ms/step\n",
      "Epoch 347/400\n",
      "50/50 - 0s - loss: 0.2245 - dense_40_loss: 0.1066 - dense_41_loss: 0.1180 - 266ms/epoch - 5ms/step\n",
      "Epoch 348/400\n",
      "50/50 - 0s - loss: 0.2267 - dense_40_loss: 0.1051 - dense_41_loss: 0.1216 - 262ms/epoch - 5ms/step\n",
      "Epoch 349/400\n",
      "50/50 - 0s - loss: 0.2303 - dense_40_loss: 0.1099 - dense_41_loss: 0.1204 - 251ms/epoch - 5ms/step\n",
      "Epoch 350/400\n",
      "50/50 - 0s - loss: 0.2288 - dense_40_loss: 0.1070 - dense_41_loss: 0.1218 - 250ms/epoch - 5ms/step\n",
      "Epoch 351/400\n",
      "50/50 - 0s - loss: 0.2252 - dense_40_loss: 0.1053 - dense_41_loss: 0.1199 - 249ms/epoch - 5ms/step\n",
      "Epoch 352/400\n",
      "50/50 - 0s - loss: 0.2241 - dense_40_loss: 0.1060 - dense_41_loss: 0.1181 - 249ms/epoch - 5ms/step\n",
      "Epoch 353/400\n",
      "50/50 - 0s - loss: 0.2228 - dense_40_loss: 0.1045 - dense_41_loss: 0.1182 - 248ms/epoch - 5ms/step\n",
      "Epoch 354/400\n",
      "50/50 - 0s - loss: 0.2175 - dense_40_loss: 0.1028 - dense_41_loss: 0.1147 - 265ms/epoch - 5ms/step\n",
      "Epoch 355/400\n",
      "50/50 - 0s - loss: 0.2210 - dense_40_loss: 0.1055 - dense_41_loss: 0.1154 - 269ms/epoch - 5ms/step\n",
      "Epoch 356/400\n",
      "50/50 - 0s - loss: 0.2205 - dense_40_loss: 0.1048 - dense_41_loss: 0.1158 - 269ms/epoch - 5ms/step\n",
      "Epoch 357/400\n",
      "50/50 - 0s - loss: 0.2208 - dense_40_loss: 0.1040 - dense_41_loss: 0.1167 - 252ms/epoch - 5ms/step\n",
      "Epoch 358/400\n",
      "50/50 - 0s - loss: 0.2270 - dense_40_loss: 0.1050 - dense_41_loss: 0.1221 - 250ms/epoch - 5ms/step\n",
      "Epoch 359/400\n",
      "50/50 - 0s - loss: 0.2198 - dense_40_loss: 0.1022 - dense_41_loss: 0.1175 - 253ms/epoch - 5ms/step\n",
      "Epoch 360/400\n",
      "50/50 - 0s - loss: 0.2241 - dense_40_loss: 0.1037 - dense_41_loss: 0.1203 - 252ms/epoch - 5ms/step\n",
      "Epoch 361/400\n",
      "50/50 - 0s - loss: 0.2263 - dense_40_loss: 0.1063 - dense_41_loss: 0.1200 - 257ms/epoch - 5ms/step\n",
      "Epoch 362/400\n",
      "50/50 - 0s - loss: 0.2225 - dense_40_loss: 0.1036 - dense_41_loss: 0.1188 - 259ms/epoch - 5ms/step\n",
      "Epoch 363/400\n",
      "50/50 - 0s - loss: 0.2274 - dense_40_loss: 0.1088 - dense_41_loss: 0.1186 - 261ms/epoch - 5ms/step\n",
      "Epoch 364/400\n",
      "50/50 - 0s - loss: 0.2252 - dense_40_loss: 0.1065 - dense_41_loss: 0.1187 - 257ms/epoch - 5ms/step\n",
      "Epoch 365/400\n",
      "50/50 - 0s - loss: 0.2221 - dense_40_loss: 0.1026 - dense_41_loss: 0.1195 - 262ms/epoch - 5ms/step\n",
      "Epoch 366/400\n",
      "50/50 - 0s - loss: 0.2234 - dense_40_loss: 0.1042 - dense_41_loss: 0.1192 - 270ms/epoch - 5ms/step\n",
      "Epoch 367/400\n",
      "50/50 - 0s - loss: 0.2209 - dense_40_loss: 0.1034 - dense_41_loss: 0.1174 - 271ms/epoch - 5ms/step\n",
      "Epoch 368/400\n",
      "50/50 - 0s - loss: 0.2151 - dense_40_loss: 0.1006 - dense_41_loss: 0.1146 - 250ms/epoch - 5ms/step\n",
      "Epoch 369/400\n",
      "50/50 - 0s - loss: 0.2144 - dense_40_loss: 0.1028 - dense_41_loss: 0.1116 - 252ms/epoch - 5ms/step\n",
      "Epoch 370/400\n",
      "50/50 - 0s - loss: 0.2203 - dense_40_loss: 0.1051 - dense_41_loss: 0.1151 - 267ms/epoch - 5ms/step\n",
      "Epoch 371/400\n",
      "50/50 - 0s - loss: 0.2212 - dense_40_loss: 0.1045 - dense_41_loss: 0.1168 - 253ms/epoch - 5ms/step\n",
      "Epoch 372/400\n",
      "50/50 - 0s - loss: 0.2187 - dense_40_loss: 0.1034 - dense_41_loss: 0.1153 - 268ms/epoch - 5ms/step\n",
      "Epoch 373/400\n",
      "50/50 - 0s - loss: 0.2180 - dense_40_loss: 0.1022 - dense_41_loss: 0.1158 - 257ms/epoch - 5ms/step\n",
      "Epoch 374/400\n",
      "50/50 - 0s - loss: 0.2171 - dense_40_loss: 0.1019 - dense_41_loss: 0.1153 - 254ms/epoch - 5ms/step\n",
      "Epoch 375/400\n",
      "50/50 - 0s - loss: 0.2135 - dense_40_loss: 0.1004 - dense_41_loss: 0.1131 - 250ms/epoch - 5ms/step\n",
      "Epoch 376/400\n",
      "50/50 - 0s - loss: 0.2158 - dense_40_loss: 0.1014 - dense_41_loss: 0.1144 - 257ms/epoch - 5ms/step\n",
      "Epoch 377/400\n",
      "50/50 - 0s - loss: 0.2145 - dense_40_loss: 0.1012 - dense_41_loss: 0.1133 - 258ms/epoch - 5ms/step\n",
      "Epoch 378/400\n",
      "50/50 - 0s - loss: 0.2171 - dense_40_loss: 0.1011 - dense_41_loss: 0.1160 - 268ms/epoch - 5ms/step\n",
      "Epoch 379/400\n",
      "50/50 - 0s - loss: 0.2309 - dense_40_loss: 0.1060 - dense_41_loss: 0.1250 - 271ms/epoch - 5ms/step\n",
      "Epoch 380/400\n",
      "50/50 - 0s - loss: 0.2374 - dense_40_loss: 0.1127 - dense_41_loss: 0.1247 - 259ms/epoch - 5ms/step\n",
      "Epoch 381/400\n",
      "50/50 - 0s - loss: 0.2283 - dense_40_loss: 0.1050 - dense_41_loss: 0.1233 - 261ms/epoch - 5ms/step\n",
      "Epoch 382/400\n",
      "50/50 - 0s - loss: 0.2277 - dense_40_loss: 0.1067 - dense_41_loss: 0.1210 - 263ms/epoch - 5ms/step\n",
      "Epoch 383/400\n",
      "50/50 - 0s - loss: 0.2260 - dense_40_loss: 0.1073 - dense_41_loss: 0.1187 - 269ms/epoch - 5ms/step\n",
      "Epoch 384/400\n",
      "50/50 - 0s - loss: 0.2213 - dense_40_loss: 0.1027 - dense_41_loss: 0.1186 - 271ms/epoch - 5ms/step\n",
      "Epoch 385/400\n",
      "50/50 - 0s - loss: 0.2248 - dense_40_loss: 0.1067 - dense_41_loss: 0.1181 - 274ms/epoch - 5ms/step\n",
      "Epoch 386/400\n",
      "50/50 - 0s - loss: 0.2301 - dense_40_loss: 0.1074 - dense_41_loss: 0.1227 - 267ms/epoch - 5ms/step\n",
      "Epoch 387/400\n",
      "50/50 - 0s - loss: 0.2172 - dense_40_loss: 0.1012 - dense_41_loss: 0.1160 - 275ms/epoch - 6ms/step\n",
      "Epoch 388/400\n",
      "50/50 - 0s - loss: 0.2188 - dense_40_loss: 0.1043 - dense_41_loss: 0.1144 - 266ms/epoch - 5ms/step\n",
      "Epoch 389/400\n",
      "50/50 - 0s - loss: 0.2154 - dense_40_loss: 0.1038 - dense_41_loss: 0.1115 - 274ms/epoch - 5ms/step\n",
      "Epoch 390/400\n",
      "50/50 - 0s - loss: 0.2187 - dense_40_loss: 0.1045 - dense_41_loss: 0.1142 - 276ms/epoch - 6ms/step\n",
      "Epoch 391/400\n",
      "50/50 - 0s - loss: 0.2128 - dense_40_loss: 0.1010 - dense_41_loss: 0.1118 - 257ms/epoch - 5ms/step\n",
      "Epoch 392/400\n",
      "50/50 - 0s - loss: 0.2151 - dense_40_loss: 0.1009 - dense_41_loss: 0.1142 - 272ms/epoch - 5ms/step\n",
      "Epoch 393/400\n",
      "50/50 - 0s - loss: 0.2223 - dense_40_loss: 0.1047 - dense_41_loss: 0.1175 - 259ms/epoch - 5ms/step\n",
      "Epoch 394/400\n",
      "50/50 - 0s - loss: 0.2221 - dense_40_loss: 0.1027 - dense_41_loss: 0.1194 - 268ms/epoch - 5ms/step\n",
      "Epoch 395/400\n",
      "50/50 - 0s - loss: 0.2174 - dense_40_loss: 0.1023 - dense_41_loss: 0.1151 - 260ms/epoch - 5ms/step\n",
      "Epoch 396/400\n",
      "50/50 - 0s - loss: 0.2135 - dense_40_loss: 0.1018 - dense_41_loss: 0.1117 - 246ms/epoch - 5ms/step\n",
      "Epoch 397/400\n",
      "50/50 - 0s - loss: 0.2231 - dense_40_loss: 0.1019 - dense_41_loss: 0.1212 - 250ms/epoch - 5ms/step\n",
      "Epoch 398/400\n",
      "50/50 - 0s - loss: 0.2171 - dense_40_loss: 0.1015 - dense_41_loss: 0.1156 - 254ms/epoch - 5ms/step\n",
      "Epoch 399/400\n",
      "50/50 - 0s - loss: 0.2181 - dense_40_loss: 0.1031 - dense_41_loss: 0.1150 - 259ms/epoch - 5ms/step\n",
      "Epoch 400/400\n",
      "50/50 - 0s - loss: 0.2192 - dense_40_loss: 0.1011 - dense_41_loss: 0.1182 - 260ms/epoch - 5ms/step\n",
      "INFO:tensorflow:Assets written to: models/Edinburgh_NN_single_point_pred_velocity/assets\n"
     ]
    }
   ],
   "source": [
    "y_vel_x, y_vel_y = train[1], train[2] # separate the y data into x and y position columns\n",
    "model.fit(train[0], [y_vel_x, y_vel_y], epochs=400, batch_size=32, verbose=2)\n",
    "model.save('models/Edinburgh_NN_single_point_pred_velocity')"
   ]
  },
  {
   "cell_type": "code",
   "execution_count": 45,
   "id": "BqPlv1LBOx7C",
   "metadata": {
    "colab": {
     "base_uri": "https://localhost:8080/"
    },
    "id": "BqPlv1LBOx7C",
    "outputId": "81501cf3-4d2c-4958-a105-fb52f5b8c1f5"
   },
   "outputs": [
    {
     "name": "stderr",
     "output_type": "stream",
     "text": [
      "2022-01-14 12:15:17.523306: I tensorflow/core/grappler/optimizers/custom_graph_optimizer_registry.cc:112] Plugin optimizer for device_type GPU is enabled.\n"
     ]
    },
    {
     "name": "stdout",
     "output_type": "stream",
     "text": [
      "Train Score: 0.21\n",
      "Test Score: 0.66\n"
     ]
    }
   ],
   "source": [
    "trainScore = model.evaluate(train[0], [train[1], train[2]], verbose=0)\n",
    "print('Train Score: %.2f' % (trainScore[0]))\n",
    "\n",
    "testScore = model.evaluate(test[0], [test[1], test[2]], verbose=0)\n",
    "print('Test Score: %.2f' % (testScore[0]))"
   ]
  },
  {
   "cell_type": "markdown",
   "id": "e31f3b62",
   "metadata": {},
   "source": [
    "## Predicting on train data and plotting"
   ]
  },
  {
   "cell_type": "code",
   "execution_count": 27,
   "id": "wdLHm-yCNbJU",
   "metadata": {
    "colab": {
     "base_uri": "https://localhost:8080/",
     "height": 1000
    },
    "id": "wdLHm-yCNbJU",
    "outputId": "19757ef5-3529-4b8e-b5b8-1f7b43deff58"
   },
   "outputs": [
    {
     "name": "stderr",
     "output_type": "stream",
     "text": [
      "2022-01-14 11:38:42.060961: I tensorflow/core/grappler/optimizers/custom_graph_optimizer_registry.cc:112] Plugin optimizer for device_type GPU is enabled.\n"
     ]
    },
    {
     "data": {
      "image/png": "[encoded data removed]",
      "text/plain": [
       "<Figure size 432x288 with 1 Axes>"
      ]
     },
     "metadata": {
      "needs_background": "light"
     },
     "output_type": "display_data"
    },
    {
     "data": {
      "image/png": "[encoded data removed]",
      "text/plain": [
       "<Figure size 432x288 with 1 Axes>"
      ]
     },
     "metadata": {
      "needs_background": "light"
     },
     "output_type": "display_data"
    },
    {
     "data": {
      "image/png": "[encoded data removed]",
      "text/plain": [
       "<Figure size 432x288 with 1 Axes>"
      ]
     },
     "metadata": {
      "needs_background": "light"
     },
     "output_type": "display_data"
    },
    {
     "data": {
      "image/png": "[encoded data removed]",
      "text/plain": [
       "<Figure size 432x288 with 1 Axes>"
      ]
     },
     "metadata": {
      "needs_background": "light"
     },
     "output_type": "display_data"
    },
    {
     "data": {
      "image/png": "[encoded data removed]",
      "text/plain": [
       "<Figure size 432x288 with 1 Axes>"
      ]
     },
     "metadata": {
      "needs_background": "light"
     },
     "output_type": "display_data"
    },
    {
     "data": {
      "image/png": "[encoded data removed]",
      "text/plain": [
       "<Figure size 432x288 with 1 Axes>"
      ]
     },
     "metadata": {
      "needs_background": "light"
     },
     "output_type": "display_data"
    },
    {
     "data": {
      "image/png": "[encoded data removed]",
      "text/plain": [
       "<Figure size 432x288 with 1 Axes>"
      ]
     },
     "metadata": {
      "needs_background": "light"
     },
     "output_type": "display_data"
    },
    {
     "data": {
      "image/png": "[encoded data removed]",
      "text/plain": [
       "<Figure size 432x288 with 1 Axes>"
      ]
     },
     "metadata": {
      "needs_background": "light"
     },
     "output_type": "display_data"
    },
    {
     "data": {
      "image/png": "[encoded data removed]",
      "text/plain": [
       "<Figure size 432x288 with 1 Axes>"
      ]
     },
     "metadata": {
      "needs_background": "light"
     },
     "output_type": "display_data"
    },
    {
     "data": {
      "image/png": "[encoded data removed]",
      "text/plain": [
       "<Figure size 432x288 with 1 Axes>"
      ]
     },
     "metadata": {
      "needs_background": "light"
     },
     "output_type": "display_data"
    },
    {
     "data": {
      "image/png": "[encoded data removed]",
      "text/plain": [
       "<Figure size 432x288 with 1 Axes>"
      ]
     },
     "metadata": {
      "needs_background": "light"
     },
     "output_type": "display_data"
    },
    {
     "data": {
      "image/png": "[encoded data removed]",
      "text/plain": [
       "<Figure size 432x288 with 1 Axes>"
      ]
     },
     "metadata": {
      "needs_background": "light"
     },
     "output_type": "display_data"
    },
    {
     "data": {
      "image/png": "[encoded data removed]",
      "text/plain": [
       "<Figure size 432x288 with 1 Axes>"
      ]
     },
     "metadata": {
      "needs_background": "light"
     },
     "output_type": "display_data"
    },
    {
     "data": {
      "image/png": "[encoded data removed]",
      "text/plain": [
       "<Figure size 432x288 with 1 Axes>"
      ]
     },
     "metadata": {
      "needs_background": "light"
     },
     "output_type": "display_data"
    },
    {
     "data": {
      "image/png": "[encoded data removed]",
      "text/plain": [
       "<Figure size 432x288 with 1 Axes>"
      ]
     },
     "metadata": {
      "needs_background": "light"
     },
     "output_type": "display_data"
    },
    {
     "data": {
      "image/png": "[encoded data removed]",
      "text/plain": [
       "<Figure size 432x288 with 1 Axes>"
      ]
     },
     "metadata": {
      "needs_background": "light"
     },
     "output_type": "display_data"
    },
    {
     "data": {
      "image/png": "[encoded data removed]",
      "text/plain": [
       "<Figure size 432x288 with 1 Axes>"
      ]
     },
     "metadata": {
      "needs_background": "light"
     },
     "output_type": "display_data"
    },
    {
     "data": {
      "image/png": "[encoded data removed]",
      "text/plain": [
       "<Figure size 432x288 with 1 Axes>"
      ]
     },
     "metadata": {
      "needs_background": "light"
     },
     "output_type": "display_data"
    },
    {
     "data": {
      "image/png": "[encoded data removed]",
      "text/plain": [
       "<Figure size 432x288 with 1 Axes>"
      ]
     },
     "metadata": {
      "needs_background": "light"
     },
     "output_type": "display_data"
    },
    {
     "data": {
      "image/png": "[encoded data removed]",
      "text/plain": [
       "<Figure size 432x288 with 1 Axes>"
      ]
     },
     "metadata": {
      "needs_background": "light"
     },
     "output_type": "display_data"
    },
    {
     "name": "stdout",
     "output_type": "stream",
     "text": [
      "Average FDE:  2.624908479734029\n"
     ]
    }
   ],
   "source": [
    "# Creating a 'rolling' prediction, predicting 1 point based on 5 seen points, then another point based\n",
    "# on 4 seen points and 1 predicted point and so on\n",
    "all_FDE = []\n",
    "plotting = True\n",
    "no_of_plotted_trajectories = 20\n",
    "\n",
    "for idx, agent_id in enumerate(test_agent_ids):\n",
    "\n",
    "    seen_x = np.array(data[data['agent_id'] == agent_id].iloc[:5]['pos_x'])\n",
    "    seen_y = np.array(data[data['agent_id'] == agent_id].iloc[:5]['pos_y'])\n",
    "    \n",
    "    seen_vel_x = np.array(data[data['agent_id'] == agent_id].iloc[1:5]['vel_x'])\n",
    "    seen_vel_y = np.array(data[data['agent_id'] == agent_id].iloc[1:5]['vel_y'])\n",
    "    \n",
    "    unseen_x = np.array(data[data['agent_id'] == agent_id].iloc[5:10]['pos_x'])\n",
    "    unseen_y = np.array(data[data['agent_id'] == agent_id].iloc[5:10]['pos_y'])\n",
    "\n",
    "    rolling_vel_x = np.array(seen_vel_x)\n",
    "    rolling_vel_y = np.array(seen_vel_y)\n",
    "    for i in range(5):\n",
    "        seen_velocities = np.column_stack((rolling_vel_x, rolling_vel_y))\n",
    "        pred_vel_x, pred_vel_y = model.predict(np.array([seen_velocities]))\n",
    "\n",
    "        # To get the fifth velocity we need for prediction\n",
    "        if i == 4:\n",
    "            rolling_vel_x = np.append(rolling_vel_x, [pred_vel_x[0]])\n",
    "            rolling_vel_y = np.append(rolling_vel_y, [pred_vel_y[0]])\n",
    "        else:\n",
    "            rolling_vel_x = np.append(rolling_vel_x[1:], [pred_vel_x[0]])\n",
    "            rolling_vel_y = np.append(rolling_vel_y[1:], [pred_vel_y[0]])\n",
    "\n",
    "    # Create coordinates from the velocity predictions\n",
    "    pred_coord_x = [seen_x[-1] + rolling_vel_x[0]]\n",
    "    pred_coord_y = [seen_y[-1] + rolling_vel_y[0]]\n",
    "    for i in range(1, 5):\n",
    "        pred_coord_x.append(pred_coord_x[i-1] + rolling_vel_x[i])\n",
    "        pred_coord_y.append(pred_coord_y[i-1] + rolling_vel_y[i])\n",
    "        \n",
    "    # Calculate final displacement error\n",
    "    FDE = np.sqrt((pred_coord_x[-1] - unseen_x[-1])**2 + (pred_coord_y[-1] - unseen_y[-1])**2)\n",
    "    all_FDE.append(FDE)\n",
    "    \n",
    "    # plot data\n",
    "    if plotting and idx < no_of_plotted_trajectories:\n",
    "        plt.axes().set_aspect('equal')\n",
    "\n",
    "        plt.plot(np.append(seen_x, unseen_x), np.append(seen_y, unseen_y), color='g')\n",
    "        plt.scatter(np.append(seen_x, unseen_x), np.append(seen_y, unseen_y), color='g')\n",
    "\n",
    "        plt.plot(pred_coord_x, pred_coord_y, color='r')\n",
    "        plt.scatter(pred_coord_x, pred_coord_y, color='r')\n",
    "\n",
    "        plt.scatter(seen_x[0], seen_y[0], color='b')\n",
    "\n",
    "        plt.show()\n",
    "\n",
    "print(\"Average FDE: \", np.mean(all_FDE))"
   ]
  },
  {
   "cell_type": "code",
   "execution_count": null,
   "id": "de55df37",
   "metadata": {},
   "outputs": [],
   "source": []
  }
 ],
 "metadata": {
  "accelerator": "TPU",
  "colab": {
   "collapsed_sections": [],
   "include_colab_link": true,
   "name": "Edinburgh-NN-over-all-data.ipynb",
   "provenance": []
  },
  "kernelspec": {
   "display_name": "Python 3 (ipykernel)",
   "language": "python",
   "name": "python3"
  },
  "language_info": {
   "codemirror_mode": {
    "name": "ipython",
    "version": 3
   },
   "file_extension": ".py",
   "mimetype": "text/x-python",
   "name": "python",
   "nbconvert_exporter": "python",
   "pygments_lexer": "ipython3",
   "version": "3.9.0"
  }
 },
 "nbformat": 4,
 "nbformat_minor": 5
}
