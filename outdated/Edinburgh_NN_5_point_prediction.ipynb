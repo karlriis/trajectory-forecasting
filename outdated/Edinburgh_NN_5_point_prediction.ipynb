{
 "cells": [
  {
   "cell_type": "markdown",
   "id": "06891f97",
   "metadata": {},
   "source": [
    "## Neural network predicting 5 points at once"
   ]
  },
  {
   "cell_type": "code",
   "execution_count": 1,
   "id": "be36544f",
   "metadata": {
    "colab": {
     "base_uri": "https://localhost:8080/"
    },
    "id": "be36544f",
    "outputId": "b29ed334-6d6a-4c47-9174-2006437a4121"
   },
   "outputs": [],
   "source": [
    "# Necessary in colab:\n",
    "#! git clone https://github.com/crowdbotp/OpenTraj.git\n",
    "#! pip install pykalman"
   ]
  },
  {
   "cell_type": "code",
   "execution_count": 2,
   "id": "43186641",
   "metadata": {
    "id": "43186641"
   },
   "outputs": [],
   "source": [
    "import os\n",
    "import sys\n",
    "sys.path.insert(0, os.path.abspath(os.getcwd()) + '/OpenTraj/opentraj/') # Anaconda python can't find the toolkit path without this for some reason\n",
    "\n",
    "from toolkit.loaders.loader_edinburgh import load_edinburgh\n",
    "from matplotlib import pyplot as plt\n",
    "import numpy as np\n",
    "np.random.seed(42)\n",
    "\n",
    "import warnings\n",
    "warnings.filterwarnings('ignore')\n",
    "# tensorflow logging level\n",
    "#os.environ['TF_CPP_MIN_LOG_LEVEL'] = '3'"
   ]
  },
  {
   "cell_type": "markdown",
   "id": "1f124715",
   "metadata": {},
   "source": [
    "## Data preparation"
   ]
  },
  {
   "cell_type": "code",
   "execution_count": 3,
   "id": "63295479",
   "metadata": {
    "colab": {
     "base_uri": "https://localhost:8080/"
    },
    "id": "63295479",
    "outputId": "ad31dcd2-7582-4a14-9232-e9ce081f0d68"
   },
   "outputs": [
    {
     "name": "stdout",
     "output_type": "stream",
     "text": [
      "reading:./OpenTraj/datasets/Edinburgh/annotations/tracks.01Sep.txt\n"
     ]
    },
    {
     "name": "stderr",
     "output_type": "stream",
     "text": [
      "100%|█████████████████████████████████████████████████████| 2342/2342 [01:02<00:00, 37.54it/s]\n"
     ]
    },
    {
     "name": "stdout",
     "output_type": "stream",
     "text": [
      "Warning! too big dt in [Edinburgh]\n",
      "finish\n"
     ]
    }
   ],
   "source": [
    "opentraj_root = './OpenTraj/'\n",
    "selected_day = '01Sep' # 3 days of data in total, ['01Jul', '01Aug', '01Sep']\n",
    "edinburgh_path = os.path.join(opentraj_root, 'datasets/Edinburgh/annotations', 'tracks.%s.txt' % selected_day)\n",
    "traj_dataset = load_edinburgh(edinburgh_path, title=\"Edinburgh\", \n",
    "                              use_kalman=False, scene_id=selected_day, sampling_rate=4)"
   ]
  },
  {
   "cell_type": "code",
   "execution_count": 4,
   "id": "d2107c6b",
   "metadata": {
    "id": "d2107c6b"
   },
   "outputs": [],
   "source": [
    "data = traj_dataset.data\n",
    "NUM_OF_STEPS = 5\n",
    "\n",
    "# Removing any agents which don't have enough steps for model fitting and predicting\n",
    "agent_ids = data.agent_id.unique()\n",
    "for agent_id in agent_ids:\n",
    "    if len(data[data.agent_id == agent_id]) < 2*NUM_OF_STEPS:\n",
    "        data = data[data.agent_id != agent_id]\n",
    "agent_ids = data.agent_id.unique()"
   ]
  },
  {
   "cell_type": "code",
   "execution_count": 5,
   "id": "9fb4ab4b",
   "metadata": {
    "id": "9fb4ab4b"
   },
   "outputs": [],
   "source": [
    "# 'Normalize' the data so that all trajectories will begin at x=0, y=0\n",
    "for agent_id in agent_ids:\n",
    "    first_x = data[data.agent_id == agent_id]['pos_x'].iloc[0]\n",
    "    first_y = data[data.agent_id == agent_id]['pos_y'].iloc[0]\n",
    "    \n",
    "    data.loc[data.agent_id == agent_id, 'pos_x'] = data[data.agent_id == agent_id]['pos_x'] - first_x\n",
    "    data.loc[data.agent_id == agent_id, 'pos_y'] = data[data.agent_id == agent_id]['pos_y'] - first_y"
   ]
  },
  {
   "cell_type": "code",
   "execution_count": 6,
   "id": "a7407d78",
   "metadata": {
    "id": "a7407d78"
   },
   "outputs": [],
   "source": [
    "# Select the useful columns from the dataset\n",
    "data = data[['index', 'agent_id', 'pos_x', 'pos_y']]"
   ]
  },
  {
   "cell_type": "code",
   "execution_count": 7,
   "id": "f7c7210a",
   "metadata": {
    "id": "f7c7210a"
   },
   "outputs": [],
   "source": [
    "from sklearn.model_selection import train_test_split\n",
    "train_agent_ids, test_agent_ids = train_test_split(agent_ids, test_size=0.2)"
   ]
  },
  {
   "cell_type": "markdown",
   "id": "7a69be78",
   "metadata": {
    "id": "7a69be78"
   },
   "source": [
    "### Helper functions"
   ]
  },
  {
   "cell_type": "code",
   "execution_count": 8,
   "id": "987ee314",
   "metadata": {
    "id": "987ee314"
   },
   "outputs": [],
   "source": [
    "def create_dataset(data, agent_ids):\n",
    "    data_X, data_Y_pos_x, data_Y_pos_y = [], [], []\n",
    "    for agent_id in agent_ids:\n",
    "        x = data[data['agent_id'] == agent_id].iloc[:5][['pos_x', 'pos_y']]\n",
    "        y_pos_x = data[data['agent_id'] == agent_id].iloc[5:10]['pos_x']\n",
    "        y_pos_y = data[data['agent_id'] == agent_id].iloc[5:10]['pos_y']\n",
    "        data_X.append(x)\n",
    "        data_Y_pos_x.append(y_pos_x)\n",
    "        data_Y_pos_y.append(y_pos_y)\n",
    "    return np.array(data_X), np.array(data_Y_pos_x), np.array(data_Y_pos_y)\n",
    "    \n",
    "def calculate_error(pred_x, pred_y, test_x, test_y):\n",
    "    \n",
    "    # FDE\n",
    "    final_displacement_x = pred_x[-1] - test_x[-1]\n",
    "    final_displacement_y = pred_y[-1] - test_y[-1]\n",
    "    FDE = np.sqrt(final_displacement_x**2 + final_displacement_y**2)\n",
    "    \n",
    "    # MSE\n",
    "    abs_error_x = pred_x - test_x\n",
    "    abs_error_y = pred_y - test_y\n",
    "    \n",
    "    MSE = np.mean(np.square(abs_error_x)) + np.mean(np.square(abs_error_y))\n",
    "    \n",
    "    return FDE, MSE"
   ]
  },
  {
   "cell_type": "markdown",
   "id": "12c085ad",
   "metadata": {},
   "source": [
    "## Experiment"
   ]
  },
  {
   "cell_type": "code",
   "execution_count": 9,
   "id": "7f3fa56d",
   "metadata": {
    "id": "7f3fa56d"
   },
   "outputs": [],
   "source": [
    "train = create_dataset(data, train_agent_ids)\n",
    "test = create_dataset(data, test_agent_ids)"
   ]
  },
  {
   "cell_type": "code",
   "execution_count": 71,
   "id": "fc388252",
   "metadata": {
    "id": "fc388252"
   },
   "outputs": [],
   "source": [
    "from keras.models import Model\n",
    "from keras.layers import *\n",
    "from keras import backend as K\n",
    "\n",
    "# Note: RMSE seems to yield a worse loss than mean_squared_error\n",
    "def RMSE(y_true, y_pred):\n",
    "    return K.sqrt(K.mean(K.square(y_pred - y_true))) \n",
    "    \n",
    "def RMSE_with_discount(y_true, y_pred):\n",
    "    difference = y_true - y_pred\n",
    "    difference = difference * [1, 0.95, 0.90, 0.85, 0.80]\n",
    "    return K.sqrt(K.mean(K.square(difference))) \n",
    "    \n",
    "\n",
    "inp = Input((5,2))\n",
    "\n",
    "x = Flatten()(inp)\n",
    "\n",
    "x = Dense(64, activation='relu')(x)\n",
    "x = Dense(32, activation='relu')(x)\n",
    "x = Dense(16, activation='relu')(x)\n",
    "x = Dense(16, activation='relu')(x)\n",
    "\n",
    "'''\n",
    "x = Dense(128, activation='relu')(x)\n",
    "x = Dense(64, activation='relu')(x)\n",
    "x = Dense(32, activation='relu')(x)\n",
    "x = Dense(16, activation='relu')(x)\n",
    "'''\n",
    "out1 = Dense(5, activation='linear')(x)    \n",
    "out2 = Dense(5, activation='linear')(x)\n",
    "\n",
    "model = Model(inputs=inp, outputs=[out1,out2])\n",
    "model.compile(optimizer=tf.keras.optimizers.Adam(learning_rate=0.001), loss = RMSE)"
   ]
  },
  {
   "cell_type": "code",
   "execution_count": 72,
   "id": "d2ad3d42",
   "metadata": {
    "colab": {
     "base_uri": "https://localhost:8080/"
    },
    "id": "d2ad3d42",
    "outputId": "83b641d4-9d00-4d8f-a643-c4a48ddaaa46"
   },
   "outputs": [
    {
     "name": "stdout",
     "output_type": "stream",
     "text": [
      "Epoch 1/400\n"
     ]
    },
    {
     "name": "stderr",
     "output_type": "stream",
     "text": [
      "2022-01-07 13:54:11.252213: I tensorflow/core/grappler/optimizers/custom_graph_optimizer_registry.cc:112] Plugin optimizer for device_type GPU is enabled.\n"
     ]
    },
    {
     "name": "stdout",
     "output_type": "stream",
     "text": [
      "50/50 - 1s - loss: 5.4385 - dense_108_loss: 2.3452 - dense_109_loss: 3.0933 - 846ms/epoch - 17ms/step\n",
      "Epoch 2/400\n",
      "50/50 - 0s - loss: 3.9359 - dense_108_loss: 1.6733 - dense_109_loss: 2.2626 - 271ms/epoch - 5ms/step\n",
      "Epoch 3/400\n",
      "50/50 - 0s - loss: 2.8638 - dense_108_loss: 1.1285 - dense_109_loss: 1.7352 - 267ms/epoch - 5ms/step\n",
      "Epoch 4/400\n",
      "50/50 - 0s - loss: 2.1304 - dense_108_loss: 0.9217 - dense_109_loss: 1.2087 - 255ms/epoch - 5ms/step\n",
      "Epoch 5/400\n",
      "50/50 - 0s - loss: 1.7516 - dense_108_loss: 0.7926 - dense_109_loss: 0.9590 - 253ms/epoch - 5ms/step\n",
      "Epoch 6/400\n",
      "50/50 - 0s - loss: 1.6031 - dense_108_loss: 0.7515 - dense_109_loss: 0.8516 - 263ms/epoch - 5ms/step\n",
      "Epoch 7/400\n",
      "50/50 - 0s - loss: 1.5317 - dense_108_loss: 0.7297 - dense_109_loss: 0.8020 - 259ms/epoch - 5ms/step\n",
      "Epoch 8/400\n",
      "50/50 - 0s - loss: 1.4895 - dense_108_loss: 0.7171 - dense_109_loss: 0.7725 - 272ms/epoch - 5ms/step\n",
      "Epoch 9/400\n",
      "50/50 - 0s - loss: 1.4573 - dense_108_loss: 0.7061 - dense_109_loss: 0.7512 - 276ms/epoch - 6ms/step\n",
      "Epoch 10/400\n",
      "50/50 - 0s - loss: 1.4404 - dense_108_loss: 0.7013 - dense_109_loss: 0.7391 - 261ms/epoch - 5ms/step\n",
      "Epoch 11/400\n",
      "50/50 - 0s - loss: 1.4267 - dense_108_loss: 0.6940 - dense_109_loss: 0.7327 - 254ms/epoch - 5ms/step\n",
      "Epoch 12/400\n",
      "50/50 - 0s - loss: 1.4167 - dense_108_loss: 0.6781 - dense_109_loss: 0.7386 - 268ms/epoch - 5ms/step\n",
      "Epoch 13/400\n",
      "50/50 - 0s - loss: 1.4015 - dense_108_loss: 0.6825 - dense_109_loss: 0.7190 - 265ms/epoch - 5ms/step\n",
      "Epoch 14/400\n",
      "50/50 - 0s - loss: 1.4036 - dense_108_loss: 0.6831 - dense_109_loss: 0.7205 - 259ms/epoch - 5ms/step\n",
      "Epoch 15/400\n",
      "50/50 - 0s - loss: 1.3730 - dense_108_loss: 0.6662 - dense_109_loss: 0.7068 - 251ms/epoch - 5ms/step\n",
      "Epoch 16/400\n",
      "50/50 - 0s - loss: 1.3771 - dense_108_loss: 0.6764 - dense_109_loss: 0.7007 - 255ms/epoch - 5ms/step\n",
      "Epoch 17/400\n",
      "50/50 - 0s - loss: 1.3807 - dense_108_loss: 0.6800 - dense_109_loss: 0.7008 - 271ms/epoch - 5ms/step\n",
      "Epoch 18/400\n",
      "50/50 - 0s - loss: 1.3563 - dense_108_loss: 0.6621 - dense_109_loss: 0.6942 - 270ms/epoch - 5ms/step\n",
      "Epoch 19/400\n",
      "50/50 - 0s - loss: 1.3510 - dense_108_loss: 0.6539 - dense_109_loss: 0.6971 - 260ms/epoch - 5ms/step\n",
      "Epoch 20/400\n",
      "50/50 - 0s - loss: 1.3408 - dense_108_loss: 0.6565 - dense_109_loss: 0.6843 - 256ms/epoch - 5ms/step\n",
      "Epoch 21/400\n",
      "50/50 - 0s - loss: 1.3278 - dense_108_loss: 0.6506 - dense_109_loss: 0.6772 - 252ms/epoch - 5ms/step\n",
      "Epoch 22/400\n",
      "50/50 - 0s - loss: 1.3187 - dense_108_loss: 0.6433 - dense_109_loss: 0.6754 - 255ms/epoch - 5ms/step\n",
      "Epoch 23/400\n",
      "50/50 - 0s - loss: 1.3206 - dense_108_loss: 0.6498 - dense_109_loss: 0.6707 - 258ms/epoch - 5ms/step\n",
      "Epoch 24/400\n",
      "50/50 - 0s - loss: 1.2994 - dense_108_loss: 0.6305 - dense_109_loss: 0.6689 - 260ms/epoch - 5ms/step\n",
      "Epoch 25/400\n",
      "50/50 - 0s - loss: 1.2981 - dense_108_loss: 0.6286 - dense_109_loss: 0.6695 - 252ms/epoch - 5ms/step\n",
      "Epoch 26/400\n",
      "50/50 - 0s - loss: 1.3117 - dense_108_loss: 0.6474 - dense_109_loss: 0.6643 - 268ms/epoch - 5ms/step\n",
      "Epoch 27/400\n",
      "50/50 - 0s - loss: 1.2799 - dense_108_loss: 0.6230 - dense_109_loss: 0.6569 - 254ms/epoch - 5ms/step\n",
      "Epoch 28/400\n",
      "50/50 - 0s - loss: 1.2810 - dense_108_loss: 0.6222 - dense_109_loss: 0.6588 - 249ms/epoch - 5ms/step\n",
      "Epoch 29/400\n",
      "50/50 - 0s - loss: 1.2864 - dense_108_loss: 0.6259 - dense_109_loss: 0.6605 - 262ms/epoch - 5ms/step\n",
      "Epoch 30/400\n",
      "50/50 - 0s - loss: 1.2800 - dense_108_loss: 0.6292 - dense_109_loss: 0.6508 - 253ms/epoch - 5ms/step\n",
      "Epoch 31/400\n",
      "50/50 - 0s - loss: 1.2944 - dense_108_loss: 0.6310 - dense_109_loss: 0.6634 - 255ms/epoch - 5ms/step\n",
      "Epoch 32/400\n",
      "50/50 - 0s - loss: 1.2743 - dense_108_loss: 0.6177 - dense_109_loss: 0.6566 - 259ms/epoch - 5ms/step\n",
      "Epoch 33/400\n",
      "50/50 - 0s - loss: 1.2518 - dense_108_loss: 0.6108 - dense_109_loss: 0.6411 - 256ms/epoch - 5ms/step\n",
      "Epoch 34/400\n",
      "50/50 - 0s - loss: 1.2606 - dense_108_loss: 0.6124 - dense_109_loss: 0.6482 - 256ms/epoch - 5ms/step\n",
      "Epoch 35/400\n",
      "50/50 - 0s - loss: 1.2536 - dense_108_loss: 0.6106 - dense_109_loss: 0.6430 - 256ms/epoch - 5ms/step\n",
      "Epoch 36/400\n",
      "50/50 - 0s - loss: 1.2424 - dense_108_loss: 0.6096 - dense_109_loss: 0.6329 - 256ms/epoch - 5ms/step\n",
      "Epoch 37/400\n",
      "50/50 - 0s - loss: 1.2479 - dense_108_loss: 0.6067 - dense_109_loss: 0.6413 - 257ms/epoch - 5ms/step\n",
      "Epoch 38/400\n",
      "50/50 - 0s - loss: 1.2424 - dense_108_loss: 0.6039 - dense_109_loss: 0.6385 - 250ms/epoch - 5ms/step\n",
      "Epoch 39/400\n",
      "50/50 - 0s - loss: 1.2436 - dense_108_loss: 0.6024 - dense_109_loss: 0.6412 - 255ms/epoch - 5ms/step\n",
      "Epoch 40/400\n",
      "50/50 - 0s - loss: 1.2473 - dense_108_loss: 0.6100 - dense_109_loss: 0.6373 - 254ms/epoch - 5ms/step\n",
      "Epoch 41/400\n",
      "50/50 - 0s - loss: 1.2258 - dense_108_loss: 0.5946 - dense_109_loss: 0.6312 - 253ms/epoch - 5ms/step\n",
      "Epoch 42/400\n",
      "50/50 - 0s - loss: 1.2384 - dense_108_loss: 0.6083 - dense_109_loss: 0.6301 - 257ms/epoch - 5ms/step\n",
      "Epoch 43/400\n",
      "50/50 - 0s - loss: 1.2199 - dense_108_loss: 0.5954 - dense_109_loss: 0.6245 - 252ms/epoch - 5ms/step\n",
      "Epoch 44/400\n",
      "50/50 - 0s - loss: 1.2357 - dense_108_loss: 0.6037 - dense_109_loss: 0.6320 - 253ms/epoch - 5ms/step\n",
      "Epoch 45/400\n",
      "50/50 - 0s - loss: 1.2419 - dense_108_loss: 0.6083 - dense_109_loss: 0.6336 - 259ms/epoch - 5ms/step\n",
      "Epoch 46/400\n",
      "50/50 - 0s - loss: 1.2431 - dense_108_loss: 0.6151 - dense_109_loss: 0.6280 - 253ms/epoch - 5ms/step\n",
      "Epoch 47/400\n",
      "50/50 - 0s - loss: 1.2227 - dense_108_loss: 0.5984 - dense_109_loss: 0.6244 - 253ms/epoch - 5ms/step\n",
      "Epoch 48/400\n",
      "50/50 - 0s - loss: 1.2213 - dense_108_loss: 0.5999 - dense_109_loss: 0.6214 - 254ms/epoch - 5ms/step\n",
      "Epoch 49/400\n",
      "50/50 - 0s - loss: 1.2184 - dense_108_loss: 0.5950 - dense_109_loss: 0.6235 - 250ms/epoch - 5ms/step\n",
      "Epoch 50/400\n",
      "50/50 - 0s - loss: 1.2053 - dense_108_loss: 0.5902 - dense_109_loss: 0.6150 - 257ms/epoch - 5ms/step\n",
      "Epoch 51/400\n",
      "50/50 - 0s - loss: 1.2090 - dense_108_loss: 0.5934 - dense_109_loss: 0.6156 - 256ms/epoch - 5ms/step\n",
      "Epoch 52/400\n",
      "50/50 - 0s - loss: 1.2010 - dense_108_loss: 0.5903 - dense_109_loss: 0.6107 - 257ms/epoch - 5ms/step\n",
      "Epoch 53/400\n",
      "50/50 - 0s - loss: 1.1986 - dense_108_loss: 0.5899 - dense_109_loss: 0.6087 - 251ms/epoch - 5ms/step\n",
      "Epoch 54/400\n",
      "50/50 - 0s - loss: 1.2175 - dense_108_loss: 0.5909 - dense_109_loss: 0.6266 - 256ms/epoch - 5ms/step\n",
      "Epoch 55/400\n",
      "50/50 - 0s - loss: 1.2023 - dense_108_loss: 0.5961 - dense_109_loss: 0.6062 - 256ms/epoch - 5ms/step\n",
      "Epoch 56/400\n",
      "50/50 - 0s - loss: 1.1985 - dense_108_loss: 0.5873 - dense_109_loss: 0.6112 - 275ms/epoch - 6ms/step\n",
      "Epoch 57/400\n",
      "50/50 - 0s - loss: 1.1848 - dense_108_loss: 0.5858 - dense_109_loss: 0.5989 - 280ms/epoch - 6ms/step\n",
      "Epoch 58/400\n",
      "50/50 - 0s - loss: 1.1979 - dense_108_loss: 0.5874 - dense_109_loss: 0.6105 - 253ms/epoch - 5ms/step\n",
      "Epoch 59/400\n",
      "50/50 - 0s - loss: 1.1845 - dense_108_loss: 0.5838 - dense_109_loss: 0.6007 - 252ms/epoch - 5ms/step\n",
      "Epoch 60/400\n",
      "50/50 - 0s - loss: 1.1849 - dense_108_loss: 0.5808 - dense_109_loss: 0.6041 - 257ms/epoch - 5ms/step\n",
      "Epoch 61/400\n",
      "50/50 - 0s - loss: 1.1881 - dense_108_loss: 0.5764 - dense_109_loss: 0.6117 - 250ms/epoch - 5ms/step\n",
      "Epoch 62/400\n",
      "50/50 - 0s - loss: 1.1900 - dense_108_loss: 0.5829 - dense_109_loss: 0.6071 - 250ms/epoch - 5ms/step\n",
      "Epoch 63/400\n",
      "50/50 - 0s - loss: 1.1882 - dense_108_loss: 0.5787 - dense_109_loss: 0.6095 - 250ms/epoch - 5ms/step\n",
      "Epoch 64/400\n",
      "50/50 - 0s - loss: 1.1737 - dense_108_loss: 0.5791 - dense_109_loss: 0.5945 - 249ms/epoch - 5ms/step\n",
      "Epoch 65/400\n",
      "50/50 - 0s - loss: 1.1807 - dense_108_loss: 0.5801 - dense_109_loss: 0.6006 - 248ms/epoch - 5ms/step\n",
      "Epoch 66/400\n",
      "50/50 - 0s - loss: 1.1773 - dense_108_loss: 0.5764 - dense_109_loss: 0.6008 - 248ms/epoch - 5ms/step\n",
      "Epoch 67/400\n",
      "50/50 - 0s - loss: 1.1635 - dense_108_loss: 0.5644 - dense_109_loss: 0.5991 - 248ms/epoch - 5ms/step\n",
      "Epoch 68/400\n",
      "50/50 - 0s - loss: 1.1688 - dense_108_loss: 0.5665 - dense_109_loss: 0.6023 - 250ms/epoch - 5ms/step\n",
      "Epoch 69/400\n",
      "50/50 - 0s - loss: 1.1730 - dense_108_loss: 0.5790 - dense_109_loss: 0.5940 - 250ms/epoch - 5ms/step\n",
      "Epoch 70/400\n",
      "50/50 - 0s - loss: 1.1703 - dense_108_loss: 0.5726 - dense_109_loss: 0.5977 - 249ms/epoch - 5ms/step\n",
      "Epoch 71/400\n",
      "50/50 - 0s - loss: 1.1935 - dense_108_loss: 0.5787 - dense_109_loss: 0.6148 - 250ms/epoch - 5ms/step\n",
      "Epoch 72/400\n",
      "50/50 - 0s - loss: 1.1759 - dense_108_loss: 0.5789 - dense_109_loss: 0.5970 - 250ms/epoch - 5ms/step\n",
      "Epoch 73/400\n"
     ]
    },
    {
     "name": "stdout",
     "output_type": "stream",
     "text": [
      "50/50 - 0s - loss: 1.1726 - dense_108_loss: 0.5824 - dense_109_loss: 0.5902 - 248ms/epoch - 5ms/step\n",
      "Epoch 74/400\n",
      "50/50 - 0s - loss: 1.1757 - dense_108_loss: 0.5738 - dense_109_loss: 0.6019 - 248ms/epoch - 5ms/step\n",
      "Epoch 75/400\n",
      "50/50 - 0s - loss: 1.1571 - dense_108_loss: 0.5663 - dense_109_loss: 0.5908 - 248ms/epoch - 5ms/step\n",
      "Epoch 76/400\n",
      "50/50 - 0s - loss: 1.1572 - dense_108_loss: 0.5635 - dense_109_loss: 0.5937 - 244ms/epoch - 5ms/step\n",
      "Epoch 77/400\n",
      "50/50 - 0s - loss: 1.1483 - dense_108_loss: 0.5586 - dense_109_loss: 0.5897 - 245ms/epoch - 5ms/step\n",
      "Epoch 78/400\n",
      "50/50 - 0s - loss: 1.1650 - dense_108_loss: 0.5748 - dense_109_loss: 0.5902 - 245ms/epoch - 5ms/step\n",
      "Epoch 79/400\n",
      "50/50 - 0s - loss: 1.1663 - dense_108_loss: 0.5730 - dense_109_loss: 0.5933 - 245ms/epoch - 5ms/step\n",
      "Epoch 80/400\n",
      "50/50 - 0s - loss: 1.1593 - dense_108_loss: 0.5791 - dense_109_loss: 0.5801 - 244ms/epoch - 5ms/step\n",
      "Epoch 81/400\n",
      "50/50 - 0s - loss: 1.1522 - dense_108_loss: 0.5630 - dense_109_loss: 0.5892 - 246ms/epoch - 5ms/step\n",
      "Epoch 82/400\n",
      "50/50 - 0s - loss: 1.1515 - dense_108_loss: 0.5638 - dense_109_loss: 0.5877 - 249ms/epoch - 5ms/step\n",
      "Epoch 83/400\n",
      "50/50 - 0s - loss: 1.1479 - dense_108_loss: 0.5618 - dense_109_loss: 0.5860 - 250ms/epoch - 5ms/step\n",
      "Epoch 84/400\n",
      "50/50 - 0s - loss: 1.1526 - dense_108_loss: 0.5627 - dense_109_loss: 0.5899 - 251ms/epoch - 5ms/step\n",
      "Epoch 85/400\n",
      "50/50 - 0s - loss: 1.1551 - dense_108_loss: 0.5592 - dense_109_loss: 0.5959 - 251ms/epoch - 5ms/step\n",
      "Epoch 86/400\n",
      "50/50 - 0s - loss: 1.1420 - dense_108_loss: 0.5583 - dense_109_loss: 0.5837 - 251ms/epoch - 5ms/step\n",
      "Epoch 87/400\n",
      "50/50 - 0s - loss: 1.1525 - dense_108_loss: 0.5559 - dense_109_loss: 0.5965 - 255ms/epoch - 5ms/step\n",
      "Epoch 88/400\n",
      "50/50 - 0s - loss: 1.1379 - dense_108_loss: 0.5543 - dense_109_loss: 0.5836 - 254ms/epoch - 5ms/step\n",
      "Epoch 89/400\n",
      "50/50 - 0s - loss: 1.1483 - dense_108_loss: 0.5595 - dense_109_loss: 0.5888 - 258ms/epoch - 5ms/step\n",
      "Epoch 90/400\n",
      "50/50 - 0s - loss: 1.1468 - dense_108_loss: 0.5624 - dense_109_loss: 0.5844 - 256ms/epoch - 5ms/step\n",
      "Epoch 91/400\n",
      "50/50 - 0s - loss: 1.1448 - dense_108_loss: 0.5534 - dense_109_loss: 0.5915 - 250ms/epoch - 5ms/step\n",
      "Epoch 92/400\n",
      "50/50 - 0s - loss: 1.1412 - dense_108_loss: 0.5641 - dense_109_loss: 0.5771 - 245ms/epoch - 5ms/step\n",
      "Epoch 93/400\n",
      "50/50 - 0s - loss: 1.1483 - dense_108_loss: 0.5632 - dense_109_loss: 0.5850 - 244ms/epoch - 5ms/step\n",
      "Epoch 94/400\n",
      "50/50 - 0s - loss: 1.1295 - dense_108_loss: 0.5522 - dense_109_loss: 0.5773 - 248ms/epoch - 5ms/step\n",
      "Epoch 95/400\n",
      "50/50 - 0s - loss: 1.1314 - dense_108_loss: 0.5531 - dense_109_loss: 0.5783 - 251ms/epoch - 5ms/step\n",
      "Epoch 96/400\n",
      "50/50 - 0s - loss: 1.1312 - dense_108_loss: 0.5520 - dense_109_loss: 0.5792 - 248ms/epoch - 5ms/step\n",
      "Epoch 97/400\n",
      "50/50 - 0s - loss: 1.1358 - dense_108_loss: 0.5554 - dense_109_loss: 0.5804 - 249ms/epoch - 5ms/step\n",
      "Epoch 98/400\n",
      "50/50 - 0s - loss: 1.1269 - dense_108_loss: 0.5509 - dense_109_loss: 0.5760 - 254ms/epoch - 5ms/step\n",
      "Epoch 99/400\n",
      "50/50 - 0s - loss: 1.1358 - dense_108_loss: 0.5534 - dense_109_loss: 0.5824 - 245ms/epoch - 5ms/step\n",
      "Epoch 100/400\n",
      "50/50 - 0s - loss: 1.1357 - dense_108_loss: 0.5547 - dense_109_loss: 0.5810 - 252ms/epoch - 5ms/step\n",
      "Epoch 101/400\n",
      "50/50 - 0s - loss: 1.1245 - dense_108_loss: 0.5525 - dense_109_loss: 0.5720 - 259ms/epoch - 5ms/step\n",
      "Epoch 102/400\n",
      "50/50 - 0s - loss: 1.1194 - dense_108_loss: 0.5455 - dense_109_loss: 0.5740 - 258ms/epoch - 5ms/step\n",
      "Epoch 103/400\n",
      "50/50 - 0s - loss: 1.1320 - dense_108_loss: 0.5562 - dense_109_loss: 0.5758 - 258ms/epoch - 5ms/step\n",
      "Epoch 104/400\n",
      "50/50 - 0s - loss: 1.1235 - dense_108_loss: 0.5478 - dense_109_loss: 0.5757 - 250ms/epoch - 5ms/step\n",
      "Epoch 105/400\n",
      "50/50 - 0s - loss: 1.1201 - dense_108_loss: 0.5455 - dense_109_loss: 0.5746 - 254ms/epoch - 5ms/step\n",
      "Epoch 106/400\n",
      "50/50 - 0s - loss: 1.1167 - dense_108_loss: 0.5466 - dense_109_loss: 0.5700 - 245ms/epoch - 5ms/step\n",
      "Epoch 107/400\n",
      "50/50 - 0s - loss: 1.1259 - dense_108_loss: 0.5473 - dense_109_loss: 0.5786 - 249ms/epoch - 5ms/step\n",
      "Epoch 108/400\n",
      "50/50 - 0s - loss: 1.1127 - dense_108_loss: 0.5450 - dense_109_loss: 0.5677 - 252ms/epoch - 5ms/step\n",
      "Epoch 109/400\n",
      "50/50 - 0s - loss: 1.1051 - dense_108_loss: 0.5406 - dense_109_loss: 0.5645 - 274ms/epoch - 5ms/step\n",
      "Epoch 110/400\n",
      "50/50 - 0s - loss: 1.1141 - dense_108_loss: 0.5501 - dense_109_loss: 0.5640 - 279ms/epoch - 6ms/step\n",
      "Epoch 111/400\n",
      "50/50 - 0s - loss: 1.1107 - dense_108_loss: 0.5445 - dense_109_loss: 0.5662 - 271ms/epoch - 5ms/step\n",
      "Epoch 112/400\n",
      "50/50 - 0s - loss: 1.1224 - dense_108_loss: 0.5536 - dense_109_loss: 0.5688 - 254ms/epoch - 5ms/step\n",
      "Epoch 113/400\n",
      "50/50 - 0s - loss: 1.1095 - dense_108_loss: 0.5463 - dense_109_loss: 0.5632 - 253ms/epoch - 5ms/step\n",
      "Epoch 114/400\n",
      "50/50 - 0s - loss: 1.1038 - dense_108_loss: 0.5357 - dense_109_loss: 0.5681 - 268ms/epoch - 5ms/step\n",
      "Epoch 115/400\n",
      "50/50 - 0s - loss: 1.1115 - dense_108_loss: 0.5425 - dense_109_loss: 0.5691 - 247ms/epoch - 5ms/step\n",
      "Epoch 116/400\n",
      "50/50 - 0s - loss: 1.1057 - dense_108_loss: 0.5347 - dense_109_loss: 0.5710 - 271ms/epoch - 5ms/step\n",
      "Epoch 117/400\n",
      "50/50 - 0s - loss: 1.1000 - dense_108_loss: 0.5354 - dense_109_loss: 0.5646 - 249ms/epoch - 5ms/step\n",
      "Epoch 118/400\n",
      "50/50 - 0s - loss: 1.1059 - dense_108_loss: 0.5347 - dense_109_loss: 0.5712 - 248ms/epoch - 5ms/step\n",
      "Epoch 119/400\n",
      "50/50 - 0s - loss: 1.1038 - dense_108_loss: 0.5378 - dense_109_loss: 0.5660 - 259ms/epoch - 5ms/step\n",
      "Epoch 120/400\n",
      "50/50 - 0s - loss: 1.1046 - dense_108_loss: 0.5427 - dense_109_loss: 0.5618 - 258ms/epoch - 5ms/step\n",
      "Epoch 121/400\n",
      "50/50 - 0s - loss: 1.0923 - dense_108_loss: 0.5270 - dense_109_loss: 0.5653 - 254ms/epoch - 5ms/step\n",
      "Epoch 122/400\n",
      "50/50 - 0s - loss: 1.1058 - dense_108_loss: 0.5365 - dense_109_loss: 0.5692 - 260ms/epoch - 5ms/step\n",
      "Epoch 123/400\n",
      "50/50 - 0s - loss: 1.1095 - dense_108_loss: 0.5403 - dense_109_loss: 0.5692 - 258ms/epoch - 5ms/step\n",
      "Epoch 124/400\n",
      "50/50 - 0s - loss: 1.1055 - dense_108_loss: 0.5422 - dense_109_loss: 0.5633 - 248ms/epoch - 5ms/step\n",
      "Epoch 125/400\n",
      "50/50 - 0s - loss: 1.0918 - dense_108_loss: 0.5356 - dense_109_loss: 0.5563 - 277ms/epoch - 6ms/step\n",
      "Epoch 126/400\n",
      "50/50 - 0s - loss: 1.0870 - dense_108_loss: 0.5278 - dense_109_loss: 0.5592 - 274ms/epoch - 5ms/step\n",
      "Epoch 127/400\n",
      "50/50 - 0s - loss: 1.0849 - dense_108_loss: 0.5293 - dense_109_loss: 0.5556 - 264ms/epoch - 5ms/step\n",
      "Epoch 128/400\n",
      "50/50 - 0s - loss: 1.0972 - dense_108_loss: 0.5442 - dense_109_loss: 0.5530 - 252ms/epoch - 5ms/step\n",
      "Epoch 129/400\n",
      "50/50 - 0s - loss: 1.0890 - dense_108_loss: 0.5297 - dense_109_loss: 0.5593 - 283ms/epoch - 6ms/step\n",
      "Epoch 130/400\n",
      "50/50 - 0s - loss: 1.0972 - dense_108_loss: 0.5346 - dense_109_loss: 0.5626 - 290ms/epoch - 6ms/step\n",
      "Epoch 131/400\n",
      "50/50 - 0s - loss: 1.0848 - dense_108_loss: 0.5295 - dense_109_loss: 0.5554 - 293ms/epoch - 6ms/step\n",
      "Epoch 132/400\n",
      "50/50 - 0s - loss: 1.0889 - dense_108_loss: 0.5318 - dense_109_loss: 0.5571 - 266ms/epoch - 5ms/step\n",
      "Epoch 133/400\n",
      "50/50 - 0s - loss: 1.0885 - dense_108_loss: 0.5297 - dense_109_loss: 0.5588 - 265ms/epoch - 5ms/step\n",
      "Epoch 134/400\n",
      "50/50 - 0s - loss: 1.0910 - dense_108_loss: 0.5300 - dense_109_loss: 0.5610 - 263ms/epoch - 5ms/step\n",
      "Epoch 135/400\n",
      "50/50 - 0s - loss: 1.0886 - dense_108_loss: 0.5314 - dense_109_loss: 0.5573 - 267ms/epoch - 5ms/step\n",
      "Epoch 136/400\n",
      "50/50 - 0s - loss: 1.0744 - dense_108_loss: 0.5290 - dense_109_loss: 0.5454 - 276ms/epoch - 6ms/step\n",
      "Epoch 137/400\n",
      "50/50 - 0s - loss: 1.0725 - dense_108_loss: 0.5238 - dense_109_loss: 0.5488 - 259ms/epoch - 5ms/step\n",
      "Epoch 138/400\n",
      "50/50 - 0s - loss: 1.0866 - dense_108_loss: 0.5268 - dense_109_loss: 0.5598 - 254ms/epoch - 5ms/step\n",
      "Epoch 139/400\n",
      "50/50 - 0s - loss: 1.0771 - dense_108_loss: 0.5204 - dense_109_loss: 0.5568 - 295ms/epoch - 6ms/step\n",
      "Epoch 140/400\n",
      "50/50 - 0s - loss: 1.0858 - dense_108_loss: 0.5338 - dense_109_loss: 0.5520 - 340ms/epoch - 7ms/step\n",
      "Epoch 141/400\n",
      "50/50 - 0s - loss: 1.0927 - dense_108_loss: 0.5342 - dense_109_loss: 0.5586 - 316ms/epoch - 6ms/step\n",
      "Epoch 142/400\n",
      "50/50 - 0s - loss: 1.0813 - dense_108_loss: 0.5324 - dense_109_loss: 0.5489 - 317ms/epoch - 6ms/step\n",
      "Epoch 143/400\n",
      "50/50 - 0s - loss: 1.0937 - dense_108_loss: 0.5303 - dense_109_loss: 0.5634 - 327ms/epoch - 7ms/step\n",
      "Epoch 144/400\n",
      "50/50 - 0s - loss: 1.0816 - dense_108_loss: 0.5292 - dense_109_loss: 0.5524 - 324ms/epoch - 6ms/step\n"
     ]
    },
    {
     "name": "stdout",
     "output_type": "stream",
     "text": [
      "Epoch 145/400\n",
      "50/50 - 0s - loss: 1.0788 - dense_108_loss: 0.5285 - dense_109_loss: 0.5503 - 326ms/epoch - 7ms/step\n",
      "Epoch 146/400\n",
      "50/50 - 0s - loss: 1.0748 - dense_108_loss: 0.5224 - dense_109_loss: 0.5524 - 450ms/epoch - 9ms/step\n",
      "Epoch 147/400\n",
      "50/50 - 0s - loss: 1.0661 - dense_108_loss: 0.5184 - dense_109_loss: 0.5477 - 331ms/epoch - 7ms/step\n",
      "Epoch 148/400\n",
      "50/50 - 0s - loss: 1.0797 - dense_108_loss: 0.5295 - dense_109_loss: 0.5501 - 329ms/epoch - 7ms/step\n",
      "Epoch 149/400\n",
      "50/50 - 0s - loss: 1.0789 - dense_108_loss: 0.5288 - dense_109_loss: 0.5501 - 338ms/epoch - 7ms/step\n",
      "Epoch 150/400\n",
      "50/50 - 0s - loss: 1.0691 - dense_108_loss: 0.5249 - dense_109_loss: 0.5442 - 323ms/epoch - 6ms/step\n",
      "Epoch 151/400\n",
      "50/50 - 0s - loss: 1.0704 - dense_108_loss: 0.5214 - dense_109_loss: 0.5489 - 328ms/epoch - 7ms/step\n",
      "Epoch 152/400\n",
      "50/50 - 0s - loss: 1.0581 - dense_108_loss: 0.5152 - dense_109_loss: 0.5429 - 322ms/epoch - 6ms/step\n",
      "Epoch 153/400\n",
      "50/50 - 0s - loss: 1.0872 - dense_108_loss: 0.5409 - dense_109_loss: 0.5464 - 338ms/epoch - 7ms/step\n",
      "Epoch 154/400\n",
      "50/50 - 0s - loss: 1.0577 - dense_108_loss: 0.5206 - dense_109_loss: 0.5371 - 337ms/epoch - 7ms/step\n",
      "Epoch 155/400\n",
      "50/50 - 0s - loss: 1.0569 - dense_108_loss: 0.5173 - dense_109_loss: 0.5396 - 332ms/epoch - 7ms/step\n",
      "Epoch 156/400\n",
      "50/50 - 0s - loss: 1.0697 - dense_108_loss: 0.5234 - dense_109_loss: 0.5464 - 323ms/epoch - 6ms/step\n",
      "Epoch 157/400\n",
      "50/50 - 0s - loss: 1.0607 - dense_108_loss: 0.5174 - dense_109_loss: 0.5433 - 270ms/epoch - 5ms/step\n",
      "Epoch 158/400\n",
      "50/50 - 0s - loss: 1.0756 - dense_108_loss: 0.5275 - dense_109_loss: 0.5481 - 254ms/epoch - 5ms/step\n",
      "Epoch 159/400\n",
      "50/50 - 0s - loss: 1.0675 - dense_108_loss: 0.5242 - dense_109_loss: 0.5434 - 255ms/epoch - 5ms/step\n",
      "Epoch 160/400\n",
      "50/50 - 0s - loss: 1.0733 - dense_108_loss: 0.5299 - dense_109_loss: 0.5434 - 258ms/epoch - 5ms/step\n",
      "Epoch 161/400\n",
      "50/50 - 0s - loss: 1.0493 - dense_108_loss: 0.5119 - dense_109_loss: 0.5374 - 249ms/epoch - 5ms/step\n",
      "Epoch 162/400\n",
      "50/50 - 0s - loss: 1.0562 - dense_108_loss: 0.5121 - dense_109_loss: 0.5441 - 257ms/epoch - 5ms/step\n",
      "Epoch 163/400\n",
      "50/50 - 0s - loss: 1.0561 - dense_108_loss: 0.5165 - dense_109_loss: 0.5397 - 250ms/epoch - 5ms/step\n",
      "Epoch 164/400\n",
      "50/50 - 0s - loss: 1.0552 - dense_108_loss: 0.5151 - dense_109_loss: 0.5401 - 255ms/epoch - 5ms/step\n",
      "Epoch 165/400\n",
      "50/50 - 0s - loss: 1.0606 - dense_108_loss: 0.5174 - dense_109_loss: 0.5432 - 259ms/epoch - 5ms/step\n",
      "Epoch 166/400\n",
      "50/50 - 0s - loss: 1.0464 - dense_108_loss: 0.5111 - dense_109_loss: 0.5353 - 250ms/epoch - 5ms/step\n",
      "Epoch 167/400\n",
      "50/50 - 0s - loss: 1.0439 - dense_108_loss: 0.5086 - dense_109_loss: 0.5354 - 255ms/epoch - 5ms/step\n",
      "Epoch 168/400\n",
      "50/50 - 0s - loss: 1.0559 - dense_108_loss: 0.5189 - dense_109_loss: 0.5369 - 252ms/epoch - 5ms/step\n",
      "Epoch 169/400\n",
      "50/50 - 0s - loss: 1.0412 - dense_108_loss: 0.5087 - dense_109_loss: 0.5325 - 251ms/epoch - 5ms/step\n",
      "Epoch 170/400\n",
      "50/50 - 0s - loss: 1.0426 - dense_108_loss: 0.5148 - dense_109_loss: 0.5278 - 269ms/epoch - 5ms/step\n",
      "Epoch 171/400\n",
      "50/50 - 0s - loss: 1.0500 - dense_108_loss: 0.5082 - dense_109_loss: 0.5418 - 257ms/epoch - 5ms/step\n",
      "Epoch 172/400\n",
      "50/50 - 0s - loss: 1.0388 - dense_108_loss: 0.5060 - dense_109_loss: 0.5328 - 261ms/epoch - 5ms/step\n",
      "Epoch 173/400\n",
      "50/50 - 0s - loss: 1.0414 - dense_108_loss: 0.5085 - dense_109_loss: 0.5329 - 248ms/epoch - 5ms/step\n",
      "Epoch 174/400\n",
      "50/50 - 0s - loss: 1.0413 - dense_108_loss: 0.5042 - dense_109_loss: 0.5371 - 255ms/epoch - 5ms/step\n",
      "Epoch 175/400\n",
      "50/50 - 0s - loss: 1.0387 - dense_108_loss: 0.5016 - dense_109_loss: 0.5370 - 254ms/epoch - 5ms/step\n",
      "Epoch 176/400\n",
      "50/50 - 0s - loss: 1.0286 - dense_108_loss: 0.4987 - dense_109_loss: 0.5299 - 256ms/epoch - 5ms/step\n",
      "Epoch 177/400\n",
      "50/50 - 0s - loss: 1.0363 - dense_108_loss: 0.5023 - dense_109_loss: 0.5340 - 249ms/epoch - 5ms/step\n",
      "Epoch 178/400\n",
      "50/50 - 0s - loss: 1.0276 - dense_108_loss: 0.5004 - dense_109_loss: 0.5272 - 254ms/epoch - 5ms/step\n",
      "Epoch 179/400\n",
      "50/50 - 0s - loss: 1.0363 - dense_108_loss: 0.5012 - dense_109_loss: 0.5351 - 247ms/epoch - 5ms/step\n",
      "Epoch 180/400\n",
      "50/50 - 0s - loss: 1.0422 - dense_108_loss: 0.5063 - dense_109_loss: 0.5359 - 252ms/epoch - 5ms/step\n",
      "Epoch 181/400\n",
      "50/50 - 0s - loss: 1.0406 - dense_108_loss: 0.5036 - dense_109_loss: 0.5370 - 258ms/epoch - 5ms/step\n",
      "Epoch 182/400\n",
      "50/50 - 0s - loss: 1.0359 - dense_108_loss: 0.5020 - dense_109_loss: 0.5339 - 259ms/epoch - 5ms/step\n",
      "Epoch 183/400\n",
      "50/50 - 0s - loss: 1.0307 - dense_108_loss: 0.5001 - dense_109_loss: 0.5306 - 254ms/epoch - 5ms/step\n",
      "Epoch 184/400\n",
      "50/50 - 0s - loss: 1.0329 - dense_108_loss: 0.5012 - dense_109_loss: 0.5317 - 257ms/epoch - 5ms/step\n",
      "Epoch 185/400\n",
      "50/50 - 0s - loss: 1.0291 - dense_108_loss: 0.5012 - dense_109_loss: 0.5279 - 257ms/epoch - 5ms/step\n",
      "Epoch 186/400\n",
      "50/50 - 0s - loss: 1.0332 - dense_108_loss: 0.5057 - dense_109_loss: 0.5275 - 255ms/epoch - 5ms/step\n",
      "Epoch 187/400\n",
      "50/50 - 0s - loss: 1.0332 - dense_108_loss: 0.5040 - dense_109_loss: 0.5292 - 253ms/epoch - 5ms/step\n",
      "Epoch 188/400\n",
      "50/50 - 0s - loss: 1.0330 - dense_108_loss: 0.5046 - dense_109_loss: 0.5284 - 261ms/epoch - 5ms/step\n",
      "Epoch 189/400\n",
      "50/50 - 0s - loss: 1.0243 - dense_108_loss: 0.4957 - dense_109_loss: 0.5287 - 249ms/epoch - 5ms/step\n",
      "Epoch 190/400\n",
      "50/50 - 0s - loss: 1.0250 - dense_108_loss: 0.4936 - dense_109_loss: 0.5314 - 258ms/epoch - 5ms/step\n",
      "Epoch 191/400\n",
      "50/50 - 0s - loss: 1.0236 - dense_108_loss: 0.4953 - dense_109_loss: 0.5284 - 251ms/epoch - 5ms/step\n",
      "Epoch 192/400\n",
      "50/50 - 0s - loss: 1.0408 - dense_108_loss: 0.5035 - dense_109_loss: 0.5373 - 272ms/epoch - 5ms/step\n",
      "Epoch 193/400\n",
      "50/50 - 0s - loss: 1.0285 - dense_108_loss: 0.5029 - dense_109_loss: 0.5256 - 255ms/epoch - 5ms/step\n",
      "Epoch 194/400\n",
      "50/50 - 0s - loss: 1.0272 - dense_108_loss: 0.5001 - dense_109_loss: 0.5271 - 260ms/epoch - 5ms/step\n",
      "Epoch 195/400\n",
      "50/50 - 0s - loss: 1.0295 - dense_108_loss: 0.4921 - dense_109_loss: 0.5374 - 258ms/epoch - 5ms/step\n",
      "Epoch 196/400\n",
      "50/50 - 0s - loss: 1.0310 - dense_108_loss: 0.4950 - dense_109_loss: 0.5360 - 249ms/epoch - 5ms/step\n",
      "Epoch 197/400\n",
      "50/50 - 0s - loss: 1.0573 - dense_108_loss: 0.5190 - dense_109_loss: 0.5383 - 256ms/epoch - 5ms/step\n",
      "Epoch 198/400\n",
      "50/50 - 0s - loss: 1.0150 - dense_108_loss: 0.4901 - dense_109_loss: 0.5249 - 251ms/epoch - 5ms/step\n",
      "Epoch 199/400\n",
      "50/50 - 0s - loss: 1.0121 - dense_108_loss: 0.4873 - dense_109_loss: 0.5248 - 248ms/epoch - 5ms/step\n",
      "Epoch 200/400\n",
      "50/50 - 0s - loss: 1.0165 - dense_108_loss: 0.4912 - dense_109_loss: 0.5253 - 257ms/epoch - 5ms/step\n",
      "Epoch 201/400\n",
      "50/50 - 0s - loss: 1.0234 - dense_108_loss: 0.4985 - dense_109_loss: 0.5250 - 250ms/epoch - 5ms/step\n",
      "Epoch 202/400\n",
      "50/50 - 0s - loss: 1.0226 - dense_108_loss: 0.4983 - dense_109_loss: 0.5242 - 255ms/epoch - 5ms/step\n",
      "Epoch 203/400\n",
      "50/50 - 0s - loss: 1.0159 - dense_108_loss: 0.4937 - dense_109_loss: 0.5222 - 250ms/epoch - 5ms/step\n",
      "Epoch 204/400\n",
      "50/50 - 0s - loss: 1.0094 - dense_108_loss: 0.4940 - dense_109_loss: 0.5154 - 254ms/epoch - 5ms/step\n",
      "Epoch 205/400\n",
      "50/50 - 0s - loss: 1.0379 - dense_108_loss: 0.5040 - dense_109_loss: 0.5339 - 251ms/epoch - 5ms/step\n",
      "Epoch 206/400\n",
      "50/50 - 0s - loss: 1.0170 - dense_108_loss: 0.4907 - dense_109_loss: 0.5263 - 258ms/epoch - 5ms/step\n",
      "Epoch 207/400\n",
      "50/50 - 0s - loss: 1.0068 - dense_108_loss: 0.4844 - dense_109_loss: 0.5224 - 250ms/epoch - 5ms/step\n",
      "Epoch 208/400\n",
      "50/50 - 0s - loss: 1.0081 - dense_108_loss: 0.4888 - dense_109_loss: 0.5192 - 256ms/epoch - 5ms/step\n",
      "Epoch 209/400\n",
      "50/50 - 0s - loss: 1.0075 - dense_108_loss: 0.4871 - dense_109_loss: 0.5204 - 255ms/epoch - 5ms/step\n",
      "Epoch 210/400\n",
      "50/50 - 0s - loss: 1.0042 - dense_108_loss: 0.4825 - dense_109_loss: 0.5217 - 247ms/epoch - 5ms/step\n",
      "Epoch 211/400\n",
      "50/50 - 0s - loss: 1.0110 - dense_108_loss: 0.4859 - dense_109_loss: 0.5252 - 259ms/epoch - 5ms/step\n",
      "Epoch 212/400\n",
      "50/50 - 0s - loss: 1.0180 - dense_108_loss: 0.4873 - dense_109_loss: 0.5307 - 260ms/epoch - 5ms/step\n",
      "Epoch 213/400\n",
      "50/50 - 0s - loss: 1.0087 - dense_108_loss: 0.4857 - dense_109_loss: 0.5231 - 255ms/epoch - 5ms/step\n",
      "Epoch 214/400\n",
      "50/50 - 0s - loss: 1.0199 - dense_108_loss: 0.4984 - dense_109_loss: 0.5215 - 248ms/epoch - 5ms/step\n",
      "Epoch 215/400\n",
      "50/50 - 0s - loss: 1.0119 - dense_108_loss: 0.4874 - dense_109_loss: 0.5246 - 253ms/epoch - 5ms/step\n",
      "Epoch 216/400\n",
      "50/50 - 0s - loss: 1.0093 - dense_108_loss: 0.4918 - dense_109_loss: 0.5175 - 248ms/epoch - 5ms/step\n"
     ]
    },
    {
     "name": "stdout",
     "output_type": "stream",
     "text": [
      "Epoch 217/400\n",
      "50/50 - 0s - loss: 1.0132 - dense_108_loss: 0.4830 - dense_109_loss: 0.5302 - 257ms/epoch - 5ms/step\n",
      "Epoch 218/400\n",
      "50/50 - 0s - loss: 1.0080 - dense_108_loss: 0.4910 - dense_109_loss: 0.5170 - 256ms/epoch - 5ms/step\n",
      "Epoch 219/400\n",
      "50/50 - 0s - loss: 1.0013 - dense_108_loss: 0.4809 - dense_109_loss: 0.5204 - 253ms/epoch - 5ms/step\n",
      "Epoch 220/400\n",
      "50/50 - 0s - loss: 1.0050 - dense_108_loss: 0.4863 - dense_109_loss: 0.5187 - 255ms/epoch - 5ms/step\n",
      "Epoch 221/400\n",
      "50/50 - 0s - loss: 1.0079 - dense_108_loss: 0.4830 - dense_109_loss: 0.5248 - 252ms/epoch - 5ms/step\n",
      "Epoch 222/400\n",
      "50/50 - 0s - loss: 0.9974 - dense_108_loss: 0.4776 - dense_109_loss: 0.5198 - 261ms/epoch - 5ms/step\n",
      "Epoch 223/400\n",
      "50/50 - 0s - loss: 1.0037 - dense_108_loss: 0.4861 - dense_109_loss: 0.5176 - 252ms/epoch - 5ms/step\n",
      "Epoch 224/400\n",
      "50/50 - 0s - loss: 0.9976 - dense_108_loss: 0.4777 - dense_109_loss: 0.5200 - 261ms/epoch - 5ms/step\n",
      "Epoch 225/400\n",
      "50/50 - 0s - loss: 0.9981 - dense_108_loss: 0.4789 - dense_109_loss: 0.5193 - 252ms/epoch - 5ms/step\n",
      "Epoch 226/400\n",
      "50/50 - 0s - loss: 0.9884 - dense_108_loss: 0.4789 - dense_109_loss: 0.5094 - 253ms/epoch - 5ms/step\n",
      "Epoch 227/400\n",
      "50/50 - 0s - loss: 0.9894 - dense_108_loss: 0.4769 - dense_109_loss: 0.5125 - 254ms/epoch - 5ms/step\n",
      "Epoch 228/400\n",
      "50/50 - 0s - loss: 0.9945 - dense_108_loss: 0.4760 - dense_109_loss: 0.5185 - 250ms/epoch - 5ms/step\n",
      "Epoch 229/400\n",
      "50/50 - 0s - loss: 0.9983 - dense_108_loss: 0.4776 - dense_109_loss: 0.5207 - 247ms/epoch - 5ms/step\n",
      "Epoch 230/400\n",
      "50/50 - 0s - loss: 0.9833 - dense_108_loss: 0.4723 - dense_109_loss: 0.5110 - 254ms/epoch - 5ms/step\n",
      "Epoch 231/400\n",
      "50/50 - 0s - loss: 1.0000 - dense_108_loss: 0.4834 - dense_109_loss: 0.5166 - 248ms/epoch - 5ms/step\n",
      "Epoch 232/400\n",
      "50/50 - 0s - loss: 1.0188 - dense_108_loss: 0.5029 - dense_109_loss: 0.5159 - 257ms/epoch - 5ms/step\n",
      "Epoch 233/400\n",
      "50/50 - 0s - loss: 1.0005 - dense_108_loss: 0.4856 - dense_109_loss: 0.5150 - 254ms/epoch - 5ms/step\n",
      "Epoch 234/400\n",
      "50/50 - 0s - loss: 0.9904 - dense_108_loss: 0.4798 - dense_109_loss: 0.5107 - 255ms/epoch - 5ms/step\n",
      "Epoch 235/400\n",
      "50/50 - 0s - loss: 0.9963 - dense_108_loss: 0.4831 - dense_109_loss: 0.5132 - 247ms/epoch - 5ms/step\n",
      "Epoch 236/400\n",
      "50/50 - 0s - loss: 0.9946 - dense_108_loss: 0.4832 - dense_109_loss: 0.5114 - 255ms/epoch - 5ms/step\n",
      "Epoch 237/400\n",
      "50/50 - 0s - loss: 0.9851 - dense_108_loss: 0.4727 - dense_109_loss: 0.5124 - 247ms/epoch - 5ms/step\n",
      "Epoch 238/400\n",
      "50/50 - 0s - loss: 0.9990 - dense_108_loss: 0.4793 - dense_109_loss: 0.5197 - 257ms/epoch - 5ms/step\n",
      "Epoch 239/400\n",
      "50/50 - 0s - loss: 0.9881 - dense_108_loss: 0.4771 - dense_109_loss: 0.5110 - 252ms/epoch - 5ms/step\n",
      "Epoch 240/400\n",
      "50/50 - 0s - loss: 1.0046 - dense_108_loss: 0.4714 - dense_109_loss: 0.5332 - 255ms/epoch - 5ms/step\n",
      "Epoch 241/400\n",
      "50/50 - 0s - loss: 1.0047 - dense_108_loss: 0.4919 - dense_109_loss: 0.5128 - 254ms/epoch - 5ms/step\n",
      "Epoch 242/400\n",
      "50/50 - 0s - loss: 0.9930 - dense_108_loss: 0.4753 - dense_109_loss: 0.5177 - 251ms/epoch - 5ms/step\n",
      "Epoch 243/400\n",
      "50/50 - 0s - loss: 0.9852 - dense_108_loss: 0.4703 - dense_109_loss: 0.5150 - 249ms/epoch - 5ms/step\n",
      "Epoch 244/400\n",
      "50/50 - 0s - loss: 0.9786 - dense_108_loss: 0.4682 - dense_109_loss: 0.5104 - 247ms/epoch - 5ms/step\n",
      "Epoch 245/400\n",
      "50/50 - 0s - loss: 0.9965 - dense_108_loss: 0.4779 - dense_109_loss: 0.5186 - 252ms/epoch - 5ms/step\n",
      "Epoch 246/400\n",
      "50/50 - 0s - loss: 0.9858 - dense_108_loss: 0.4691 - dense_109_loss: 0.5167 - 249ms/epoch - 5ms/step\n",
      "Epoch 247/400\n",
      "50/50 - 0s - loss: 0.9850 - dense_108_loss: 0.4720 - dense_109_loss: 0.5129 - 257ms/epoch - 5ms/step\n",
      "Epoch 248/400\n",
      "50/50 - 0s - loss: 0.9730 - dense_108_loss: 0.4642 - dense_109_loss: 0.5087 - 250ms/epoch - 5ms/step\n",
      "Epoch 249/400\n",
      "50/50 - 0s - loss: 0.9927 - dense_108_loss: 0.4729 - dense_109_loss: 0.5198 - 254ms/epoch - 5ms/step\n",
      "Epoch 250/400\n",
      "50/50 - 0s - loss: 0.9806 - dense_108_loss: 0.4672 - dense_109_loss: 0.5134 - 248ms/epoch - 5ms/step\n",
      "Epoch 251/400\n",
      "50/50 - 0s - loss: 0.9845 - dense_108_loss: 0.4665 - dense_109_loss: 0.5179 - 258ms/epoch - 5ms/step\n",
      "Epoch 252/400\n",
      "50/50 - 0s - loss: 0.9834 - dense_108_loss: 0.4644 - dense_109_loss: 0.5189 - 271ms/epoch - 5ms/step\n",
      "Epoch 253/400\n",
      "50/50 - 0s - loss: 0.9799 - dense_108_loss: 0.4683 - dense_109_loss: 0.5117 - 269ms/epoch - 5ms/step\n",
      "Epoch 254/400\n",
      "50/50 - 0s - loss: 0.9789 - dense_108_loss: 0.4700 - dense_109_loss: 0.5089 - 251ms/epoch - 5ms/step\n",
      "Epoch 255/400\n",
      "50/50 - 0s - loss: 0.9782 - dense_108_loss: 0.4693 - dense_109_loss: 0.5089 - 261ms/epoch - 5ms/step\n",
      "Epoch 256/400\n",
      "50/50 - 0s - loss: 0.9723 - dense_108_loss: 0.4618 - dense_109_loss: 0.5105 - 254ms/epoch - 5ms/step\n",
      "Epoch 257/400\n",
      "50/50 - 0s - loss: 0.9698 - dense_108_loss: 0.4621 - dense_109_loss: 0.5077 - 256ms/epoch - 5ms/step\n",
      "Epoch 258/400\n",
      "50/50 - 0s - loss: 0.9814 - dense_108_loss: 0.4765 - dense_109_loss: 0.5049 - 252ms/epoch - 5ms/step\n",
      "Epoch 259/400\n",
      "50/50 - 0s - loss: 0.9876 - dense_108_loss: 0.4701 - dense_109_loss: 0.5175 - 252ms/epoch - 5ms/step\n",
      "Epoch 260/400\n",
      "50/50 - 0s - loss: 0.9697 - dense_108_loss: 0.4642 - dense_109_loss: 0.5055 - 251ms/epoch - 5ms/step\n",
      "Epoch 261/400\n",
      "50/50 - 0s - loss: 0.9781 - dense_108_loss: 0.4654 - dense_109_loss: 0.5127 - 255ms/epoch - 5ms/step\n",
      "Epoch 262/400\n",
      "50/50 - 0s - loss: 0.9802 - dense_108_loss: 0.4755 - dense_109_loss: 0.5047 - 255ms/epoch - 5ms/step\n",
      "Epoch 263/400\n",
      "50/50 - 0s - loss: 0.9628 - dense_108_loss: 0.4592 - dense_109_loss: 0.5036 - 259ms/epoch - 5ms/step\n",
      "Epoch 264/400\n",
      "50/50 - 0s - loss: 0.9799 - dense_108_loss: 0.4695 - dense_109_loss: 0.5104 - 246ms/epoch - 5ms/step\n",
      "Epoch 265/400\n",
      "50/50 - 0s - loss: 0.9773 - dense_108_loss: 0.4648 - dense_109_loss: 0.5124 - 253ms/epoch - 5ms/step\n",
      "Epoch 266/400\n",
      "50/50 - 0s - loss: 0.9782 - dense_108_loss: 0.4632 - dense_109_loss: 0.5150 - 254ms/epoch - 5ms/step\n",
      "Epoch 267/400\n",
      "50/50 - 0s - loss: 0.9643 - dense_108_loss: 0.4599 - dense_109_loss: 0.5044 - 252ms/epoch - 5ms/step\n",
      "Epoch 268/400\n",
      "50/50 - 0s - loss: 0.9749 - dense_108_loss: 0.4686 - dense_109_loss: 0.5063 - 250ms/epoch - 5ms/step\n",
      "Epoch 269/400\n",
      "50/50 - 0s - loss: 0.9723 - dense_108_loss: 0.4668 - dense_109_loss: 0.5055 - 258ms/epoch - 5ms/step\n",
      "Epoch 270/400\n",
      "50/50 - 0s - loss: 0.9800 - dense_108_loss: 0.4765 - dense_109_loss: 0.5035 - 259ms/epoch - 5ms/step\n",
      "Epoch 271/400\n",
      "50/50 - 0s - loss: 0.9683 - dense_108_loss: 0.4599 - dense_109_loss: 0.5083 - 254ms/epoch - 5ms/step\n",
      "Epoch 272/400\n",
      "50/50 - 0s - loss: 0.9683 - dense_108_loss: 0.4601 - dense_109_loss: 0.5082 - 259ms/epoch - 5ms/step\n",
      "Epoch 273/400\n",
      "50/50 - 0s - loss: 0.9725 - dense_108_loss: 0.4616 - dense_109_loss: 0.5109 - 254ms/epoch - 5ms/step\n",
      "Epoch 274/400\n",
      "50/50 - 0s - loss: 0.9766 - dense_108_loss: 0.4624 - dense_109_loss: 0.5142 - 256ms/epoch - 5ms/step\n",
      "Epoch 275/400\n",
      "50/50 - 0s - loss: 0.9713 - dense_108_loss: 0.4619 - dense_109_loss: 0.5094 - 252ms/epoch - 5ms/step\n",
      "Epoch 276/400\n",
      "50/50 - 0s - loss: 0.9695 - dense_108_loss: 0.4588 - dense_109_loss: 0.5107 - 254ms/epoch - 5ms/step\n",
      "Epoch 277/400\n",
      "50/50 - 0s - loss: 0.9734 - dense_108_loss: 0.4639 - dense_109_loss: 0.5095 - 248ms/epoch - 5ms/step\n",
      "Epoch 278/400\n",
      "50/50 - 0s - loss: 0.9600 - dense_108_loss: 0.4524 - dense_109_loss: 0.5076 - 256ms/epoch - 5ms/step\n",
      "Epoch 279/400\n",
      "50/50 - 0s - loss: 0.9743 - dense_108_loss: 0.4736 - dense_109_loss: 0.5007 - 247ms/epoch - 5ms/step\n",
      "Epoch 280/400\n",
      "50/50 - 0s - loss: 0.9699 - dense_108_loss: 0.4601 - dense_109_loss: 0.5098 - 252ms/epoch - 5ms/step\n",
      "Epoch 281/400\n",
      "50/50 - 0s - loss: 0.9650 - dense_108_loss: 0.4577 - dense_109_loss: 0.5072 - 256ms/epoch - 5ms/step\n",
      "Epoch 282/400\n",
      "50/50 - 0s - loss: 0.9620 - dense_108_loss: 0.4632 - dense_109_loss: 0.4988 - 260ms/epoch - 5ms/step\n",
      "Epoch 283/400\n",
      "50/50 - 0s - loss: 0.9637 - dense_108_loss: 0.4590 - dense_109_loss: 0.5048 - 248ms/epoch - 5ms/step\n",
      "Epoch 284/400\n",
      "50/50 - 0s - loss: 0.9626 - dense_108_loss: 0.4624 - dense_109_loss: 0.5002 - 251ms/epoch - 5ms/step\n",
      "Epoch 285/400\n",
      "50/50 - 0s - loss: 0.9485 - dense_108_loss: 0.4514 - dense_109_loss: 0.4971 - 248ms/epoch - 5ms/step\n",
      "Epoch 286/400\n",
      "50/50 - 0s - loss: 0.9391 - dense_108_loss: 0.4477 - dense_109_loss: 0.4915 - 259ms/epoch - 5ms/step\n",
      "Epoch 287/400\n",
      "50/50 - 0s - loss: 0.9558 - dense_108_loss: 0.4552 - dense_109_loss: 0.5006 - 252ms/epoch - 5ms/step\n",
      "Epoch 288/400\n",
      "50/50 - 0s - loss: 0.9535 - dense_108_loss: 0.4552 - dense_109_loss: 0.4983 - 252ms/epoch - 5ms/step\n"
     ]
    },
    {
     "name": "stdout",
     "output_type": "stream",
     "text": [
      "Epoch 289/400\n",
      "50/50 - 0s - loss: 0.9546 - dense_108_loss: 0.4554 - dense_109_loss: 0.4992 - 253ms/epoch - 5ms/step\n",
      "Epoch 290/400\n",
      "50/50 - 0s - loss: 0.9666 - dense_108_loss: 0.4635 - dense_109_loss: 0.5032 - 265ms/epoch - 5ms/step\n",
      "Epoch 291/400\n",
      "50/50 - 0s - loss: 0.9602 - dense_108_loss: 0.4556 - dense_109_loss: 0.5046 - 251ms/epoch - 5ms/step\n",
      "Epoch 292/400\n",
      "50/50 - 0s - loss: 0.9650 - dense_108_loss: 0.4579 - dense_109_loss: 0.5071 - 278ms/epoch - 6ms/step\n",
      "Epoch 293/400\n",
      "50/50 - 0s - loss: 0.9663 - dense_108_loss: 0.4557 - dense_109_loss: 0.5106 - 258ms/epoch - 5ms/step\n",
      "Epoch 294/400\n",
      "50/50 - 0s - loss: 0.9594 - dense_108_loss: 0.4556 - dense_109_loss: 0.5038 - 254ms/epoch - 5ms/step\n",
      "Epoch 295/400\n",
      "50/50 - 0s - loss: 0.9568 - dense_108_loss: 0.4521 - dense_109_loss: 0.5047 - 259ms/epoch - 5ms/step\n",
      "Epoch 296/400\n",
      "50/50 - 0s - loss: 0.9634 - dense_108_loss: 0.4564 - dense_109_loss: 0.5070 - 254ms/epoch - 5ms/step\n",
      "Epoch 297/400\n",
      "50/50 - 0s - loss: 0.9678 - dense_108_loss: 0.4583 - dense_109_loss: 0.5095 - 257ms/epoch - 5ms/step\n",
      "Epoch 298/400\n",
      "50/50 - 0s - loss: 0.9681 - dense_108_loss: 0.4552 - dense_109_loss: 0.5128 - 259ms/epoch - 5ms/step\n",
      "Epoch 299/400\n",
      "50/50 - 0s - loss: 0.9470 - dense_108_loss: 0.4508 - dense_109_loss: 0.4963 - 257ms/epoch - 5ms/step\n",
      "Epoch 300/400\n",
      "50/50 - 0s - loss: 0.9578 - dense_108_loss: 0.4607 - dense_109_loss: 0.4971 - 249ms/epoch - 5ms/step\n",
      "Epoch 301/400\n",
      "50/50 - 0s - loss: 0.9621 - dense_108_loss: 0.4555 - dense_109_loss: 0.5065 - 253ms/epoch - 5ms/step\n",
      "Epoch 302/400\n",
      "50/50 - 0s - loss: 0.9503 - dense_108_loss: 0.4520 - dense_109_loss: 0.4984 - 248ms/epoch - 5ms/step\n",
      "Epoch 303/400\n",
      "50/50 - 0s - loss: 0.9515 - dense_108_loss: 0.4509 - dense_109_loss: 0.5006 - 256ms/epoch - 5ms/step\n",
      "Epoch 304/400\n",
      "50/50 - 0s - loss: 0.9558 - dense_108_loss: 0.4568 - dense_109_loss: 0.4990 - 247ms/epoch - 5ms/step\n",
      "Epoch 305/400\n",
      "50/50 - 0s - loss: 0.9443 - dense_108_loss: 0.4466 - dense_109_loss: 0.4977 - 259ms/epoch - 5ms/step\n",
      "Epoch 306/400\n",
      "50/50 - 0s - loss: 0.9491 - dense_108_loss: 0.4512 - dense_109_loss: 0.4980 - 253ms/epoch - 5ms/step\n",
      "Epoch 307/400\n",
      "50/50 - 0s - loss: 0.9406 - dense_108_loss: 0.4488 - dense_109_loss: 0.4918 - 257ms/epoch - 5ms/step\n",
      "Epoch 308/400\n",
      "50/50 - 0s - loss: 0.9450 - dense_108_loss: 0.4468 - dense_109_loss: 0.4983 - 254ms/epoch - 5ms/step\n",
      "Epoch 309/400\n",
      "50/50 - 0s - loss: 0.9482 - dense_108_loss: 0.4457 - dense_109_loss: 0.5025 - 257ms/epoch - 5ms/step\n",
      "Epoch 310/400\n",
      "50/50 - 0s - loss: 0.9406 - dense_108_loss: 0.4419 - dense_109_loss: 0.4988 - 248ms/epoch - 5ms/step\n",
      "Epoch 311/400\n",
      "50/50 - 0s - loss: 0.9442 - dense_108_loss: 0.4499 - dense_109_loss: 0.4943 - 250ms/epoch - 5ms/step\n",
      "Epoch 312/400\n",
      "50/50 - 0s - loss: 0.9487 - dense_108_loss: 0.4574 - dense_109_loss: 0.4912 - 253ms/epoch - 5ms/step\n",
      "Epoch 313/400\n",
      "50/50 - 0s - loss: 0.9510 - dense_108_loss: 0.4525 - dense_109_loss: 0.4985 - 253ms/epoch - 5ms/step\n",
      "Epoch 314/400\n",
      "50/50 - 0s - loss: 0.9542 - dense_108_loss: 0.4500 - dense_109_loss: 0.5042 - 252ms/epoch - 5ms/step\n",
      "Epoch 315/400\n",
      "50/50 - 0s - loss: 0.9353 - dense_108_loss: 0.4441 - dense_109_loss: 0.4912 - 250ms/epoch - 5ms/step\n",
      "Epoch 316/400\n",
      "50/50 - 0s - loss: 0.9478 - dense_108_loss: 0.4476 - dense_109_loss: 0.5002 - 252ms/epoch - 5ms/step\n",
      "Epoch 317/400\n",
      "50/50 - 0s - loss: 0.9426 - dense_108_loss: 0.4422 - dense_109_loss: 0.5004 - 247ms/epoch - 5ms/step\n",
      "Epoch 318/400\n",
      "50/50 - 0s - loss: 0.9371 - dense_108_loss: 0.4437 - dense_109_loss: 0.4934 - 254ms/epoch - 5ms/step\n",
      "Epoch 319/400\n",
      "50/50 - 0s - loss: 0.9510 - dense_108_loss: 0.4503 - dense_109_loss: 0.5007 - 254ms/epoch - 5ms/step\n",
      "Epoch 320/400\n",
      "50/50 - 0s - loss: 0.9352 - dense_108_loss: 0.4476 - dense_109_loss: 0.4876 - 250ms/epoch - 5ms/step\n",
      "Epoch 321/400\n",
      "50/50 - 0s - loss: 0.9370 - dense_108_loss: 0.4417 - dense_109_loss: 0.4953 - 248ms/epoch - 5ms/step\n",
      "Epoch 322/400\n",
      "50/50 - 0s - loss: 0.9416 - dense_108_loss: 0.4423 - dense_109_loss: 0.4993 - 253ms/epoch - 5ms/step\n",
      "Epoch 323/400\n",
      "50/50 - 0s - loss: 0.9393 - dense_108_loss: 0.4443 - dense_109_loss: 0.4950 - 250ms/epoch - 5ms/step\n",
      "Epoch 324/400\n",
      "50/50 - 0s - loss: 0.9363 - dense_108_loss: 0.4414 - dense_109_loss: 0.4949 - 249ms/epoch - 5ms/step\n",
      "Epoch 325/400\n",
      "50/50 - 0s - loss: 0.9456 - dense_108_loss: 0.4495 - dense_109_loss: 0.4962 - 245ms/epoch - 5ms/step\n",
      "Epoch 326/400\n",
      "50/50 - 0s - loss: 0.9490 - dense_108_loss: 0.4511 - dense_109_loss: 0.4979 - 252ms/epoch - 5ms/step\n",
      "Epoch 327/400\n",
      "50/50 - 0s - loss: 0.9349 - dense_108_loss: 0.4415 - dense_109_loss: 0.4934 - 256ms/epoch - 5ms/step\n",
      "Epoch 328/400\n",
      "50/50 - 0s - loss: 0.9424 - dense_108_loss: 0.4444 - dense_109_loss: 0.4979 - 250ms/epoch - 5ms/step\n",
      "Epoch 329/400\n",
      "50/50 - 0s - loss: 0.9384 - dense_108_loss: 0.4463 - dense_109_loss: 0.4921 - 251ms/epoch - 5ms/step\n",
      "Epoch 330/400\n",
      "50/50 - 0s - loss: 0.9443 - dense_108_loss: 0.4471 - dense_109_loss: 0.4972 - 257ms/epoch - 5ms/step\n",
      "Epoch 331/400\n",
      "50/50 - 0s - loss: 0.9348 - dense_108_loss: 0.4400 - dense_109_loss: 0.4948 - 249ms/epoch - 5ms/step\n",
      "Epoch 332/400\n",
      "50/50 - 0s - loss: 0.9382 - dense_108_loss: 0.4470 - dense_109_loss: 0.4912 - 256ms/epoch - 5ms/step\n",
      "Epoch 333/400\n",
      "50/50 - 0s - loss: 0.9251 - dense_108_loss: 0.4333 - dense_109_loss: 0.4918 - 252ms/epoch - 5ms/step\n",
      "Epoch 334/400\n",
      "50/50 - 0s - loss: 0.9353 - dense_108_loss: 0.4463 - dense_109_loss: 0.4890 - 260ms/epoch - 5ms/step\n",
      "Epoch 335/400\n",
      "50/50 - 0s - loss: 0.9456 - dense_108_loss: 0.4450 - dense_109_loss: 0.5006 - 251ms/epoch - 5ms/step\n",
      "Epoch 336/400\n",
      "50/50 - 0s - loss: 0.9333 - dense_108_loss: 0.4413 - dense_109_loss: 0.4920 - 250ms/epoch - 5ms/step\n",
      "Epoch 337/400\n",
      "50/50 - 0s - loss: 0.9359 - dense_108_loss: 0.4400 - dense_109_loss: 0.4959 - 259ms/epoch - 5ms/step\n",
      "Epoch 338/400\n",
      "50/50 - 0s - loss: 0.9390 - dense_108_loss: 0.4463 - dense_109_loss: 0.4927 - 250ms/epoch - 5ms/step\n",
      "Epoch 339/400\n",
      "50/50 - 0s - loss: 0.9310 - dense_108_loss: 0.4399 - dense_109_loss: 0.4911 - 253ms/epoch - 5ms/step\n",
      "Epoch 340/400\n",
      "50/50 - 0s - loss: 0.9362 - dense_108_loss: 0.4429 - dense_109_loss: 0.4933 - 250ms/epoch - 5ms/step\n",
      "Epoch 341/400\n",
      "50/50 - 0s - loss: 0.9250 - dense_108_loss: 0.4353 - dense_109_loss: 0.4897 - 252ms/epoch - 5ms/step\n",
      "Epoch 342/400\n",
      "50/50 - 0s - loss: 0.9230 - dense_108_loss: 0.4341 - dense_109_loss: 0.4889 - 250ms/epoch - 5ms/step\n",
      "Epoch 343/400\n",
      "50/50 - 0s - loss: 0.9376 - dense_108_loss: 0.4450 - dense_109_loss: 0.4926 - 250ms/epoch - 5ms/step\n",
      "Epoch 344/400\n",
      "50/50 - 0s - loss: 0.9501 - dense_108_loss: 0.4526 - dense_109_loss: 0.4975 - 254ms/epoch - 5ms/step\n",
      "Epoch 345/400\n",
      "50/50 - 0s - loss: 0.9467 - dense_108_loss: 0.4443 - dense_109_loss: 0.5024 - 251ms/epoch - 5ms/step\n",
      "Epoch 346/400\n",
      "50/50 - 0s - loss: 0.9520 - dense_108_loss: 0.4510 - dense_109_loss: 0.5010 - 253ms/epoch - 5ms/step\n",
      "Epoch 347/400\n",
      "50/50 - 0s - loss: 0.9286 - dense_108_loss: 0.4339 - dense_109_loss: 0.4947 - 248ms/epoch - 5ms/step\n",
      "Epoch 348/400\n",
      "50/50 - 0s - loss: 0.9297 - dense_108_loss: 0.4340 - dense_109_loss: 0.4957 - 255ms/epoch - 5ms/step\n",
      "Epoch 349/400\n",
      "50/50 - 0s - loss: 0.9466 - dense_108_loss: 0.4516 - dense_109_loss: 0.4950 - 253ms/epoch - 5ms/step\n",
      "Epoch 350/400\n",
      "50/50 - 0s - loss: 0.9362 - dense_108_loss: 0.4398 - dense_109_loss: 0.4963 - 253ms/epoch - 5ms/step\n",
      "Epoch 351/400\n",
      "50/50 - 0s - loss: 0.9451 - dense_108_loss: 0.4460 - dense_109_loss: 0.4991 - 252ms/epoch - 5ms/step\n",
      "Epoch 352/400\n",
      "50/50 - 0s - loss: 0.9452 - dense_108_loss: 0.4457 - dense_109_loss: 0.4994 - 267ms/epoch - 5ms/step\n",
      "Epoch 353/400\n",
      "50/50 - 0s - loss: 0.9280 - dense_108_loss: 0.4316 - dense_109_loss: 0.4965 - 285ms/epoch - 6ms/step\n",
      "Epoch 354/400\n",
      "50/50 - 0s - loss: 0.9237 - dense_108_loss: 0.4325 - dense_109_loss: 0.4912 - 250ms/epoch - 5ms/step\n",
      "Epoch 355/400\n",
      "50/50 - 0s - loss: 0.9388 - dense_108_loss: 0.4324 - dense_109_loss: 0.5064 - 254ms/epoch - 5ms/step\n",
      "Epoch 356/400\n",
      "50/50 - 0s - loss: 0.9319 - dense_108_loss: 0.4361 - dense_109_loss: 0.4958 - 249ms/epoch - 5ms/step\n",
      "Epoch 357/400\n",
      "50/50 - 0s - loss: 0.9520 - dense_108_loss: 0.4467 - dense_109_loss: 0.5054 - 254ms/epoch - 5ms/step\n",
      "Epoch 358/400\n",
      "50/50 - 0s - loss: 0.9320 - dense_108_loss: 0.4377 - dense_109_loss: 0.4943 - 249ms/epoch - 5ms/step\n",
      "Epoch 359/400\n",
      "50/50 - 0s - loss: 0.9303 - dense_108_loss: 0.4351 - dense_109_loss: 0.4952 - 250ms/epoch - 5ms/step\n",
      "Epoch 360/400\n",
      "50/50 - 0s - loss: 0.9348 - dense_108_loss: 0.4349 - dense_109_loss: 0.4999 - 247ms/epoch - 5ms/step\n"
     ]
    },
    {
     "name": "stdout",
     "output_type": "stream",
     "text": [
      "Epoch 361/400\n",
      "50/50 - 0s - loss: 0.9360 - dense_108_loss: 0.4354 - dense_109_loss: 0.5006 - 249ms/epoch - 5ms/step\n",
      "Epoch 362/400\n",
      "50/50 - 0s - loss: 0.9176 - dense_108_loss: 0.4290 - dense_109_loss: 0.4887 - 254ms/epoch - 5ms/step\n",
      "Epoch 363/400\n",
      "50/50 - 0s - loss: 0.9250 - dense_108_loss: 0.4321 - dense_109_loss: 0.4929 - 249ms/epoch - 5ms/step\n",
      "Epoch 364/400\n",
      "50/50 - 0s - loss: 0.9155 - dense_108_loss: 0.4331 - dense_109_loss: 0.4824 - 249ms/epoch - 5ms/step\n",
      "Epoch 365/400\n",
      "50/50 - 0s - loss: 0.9192 - dense_108_loss: 0.4381 - dense_109_loss: 0.4811 - 247ms/epoch - 5ms/step\n",
      "Epoch 366/400\n",
      "50/50 - 0s - loss: 0.9203 - dense_108_loss: 0.4314 - dense_109_loss: 0.4889 - 256ms/epoch - 5ms/step\n",
      "Epoch 367/400\n",
      "50/50 - 0s - loss: 0.9271 - dense_108_loss: 0.4358 - dense_109_loss: 0.4913 - 258ms/epoch - 5ms/step\n",
      "Epoch 368/400\n",
      "50/50 - 0s - loss: 0.9266 - dense_108_loss: 0.4398 - dense_109_loss: 0.4868 - 249ms/epoch - 5ms/step\n",
      "Epoch 369/400\n",
      "50/50 - 0s - loss: 0.9391 - dense_108_loss: 0.4524 - dense_109_loss: 0.4867 - 254ms/epoch - 5ms/step\n",
      "Epoch 370/400\n",
      "50/50 - 0s - loss: 0.9364 - dense_108_loss: 0.4447 - dense_109_loss: 0.4917 - 251ms/epoch - 5ms/step\n",
      "Epoch 371/400\n",
      "50/50 - 0s - loss: 0.9189 - dense_108_loss: 0.4310 - dense_109_loss: 0.4879 - 253ms/epoch - 5ms/step\n",
      "Epoch 372/400\n",
      "50/50 - 0s - loss: 0.9135 - dense_108_loss: 0.4288 - dense_109_loss: 0.4847 - 249ms/epoch - 5ms/step\n",
      "Epoch 373/400\n",
      "50/50 - 0s - loss: 0.9188 - dense_108_loss: 0.4322 - dense_109_loss: 0.4866 - 253ms/epoch - 5ms/step\n",
      "Epoch 374/400\n",
      "50/50 - 0s - loss: 0.9249 - dense_108_loss: 0.4358 - dense_109_loss: 0.4891 - 257ms/epoch - 5ms/step\n",
      "Epoch 375/400\n",
      "50/50 - 0s - loss: 0.9206 - dense_108_loss: 0.4364 - dense_109_loss: 0.4843 - 253ms/epoch - 5ms/step\n",
      "Epoch 376/400\n",
      "50/50 - 0s - loss: 0.9150 - dense_108_loss: 0.4288 - dense_109_loss: 0.4862 - 251ms/epoch - 5ms/step\n",
      "Epoch 377/400\n",
      "50/50 - 0s - loss: 0.9166 - dense_108_loss: 0.4343 - dense_109_loss: 0.4823 - 248ms/epoch - 5ms/step\n",
      "Epoch 378/400\n",
      "50/50 - 0s - loss: 0.9124 - dense_108_loss: 0.4301 - dense_109_loss: 0.4823 - 251ms/epoch - 5ms/step\n",
      "Epoch 379/400\n",
      "50/50 - 0s - loss: 0.9092 - dense_108_loss: 0.4266 - dense_109_loss: 0.4825 - 251ms/epoch - 5ms/step\n",
      "Epoch 380/400\n",
      "50/50 - 0s - loss: 0.9170 - dense_108_loss: 0.4253 - dense_109_loss: 0.4916 - 256ms/epoch - 5ms/step\n",
      "Epoch 381/400\n",
      "50/50 - 0s - loss: 0.9168 - dense_108_loss: 0.4305 - dense_109_loss: 0.4863 - 257ms/epoch - 5ms/step\n",
      "Epoch 382/400\n",
      "50/50 - 0s - loss: 0.9110 - dense_108_loss: 0.4272 - dense_109_loss: 0.4839 - 254ms/epoch - 5ms/step\n",
      "Epoch 383/400\n",
      "50/50 - 0s - loss: 0.9165 - dense_108_loss: 0.4300 - dense_109_loss: 0.4865 - 258ms/epoch - 5ms/step\n",
      "Epoch 384/400\n",
      "50/50 - 0s - loss: 0.9169 - dense_108_loss: 0.4261 - dense_109_loss: 0.4908 - 252ms/epoch - 5ms/step\n",
      "Epoch 385/400\n",
      "50/50 - 0s - loss: 0.9228 - dense_108_loss: 0.4355 - dense_109_loss: 0.4874 - 251ms/epoch - 5ms/step\n",
      "Epoch 386/400\n",
      "50/50 - 0s - loss: 0.9309 - dense_108_loss: 0.4345 - dense_109_loss: 0.4964 - 248ms/epoch - 5ms/step\n",
      "Epoch 387/400\n",
      "50/50 - 0s - loss: 0.9168 - dense_108_loss: 0.4305 - dense_109_loss: 0.4863 - 325ms/epoch - 6ms/step\n",
      "Epoch 388/400\n",
      "50/50 - 0s - loss: 0.9246 - dense_108_loss: 0.4346 - dense_109_loss: 0.4899 - 303ms/epoch - 6ms/step\n",
      "Epoch 389/400\n",
      "50/50 - 0s - loss: 0.9237 - dense_108_loss: 0.4317 - dense_109_loss: 0.4920 - 292ms/epoch - 6ms/step\n",
      "Epoch 390/400\n",
      "50/50 - 0s - loss: 0.9163 - dense_108_loss: 0.4315 - dense_109_loss: 0.4848 - 265ms/epoch - 5ms/step\n",
      "Epoch 391/400\n",
      "50/50 - 0s - loss: 0.9381 - dense_108_loss: 0.4424 - dense_109_loss: 0.4957 - 292ms/epoch - 6ms/step\n",
      "Epoch 392/400\n",
      "50/50 - 0s - loss: 0.9113 - dense_108_loss: 0.4280 - dense_109_loss: 0.4833 - 285ms/epoch - 6ms/step\n",
      "Epoch 393/400\n",
      "50/50 - 0s - loss: 0.9169 - dense_108_loss: 0.4320 - dense_109_loss: 0.4849 - 297ms/epoch - 6ms/step\n",
      "Epoch 394/400\n",
      "50/50 - 0s - loss: 0.9162 - dense_108_loss: 0.4291 - dense_109_loss: 0.4871 - 272ms/epoch - 5ms/step\n",
      "Epoch 395/400\n",
      "50/50 - 0s - loss: 0.9251 - dense_108_loss: 0.4425 - dense_109_loss: 0.4826 - 294ms/epoch - 6ms/step\n",
      "Epoch 396/400\n",
      "50/50 - 0s - loss: 0.9210 - dense_108_loss: 0.4294 - dense_109_loss: 0.4916 - 289ms/epoch - 6ms/step\n",
      "Epoch 397/400\n",
      "50/50 - 0s - loss: 0.9233 - dense_108_loss: 0.4375 - dense_109_loss: 0.4858 - 268ms/epoch - 5ms/step\n",
      "Epoch 398/400\n",
      "50/50 - 0s - loss: 0.9049 - dense_108_loss: 0.4249 - dense_109_loss: 0.4799 - 255ms/epoch - 5ms/step\n",
      "Epoch 399/400\n",
      "50/50 - 0s - loss: 0.9239 - dense_108_loss: 0.4370 - dense_109_loss: 0.4869 - 262ms/epoch - 5ms/step\n",
      "Epoch 400/400\n",
      "50/50 - 0s - loss: 0.9050 - dense_108_loss: 0.4284 - dense_109_loss: 0.4767 - 251ms/epoch - 5ms/step\n"
     ]
    },
    {
     "data": {
      "text/plain": [
       "<keras.callbacks.History at 0x16b7d5220>"
      ]
     },
     "execution_count": 72,
     "metadata": {},
     "output_type": "execute_result"
    }
   ],
   "source": [
    "y_pos_x, y_pos_y = train[1], train[2] # separate the y data into x and y position columns\n",
    "model.fit(train[0], [y_pos_x, y_pos_y], epochs=400, batch_size=32, verbose=2)"
   ]
  },
  {
   "cell_type": "code",
   "execution_count": 73,
   "id": "BqPlv1LBOx7C",
   "metadata": {
    "colab": {
     "base_uri": "https://localhost:8080/"
    },
    "id": "BqPlv1LBOx7C",
    "outputId": "81501cf3-4d2c-4958-a105-fb52f5b8c1f5"
   },
   "outputs": [
    {
     "name": "stderr",
     "output_type": "stream",
     "text": [
      "2022-01-07 13:58:11.813695: I tensorflow/core/grappler/optimizers/custom_graph_optimizer_registry.cc:112] Plugin optimizer for device_type GPU is enabled.\n"
     ]
    },
    {
     "name": "stdout",
     "output_type": "stream",
     "text": [
      "Train Score: 0.89\n",
      "Test Score: 1.39\n"
     ]
    }
   ],
   "source": [
    "trainScore = model.evaluate(train[0], [train[1], train[2]], verbose=0)\n",
    "print('Train Score: %.2f' % (trainScore[0]))\n",
    "\n",
    "testScore = model.evaluate(test[0], [test[1], test[2]], verbose=0)\n",
    "print('Test Score: %.2f' % (testScore[0]))"
   ]
  },
  {
   "cell_type": "markdown",
   "id": "f13b77d2",
   "metadata": {},
   "source": [
    "## Making predictions on test data"
   ]
  },
  {
   "cell_type": "code",
   "execution_count": 74,
   "id": "wdLHm-yCNbJU",
   "metadata": {
    "colab": {
     "base_uri": "https://localhost:8080/",
     "height": 1000
    },
    "id": "wdLHm-yCNbJU",
    "outputId": "19757ef5-3529-4b8e-b5b8-1f7b43deff58"
   },
   "outputs": [
    {
     "name": "stderr",
     "output_type": "stream",
     "text": [
      "2022-01-07 13:58:14.358951: I tensorflow/core/grappler/optimizers/custom_graph_optimizer_registry.cc:112] Plugin optimizer for device_type GPU is enabled.\n"
     ]
    },
    {
     "data": {
      "image/png": "[encoded data removed]",
      "text/plain": [
       "<Figure size 432x288 with 1 Axes>"
      ]
     },
     "metadata": {
      "needs_background": "light"
     },
     "output_type": "display_data"
    },
    {
     "data": {
      "image/png": "[encoded data removed]",
      "text/plain": [
       "<Figure size 432x288 with 1 Axes>"
      ]
     },
     "metadata": {
      "needs_background": "light"
     },
     "output_type": "display_data"
    },
    {
     "data": {
      "image/png": "[encoded data removed]",
      "text/plain": [
       "<Figure size 432x288 with 1 Axes>"
      ]
     },
     "metadata": {
      "needs_background": "light"
     },
     "output_type": "display_data"
    },
    {
     "data": {
      "image/png": "[encoded data removed]",
      "text/plain": [
       "<Figure size 432x288 with 1 Axes>"
      ]
     },
     "metadata": {
      "needs_background": "light"
     },
     "output_type": "display_data"
    },
    {
     "data": {
      "image/png": "[encoded data removed]",
      "text/plain": [
       "<Figure size 432x288 with 1 Axes>"
      ]
     },
     "metadata": {
      "needs_background": "light"
     },
     "output_type": "display_data"
    },
    {
     "data": {
      "image/png": "[encoded data removed]",
      "text/plain": [
       "<Figure size 432x288 with 1 Axes>"
      ]
     },
     "metadata": {
      "needs_background": "light"
     },
     "output_type": "display_data"
    },
    {
     "data": {
      "image/png": "[encoded data removed]",
      "text/plain": [
       "<Figure size 432x288 with 1 Axes>"
      ]
     },
     "metadata": {
      "needs_background": "light"
     },
     "output_type": "display_data"
    },
    {
     "data": {
      "image/png": "[encoded data removed]",
      "text/plain": [
       "<Figure size 432x288 with 1 Axes>"
      ]
     },
     "metadata": {
      "needs_background": "light"
     },
     "output_type": "display_data"
    },
    {
     "data": {
      "image/png": "[encoded data removed]",
      "text/plain": [
       "<Figure size 432x288 with 1 Axes>"
      ]
     },
     "metadata": {
      "needs_background": "light"
     },
     "output_type": "display_data"
    },
    {
     "data": {
      "image/png": "[encoded data removed]",
      "text/plain": [
       "<Figure size 432x288 with 1 Axes>"
      ]
     },
     "metadata": {
      "needs_background": "light"
     },
     "output_type": "display_data"
    },
    {
     "data": {
      "image/png": "[encoded data removed]",
      "text/plain": [
       "<Figure size 432x288 with 1 Axes>"
      ]
     },
     "metadata": {
      "needs_background": "light"
     },
     "output_type": "display_data"
    },
    {
     "data": {
      "image/png": "[encoded data removed]",
      "text/plain": [
       "<Figure size 432x288 with 1 Axes>"
      ]
     },
     "metadata": {
      "needs_background": "light"
     },
     "output_type": "display_data"
    },
    {
     "data": {
      "image/png": "[encoded data removed]",
      "text/plain": [
       "<Figure size 432x288 with 1 Axes>"
      ]
     },
     "metadata": {
      "needs_background": "light"
     },
     "output_type": "display_data"
    },
    {
     "data": {
      "image/png": "[encoded data removed]",
      "text/plain": [
       "<Figure size 432x288 with 1 Axes>"
      ]
     },
     "metadata": {
      "needs_background": "light"
     },
     "output_type": "display_data"
    },
    {
     "data": {
      "image/png": "[encoded data removed]",
      "text/plain": [
       "<Figure size 432x288 with 1 Axes>"
      ]
     },
     "metadata": {
      "needs_background": "light"
     },
     "output_type": "display_data"
    },
    {
     "data": {
      "image/png": "[encoded data removed]",
      "text/plain": [
       "<Figure size 432x288 with 1 Axes>"
      ]
     },
     "metadata": {
      "needs_background": "light"
     },
     "output_type": "display_data"
    },
    {
     "data": {
      "image/png": "[encoded data removed]",
      "text/plain": [
       "<Figure size 432x288 with 1 Axes>"
      ]
     },
     "metadata": {
      "needs_background": "light"
     },
     "output_type": "display_data"
    },
    {
     "data": {
      "image/png": "[encoded data removed]",
      "text/plain": [
       "<Figure size 432x288 with 1 Axes>"
      ]
     },
     "metadata": {
      "needs_background": "light"
     },
     "output_type": "display_data"
    },
    {
     "data": {
      "image/png": "[encoded data removed]",
      "text/plain": [
       "<Figure size 432x288 with 1 Axes>"
      ]
     },
     "metadata": {
      "needs_background": "light"
     },
     "output_type": "display_data"
    },
    {
     "data": {
      "image/png": "[encoded data removed]",
      "text/plain": [
       "<Figure size 432x288 with 1 Axes>"
      ]
     },
     "metadata": {
      "needs_background": "light"
     },
     "output_type": "display_data"
    },
    {
     "name": "stdout",
     "output_type": "stream",
     "text": [
      "Average FDE:  0.9764549709002771\n"
     ]
    }
   ],
   "source": [
    "all_FDE = []\n",
    "plotting = True\n",
    "no_of_plotted_trajectories = 20\n",
    "\n",
    "for idx, agent_id in enumerate(test_agent_ids):\n",
    "\n",
    "    seen_x = np.array(data[data['agent_id'] == agent_id].iloc[:5]['pos_x'])\n",
    "    seen_y = np.array(data[data['agent_id'] == agent_id].iloc[:5]['pos_y'])\n",
    "    unseen_x = np.array(data[data['agent_id'] == agent_id].iloc[5:10]['pos_x'])\n",
    "    unseen_y = np.array(data[data['agent_id'] == agent_id].iloc[5:10]['pos_y'])\n",
    "\n",
    "    pred_x, pred_y = model.predict(np.array([np.column_stack((seen_x, seen_y))]))\n",
    "\n",
    "    FDE = np.sqrt((pred_x[0][-1] - unseen_x[-1])**2 + (pred_y[0][-1] - unseen_y[-1])**2)\n",
    "    all_FDE.append(FDE)\n",
    "    # plot data\n",
    "    if plotting and idx < no_of_plotted_trajectories:\n",
    "        plt.axes().set_aspect('equal')\n",
    "\n",
    "        plt.plot(np.append(seen_x, unseen_x), np.append(seen_y, unseen_y), color='g')\n",
    "        plt.scatter(np.append(seen_x, unseen_x), np.append(seen_y, unseen_y), color='g')\n",
    "\n",
    "        plt.plot(pred_x[0], pred_y[0], color='r')\n",
    "        plt.scatter(pred_x[0], pred_y[0], color='r')\n",
    "\n",
    "        plt.scatter(seen_x[0], seen_y[0], color='b')\n",
    "\n",
    "        plt.show()\n",
    "\n",
    "print(\"Average FDE: \", np.mean(all_FDE))"
   ]
  },
  {
   "cell_type": "markdown",
   "id": "5a41be28",
   "metadata": {},
   "source": [
    "## Testing different hyperparameters"
   ]
  },
  {
   "cell_type": "code",
   "execution_count": 14,
   "id": "e-hnN5tT4NM0",
   "metadata": {
    "id": "e-hnN5tT4NM0"
   },
   "outputs": [],
   "source": [
    "# NN architecture\n",
    "def root_mean_squared_error(y_true, y_pred):\n",
    "        return K.sqrt(K.mean(K.square(y_pred - y_true))) \n",
    "\n",
    "inp = Input((5,2))\n",
    "\n",
    "x = Flatten()(inp)\n",
    "\n",
    "x = Dense(64, activation='relu')(x)\n",
    "x = Dense(32, activation='relu')(x)\n",
    "x = Dense(16, activation='relu')(x)\n",
    "x = Dense(16, activation='relu')(x)\n",
    "\n",
    "out1 = Dense(5, activation='linear')(x)    \n",
    "out2 = Dense(5, activation='linear')(x)"
   ]
  },
  {
   "cell_type": "code",
   "execution_count": 20,
   "id": "4db44051",
   "metadata": {},
   "outputs": [
    {
     "name": "stderr",
     "output_type": "stream",
     "text": [
      "2022-01-07 12:18:51.209795: I tensorflow/core/grappler/optimizers/custom_graph_optimizer_registry.cc:112] Plugin optimizer for device_type GPU is enabled.\n",
      "2022-01-07 12:19:43.952301: I tensorflow/core/grappler/optimizers/custom_graph_optimizer_registry.cc:112] Plugin optimizer for device_type GPU is enabled.\n",
      "2022-01-07 12:19:44.418857: I tensorflow/core/grappler/optimizers/custom_graph_optimizer_registry.cc:112] Plugin optimizer for device_type GPU is enabled.\n",
      "2022-01-07 12:20:33.749003: I tensorflow/core/grappler/optimizers/custom_graph_optimizer_registry.cc:112] Plugin optimizer for device_type GPU is enabled.\n",
      "2022-01-07 12:20:34.191168: I tensorflow/core/grappler/optimizers/custom_graph_optimizer_registry.cc:112] Plugin optimizer for device_type GPU is enabled.\n",
      "2022-01-07 12:21:24.954781: I tensorflow/core/grappler/optimizers/custom_graph_optimizer_registry.cc:112] Plugin optimizer for device_type GPU is enabled.\n",
      "2022-01-07 12:21:25.433058: I tensorflow/core/grappler/optimizers/custom_graph_optimizer_registry.cc:112] Plugin optimizer for device_type GPU is enabled.\n",
      "2022-01-07 12:22:15.147576: I tensorflow/core/grappler/optimizers/custom_graph_optimizer_registry.cc:112] Plugin optimizer for device_type GPU is enabled.\n",
      "2022-01-07 12:22:15.593351: I tensorflow/core/grappler/optimizers/custom_graph_optimizer_registry.cc:112] Plugin optimizer for device_type GPU is enabled.\n",
      "2022-01-07 12:23:06.452279: I tensorflow/core/grappler/optimizers/custom_graph_optimizer_registry.cc:112] Plugin optimizer for device_type GPU is enabled.\n",
      "2022-01-07 12:23:06.906542: I tensorflow/core/grappler/optimizers/custom_graph_optimizer_registry.cc:112] Plugin optimizer for device_type GPU is enabled.\n",
      "2022-01-07 12:23:56.440231: I tensorflow/core/grappler/optimizers/custom_graph_optimizer_registry.cc:112] Plugin optimizer for device_type GPU is enabled.\n",
      "2022-01-07 12:23:56.867881: I tensorflow/core/grappler/optimizers/custom_graph_optimizer_registry.cc:112] Plugin optimizer for device_type GPU is enabled.\n",
      "2022-01-07 12:24:47.698793: I tensorflow/core/grappler/optimizers/custom_graph_optimizer_registry.cc:112] Plugin optimizer for device_type GPU is enabled.\n",
      "2022-01-07 12:24:48.161842: I tensorflow/core/grappler/optimizers/custom_graph_optimizer_registry.cc:112] Plugin optimizer for device_type GPU is enabled.\n",
      "2022-01-07 12:25:38.408626: I tensorflow/core/grappler/optimizers/custom_graph_optimizer_registry.cc:112] Plugin optimizer for device_type GPU is enabled.\n",
      "2022-01-07 12:25:38.844278: I tensorflow/core/grappler/optimizers/custom_graph_optimizer_registry.cc:112] Plugin optimizer for device_type GPU is enabled.\n",
      "2022-01-07 12:26:33.445240: I tensorflow/core/grappler/optimizers/custom_graph_optimizer_registry.cc:112] Plugin optimizer for device_type GPU is enabled.\n",
      "2022-01-07 12:26:33.914620: I tensorflow/core/grappler/optimizers/custom_graph_optimizer_registry.cc:112] Plugin optimizer for device_type GPU is enabled.\n",
      "2022-01-07 12:27:23.176708: I tensorflow/core/grappler/optimizers/custom_graph_optimizer_registry.cc:112] Plugin optimizer for device_type GPU is enabled.\n",
      "2022-01-07 12:27:23.617689: I tensorflow/core/grappler/optimizers/custom_graph_optimizer_registry.cc:112] Plugin optimizer for device_type GPU is enabled.\n",
      "2022-01-07 12:28:14.784194: I tensorflow/core/grappler/optimizers/custom_graph_optimizer_registry.cc:112] Plugin optimizer for device_type GPU is enabled.\n",
      "2022-01-07 12:28:15.258721: I tensorflow/core/grappler/optimizers/custom_graph_optimizer_registry.cc:112] Plugin optimizer for device_type GPU is enabled.\n",
      "2022-01-07 12:29:05.069767: I tensorflow/core/grappler/optimizers/custom_graph_optimizer_registry.cc:112] Plugin optimizer for device_type GPU is enabled.\n",
      "2022-01-07 12:29:05.799627: I tensorflow/core/grappler/optimizers/custom_graph_optimizer_registry.cc:112] Plugin optimizer for device_type GPU is enabled.\n",
      "2022-01-07 12:29:58.063234: I tensorflow/core/grappler/optimizers/custom_graph_optimizer_registry.cc:112] Plugin optimizer for device_type GPU is enabled.\n",
      "2022-01-07 12:29:58.539197: I tensorflow/core/grappler/optimizers/custom_graph_optimizer_registry.cc:112] Plugin optimizer for device_type GPU is enabled.\n",
      "2022-01-07 12:30:50.115181: I tensorflow/core/grappler/optimizers/custom_graph_optimizer_registry.cc:112] Plugin optimizer for device_type GPU is enabled.\n",
      "2022-01-07 12:30:50.560530: I tensorflow/core/grappler/optimizers/custom_graph_optimizer_registry.cc:112] Plugin optimizer for device_type GPU is enabled.\n",
      "2022-01-07 12:31:42.159560: I tensorflow/core/grappler/optimizers/custom_graph_optimizer_registry.cc:112] Plugin optimizer for device_type GPU is enabled.\n",
      "2022-01-07 12:31:42.635588: I tensorflow/core/grappler/optimizers/custom_graph_optimizer_registry.cc:112] Plugin optimizer for device_type GPU is enabled.\n",
      "2022-01-07 12:32:32.851151: I tensorflow/core/grappler/optimizers/custom_graph_optimizer_registry.cc:112] Plugin optimizer for device_type GPU is enabled.\n",
      "2022-01-07 12:32:33.301949: I tensorflow/core/grappler/optimizers/custom_graph_optimizer_registry.cc:112] Plugin optimizer for device_type GPU is enabled.\n",
      "2022-01-07 12:33:25.373308: I tensorflow/core/grappler/optimizers/custom_graph_optimizer_registry.cc:112] Plugin optimizer for device_type GPU is enabled.\n",
      "2022-01-07 12:33:25.894588: I tensorflow/core/grappler/optimizers/custom_graph_optimizer_registry.cc:112] Plugin optimizer for device_type GPU is enabled.\n",
      "2022-01-07 12:34:15.901604: I tensorflow/core/grappler/optimizers/custom_graph_optimizer_registry.cc:112] Plugin optimizer for device_type GPU is enabled.\n",
      "2022-01-07 12:34:16.391144: I tensorflow/core/grappler/optimizers/custom_graph_optimizer_registry.cc:112] Plugin optimizer for device_type GPU is enabled.\n",
      "2022-01-07 12:35:09.498158: I tensorflow/core/grappler/optimizers/custom_graph_optimizer_registry.cc:112] Plugin optimizer for device_type GPU is enabled.\n",
      "2022-01-07 12:35:10.002461: I tensorflow/core/grappler/optimizers/custom_graph_optimizer_registry.cc:112] Plugin optimizer for device_type GPU is enabled.\n",
      "2022-01-07 12:36:00.507890: I tensorflow/core/grappler/optimizers/custom_graph_optimizer_registry.cc:112] Plugin optimizer for device_type GPU is enabled.\n",
      "2022-01-07 12:36:01.010051: I tensorflow/core/grappler/optimizers/custom_graph_optimizer_registry.cc:112] Plugin optimizer for device_type GPU is enabled.\n",
      "2022-01-07 12:36:52.815485: I tensorflow/core/grappler/optimizers/custom_graph_optimizer_registry.cc:112] Plugin optimizer for device_type GPU is enabled.\n",
      "2022-01-07 12:36:53.631533: I tensorflow/core/grappler/optimizers/custom_graph_optimizer_registry.cc:112] Plugin optimizer for device_type GPU is enabled.\n",
      "2022-01-07 12:37:43.970705: I tensorflow/core/grappler/optimizers/custom_graph_optimizer_registry.cc:112] Plugin optimizer for device_type GPU is enabled.\n",
      "2022-01-07 12:37:44.414038: I tensorflow/core/grappler/optimizers/custom_graph_optimizer_registry.cc:112] Plugin optimizer for device_type GPU is enabled.\n",
      "2022-01-07 12:38:35.989923: I tensorflow/core/grappler/optimizers/custom_graph_optimizer_registry.cc:112] Plugin optimizer for device_type GPU is enabled.\n",
      "2022-01-07 12:38:36.494516: I tensorflow/core/grappler/optimizers/custom_graph_optimizer_registry.cc:112] Plugin optimizer for device_type GPU is enabled.\n",
      "2022-01-07 12:39:27.220907: I tensorflow/core/grappler/optimizers/custom_graph_optimizer_registry.cc:112] Plugin optimizer for device_type GPU is enabled.\n",
      "2022-01-07 12:39:27.700202: I tensorflow/core/grappler/optimizers/custom_graph_optimizer_registry.cc:112] Plugin optimizer for device_type GPU is enabled.\n",
      "2022-01-07 12:40:19.014755: I tensorflow/core/grappler/optimizers/custom_graph_optimizer_registry.cc:112] Plugin optimizer for device_type GPU is enabled.\n",
      "2022-01-07 12:40:19.513139: I tensorflow/core/grappler/optimizers/custom_graph_optimizer_registry.cc:112] Plugin optimizer for device_type GPU is enabled.\n",
      "2022-01-07 12:41:09.478906: I tensorflow/core/grappler/optimizers/custom_graph_optimizer_registry.cc:112] Plugin optimizer for device_type GPU is enabled.\n",
      "2022-01-07 12:41:09.953429: I tensorflow/core/grappler/optimizers/custom_graph_optimizer_registry.cc:112] Plugin optimizer for device_type GPU is enabled.\n"
     ]
    },
    {
     "name": "stderr",
     "output_type": "stream",
     "text": [
      "2022-01-07 12:42:00.810185: I tensorflow/core/grappler/optimizers/custom_graph_optimizer_registry.cc:112] Plugin optimizer for device_type GPU is enabled.\n",
      "2022-01-07 12:42:01.335357: I tensorflow/core/grappler/optimizers/custom_graph_optimizer_registry.cc:112] Plugin optimizer for device_type GPU is enabled.\n",
      "2022-01-07 12:42:51.578456: I tensorflow/core/grappler/optimizers/custom_graph_optimizer_registry.cc:112] Plugin optimizer for device_type GPU is enabled.\n",
      "2022-01-07 12:42:52.074109: I tensorflow/core/grappler/optimizers/custom_graph_optimizer_registry.cc:112] Plugin optimizer for device_type GPU is enabled.\n",
      "2022-01-07 12:43:43.253219: I tensorflow/core/grappler/optimizers/custom_graph_optimizer_registry.cc:112] Plugin optimizer for device_type GPU is enabled.\n",
      "2022-01-07 12:43:43.772148: I tensorflow/core/grappler/optimizers/custom_graph_optimizer_registry.cc:112] Plugin optimizer for device_type GPU is enabled.\n",
      "2022-01-07 12:44:37.342558: I tensorflow/core/grappler/optimizers/custom_graph_optimizer_registry.cc:112] Plugin optimizer for device_type GPU is enabled.\n"
     ]
    }
   ],
   "source": [
    "tf.get_logger().setLevel('ERROR')\n",
    "\n",
    "learning_rates = [0.001, 0.005, 0.01]\n",
    "batch_sizes = [1, 4, 8, 16, 32]\n",
    "loss_functions = ['mean_squared_error', root_mean_squared_error]\n",
    "\n",
    "all_train_RMSE = []\n",
    "all_test_RMSE = []\n",
    "\n",
    "for learning_rate in learning_rates:\n",
    "    for batch_size in batch_sizes:\n",
    "        for loss_function in loss_functions:\n",
    "            model = Model(inputs=inp, outputs=[out1,out2])\n",
    "            model.compile(optimizer=tf.keras.optimizers.Adam(learning_rate=0.001), loss = loss_function)\n",
    "\n",
    "            model.fit(train[0], [train[1], train[2]], epochs=200, batch_size=32, verbose=0)\n",
    "            \n",
    "            trainScore = model.evaluate(train[0], [train[1], train[2]], verbose=0)\n",
    "            testScore = model.evaluate(test[0], [test[1], test[2]], verbose=0)\n",
    "            \n",
    "            if loss_function == 'mean_squared_error':\n",
    "                all_train_RMSE.append(np.sqrt(trainScore[0]))\n",
    "                all_test_RMSE.append(np.sqrt(testScore[0]))\n",
    "                #Wprint(\"Learning rate: %.3f, batch size: %i, loss function: %s\" % (learning_rate, batch_size, loss_function))\n",
    "                #print('Train Score: %.2f MSE (%.2f RMSE)' % (trainScore[0], np.sqrt(trainScore[0])))\n",
    "                #print('Test Score: %.2f MSE (%.2f RMSE)' % (testScore[0], np.sqrt(testScore[0])))\n",
    "            else:\n",
    "                all_train_RMSE.append(trainScore[0])\n",
    "                all_test_RMSE.append(testScore[0])\n",
    "                #print(\"Learning rate: %.3f, batch size: %i, loss function: %s\" % (learning_rate, batch_size, loss_function.__name__))\n",
    "                #print('Train Score: %.2f RMSE' % (trainScore[0]))\n",
    "                #print('Test Score: %.2f RMSE' % (testScore[0]))\n"
   ]
  },
  {
   "cell_type": "code",
   "execution_count": 55,
   "id": "ceb279c3",
   "metadata": {},
   "outputs": [
    {
     "name": "stdout",
     "output_type": "stream",
     "text": [
      "Learning rate: 0.001, batch size: 1, loss function: mean_squared_error\n",
      "Train Score: 0.46 RMSE\n",
      "Test Score: 1.23 RMSE\n",
      "\n",
      "Learning rate: 0.001, batch size: 1, loss function: root_mean_squared_error\n",
      "Train Score: 0.65 RMSE\n",
      "Test Score: 1.68 RMSE\n",
      "\n",
      "Learning rate: 0.001, batch size: 4, loss function: mean_squared_error\n",
      "Train Score: 0.45 RMSE\n",
      "Test Score: 1.24 RMSE\n",
      "\n",
      "Learning rate: 0.001, batch size: 4, loss function: root_mean_squared_error\n",
      "Train Score: 0.65 RMSE\n",
      "Test Score: 1.69 RMSE\n",
      "\n",
      "Learning rate: 0.001, batch size: 8, loss function: mean_squared_error\n",
      "Train Score: 0.45 RMSE\n",
      "Test Score: 1.27 RMSE\n",
      "\n",
      "Learning rate: 0.001, batch size: 8, loss function: root_mean_squared_error\n",
      "Train Score: 0.64 RMSE\n",
      "Test Score: 1.72 RMSE\n",
      "\n",
      "Learning rate: 0.001, batch size: 16, loss function: mean_squared_error\n",
      "Train Score: 0.46 RMSE\n",
      "Test Score: 1.30 RMSE\n",
      "\n",
      "Learning rate: 0.001, batch size: 16, loss function: root_mean_squared_error\n",
      "Train Score: 0.63 RMSE\n",
      "Test Score: 1.70 RMSE\n",
      "\n",
      "Learning rate: 0.001, batch size: 32, loss function: mean_squared_error\n",
      "Train Score: 0.48 RMSE\n",
      "Test Score: 1.28 RMSE\n",
      "\n",
      "Learning rate: 0.001, batch size: 32, loss function: root_mean_squared_error\n",
      "Train Score: 0.60 RMSE\n",
      "Test Score: 1.70 RMSE\n",
      "\n",
      "Learning rate: 0.005, batch size: 1, loss function: mean_squared_error\n",
      "Train Score: 0.44 RMSE\n",
      "Test Score: 1.28 RMSE\n",
      "\n",
      "Learning rate: 0.005, batch size: 1, loss function: root_mean_squared_error\n",
      "Train Score: 0.62 RMSE\n",
      "Test Score: 1.71 RMSE\n",
      "\n",
      "Learning rate: 0.005, batch size: 4, loss function: mean_squared_error\n",
      "Train Score: 0.42 RMSE\n",
      "Test Score: 1.32 RMSE\n",
      "\n",
      "Learning rate: 0.005, batch size: 4, loss function: root_mean_squared_error\n",
      "Train Score: 0.58 RMSE\n",
      "Test Score: 1.70 RMSE\n",
      "\n",
      "Learning rate: 0.005, batch size: 8, loss function: mean_squared_error\n",
      "Train Score: 0.43 RMSE\n",
      "Test Score: 1.31 RMSE\n",
      "\n",
      "Learning rate: 0.005, batch size: 8, loss function: root_mean_squared_error\n",
      "Train Score: 0.58 RMSE\n",
      "Test Score: 1.74 RMSE\n",
      "\n",
      "Learning rate: 0.005, batch size: 16, loss function: mean_squared_error\n",
      "Train Score: 0.42 RMSE\n",
      "Test Score: 1.34 RMSE\n",
      "\n",
      "Learning rate: 0.005, batch size: 16, loss function: root_mean_squared_error\n",
      "Train Score: 0.59 RMSE\n",
      "Test Score: 1.76 RMSE\n",
      "\n",
      "Learning rate: 0.005, batch size: 32, loss function: mean_squared_error\n",
      "Train Score: 0.42 RMSE\n",
      "Test Score: 1.32 RMSE\n",
      "\n",
      "Learning rate: 0.005, batch size: 32, loss function: root_mean_squared_error\n",
      "Train Score: 0.56 RMSE\n",
      "Test Score: 1.78 RMSE\n",
      "\n",
      "Learning rate: 0.010, batch size: 1, loss function: mean_squared_error\n",
      "Train Score: 0.41 RMSE\n",
      "Test Score: 1.34 RMSE\n",
      "\n",
      "Learning rate: 0.010, batch size: 1, loss function: root_mean_squared_error\n",
      "Train Score: 0.59 RMSE\n",
      "Test Score: 1.77 RMSE\n",
      "\n",
      "Learning rate: 0.010, batch size: 4, loss function: mean_squared_error\n",
      "Train Score: 0.40 RMSE\n",
      "Test Score: 1.36 RMSE\n",
      "\n",
      "Learning rate: 0.010, batch size: 4, loss function: root_mean_squared_error\n",
      "Train Score: 0.58 RMSE\n",
      "Test Score: 1.80 RMSE\n",
      "\n",
      "Learning rate: 0.010, batch size: 8, loss function: mean_squared_error\n",
      "Train Score: 0.42 RMSE\n",
      "Test Score: 1.39 RMSE\n",
      "\n",
      "Learning rate: 0.010, batch size: 8, loss function: root_mean_squared_error\n",
      "Train Score: 0.56 RMSE\n",
      "Test Score: 1.80 RMSE\n",
      "\n",
      "Learning rate: 0.010, batch size: 16, loss function: mean_squared_error\n",
      "Train Score: 0.44 RMSE\n",
      "Test Score: 1.34 RMSE\n",
      "\n",
      "Learning rate: 0.010, batch size: 16, loss function: root_mean_squared_error\n",
      "Train Score: 0.55 RMSE\n",
      "Test Score: 1.85 RMSE\n",
      "\n",
      "Learning rate: 0.010, batch size: 32, loss function: mean_squared_error\n",
      "Train Score: 0.40 RMSE\n",
      "Test Score: 1.42 RMSE\n",
      "\n",
      "Learning rate: 0.010, batch size: 32, loss function: root_mean_squared_error\n",
      "Train Score: 0.55 RMSE\n",
      "Test Score: 1.86 RMSE\n",
      "\n"
     ]
    }
   ],
   "source": [
    "best_learning_rate = None\n",
    "best_batch_size = None\n",
    "best_loss_function = None\n",
    "best_test_rmse = min(all_test_RMSE)\n",
    "best_test_rmse_idx = all_test_RMSE.index(best_test_rmse)\n",
    "\n",
    "rmse_idx = 0\n",
    "for learning_rate in learning_rates:\n",
    "    for batch_size in batch_sizes:\n",
    "        for loss_function in loss_functions:\n",
    "            \n",
    "            if rmse_idx == best_test_rmse_idx:\n",
    "                best_learning_rate = learning_rate\n",
    "                best_batch_size = batch_size\n",
    "                if loss_function == 'mean_squared_error':\n",
    "                    best_loss_function = loss_function\n",
    "                else:\n",
    "                    best_loss_function = loss_function.__name__\n",
    "            \n",
    "            if loss_function == 'mean_squared_error':\n",
    "                print(\"Learning rate: %.3f, batch size: %i, loss function: %s\" % (learning_rate, batch_size, loss_function))\n",
    "            else:\n",
    "                print(\"Learning rate: %.3f, batch size: %i, loss function: %s\" % (learning_rate, batch_size, loss_function.__name__))\n",
    "            print('Train Score: %.2f RMSE' % (all_train_RMSE[rmse_idx]))\n",
    "            print('Test Score: %.2f RMSE' % (all_test_RMSE[rmse_idx]))\n",
    "            print()\n",
    "            rmse_idx += 1"
   ]
  },
  {
   "cell_type": "code",
   "execution_count": 56,
   "id": "7336ba82",
   "metadata": {},
   "outputs": [
    {
     "name": "stdout",
     "output_type": "stream",
     "text": [
      "Best test RMSE:  1.2300382315113683\n",
      "Best learning rate:  0.001\n",
      "Best batch size:  1\n",
      "Best loss function:  mean_squared_error\n"
     ]
    }
   ],
   "source": [
    "print(\"Best test RMSE: \", best_test_rmse)\n",
    "print(\"Best learning rate: \", best_learning_rate)\n",
    "print(\"Best batch size: \", best_batch_size)\n",
    "print(\"Best loss function: \", best_loss_function)"
   ]
  },
  {
   "cell_type": "code",
   "execution_count": null,
   "id": "a67cb5f8",
   "metadata": {},
   "outputs": [],
   "source": []
  }
 ],
 "metadata": {
  "accelerator": "TPU",
  "colab": {
   "collapsed_sections": [],
   "include_colab_link": true,
   "name": "Edinburgh-NN-over-all-data.ipynb",
   "provenance": []
  },
  "kernelspec": {
   "display_name": "Python 3 (ipykernel)",
   "language": "python",
   "name": "python3"
  },
  "language_info": {
   "codemirror_mode": {
    "name": "ipython",
    "version": 3
   },
   "file_extension": ".py",
   "mimetype": "text/x-python",
   "name": "python",
   "nbconvert_exporter": "python",
   "pygments_lexer": "ipython3",
   "version": "3.9.0"
  }
 },
 "nbformat": 4,
 "nbformat_minor": 5
}
