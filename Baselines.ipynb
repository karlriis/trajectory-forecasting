{
 "cells": [
  {
   "cell_type": "markdown",
   "id": "97ecbccf",
   "metadata": {},
   "source": [
    "## Baselines\n",
    "1) Average delta x, delta y as a constant for all future (5) timepoints  \n",
    "2) Last delta x, delta y as a constant  \n",
    "3) Discounted average as a constant  \n",
    "4) Average acceleration model (delta delta x, y)  \n",
    "5) Last acceleration  \n",
    "6) Discounted average acceleration  \n",
    "7) Angle change and speed change as constants"
   ]
  },
  {
   "cell_type": "code",
   "execution_count": null,
   "id": "0f237bfb",
   "metadata": {},
   "outputs": [],
   "source": []
  }
 ],
 "metadata": {
  "kernelspec": {
   "display_name": "Python 3 (ipykernel)",
   "language": "python",
   "name": "python3"
  },
  "language_info": {
   "codemirror_mode": {
    "name": "ipython",
    "version": 3
   },
   "file_extension": ".py",
   "mimetype": "text/x-python",
   "name": "python",
   "nbconvert_exporter": "python",
   "pygments_lexer": "ipython3",
   "version": "3.9.0"
  }
 },
 "nbformat": 4,
 "nbformat_minor": 5
}
