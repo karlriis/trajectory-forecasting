{
 "cells": [
  {
   "cell_type": "markdown",
   "id": "ac2cc211",
   "metadata": {},
   "source": [
    "# Analysis of the performance of our method"
   ]
  },
  {
   "cell_type": "code",
   "execution_count": 15,
   "id": "0fa63848",
   "metadata": {},
   "outputs": [],
   "source": [
    "from matplotlib import pyplot as plt\n",
    "import numpy as np\n",
    "import pandas as pd\n",
    "import math\n",
    "import scipy.stats as st\n",
    "from sklearn.cluster import KMeans\n",
    "from tqdm import tqdm\n",
    "\n",
    "def get_model(params):\n",
    "    if np.random.rand() < params['CONST_VEL_MODEL_PROB']:\n",
    "        return 'CONST_VEL'\n",
    "    else:\n",
    "        return 'CONST_VEL_W_ROTATION'\n",
    "    \n",
    "def get_action(params):\n",
    "    if np.random.rand() < params['STOP_PROB']:\n",
    "        return 'STOP'\n",
    "    if np.random.rand() < params['VELOCITY_CHANGE_PROB']:\n",
    "        return 'VELOCITY_CHANGE'\n",
    "    if np.random.rand() < params['ANGLE_CHANGE_PROB']:\n",
    "        return 'ANGLE_CHANGE'\n",
    "    return None\n",
    "\n",
    "# Decide whether to use average or discounted average as const velocity\n",
    "def get_const_vel(params, sample_vel_x, sample_vel_y):\n",
    "    if np.random.rand() < params['DISCOUNT_AVG_PROB']:\n",
    "        discount = np.random.uniform(low=params['DISCOUNT_LOWER_BOUND'])\n",
    "        const_vel_x = (discount**3*sample_vel_x[0] + discount**2*sample_vel_x[1] + discount*sample_vel_x[2] + sample_vel_x[3]) / (discount**3 + discount**2 + discount + 1)\n",
    "        const_vel_y = (discount**3*sample_vel_y[0] + discount**2*sample_vel_y[1] + discount*sample_vel_y[2] + sample_vel_y[3]) / (discount**3 + discount**2 + discount + 1)\n",
    "    else:\n",
    "        const_vel_x = np.mean(sample_vel_x)\n",
    "        const_vel_y = np.mean(sample_vel_y)\n",
    "        \n",
    "    return const_vel_x, const_vel_y\n",
    "\n",
    "# Decide whether to use average or discounted average angle\n",
    "def get_angle(params, sample_vel_x, sample_vel_y):\n",
    "    all_angles = []\n",
    "    for i in range(1, len(sample_vel_x)):\n",
    "        prev_vel = [sample_vel_x[i-1], sample_vel_y[i-1]]\n",
    "        curr_vel = [sample_vel_x[i], sample_vel_y[i]]\n",
    "        one_angle = np.math.atan2(np.linalg.det([prev_vel, curr_vel]),np.dot(prev_vel, curr_vel))   \n",
    "        all_angles.append(one_angle)\n",
    "    \n",
    "    if np.random.rand() < params['DISCOUNT_AVG_PROB']:\n",
    "        discount = np.random.uniform(low=params['DISCOUNT_LOWER_BOUND'])\n",
    "        angle = (discount**2*all_angles[0] + discount*all_angles[1] + all_angles[2]) / (discount**2 + discount + 1)\n",
    "    else:\n",
    "        angle = np.mean(all_angles)\n",
    "    return angle\n",
    "\n",
    "def calculate_FDE(pred_x, pred_y, test_x, test_y):\n",
    "\n",
    "    final_displacement_x = pred_x[-1] - test_x[-1]\n",
    "    final_displacement_y = pred_y[-1] - test_y[-1]\n",
    "    FDE = np.sqrt(final_displacement_x**2 + final_displacement_y**2)\n",
    "    \n",
    "    return FDE\n",
    "\n",
    "def rotate(origin, point, angle):\n",
    "    \"\"\"\n",
    "    Rotate a point counterclockwise by a given angle around a given origin.\n",
    "\n",
    "    The angle should be given in radians.\n",
    "    \"\"\"\n",
    "    ox, oy = origin\n",
    "    px, py = point\n",
    "\n",
    "    qx = ox + math.cos(angle) * (px - ox) - math.sin(angle) * (py - oy)\n",
    "    qy = oy + math.sin(angle) * (px - ox) + math.cos(angle) * (py - oy)\n",
    "    return qx, qy\n",
    "\n",
    "def generate_trajectory(sample_x, sample_y, params, length=5):\n",
    "    # calculate velocity data\n",
    "    sample_vel_x = [(sample_x[i] - sample_x[i-1]) + np.random.normal(0, params['NOISE']) for i in range(1, len(sample_x))]\n",
    "    sample_vel_y = [(sample_y[i] - sample_y[i-1]) + np.random.normal(0, params['NOISE']) for i in range(1, len(sample_y))]\n",
    "    \n",
    "    const_vel_x, const_vel_y = get_const_vel(params, sample_vel_x, sample_vel_y)\n",
    "    angle = get_angle(params, sample_vel_x, sample_vel_y)\n",
    "    \n",
    "    # start predicting\n",
    "    pred_x = []\n",
    "    pred_y = []\n",
    "    model = get_model(params)\n",
    "    for i in range(length):\n",
    "        action = get_action(params)\n",
    "        if action == 'STOP':\n",
    "            if len(pred_x) == 0:\n",
    "                pred_x.append(sample_x[-1])\n",
    "                pred_y.append(sample_y[-1])\n",
    "            else:\n",
    "                pred_x.append(pred_x[-1])\n",
    "                pred_y.append(pred_y[-1])\n",
    "            continue\n",
    "            \n",
    "        elif action == 'VELOCITY_CHANGE':\n",
    "            const_vel_x = const_vel_x + np.random.normal(0, params['VELOCITY_CHANGE_NOISE'])\n",
    "            const_vel_y = const_vel_y + np.random.normal(0, params['VELOCITY_CHANGE_NOISE'])\n",
    "        elif action == 'ANGLE_CHANGE':\n",
    "            angle = angle + np.random.normal(0, params['ANGLE_CHANGE_NOISE'])\n",
    "        \n",
    "        if model == 'CONST_VEL':\n",
    "            if len(pred_x) == 0:\n",
    "                pred_x.append(sample_x[-1] + const_vel_x)\n",
    "                pred_y.append(sample_y[-1] + const_vel_y)\n",
    "            else:\n",
    "                pred_x.append(pred_x[-1] + const_vel_x)\n",
    "                pred_y.append(pred_y[-1] + const_vel_y)\n",
    "        elif model == 'CONST_VEL_W_ROTATION':\n",
    "            if len(pred_x) == 0:\n",
    "                prev_x = sample_x[-2]\n",
    "                prev_y = sample_y[-2]\n",
    "                cur_x = sample_x[-1] + const_vel_x\n",
    "                cur_y = sample_y[-1] + const_vel_y\n",
    "            else:\n",
    "                prev_x = pred_x[-1]\n",
    "                prev_y = pred_y[-1]\n",
    "                cur_x = pred_x[-1] + const_vel_x\n",
    "                cur_y = pred_y[-1] + const_vel_y\n",
    "            rot_x, rot_y = rotate((prev_x, prev_y), (cur_x, cur_y), angle)\n",
    "            pred_x.append(rot_x)\n",
    "            pred_y.append(rot_y)\n",
    "            \n",
    "            # redefine the average velocity as it now has a new heading\n",
    "            const_vel_x = rot_x - prev_x\n",
    "            const_vel_y = rot_y - prev_y\n",
    "        \n",
    "    return pred_x, pred_y\n",
    "            \n",
    "def run_KMeans(pred_x_list, pred_y_list, no_of_clusters):\n",
    "    final_points = []\n",
    "    # this can be optimized as this is done in the parent method already\n",
    "    for i in range(len(pred_x_list)):\n",
    "        final_points.append([pred_x_list[i][-1], pred_y_list[i][-1]])\n",
    "    \n",
    "    Kmean = KMeans(n_clusters=no_of_clusters)\n",
    "    Kmean.fit(final_points)\n",
    "\n",
    "    cluster_avg_x, cluster_avg_y, no_of_elements_per_cluster = get_clustered_averages(pred_x_list, pred_y_list, no_of_clusters, Kmean.labels_)\n",
    "    # Should probably also return labels or do the averaged clusters already contain them?\n",
    "    return cluster_avg_x, cluster_avg_y, no_of_elements_per_cluster\n",
    "\n",
    "def get_clustered_averages(all_pred_x, all_pred_y, no_of_clusters, cluster_labels):\n",
    "    no_of_elements_per_cluster = []\n",
    "    for i in range(no_of_clusters):\n",
    "        no_of_elements_per_cluster.append((cluster_labels == i).sum())\n",
    "    \n",
    "    clustered_preds_x = [[] for _ in range(no_of_clusters)]\n",
    "    clustered_preds_y = [[] for _ in range(no_of_clusters)]\n",
    "\n",
    "    for idx, cluster_label in enumerate(cluster_labels):\n",
    "        clustered_preds_x[cluster_label].append(all_pred_x[idx])\n",
    "        clustered_preds_y[cluster_label].append(all_pred_y[idx])\n",
    "        \n",
    "    cluster_avg_x = [[] for _ in range(no_of_clusters)]\n",
    "    cluster_avg_y = [[] for _ in range(no_of_clusters)]\n",
    "    \n",
    "    for i in range(no_of_clusters):\n",
    "        cluster_avg_x[i] = np.mean(clustered_preds_x[i], axis=0)\n",
    "        cluster_avg_y[i] = np.mean(clustered_preds_y[i], axis=0)\n",
    "        \n",
    "    return cluster_avg_x, cluster_avg_y, no_of_elements_per_cluster\n",
    "\n",
    "def predict(sample_x, sample_y, params, trajectory_length=5):\n",
    "    all_pred_x, all_pred_y = [], []\n",
    "    all_final_x, all_final_y = [], []\n",
    "    \n",
    "    for i in range(params['NO_OF_TRAJECTORIES']):\n",
    "        pred_x, pred_y = generate_trajectory(sample_x, sample_y, params, trajectory_length)\n",
    "        all_pred_x.append(pred_x)\n",
    "        all_pred_y.append(pred_y)\n",
    "        \n",
    "        all_final_x.append(pred_x[-1])\n",
    "        all_final_y.append(pred_y[-1])\n",
    "    \n",
    "    # run kernel density estimate\n",
    "    values = np.vstack([all_final_x, all_final_y])\n",
    "    kernel = st.gaussian_kde(values)\n",
    "    # evaluate trajectories\n",
    "    evaluated = kernel.evaluate(values)\n",
    "    # find the sorting order for the trajectories based on KDE pdf\n",
    "    sorting_order = evaluated.argsort()[::-1] # Note: the sorting order is ascending by default, [::-1] reverses the order (might be too slow though?)\n",
    "    \n",
    "    # sort predictions by KDE density\n",
    "    sorted_all_pred_x = np.array(all_pred_x)[sorting_order]\n",
    "    sorted_all_pred_y = np.array(all_pred_y)[sorting_order]\n",
    "    \n",
    "    # distribute the data to representative sets\n",
    "    no_of_traj = len(sorted_all_pred_x)\n",
    "\n",
    "    \n",
    "    # find the closest TOP% (first cluster size) of trajectories for the highest density trajectory\n",
    "    highest_density_x = sorted_all_pred_x[0]\n",
    "    highest_density_y = sorted_all_pred_y[0]\n",
    "    largest_distance = None\n",
    "    closest_indexes = np.array([], dtype=np.int8)\n",
    "    closest_distances = np.array([])\n",
    "    \n",
    "    for idx in range(len(sorted_all_pred_x)):\n",
    "        distance = calculate_FDE(highest_density_x, highest_density_y, sorted_all_pred_x[idx], sorted_all_pred_y[idx])\n",
    "        \n",
    "        if len(closest_indexes) < no_of_traj*params['GROUP_PERCENTAGES'][0]:\n",
    "            closest_indexes = np.append(closest_indexes, idx)\n",
    "            closest_distances = np.append(closest_distances, distance)\n",
    "            if largest_distance == None or largest_distance < distance:\n",
    "                largest_distance = distance\n",
    "        else:\n",
    "            if largest_distance > distance:\n",
    "                index_max = np.argmax(closest_distances)\n",
    "                closest_indexes[index_max] = idx\n",
    "                closest_distances[index_max] = distance\n",
    "                largest_distance = np.amax(closest_distances)\n",
    "    \n",
    "    closest_x = sorted_all_pred_x[closest_indexes]\n",
    "    closest_y = sorted_all_pred_y[closest_indexes]\n",
    "\n",
    "    # remove the closest trajectories from the data...\n",
    "    sorted_all_pred_x = np.delete(sorted_all_pred_x, closest_indexes, axis=0)\n",
    "    sorted_all_pred_y = np.delete(sorted_all_pred_y, closest_indexes, axis=0)\n",
    "    \n",
    "    # ...and move them to the front of the array\n",
    "    sorted_all_pred_x = np.append(closest_x, sorted_all_pred_x, axis=0)\n",
    "    sorted_all_pred_y = np.append(closest_y, sorted_all_pred_y, axis=0)\n",
    "\n",
    "    # group proportions of the whole trajectories\n",
    "    first_group_end = params['GROUP_PERCENTAGES'][0]\n",
    "    second_group_end = params['GROUP_PERCENTAGES'][1]\n",
    "    third_group_end = params['GROUP_PERCENTAGES'][2]\n",
    "    fourth_group_end = params['GROUP_PERCENTAGES'][3]\n",
    "    \n",
    "    first_group_no_clusters = params['GROUP_CLUSTER_COUNT'][0]\n",
    "    second_group_no_clusters = params['GROUP_CLUSTER_COUNT'][1]\n",
    "    third_group_no_clusters = params['GROUP_CLUSTER_COUNT'][2]\n",
    "    fourth_group_no_clusters = params['GROUP_CLUSTER_COUNT'][3]\n",
    "\n",
    "    \n",
    "    # first cluster is a special case, it will contain top 20% of trajectories in a single cluster\n",
    "    first_group_x = sorted_all_pred_x[0:int(no_of_traj*first_group_end)]\n",
    "    first_group_y = sorted_all_pred_y[0:int(no_of_traj*first_group_end)]\n",
    "      \n",
    "    second_group_x = sorted_all_pred_x[int(no_of_traj*first_group_end):int(no_of_traj*second_group_end)]\n",
    "    second_group_y = sorted_all_pred_y[int(no_of_traj*first_group_end):int(no_of_traj*second_group_end)]\n",
    "    \n",
    "    third_group_x = sorted_all_pred_x[int(no_of_traj*second_group_end):int(no_of_traj*third_group_end)]\n",
    "    third_group_y = sorted_all_pred_y[int(no_of_traj*second_group_end):int(no_of_traj*third_group_end)]\n",
    "    \n",
    "    fourth_group_x = sorted_all_pred_x[int(no_of_traj*third_group_end):int(no_of_traj*fourth_group_end)]\n",
    "    fourth_group_y = sorted_all_pred_y[int(no_of_traj*third_group_end):int(no_of_traj*fourth_group_end)]\n",
    "    \n",
    "    second_group_data = run_KMeans(second_group_x, second_group_y, no_of_clusters=second_group_no_clusters)\n",
    "    third_group_data = run_KMeans(third_group_x, third_group_y, no_of_clusters=third_group_no_clusters)\n",
    "    fourth_group_data = run_KMeans(fourth_group_x, fourth_group_y, no_of_clusters=fourth_group_no_clusters)\n",
    "    \n",
    "    # assign the mean trajectories and weights\n",
    "    # Note: first group only has 1 trajectory and 1 weight\n",
    "    first_c_pred_x = np.mean(first_group_x, axis=0)\n",
    "    first_c_pred_y = np.mean(first_group_y, axis=0)\n",
    "    first_c_no_of_traj = len(first_group_x)/no_of_traj\n",
    "    \n",
    "    # Rest of the clusters have 5 trajectories and a weight for each of them\n",
    "    second_c_pred_x, second_c_pred_y, second_c_no_of_traj = second_group_data\n",
    "    third_c_pred_x, third_c_pred_y, third_c_no_of_traj = third_group_data\n",
    "    fourth_c_pred_x, fourth_c_pred_y, fourth_c_no_of_traj = fourth_group_data\n",
    "   \n",
    "    # Return (all_x_predictions, all_y_predictions, all_weights)\n",
    "    return (\n",
    "        [first_c_pred_x, *second_c_pred_x, *third_c_pred_x, *fourth_c_pred_x],\n",
    "        [first_c_pred_y, *second_c_pred_y, *third_c_pred_y, *fourth_c_pred_y],\n",
    "        [\n",
    "            first_c_no_of_traj, \n",
    "            *[i/no_of_traj for i in second_c_no_of_traj], \n",
    "            *[i/no_of_traj for i in third_c_no_of_traj], \n",
    "            *[i/no_of_traj for i in fourth_c_no_of_traj]\n",
    "        ]\n",
    "    )\n",
    "    "
   ]
  },
  {
   "cell_type": "code",
   "execution_count": null,
   "id": "e12caf12",
   "metadata": {},
   "outputs": [],
   "source": []
  },
  {
   "cell_type": "code",
   "execution_count": 6,
   "id": "b9ba25ad",
   "metadata": {},
   "outputs": [
    {
     "name": "stderr",
     "output_type": "stream",
     "text": [
      "/Users/kriis/miniforge3/envs/tensorflow_m1/lib/python3.9/site-packages/pandas/util/_decorators.py:311: ParserWarning: Falling back to the 'python' engine because the 'c' engine does not support regex separators (separators > 1 char and different from '\\s+' are interpreted as regex); you can avoid this warning by specifying engine='python'.\n",
      "  return func(*args, **kwargs)\n"
     ]
    },
    {
     "name": "stdout",
     "output_type": "stream",
     "text": [
      "reading:./OpenTraj/datasets/Edinburgh/annotations/tracks.01Sep.txt\n"
     ]
    },
    {
     "name": "stderr",
     "output_type": "stream",
     "text": [
      "100%|██████████████████████████████████████████████████████████████████████████████████| 2342/2342 [01:02<00:00, 37.21it/s]\n"
     ]
    },
    {
     "name": "stdout",
     "output_type": "stream",
     "text": [
      "Warning! too big dt in [Edinburgh]\n",
      "finish\n"
     ]
    }
   ],
   "source": [
    "from data_processing import read_edinburgh_data \n",
    "edinburgh_data, edinburgh_agent_ids = read_edinburgh_data()\n",
    "\n",
    "from data_processing import read_UCY_data\n",
    "ucy_data, ucy_agent_ids = read_UCY_data()\n",
    "\n",
    "from data_processing import read_HERMES_data\n",
    "hermes_data, hermes_agent_ids = read_HERMES_data(sampling_rate=1)\n",
    "\n",
    "from data_processing import read_eth_data\n",
    "eth_data, eth_agent_ids = read_eth_data(sampling_rate=1)"
   ]
  },
  {
   "cell_type": "code",
   "execution_count": null,
   "id": "0ae92b56",
   "metadata": {},
   "outputs": [],
   "source": []
  },
  {
   "cell_type": "code",
   "execution_count": 17,
   "id": "7b2e6fb5",
   "metadata": {},
   "outputs": [],
   "source": [
    "def agent_data(data, agent_id):\n",
    "    x = data[\"pos_x\"].loc[data[\"agent_id\"]==agent_id].values\n",
    "    y = data[\"pos_y\"].loc[data[\"agent_id\"]==agent_id].values\n",
    "\n",
    "    max_train_idx = len(x)-10\n",
    "    \n",
    "    return x, y, max_train_idx\n",
    "\n",
    "# Sample train and test data for pos_x and pos_y, each slice with num_steps length\n",
    "def generate_data(data, begin_idx, agent_id, num_steps=5):\n",
    "    sample_x = data[\"pos_x\"].loc[data[\"agent_id\"]==agent_id][begin_idx:begin_idx+num_steps].values\n",
    "    sample_y = data[\"pos_y\"].loc[data[\"agent_id\"]==agent_id][begin_idx:begin_idx+num_steps].values\n",
    "\n",
    "    test_x = data[\"pos_x\"].loc[data[\"agent_id\"]==agent_id][begin_idx+num_steps:begin_idx+2*num_steps].values\n",
    "    test_y = data[\"pos_y\"].loc[data[\"agent_id\"]==agent_id][begin_idx+num_steps:begin_idx+2*num_steps].values\n",
    "    \n",
    "    return sample_x, sample_y, test_x, test_y\n",
    "    \n",
    "def calculate_FDE(pred_x, pred_y, test_x, test_y):\n",
    "\n",
    "    final_displacement_x = pred_x[-1] - test_x[-1]\n",
    "    final_displacement_y = pred_y[-1] - test_y[-1]\n",
    "    FDE = np.sqrt(final_displacement_x**2 + final_displacement_y**2)\n",
    "    \n",
    "    return FDE\n",
    "\n",
    "def calculate_ADE(pred_x, pred_y, test_x, test_y):\n",
    "    total_displacement_error = 0\n",
    "    for point_idx in range(len(test_x)):\n",
    "        displacement_error = np.sqrt((pred_x[point_idx] - test_x[point_idx])**2 + (pred_y[point_idx] - test_y[point_idx])**2)\n",
    "        total_displacement_error += displacement_error\n",
    "\n",
    "    return total_displacement_error/len(pred_x)\n",
    "\n",
    "def evaluate_trajectory(sample_x, sample_y, test_x, test_y, params, metric='FDE'):\n",
    "    pred_xs, pred_ys, pred_ws = predict(sample_x, sample_y, params, trajectory_length=6)\n",
    "    all_errors = []\n",
    "    for i in range(len(pred_xs)):\n",
    "        pred_x = pred_xs[i]\n",
    "        pred_y = pred_ys[i]\n",
    "        #weight = pred_ws[i]\n",
    "        \n",
    "        if metric == 'ADE':\n",
    "            error = calculate_ADE(pred_x, pred_y, test_x, test_y)\n",
    "        elif metric == 'FDE':\n",
    "            error = calculate_FDE(pred_x, pred_y, test_x, test_y)\n",
    "        else:\n",
    "            assert False\n",
    "        all_errors.append(error)\n",
    "        \n",
    "    # Find out which trajectory was the best\n",
    "    index_min_error = np.argmin(all_errors)\n",
    "    return min(all_errors), index_min_error\n",
    "\n",
    "def evaluate_on_dataset(data, agent_ids, params, metric='FDE'):\n",
    "    all_errors = []\n",
    "    best_trajectory_indexes = []\n",
    "    for agent_id in tqdm(agent_ids):\n",
    "        x_data, y_data, max_train_idx = agent_data(data, agent_id)\n",
    "\n",
    "        #for i in range(0, min(5, max_train_idx+1)):\n",
    "        for i in range(0, 1):\n",
    "            start_idx = i\n",
    "\n",
    "            sample_x, sample_y, test_x, test_y = generate_data(data, start_idx, agent_id, 6)\n",
    "            min_error, best_traj_index = evaluate_trajectory(sample_x, sample_y, test_x, test_y, params, metric=metric)\n",
    "            all_errors.append(min_error)\n",
    "            best_trajectory_indexes.append(best_traj_index)\n",
    "\n",
    "    return np.mean(all_errors), best_trajectory_indexes\n"
   ]
  },
  {
   "cell_type": "code",
   "execution_count": null,
   "id": "50e451e4",
   "metadata": {},
   "outputs": [],
   "source": []
  },
  {
   "cell_type": "code",
   "execution_count": 27,
   "id": "be60688b",
   "metadata": {},
   "outputs": [],
   "source": [
    "params = {\n",
    "    \"NOISE\": 0.05,\n",
    "    \"NO_OF_TRAJECTORIES\": 1000,\n",
    "    \"CONST_VEL_MODEL_PROB\": 0.8,\n",
    "\n",
    "    \"STOP_PROB\": 0.05,\n",
    "\n",
    "    \"DISCOUNT_AVG_PROB\": 0.5,\n",
    "    \"DISCOUNT_LOWER_BOUND\": 0.5,\n",
    "\n",
    "    \"VELOCITY_CHANGE_PROB\": 0.2,\n",
    "    \"VELOCITY_CHANGE_NOISE\": 0.1,\n",
    "\n",
    "    \"ANGLE_CHANGE_PROB\": 0.2,\n",
    "    \"ANGLE_CHANGE_NOISE\": 1,\n",
    "\n",
    "    \"GROUP_PERCENTAGES\": [0.15, 0.68, 0.95, 1.0],\n",
    "    \"GROUP_CLUSTER_COUNT\": [1, 7, 7, 5] # Total 20 traj\n",
    "}"
   ]
  },
  {
   "cell_type": "code",
   "execution_count": 28,
   "id": "c7fc11fc",
   "metadata": {},
   "outputs": [
    {
     "name": "stderr",
     "output_type": "stream",
     "text": [
      "100%|██████████████████████████████████████████████████████████████████████████████████| 1972/1972 [03:56<00:00,  8.33it/s]\n",
      "100%|████████████████████████████████████████████████████████████████████████████████████| 147/147 [00:19<00:00,  7.62it/s]\n",
      "100%|████████████████████████████████████████████████████████████████████████████████████| 309/309 [00:38<00:00,  7.94it/s]\n",
      "100%|████████████████████████████████████████████████████████████████████████████████████| 337/337 [00:42<00:00,  7.88it/s]\n"
     ]
    }
   ],
   "source": [
    "edinburgh_res_ed, edinburgh_best_traj_indexes = evaluate_on_dataset(edinburgh_data, edinburgh_agent_ids, params)\n",
    "ucy_res_ed, ucy_best_traj_indexes = evaluate_on_dataset(ucy_data, ucy_agent_ids, params)\n",
    "hermes_res_ed, hermes_best_traj_indexes = evaluate_on_dataset(hermes_data, hermes_agent_ids, params)\n",
    "eth_res_ed, eth_best_traj_indexes = evaluate_on_dataset(eth_data, eth_agent_ids, params)"
   ]
  },
  {
   "cell_type": "code",
   "execution_count": 29,
   "id": "4506efa1",
   "metadata": {},
   "outputs": [
    {
     "data": {
      "text/plain": [
       "(array([ 74., 127., 111., 138., 112., 123., 121., 115., 147., 118., 120.,\n",
       "         97., 100., 128., 112.,  50.,  37.,  35.,  58.,  49.]),\n",
       " array([ 0.  ,  0.95,  1.9 ,  2.85,  3.8 ,  4.75,  5.7 ,  6.65,  7.6 ,\n",
       "         8.55,  9.5 , 10.45, 11.4 , 12.35, 13.3 , 14.25, 15.2 , 16.15,\n",
       "        17.1 , 18.05, 19.  ]),\n",
       " <BarContainer object of 20 artists>)"
      ]
     },
     "execution_count": 29,
     "metadata": {},
     "output_type": "execute_result"
    },
    {
     "data": {
      "image/png": "[encoded data removed]",
      "text/plain": [
       "<Figure size 432x288 with 1 Axes>"
      ]
     },
     "metadata": {
      "needs_background": "light"
     },
     "output_type": "display_data"
    }
   ],
   "source": [
    "plt.hist(edinburgh_best_traj_indexes, bins=20)"
   ]
  },
  {
   "cell_type": "code",
   "execution_count": 30,
   "id": "faad6e16",
   "metadata": {},
   "outputs": [
    {
     "data": {
      "text/plain": [
       "(array([33., 15., 13.,  6., 12., 20., 12., 16.,  3.,  0.,  2.,  3.,  4.,\n",
       "         4.,  3.,  0.,  0.,  0.,  0.,  1.]),\n",
       " array([ 0.  ,  0.95,  1.9 ,  2.85,  3.8 ,  4.75,  5.7 ,  6.65,  7.6 ,\n",
       "         8.55,  9.5 , 10.45, 11.4 , 12.35, 13.3 , 14.25, 15.2 , 16.15,\n",
       "        17.1 , 18.05, 19.  ]),\n",
       " <BarContainer object of 20 artists>)"
      ]
     },
     "execution_count": 30,
     "metadata": {},
     "output_type": "execute_result"
    },
    {
     "data": {
      "image/png": "[encoded data removed]",
      "text/plain": [
       "<Figure size 432x288 with 1 Axes>"
      ]
     },
     "metadata": {
      "needs_background": "light"
     },
     "output_type": "display_data"
    }
   ],
   "source": [
    "plt.hist(ucy_best_traj_indexes, bins=20)"
   ]
  },
  {
   "cell_type": "code",
   "execution_count": 31,
   "id": "fca19c44",
   "metadata": {},
   "outputs": [
    {
     "data": {
      "text/plain": [
       "(array([270.,   0.,   5.,   0.,   0.,   4.,   0.,   0.,   3.,   0.,   0.,\n",
       "          7.,   0.,   0.,   8.,   0.,   0.,   6.,   0.,   6.]),\n",
       " array([0.  , 0.35, 0.7 , 1.05, 1.4 , 1.75, 2.1 , 2.45, 2.8 , 3.15, 3.5 ,\n",
       "        3.85, 4.2 , 4.55, 4.9 , 5.25, 5.6 , 5.95, 6.3 , 6.65, 7.  ]),\n",
       " <BarContainer object of 20 artists>)"
      ]
     },
     "execution_count": 31,
     "metadata": {},
     "output_type": "execute_result"
    },
    {
     "data": {
      "image/png": "[encoded data removed]",
      "text/plain": [
       "<Figure size 432x288 with 1 Axes>"
      ]
     },
     "metadata": {
      "needs_background": "light"
     },
     "output_type": "display_data"
    }
   ],
   "source": [
    "plt.hist(hermes_best_traj_indexes, bins=20)"
   ]
  },
  {
   "cell_type": "code",
   "execution_count": 32,
   "id": "a68b3537",
   "metadata": {},
   "outputs": [
    {
     "data": {
      "text/plain": [
       "(array([74., 30., 39.,  0., 36., 31.,  0., 24., 32.,  0., 23.,  4.,  7.,\n",
       "         0.,  5.,  8.,  0.,  8.,  8.,  8.]),\n",
       " array([ 0. ,  0.7,  1.4,  2.1,  2.8,  3.5,  4.2,  4.9,  5.6,  6.3,  7. ,\n",
       "         7.7,  8.4,  9.1,  9.8, 10.5, 11.2, 11.9, 12.6, 13.3, 14. ]),\n",
       " <BarContainer object of 20 artists>)"
      ]
     },
     "execution_count": 32,
     "metadata": {},
     "output_type": "execute_result"
    },
    {
     "data": {
      "image/png": "[encoded data removed]",
      "text/plain": [
       "<Figure size 432x288 with 1 Axes>"
      ]
     },
     "metadata": {
      "needs_background": "light"
     },
     "output_type": "display_data"
    }
   ],
   "source": [
    "plt.hist(eth_best_traj_indexes, bins=20)"
   ]
  },
  {
   "cell_type": "code",
   "execution_count": null,
   "id": "3bd508fb",
   "metadata": {},
   "outputs": [],
   "source": []
  }
 ],
 "metadata": {
  "kernelspec": {
   "display_name": "Python 3 (ipykernel)",
   "language": "python",
   "name": "python3"
  },
  "language_info": {
   "codemirror_mode": {
    "name": "ipython",
    "version": 3
   },
   "file_extension": ".py",
   "mimetype": "text/x-python",
   "name": "python",
   "nbconvert_exporter": "python",
   "pygments_lexer": "ipython3",
   "version": "3.9.0"
  }
 },
 "nbformat": 4,
 "nbformat_minor": 5
}
