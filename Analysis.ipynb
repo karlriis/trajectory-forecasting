{
 "cells": [
  {
   "cell_type": "markdown",
   "id": "baf295c9",
   "metadata": {},
   "source": [
    "# Analysis of the performance of our method"
   ]
  },
  {
   "cell_type": "code",
   "execution_count": 72,
   "id": "036a8b86",
   "metadata": {},
   "outputs": [],
   "source": [
    "from matplotlib import pyplot as plt\n",
    "import numpy as np\n",
    "import pandas as pd\n",
    "import math\n",
    "import scipy.stats as st\n",
    "from sklearn.cluster import KMeans\n",
    "from tqdm import tqdm\n",
    "\n",
    "def get_model(params):\n",
    "    if np.random.rand() < params['CONST_VEL_MODEL_PROB']:\n",
    "        return 'CONST_VEL'\n",
    "    else:\n",
    "        return 'CONST_VEL_W_ROTATION'\n",
    "    \n",
    "def get_action(params):\n",
    "    if np.random.rand() < params['STOP_PROB']:\n",
    "        return 'STOP'\n",
    "    if np.random.rand() < params['VELOCITY_CHANGE_PROB']:\n",
    "        return 'VELOCITY_CHANGE'\n",
    "    if np.random.rand() < params['ANGLE_CHANGE_PROB']:\n",
    "        return 'ANGLE_CHANGE'\n",
    "    return None\n",
    "\n",
    "# Decide whether to use average or discounted/weighted average as const velocity\n",
    "def get_const_vel(params, sample_vel_x, sample_vel_y):\n",
    "    if np.random.rand() < params['DISCOUNT_AVG_PROB']:\n",
    "        discount = np.random.uniform(low=params['DISCOUNT_LOWER_BOUND'])\n",
    "        # for [1,2,3] with discount of 0.5, the weights would be 0.5**2, 0.5**1, 0.5**0\n",
    "        const_vel_x = np.average(sample_vel_x, weights=[discount ** i for i in np.arange(len(sample_vel_x)-1, -1, -1)])\n",
    "        const_vel_y = np.average(sample_vel_y, weights=[discount ** i for i in np.arange(len(sample_vel_x)-1, -1, -1)])\n",
    "    else:\n",
    "        const_vel_x = np.mean(sample_vel_x)\n",
    "        const_vel_y = np.mean(sample_vel_y)\n",
    "        \n",
    "    return const_vel_x, const_vel_y\n",
    "\n",
    "# Decide whether to use average or discounted average angle\n",
    "def get_angle(params, sample_vel_x, sample_vel_y):\n",
    "    all_angles = []\n",
    "    for i in range(1, len(sample_vel_x)):\n",
    "        prev_vel = [sample_vel_x[i-1], sample_vel_y[i-1]]\n",
    "        curr_vel = [sample_vel_x[i], sample_vel_y[i]]\n",
    "        one_angle = np.math.atan2(np.linalg.det([prev_vel, curr_vel]),np.dot(prev_vel, curr_vel))   \n",
    "        all_angles.append(one_angle)\n",
    "    \n",
    "    if np.random.rand() < params['DISCOUNT_AVG_PROB']:\n",
    "        discount = np.random.uniform(low=params['DISCOUNT_LOWER_BOUND'])\n",
    "        angle = np.average(all_angles, weights=[discount ** i for i in np.arange(len(sample_vel_x)-1, -1, -1)])\n",
    "    else:\n",
    "        angle = np.mean(all_angles)\n",
    "    return angle\n",
    "\n",
    "def calculate_FDE(pred_x, pred_y, test_x, test_y):\n",
    "\n",
    "    final_displacement_x = pred_x[-1] - test_x[-1]\n",
    "    final_displacement_y = pred_y[-1] - test_y[-1]\n",
    "    FDE = np.sqrt(final_displacement_x**2 + final_displacement_y**2)\n",
    "    \n",
    "    return FDE\n",
    "\n",
    "def rotate(origin, point, angle):\n",
    "    \"\"\"\n",
    "    Rotate a point counterclockwise by a given angle around a given origin.\n",
    "\n",
    "    The angle should be given in radians.\n",
    "    \"\"\"\n",
    "    ox, oy = origin\n",
    "    px, py = point\n",
    "\n",
    "    qx = ox + math.cos(angle) * (px - ox) - math.sin(angle) * (py - oy)\n",
    "    qy = oy + math.sin(angle) * (px - ox) + math.cos(angle) * (py - oy)\n",
    "    return qx, qy\n",
    "\n",
    "def generate_trajectory(sample_x, sample_y, params, length=5):\n",
    "    # calculate velocity data\n",
    "    sample_vel_x = [(sample_x[i] - sample_x[i-1]) + np.random.normal(0, params['NOISE']) for i in range(1, len(sample_x))]\n",
    "    sample_vel_y = [(sample_y[i] - sample_y[i-1]) + np.random.normal(0, params['NOISE']) for i in range(1, len(sample_y))]\n",
    "    \n",
    "    const_vel_x, const_vel_y = get_const_vel(params, sample_vel_x, sample_vel_y)\n",
    "    angle = get_angle(params, sample_vel_x, sample_vel_y)\n",
    "    \n",
    "    # start predicting\n",
    "    pred_x = []\n",
    "    pred_y = []\n",
    "    model = get_model(params)\n",
    "    for i in range(length):\n",
    "        action = get_action(params)\n",
    "        if action == 'STOP':\n",
    "            if len(pred_x) == 0:\n",
    "                pred_x.append(sample_x[-1])\n",
    "                pred_y.append(sample_y[-1])\n",
    "            else:\n",
    "                pred_x.append(pred_x[-1])\n",
    "                pred_y.append(pred_y[-1])\n",
    "            continue\n",
    "            \n",
    "        elif action == 'VELOCITY_CHANGE':\n",
    "            const_vel_x = const_vel_x + np.random.normal(0, params['VELOCITY_CHANGE_NOISE'])\n",
    "            const_vel_y = const_vel_y + np.random.normal(0, params['VELOCITY_CHANGE_NOISE'])\n",
    "        elif action == 'ANGLE_CHANGE':\n",
    "            angle = angle + np.random.normal(0, params['ANGLE_CHANGE_NOISE'])\n",
    "        \n",
    "        if model == 'CONST_VEL':\n",
    "            if len(pred_x) == 0:\n",
    "                pred_x.append(sample_x[-1] + const_vel_x)\n",
    "                pred_y.append(sample_y[-1] + const_vel_y)\n",
    "            else:\n",
    "                pred_x.append(pred_x[-1] + const_vel_x)\n",
    "                pred_y.append(pred_y[-1] + const_vel_y)\n",
    "        elif model == 'CONST_VEL_W_ROTATION':\n",
    "            if len(pred_x) == 0:\n",
    "                prev_x = sample_x[-2]\n",
    "                prev_y = sample_y[-2]\n",
    "                cur_x = sample_x[-1] + const_vel_x\n",
    "                cur_y = sample_y[-1] + const_vel_y\n",
    "            else:\n",
    "                prev_x = pred_x[-1]\n",
    "                prev_y = pred_y[-1]\n",
    "                cur_x = pred_x[-1] + const_vel_x\n",
    "                cur_y = pred_y[-1] + const_vel_y\n",
    "            rot_x, rot_y = rotate((prev_x, prev_y), (cur_x, cur_y), angle)\n",
    "            pred_x.append(rot_x)\n",
    "            pred_y.append(rot_y)\n",
    "            \n",
    "            # redefine the average velocity as it now has a new heading\n",
    "            const_vel_x = rot_x - prev_x\n",
    "            const_vel_y = rot_y - prev_y\n",
    "        \n",
    "    return pred_x, pred_y\n",
    "            \n",
    "def run_KMeans(pred_x_list, pred_y_list, no_of_clusters):\n",
    "    final_points = []\n",
    "    # this can be optimized as this is done in the parent method already\n",
    "    for i in range(len(pred_x_list)):\n",
    "        final_points.append([pred_x_list[i][-1], pred_y_list[i][-1]])\n",
    "    \n",
    "    Kmean = KMeans(n_clusters=no_of_clusters)\n",
    "    Kmean.fit(final_points)\n",
    "\n",
    "    cluster_avg_x, cluster_avg_y, no_of_elements_per_cluster = get_clustered_averages(pred_x_list, pred_y_list, no_of_clusters, Kmean.labels_)\n",
    "    # Should probably also return labels or do the averaged clusters already contain them?\n",
    "    return cluster_avg_x, cluster_avg_y, no_of_elements_per_cluster\n",
    "\n",
    "def get_clustered_averages(all_pred_x, all_pred_y, no_of_clusters, cluster_labels):\n",
    "    no_of_elements_per_cluster = []\n",
    "    for i in range(no_of_clusters):\n",
    "        no_of_elements_per_cluster.append((cluster_labels == i).sum())\n",
    "    \n",
    "    clustered_preds_x = [[] for _ in range(no_of_clusters)]\n",
    "    clustered_preds_y = [[] for _ in range(no_of_clusters)]\n",
    "\n",
    "    for idx, cluster_label in enumerate(cluster_labels):\n",
    "        clustered_preds_x[cluster_label].append(all_pred_x[idx])\n",
    "        clustered_preds_y[cluster_label].append(all_pred_y[idx])\n",
    "        \n",
    "    cluster_avg_x = [[] for _ in range(no_of_clusters)]\n",
    "    cluster_avg_y = [[] for _ in range(no_of_clusters)]\n",
    "    \n",
    "    for i in range(no_of_clusters):\n",
    "        cluster_avg_x[i] = np.mean(clustered_preds_x[i], axis=0)\n",
    "        cluster_avg_y[i] = np.mean(clustered_preds_y[i], axis=0)\n",
    "        \n",
    "    return cluster_avg_x, cluster_avg_y, no_of_elements_per_cluster\n",
    "\n",
    "def predict(sample_x, sample_y, params, trajectory_length=5):\n",
    "    all_pred_x, all_pred_y = [], []\n",
    "    all_final_x, all_final_y = [], []\n",
    "    \n",
    "    for i in range(params['NO_OF_TRAJECTORIES']):\n",
    "        pred_x, pred_y = generate_trajectory(sample_x, sample_y, params, trajectory_length)\n",
    "        all_pred_x.append(pred_x)\n",
    "        all_pred_y.append(pred_y)\n",
    "        \n",
    "        all_final_x.append(pred_x[-1])\n",
    "        all_final_y.append(pred_y[-1])\n",
    "    \n",
    "    # run kernel density estimate\n",
    "    values = np.vstack([all_final_x, all_final_y])\n",
    "    kernel = st.gaussian_kde(values)\n",
    "    # evaluate trajectories\n",
    "    evaluated = kernel.evaluate(values)\n",
    "    # find the sorting order for the trajectories based on KDE pdf\n",
    "    sorting_order = evaluated.argsort()[::-1] # Note: the sorting order is ascending by default, [::-1] reverses the order (might be too slow though?)\n",
    "    \n",
    "    # sort predictions by KDE density\n",
    "    sorted_all_pred_x = np.array(all_pred_x)[sorting_order]\n",
    "    sorted_all_pred_y = np.array(all_pred_y)[sorting_order]\n",
    "    \n",
    "    # distribute the data to representative sets\n",
    "    no_of_traj = len(sorted_all_pred_x)\n",
    "\n",
    "    \n",
    "    # find the closest TOP% (first cluster size) of trajectories for the highest density trajectory\n",
    "    highest_density_x = sorted_all_pred_x[0]\n",
    "    highest_density_y = sorted_all_pred_y[0]\n",
    "    largest_distance = None\n",
    "    closest_indexes = np.array([], dtype=np.int8)\n",
    "    closest_distances = np.array([])\n",
    "    \n",
    "    for idx in range(len(sorted_all_pred_x)):\n",
    "        distance = calculate_FDE(highest_density_x, highest_density_y, sorted_all_pred_x[idx], sorted_all_pred_y[idx])\n",
    "        \n",
    "        if len(closest_indexes) < no_of_traj*params['GROUP_PERCENTAGES'][0]:\n",
    "            closest_indexes = np.append(closest_indexes, idx)\n",
    "            closest_distances = np.append(closest_distances, distance)\n",
    "            if largest_distance == None or largest_distance < distance:\n",
    "                largest_distance = distance\n",
    "        else:\n",
    "            if largest_distance > distance:\n",
    "                index_max = np.argmax(closest_distances)\n",
    "                closest_indexes[index_max] = idx\n",
    "                closest_distances[index_max] = distance\n",
    "                largest_distance = np.amax(closest_distances)\n",
    "    \n",
    "    closest_x = sorted_all_pred_x[closest_indexes]\n",
    "    closest_y = sorted_all_pred_y[closest_indexes]\n",
    "\n",
    "    # remove the closest trajectories from the data...\n",
    "    sorted_all_pred_x = np.delete(sorted_all_pred_x, closest_indexes, axis=0)\n",
    "    sorted_all_pred_y = np.delete(sorted_all_pred_y, closest_indexes, axis=0)\n",
    "    \n",
    "    # ...and move them to the front of the array\n",
    "    sorted_all_pred_x = np.append(closest_x, sorted_all_pred_x, axis=0)\n",
    "    sorted_all_pred_y = np.append(closest_y, sorted_all_pred_y, axis=0)\n",
    "    \n",
    "    # Return values will be in a format of [pred_xs: list, pred_ys: list, pred_weigths: list]\n",
    "    return_values = [[], [], []]\n",
    "    \n",
    "    \n",
    "    ## Loop over the representative groups and run K-means clustering on each\n",
    "    ## (if group should return more than 1 representative trajectory)\n",
    "    \n",
    "    prev_group_size_end = 0\n",
    "    group_size_ends = params['GROUP_PERCENTAGES']\n",
    "    for group_idx, group_size_end in enumerate(group_size_ends):\n",
    "        group_cluster_count = params['GROUP_CLUSTER_COUNT'][group_idx]\n",
    "        \n",
    "        group_x = sorted_all_pred_x[int(no_of_traj*prev_group_size_end):int(no_of_traj*group_size_end)]\n",
    "        group_y = sorted_all_pred_y[int(no_of_traj*prev_group_size_end):int(no_of_traj*group_size_end)]\n",
    "        \n",
    "        # No need to run k-means clustering if the group is supposed to have just 1 representative cluster\n",
    "        if group_cluster_count == 1:\n",
    "            representative_x = np.mean(group_x, axis=0)\n",
    "            representative_y = np.mean(group_y, axis=0)\n",
    "            trajectory_weight = len(representative_x)/no_of_traj\n",
    "            \n",
    "            return_values[0].append(representative_x)\n",
    "            return_values[1].append(representative_y)\n",
    "            return_values[2].append(trajectory_weight)\n",
    "        else:\n",
    "            group_data = run_KMeans(group_x, group_y, no_of_clusters=group_cluster_count)\n",
    "            group_pred_xs, group_pred_ys, group_no_of_trajs = group_data\n",
    "            \n",
    "            return_values[0] = return_values[0] + [*group_pred_xs]\n",
    "            return_values[1] = return_values[1] + [*group_pred_ys]\n",
    "            return_values[2] = return_values[2] + [*[i/no_of_traj for i in group_no_of_trajs]]\n",
    "        \n",
    "        prev_group_size_end = group_size_end\n",
    "   \n",
    "    # Return (all_x_predictions, all_y_predictions, all_weights)\n",
    "    return return_values\n",
    "    "
   ]
  },
  {
   "cell_type": "code",
   "execution_count": null,
   "id": "a742073f",
   "metadata": {},
   "outputs": [],
   "source": []
  },
  {
   "cell_type": "code",
   "execution_count": 73,
   "id": "555b37b1",
   "metadata": {},
   "outputs": [
    {
     "name": "stderr",
     "output_type": "stream",
     "text": [
      "/Users/kriis/miniforge3/envs/tensorflow_m1/lib/python3.9/site-packages/pandas/util/_decorators.py:311: ParserWarning: Falling back to the 'python' engine because the 'c' engine does not support regex separators (separators > 1 char and different from '\\s+' are interpreted as regex); you can avoid this warning by specifying engine='python'.\n",
      "  return func(*args, **kwargs)\n"
     ]
    },
    {
     "name": "stdout",
     "output_type": "stream",
     "text": [
      "reading:./OpenTraj/datasets/Edinburgh/annotations/tracks.01Sep.txt\n"
     ]
    },
    {
     "name": "stderr",
     "output_type": "stream",
     "text": [
      "100%|███████████████████████████████████████████████████████████████████████████████████████████████████████████| 2342/2342 [01:10<00:00, 33.18it/s]\n"
     ]
    },
    {
     "name": "stdout",
     "output_type": "stream",
     "text": [
      "Warning! too big dt in [Edinburgh]\n",
      "finish\n"
     ]
    }
   ],
   "source": [
    "from data_processing import read_edinburgh_data \n",
    "edinburgh_data, edinburgh_agent_ids = read_edinburgh_data()\n",
    "\n",
    "from data_processing import read_UCY_data\n",
    "ucy_data, ucy_agent_ids = read_UCY_data()\n",
    "\n",
    "from data_processing import read_HERMES_data\n",
    "hermes_data, hermes_agent_ids = read_HERMES_data(sampling_rate=1)\n",
    "\n",
    "from data_processing import read_eth_data\n",
    "eth_data, eth_agent_ids = read_eth_data(sampling_rate=1)"
   ]
  },
  {
   "cell_type": "code",
   "execution_count": null,
   "id": "acebdfd8",
   "metadata": {},
   "outputs": [],
   "source": []
  },
  {
   "cell_type": "code",
   "execution_count": 74,
   "id": "ea30ed50",
   "metadata": {},
   "outputs": [],
   "source": [
    "def agent_data(data, agent_id):\n",
    "    x = data[\"pos_x\"].loc[data[\"agent_id\"]==agent_id].values\n",
    "    y = data[\"pos_y\"].loc[data[\"agent_id\"]==agent_id].values\n",
    "\n",
    "    max_train_idx = len(x)-10\n",
    "    \n",
    "    return x, y, max_train_idx\n",
    "\n",
    "# Sample train and test data for pos_x and pos_y, each slice with num_steps length\n",
    "def generate_data(data, begin_idx, agent_id, num_steps=5):\n",
    "    sample_x = data[\"pos_x\"].loc[data[\"agent_id\"]==agent_id][begin_idx:begin_idx+num_steps].values\n",
    "    sample_y = data[\"pos_y\"].loc[data[\"agent_id\"]==agent_id][begin_idx:begin_idx+num_steps].values\n",
    "\n",
    "    test_x = data[\"pos_x\"].loc[data[\"agent_id\"]==agent_id][begin_idx+num_steps:begin_idx+2*num_steps].values\n",
    "    test_y = data[\"pos_y\"].loc[data[\"agent_id\"]==agent_id][begin_idx+num_steps:begin_idx+2*num_steps].values\n",
    "    \n",
    "    return sample_x, sample_y, test_x, test_y\n",
    "    \n",
    "def calculate_FDE(pred_x, pred_y, test_x, test_y):\n",
    "\n",
    "    final_displacement_x = pred_x[-1] - test_x[-1]\n",
    "    final_displacement_y = pred_y[-1] - test_y[-1]\n",
    "    FDE = np.sqrt(final_displacement_x**2 + final_displacement_y**2)\n",
    "    \n",
    "    return FDE\n",
    "\n",
    "def calculate_ADE(pred_x, pred_y, test_x, test_y):\n",
    "    total_displacement_error = 0\n",
    "    for point_idx in range(len(test_x)):\n",
    "        displacement_error = np.sqrt((pred_x[point_idx] - test_x[point_idx])**2 + (pred_y[point_idx] - test_y[point_idx])**2)\n",
    "        total_displacement_error += displacement_error\n",
    "\n",
    "    return total_displacement_error/len(pred_x)\n",
    "\n",
    "def evaluate_trajectory(sample_x, sample_y, test_x, test_y, params, metric='FDE'):\n",
    "    pred_xs, pred_ys, pred_ws = predict(sample_x, sample_y, params, trajectory_length=6)\n",
    "    all_errors = []\n",
    "    for i in range(len(pred_xs)):\n",
    "        pred_x = pred_xs[i]\n",
    "        pred_y = pred_ys[i]\n",
    "        #weight = pred_ws[i]\n",
    "        \n",
    "        if metric == 'ADE':\n",
    "            error = calculate_ADE(pred_x, pred_y, test_x, test_y)\n",
    "        elif metric == 'FDE':\n",
    "            error = calculate_FDE(pred_x, pred_y, test_x, test_y)\n",
    "        else:\n",
    "            assert False\n",
    "        all_errors.append(error)\n",
    "        \n",
    "    # Find out which trajectory was the best\n",
    "    index_min_error = np.argmin(all_errors)\n",
    "    return min(all_errors), index_min_error\n",
    "\n",
    "def evaluate_on_dataset(data, agent_ids, params, metric='FDE'):\n",
    "    all_errors = []\n",
    "    best_trajectory_indexes = []\n",
    "    for agent_id in tqdm(agent_ids):\n",
    "        x_data, y_data, max_train_idx = agent_data(data, agent_id)\n",
    "\n",
    "        #for i in range(0, min(5, max_train_idx+1)):\n",
    "        for i in range(0, 1):\n",
    "            start_idx = i\n",
    "\n",
    "            sample_x, sample_y, test_x, test_y = generate_data(data, start_idx, agent_id, 6)\n",
    "            min_error, best_traj_index = evaluate_trajectory(sample_x, sample_y, test_x, test_y, params, metric=metric)\n",
    "            all_errors.append(min_error)\n",
    "            best_trajectory_indexes.append(best_traj_index)\n",
    "\n",
    "    return np.mean(all_errors), best_trajectory_indexes\n"
   ]
  },
  {
   "cell_type": "code",
   "execution_count": null,
   "id": "51fe9781",
   "metadata": {},
   "outputs": [],
   "source": []
  },
  {
   "cell_type": "code",
   "execution_count": 75,
   "id": "2fa3a0bd",
   "metadata": {},
   "outputs": [],
   "source": [
    "params = {\n",
    "    \"NOISE\": 0.05,\n",
    "    \"NO_OF_TRAJECTORIES\": 1000,\n",
    "    \"CONST_VEL_MODEL_PROB\": 0.8,\n",
    "\n",
    "    \"STOP_PROB\": 0.05,\n",
    "\n",
    "    \"DISCOUNT_AVG_PROB\": 0.5,\n",
    "    \"DISCOUNT_LOWER_BOUND\": 0.5,\n",
    "\n",
    "    \"VELOCITY_CHANGE_PROB\": 0.2,\n",
    "    \"VELOCITY_CHANGE_NOISE\": 0.1,\n",
    "\n",
    "    \"ANGLE_CHANGE_PROB\": 0.2,\n",
    "    \"ANGLE_CHANGE_NOISE\": 1,\n",
    "\n",
    "    \"GROUP_PERCENTAGES\": [0.15, 0.68, 0.95, 1.0],\n",
    "    \"GROUP_CLUSTER_COUNT\": [1, 7, 7, 5] # Total 20 traj\n",
    "}"
   ]
  },
  {
   "cell_type": "code",
   "execution_count": 76,
   "id": "5eef796e",
   "metadata": {},
   "outputs": [
    {
     "name": "stderr",
     "output_type": "stream",
     "text": [
      "100%|███████████████████████████████████████████████████████████████████████████████████████████████████████████| 1972/1972 [05:03<00:00,  6.49it/s]\n",
      "100%|█████████████████████████████████████████████████████████████████████████████████████████████████████████████| 147/147 [00:24<00:00,  5.90it/s]\n",
      "100%|█████████████████████████████████████████████████████████████████████████████████████████████████████████████| 309/309 [00:49<00:00,  6.23it/s]\n",
      "100%|█████████████████████████████████████████████████████████████████████████████████████████████████████████████| 337/337 [00:57<00:00,  5.91it/s]\n"
     ]
    }
   ],
   "source": [
    "edinburgh_res, edinburgh_best_traj_indexes = evaluate_on_dataset(edinburgh_data, edinburgh_agent_ids, params)\n",
    "ucy_res, ucy_best_traj_indexes = evaluate_on_dataset(ucy_data, ucy_agent_ids, params)\n",
    "hermes_res, hermes_best_traj_indexes = evaluate_on_dataset(hermes_data, hermes_agent_ids, params)\n",
    "eth_res, eth_best_traj_indexes = evaluate_on_dataset(eth_data, eth_agent_ids, params)"
   ]
  },
  {
   "cell_type": "code",
   "execution_count": 77,
   "id": "e3ef12c9",
   "metadata": {},
   "outputs": [
    {
     "name": "stdout",
     "output_type": "stream",
     "text": [
      "0.6191461241032664\n"
     ]
    },
    {
     "data": {
      "image/png": "[encoded data removed]",
      "text/plain": [
       "<Figure size 432x288 with 1 Axes>"
      ]
     },
     "metadata": {
      "needs_background": "light"
     },
     "output_type": "display_data"
    }
   ],
   "source": [
    "plt.hist(edinburgh_best_traj_indexes, bins=20)\n",
    "print(edinburgh_res)"
   ]
  },
  {
   "cell_type": "code",
   "execution_count": 78,
   "id": "9645e3a5",
   "metadata": {},
   "outputs": [
    {
     "name": "stdout",
     "output_type": "stream",
     "text": [
      "0.21829004810720207\n"
     ]
    },
    {
     "data": {
      "image/png": "[encoded data removed]",
      "text/plain": [
       "<Figure size 432x288 with 1 Axes>"
      ]
     },
     "metadata": {
      "needs_background": "light"
     },
     "output_type": "display_data"
    }
   ],
   "source": [
    "plt.hist(ucy_best_traj_indexes, bins=20)\n",
    "print(ucy_res)"
   ]
  },
  {
   "cell_type": "code",
   "execution_count": 79,
   "id": "68ec8de0",
   "metadata": {},
   "outputs": [
    {
     "name": "stdout",
     "output_type": "stream",
     "text": [
      "0.08426285120381259\n"
     ]
    },
    {
     "data": {
      "image/png": "[encoded data removed]",
      "text/plain": [
       "<Figure size 432x288 with 1 Axes>"
      ]
     },
     "metadata": {
      "needs_background": "light"
     },
     "output_type": "display_data"
    }
   ],
   "source": [
    "plt.hist(hermes_best_traj_indexes, bins=20)\n",
    "print(hermes_res)"
   ]
  },
  {
   "cell_type": "code",
   "execution_count": 80,
   "id": "e52d94c9",
   "metadata": {},
   "outputs": [
    {
     "name": "stdout",
     "output_type": "stream",
     "text": [
      "0.25432787408533714\n"
     ]
    },
    {
     "data": {
      "image/png": "[encoded data removed]",
      "text/plain": [
       "<Figure size 432x288 with 1 Axes>"
      ]
     },
     "metadata": {
      "needs_background": "light"
     },
     "output_type": "display_data"
    }
   ],
   "source": [
    "plt.hist(eth_best_traj_indexes, bins=20)\n",
    "print(eth_res)"
   ]
  },
  {
   "cell_type": "code",
   "execution_count": null,
   "id": "296c5d7c",
   "metadata": {},
   "outputs": [],
   "source": []
  }
 ],
 "metadata": {
  "kernelspec": {
   "display_name": "Python 3 (ipykernel)",
   "language": "python",
   "name": "python3"
  },
  "language_info": {
   "codemirror_mode": {
    "name": "ipython",
    "version": 3
   },
   "file_extension": ".py",
   "mimetype": "text/x-python",
   "name": "python",
   "nbconvert_exporter": "python",
   "pygments_lexer": "ipython3",
   "version": "3.9.0"
  }
 },
 "nbformat": 4,
 "nbformat_minor": 5
}
