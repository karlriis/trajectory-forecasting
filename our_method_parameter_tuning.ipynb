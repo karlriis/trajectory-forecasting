{
 "cells": [
  {
   "cell_type": "markdown",
   "id": "cdc9de3d",
   "metadata": {},
   "source": [
    "## Tuning the parameters of our model separately for each dataset in the ETH/UCY datasets"
   ]
  },
  {
   "cell_type": "code",
   "execution_count": 1,
   "id": "b5696522",
   "metadata": {},
   "outputs": [],
   "source": [
    "import sys\n",
    "import os\n",
    "import dill\n",
    "import json\n",
    "import argparse\n",
    "import pandas as pd\n",
    "import numpy as np\n",
    "import generative_model\n",
    "import matplotlib.pyplot as plt\n",
    "from tqdm import tqdm\n",
    "import csv"
   ]
  },
  {
   "cell_type": "code",
   "execution_count": 29,
   "id": "2603bcb3",
   "metadata": {},
   "outputs": [],
   "source": [
    "def calculate_FDE(pred_x, pred_y, test_x, test_y):\n",
    "\n",
    "    final_displacement_x = pred_x[-1] - test_x[-1]\n",
    "    final_displacement_y = pred_y[-1] - test_y[-1]\n",
    "    FDE = np.sqrt(final_displacement_x**2 + final_displacement_y**2)\n",
    "    \n",
    "    return FDE\n",
    "\n",
    "def calculate_ADE(pred_x, pred_y, test_x, test_y):\n",
    "    total_displacement_error = 0\n",
    "    for point_idx in range(len(test_x)):\n",
    "        displacement_error = np.sqrt((pred_x[point_idx] - test_x[point_idx])**2 + (pred_y[point_idx] - test_y[point_idx])**2)\n",
    "        total_displacement_error += displacement_error\n",
    "\n",
    "    return total_displacement_error/len(pred_x)\n",
    "\n",
    "## The evaluation logic for Trajectron++ loops over the frames and predicts the future trajectories \n",
    "## for each node present in the current frame\n",
    "## Each node has to have at least 7 historical points and 12 future points\n",
    "def get_total_predictable_slices(data):\n",
    "    total_predictable_steps = 0\n",
    "    for i in pd.unique(data.node_id):\n",
    "        #print(len(test[test.node_id == i]))\n",
    "        total_predictable_steps += len(data[data.node_id == i]) - 19\n",
    "    return total_predictable_steps\n",
    "\n",
    "def process_data(input_data, limit=None):\n",
    "    data = input_data.copy()\n",
    "    data['frame_id'] = pd.to_numeric(data['frame_id'], downcast='integer')\n",
    "    data['track_id'] = pd.to_numeric(data['track_id'], downcast='integer')\n",
    "\n",
    "    data['frame_id'] = data['frame_id'] // 10\n",
    "\n",
    "    data['frame_id'] -= data['frame_id'].min()\n",
    "\n",
    "    data['node_type'] = 'PEDESTRIAN'\n",
    "    data['node_id'] = data['track_id'].astype(str)\n",
    "    data.sort_values('frame_id', inplace=True)\n",
    "\n",
    "    data['pos_x'] = data['pos_x'] - data['pos_x'].mean()\n",
    "    data['pos_y'] = data['pos_y'] - data['pos_y'].mean()\n",
    "    \n",
    "    # Select only such nodes which have enough data to predict on (7 historical timesteps, 12 future)\n",
    "    v = data.node_id.value_counts()\n",
    "    data = data[data.node_id.isin(v.index[v.gt(19)])]\n",
    "    if limit:\n",
    "        data = data.iloc[:limit]\n",
    "        data = data[data.node_id.isin(v.index[v.gt(19)])]\n",
    "    \n",
    "    return data"
   ]
  },
  {
   "cell_type": "code",
   "execution_count": 30,
   "id": "4494c1e7",
   "metadata": {},
   "outputs": [],
   "source": [
    "def evaluate_our_method(data, params, dataset_title='', single_output = False):\n",
    "    tot = 0\n",
    "    our_fde_best_of = []\n",
    "    our_ade_best_of = []\n",
    "\n",
    "    for frame_id in tqdm(pd.unique(data.frame_id), desc='Ours - ' + dataset_title):\n",
    "\n",
    "        frame_data = data[data.frame_id == frame_id]\n",
    "        #print(frame_data)\n",
    "        for node_id in pd.unique(frame_data.node_id):\n",
    "            # Check if at least 7 historical points are present\n",
    "            # PS: It might be so that the prediction starts at the 8th step instead of 7th? Edited the code to do this at the moment\n",
    "            if len(data[((data.node_id == node_id) & (data.frame_id <= frame_id))]) >= 8:\n",
    "                # Not sure why there has to be more than 12 frames to the future (at least 13) but it's the\n",
    "                # only way to get the number of trajectron++ eval predictions to match up\n",
    "                if len(data[((data.node_id == node_id) & (data.frame_id > frame_id))]) >= 12:\n",
    "                    tot += 1\n",
    "                    node_history_data = data[((data.node_id == node_id) & (data.frame_id <= frame_id) & (data.frame_id >= frame_id-7))]\n",
    "                    node_gt_data = data[((data.node_id == node_id) & (data.frame_id > frame_id) & (data.frame_id <= frame_id+12))]\n",
    "\n",
    "                    x_data = list(node_history_data.pos_x)\n",
    "                    y_data = list(node_history_data.pos_y)\n",
    "                    assert len(x_data) == 8\n",
    "\n",
    "                    x_gt = list(node_gt_data.pos_x)\n",
    "                    y_gt = list(node_gt_data.pos_y)\n",
    "                    assert len(x_gt) == 12\n",
    "\n",
    "                    all_pred_x, all_pred_y, _ = generative_model.predict(x_data, y_data, params, trajectory_length=12)\n",
    "\n",
    "                    best_fde = None\n",
    "                    best_ade = None\n",
    "                    \n",
    "                    if single_output:\n",
    "                        avg_x = np.mean(all_pred_x, axis=0)\n",
    "                        avg_y = np.mean(all_pred_y, axis=0)\n",
    "                        best_fde = calculate_FDE(avg_x, avg_y, x_gt, y_gt)\n",
    "                        best_ade = calculate_ADE(avg_x, avg_y, x_gt, y_gt)\n",
    "                    else:\n",
    "                        for i in range(len(all_pred_x)):\n",
    "                            current_pred_x = all_pred_x[i]\n",
    "                            current_pred_y = all_pred_y[i]\n",
    "\n",
    "                            fde = calculate_FDE(current_pred_x, current_pred_y, x_gt, y_gt)\n",
    "                            if best_fde == None or fde < best_fde:\n",
    "                                best_fde = fde\n",
    "\n",
    "                            ade = calculate_ADE(current_pred_x, current_pred_y, x_gt, y_gt)\n",
    "                            if best_ade == None or ade < best_ade:\n",
    "                                best_ade = ade\n",
    "\n",
    "                    our_fde_best_of.append(best_fde)\n",
    "                    our_ade_best_of.append(best_ade)\n",
    "                    \n",
    "    return our_fde_best_of, our_ade_best_of"
   ]
  },
  {
   "cell_type": "code",
   "execution_count": 31,
   "id": "23e47d92",
   "metadata": {},
   "outputs": [],
   "source": [
    "def read_trajectron_data(trajectron_resultset_name, base_folder='./trajectron++/results_paper_version/', suffix='best_of'):\n",
    "    trajectron_fde = []\n",
    "    with open(base_folder + trajectron_resultset_name + '_fde_' + suffix + '.csv', mode='r') as csv_file:\n",
    "        csv_reader = csv.DictReader(csv_file)\n",
    "        line_count = 0\n",
    "        for row in csv_reader:\n",
    "            trajectron_fde.append(float(row['value']))\n",
    "\n",
    "    trajectron_ade = []\n",
    "    with open(base_folder + trajectron_resultset_name + '_ade_'+ suffix + '.csv', mode='r') as csv_file:\n",
    "        csv_reader = csv.DictReader(csv_file)\n",
    "        line_count = 0\n",
    "        for row in csv_reader:\n",
    "            trajectron_ade.append(float(row['value']))\n",
    "            \n",
    "    return trajectron_fde, trajectron_ade"
   ]
  },
  {
   "cell_type": "code",
   "execution_count": 36,
   "id": "5197e933",
   "metadata": {},
   "outputs": [],
   "source": [
    "def evaluate_on_dataset(our_method_params, file, trajectron_resultset_name, evaluate_most_likely=False, limit=None):\n",
    "    base_path = './raw_data/'\n",
    "\n",
    "    ours_results = {'BEST_OF_20': {'FDE': [], 'ADE': []}, 'MOST_LIKELY': {'FDE': [], 'ADE': []}}\n",
    "    trajectron_results = {'BEST_OF_20': {'FDE': [], 'ADE': []}, 'MOST_LIKELY': {'FDE': [], 'ADE': []}}\n",
    "\n",
    "    for param_idx, params in enumerate(our_method_params):\n",
    "        data = pd.read_csv(base_path + file, sep='\\t', index_col=False, header=None)\n",
    "        data.columns = ['frame_id', 'track_id', 'pos_x', 'pos_y']\n",
    "\n",
    "        data = process_data(data, limit=limit)\n",
    "\n",
    "        ## Trajectron\n",
    "        trajectron_fde, trajectron_ade = read_trajectron_data(trajectron_resultset_name)\n",
    "        trajectron_results['BEST_OF_20']['FDE'].append(np.mean(trajectron_fde))\n",
    "        trajectron_results['BEST_OF_20']['ADE'].append(np.mean(trajectron_ade))\n",
    "        \n",
    "        if evaluate_most_likely:\n",
    "            trajectron_fde, trajectron_ade = read_trajectron_data(trajectron_resultset_name, suffix='most_likely')\n",
    "            trajectron_results['MOST_LIKELY']['FDE'].append(np.mean(trajectron_fde))\n",
    "            trajectron_results['MOST_LIKELY']['ADE'].append(np.mean(trajectron_ade))\n",
    "\n",
    "        # make sure that there is no discrepancy between our data processing and trajectron evaluation results size\n",
    "        num_predictable_trajectories = get_total_predictable_slices(data)\n",
    "        #assert len(trajectron_fde) == num_predictable_trajectories\n",
    "        #assert len(trajectron_ade) == num_predictable_trajectories\n",
    "\n",
    "        ## Ours\n",
    "        our_fde_best_of_20, our_ade_best_of_20 = evaluate_our_method(data, params, dataset_title=trajectron_resultset_name)\n",
    "        ours_results['BEST_OF_20']['FDE'].append(np.mean(our_fde_best_of_20))\n",
    "        ours_results['BEST_OF_20']['ADE'].append(np.mean(our_ade_best_of_20))\n",
    "        \n",
    "        if evaluate_most_likely:\n",
    "            our_fde_single, our_ade_single = evaluate_our_method(data, params, dataset_title=trajectron_resultset_name, single_output=True)\n",
    "            ours_results['MOST_LIKELY']['FDE'].append(np.mean(our_fde_single))\n",
    "            ours_results['MOST_LIKELY']['ADE'].append(np.mean(our_ade_single))\n",
    "\n",
    "    return [\n",
    "        ours_results,\n",
    "        trajectron_results,\n",
    "    ]"
   ]
  },
  {
   "cell_type": "code",
   "execution_count": 16,
   "id": "7c424e3c",
   "metadata": {},
   "outputs": [
    {
     "ename": "NameError",
     "evalue": "name 'params_eth' is not defined",
     "output_type": "error",
     "traceback": [
      "\u001b[0;31m---------------------------------------------------------------------------\u001b[0m",
      "\u001b[0;31mNameError\u001b[0m                                 Traceback (most recent call last)",
      "\u001b[0;32m/var/folders/0k/4cxqtr6n2bq_bpqp64nc__rc0000gn/T/ipykernel_69641/272987804.py\u001b[0m in \u001b[0;36m<module>\u001b[0;34m\u001b[0m\n\u001b[0;32m----> 1\u001b[0;31m \u001b[0mour_method_params\u001b[0m \u001b[0;34m=\u001b[0m \u001b[0;34m[\u001b[0m\u001b[0mparams_eth\u001b[0m\u001b[0;34m,\u001b[0m \u001b[0mparams_eth\u001b[0m\u001b[0;34m,\u001b[0m \u001b[0mparams_rest\u001b[0m\u001b[0;34m,\u001b[0m \u001b[0mparams_rest\u001b[0m\u001b[0;34m]\u001b[0m\u001b[0;34m\u001b[0m\u001b[0;34m\u001b[0m\u001b[0m\n\u001b[0m\u001b[1;32m      2\u001b[0m \u001b[0;34m\u001b[0m\u001b[0m\n\u001b[1;32m      3\u001b[0m files = [\n\u001b[1;32m      4\u001b[0m     \u001b[0;34m'eth/test/biwi_eth.txt'\u001b[0m\u001b[0;34m,\u001b[0m\u001b[0;34m\u001b[0m\u001b[0;34m\u001b[0m\u001b[0m\n\u001b[1;32m      5\u001b[0m     \u001b[0;34m'hotel/test/biwi_hotel.txt'\u001b[0m\u001b[0;34m,\u001b[0m\u001b[0;34m\u001b[0m\u001b[0;34m\u001b[0m\u001b[0m\n",
      "\u001b[0;31mNameError\u001b[0m: name 'params_eth' is not defined"
     ]
    }
   ],
   "source": [
    "our_method_params = [params_eth, params_eth, params_rest, params_rest]\n",
    "\n",
    "files = [\n",
    "    'eth/test/biwi_eth.txt', \n",
    "    'hotel/test/biwi_hotel.txt', \n",
    "    'zara1/test/crowds_zara01.txt', \n",
    "    'zara2/test/crowds_zara02.txt'\n",
    "]\n",
    "\n",
    "trajectron_resultset_names = [\n",
    "    'eth_vel', \n",
    "    'hotel_vel', \n",
    "    'zara1_vel', \n",
    "    'zara2_vel'\n",
    "]"
   ]
  },
  {
   "cell_type": "markdown",
   "id": "8a026578",
   "metadata": {},
   "source": [
    "## Zara 1"
   ]
  },
  {
   "cell_type": "code",
   "execution_count": 173,
   "id": "56dab72e",
   "metadata": {},
   "outputs": [],
   "source": [
    "our_method_params = []\n",
    "\n",
    "for angle_change_prob in [0.25]:\n",
    "    for angle_change_noise in [2.5]:\n",
    "                \n",
    "            one_param_set = {\n",
    "                'NOISE': 0.05, \n",
    "                'NO_OF_TRAJECTORIES': 300, \n",
    "                'CONST_VEL_MODEL_PROB': 0.5, \n",
    "                'STOP_PROB': 0.05, \n",
    "                'DISCOUNT_AVG_PROB': 1.0, \n",
    "                'DISCOUNT_LOWER_BOUND': 0.2, \n",
    "                'VELOCITY_CHANGE_PROB': 0.2,\n",
    "                'VELOCITY_CHANGE_NOISE': 0.1, \n",
    "                'ANGLE_CHANGE_PROB': angle_change_prob, \n",
    "                'ANGLE_CHANGE_NOISE': angle_change_noise, \n",
    "                'GROUP_PERCENTAGES': [0.1, 0.4, 0.65, 0.85, 1.0], \n",
    "                'GROUP_CLUSTER_COUNT': [1, 6, 5, 5, 3]\n",
    "            }\n",
    "                \n",
    "                \n",
    "            our_method_params.append(one_param_set)"
   ]
  },
  {
   "cell_type": "code",
   "execution_count": 174,
   "id": "94ea0324",
   "metadata": {},
   "outputs": [
    {
     "name": "stderr",
     "output_type": "stream",
     "text": [
      "Ours - zara1_vel: 100%|█████████████████████████████████████████████████████████████████████████████████████████████| 66/66 [00:13<00:00,  4.77it/s]\n"
     ]
    }
   ],
   "source": [
    "res = evaluate_on_dataset(our_method_params, 'zara1/test/crowds_zara01.txt', 'zara1_vel', limit=500, evaluate_most_likely=False)"
   ]
  },
  {
   "cell_type": "code",
   "execution_count": 171,
   "id": "3cf2bd2c",
   "metadata": {},
   "outputs": [],
   "source": [
    "ours_res = res[0]\n",
    "trajectron_res = res[1]"
   ]
  },
  {
   "cell_type": "code",
   "execution_count": 172,
   "id": "ebb981f4",
   "metadata": {},
   "outputs": [
    {
     "name": "stdout",
     "output_type": "stream",
     "text": [
      "0\n",
      "Lowest FDE:  0.36381538799136276\n",
      "Param set:  {'NOISE': 0.05, 'NO_OF_TRAJECTORIES': 200, 'CONST_VEL_MODEL_PROB': 0.5, 'STOP_PROB': 0.05, 'DISCOUNT_AVG_PROB': 1.0, 'DISCOUNT_LOWER_BOUND': 0.2, 'VELOCITY_CHANGE_PROB': 0.2, 'VELOCITY_CHANGE_NOISE': 0.1, 'ANGLE_CHANGE_PROB': 0.25, 'ANGLE_CHANGE_NOISE': 2.5, 'GROUP_PERCENTAGES': [0.1, 0.4, 0.65, 0.85, 1.0], 'GROUP_CLUSTER_COUNT': [1, 6, 5, 5, 3]}\n"
     ]
    }
   ],
   "source": [
    "ours_bo20_fde = ours_res['BEST_OF_20']['FDE']\n",
    "index_min = np.argmin(ours_bo20_fde)\n",
    "print(index_min)\n",
    "print(\"Lowest FDE: \", ours_bo20_fde[index_min])\n",
    "print(\"Param set: \", our_method_params[index_min])"
   ]
  },
  {
   "cell_type": "code",
   "execution_count": 168,
   "id": "0d03b9fd",
   "metadata": {},
   "outputs": [
    {
     "name": "stdout",
     "output_type": "stream",
     "text": [
      "0\n",
      "Lowest FDE:  0.37255842850463805\n",
      "Param set:  {'NOISE': 0.05, 'NO_OF_TRAJECTORIES': 10000, 'CONST_VEL_MODEL_PROB': 0.5, 'STOP_PROB': 0.05, 'DISCOUNT_AVG_PROB': 1.0, 'DISCOUNT_LOWER_BOUND': 0.2, 'VELOCITY_CHANGE_PROB': 0.2, 'VELOCITY_CHANGE_NOISE': 0.1, 'ANGLE_CHANGE_PROB': 0.25, 'ANGLE_CHANGE_NOISE': 2.5, 'GROUP_PERCENTAGES': [0.1, 0.4, 0.65, 0.85, 1.0], 'GROUP_CLUSTER_COUNT': [1, 6, 5, 5, 3]}\n"
     ]
    }
   ],
   "source": [
    "ours_bo20_fde = ours_res['BEST_OF_20']['FDE']\n",
    "index_min = np.argmin(ours_bo20_fde)\n",
    "print(index_min)\n",
    "print(\"Lowest FDE: \", ours_bo20_fde[index_min])\n",
    "print(\"Param set: \", our_method_params[index_min])"
   ]
  },
  {
   "cell_type": "code",
   "execution_count": 60,
   "id": "ae5ce80b",
   "metadata": {},
   "outputs": [
    {
     "name": "stderr",
     "output_type": "stream",
     "text": [
      "Ours - zara1_vel: 100%|███████████████████████████████████████████████████████████████████████████████████████████| 864/864 [06:33<00:00,  2.20it/s]\n"
     ]
    }
   ],
   "source": [
    "our_params = our_method_params[index_min]\n",
    "res = evaluate_on_dataset([our_params], 'zara1/test/crowds_zara01.txt', 'zara1_vel', evaluate_most_likely=False)"
   ]
  },
  {
   "cell_type": "code",
   "execution_count": 61,
   "id": "b6522a82",
   "metadata": {},
   "outputs": [
    {
     "name": "stdout",
     "output_type": "stream",
     "text": [
      "[{'BEST_OF_20': {'FDE': [0.47540723950032054], 'ADE': [0.2589786249261643]}, 'MOST_LIKELY': {'FDE': [], 'ADE': []}}, {'BEST_OF_20': {'FDE': [0.3263688810977737], 'ADE': [0.1512007682502178]}, 'MOST_LIKELY': {'FDE': [], 'ADE': []}}]\n"
     ]
    }
   ],
   "source": [
    "print(res)"
   ]
  },
  {
   "cell_type": "markdown",
   "id": "efbc746d",
   "metadata": {},
   "source": [
    "## Zara2"
   ]
  },
  {
   "cell_type": "code",
   "execution_count": 156,
   "id": "a4dd8068",
   "metadata": {},
   "outputs": [],
   "source": [
    "our_method_params_z2 = []\n",
    "\n",
    "for angle_change_prob in [0.25]: # done\n",
    "    for angle_change_noise in [2]: # done\n",
    "        for velocity_change_prob in [0.1]: # done\n",
    "            for velocity_change_noise in [0.05]: # done\n",
    "                for discount_lower_bound in [0.2]: # done\n",
    "                    for no_of_trajectories in [200, 500, 1000]:\n",
    "                        one_param_set = {\n",
    "                            'NOISE': 0.05, \n",
    "                            'NO_OF_TRAJECTORIES': no_of_trajectories, \n",
    "                            'CONST_VEL_MODEL_PROB': 0.5, \n",
    "                            'STOP_PROB': 0.05, \n",
    "                            'DISCOUNT_AVG_PROB': 1.0, \n",
    "                            'DISCOUNT_LOWER_BOUND': discount_lower_bound, \n",
    "                            'VELOCITY_CHANGE_PROB': velocity_change_prob,\n",
    "                            'VELOCITY_CHANGE_NOISE': velocity_change_noise, \n",
    "                            'ANGLE_CHANGE_PROB': angle_change_prob, \n",
    "                            'ANGLE_CHANGE_NOISE': angle_change_noise, \n",
    "                            'GROUP_PERCENTAGES': [0.1, 0.4, 0.65, 0.85, 1.0], \n",
    "                            'GROUP_CLUSTER_COUNT': [1, 6, 5, 5, 3]\n",
    "                        }\n",
    "\n",
    "\n",
    "                        our_method_params_z2.append(one_param_set)\n",
    "                "
   ]
  },
  {
   "cell_type": "code",
   "execution_count": 157,
   "id": "c496a89f",
   "metadata": {},
   "outputs": [
    {
     "name": "stderr",
     "output_type": "stream",
     "text": [
      "Ours - zara2_vel: 100%|█████████████████████████████████████████████████████████████████████████████████████████████| 78/78 [00:10<00:00,  7.11it/s]\n",
      "Ours - zara2_vel: 100%|█████████████████████████████████████████████████████████████████████████████████████████████| 78/78 [00:19<00:00,  4.03it/s]\n",
      "Ours - zara2_vel: 100%|█████████████████████████████████████████████████████████████████████████████████████████████| 78/78 [00:32<00:00,  2.40it/s]\n"
     ]
    }
   ],
   "source": [
    "res_z2 = evaluate_on_dataset(our_method_params_z2, 'zara2/test/crowds_zara02.txt', 'zara2_vel', limit=500, evaluate_most_likely=False)"
   ]
  },
  {
   "cell_type": "code",
   "execution_count": 160,
   "id": "a13d9439",
   "metadata": {},
   "outputs": [
    {
     "name": "stdout",
     "output_type": "stream",
     "text": [
      "0\n",
      "Lowest FDE:  0.4889130892807272\n",
      "Param set:  {'NOISE': 0.05, 'NO_OF_TRAJECTORIES': 200, 'CONST_VEL_MODEL_PROB': 0.5, 'STOP_PROB': 0.05, 'DISCOUNT_AVG_PROB': 1.0, 'DISCOUNT_LOWER_BOUND': 0.2, 'VELOCITY_CHANGE_PROB': 0.1, 'VELOCITY_CHANGE_NOISE': 0.05, 'ANGLE_CHANGE_PROB': 0.25, 'ANGLE_CHANGE_NOISE': 2, 'GROUP_PERCENTAGES': [0.1, 0.4, 0.65, 0.85, 1.0], 'GROUP_CLUSTER_COUNT': [1, 6, 5, 5, 3]}\n"
     ]
    }
   ],
   "source": [
    "ours_res_z2 = res_z2[0]\n",
    "trajectron_res_z2 = res_z2[1]\n",
    "\n",
    "ours_bo20_fde = ours_res_z2['BEST_OF_20']['FDE']\n",
    "index_min = np.argmin(ours_bo20_fde)\n",
    "print(index_min)\n",
    "print(\"Lowest FDE: \", ours_bo20_fde[index_min])\n",
    "print(\"Param set: \", our_method_params_z2[index_min])"
   ]
  },
  {
   "cell_type": "markdown",
   "id": "4c05a932",
   "metadata": {},
   "source": [
    "## Univ"
   ]
  },
  {
   "cell_type": "code",
   "execution_count": 124,
   "id": "2a792fa5",
   "metadata": {},
   "outputs": [],
   "source": [
    "our_method_params_univ = []\n",
    "\n",
    "for angle_change_prob in [0.2]:\n",
    "    for angle_change_noise in [2.5]: #more or less done (2.5 was the highest and the best)\n",
    "        for velocity_change_prob in [0.2]: #done\n",
    "            for velocity_change_noise in [0.1]: #more or less done (0.1 was the smallest and the best)\n",
    "                for discount_avg_prob in [1.0]: #done\n",
    "                    one_param_set = {\n",
    "                        'NOISE': 0.05, \n",
    "                        'NO_OF_TRAJECTORIES': 1000, \n",
    "                        'CONST_VEL_MODEL_PROB': 0.5, \n",
    "                        'STOP_PROB': 0.05, \n",
    "                        'DISCOUNT_AVG_PROB': discount_avg_prob, \n",
    "                        'DISCOUNT_LOWER_BOUND': 0.2, \n",
    "                        'VELOCITY_CHANGE_PROB': velocity_change_prob,\n",
    "                        'VELOCITY_CHANGE_NOISE': velocity_change_noise, \n",
    "                        'ANGLE_CHANGE_PROB': angle_change_prob, \n",
    "                        'ANGLE_CHANGE_NOISE': angle_change_noise, \n",
    "                        'GROUP_PERCENTAGES': [0.1, 0.4, 0.65, 0.85, 1.0], \n",
    "                        'GROUP_CLUSTER_COUNT': [1, 6, 5, 5, 3]\n",
    "                    }\n",
    "\n",
    "\n",
    "                    our_method_params_univ.append(one_param_set)\n",
    "                "
   ]
  },
  {
   "cell_type": "code",
   "execution_count": 125,
   "id": "3ea8c7c7",
   "metadata": {},
   "outputs": [
    {
     "name": "stderr",
     "output_type": "stream",
     "text": [
      "Ours - univ_vel: 100%|██████████████████████████████████████████████████████████████████████████████████████████████| 33/33 [01:45<00:00,  3.19s/it]\n",
      "Ours - univ_vel: 100%|██████████████████████████████████████████████████████████████████████████████████████████████| 33/33 [01:52<00:00,  3.41s/it]\n",
      "Ours - univ_vel: 100%|██████████████████████████████████████████████████████████████████████████████████████████████| 33/33 [01:57<00:00,  3.57s/it]\n",
      "Ours - univ_vel: 100%|██████████████████████████████████████████████████████████████████████████████████████████████| 33/33 [01:45<00:00,  3.19s/it]\n",
      "Ours - univ_vel: 100%|██████████████████████████████████████████████████████████████████████████████████████████████| 33/33 [01:52<00:00,  3.41s/it]\n",
      "Ours - univ_vel: 100%|██████████████████████████████████████████████████████████████████████████████████████████████| 33/33 [01:57<00:00,  3.57s/it]\n",
      "Ours - univ_vel: 100%|██████████████████████████████████████████████████████████████████████████████████████████████| 33/33 [01:44<00:00,  3.18s/it]\n",
      "Ours - univ_vel: 100%|██████████████████████████████████████████████████████████████████████████████████████████████| 33/33 [01:53<00:00,  3.43s/it]\n",
      "Ours - univ_vel: 100%|██████████████████████████████████████████████████████████████████████████████████████████████| 33/33 [01:57<00:00,  3.58s/it]\n",
      "Ours - univ_vel: 100%|██████████████████████████████████████████████████████████████████████████████████████████████| 33/33 [01:46<00:00,  3.23s/it]\n",
      "Ours - univ_vel: 100%|██████████████████████████████████████████████████████████████████████████████████████████████| 33/33 [01:54<00:00,  3.47s/it]\n",
      "Ours - univ_vel: 100%|██████████████████████████████████████████████████████████████████████████████████████████████| 33/33 [01:59<00:00,  3.62s/it]\n",
      "Ours - univ_vel: 100%|██████████████████████████████████████████████████████████████████████████████████████████████| 33/33 [01:47<00:00,  3.25s/it]\n",
      "Ours - univ_vel: 100%|██████████████████████████████████████████████████████████████████████████████████████████████| 33/33 [01:55<00:00,  3.49s/it]\n",
      "Ours - univ_vel: 100%|██████████████████████████████████████████████████████████████████████████████████████████████| 33/33 [01:59<00:00,  3.62s/it]\n",
      "Ours - univ_vel: 100%|██████████████████████████████████████████████████████████████████████████████████████████████| 33/33 [01:46<00:00,  3.23s/it]\n",
      "Ours - univ_vel: 100%|██████████████████████████████████████████████████████████████████████████████████████████████| 33/33 [01:54<00:00,  3.47s/it]\n",
      "Ours - univ_vel: 100%|██████████████████████████████████████████████████████████████████████████████████████████████| 33/33 [01:59<00:00,  3.62s/it]\n",
      "Ours - univ_vel: 100%|██████████████████████████████████████████████████████████████████████████████████████████████| 33/33 [01:49<00:00,  3.32s/it]\n",
      "Ours - univ_vel: 100%|██████████████████████████████████████████████████████████████████████████████████████████████| 33/33 [01:56<00:00,  3.52s/it]\n",
      "Ours - univ_vel: 100%|██████████████████████████████████████████████████████████████████████████████████████████████| 33/33 [02:00<00:00,  3.66s/it]\n",
      "Ours - univ_vel: 100%|██████████████████████████████████████████████████████████████████████████████████████████████| 33/33 [01:48<00:00,  3.29s/it]\n",
      "Ours - univ_vel: 100%|██████████████████████████████████████████████████████████████████████████████████████████████| 33/33 [01:56<00:00,  3.52s/it]\n",
      "Ours - univ_vel: 100%|██████████████████████████████████████████████████████████████████████████████████████████████| 33/33 [02:00<00:00,  3.66s/it]\n",
      "Ours - univ_vel: 100%|██████████████████████████████████████████████████████████████████████████████████████████████| 33/33 [01:48<00:00,  3.29s/it]\n",
      "Ours - univ_vel: 100%|██████████████████████████████████████████████████████████████████████████████████████████████| 33/33 [01:56<00:00,  3.53s/it]\n",
      "Ours - univ_vel: 100%|██████████████████████████████████████████████████████████████████████████████████████████████| 33/33 [02:01<00:00,  3.68s/it]\n",
      "Ours - univ_vel: 100%|██████████████████████████████████████████████████████████████████████████████████████████████| 33/33 [01:44<00:00,  3.18s/it]\n",
      "Ours - univ_vel: 100%|██████████████████████████████████████████████████████████████████████████████████████████████| 33/33 [01:52<00:00,  3.41s/it]\n",
      "Ours - univ_vel: 100%|██████████████████████████████████████████████████████████████████████████████████████████████| 33/33 [01:57<00:00,  3.57s/it]\n",
      "Ours - univ_vel: 100%|██████████████████████████████████████████████████████████████████████████████████████████████| 33/33 [01:44<00:00,  3.18s/it]\n",
      "Ours - univ_vel: 100%|██████████████████████████████████████████████████████████████████████████████████████████████| 33/33 [01:52<00:00,  3.42s/it]\n",
      "Ours - univ_vel: 100%|██████████████████████████████████████████████████████████████████████████████████████████████| 33/33 [01:58<00:00,  3.58s/it]\n",
      "Ours - univ_vel: 100%|██████████████████████████████████████████████████████████████████████████████████████████████| 33/33 [01:45<00:00,  3.19s/it]\n",
      "Ours - univ_vel: 100%|██████████████████████████████████████████████████████████████████████████████████████████████| 33/33 [01:52<00:00,  3.42s/it]\n",
      "Ours - univ_vel: 100%|██████████████████████████████████████████████████████████████████████████████████████████████| 33/33 [01:58<00:00,  3.59s/it]\n",
      "Ours - univ_vel: 100%|██████████████████████████████████████████████████████████████████████████████████████████████| 33/33 [01:46<00:00,  3.24s/it]\n",
      "Ours - univ_vel: 100%|██████████████████████████████████████████████████████████████████████████████████████████████| 33/33 [01:54<00:00,  3.47s/it]\n",
      "Ours - univ_vel: 100%|██████████████████████████████████████████████████████████████████████████████████████████████| 33/33 [01:59<00:00,  3.63s/it]\n",
      "Ours - univ_vel: 100%|██████████████████████████████████████████████████████████████████████████████████████████████| 33/33 [01:46<00:00,  3.24s/it]\n",
      "Ours - univ_vel: 100%|██████████████████████████████████████████████████████████████████████████████████████████████| 33/33 [01:54<00:00,  3.48s/it]\n",
      "Ours - univ_vel: 100%|██████████████████████████████████████████████████████████████████████████████████████████████| 33/33 [01:59<00:00,  3.63s/it]\n",
      "Ours - univ_vel: 100%|██████████████████████████████████████████████████████████████████████████████████████████████| 33/33 [01:47<00:00,  3.25s/it]\n",
      "Ours - univ_vel: 100%|██████████████████████████████████████████████████████████████████████████████████████████████| 33/33 [01:54<00:00,  3.48s/it]\n",
      "Ours - univ_vel: 100%|██████████████████████████████████████████████████████████████████████████████████████████████| 33/33 [02:00<00:00,  3.65s/it]\n",
      "Ours - univ_vel: 100%|██████████████████████████████████████████████████████████████████████████████████████████████| 33/33 [01:48<00:00,  3.29s/it]\n",
      "Ours - univ_vel: 100%|██████████████████████████████████████████████████████████████████████████████████████████████| 33/33 [01:56<00:00,  3.52s/it]\n",
      "Ours - univ_vel: 100%|██████████████████████████████████████████████████████████████████████████████████████████████| 33/33 [02:01<00:00,  3.68s/it]\n",
      "Ours - univ_vel: 100%|██████████████████████████████████████████████████████████████████████████████████████████████| 33/33 [01:48<00:00,  3.30s/it]\n",
      "Ours - univ_vel: 100%|██████████████████████████████████████████████████████████████████████████████████████████████| 33/33 [01:56<00:00,  3.53s/it]\n",
      "Ours - univ_vel: 100%|██████████████████████████████████████████████████████████████████████████████████████████████| 33/33 [02:01<00:00,  3.67s/it]\n",
      "Ours - univ_vel: 100%|██████████████████████████████████████████████████████████████████████████████████████████████| 33/33 [01:48<00:00,  3.29s/it]\n",
      "Ours - univ_vel: 100%|██████████████████████████████████████████████████████████████████████████████████████████████| 33/33 [01:56<00:00,  3.53s/it]\n",
      "Ours - univ_vel: 100%|██████████████████████████████████████████████████████████████████████████████████████████████| 33/33 [02:01<00:00,  3.68s/it]\n"
     ]
    }
   ],
   "source": [
    "res_univ = evaluate_on_dataset(our_method_params_univ, 'univ/test/students001.txt', 'univ_vel', limit=2000, evaluate_most_likely=False)\n"
   ]
  },
  {
   "cell_type": "code",
   "execution_count": 126,
   "id": "0c80a27d",
   "metadata": {},
   "outputs": [
    {
     "name": "stdout",
     "output_type": "stream",
     "text": [
      "38\n",
      "Lowest FDE:  0.4397925446945386\n",
      "Param set:  {'NOISE': 0.05, 'NO_OF_TRAJECTORIES': 1000, 'CONST_VEL_MODEL_PROB': 0.5, 'STOP_PROB': 0.05, 'DISCOUNT_AVG_PROB': 1.0, 'DISCOUNT_LOWER_BOUND': 0.2, 'VELOCITY_CHANGE_PROB': 0.2, 'VELOCITY_CHANGE_NOISE': 0.1, 'ANGLE_CHANGE_PROB': 0.2, 'ANGLE_CHANGE_NOISE': 2.5, 'GROUP_PERCENTAGES': [0.1, 0.4, 0.65, 0.85, 1.0], 'GROUP_CLUSTER_COUNT': [1, 6, 5, 5, 3]}\n"
     ]
    }
   ],
   "source": [
    "ours_res_univ = res_univ[0]\n",
    "trajectron_res_univ = res_univ[1]\n",
    "\n",
    "ours_bo20_fde = ours_res_univ['BEST_OF_20']['FDE']\n",
    "index_min = np.argmin(ours_bo20_fde)\n",
    "print(index_min)\n",
    "print(\"Lowest FDE: \", ours_bo20_fde[index_min])\n",
    "print(\"Param set: \", our_method_params_univ[index_min])"
   ]
  },
  {
   "cell_type": "markdown",
   "id": "7042391d",
   "metadata": {},
   "source": [
    "## Hotel"
   ]
  },
  {
   "cell_type": "code",
   "execution_count": 118,
   "id": "ccead9c2",
   "metadata": {},
   "outputs": [],
   "source": [
    "our_method_params_hotel = []\n",
    "\n",
    "for angle_change_prob in [0.2]: #done\n",
    "    for angle_change_noise in [2]:\n",
    "        for velocity_change_prob in [0.2]: #more or less done (0.2 was the lowest and the best)\n",
    "            for velocity_change_noise in [0.1]: #more or less done (0.1 was the lowest and the best)\n",
    "                for discount_avg_prob in [0.5]: #0.5 was the lowest and the best, should run more\n",
    "                    one_param_set = {\n",
    "                        'NOISE': 0.05, \n",
    "                        'NO_OF_TRAJECTORIES': 1000, \n",
    "                        'CONST_VEL_MODEL_PROB': 0.5, \n",
    "                        'STOP_PROB': 0.05, \n",
    "                        'DISCOUNT_AVG_PROB': discount_avg_prob, \n",
    "                        'DISCOUNT_LOWER_BOUND': 0.2, \n",
    "                        'VELOCITY_CHANGE_PROB': velocity_change_prob,\n",
    "                        'VELOCITY_CHANGE_NOISE': velocity_change_noise, \n",
    "                        'ANGLE_CHANGE_PROB': angle_change_prob, \n",
    "                        'ANGLE_CHANGE_NOISE': angle_change_noise, \n",
    "                        'GROUP_PERCENTAGES': [0.1, 0.4, 0.65, 0.85, 1.0], \n",
    "                        'GROUP_CLUSTER_COUNT': [1, 6, 5, 5, 3]\n",
    "                    }\n",
    "\n",
    "\n",
    "                    our_method_params_hotel.append(one_param_set)\n",
    "                "
   ]
  },
  {
   "cell_type": "code",
   "execution_count": 119,
   "id": "333697fa",
   "metadata": {},
   "outputs": [
    {
     "name": "stderr",
     "output_type": "stream",
     "text": [
      "Ours - hotel_vel: 100%|███████████████████████████████████████████████████████████████████████████████████████████| 232/232 [00:38<00:00,  6.06it/s]\n",
      "Ours - hotel_vel: 100%|███████████████████████████████████████████████████████████████████████████████████████████| 232/232 [00:38<00:00,  5.99it/s]\n",
      "Ours - hotel_vel: 100%|███████████████████████████████████████████████████████████████████████████████████████████| 232/232 [00:40<00:00,  5.76it/s]\n",
      "Ours - hotel_vel: 100%|███████████████████████████████████████████████████████████████████████████████████████████| 232/232 [00:36<00:00,  6.44it/s]\n",
      "Ours - hotel_vel: 100%|███████████████████████████████████████████████████████████████████████████████████████████| 232/232 [00:38<00:00,  6.01it/s]\n",
      "Ours - hotel_vel: 100%|███████████████████████████████████████████████████████████████████████████████████████████| 232/232 [00:40<00:00,  5.77it/s]\n",
      "Ours - hotel_vel: 100%|███████████████████████████████████████████████████████████████████████████████████████████| 232/232 [00:36<00:00,  6.38it/s]\n",
      "Ours - hotel_vel: 100%|███████████████████████████████████████████████████████████████████████████████████████████| 232/232 [00:38<00:00,  5.99it/s]\n",
      "Ours - hotel_vel: 100%|███████████████████████████████████████████████████████████████████████████████████████████| 232/232 [00:40<00:00,  5.75it/s]\n",
      "Ours - hotel_vel: 100%|███████████████████████████████████████████████████████████████████████████████████████████| 232/232 [00:36<00:00,  6.33it/s]\n",
      "Ours - hotel_vel: 100%|███████████████████████████████████████████████████████████████████████████████████████████| 232/232 [00:39<00:00,  5.90it/s]\n",
      "Ours - hotel_vel: 100%|███████████████████████████████████████████████████████████████████████████████████████████| 232/232 [00:40<00:00,  5.69it/s]\n",
      "Ours - hotel_vel: 100%|███████████████████████████████████████████████████████████████████████████████████████████| 232/232 [00:36<00:00,  6.30it/s]\n",
      "Ours - hotel_vel: 100%|███████████████████████████████████████████████████████████████████████████████████████████| 232/232 [00:39<00:00,  5.86it/s]\n",
      "Ours - hotel_vel: 100%|███████████████████████████████████████████████████████████████████████████████████████████| 232/232 [00:40<00:00,  5.67it/s]\n",
      "Ours - hotel_vel: 100%|███████████████████████████████████████████████████████████████████████████████████████████| 232/232 [00:36<00:00,  6.31it/s]\n",
      "Ours - hotel_vel: 100%|███████████████████████████████████████████████████████████████████████████████████████████| 232/232 [00:39<00:00,  5.91it/s]\n",
      "Ours - hotel_vel: 100%|███████████████████████████████████████████████████████████████████████████████████████████| 232/232 [00:40<00:00,  5.68it/s]\n",
      "Ours - hotel_vel: 100%|███████████████████████████████████████████████████████████████████████████████████████████| 232/232 [00:36<00:00,  6.35it/s]\n",
      "Ours - hotel_vel: 100%|███████████████████████████████████████████████████████████████████████████████████████████| 232/232 [00:38<00:00,  5.98it/s]\n",
      "Ours - hotel_vel: 100%|███████████████████████████████████████████████████████████████████████████████████████████| 232/232 [00:40<00:00,  5.68it/s]\n",
      "Ours - hotel_vel: 100%|███████████████████████████████████████████████████████████████████████████████████████████| 232/232 [00:36<00:00,  6.43it/s]\n",
      "Ours - hotel_vel: 100%|███████████████████████████████████████████████████████████████████████████████████████████| 232/232 [00:38<00:00,  6.01it/s]\n",
      "Ours - hotel_vel: 100%|███████████████████████████████████████████████████████████████████████████████████████████| 232/232 [00:40<00:00,  5.71it/s]\n",
      "Ours - hotel_vel: 100%|███████████████████████████████████████████████████████████████████████████████████████████| 232/232 [00:36<00:00,  6.39it/s]\n",
      "Ours - hotel_vel: 100%|███████████████████████████████████████████████████████████████████████████████████████████| 232/232 [00:38<00:00,  5.98it/s]\n",
      "Ours - hotel_vel: 100%|███████████████████████████████████████████████████████████████████████████████████████████| 232/232 [00:40<00:00,  5.75it/s]\n",
      "Ours - hotel_vel: 100%|███████████████████████████████████████████████████████████████████████████████████████████| 232/232 [00:36<00:00,  6.29it/s]\n",
      "Ours - hotel_vel: 100%|███████████████████████████████████████████████████████████████████████████████████████████| 232/232 [00:39<00:00,  5.88it/s]\n",
      "Ours - hotel_vel: 100%|███████████████████████████████████████████████████████████████████████████████████████████| 232/232 [00:41<00:00,  5.66it/s]\n",
      "Ours - hotel_vel: 100%|███████████████████████████████████████████████████████████████████████████████████████████| 232/232 [00:36<00:00,  6.29it/s]\n",
      "Ours - hotel_vel: 100%|███████████████████████████████████████████████████████████████████████████████████████████| 232/232 [00:39<00:00,  5.93it/s]\n",
      "Ours - hotel_vel: 100%|███████████████████████████████████████████████████████████████████████████████████████████| 232/232 [00:41<00:00,  5.61it/s]\n",
      "Ours - hotel_vel: 100%|███████████████████████████████████████████████████████████████████████████████████████████| 232/232 [00:36<00:00,  6.28it/s]\n",
      "Ours - hotel_vel: 100%|███████████████████████████████████████████████████████████████████████████████████████████| 232/232 [00:39<00:00,  5.89it/s]\n",
      "Ours - hotel_vel: 100%|███████████████████████████████████████████████████████████████████████████████████████████| 232/232 [00:41<00:00,  5.64it/s]\n",
      "Ours - hotel_vel: 100%|███████████████████████████████████████████████████████████████████████████████████████████| 232/232 [00:36<00:00,  6.30it/s]\n",
      "Ours - hotel_vel: 100%|███████████████████████████████████████████████████████████████████████████████████████████| 232/232 [00:39<00:00,  5.94it/s]\n",
      "Ours - hotel_vel: 100%|███████████████████████████████████████████████████████████████████████████████████████████| 232/232 [00:40<00:00,  5.69it/s]\n",
      "Ours - hotel_vel: 100%|███████████████████████████████████████████████████████████████████████████████████████████| 232/232 [00:36<00:00,  6.34it/s]\n",
      "Ours - hotel_vel: 100%|███████████████████████████████████████████████████████████████████████████████████████████| 232/232 [00:39<00:00,  5.93it/s]\n",
      "Ours - hotel_vel: 100%|███████████████████████████████████████████████████████████████████████████████████████████| 232/232 [00:40<00:00,  5.70it/s]\n",
      "Ours - hotel_vel: 100%|███████████████████████████████████████████████████████████████████████████████████████████| 232/232 [00:36<00:00,  6.35it/s]\n",
      "Ours - hotel_vel: 100%|███████████████████████████████████████████████████████████████████████████████████████████| 232/232 [00:39<00:00,  5.94it/s]\n",
      "Ours - hotel_vel: 100%|███████████████████████████████████████████████████████████████████████████████████████████| 232/232 [00:41<00:00,  5.63it/s]\n",
      "Ours - hotel_vel: 100%|███████████████████████████████████████████████████████████████████████████████████████████| 232/232 [00:36<00:00,  6.31it/s]\n",
      "Ours - hotel_vel: 100%|███████████████████████████████████████████████████████████████████████████████████████████| 232/232 [00:39<00:00,  5.93it/s]\n",
      "Ours - hotel_vel: 100%|███████████████████████████████████████████████████████████████████████████████████████████| 232/232 [00:41<00:00,  5.59it/s]\n",
      "Ours - hotel_vel: 100%|███████████████████████████████████████████████████████████████████████████████████████████| 232/232 [00:37<00:00,  6.26it/s]\n",
      "Ours - hotel_vel: 100%|███████████████████████████████████████████████████████████████████████████████████████████| 232/232 [00:39<00:00,  5.85it/s]\n",
      "Ours - hotel_vel: 100%|███████████████████████████████████████████████████████████████████████████████████████████| 232/232 [00:41<00:00,  5.62it/s]\n",
      "Ours - hotel_vel: 100%|███████████████████████████████████████████████████████████████████████████████████████████| 232/232 [00:36<00:00,  6.28it/s]\n",
      "Ours - hotel_vel: 100%|███████████████████████████████████████████████████████████████████████████████████████████| 232/232 [00:39<00:00,  5.87it/s]\n",
      "Ours - hotel_vel: 100%|███████████████████████████████████████████████████████████████████████████████████████████| 232/232 [00:41<00:00,  5.61it/s]\n"
     ]
    }
   ],
   "source": [
    "res_hotel = evaluate_on_dataset(our_method_params_hotel, 'hotel/test/biwi_hotel.txt', 'hotel_vel', limit=500, evaluate_most_likely=False)\n"
   ]
  },
  {
   "cell_type": "code",
   "execution_count": 120,
   "id": "ced5bcff",
   "metadata": {},
   "outputs": [
    {
     "name": "stdout",
     "output_type": "stream",
     "text": [
      "18\n",
      "Lowest FDE:  0.14298221502075015\n",
      "Param set:  {'NOISE': 0.05, 'NO_OF_TRAJECTORIES': 1000, 'CONST_VEL_MODEL_PROB': 0.5, 'STOP_PROB': 0.05, 'DISCOUNT_AVG_PROB': 0.5, 'DISCOUNT_LOWER_BOUND': 0.2, 'VELOCITY_CHANGE_PROB': 0.2, 'VELOCITY_CHANGE_NOISE': 0.1, 'ANGLE_CHANGE_PROB': 0.2, 'ANGLE_CHANGE_NOISE': 2, 'GROUP_PERCENTAGES': [0.1, 0.4, 0.65, 0.85, 1.0], 'GROUP_CLUSTER_COUNT': [1, 6, 5, 5, 3]}\n"
     ]
    }
   ],
   "source": [
    "ours_res_hotel = res_hotel[0]\n",
    "trajectron_res_hotel = res_hotel[1]\n",
    "\n",
    "ours_bo20_fde = ours_res_hotel['BEST_OF_20']['FDE']\n",
    "index_min = np.argmin(ours_bo20_fde)\n",
    "print(index_min)\n",
    "print(\"Lowest FDE: \", ours_bo20_fde[index_min])\n",
    "print(\"Param set: \", our_method_params_hotel[index_min])"
   ]
  },
  {
   "cell_type": "markdown",
   "id": "123cc445",
   "metadata": {},
   "source": [
    "## ETH"
   ]
  },
  {
   "cell_type": "code",
   "execution_count": 154,
   "id": "56a7deee",
   "metadata": {},
   "outputs": [],
   "source": [
    "our_method_params_eth = []\n",
    "\n",
    "for angle_change_prob in [0.25]: #0.25 was the highest and the best\n",
    "    for angle_change_noise in [2]:\n",
    "        for velocity_change_prob in [0.2]: #done\n",
    "            for velocity_change_noise in [0.2]: #done\n",
    "                for discount_avg_prob in [1.0]: #done\n",
    "                    for no_of_trajectories in [200, 1000, 2000]:\n",
    "                        one_param_set = {\n",
    "                            'NOISE': 0.05, \n",
    "                            'NO_OF_TRAJECTORIES': no_of_trajectories, \n",
    "                            'CONST_VEL_MODEL_PROB': 0.5, \n",
    "                            'STOP_PROB': 0.05, \n",
    "                            'DISCOUNT_AVG_PROB': discount_avg_prob, \n",
    "                            'DISCOUNT_LOWER_BOUND': 0.2, \n",
    "                            'VELOCITY_CHANGE_PROB': velocity_change_prob,\n",
    "                            'VELOCITY_CHANGE_NOISE': velocity_change_noise, \n",
    "                            'ANGLE_CHANGE_PROB': angle_change_prob, \n",
    "                            'ANGLE_CHANGE_NOISE': angle_change_noise, \n",
    "                            'GROUP_PERCENTAGES': [0.1, 0.4, 0.65, 0.85, 1.0], \n",
    "                            'GROUP_CLUSTER_COUNT': [1, 6, 5, 5, 3]\n",
    "                        }\n",
    "\n",
    "\n",
    "                        our_method_params_eth.append(one_param_set)\n",
    "                "
   ]
  },
  {
   "cell_type": "code",
   "execution_count": 155,
   "id": "e1dfe04b",
   "metadata": {},
   "outputs": [
    {
     "name": "stderr",
     "output_type": "stream",
     "text": [
      "Ours - eth_vel: 100%|█████████████████████████████████████████████████████████████████████████████████████████████| 284/284 [00:14<00:00, 19.73it/s]\n",
      "Ours - eth_vel: 100%|█████████████████████████████████████████████████████████████████████████████████████████████| 284/284 [00:44<00:00,  6.39it/s]\n",
      "Ours - eth_vel: 100%|█████████████████████████████████████████████████████████████████████████████████████████████| 284/284 [01:24<00:00,  3.37it/s]\n"
     ]
    }
   ],
   "source": [
    "res_eth = evaluate_on_dataset(our_method_params_eth, 'eth/test/biwi_eth.txt', 'eth_vel', limit=500, evaluate_most_likely=False)\n",
    "\n"
   ]
  },
  {
   "cell_type": "code",
   "execution_count": 158,
   "id": "f4148e79",
   "metadata": {},
   "outputs": [
    {
     "name": "stdout",
     "output_type": "stream",
     "text": [
      "1\n",
      "Lowest FDE:  0.48526251574931417\n",
      "Param set:  {'NOISE': 0.05, 'NO_OF_TRAJECTORIES': 1000, 'CONST_VEL_MODEL_PROB': 0.5, 'STOP_PROB': 0.05, 'DISCOUNT_AVG_PROB': 1.0, 'DISCOUNT_LOWER_BOUND': 0.2, 'VELOCITY_CHANGE_PROB': 0.2, 'VELOCITY_CHANGE_NOISE': 0.2, 'ANGLE_CHANGE_PROB': 0.25, 'ANGLE_CHANGE_NOISE': 2, 'GROUP_PERCENTAGES': [0.1, 0.4, 0.65, 0.85, 1.0], 'GROUP_CLUSTER_COUNT': [1, 6, 5, 5, 3]}\n"
     ]
    }
   ],
   "source": [
    "ours_res_eth = res_eth[0]\n",
    "trajectron_res_eth = res_eth[1]\n",
    "\n",
    "ours_bo20_fde = ours_res_eth['BEST_OF_20']['FDE']\n",
    "index_min = np.argmin(ours_bo20_fde)\n",
    "print(index_min)\n",
    "print(\"Lowest FDE: \", ours_bo20_fde[index_min])\n",
    "print(\"Param set: \", our_method_params_eth[index_min])"
   ]
  },
  {
   "cell_type": "code",
   "execution_count": 159,
   "id": "e72d62ee",
   "metadata": {},
   "outputs": [
    {
     "name": "stdout",
     "output_type": "stream",
     "text": [
      "[0.5307309071331852, 0.48526251574931417, 0.5391984758562167]\n"
     ]
    }
   ],
   "source": [
    "print(ours_bo20_fde)"
   ]
  },
  {
   "cell_type": "code",
   "execution_count": null,
   "id": "b3fa3ac6",
   "metadata": {},
   "outputs": [],
   "source": []
  }
 ],
 "metadata": {
  "kernelspec": {
   "display_name": "Python 3 (ipykernel)",
   "language": "python",
   "name": "python3"
  },
  "language_info": {
   "codemirror_mode": {
    "name": "ipython",
    "version": 3
   },
   "file_extension": ".py",
   "mimetype": "text/x-python",
   "name": "python",
   "nbconvert_exporter": "python",
   "pygments_lexer": "ipython3",
   "version": "3.9.0"
  }
 },
 "nbformat": 4,
 "nbformat_minor": 5
}
