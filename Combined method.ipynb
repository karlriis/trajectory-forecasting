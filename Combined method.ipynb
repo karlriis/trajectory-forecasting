{
 "cells": [
  {
   "cell_type": "markdown",
   "id": "2420f908",
   "metadata": {},
   "source": [
    "# Combined method which generates trajectories by:\n",
    "At each predict timestep randomly apply:\n",
    "- velocity as constant model\n",
    "- velocity and angle change as constant model\n",
    "- randomly stopping"
   ]
  },
  {
   "cell_type": "code",
   "execution_count": 32,
   "id": "e64e53d9",
   "metadata": {},
   "outputs": [],
   "source": [
    "from matplotlib import pyplot as plt\n",
    "import numpy as np\n",
    "import pandas as pd\n",
    "import math\n",
    "#np.random.seed(42)"
   ]
  },
  {
   "cell_type": "code",
   "execution_count": 2,
   "id": "74a8ab0c",
   "metadata": {},
   "outputs": [
    {
     "name": "stderr",
     "output_type": "stream",
     "text": [
      "/Users/kriis/miniforge3/envs/tensorflow_m1/lib/python3.9/site-packages/pandas/util/_decorators.py:311: ParserWarning: Falling back to the 'python' engine because the 'c' engine does not support regex separators (separators > 1 char and different from '\\s+' are interpreted as regex); you can avoid this warning by specifying engine='python'.\n",
      "  return func(*args, **kwargs)\n"
     ]
    },
    {
     "name": "stdout",
     "output_type": "stream",
     "text": [
      "reading:./OpenTraj/datasets/Edinburgh/annotations/tracks.01Sep.txt\n"
     ]
    },
    {
     "name": "stderr",
     "output_type": "stream",
     "text": [
      "100%|█████████████████████████████████████████████████████████████████████████████████████████████████| 2342/2342 [01:01<00:00, 38.27it/s]\n"
     ]
    },
    {
     "name": "stdout",
     "output_type": "stream",
     "text": [
      "Warning! too big dt in [Edinburgh]\n",
      "finish\n"
     ]
    }
   ],
   "source": [
    "# Edinburgh\n",
    "from data_processing import read_edinburgh_data \n",
    "data, agent_ids = read_edinburgh_data()"
   ]
  },
  {
   "cell_type": "markdown",
   "id": "82772284",
   "metadata": {},
   "source": [
    "### Helper methods"
   ]
  },
  {
   "cell_type": "code",
   "execution_count": 3,
   "id": "f7372a92",
   "metadata": {},
   "outputs": [],
   "source": [
    "def agent_data(data, agent_id):\n",
    "    x = data[\"pos_x\"].loc[data[\"agent_id\"]==agent_id].values\n",
    "    y = data[\"pos_y\"].loc[data[\"agent_id\"]==agent_id].values\n",
    "\n",
    "    max_train_idx = len(x)-10\n",
    "    \n",
    "    return x, y, max_train_idx\n",
    "\n",
    "# Sample train and test data for pos_x and pos_y, each slice with num_steps length\n",
    "def generate_data(data, begin_idx, agent_id, num_steps=5):\n",
    "    sample_x = data[\"pos_x\"].loc[data[\"agent_id\"]==agent_id][begin_idx:begin_idx+num_steps].values\n",
    "    sample_y = data[\"pos_y\"].loc[data[\"agent_id\"]==agent_id][begin_idx:begin_idx+num_steps].values\n",
    "\n",
    "    test_x = data[\"pos_x\"].loc[data[\"agent_id\"]==agent_id][begin_idx+num_steps:begin_idx+2*num_steps].values\n",
    "    test_y = data[\"pos_y\"].loc[data[\"agent_id\"]==agent_id][begin_idx+num_steps:begin_idx+2*num_steps].values\n",
    "    \n",
    "    return sample_x, sample_y, test_x, test_y\n",
    "    \n",
    "def calculate_FDE(pred_x, pred_y, test_x, test_y):\n",
    "\n",
    "    final_displacement_x = pred_x[-1] - test_x[-1]\n",
    "    final_displacement_y = pred_y[-1] - test_y[-1]\n",
    "    FDE = np.sqrt(final_displacement_x**2 + final_displacement_y**2)\n",
    "    \n",
    "    return FDE\n",
    "\n",
    "def rotate(origin, point, angle):\n",
    "    \"\"\"\n",
    "    Rotate a point counterclockwise by a given angle around a given origin.\n",
    "\n",
    "    The angle should be given in radians.\n",
    "    \"\"\"\n",
    "    ox, oy = origin\n",
    "    px, py = point\n",
    "\n",
    "    qx = ox + math.cos(angle) * (px - ox) - math.sin(angle) * (py - oy)\n",
    "    qy = oy + math.sin(angle) * (px - ox) + math.cos(angle) * (py - oy)\n",
    "    return qx, qy"
   ]
  },
  {
   "cell_type": "code",
   "execution_count": 58,
   "id": "6f57e9fb",
   "metadata": {},
   "outputs": [],
   "source": [
    "def average_angle(sample_vel_x, sample_vel_y):\n",
    "    all_angles = []\n",
    "    for i in range(1, len(sample_vel_x)):\n",
    "        prev_vel = [sample_vel_x[i-1], sample_vel_y[i-1]]\n",
    "        curr_vel = [sample_vel_x[i], sample_vel_y[i]]\n",
    "        one_angle = np.math.atan2(np.linalg.det([prev_vel, curr_vel]),np.dot(prev_vel, curr_vel))   \n",
    "        all_angles.append(one_angle)\n",
    "    \n",
    "    avg_angle = np.mean(all_angles)\n",
    "    return avg_angle\n",
    "\n",
    "def get_action():\n",
    "    if np.random.rand() < 0.01:\n",
    "        return 'STOP'\n",
    "    \n",
    "    if np.random.rand() < 0.8:\n",
    "        return 'CONST_VEL'\n",
    "    else:\n",
    "        return 'CONST_VEL_W_ROTATION'"
   ]
  },
  {
   "cell_type": "markdown",
   "id": "3e8cc2e2",
   "metadata": {},
   "source": [
    "### Prediction"
   ]
  },
  {
   "cell_type": "code",
   "execution_count": 81,
   "id": "82698b0a",
   "metadata": {},
   "outputs": [],
   "source": [
    "def predict(data, agent_id, start_idx, noise_var = 0.1):\n",
    "    # read in the trajectory data\n",
    "    sample_x, sample_y, test_x, test_y = generate_data(data, start_idx, agent_id, 5)\n",
    "    \n",
    "    # calculate velocity data\n",
    "    sample_vel_x = [(sample_x[i] - sample_x[i-1]) + np.random.normal(0, noise_var) for i in range(1, len(sample_x))]\n",
    "    sample_vel_y = [(sample_y[i] - sample_y[i-1]) + np.random.normal(0, noise_var) for i in range(1, len(sample_y))]\n",
    "    \n",
    "    avg_vel_x = np.mean(sample_vel_x)\n",
    "    avg_vel_y = np.mean(sample_vel_y)\n",
    "    \n",
    "    # find the average angle\n",
    "    avg_angle = average_angle(sample_vel_x, sample_vel_y)\n",
    "    \n",
    "    # start predicting\n",
    "    pred_x = []\n",
    "    pred_y = []\n",
    "    \n",
    "    for i in range(5):\n",
    "        action = get_action()\n",
    "        print(action)\n",
    "        if action == 'CONST_VEL':\n",
    "            # TODO make the velocity a random value\n",
    "            if len(pred_x) == 0:\n",
    "                pred_x.append(sample_x[-1] + avg_vel_x)\n",
    "                pred_y.append(sample_y[-1] + avg_vel_y)\n",
    "            else:\n",
    "                pred_x.append(pred_x[-1] + avg_vel_x)\n",
    "                pred_y.append(pred_y[-1] + avg_vel_y)\n",
    "        elif action == 'CONST_VEL_W_ROTATION':\n",
    "            # TODO make the rotation angle a random value as well\n",
    "            if len(pred_x) == 0:\n",
    "                prev_x = sample_x[-2]\n",
    "                prev_y = sample_y[-2]\n",
    "                cur_x = sample_x[-1] + avg_vel_x\n",
    "                cur_y = sample_y[-1] + avg_vel_y\n",
    "            else:\n",
    "                prev_x = pred_x[-1]\n",
    "                prev_y = pred_y[-1]\n",
    "                cur_x = pred_x[-1] + avg_vel_x\n",
    "                cur_y = pred_y[-1] + avg_vel_y\n",
    "            rot_x, rot_y = rotate((prev_x, prev_y), (cur_x, cur_y), avg_angle)\n",
    "            pred_x.append(rot_x)\n",
    "            pred_y.append(rot_y)\n",
    "            \n",
    "            # redefine the average velocity as it now has a new heading\n",
    "            avg_vel_x = rot_x - prev_x\n",
    "            avg_vel_y = rot_y - prev_y\n",
    "        elif action == 'STOP':\n",
    "            if len(pred_x) == 0:\n",
    "                pred_x.append(sample_x[-1])\n",
    "                pred_y.append(sample_y[-1])\n",
    "            else:\n",
    "                pred_x.append(pred_x[-1])\n",
    "                pred_y.append(pred_y[-1])\n",
    "        \n",
    "    return pred_x, pred_y\n",
    "            "
   ]
  },
  {
   "cell_type": "markdown",
   "id": "11a1ad13",
   "metadata": {},
   "source": [
    "### Running the experiment"
   ]
  },
  {
   "cell_type": "code",
   "execution_count": 83,
   "id": "8316a7e3",
   "metadata": {},
   "outputs": [
    {
     "name": "stdout",
     "output_type": "stream",
     "text": [
      "AVG_VEL\n",
      "AVG_VEL\n",
      "AVG_VEL_W_ROTATION\n",
      "AVG_VEL\n",
      "AVG_VEL\n"
     ]
    },
    {
     "data": {
      "image/png": "[encoded data removed]",
      "text/plain": [
       "<Figure size 432x288 with 1 Axes>"
      ]
     },
     "metadata": {
      "needs_background": "light"
     },
     "output_type": "display_data"
    }
   ],
   "source": [
    "for agent_id in agent_ids[:1]:\n",
    "    x_data, y_data, max_train_idx = agent_data(data, agent_id)\n",
    "    random_start_idx = np.random.randint(0, max_train_idx)\n",
    "    \n",
    "    # TODO generate many predictions here later\n",
    "    pred_x, pred_y = predict(data, agent_id, random_start_idx)\n",
    "    plt.plot(x_data, y_data)\n",
    "    plt.scatter(x_data, y_data)\n",
    "    plt.scatter(pred_x, pred_y)"
   ]
  },
  {
   "cell_type": "code",
   "execution_count": null,
   "id": "dbed2ba7",
   "metadata": {},
   "outputs": [],
   "source": []
  }
 ],
 "metadata": {
  "kernelspec": {
   "display_name": "Python 3 (ipykernel)",
   "language": "python",
   "name": "python3"
  },
  "language_info": {
   "codemirror_mode": {
    "name": "ipython",
    "version": 3
   },
   "file_extension": ".py",
   "mimetype": "text/x-python",
   "name": "python",
   "nbconvert_exporter": "python",
   "pygments_lexer": "ipython3",
   "version": "3.9.0"
  }
 },
 "nbformat": 4,
 "nbformat_minor": 5
}
