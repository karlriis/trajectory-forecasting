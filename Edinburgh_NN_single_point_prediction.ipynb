{
 "cells": [
  {
   "cell_type": "markdown",
   "id": "fa949827",
   "metadata": {},
   "source": [
    "## Neural network predicting 1 future point"
   ]
  },
  {
   "cell_type": "code",
   "execution_count": 13,
   "id": "be36544f",
   "metadata": {
    "colab": {
     "base_uri": "https://localhost:8080/"
    },
    "id": "be36544f",
    "outputId": "b29ed334-6d6a-4c47-9174-2006437a4121"
   },
   "outputs": [],
   "source": [
    "#! git clone https://github.com/crowdbotp/OpenTraj.git\n",
    "#! pip install pykalman"
   ]
  },
  {
   "cell_type": "code",
   "execution_count": 14,
   "id": "43186641",
   "metadata": {
    "id": "43186641"
   },
   "outputs": [],
   "source": [
    "import os\n",
    "import sys\n",
    "sys.path.insert(0, os.path.abspath(os.getcwd()) + '/OpenTraj/opentraj/') # Anaconda python can't find the toolkit path without this for some reason\n",
    "\n",
    "from toolkit.loaders.loader_edinburgh import load_edinburgh\n",
    "from matplotlib import pyplot as plt\n",
    "import numpy as np\n",
    "np.random.seed(42)"
   ]
  },
  {
   "cell_type": "markdown",
   "id": "b0478b39",
   "metadata": {},
   "source": [
    "## Data preparation"
   ]
  },
  {
   "cell_type": "code",
   "execution_count": 15,
   "id": "63295479",
   "metadata": {
    "colab": {
     "base_uri": "https://localhost:8080/"
    },
    "id": "63295479",
    "outputId": "ad31dcd2-7582-4a14-9232-e9ce081f0d68"
   },
   "outputs": [
    {
     "name": "stderr",
     "output_type": "stream",
     "text": [
      "/Users/kriis/miniforge3/envs/tensorflow_m1/lib/python3.9/site-packages/pandas/util/_decorators.py:311: ParserWarning: Falling back to the 'python' engine because the 'c' engine does not support regex separators (separators > 1 char and different from '\\s+' are interpreted as regex); you can avoid this warning by specifying engine='python'.\n",
      "  return func(*args, **kwargs)\n"
     ]
    },
    {
     "name": "stdout",
     "output_type": "stream",
     "text": [
      "reading:./OpenTraj/datasets/Edinburgh/annotations/tracks.01Sep.txt\n"
     ]
    },
    {
     "name": "stderr",
     "output_type": "stream",
     "text": [
      "100%|█████████████████████████████████████████████████████| 2342/2342 [01:10<00:00, 33.11it/s]\n"
     ]
    },
    {
     "name": "stdout",
     "output_type": "stream",
     "text": [
      "Warning! too big dt in [Edinburgh]\n",
      "finish\n"
     ]
    }
   ],
   "source": [
    "opentraj_root = './OpenTraj/'\n",
    "selected_day = '01Sep' # 3 days of data in total, ['01Jul', '01Aug', '01Sep']\n",
    "edinburgh_path = os.path.join(opentraj_root, 'datasets/Edinburgh/annotations', 'tracks.%s.txt' % selected_day)\n",
    "traj_dataset = load_edinburgh(edinburgh_path, title=\"Edinburgh\", \n",
    "                              use_kalman=False, scene_id=selected_day, sampling_rate=4)"
   ]
  },
  {
   "cell_type": "code",
   "execution_count": 16,
   "id": "d2107c6b",
   "metadata": {
    "id": "d2107c6b"
   },
   "outputs": [],
   "source": [
    "data = traj_dataset.data\n",
    "NUM_OF_STEPS = 5\n",
    "\n",
    "# Removing any agents which don't have enough steps for model fitting and predicting\n",
    "agent_ids = data.agent_id.unique()\n",
    "for agent_id in agent_ids:\n",
    "    if len(data[data.agent_id == agent_id]) < 2*NUM_OF_STEPS:\n",
    "        data = data[data.agent_id != agent_id]\n",
    "agent_ids = data.agent_id.unique()"
   ]
  },
  {
   "cell_type": "code",
   "execution_count": 17,
   "id": "9fb4ab4b",
   "metadata": {
    "id": "9fb4ab4b"
   },
   "outputs": [],
   "source": [
    "# 'Normalize' the data so that all trajectories will begin at x=0, y=0\n",
    "for agent_id in agent_ids:\n",
    "    first_x = data[data.agent_id == agent_id]['pos_x'].iloc[0]\n",
    "    first_y = data[data.agent_id == agent_id]['pos_y'].iloc[0]\n",
    "    \n",
    "    data.loc[data.agent_id == agent_id, 'pos_x'] = data[data.agent_id == agent_id]['pos_x'] - first_x\n",
    "    data.loc[data.agent_id == agent_id, 'pos_y'] = data[data.agent_id == agent_id]['pos_y'] - first_y"
   ]
  },
  {
   "cell_type": "code",
   "execution_count": 18,
   "id": "a7407d78",
   "metadata": {
    "id": "a7407d78"
   },
   "outputs": [],
   "source": [
    "# Select the useful columns from the dataset\n",
    "data = data[['index', 'agent_id', 'pos_x', 'pos_y']]"
   ]
  },
  {
   "cell_type": "code",
   "execution_count": 19,
   "id": "f7c7210a",
   "metadata": {
    "id": "f7c7210a"
   },
   "outputs": [],
   "source": [
    "from sklearn.model_selection import train_test_split\n",
    "train_agent_ids, test_agent_ids = train_test_split(agent_ids, test_size=0.2)"
   ]
  },
  {
   "cell_type": "markdown",
   "id": "7a69be78",
   "metadata": {
    "id": "7a69be78"
   },
   "source": [
    "### Helper functions"
   ]
  },
  {
   "cell_type": "code",
   "execution_count": 20,
   "id": "987ee314",
   "metadata": {
    "id": "987ee314"
   },
   "outputs": [],
   "source": [
    "def create_dataset(data, agent_ids):\n",
    "    dataX, dataY = [], []\n",
    "    for agent_id in agent_ids:\n",
    "        x = data[data['agent_id'] == agent_id].iloc[:5][['pos_x', 'pos_y']]\n",
    "        y = data[data['agent_id'] == agent_id].iloc[5][['pos_x', 'pos_y']]\n",
    "        dataX.append(x)\n",
    "        dataY.append(y)\n",
    "    return np.array(dataX), np.array(dataY)\n",
    "    \n",
    "def calculate_error(pred_x, pred_y, test_x, test_y):\n",
    "    \n",
    "    # FDE\n",
    "    final_displacement_x = pred_x[-1] - test_x[-1]\n",
    "    final_displacement_y = pred_y[-1] - test_y[-1]\n",
    "    FDE = np.sqrt(final_displacement_x**2 + final_displacement_y**2)\n",
    "    \n",
    "    # MSE\n",
    "    abs_error_x = pred_x - test_x\n",
    "    abs_error_y = pred_y - test_y\n",
    "    \n",
    "    MSE = np.mean(np.square(abs_error_x)) + np.mean(np.square(abs_error_y))\n",
    "    \n",
    "    return FDE, MSE"
   ]
  },
  {
   "cell_type": "markdown",
   "id": "c9f384c5",
   "metadata": {},
   "source": [
    "## Experiment"
   ]
  },
  {
   "cell_type": "code",
   "execution_count": 21,
   "id": "7f3fa56d",
   "metadata": {
    "id": "7f3fa56d"
   },
   "outputs": [],
   "source": [
    "train = create_dataset(data, train_agent_ids)\n",
    "test = create_dataset(data, test_agent_ids)"
   ]
  },
  {
   "cell_type": "code",
   "execution_count": 24,
   "id": "fc388252",
   "metadata": {
    "id": "fc388252"
   },
   "outputs": [],
   "source": [
    "from keras.models import Model\n",
    "from keras.layers import *    \n",
    "from keras import backend as K\n",
    "\n",
    "def RMSE(y_true, y_pred):\n",
    "    return K.sqrt(K.mean(K.square(y_pred - y_true))) \n",
    "\n",
    "inp = Input((5,2))\n",
    "\n",
    "x = Flatten()(inp)\n",
    "\n",
    "x = Dense(64, activation='relu')(x)\n",
    "x = Dense(32, activation='relu')(x)\n",
    "x = Dense(16, activation='relu')(x)\n",
    "x = Dense(16, activation='relu')(x)\n",
    "\n",
    "out1 = Dense(1, activation='linear')(x)    \n",
    "out2 = Dense(1, activation='linear')(x)\n",
    "\n",
    "model = Model(inputs=inp, outputs=[out1,out2])\n",
    "model.compile(optimizer=tf.keras.optimizers.Adam(learning_rate=0.001), loss = RMSE)"
   ]
  },
  {
   "cell_type": "code",
   "execution_count": 25,
   "id": "d2ad3d42",
   "metadata": {
    "colab": {
     "base_uri": "https://localhost:8080/"
    },
    "id": "d2ad3d42",
    "outputId": "83b641d4-9d00-4d8f-a643-c4a48ddaaa46"
   },
   "outputs": [
    {
     "name": "stdout",
     "output_type": "stream",
     "text": [
      "Epoch 1/400\n"
     ]
    },
    {
     "name": "stderr",
     "output_type": "stream",
     "text": [
      "2022-01-07 13:40:52.414893: I tensorflow/core/grappler/optimizers/custom_graph_optimizer_registry.cc:112] Plugin optimizer for device_type GPU is enabled.\n"
     ]
    },
    {
     "name": "stdout",
     "output_type": "stream",
     "text": [
      "99/99 - 1s - loss: 2.7854 - dense_16_loss: 1.1365 - dense_17_loss: 1.6489 - 1s/epoch - 11ms/step\n",
      "Epoch 2/400\n",
      "99/99 - 0s - loss: 0.7466 - dense_16_loss: 0.3981 - dense_17_loss: 0.3485 - 490ms/epoch - 5ms/step\n",
      "Epoch 3/400\n",
      "99/99 - 0s - loss: 0.6182 - dense_16_loss: 0.3197 - dense_17_loss: 0.2985 - 486ms/epoch - 5ms/step\n",
      "Epoch 4/400\n",
      "99/99 - 0s - loss: 0.5739 - dense_16_loss: 0.2862 - dense_17_loss: 0.2877 - 484ms/epoch - 5ms/step\n",
      "Epoch 5/400\n",
      "99/99 - 0s - loss: 0.5451 - dense_16_loss: 0.2730 - dense_17_loss: 0.2721 - 484ms/epoch - 5ms/step\n",
      "Epoch 6/400\n",
      "99/99 - 0s - loss: 0.5316 - dense_16_loss: 0.2572 - dense_17_loss: 0.2744 - 483ms/epoch - 5ms/step\n",
      "Epoch 7/400\n",
      "99/99 - 0s - loss: 0.5168 - dense_16_loss: 0.2533 - dense_17_loss: 0.2636 - 482ms/epoch - 5ms/step\n",
      "Epoch 8/400\n",
      "99/99 - 0s - loss: 0.5053 - dense_16_loss: 0.2445 - dense_17_loss: 0.2608 - 489ms/epoch - 5ms/step\n",
      "Epoch 9/400\n",
      "99/99 - 0s - loss: 0.5001 - dense_16_loss: 0.2390 - dense_17_loss: 0.2612 - 496ms/epoch - 5ms/step\n",
      "Epoch 10/400\n",
      "99/99 - 0s - loss: 0.5010 - dense_16_loss: 0.2409 - dense_17_loss: 0.2601 - 490ms/epoch - 5ms/step\n",
      "Epoch 11/400\n",
      "99/99 - 0s - loss: 0.4910 - dense_16_loss: 0.2399 - dense_17_loss: 0.2511 - 481ms/epoch - 5ms/step\n",
      "Epoch 12/400\n",
      "99/99 - 0s - loss: 0.4924 - dense_16_loss: 0.2335 - dense_17_loss: 0.2589 - 491ms/epoch - 5ms/step\n",
      "Epoch 13/400\n",
      "99/99 - 0s - loss: 0.4813 - dense_16_loss: 0.2329 - dense_17_loss: 0.2485 - 482ms/epoch - 5ms/step\n",
      "Epoch 14/400\n",
      "99/99 - 0s - loss: 0.4886 - dense_16_loss: 0.2374 - dense_17_loss: 0.2512 - 481ms/epoch - 5ms/step\n",
      "Epoch 15/400\n",
      "99/99 - 0s - loss: 0.4881 - dense_16_loss: 0.2377 - dense_17_loss: 0.2504 - 480ms/epoch - 5ms/step\n",
      "Epoch 16/400\n",
      "99/99 - 0s - loss: 0.4815 - dense_16_loss: 0.2311 - dense_17_loss: 0.2504 - 483ms/epoch - 5ms/step\n",
      "Epoch 17/400\n",
      "99/99 - 0s - loss: 0.4888 - dense_16_loss: 0.2327 - dense_17_loss: 0.2560 - 481ms/epoch - 5ms/step\n",
      "Epoch 18/400\n",
      "99/99 - 0s - loss: 0.4640 - dense_16_loss: 0.2214 - dense_17_loss: 0.2427 - 484ms/epoch - 5ms/step\n",
      "Epoch 19/400\n",
      "99/99 - 0s - loss: 0.4673 - dense_16_loss: 0.2248 - dense_17_loss: 0.2425 - 493ms/epoch - 5ms/step\n",
      "Epoch 20/400\n",
      "99/99 - 0s - loss: 0.4746 - dense_16_loss: 0.2250 - dense_17_loss: 0.2496 - 494ms/epoch - 5ms/step\n",
      "Epoch 21/400\n",
      "99/99 - 0s - loss: 0.4658 - dense_16_loss: 0.2263 - dense_17_loss: 0.2395 - 481ms/epoch - 5ms/step\n",
      "Epoch 22/400\n",
      "99/99 - 0s - loss: 0.4649 - dense_16_loss: 0.2206 - dense_17_loss: 0.2442 - 481ms/epoch - 5ms/step\n",
      "Epoch 23/400\n",
      "99/99 - 0s - loss: 0.4558 - dense_16_loss: 0.2159 - dense_17_loss: 0.2399 - 485ms/epoch - 5ms/step\n",
      "Epoch 24/400\n",
      "99/99 - 0s - loss: 0.4685 - dense_16_loss: 0.2228 - dense_17_loss: 0.2457 - 483ms/epoch - 5ms/step\n",
      "Epoch 25/400\n",
      "99/99 - 0s - loss: 0.4674 - dense_16_loss: 0.2233 - dense_17_loss: 0.2440 - 480ms/epoch - 5ms/step\n",
      "Epoch 26/400\n",
      "99/99 - 0s - loss: 0.4652 - dense_16_loss: 0.2189 - dense_17_loss: 0.2462 - 480ms/epoch - 5ms/step\n",
      "Epoch 27/400\n",
      "99/99 - 0s - loss: 0.4773 - dense_16_loss: 0.2279 - dense_17_loss: 0.2494 - 485ms/epoch - 5ms/step\n",
      "Epoch 28/400\n",
      "99/99 - 0s - loss: 0.4647 - dense_16_loss: 0.2239 - dense_17_loss: 0.2408 - 481ms/epoch - 5ms/step\n",
      "Epoch 29/400\n",
      "99/99 - 0s - loss: 0.4589 - dense_16_loss: 0.2165 - dense_17_loss: 0.2423 - 486ms/epoch - 5ms/step\n",
      "Epoch 30/400\n",
      "99/99 - 0s - loss: 0.4597 - dense_16_loss: 0.2166 - dense_17_loss: 0.2432 - 490ms/epoch - 5ms/step\n",
      "Epoch 31/400\n",
      "99/99 - 0s - loss: 0.4546 - dense_16_loss: 0.2150 - dense_17_loss: 0.2396 - 493ms/epoch - 5ms/step\n",
      "Epoch 32/400\n",
      "99/99 - 0s - loss: 0.4639 - dense_16_loss: 0.2196 - dense_17_loss: 0.2443 - 486ms/epoch - 5ms/step\n",
      "Epoch 33/400\n",
      "99/99 - 0s - loss: 0.4471 - dense_16_loss: 0.2097 - dense_17_loss: 0.2373 - 497ms/epoch - 5ms/step\n",
      "Epoch 34/400\n",
      "99/99 - 0s - loss: 0.4597 - dense_16_loss: 0.2193 - dense_17_loss: 0.2404 - 491ms/epoch - 5ms/step\n",
      "Epoch 35/400\n",
      "99/99 - 0s - loss: 0.4525 - dense_16_loss: 0.2184 - dense_17_loss: 0.2341 - 482ms/epoch - 5ms/step\n",
      "Epoch 36/400\n",
      "99/99 - 0s - loss: 0.4410 - dense_16_loss: 0.2132 - dense_17_loss: 0.2278 - 483ms/epoch - 5ms/step\n",
      "Epoch 37/400\n",
      "99/99 - 0s - loss: 0.4483 - dense_16_loss: 0.2181 - dense_17_loss: 0.2302 - 494ms/epoch - 5ms/step\n",
      "Epoch 38/400\n",
      "99/99 - 0s - loss: 0.4492 - dense_16_loss: 0.2179 - dense_17_loss: 0.2313 - 486ms/epoch - 5ms/step\n",
      "Epoch 39/400\n",
      "99/99 - 0s - loss: 0.4402 - dense_16_loss: 0.2128 - dense_17_loss: 0.2274 - 499ms/epoch - 5ms/step\n",
      "Epoch 40/400\n",
      "99/99 - 0s - loss: 0.4376 - dense_16_loss: 0.2096 - dense_17_loss: 0.2280 - 496ms/epoch - 5ms/step\n",
      "Epoch 41/400\n",
      "99/99 - 1s - loss: 0.4498 - dense_16_loss: 0.2122 - dense_17_loss: 0.2376 - 504ms/epoch - 5ms/step\n",
      "Epoch 42/400\n",
      "99/99 - 0s - loss: 0.4416 - dense_16_loss: 0.2111 - dense_17_loss: 0.2304 - 489ms/epoch - 5ms/step\n",
      "Epoch 43/400\n",
      "99/99 - 0s - loss: 0.4315 - dense_16_loss: 0.2013 - dense_17_loss: 0.2303 - 485ms/epoch - 5ms/step\n",
      "Epoch 44/400\n",
      "99/99 - 0s - loss: 0.4491 - dense_16_loss: 0.2137 - dense_17_loss: 0.2354 - 491ms/epoch - 5ms/step\n",
      "Epoch 45/400\n",
      "99/99 - 0s - loss: 0.4363 - dense_16_loss: 0.2072 - dense_17_loss: 0.2291 - 485ms/epoch - 5ms/step\n",
      "Epoch 46/400\n",
      "99/99 - 0s - loss: 0.4465 - dense_16_loss: 0.2081 - dense_17_loss: 0.2384 - 488ms/epoch - 5ms/step\n",
      "Epoch 47/400\n",
      "99/99 - 0s - loss: 0.4275 - dense_16_loss: 0.2048 - dense_17_loss: 0.2227 - 481ms/epoch - 5ms/step\n",
      "Epoch 48/400\n",
      "99/99 - 0s - loss: 0.4345 - dense_16_loss: 0.2052 - dense_17_loss: 0.2293 - 480ms/epoch - 5ms/step\n",
      "Epoch 49/400\n",
      "99/99 - 0s - loss: 0.4313 - dense_16_loss: 0.2057 - dense_17_loss: 0.2255 - 481ms/epoch - 5ms/step\n",
      "Epoch 50/400\n",
      "99/99 - 0s - loss: 0.4298 - dense_16_loss: 0.2056 - dense_17_loss: 0.2242 - 486ms/epoch - 5ms/step\n",
      "Epoch 51/400\n",
      "99/99 - 0s - loss: 0.4456 - dense_16_loss: 0.2086 - dense_17_loss: 0.2371 - 481ms/epoch - 5ms/step\n",
      "Epoch 52/400\n",
      "99/99 - 0s - loss: 0.4265 - dense_16_loss: 0.2018 - dense_17_loss: 0.2247 - 495ms/epoch - 5ms/step\n",
      "Epoch 53/400\n",
      "99/99 - 0s - loss: 0.4210 - dense_16_loss: 0.2016 - dense_17_loss: 0.2194 - 495ms/epoch - 5ms/step\n",
      "Epoch 54/400\n",
      "99/99 - 0s - loss: 0.4238 - dense_16_loss: 0.2021 - dense_17_loss: 0.2217 - 479ms/epoch - 5ms/step\n",
      "Epoch 55/400\n",
      "99/99 - 0s - loss: 0.4208 - dense_16_loss: 0.1983 - dense_17_loss: 0.2225 - 475ms/epoch - 5ms/step\n",
      "Epoch 56/400\n",
      "99/99 - 0s - loss: 0.4264 - dense_16_loss: 0.2035 - dense_17_loss: 0.2229 - 476ms/epoch - 5ms/step\n",
      "Epoch 57/400\n",
      "99/99 - 0s - loss: 0.4303 - dense_16_loss: 0.2029 - dense_17_loss: 0.2273 - 480ms/epoch - 5ms/step\n",
      "Epoch 58/400\n",
      "99/99 - 0s - loss: 0.4245 - dense_16_loss: 0.1987 - dense_17_loss: 0.2257 - 498ms/epoch - 5ms/step\n",
      "Epoch 59/400\n",
      "99/99 - 1s - loss: 0.4249 - dense_16_loss: 0.1990 - dense_17_loss: 0.2259 - 510ms/epoch - 5ms/step\n",
      "Epoch 60/400\n",
      "99/99 - 0s - loss: 0.4179 - dense_16_loss: 0.1982 - dense_17_loss: 0.2197 - 478ms/epoch - 5ms/step\n",
      "Epoch 61/400\n",
      "99/99 - 0s - loss: 0.4225 - dense_16_loss: 0.1992 - dense_17_loss: 0.2233 - 477ms/epoch - 5ms/step\n",
      "Epoch 62/400\n",
      "99/99 - 0s - loss: 0.4151 - dense_16_loss: 0.1971 - dense_17_loss: 0.2180 - 478ms/epoch - 5ms/step\n",
      "Epoch 63/400\n",
      "99/99 - 0s - loss: 0.4192 - dense_16_loss: 0.1991 - dense_17_loss: 0.2202 - 479ms/epoch - 5ms/step\n",
      "Epoch 64/400\n",
      "99/99 - 1s - loss: 0.4098 - dense_16_loss: 0.1964 - dense_17_loss: 0.2134 - 519ms/epoch - 5ms/step\n",
      "Epoch 65/400\n",
      "99/99 - 0s - loss: 0.4057 - dense_16_loss: 0.1920 - dense_17_loss: 0.2137 - 490ms/epoch - 5ms/step\n",
      "Epoch 66/400\n",
      "99/99 - 0s - loss: 0.4185 - dense_16_loss: 0.2014 - dense_17_loss: 0.2171 - 478ms/epoch - 5ms/step\n",
      "Epoch 67/400\n",
      "99/99 - 0s - loss: 0.4123 - dense_16_loss: 0.1960 - dense_17_loss: 0.2164 - 477ms/epoch - 5ms/step\n",
      "Epoch 68/400\n",
      "99/99 - 0s - loss: 0.4040 - dense_16_loss: 0.1937 - dense_17_loss: 0.2102 - 477ms/epoch - 5ms/step\n",
      "Epoch 69/400\n",
      "99/99 - 0s - loss: 0.4135 - dense_16_loss: 0.1955 - dense_17_loss: 0.2180 - 479ms/epoch - 5ms/step\n",
      "Epoch 70/400\n",
      "99/99 - 0s - loss: 0.4032 - dense_16_loss: 0.1891 - dense_17_loss: 0.2141 - 477ms/epoch - 5ms/step\n",
      "Epoch 71/400\n",
      "99/99 - 0s - loss: 0.4096 - dense_16_loss: 0.1933 - dense_17_loss: 0.2163 - 477ms/epoch - 5ms/step\n",
      "Epoch 72/400\n",
      "99/99 - 0s - loss: 0.4026 - dense_16_loss: 0.1910 - dense_17_loss: 0.2116 - 479ms/epoch - 5ms/step\n",
      "Epoch 73/400\n",
      "99/99 - 0s - loss: 0.4029 - dense_16_loss: 0.1921 - dense_17_loss: 0.2109 - 479ms/epoch - 5ms/step\n",
      "Epoch 74/400\n",
      "99/99 - 0s - loss: 0.4167 - dense_16_loss: 0.1988 - dense_17_loss: 0.2180 - 478ms/epoch - 5ms/step\n"
     ]
    },
    {
     "name": "stdout",
     "output_type": "stream",
     "text": [
      "Epoch 75/400\n",
      "99/99 - 0s - loss: 0.3915 - dense_16_loss: 0.1865 - dense_17_loss: 0.2051 - 477ms/epoch - 5ms/step\n",
      "Epoch 76/400\n",
      "99/99 - 0s - loss: 0.4086 - dense_16_loss: 0.1968 - dense_17_loss: 0.2118 - 476ms/epoch - 5ms/step\n",
      "Epoch 77/400\n",
      "99/99 - 0s - loss: 0.3972 - dense_16_loss: 0.1929 - dense_17_loss: 0.2043 - 475ms/epoch - 5ms/step\n",
      "Epoch 78/400\n",
      "99/99 - 0s - loss: 0.4047 - dense_16_loss: 0.1936 - dense_17_loss: 0.2111 - 476ms/epoch - 5ms/step\n",
      "Epoch 79/400\n",
      "99/99 - 0s - loss: 0.4072 - dense_16_loss: 0.1976 - dense_17_loss: 0.2096 - 495ms/epoch - 5ms/step\n",
      "Epoch 80/400\n",
      "99/99 - 1s - loss: 0.3995 - dense_16_loss: 0.1890 - dense_17_loss: 0.2105 - 519ms/epoch - 5ms/step\n",
      "Epoch 81/400\n",
      "99/99 - 0s - loss: 0.3923 - dense_16_loss: 0.1862 - dense_17_loss: 0.2062 - 493ms/epoch - 5ms/step\n",
      "Epoch 82/400\n",
      "99/99 - 0s - loss: 0.3975 - dense_16_loss: 0.1893 - dense_17_loss: 0.2083 - 476ms/epoch - 5ms/step\n",
      "Epoch 83/400\n",
      "99/99 - 0s - loss: 0.3952 - dense_16_loss: 0.1900 - dense_17_loss: 0.2052 - 475ms/epoch - 5ms/step\n",
      "Epoch 84/400\n",
      "99/99 - 0s - loss: 0.3905 - dense_16_loss: 0.1849 - dense_17_loss: 0.2056 - 478ms/epoch - 5ms/step\n",
      "Epoch 85/400\n",
      "99/99 - 0s - loss: 0.3798 - dense_16_loss: 0.1790 - dense_17_loss: 0.2008 - 482ms/epoch - 5ms/step\n",
      "Epoch 86/400\n",
      "99/99 - 0s - loss: 0.3883 - dense_16_loss: 0.1854 - dense_17_loss: 0.2029 - 476ms/epoch - 5ms/step\n",
      "Epoch 87/400\n",
      "99/99 - 0s - loss: 0.3939 - dense_16_loss: 0.1900 - dense_17_loss: 0.2039 - 479ms/epoch - 5ms/step\n",
      "Epoch 88/400\n",
      "99/99 - 1s - loss: 0.3977 - dense_16_loss: 0.1883 - dense_17_loss: 0.2094 - 525ms/epoch - 5ms/step\n",
      "Epoch 89/400\n",
      "99/99 - 0s - loss: 0.3889 - dense_16_loss: 0.1862 - dense_17_loss: 0.2027 - 484ms/epoch - 5ms/step\n",
      "Epoch 90/400\n",
      "99/99 - 0s - loss: 0.3920 - dense_16_loss: 0.1855 - dense_17_loss: 0.2066 - 476ms/epoch - 5ms/step\n",
      "Epoch 91/400\n",
      "99/99 - 0s - loss: 0.3827 - dense_16_loss: 0.1788 - dense_17_loss: 0.2039 - 474ms/epoch - 5ms/step\n",
      "Epoch 92/400\n",
      "99/99 - 0s - loss: 0.3870 - dense_16_loss: 0.1852 - dense_17_loss: 0.2018 - 477ms/epoch - 5ms/step\n",
      "Epoch 93/400\n",
      "99/99 - 0s - loss: 0.3829 - dense_16_loss: 0.1794 - dense_17_loss: 0.2036 - 476ms/epoch - 5ms/step\n",
      "Epoch 94/400\n",
      "99/99 - 0s - loss: 0.3789 - dense_16_loss: 0.1776 - dense_17_loss: 0.2013 - 476ms/epoch - 5ms/step\n",
      "Epoch 95/400\n",
      "99/99 - 0s - loss: 0.3856 - dense_16_loss: 0.1830 - dense_17_loss: 0.2026 - 474ms/epoch - 5ms/step\n",
      "Epoch 96/400\n",
      "99/99 - 0s - loss: 0.3877 - dense_16_loss: 0.1810 - dense_17_loss: 0.2067 - 477ms/epoch - 5ms/step\n",
      "Epoch 97/400\n",
      "99/99 - 0s - loss: 0.3868 - dense_16_loss: 0.1829 - dense_17_loss: 0.2039 - 493ms/epoch - 5ms/step\n",
      "Epoch 98/400\n",
      "99/99 - 0s - loss: 0.3761 - dense_16_loss: 0.1748 - dense_17_loss: 0.2013 - 482ms/epoch - 5ms/step\n",
      "Epoch 99/400\n",
      "99/99 - 0s - loss: 0.3866 - dense_16_loss: 0.1818 - dense_17_loss: 0.2048 - 481ms/epoch - 5ms/step\n",
      "Epoch 100/400\n",
      "99/99 - 0s - loss: 0.3839 - dense_16_loss: 0.1818 - dense_17_loss: 0.2021 - 483ms/epoch - 5ms/step\n",
      "Epoch 101/400\n",
      "99/99 - 0s - loss: 0.3899 - dense_16_loss: 0.1872 - dense_17_loss: 0.2027 - 479ms/epoch - 5ms/step\n",
      "Epoch 102/400\n",
      "99/99 - 0s - loss: 0.3803 - dense_16_loss: 0.1775 - dense_17_loss: 0.2028 - 482ms/epoch - 5ms/step\n",
      "Epoch 103/400\n",
      "99/99 - 0s - loss: 0.3855 - dense_16_loss: 0.1771 - dense_17_loss: 0.2084 - 491ms/epoch - 5ms/step\n",
      "Epoch 104/400\n",
      "99/99 - 0s - loss: 0.3793 - dense_16_loss: 0.1768 - dense_17_loss: 0.2026 - 479ms/epoch - 5ms/step\n",
      "Epoch 105/400\n",
      "99/99 - 0s - loss: 0.3690 - dense_16_loss: 0.1725 - dense_17_loss: 0.1965 - 485ms/epoch - 5ms/step\n",
      "Epoch 106/400\n",
      "99/99 - 0s - loss: 0.3752 - dense_16_loss: 0.1758 - dense_17_loss: 0.1993 - 491ms/epoch - 5ms/step\n",
      "Epoch 107/400\n",
      "99/99 - 0s - loss: 0.3742 - dense_16_loss: 0.1747 - dense_17_loss: 0.1996 - 487ms/epoch - 5ms/step\n",
      "Epoch 108/400\n",
      "99/99 - 0s - loss: 0.3674 - dense_16_loss: 0.1724 - dense_17_loss: 0.1950 - 465ms/epoch - 5ms/step\n",
      "Epoch 109/400\n",
      "99/99 - 0s - loss: 0.3753 - dense_16_loss: 0.1745 - dense_17_loss: 0.2007 - 468ms/epoch - 5ms/step\n",
      "Epoch 110/400\n",
      "99/99 - 0s - loss: 0.3713 - dense_16_loss: 0.1736 - dense_17_loss: 0.1977 - 477ms/epoch - 5ms/step\n",
      "Epoch 111/400\n",
      "99/99 - 0s - loss: 0.3697 - dense_16_loss: 0.1728 - dense_17_loss: 0.1969 - 478ms/epoch - 5ms/step\n",
      "Epoch 112/400\n",
      "99/99 - 0s - loss: 0.3798 - dense_16_loss: 0.1816 - dense_17_loss: 0.1982 - 481ms/epoch - 5ms/step\n",
      "Epoch 113/400\n",
      "99/99 - 0s - loss: 0.3740 - dense_16_loss: 0.1749 - dense_17_loss: 0.1991 - 485ms/epoch - 5ms/step\n",
      "Epoch 114/400\n",
      "99/99 - 0s - loss: 0.3748 - dense_16_loss: 0.1728 - dense_17_loss: 0.2020 - 492ms/epoch - 5ms/step\n",
      "Epoch 115/400\n",
      "99/99 - 0s - loss: 0.3722 - dense_16_loss: 0.1732 - dense_17_loss: 0.1990 - 482ms/epoch - 5ms/step\n",
      "Epoch 116/400\n",
      "99/99 - 0s - loss: 0.3717 - dense_16_loss: 0.1723 - dense_17_loss: 0.1994 - 477ms/epoch - 5ms/step\n",
      "Epoch 117/400\n",
      "99/99 - 1s - loss: 0.3764 - dense_16_loss: 0.1760 - dense_17_loss: 0.2005 - 500ms/epoch - 5ms/step\n",
      "Epoch 118/400\n",
      "99/99 - 0s - loss: 0.3669 - dense_16_loss: 0.1680 - dense_17_loss: 0.1990 - 485ms/epoch - 5ms/step\n",
      "Epoch 119/400\n",
      "99/99 - 1s - loss: 0.3608 - dense_16_loss: 0.1673 - dense_17_loss: 0.1936 - 515ms/epoch - 5ms/step\n",
      "Epoch 120/400\n",
      "99/99 - 1s - loss: 0.3632 - dense_16_loss: 0.1719 - dense_17_loss: 0.1914 - 508ms/epoch - 5ms/step\n",
      "Epoch 121/400\n",
      "99/99 - 1s - loss: 0.3647 - dense_16_loss: 0.1725 - dense_17_loss: 0.1922 - 501ms/epoch - 5ms/step\n",
      "Epoch 122/400\n",
      "99/99 - 0s - loss: 0.3736 - dense_16_loss: 0.1727 - dense_17_loss: 0.2010 - 482ms/epoch - 5ms/step\n",
      "Epoch 123/400\n",
      "99/99 - 0s - loss: 0.3709 - dense_16_loss: 0.1728 - dense_17_loss: 0.1981 - 483ms/epoch - 5ms/step\n",
      "Epoch 124/400\n",
      "99/99 - 0s - loss: 0.3664 - dense_16_loss: 0.1714 - dense_17_loss: 0.1950 - 481ms/epoch - 5ms/step\n",
      "Epoch 125/400\n",
      "99/99 - 0s - loss: 0.3698 - dense_16_loss: 0.1745 - dense_17_loss: 0.1953 - 495ms/epoch - 5ms/step\n",
      "Epoch 126/400\n",
      "99/99 - 0s - loss: 0.3673 - dense_16_loss: 0.1738 - dense_17_loss: 0.1935 - 495ms/epoch - 5ms/step\n",
      "Epoch 127/400\n",
      "99/99 - 0s - loss: 0.3639 - dense_16_loss: 0.1692 - dense_17_loss: 0.1947 - 476ms/epoch - 5ms/step\n",
      "Epoch 128/400\n",
      "99/99 - 0s - loss: 0.3607 - dense_16_loss: 0.1690 - dense_17_loss: 0.1917 - 492ms/epoch - 5ms/step\n",
      "Epoch 129/400\n",
      "99/99 - 0s - loss: 0.3628 - dense_16_loss: 0.1689 - dense_17_loss: 0.1939 - 497ms/epoch - 5ms/step\n",
      "Epoch 130/400\n",
      "99/99 - 0s - loss: 0.3679 - dense_16_loss: 0.1723 - dense_17_loss: 0.1956 - 472ms/epoch - 5ms/step\n",
      "Epoch 131/400\n",
      "99/99 - 0s - loss: 0.3633 - dense_16_loss: 0.1676 - dense_17_loss: 0.1957 - 484ms/epoch - 5ms/step\n",
      "Epoch 132/400\n",
      "99/99 - 0s - loss: 0.3619 - dense_16_loss: 0.1688 - dense_17_loss: 0.1931 - 480ms/epoch - 5ms/step\n",
      "Epoch 133/400\n",
      "99/99 - 0s - loss: 0.3608 - dense_16_loss: 0.1691 - dense_17_loss: 0.1917 - 486ms/epoch - 5ms/step\n",
      "Epoch 134/400\n",
      "99/99 - 0s - loss: 0.3592 - dense_16_loss: 0.1685 - dense_17_loss: 0.1907 - 473ms/epoch - 5ms/step\n",
      "Epoch 135/400\n",
      "99/99 - 0s - loss: 0.3674 - dense_16_loss: 0.1715 - dense_17_loss: 0.1958 - 484ms/epoch - 5ms/step\n",
      "Epoch 136/400\n",
      "99/99 - 0s - loss: 0.3666 - dense_16_loss: 0.1741 - dense_17_loss: 0.1925 - 482ms/epoch - 5ms/step\n",
      "Epoch 137/400\n",
      "99/99 - 0s - loss: 0.3612 - dense_16_loss: 0.1718 - dense_17_loss: 0.1894 - 481ms/epoch - 5ms/step\n",
      "Epoch 138/400\n",
      "99/99 - 0s - loss: 0.3632 - dense_16_loss: 0.1684 - dense_17_loss: 0.1948 - 485ms/epoch - 5ms/step\n",
      "Epoch 139/400\n",
      "99/99 - 0s - loss: 0.3615 - dense_16_loss: 0.1720 - dense_17_loss: 0.1894 - 473ms/epoch - 5ms/step\n",
      "Epoch 140/400\n",
      "99/99 - 0s - loss: 0.3574 - dense_16_loss: 0.1666 - dense_17_loss: 0.1908 - 479ms/epoch - 5ms/step\n",
      "Epoch 141/400\n",
      "99/99 - 0s - loss: 0.3577 - dense_16_loss: 0.1672 - dense_17_loss: 0.1906 - 493ms/epoch - 5ms/step\n",
      "Epoch 142/400\n",
      "99/99 - 0s - loss: 0.3570 - dense_16_loss: 0.1669 - dense_17_loss: 0.1901 - 486ms/epoch - 5ms/step\n",
      "Epoch 143/400\n",
      "99/99 - 0s - loss: 0.3660 - dense_16_loss: 0.1730 - dense_17_loss: 0.1929 - 475ms/epoch - 5ms/step\n",
      "Epoch 144/400\n",
      "99/99 - 1s - loss: 0.3586 - dense_16_loss: 0.1682 - dense_17_loss: 0.1904 - 506ms/epoch - 5ms/step\n",
      "Epoch 145/400\n",
      "99/99 - 1s - loss: 0.3520 - dense_16_loss: 0.1635 - dense_17_loss: 0.1886 - 514ms/epoch - 5ms/step\n",
      "Epoch 146/400\n",
      "99/99 - 0s - loss: 0.3563 - dense_16_loss: 0.1675 - dense_17_loss: 0.1889 - 479ms/epoch - 5ms/step\n",
      "Epoch 147/400\n",
      "99/99 - 0s - loss: 0.3571 - dense_16_loss: 0.1649 - dense_17_loss: 0.1922 - 487ms/epoch - 5ms/step\n"
     ]
    },
    {
     "name": "stdout",
     "output_type": "stream",
     "text": [
      "Epoch 148/400\n",
      "99/99 - 0s - loss: 0.3462 - dense_16_loss: 0.1656 - dense_17_loss: 0.1805 - 497ms/epoch - 5ms/step\n",
      "Epoch 149/400\n",
      "99/99 - 0s - loss: 0.3526 - dense_16_loss: 0.1657 - dense_17_loss: 0.1868 - 482ms/epoch - 5ms/step\n",
      "Epoch 150/400\n",
      "99/99 - 0s - loss: 0.3584 - dense_16_loss: 0.1676 - dense_17_loss: 0.1907 - 483ms/epoch - 5ms/step\n",
      "Epoch 151/400\n",
      "99/99 - 0s - loss: 0.3535 - dense_16_loss: 0.1611 - dense_17_loss: 0.1923 - 485ms/epoch - 5ms/step\n",
      "Epoch 152/400\n",
      "99/99 - 0s - loss: 0.3617 - dense_16_loss: 0.1673 - dense_17_loss: 0.1944 - 481ms/epoch - 5ms/step\n",
      "Epoch 153/400\n",
      "99/99 - 0s - loss: 0.3572 - dense_16_loss: 0.1691 - dense_17_loss: 0.1880 - 479ms/epoch - 5ms/step\n",
      "Epoch 154/400\n",
      "99/99 - 1s - loss: 0.3518 - dense_16_loss: 0.1644 - dense_17_loss: 0.1874 - 575ms/epoch - 6ms/step\n",
      "Epoch 155/400\n",
      "99/99 - 1s - loss: 0.3438 - dense_16_loss: 0.1598 - dense_17_loss: 0.1840 - 708ms/epoch - 7ms/step\n",
      "Epoch 156/400\n",
      "99/99 - 1s - loss: 0.3496 - dense_16_loss: 0.1589 - dense_17_loss: 0.1907 - 698ms/epoch - 7ms/step\n",
      "Epoch 157/400\n",
      "99/99 - 1s - loss: 0.3436 - dense_16_loss: 0.1595 - dense_17_loss: 0.1841 - 681ms/epoch - 7ms/step\n",
      "Epoch 158/400\n",
      "99/99 - 1s - loss: 0.3536 - dense_16_loss: 0.1631 - dense_17_loss: 0.1905 - 680ms/epoch - 7ms/step\n",
      "Epoch 159/400\n",
      "99/99 - 1s - loss: 0.3463 - dense_16_loss: 0.1631 - dense_17_loss: 0.1832 - 702ms/epoch - 7ms/step\n",
      "Epoch 160/400\n",
      "99/99 - 1s - loss: 0.3556 - dense_16_loss: 0.1685 - dense_17_loss: 0.1871 - 569ms/epoch - 6ms/step\n",
      "Epoch 161/400\n",
      "99/99 - 1s - loss: 0.3529 - dense_16_loss: 0.1642 - dense_17_loss: 0.1887 - 574ms/epoch - 6ms/step\n",
      "Epoch 162/400\n",
      "99/99 - 1s - loss: 0.3441 - dense_16_loss: 0.1612 - dense_17_loss: 0.1829 - 576ms/epoch - 6ms/step\n",
      "Epoch 163/400\n",
      "99/99 - 1s - loss: 0.3426 - dense_16_loss: 0.1603 - dense_17_loss: 0.1822 - 574ms/epoch - 6ms/step\n",
      "Epoch 164/400\n",
      "99/99 - 1s - loss: 0.3501 - dense_16_loss: 0.1616 - dense_17_loss: 0.1884 - 553ms/epoch - 6ms/step\n",
      "Epoch 165/400\n",
      "99/99 - 1s - loss: 0.3446 - dense_16_loss: 0.1605 - dense_17_loss: 0.1842 - 548ms/epoch - 6ms/step\n",
      "Epoch 166/400\n",
      "99/99 - 1s - loss: 0.3459 - dense_16_loss: 0.1631 - dense_17_loss: 0.1828 - 559ms/epoch - 6ms/step\n",
      "Epoch 167/400\n",
      "99/99 - 1s - loss: 0.3585 - dense_16_loss: 0.1700 - dense_17_loss: 0.1885 - 542ms/epoch - 5ms/step\n",
      "Epoch 168/400\n",
      "99/99 - 1s - loss: 0.3467 - dense_16_loss: 0.1609 - dense_17_loss: 0.1859 - 576ms/epoch - 6ms/step\n",
      "Epoch 169/400\n",
      "99/99 - 1s - loss: 0.3399 - dense_16_loss: 0.1575 - dense_17_loss: 0.1823 - 553ms/epoch - 6ms/step\n",
      "Epoch 170/400\n",
      "99/99 - 1s - loss: 0.3395 - dense_16_loss: 0.1581 - dense_17_loss: 0.1814 - 575ms/epoch - 6ms/step\n",
      "Epoch 171/400\n",
      "99/99 - 1s - loss: 0.3539 - dense_16_loss: 0.1666 - dense_17_loss: 0.1874 - 578ms/epoch - 6ms/step\n",
      "Epoch 172/400\n",
      "99/99 - 1s - loss: 0.3433 - dense_16_loss: 0.1619 - dense_17_loss: 0.1814 - 539ms/epoch - 5ms/step\n",
      "Epoch 173/400\n",
      "99/99 - 0s - loss: 0.3455 - dense_16_loss: 0.1613 - dense_17_loss: 0.1841 - 481ms/epoch - 5ms/step\n",
      "Epoch 174/400\n",
      "99/99 - 0s - loss: 0.3426 - dense_16_loss: 0.1629 - dense_17_loss: 0.1796 - 479ms/epoch - 5ms/step\n",
      "Epoch 175/400\n",
      "99/99 - 0s - loss: 0.3445 - dense_16_loss: 0.1606 - dense_17_loss: 0.1839 - 476ms/epoch - 5ms/step\n",
      "Epoch 176/400\n",
      "99/99 - 0s - loss: 0.3425 - dense_16_loss: 0.1611 - dense_17_loss: 0.1814 - 476ms/epoch - 5ms/step\n",
      "Epoch 177/400\n",
      "99/99 - 0s - loss: 0.3364 - dense_16_loss: 0.1570 - dense_17_loss: 0.1794 - 491ms/epoch - 5ms/step\n",
      "Epoch 178/400\n",
      "99/99 - 0s - loss: 0.3417 - dense_16_loss: 0.1599 - dense_17_loss: 0.1818 - 475ms/epoch - 5ms/step\n",
      "Epoch 179/400\n",
      "99/99 - 0s - loss: 0.3447 - dense_16_loss: 0.1606 - dense_17_loss: 0.1841 - 477ms/epoch - 5ms/step\n",
      "Epoch 180/400\n",
      "99/99 - 0s - loss: 0.3554 - dense_16_loss: 0.1640 - dense_17_loss: 0.1914 - 474ms/epoch - 5ms/step\n",
      "Epoch 181/400\n",
      "99/99 - 0s - loss: 0.3388 - dense_16_loss: 0.1568 - dense_17_loss: 0.1821 - 471ms/epoch - 5ms/step\n",
      "Epoch 182/400\n",
      "99/99 - 0s - loss: 0.3464 - dense_16_loss: 0.1627 - dense_17_loss: 0.1837 - 475ms/epoch - 5ms/step\n",
      "Epoch 183/400\n",
      "99/99 - 0s - loss: 0.3437 - dense_16_loss: 0.1603 - dense_17_loss: 0.1834 - 487ms/epoch - 5ms/step\n",
      "Epoch 184/400\n",
      "99/99 - 0s - loss: 0.3506 - dense_16_loss: 0.1629 - dense_17_loss: 0.1877 - 479ms/epoch - 5ms/step\n",
      "Epoch 185/400\n",
      "99/99 - 0s - loss: 0.3315 - dense_16_loss: 0.1539 - dense_17_loss: 0.1776 - 470ms/epoch - 5ms/step\n",
      "Epoch 186/400\n",
      "99/99 - 0s - loss: 0.3316 - dense_16_loss: 0.1559 - dense_17_loss: 0.1757 - 449ms/epoch - 5ms/step\n",
      "Epoch 187/400\n",
      "99/99 - 0s - loss: 0.3433 - dense_16_loss: 0.1618 - dense_17_loss: 0.1815 - 474ms/epoch - 5ms/step\n",
      "Epoch 188/400\n",
      "99/99 - 0s - loss: 0.3490 - dense_16_loss: 0.1674 - dense_17_loss: 0.1817 - 478ms/epoch - 5ms/step\n",
      "Epoch 189/400\n",
      "99/99 - 1s - loss: 0.3375 - dense_16_loss: 0.1586 - dense_17_loss: 0.1790 - 687ms/epoch - 7ms/step\n",
      "Epoch 190/400\n",
      "99/99 - 1s - loss: 0.3450 - dense_16_loss: 0.1627 - dense_17_loss: 0.1823 - 704ms/epoch - 7ms/step\n",
      "Epoch 191/400\n",
      "99/99 - 1s - loss: 0.3420 - dense_16_loss: 0.1603 - dense_17_loss: 0.1818 - 622ms/epoch - 6ms/step\n",
      "Epoch 192/400\n",
      "99/99 - 1s - loss: 0.3329 - dense_16_loss: 0.1552 - dense_17_loss: 0.1777 - 551ms/epoch - 6ms/step\n",
      "Epoch 193/400\n",
      "99/99 - 1s - loss: 0.3442 - dense_16_loss: 0.1608 - dense_17_loss: 0.1834 - 550ms/epoch - 6ms/step\n",
      "Epoch 194/400\n",
      "99/99 - 1s - loss: 0.3380 - dense_16_loss: 0.1559 - dense_17_loss: 0.1821 - 547ms/epoch - 6ms/step\n",
      "Epoch 195/400\n",
      "99/99 - 1s - loss: 0.3392 - dense_16_loss: 0.1603 - dense_17_loss: 0.1789 - 549ms/epoch - 6ms/step\n",
      "Epoch 196/400\n",
      "99/99 - 1s - loss: 0.3379 - dense_16_loss: 0.1579 - dense_17_loss: 0.1801 - 548ms/epoch - 6ms/step\n",
      "Epoch 197/400\n",
      "99/99 - 1s - loss: 0.3365 - dense_16_loss: 0.1582 - dense_17_loss: 0.1783 - 545ms/epoch - 6ms/step\n",
      "Epoch 198/400\n",
      "99/99 - 1s - loss: 0.3377 - dense_16_loss: 0.1606 - dense_17_loss: 0.1771 - 548ms/epoch - 6ms/step\n",
      "Epoch 199/400\n",
      "99/99 - 1s - loss: 0.3388 - dense_16_loss: 0.1597 - dense_17_loss: 0.1791 - 552ms/epoch - 6ms/step\n",
      "Epoch 200/400\n",
      "99/99 - 1s - loss: 0.3368 - dense_16_loss: 0.1592 - dense_17_loss: 0.1776 - 545ms/epoch - 6ms/step\n",
      "Epoch 201/400\n",
      "99/99 - 1s - loss: 0.3427 - dense_16_loss: 0.1570 - dense_17_loss: 0.1857 - 549ms/epoch - 6ms/step\n",
      "Epoch 202/400\n",
      "99/99 - 1s - loss: 0.3323 - dense_16_loss: 0.1587 - dense_17_loss: 0.1737 - 550ms/epoch - 6ms/step\n",
      "Epoch 203/400\n",
      "99/99 - 1s - loss: 0.3346 - dense_16_loss: 0.1566 - dense_17_loss: 0.1780 - 548ms/epoch - 6ms/step\n",
      "Epoch 204/400\n",
      "99/99 - 1s - loss: 0.3331 - dense_16_loss: 0.1553 - dense_17_loss: 0.1777 - 534ms/epoch - 5ms/step\n",
      "Epoch 205/400\n",
      "99/99 - 0s - loss: 0.3337 - dense_16_loss: 0.1557 - dense_17_loss: 0.1780 - 482ms/epoch - 5ms/step\n",
      "Epoch 206/400\n",
      "99/99 - 0s - loss: 0.3374 - dense_16_loss: 0.1582 - dense_17_loss: 0.1792 - 483ms/epoch - 5ms/step\n",
      "Epoch 207/400\n",
      "99/99 - 0s - loss: 0.3336 - dense_16_loss: 0.1584 - dense_17_loss: 0.1752 - 484ms/epoch - 5ms/step\n",
      "Epoch 208/400\n",
      "99/99 - 0s - loss: 0.3310 - dense_16_loss: 0.1534 - dense_17_loss: 0.1776 - 481ms/epoch - 5ms/step\n",
      "Epoch 209/400\n",
      "99/99 - 0s - loss: 0.3278 - dense_16_loss: 0.1544 - dense_17_loss: 0.1733 - 478ms/epoch - 5ms/step\n",
      "Epoch 210/400\n",
      "99/99 - 0s - loss: 0.3298 - dense_16_loss: 0.1518 - dense_17_loss: 0.1779 - 477ms/epoch - 5ms/step\n",
      "Epoch 211/400\n",
      "99/99 - 0s - loss: 0.3284 - dense_16_loss: 0.1565 - dense_17_loss: 0.1720 - 475ms/epoch - 5ms/step\n",
      "Epoch 212/400\n",
      "99/99 - 0s - loss: 0.3259 - dense_16_loss: 0.1522 - dense_17_loss: 0.1737 - 482ms/epoch - 5ms/step\n",
      "Epoch 213/400\n",
      "99/99 - 0s - loss: 0.3376 - dense_16_loss: 0.1602 - dense_17_loss: 0.1774 - 479ms/epoch - 5ms/step\n",
      "Epoch 214/400\n",
      "99/99 - 0s - loss: 0.3285 - dense_16_loss: 0.1547 - dense_17_loss: 0.1739 - 490ms/epoch - 5ms/step\n",
      "Epoch 215/400\n",
      "99/99 - 0s - loss: 0.3336 - dense_16_loss: 0.1575 - dense_17_loss: 0.1761 - 487ms/epoch - 5ms/step\n",
      "Epoch 216/400\n",
      "99/99 - 0s - loss: 0.3286 - dense_16_loss: 0.1537 - dense_17_loss: 0.1750 - 478ms/epoch - 5ms/step\n",
      "Epoch 217/400\n",
      "99/99 - 0s - loss: 0.3376 - dense_16_loss: 0.1638 - dense_17_loss: 0.1738 - 477ms/epoch - 5ms/step\n",
      "Epoch 218/400\n",
      "99/99 - 0s - loss: 0.3287 - dense_16_loss: 0.1543 - dense_17_loss: 0.1744 - 482ms/epoch - 5ms/step\n",
      "Epoch 219/400\n",
      "99/99 - 0s - loss: 0.3246 - dense_16_loss: 0.1514 - dense_17_loss: 0.1732 - 476ms/epoch - 5ms/step\n",
      "Epoch 220/400\n",
      "99/99 - 0s - loss: 0.3303 - dense_16_loss: 0.1547 - dense_17_loss: 0.1756 - 496ms/epoch - 5ms/step\n"
     ]
    },
    {
     "name": "stdout",
     "output_type": "stream",
     "text": [
      "Epoch 221/400\n",
      "99/99 - 1s - loss: 0.3357 - dense_16_loss: 0.1606 - dense_17_loss: 0.1751 - 513ms/epoch - 5ms/step\n",
      "Epoch 222/400\n",
      "99/99 - 1s - loss: 0.3332 - dense_16_loss: 0.1577 - dense_17_loss: 0.1755 - 509ms/epoch - 5ms/step\n",
      "Epoch 223/400\n",
      "99/99 - 0s - loss: 0.3295 - dense_16_loss: 0.1549 - dense_17_loss: 0.1746 - 478ms/epoch - 5ms/step\n",
      "Epoch 224/400\n",
      "99/99 - 0s - loss: 0.3306 - dense_16_loss: 0.1532 - dense_17_loss: 0.1774 - 488ms/epoch - 5ms/step\n",
      "Epoch 225/400\n",
      "99/99 - 0s - loss: 0.3292 - dense_16_loss: 0.1534 - dense_17_loss: 0.1758 - 473ms/epoch - 5ms/step\n",
      "Epoch 226/400\n",
      "99/99 - 0s - loss: 0.3260 - dense_16_loss: 0.1480 - dense_17_loss: 0.1780 - 486ms/epoch - 5ms/step\n",
      "Epoch 227/400\n",
      "99/99 - 0s - loss: 0.3266 - dense_16_loss: 0.1538 - dense_17_loss: 0.1728 - 479ms/epoch - 5ms/step\n",
      "Epoch 228/400\n",
      "99/99 - 0s - loss: 0.3283 - dense_16_loss: 0.1574 - dense_17_loss: 0.1709 - 476ms/epoch - 5ms/step\n",
      "Epoch 229/400\n",
      "99/99 - 0s - loss: 0.3254 - dense_16_loss: 0.1511 - dense_17_loss: 0.1742 - 488ms/epoch - 5ms/step\n",
      "Epoch 230/400\n",
      "99/99 - 0s - loss: 0.3235 - dense_16_loss: 0.1513 - dense_17_loss: 0.1722 - 483ms/epoch - 5ms/step\n",
      "Epoch 231/400\n",
      "99/99 - 0s - loss: 0.3288 - dense_16_loss: 0.1536 - dense_17_loss: 0.1753 - 475ms/epoch - 5ms/step\n",
      "Epoch 232/400\n",
      "99/99 - 0s - loss: 0.3320 - dense_16_loss: 0.1529 - dense_17_loss: 0.1791 - 475ms/epoch - 5ms/step\n",
      "Epoch 233/400\n",
      "99/99 - 0s - loss: 0.3246 - dense_16_loss: 0.1535 - dense_17_loss: 0.1712 - 477ms/epoch - 5ms/step\n",
      "Epoch 234/400\n",
      "99/99 - 0s - loss: 0.3286 - dense_16_loss: 0.1543 - dense_17_loss: 0.1743 - 483ms/epoch - 5ms/step\n",
      "Epoch 235/400\n",
      "99/99 - 0s - loss: 0.3196 - dense_16_loss: 0.1491 - dense_17_loss: 0.1705 - 478ms/epoch - 5ms/step\n",
      "Epoch 236/400\n",
      "99/99 - 0s - loss: 0.3247 - dense_16_loss: 0.1519 - dense_17_loss: 0.1727 - 482ms/epoch - 5ms/step\n",
      "Epoch 237/400\n",
      "99/99 - 0s - loss: 0.3249 - dense_16_loss: 0.1551 - dense_17_loss: 0.1698 - 490ms/epoch - 5ms/step\n",
      "Epoch 238/400\n",
      "99/99 - 0s - loss: 0.3272 - dense_16_loss: 0.1557 - dense_17_loss: 0.1716 - 481ms/epoch - 5ms/step\n",
      "Epoch 239/400\n",
      "99/99 - 0s - loss: 0.3327 - dense_16_loss: 0.1596 - dense_17_loss: 0.1731 - 477ms/epoch - 5ms/step\n",
      "Epoch 240/400\n",
      "99/99 - 0s - loss: 0.3196 - dense_16_loss: 0.1498 - dense_17_loss: 0.1698 - 476ms/epoch - 5ms/step\n",
      "Epoch 241/400\n",
      "99/99 - 0s - loss: 0.3219 - dense_16_loss: 0.1510 - dense_17_loss: 0.1709 - 475ms/epoch - 5ms/step\n",
      "Epoch 242/400\n",
      "99/99 - 0s - loss: 0.3198 - dense_16_loss: 0.1509 - dense_17_loss: 0.1689 - 478ms/epoch - 5ms/step\n",
      "Epoch 243/400\n",
      "99/99 - 0s - loss: 0.3388 - dense_16_loss: 0.1573 - dense_17_loss: 0.1815 - 476ms/epoch - 5ms/step\n",
      "Epoch 244/400\n",
      "99/99 - 0s - loss: 0.3226 - dense_16_loss: 0.1544 - dense_17_loss: 0.1682 - 477ms/epoch - 5ms/step\n",
      "Epoch 245/400\n",
      "99/99 - 0s - loss: 0.3209 - dense_16_loss: 0.1482 - dense_17_loss: 0.1727 - 476ms/epoch - 5ms/step\n",
      "Epoch 246/400\n",
      "99/99 - 0s - loss: 0.3214 - dense_16_loss: 0.1533 - dense_17_loss: 0.1681 - 479ms/epoch - 5ms/step\n",
      "Epoch 247/400\n",
      "99/99 - 0s - loss: 0.3180 - dense_16_loss: 0.1510 - dense_17_loss: 0.1669 - 479ms/epoch - 5ms/step\n",
      "Epoch 248/400\n",
      "99/99 - 0s - loss: 0.3221 - dense_16_loss: 0.1505 - dense_17_loss: 0.1716 - 475ms/epoch - 5ms/step\n",
      "Epoch 249/400\n",
      "99/99 - 0s - loss: 0.3219 - dense_16_loss: 0.1485 - dense_17_loss: 0.1734 - 475ms/epoch - 5ms/step\n",
      "Epoch 250/400\n",
      "99/99 - 0s - loss: 0.3174 - dense_16_loss: 0.1515 - dense_17_loss: 0.1659 - 474ms/epoch - 5ms/step\n",
      "Epoch 251/400\n",
      "99/99 - 0s - loss: 0.3206 - dense_16_loss: 0.1502 - dense_17_loss: 0.1704 - 476ms/epoch - 5ms/step\n",
      "Epoch 252/400\n",
      "99/99 - 0s - loss: 0.3260 - dense_16_loss: 0.1527 - dense_17_loss: 0.1733 - 478ms/epoch - 5ms/step\n",
      "Epoch 253/400\n",
      "99/99 - 0s - loss: 0.3236 - dense_16_loss: 0.1586 - dense_17_loss: 0.1650 - 477ms/epoch - 5ms/step\n",
      "Epoch 254/400\n",
      "99/99 - 0s - loss: 0.3167 - dense_16_loss: 0.1502 - dense_17_loss: 0.1665 - 475ms/epoch - 5ms/step\n",
      "Epoch 255/400\n",
      "99/99 - 0s - loss: 0.3197 - dense_16_loss: 0.1512 - dense_17_loss: 0.1684 - 477ms/epoch - 5ms/step\n",
      "Epoch 256/400\n",
      "99/99 - 0s - loss: 0.3213 - dense_16_loss: 0.1522 - dense_17_loss: 0.1691 - 477ms/epoch - 5ms/step\n",
      "Epoch 257/400\n",
      "99/99 - 0s - loss: 0.3287 - dense_16_loss: 0.1570 - dense_17_loss: 0.1717 - 479ms/epoch - 5ms/step\n",
      "Epoch 258/400\n",
      "99/99 - 0s - loss: 0.3271 - dense_16_loss: 0.1541 - dense_17_loss: 0.1731 - 473ms/epoch - 5ms/step\n",
      "Epoch 259/400\n",
      "99/99 - 0s - loss: 0.3227 - dense_16_loss: 0.1534 - dense_17_loss: 0.1693 - 477ms/epoch - 5ms/step\n",
      "Epoch 260/400\n",
      "99/99 - 0s - loss: 0.3244 - dense_16_loss: 0.1521 - dense_17_loss: 0.1723 - 477ms/epoch - 5ms/step\n",
      "Epoch 261/400\n",
      "99/99 - 0s - loss: 0.3246 - dense_16_loss: 0.1502 - dense_17_loss: 0.1744 - 477ms/epoch - 5ms/step\n",
      "Epoch 262/400\n",
      "99/99 - 0s - loss: 0.3174 - dense_16_loss: 0.1475 - dense_17_loss: 0.1699 - 479ms/epoch - 5ms/step\n",
      "Epoch 263/400\n",
      "99/99 - 0s - loss: 0.3158 - dense_16_loss: 0.1504 - dense_17_loss: 0.1654 - 484ms/epoch - 5ms/step\n",
      "Epoch 264/400\n",
      "99/99 - 0s - loss: 0.3229 - dense_16_loss: 0.1534 - dense_17_loss: 0.1695 - 481ms/epoch - 5ms/step\n",
      "Epoch 265/400\n",
      "99/99 - 0s - loss: 0.3196 - dense_16_loss: 0.1503 - dense_17_loss: 0.1693 - 477ms/epoch - 5ms/step\n",
      "Epoch 266/400\n",
      "99/99 - 0s - loss: 0.3173 - dense_16_loss: 0.1473 - dense_17_loss: 0.1700 - 478ms/epoch - 5ms/step\n",
      "Epoch 267/400\n",
      "99/99 - 0s - loss: 0.3230 - dense_16_loss: 0.1514 - dense_17_loss: 0.1716 - 479ms/epoch - 5ms/step\n",
      "Epoch 268/400\n",
      "99/99 - 0s - loss: 0.3199 - dense_16_loss: 0.1517 - dense_17_loss: 0.1682 - 480ms/epoch - 5ms/step\n",
      "Epoch 269/400\n",
      "99/99 - 0s - loss: 0.3161 - dense_16_loss: 0.1497 - dense_17_loss: 0.1664 - 480ms/epoch - 5ms/step\n",
      "Epoch 270/400\n",
      "99/99 - 0s - loss: 0.3194 - dense_16_loss: 0.1487 - dense_17_loss: 0.1707 - 478ms/epoch - 5ms/step\n",
      "Epoch 271/400\n",
      "99/99 - 0s - loss: 0.3261 - dense_16_loss: 0.1562 - dense_17_loss: 0.1698 - 479ms/epoch - 5ms/step\n",
      "Epoch 272/400\n",
      "99/99 - 0s - loss: 0.3211 - dense_16_loss: 0.1525 - dense_17_loss: 0.1686 - 478ms/epoch - 5ms/step\n",
      "Epoch 273/400\n",
      "99/99 - 0s - loss: 0.3266 - dense_16_loss: 0.1562 - dense_17_loss: 0.1705 - 483ms/epoch - 5ms/step\n",
      "Epoch 274/400\n",
      "99/99 - 0s - loss: 0.3172 - dense_16_loss: 0.1475 - dense_17_loss: 0.1697 - 479ms/epoch - 5ms/step\n",
      "Epoch 275/400\n",
      "99/99 - 0s - loss: 0.3117 - dense_16_loss: 0.1450 - dense_17_loss: 0.1667 - 477ms/epoch - 5ms/step\n",
      "Epoch 276/400\n",
      "99/99 - 0s - loss: 0.3124 - dense_16_loss: 0.1440 - dense_17_loss: 0.1684 - 479ms/epoch - 5ms/step\n",
      "Epoch 277/400\n",
      "99/99 - 0s - loss: 0.3243 - dense_16_loss: 0.1505 - dense_17_loss: 0.1738 - 478ms/epoch - 5ms/step\n",
      "Epoch 278/400\n",
      "99/99 - 0s - loss: 0.3139 - dense_16_loss: 0.1481 - dense_17_loss: 0.1658 - 478ms/epoch - 5ms/step\n",
      "Epoch 279/400\n",
      "99/99 - 0s - loss: 0.3122 - dense_16_loss: 0.1486 - dense_17_loss: 0.1636 - 480ms/epoch - 5ms/step\n",
      "Epoch 280/400\n",
      "99/99 - 0s - loss: 0.3123 - dense_16_loss: 0.1507 - dense_17_loss: 0.1616 - 480ms/epoch - 5ms/step\n",
      "Epoch 281/400\n",
      "99/99 - 0s - loss: 0.3093 - dense_16_loss: 0.1453 - dense_17_loss: 0.1640 - 479ms/epoch - 5ms/step\n",
      "Epoch 282/400\n",
      "99/99 - 0s - loss: 0.3160 - dense_16_loss: 0.1505 - dense_17_loss: 0.1655 - 481ms/epoch - 5ms/step\n",
      "Epoch 283/400\n",
      "99/99 - 0s - loss: 0.3176 - dense_16_loss: 0.1524 - dense_17_loss: 0.1653 - 482ms/epoch - 5ms/step\n",
      "Epoch 284/400\n",
      "99/99 - 0s - loss: 0.3145 - dense_16_loss: 0.1485 - dense_17_loss: 0.1660 - 481ms/epoch - 5ms/step\n",
      "Epoch 285/400\n",
      "99/99 - 0s - loss: 0.3167 - dense_16_loss: 0.1472 - dense_17_loss: 0.1695 - 481ms/epoch - 5ms/step\n",
      "Epoch 286/400\n",
      "99/99 - 0s - loss: 0.3112 - dense_16_loss: 0.1469 - dense_17_loss: 0.1643 - 486ms/epoch - 5ms/step\n",
      "Epoch 287/400\n",
      "99/99 - 0s - loss: 0.3166 - dense_16_loss: 0.1472 - dense_17_loss: 0.1694 - 483ms/epoch - 5ms/step\n",
      "Epoch 288/400\n",
      "99/99 - 0s - loss: 0.3122 - dense_16_loss: 0.1466 - dense_17_loss: 0.1657 - 479ms/epoch - 5ms/step\n",
      "Epoch 289/400\n",
      "99/99 - 0s - loss: 0.3085 - dense_16_loss: 0.1466 - dense_17_loss: 0.1619 - 483ms/epoch - 5ms/step\n",
      "Epoch 290/400\n",
      "99/99 - 0s - loss: 0.3143 - dense_16_loss: 0.1501 - dense_17_loss: 0.1641 - 483ms/epoch - 5ms/step\n",
      "Epoch 291/400\n",
      "99/99 - 0s - loss: 0.3119 - dense_16_loss: 0.1464 - dense_17_loss: 0.1655 - 487ms/epoch - 5ms/step\n",
      "Epoch 292/400\n",
      "99/99 - 0s - loss: 0.3145 - dense_16_loss: 0.1507 - dense_17_loss: 0.1638 - 484ms/epoch - 5ms/step\n",
      "Epoch 293/400\n",
      "99/99 - 0s - loss: 0.3107 - dense_16_loss: 0.1466 - dense_17_loss: 0.1642 - 482ms/epoch - 5ms/step\n"
     ]
    },
    {
     "name": "stdout",
     "output_type": "stream",
     "text": [
      "Epoch 294/400\n",
      "99/99 - 0s - loss: 0.3098 - dense_16_loss: 0.1477 - dense_17_loss: 0.1621 - 481ms/epoch - 5ms/step\n",
      "Epoch 295/400\n",
      "99/99 - 0s - loss: 0.3092 - dense_16_loss: 0.1464 - dense_17_loss: 0.1628 - 476ms/epoch - 5ms/step\n",
      "Epoch 296/400\n",
      "99/99 - 0s - loss: 0.3115 - dense_16_loss: 0.1484 - dense_17_loss: 0.1631 - 479ms/epoch - 5ms/step\n",
      "Epoch 297/400\n",
      "99/99 - 0s - loss: 0.3065 - dense_16_loss: 0.1476 - dense_17_loss: 0.1589 - 476ms/epoch - 5ms/step\n",
      "Epoch 298/400\n",
      "99/99 - 0s - loss: 0.3156 - dense_16_loss: 0.1513 - dense_17_loss: 0.1643 - 478ms/epoch - 5ms/step\n",
      "Epoch 299/400\n",
      "99/99 - 0s - loss: 0.3172 - dense_16_loss: 0.1520 - dense_17_loss: 0.1652 - 477ms/epoch - 5ms/step\n",
      "Epoch 300/400\n",
      "99/99 - 0s - loss: 0.3152 - dense_16_loss: 0.1543 - dense_17_loss: 0.1609 - 478ms/epoch - 5ms/step\n",
      "Epoch 301/400\n",
      "99/99 - 0s - loss: 0.3234 - dense_16_loss: 0.1543 - dense_17_loss: 0.1692 - 478ms/epoch - 5ms/step\n",
      "Epoch 302/400\n",
      "99/99 - 0s - loss: 0.3024 - dense_16_loss: 0.1428 - dense_17_loss: 0.1596 - 475ms/epoch - 5ms/step\n",
      "Epoch 303/400\n",
      "99/99 - 0s - loss: 0.3067 - dense_16_loss: 0.1447 - dense_17_loss: 0.1620 - 476ms/epoch - 5ms/step\n",
      "Epoch 304/400\n",
      "99/99 - 0s - loss: 0.3103 - dense_16_loss: 0.1484 - dense_17_loss: 0.1619 - 477ms/epoch - 5ms/step\n",
      "Epoch 305/400\n",
      "99/99 - 0s - loss: 0.3046 - dense_16_loss: 0.1428 - dense_17_loss: 0.1618 - 474ms/epoch - 5ms/step\n",
      "Epoch 306/400\n",
      "99/99 - 0s - loss: 0.3036 - dense_16_loss: 0.1431 - dense_17_loss: 0.1605 - 473ms/epoch - 5ms/step\n",
      "Epoch 307/400\n",
      "99/99 - 0s - loss: 0.3127 - dense_16_loss: 0.1497 - dense_17_loss: 0.1631 - 475ms/epoch - 5ms/step\n",
      "Epoch 308/400\n",
      "99/99 - 0s - loss: 0.3154 - dense_16_loss: 0.1489 - dense_17_loss: 0.1665 - 476ms/epoch - 5ms/step\n",
      "Epoch 309/400\n",
      "99/99 - 0s - loss: 0.3167 - dense_16_loss: 0.1475 - dense_17_loss: 0.1692 - 475ms/epoch - 5ms/step\n",
      "Epoch 310/400\n",
      "99/99 - 0s - loss: 0.3085 - dense_16_loss: 0.1429 - dense_17_loss: 0.1656 - 474ms/epoch - 5ms/step\n",
      "Epoch 311/400\n",
      "99/99 - 0s - loss: 0.3068 - dense_16_loss: 0.1453 - dense_17_loss: 0.1615 - 476ms/epoch - 5ms/step\n",
      "Epoch 312/400\n",
      "99/99 - 0s - loss: 0.3038 - dense_16_loss: 0.1445 - dense_17_loss: 0.1593 - 474ms/epoch - 5ms/step\n",
      "Epoch 313/400\n",
      "99/99 - 0s - loss: 0.3107 - dense_16_loss: 0.1471 - dense_17_loss: 0.1636 - 474ms/epoch - 5ms/step\n",
      "Epoch 314/400\n",
      "99/99 - 0s - loss: 0.3056 - dense_16_loss: 0.1449 - dense_17_loss: 0.1607 - 474ms/epoch - 5ms/step\n",
      "Epoch 315/400\n",
      "99/99 - 0s - loss: 0.3120 - dense_16_loss: 0.1455 - dense_17_loss: 0.1665 - 478ms/epoch - 5ms/step\n",
      "Epoch 316/400\n",
      "99/99 - 0s - loss: 0.3225 - dense_16_loss: 0.1562 - dense_17_loss: 0.1663 - 478ms/epoch - 5ms/step\n",
      "Epoch 317/400\n",
      "99/99 - 0s - loss: 0.3093 - dense_16_loss: 0.1474 - dense_17_loss: 0.1619 - 477ms/epoch - 5ms/step\n",
      "Epoch 318/400\n",
      "99/99 - 0s - loss: 0.3108 - dense_16_loss: 0.1439 - dense_17_loss: 0.1669 - 477ms/epoch - 5ms/step\n",
      "Epoch 319/400\n",
      "99/99 - 0s - loss: 0.3079 - dense_16_loss: 0.1444 - dense_17_loss: 0.1635 - 480ms/epoch - 5ms/step\n",
      "Epoch 320/400\n",
      "99/99 - 0s - loss: 0.3094 - dense_16_loss: 0.1449 - dense_17_loss: 0.1645 - 481ms/epoch - 5ms/step\n",
      "Epoch 321/400\n",
      "99/99 - 0s - loss: 0.3113 - dense_16_loss: 0.1472 - dense_17_loss: 0.1642 - 481ms/epoch - 5ms/step\n",
      "Epoch 322/400\n",
      "99/99 - 0s - loss: 0.3048 - dense_16_loss: 0.1404 - dense_17_loss: 0.1644 - 479ms/epoch - 5ms/step\n",
      "Epoch 323/400\n",
      "99/99 - 0s - loss: 0.3101 - dense_16_loss: 0.1486 - dense_17_loss: 0.1615 - 482ms/epoch - 5ms/step\n",
      "Epoch 324/400\n",
      "99/99 - 0s - loss: 0.3136 - dense_16_loss: 0.1483 - dense_17_loss: 0.1653 - 478ms/epoch - 5ms/step\n",
      "Epoch 325/400\n",
      "99/99 - 0s - loss: 0.3061 - dense_16_loss: 0.1405 - dense_17_loss: 0.1656 - 480ms/epoch - 5ms/step\n",
      "Epoch 326/400\n",
      "99/99 - 0s - loss: 0.3062 - dense_16_loss: 0.1415 - dense_17_loss: 0.1646 - 476ms/epoch - 5ms/step\n",
      "Epoch 327/400\n",
      "99/99 - 0s - loss: 0.3089 - dense_16_loss: 0.1459 - dense_17_loss: 0.1630 - 480ms/epoch - 5ms/step\n",
      "Epoch 328/400\n",
      "99/99 - 0s - loss: 0.3236 - dense_16_loss: 0.1510 - dense_17_loss: 0.1726 - 477ms/epoch - 5ms/step\n",
      "Epoch 329/400\n",
      "99/99 - 0s - loss: 0.3122 - dense_16_loss: 0.1476 - dense_17_loss: 0.1646 - 478ms/epoch - 5ms/step\n",
      "Epoch 330/400\n",
      "99/99 - 0s - loss: 0.3097 - dense_16_loss: 0.1472 - dense_17_loss: 0.1625 - 477ms/epoch - 5ms/step\n",
      "Epoch 331/400\n",
      "99/99 - 0s - loss: 0.3106 - dense_16_loss: 0.1476 - dense_17_loss: 0.1630 - 477ms/epoch - 5ms/step\n",
      "Epoch 332/400\n",
      "99/99 - 0s - loss: 0.3022 - dense_16_loss: 0.1440 - dense_17_loss: 0.1582 - 477ms/epoch - 5ms/step\n",
      "Epoch 333/400\n",
      "99/99 - 0s - loss: 0.3024 - dense_16_loss: 0.1406 - dense_17_loss: 0.1618 - 479ms/epoch - 5ms/step\n",
      "Epoch 334/400\n",
      "99/99 - 0s - loss: 0.3085 - dense_16_loss: 0.1446 - dense_17_loss: 0.1638 - 479ms/epoch - 5ms/step\n",
      "Epoch 335/400\n",
      "99/99 - 0s - loss: 0.3091 - dense_16_loss: 0.1440 - dense_17_loss: 0.1651 - 476ms/epoch - 5ms/step\n",
      "Epoch 336/400\n",
      "99/99 - 0s - loss: 0.3066 - dense_16_loss: 0.1414 - dense_17_loss: 0.1652 - 477ms/epoch - 5ms/step\n",
      "Epoch 337/400\n",
      "99/99 - 0s - loss: 0.3018 - dense_16_loss: 0.1415 - dense_17_loss: 0.1603 - 481ms/epoch - 5ms/step\n",
      "Epoch 338/400\n",
      "99/99 - 0s - loss: 0.3037 - dense_16_loss: 0.1400 - dense_17_loss: 0.1637 - 477ms/epoch - 5ms/step\n",
      "Epoch 339/400\n",
      "99/99 - 0s - loss: 0.3191 - dense_16_loss: 0.1453 - dense_17_loss: 0.1737 - 479ms/epoch - 5ms/step\n",
      "Epoch 340/400\n",
      "99/99 - 0s - loss: 0.3111 - dense_16_loss: 0.1484 - dense_17_loss: 0.1627 - 484ms/epoch - 5ms/step\n",
      "Epoch 341/400\n",
      "99/99 - 0s - loss: 0.3036 - dense_16_loss: 0.1449 - dense_17_loss: 0.1587 - 480ms/epoch - 5ms/step\n",
      "Epoch 342/400\n",
      "99/99 - 0s - loss: 0.2928 - dense_16_loss: 0.1394 - dense_17_loss: 0.1533 - 477ms/epoch - 5ms/step\n",
      "Epoch 343/400\n",
      "99/99 - 0s - loss: 0.3053 - dense_16_loss: 0.1430 - dense_17_loss: 0.1623 - 479ms/epoch - 5ms/step\n",
      "Epoch 344/400\n",
      "99/99 - 0s - loss: 0.3142 - dense_16_loss: 0.1485 - dense_17_loss: 0.1657 - 478ms/epoch - 5ms/step\n",
      "Epoch 345/400\n",
      "99/99 - 0s - loss: 0.3080 - dense_16_loss: 0.1486 - dense_17_loss: 0.1594 - 480ms/epoch - 5ms/step\n",
      "Epoch 346/400\n",
      "99/99 - 0s - loss: 0.3027 - dense_16_loss: 0.1461 - dense_17_loss: 0.1566 - 479ms/epoch - 5ms/step\n",
      "Epoch 347/400\n",
      "99/99 - 0s - loss: 0.3002 - dense_16_loss: 0.1421 - dense_17_loss: 0.1581 - 479ms/epoch - 5ms/step\n",
      "Epoch 348/400\n",
      "99/99 - 0s - loss: 0.3071 - dense_16_loss: 0.1435 - dense_17_loss: 0.1635 - 479ms/epoch - 5ms/step\n",
      "Epoch 349/400\n",
      "99/99 - 0s - loss: 0.3042 - dense_16_loss: 0.1432 - dense_17_loss: 0.1609 - 478ms/epoch - 5ms/step\n",
      "Epoch 350/400\n",
      "99/99 - 0s - loss: 0.3085 - dense_16_loss: 0.1446 - dense_17_loss: 0.1639 - 475ms/epoch - 5ms/step\n",
      "Epoch 351/400\n",
      "99/99 - 0s - loss: 0.3023 - dense_16_loss: 0.1434 - dense_17_loss: 0.1589 - 477ms/epoch - 5ms/step\n",
      "Epoch 352/400\n",
      "99/99 - 0s - loss: 0.2996 - dense_16_loss: 0.1399 - dense_17_loss: 0.1597 - 479ms/epoch - 5ms/step\n",
      "Epoch 353/400\n",
      "99/99 - 0s - loss: 0.2920 - dense_16_loss: 0.1382 - dense_17_loss: 0.1538 - 478ms/epoch - 5ms/step\n",
      "Epoch 354/400\n",
      "99/99 - 0s - loss: 0.2992 - dense_16_loss: 0.1394 - dense_17_loss: 0.1598 - 476ms/epoch - 5ms/step\n",
      "Epoch 355/400\n",
      "99/99 - 0s - loss: 0.2979 - dense_16_loss: 0.1404 - dense_17_loss: 0.1575 - 476ms/epoch - 5ms/step\n",
      "Epoch 356/400\n",
      "99/99 - 0s - loss: 0.3030 - dense_16_loss: 0.1435 - dense_17_loss: 0.1595 - 479ms/epoch - 5ms/step\n",
      "Epoch 357/400\n",
      "99/99 - 0s - loss: 0.3009 - dense_16_loss: 0.1430 - dense_17_loss: 0.1579 - 476ms/epoch - 5ms/step\n",
      "Epoch 358/400\n",
      "99/99 - 0s - loss: 0.3098 - dense_16_loss: 0.1442 - dense_17_loss: 0.1657 - 481ms/epoch - 5ms/step\n",
      "Epoch 359/400\n",
      "99/99 - 0s - loss: 0.3058 - dense_16_loss: 0.1418 - dense_17_loss: 0.1639 - 478ms/epoch - 5ms/step\n",
      "Epoch 360/400\n",
      "99/99 - 0s - loss: 0.3040 - dense_16_loss: 0.1431 - dense_17_loss: 0.1609 - 478ms/epoch - 5ms/step\n",
      "Epoch 361/400\n",
      "99/99 - 0s - loss: 0.3055 - dense_16_loss: 0.1444 - dense_17_loss: 0.1611 - 481ms/epoch - 5ms/step\n",
      "Epoch 362/400\n",
      "99/99 - 0s - loss: 0.3009 - dense_16_loss: 0.1438 - dense_17_loss: 0.1571 - 477ms/epoch - 5ms/step\n",
      "Epoch 363/400\n",
      "99/99 - 0s - loss: 0.3023 - dense_16_loss: 0.1458 - dense_17_loss: 0.1565 - 479ms/epoch - 5ms/step\n",
      "Epoch 364/400\n",
      "99/99 - 0s - loss: 0.3023 - dense_16_loss: 0.1429 - dense_17_loss: 0.1595 - 480ms/epoch - 5ms/step\n",
      "Epoch 365/400\n",
      "99/99 - 0s - loss: 0.3034 - dense_16_loss: 0.1430 - dense_17_loss: 0.1604 - 479ms/epoch - 5ms/step\n",
      "Epoch 366/400\n",
      "99/99 - 0s - loss: 0.3060 - dense_16_loss: 0.1495 - dense_17_loss: 0.1565 - 480ms/epoch - 5ms/step\n"
     ]
    },
    {
     "name": "stdout",
     "output_type": "stream",
     "text": [
      "Epoch 367/400\n",
      "99/99 - 0s - loss: 0.3035 - dense_16_loss: 0.1406 - dense_17_loss: 0.1628 - 478ms/epoch - 5ms/step\n",
      "Epoch 368/400\n",
      "99/99 - 0s - loss: 0.2971 - dense_16_loss: 0.1393 - dense_17_loss: 0.1577 - 476ms/epoch - 5ms/step\n",
      "Epoch 369/400\n",
      "99/99 - 0s - loss: 0.2972 - dense_16_loss: 0.1395 - dense_17_loss: 0.1577 - 477ms/epoch - 5ms/step\n",
      "Epoch 370/400\n",
      "99/99 - 0s - loss: 0.3017 - dense_16_loss: 0.1432 - dense_17_loss: 0.1585 - 476ms/epoch - 5ms/step\n",
      "Epoch 371/400\n",
      "99/99 - 0s - loss: 0.2982 - dense_16_loss: 0.1424 - dense_17_loss: 0.1558 - 481ms/epoch - 5ms/step\n",
      "Epoch 372/400\n",
      "99/99 - 0s - loss: 0.2973 - dense_16_loss: 0.1420 - dense_17_loss: 0.1553 - 477ms/epoch - 5ms/step\n",
      "Epoch 373/400\n",
      "99/99 - 0s - loss: 0.3040 - dense_16_loss: 0.1462 - dense_17_loss: 0.1578 - 480ms/epoch - 5ms/step\n",
      "Epoch 374/400\n",
      "99/99 - 0s - loss: 0.3013 - dense_16_loss: 0.1435 - dense_17_loss: 0.1578 - 477ms/epoch - 5ms/step\n",
      "Epoch 375/400\n",
      "99/99 - 0s - loss: 0.2995 - dense_16_loss: 0.1413 - dense_17_loss: 0.1582 - 475ms/epoch - 5ms/step\n",
      "Epoch 376/400\n",
      "99/99 - 0s - loss: 0.2966 - dense_16_loss: 0.1410 - dense_17_loss: 0.1555 - 477ms/epoch - 5ms/step\n",
      "Epoch 377/400\n",
      "99/99 - 0s - loss: 0.2981 - dense_16_loss: 0.1417 - dense_17_loss: 0.1565 - 476ms/epoch - 5ms/step\n",
      "Epoch 378/400\n",
      "99/99 - 0s - loss: 0.2929 - dense_16_loss: 0.1361 - dense_17_loss: 0.1568 - 478ms/epoch - 5ms/step\n",
      "Epoch 379/400\n",
      "99/99 - 0s - loss: 0.3081 - dense_16_loss: 0.1467 - dense_17_loss: 0.1614 - 478ms/epoch - 5ms/step\n",
      "Epoch 380/400\n",
      "99/99 - 0s - loss: 0.3023 - dense_16_loss: 0.1389 - dense_17_loss: 0.1634 - 477ms/epoch - 5ms/step\n",
      "Epoch 381/400\n",
      "99/99 - 0s - loss: 0.3150 - dense_16_loss: 0.1505 - dense_17_loss: 0.1645 - 475ms/epoch - 5ms/step\n",
      "Epoch 382/400\n",
      "99/99 - 0s - loss: 0.3050 - dense_16_loss: 0.1461 - dense_17_loss: 0.1590 - 478ms/epoch - 5ms/step\n",
      "Epoch 383/400\n",
      "99/99 - 0s - loss: 0.3016 - dense_16_loss: 0.1393 - dense_17_loss: 0.1624 - 478ms/epoch - 5ms/step\n",
      "Epoch 384/400\n",
      "99/99 - 0s - loss: 0.2881 - dense_16_loss: 0.1344 - dense_17_loss: 0.1537 - 479ms/epoch - 5ms/step\n",
      "Epoch 385/400\n",
      "99/99 - 0s - loss: 0.2910 - dense_16_loss: 0.1367 - dense_17_loss: 0.1543 - 478ms/epoch - 5ms/step\n",
      "Epoch 386/400\n",
      "99/99 - 0s - loss: 0.3038 - dense_16_loss: 0.1438 - dense_17_loss: 0.1600 - 480ms/epoch - 5ms/step\n",
      "Epoch 387/400\n",
      "99/99 - 0s - loss: 0.2910 - dense_16_loss: 0.1387 - dense_17_loss: 0.1523 - 480ms/epoch - 5ms/step\n",
      "Epoch 388/400\n",
      "99/99 - 0s - loss: 0.2951 - dense_16_loss: 0.1398 - dense_17_loss: 0.1553 - 478ms/epoch - 5ms/step\n",
      "Epoch 389/400\n",
      "99/99 - 0s - loss: 0.2980 - dense_16_loss: 0.1400 - dense_17_loss: 0.1580 - 479ms/epoch - 5ms/step\n",
      "Epoch 390/400\n",
      "99/99 - 0s - loss: 0.2970 - dense_16_loss: 0.1394 - dense_17_loss: 0.1576 - 474ms/epoch - 5ms/step\n",
      "Epoch 391/400\n",
      "99/99 - 0s - loss: 0.3025 - dense_16_loss: 0.1406 - dense_17_loss: 0.1619 - 477ms/epoch - 5ms/step\n",
      "Epoch 392/400\n",
      "99/99 - 0s - loss: 0.3028 - dense_16_loss: 0.1437 - dense_17_loss: 0.1591 - 480ms/epoch - 5ms/step\n",
      "Epoch 393/400\n",
      "99/99 - 0s - loss: 0.3037 - dense_16_loss: 0.1447 - dense_17_loss: 0.1591 - 480ms/epoch - 5ms/step\n",
      "Epoch 394/400\n",
      "99/99 - 0s - loss: 0.2969 - dense_16_loss: 0.1381 - dense_17_loss: 0.1589 - 484ms/epoch - 5ms/step\n",
      "Epoch 395/400\n",
      "99/99 - 0s - loss: 0.2917 - dense_16_loss: 0.1378 - dense_17_loss: 0.1539 - 477ms/epoch - 5ms/step\n",
      "Epoch 396/400\n",
      "99/99 - 0s - loss: 0.2956 - dense_16_loss: 0.1387 - dense_17_loss: 0.1569 - 478ms/epoch - 5ms/step\n",
      "Epoch 397/400\n",
      "99/99 - 0s - loss: 0.2928 - dense_16_loss: 0.1398 - dense_17_loss: 0.1531 - 479ms/epoch - 5ms/step\n",
      "Epoch 398/400\n",
      "99/99 - 0s - loss: 0.3012 - dense_16_loss: 0.1400 - dense_17_loss: 0.1611 - 479ms/epoch - 5ms/step\n",
      "Epoch 399/400\n",
      "99/99 - 0s - loss: 0.2969 - dense_16_loss: 0.1420 - dense_17_loss: 0.1549 - 478ms/epoch - 5ms/step\n",
      "Epoch 400/400\n",
      "99/99 - 0s - loss: 0.2974 - dense_16_loss: 0.1421 - dense_17_loss: 0.1553 - 480ms/epoch - 5ms/step\n"
     ]
    },
    {
     "data": {
      "text/plain": [
       "<keras.callbacks.History at 0x28a5c65e0>"
      ]
     },
     "execution_count": 25,
     "metadata": {},
     "output_type": "execute_result"
    }
   ],
   "source": [
    "sep_y_train_data = np.hsplit(train[1], 2) # separate the y data into pieces to only provide 1 point as NN output\n",
    "model.fit(train[0], [sep_y_train_data[0], sep_y_train_data[1]], epochs=400, batch_size=16, verbose=2)"
   ]
  },
  {
   "cell_type": "code",
   "execution_count": 26,
   "id": "BqPlv1LBOx7C",
   "metadata": {
    "colab": {
     "base_uri": "https://localhost:8080/"
    },
    "id": "BqPlv1LBOx7C",
    "outputId": "81501cf3-4d2c-4958-a105-fb52f5b8c1f5"
   },
   "outputs": [
    {
     "name": "stderr",
     "output_type": "stream",
     "text": [
      "2022-01-07 13:44:09.938711: I tensorflow/core/grappler/optimizers/custom_graph_optimizer_registry.cc:112] Plugin optimizer for device_type GPU is enabled.\n"
     ]
    },
    {
     "name": "stdout",
     "output_type": "stream",
     "text": [
      "Train Score: 0.31\n",
      "Test Score: 0.50\n"
     ]
    }
   ],
   "source": [
    "trainScore = model.evaluate(train[0], [sep_y_train_data[0], sep_y_train_data[1]], verbose=0)\n",
    "print('Train Score: %.2f' % (trainScore[0]))\n",
    "\n",
    "sep_y_test_data = np.hsplit(test[1], 2)\n",
    "testScore = model.evaluate(test[0], [sep_y_test_data[0], sep_y_test_data[1]], verbose=0)\n",
    "print('Test Score: %.2f' % (testScore[0]))"
   ]
  },
  {
   "cell_type": "markdown",
   "id": "e31f3b62",
   "metadata": {},
   "source": [
    "## Predicting on train data and plotting"
   ]
  },
  {
   "cell_type": "code",
   "execution_count": 27,
   "id": "wdLHm-yCNbJU",
   "metadata": {
    "colab": {
     "base_uri": "https://localhost:8080/",
     "height": 1000
    },
    "id": "wdLHm-yCNbJU",
    "outputId": "19757ef5-3529-4b8e-b5b8-1f7b43deff58"
   },
   "outputs": [
    {
     "name": "stderr",
     "output_type": "stream",
     "text": [
      "2022-01-07 13:44:10.343665: I tensorflow/core/grappler/optimizers/custom_graph_optimizer_registry.cc:112] Plugin optimizer for device_type GPU is enabled.\n"
     ]
    },
    {
     "data": {
      "image/png": "[encoded data removed]",
      "text/plain": [
       "<Figure size 432x288 with 1 Axes>"
      ]
     },
     "metadata": {
      "needs_background": "light"
     },
     "output_type": "display_data"
    },
    {
     "data": {
      "image/png": "[encoded data removed]",
      "text/plain": [
       "<Figure size 432x288 with 1 Axes>"
      ]
     },
     "metadata": {
      "needs_background": "light"
     },
     "output_type": "display_data"
    },
    {
     "data": {
      "image/png": "[encoded data removed]",
      "text/plain": [
       "<Figure size 432x288 with 1 Axes>"
      ]
     },
     "metadata": {
      "needs_background": "light"
     },
     "output_type": "display_data"
    },
    {
     "data": {
      "image/png": "[encoded data removed]",
      "text/plain": [
       "<Figure size 432x288 with 1 Axes>"
      ]
     },
     "metadata": {
      "needs_background": "light"
     },
     "output_type": "display_data"
    },
    {
     "data": {
      "image/png": "[encoded data removed]",
      "text/plain": [
       "<Figure size 432x288 with 1 Axes>"
      ]
     },
     "metadata": {
      "needs_background": "light"
     },
     "output_type": "display_data"
    },
    {
     "data": {
      "image/png": "[encoded data removed]",
      "text/plain": [
       "<Figure size 432x288 with 1 Axes>"
      ]
     },
     "metadata": {
      "needs_background": "light"
     },
     "output_type": "display_data"
    },
    {
     "data": {
      "image/png": "[encoded data removed]",
      "text/plain": [
       "<Figure size 432x288 with 1 Axes>"
      ]
     },
     "metadata": {
      "needs_background": "light"
     },
     "output_type": "display_data"
    },
    {
     "data": {
      "image/png": "[encoded data removed]",
      "text/plain": [
       "<Figure size 432x288 with 1 Axes>"
      ]
     },
     "metadata": {
      "needs_background": "light"
     },
     "output_type": "display_data"
    },
    {
     "data": {
      "image/png": "[encoded data removed]",
      "text/plain": [
       "<Figure size 432x288 with 1 Axes>"
      ]
     },
     "metadata": {
      "needs_background": "light"
     },
     "output_type": "display_data"
    },
    {
     "data": {
      "image/png": "[encoded data removed]",
      "text/plain": [
       "<Figure size 432x288 with 1 Axes>"
      ]
     },
     "metadata": {
      "needs_background": "light"
     },
     "output_type": "display_data"
    },
    {
     "data": {
      "image/png": "[encoded data removed]",
      "text/plain": [
       "<Figure size 432x288 with 1 Axes>"
      ]
     },
     "metadata": {
      "needs_background": "light"
     },
     "output_type": "display_data"
    },
    {
     "data": {
      "image/png": "[encoded data removed]",
      "text/plain": [
       "<Figure size 432x288 with 1 Axes>"
      ]
     },
     "metadata": {
      "needs_background": "light"
     },
     "output_type": "display_data"
    },
    {
     "data": {
      "image/png": "[encoded data removed]",
      "text/plain": [
       "<Figure size 432x288 with 1 Axes>"
      ]
     },
     "metadata": {
      "needs_background": "light"
     },
     "output_type": "display_data"
    },
    {
     "data": {
      "image/png": "[encoded data removed]",
      "text/plain": [
       "<Figure size 432x288 with 1 Axes>"
      ]
     },
     "metadata": {
      "needs_background": "light"
     },
     "output_type": "display_data"
    },
    {
     "data": {
      "image/png": "[encoded data removed]",
      "text/plain": [
       "<Figure size 432x288 with 1 Axes>"
      ]
     },
     "metadata": {
      "needs_background": "light"
     },
     "output_type": "display_data"
    },
    {
     "data": {
      "image/png": "[encoded data removed]",
      "text/plain": [
       "<Figure size 432x288 with 1 Axes>"
      ]
     },
     "metadata": {
      "needs_background": "light"
     },
     "output_type": "display_data"
    },
    {
     "data": {
      "image/png": "[encoded data removed]",
      "text/plain": [
       "<Figure size 432x288 with 1 Axes>"
      ]
     },
     "metadata": {
      "needs_background": "light"
     },
     "output_type": "display_data"
    },
    {
     "data": {
      "image/png": "[encoded data removed]",
      "text/plain": [
       "<Figure size 432x288 with 1 Axes>"
      ]
     },
     "metadata": {
      "needs_background": "light"
     },
     "output_type": "display_data"
    },
    {
     "data": {
      "image/png": "[encoded data removed]",
      "text/plain": [
       "<Figure size 432x288 with 1 Axes>"
      ]
     },
     "metadata": {
      "needs_background": "light"
     },
     "output_type": "display_data"
    },
    {
     "data": {
      "image/png": "[encoded data removed]",
      "text/plain": [
       "<Figure size 432x288 with 1 Axes>"
      ]
     },
     "metadata": {
      "needs_background": "light"
     },
     "output_type": "display_data"
    },
    {
     "name": "stdout",
     "output_type": "stream",
     "text": [
      "Average FDE:  2.093864784774762\n"
     ]
    }
   ],
   "source": [
    "# Creating a 'rolling' prediction, predicting 1 point based on 5 seen points, then another point based\n",
    "# on 4 seen points and 1 predicted point and so on\n",
    "all_FDE = []\n",
    "plotting = True\n",
    "no_of_plotted_trajectories = 20\n",
    "\n",
    "for idx, agent_id in enumerate(test_agent_ids):\n",
    "\n",
    "    seen_x = np.array(data[data['agent_id'] == agent_id].iloc[:5]['pos_x'])\n",
    "    seen_y = np.array(data[data['agent_id'] == agent_id].iloc[:5]['pos_y'])\n",
    "    unseen_x = np.array(data[data['agent_id'] == agent_id].iloc[5:10]['pos_x'])\n",
    "    unseen_y = np.array(data[data['agent_id'] == agent_id].iloc[5:10]['pos_y'])\n",
    "\n",
    "    rolling_x = np.array(seen_x)\n",
    "    rolling_y = np.array(seen_y)\n",
    "    for i in range(5):\n",
    "        seen_coordinates = np.column_stack((rolling_x, rolling_y))\n",
    "        pred_x, pred_y = model.predict(np.array([seen_coordinates]))\n",
    "\n",
    "        rolling_x = np.append(rolling_x[1:], [pred_x[0]])\n",
    "        rolling_y = np.append(rolling_y[1:], [pred_y[0]])\n",
    "\n",
    "    FDE = np.sqrt((rolling_x[-1] - unseen_x[-1])**2 + (rolling_y[-1] - unseen_y[-1])**2)\n",
    "    all_FDE.append(FDE)\n",
    "    # plot data\n",
    "    if plotting and idx < no_of_plotted_trajectories:\n",
    "        plt.axes().set_aspect('equal')\n",
    "\n",
    "        plt.plot(np.append(seen_x, unseen_x), np.append(seen_y, unseen_y), color='g')\n",
    "        plt.scatter(np.append(seen_x, unseen_x), np.append(seen_y, unseen_y), color='g')\n",
    "\n",
    "        plt.plot(rolling_x, rolling_y, color='r')\n",
    "        plt.scatter(rolling_x, rolling_y, color='r')\n",
    "\n",
    "        plt.scatter(seen_x[0], seen_y[0], color='b')\n",
    "\n",
    "        plt.show()\n",
    "\n",
    "print(\"Average FDE: \", np.mean(all_FDE))"
   ]
  },
  {
   "cell_type": "code",
   "execution_count": null,
   "id": "de55df37",
   "metadata": {},
   "outputs": [],
   "source": []
  }
 ],
 "metadata": {
  "accelerator": "TPU",
  "colab": {
   "collapsed_sections": [],
   "include_colab_link": true,
   "name": "Edinburgh-NN-over-all-data.ipynb",
   "provenance": []
  },
  "kernelspec": {
   "display_name": "Python 3 (ipykernel)",
   "language": "python",
   "name": "python3"
  },
  "language_info": {
   "codemirror_mode": {
    "name": "ipython",
    "version": 3
   },
   "file_extension": ".py",
   "mimetype": "text/x-python",
   "name": "python",
   "nbconvert_exporter": "python",
   "pygments_lexer": "ipython3",
   "version": "3.9.0"
  }
 },
 "nbformat": 4,
 "nbformat_minor": 5
}
