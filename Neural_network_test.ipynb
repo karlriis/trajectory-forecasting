{
  "cells": [
    {
      "cell_type": "markdown",
      "metadata": {
        "id": "view-in-github",
        "colab_type": "text"
      },
      "source": [
        "<a href=\"https://colab.research.google.com/github/karlriis/trajectory-forecasting/blob/main/Neural_network_test.ipynb\" target=\"_parent\"><img src=\"https://colab.research.google.com/assets/colab-badge.svg\" alt=\"Open In Colab\"/></a>"
      ]
    },
    {
      "cell_type": "markdown",
      "metadata": {
        "id": "48864bbf"
      },
      "source": [
        "## Prerequisites to run:\n",
        "- clone https://github.com/crowdbotp/OpenTraj into the current folder"
      ],
      "id": "48864bbf"
    },
    {
      "cell_type": "code",
      "execution_count": 1,
      "metadata": {
        "colab": {
          "base_uri": "https://localhost:8080/"
        },
        "id": "7huyZBgTm0lS",
        "outputId": "3bdcaa4b-4628-46e5-ea27-d0a9ccda0580"
      },
      "outputs": [
        {
          "output_type": "stream",
          "name": "stdout",
          "text": [
            "Cloning into 'OpenTraj'...\n",
            "remote: Enumerating objects: 17725, done.\u001b[K\n",
            "remote: Counting objects: 100% (1526/1526), done.\u001b[K\n",
            "remote: Compressing objects: 100% (826/826), done.\u001b[K\n",
            "remote: Total 17725 (delta 807), reused 1355 (delta 683), pack-reused 16199\u001b[K\n",
            "Receiving objects: 100% (17725/17725), 390.77 MiB | 16.24 MiB/s, done.\n",
            "Resolving deltas: 100% (1245/1245), done.\n",
            "Checking out files: 100% (15796/15796), done.\n"
          ]
        }
      ],
      "source": [
        "! git clone https://github.com/crowdbotp/OpenTraj.git"
      ],
      "id": "7huyZBgTm0lS"
    },
    {
      "cell_type": "code",
      "execution_count": 2,
      "metadata": {
        "colab": {
          "base_uri": "https://localhost:8080/"
        },
        "id": "VmImR_-HnCIP",
        "outputId": "a04f280a-2632-4c7f-b0f9-0c29052d4282"
      },
      "outputs": [
        {
          "output_type": "stream",
          "name": "stdout",
          "text": [
            "Collecting pykalman\n",
            "  Downloading pykalman-0.9.5.tar.gz (228 kB)\n",
            "\u001b[?25l\r\u001b[K     |█▍                              | 10 kB 17.1 MB/s eta 0:00:01\r\u001b[K     |██▉                             | 20 kB 23.4 MB/s eta 0:00:01\r\u001b[K     |████▎                           | 30 kB 20.3 MB/s eta 0:00:01\r\u001b[K     |█████▊                          | 40 kB 16.5 MB/s eta 0:00:01\r\u001b[K     |███████▏                        | 51 kB 5.8 MB/s eta 0:00:01\r\u001b[K     |████████▋                       | 61 kB 6.2 MB/s eta 0:00:01\r\u001b[K     |██████████                      | 71 kB 5.7 MB/s eta 0:00:01\r\u001b[K     |███████████▌                    | 81 kB 6.4 MB/s eta 0:00:01\r\u001b[K     |████████████▉                   | 92 kB 6.7 MB/s eta 0:00:01\r\u001b[K     |██████████████▎                 | 102 kB 5.5 MB/s eta 0:00:01\r\u001b[K     |███████████████▊                | 112 kB 5.5 MB/s eta 0:00:01\r\u001b[K     |█████████████████▏              | 122 kB 5.5 MB/s eta 0:00:01\r\u001b[K     |██████████████████▋             | 133 kB 5.5 MB/s eta 0:00:01\r\u001b[K     |████████████████████            | 143 kB 5.5 MB/s eta 0:00:01\r\u001b[K     |█████████████████████▌          | 153 kB 5.5 MB/s eta 0:00:01\r\u001b[K     |███████████████████████         | 163 kB 5.5 MB/s eta 0:00:01\r\u001b[K     |████████████████████████▍       | 174 kB 5.5 MB/s eta 0:00:01\r\u001b[K     |█████████████████████████▊      | 184 kB 5.5 MB/s eta 0:00:01\r\u001b[K     |███████████████████████████▏    | 194 kB 5.5 MB/s eta 0:00:01\r\u001b[K     |████████████████████████████▋   | 204 kB 5.5 MB/s eta 0:00:01\r\u001b[K     |██████████████████████████████  | 215 kB 5.5 MB/s eta 0:00:01\r\u001b[K     |███████████████████████████████▌| 225 kB 5.5 MB/s eta 0:00:01\r\u001b[K     |████████████████████████████████| 228 kB 5.5 MB/s \n",
            "\u001b[?25hBuilding wheels for collected packages: pykalman\n",
            "  Building wheel for pykalman (setup.py) ... \u001b[?25l\u001b[?25hdone\n",
            "  Created wheel for pykalman: filename=pykalman-0.9.5-py3-none-any.whl size=48461 sha256=ff8a5cce66429b85a72946a57736eb72f5c424f5a6f5f7cf5f5e526018b10c86\n",
            "  Stored in directory: /root/.cache/pip/wheels/6a/04/02/2dda6ea59c66d9e685affc8af3a31ad3a5d87b7311689efce6\n",
            "Successfully built pykalman\n",
            "Installing collected packages: pykalman\n",
            "Successfully installed pykalman-0.9.5\n"
          ]
        }
      ],
      "source": [
        "! pip install pykalman"
      ],
      "id": "VmImR_-HnCIP"
    },
    {
      "cell_type": "code",
      "execution_count": 3,
      "metadata": {
        "id": "5765a38c"
      },
      "outputs": [],
      "source": [
        "import os\n",
        "import sys\n",
        "sys.path.insert(0, os.path.abspath(os.getcwd()) + '/OpenTraj/opentraj/') # Anaconda python can't find the toolkit path without this for some reason\n",
        "\n",
        "from toolkit.loaders.loader_edinburgh import load_edinburgh\n",
        "from matplotlib import pyplot as plt\n",
        "import numpy as np\n",
        "np.random.seed(42)"
      ],
      "id": "5765a38c"
    },
    {
      "cell_type": "code",
      "execution_count": 4,
      "metadata": {
        "colab": {
          "base_uri": "https://localhost:8080/"
        },
        "id": "2d2db673",
        "outputId": "ab588475-13cf-4371-f418-af58e3c7e2f2"
      },
      "outputs": [
        {
          "output_type": "stream",
          "name": "stderr",
          "text": [
            "/content/OpenTraj/opentraj/toolkit/loaders/loader_edinburgh.py:56: ParserWarning: Falling back to the 'python' engine because the 'c' engine does not support regex separators (separators > 1 char and different from '\\s+' are interpreted as regex); you can avoid this warning by specifying engine='python'.\n",
            "  data = pd.read_csv(file, sep=\"\\n|=\", header=None,index_col=None)\n"
          ]
        },
        {
          "output_type": "stream",
          "name": "stdout",
          "text": [
            "reading:./OpenTraj/datasets/Edinburgh/annotations/tracks.01Sep.txt\n"
          ]
        },
        {
          "output_type": "stream",
          "name": "stderr",
          "text": [
            "100%|██████████| 2342/2342 [06:27<00:00,  6.04it/s]\n"
          ]
        },
        {
          "output_type": "stream",
          "name": "stdout",
          "text": [
            "Warning! too big dt in [Edinburgh]\n",
            "finish\n"
          ]
        }
      ],
      "source": [
        "opentraj_root = './OpenTraj/'\n",
        "selected_day = '01Sep' # 3 days of data in total, ['01Jul', '01Aug', '01Sep']\n",
        "edinburgh_path = os.path.join(opentraj_root, 'datasets/Edinburgh/annotations', 'tracks.%s.txt' % selected_day)\n",
        "traj_dataset = load_edinburgh(edinburgh_path, title=\"Edinburgh\", \n",
        "                              use_kalman=False, scene_id=selected_day, sampling_rate=4)"
      ],
      "id": "2d2db673"
    },
    {
      "cell_type": "code",
      "execution_count": 5,
      "metadata": {
        "id": "Kbzj6szVccPF"
      },
      "outputs": [],
      "source": [
        "data = traj_dataset.data\n",
        "NUM_OF_STEPS = 5\n",
        "# Removing any agents which don't have enough steps for model fitting and predicting\n",
        "agent_ids = data.agent_id.unique()\n",
        "for agent_id in agent_ids:\n",
        "    if len(data[data.agent_id == agent_id]) < 2*NUM_OF_STEPS:\n",
        "        data = data[data.agent_id != agent_id]\n",
        "agent_ids = data.agent_id.unique()\n",
        "\n",
        "# Sample train and test data for pos_x and pos_y, each slice with num_steps length\n",
        "def generate_data(data, begin_idx, agent_id, num_steps=5):\n",
        "    sample_x = data[\"pos_x\"].loc[data[\"agent_id\"]==agent_id][begin_idx:begin_idx+num_steps].values\n",
        "    sample_y = data[\"pos_y\"].loc[data[\"agent_id\"]==agent_id][begin_idx:begin_idx+num_steps].values\n",
        "\n",
        "    test_x = data[\"pos_x\"].loc[data[\"agent_id\"]==agent_id][begin_idx+num_steps:begin_idx+2*num_steps].values\n",
        "    test_y = data[\"pos_y\"].loc[data[\"agent_id\"]==agent_id][begin_idx+num_steps:begin_idx+2*num_steps].values\n",
        "    \n",
        "    return sample_x, sample_y, test_x, test_y\n",
        "\n",
        "def generate_velocity_data(data, begin_idx, agent_id, num_steps=5):\n",
        "    sample_vel_x = data[\"vel_x\"].loc[data[\"agent_id\"]==agent_id][begin_idx:begin_idx+num_steps].values\n",
        "    sample_vel_y = data[\"vel_y\"].loc[data[\"agent_id\"]==agent_id][begin_idx:begin_idx+num_steps].values\n",
        "    \n",
        "    test_vel_x = data[\"vel_x\"].loc[data[\"agent_id\"]==agent_id][begin_idx+num_steps:begin_idx+2*num_steps].values\n",
        "    test_vel_y = data[\"vel_y\"].loc[data[\"agent_id\"]==agent_id][begin_idx+num_steps:begin_idx+2*num_steps].values\n",
        "    \n",
        "    return sample_vel_x, sample_vel_y, test_vel_x, test_vel_y\n",
        "\n",
        "def plot_predictions(sample_x, sample_y, test_x, test_y, pred_x, pred_y):\n",
        "    plt.axes().set_aspect('equal')\n",
        "        \n",
        "    plt.plot(np.append(sample_x, pred_x), np.append(sample_y, pred_y), label=\"fitted polynomial\", color='r')\n",
        "    plt.plot(np.append(sample_x, test_x), np.append(sample_y,test_y), label=\"actual data\", color='b')\n",
        "\n",
        "    plt.scatter(sample_x[0], sample_y[0], color='b')\n",
        "    plt.scatter(sample_x[-1], sample_y[-1], color='gray')\n",
        "    plt.scatter(pred_x[0], pred_y[0], color='r')\n",
        "\n",
        "    # Comment out the following if you want to see all generated trajectories\n",
        "    #for i in range(len(pred_x_list)):\n",
        "    #    plt.plot(np.append(sample_x,pred_x_list[i]), np.append(sample_y,pred_y_list[i]), label=\"fitted polynomial\")\n",
        "\n",
        "    #plt.legend()\n",
        "    plt.show()\n",
        "    \n",
        "def calculate_error(pred_x, pred_y, test_x, test_y):\n",
        "    \n",
        "    # FDE\n",
        "    final_displacement_x = pred_x[-1] - test_x[-1]\n",
        "    final_displacement_y = pred_y[-1] - test_y[-1]\n",
        "    FDE = np.sqrt(final_displacement_x**2 + final_displacement_y**2)\n",
        "    \n",
        "    # MSE\n",
        "    abs_error_x = pred_x - test_x\n",
        "    abs_error_y = pred_y - test_y\n",
        "    \n",
        "    MSE = np.mean(np.square(abs_error_x)) + np.mean(np.square(abs_error_y))\n",
        "    \n",
        "    return FDE, MSE"
      ],
      "id": "Kbzj6szVccPF"
    },
    {
      "cell_type": "code",
      "execution_count": 6,
      "metadata": {
        "id": "8481a51c"
      },
      "outputs": [],
      "source": [
        "from keras.models import Sequential\n",
        "from keras.layers import Dense"
      ],
      "id": "8481a51c"
    },
    {
      "cell_type": "markdown",
      "metadata": {
        "id": "9hV7vBkEcCg_"
      },
      "source": [
        "## Input is t and t^2"
      ],
      "id": "9hV7vBkEcCg_"
    },
    {
      "cell_type": "markdown",
      "source": [
        "### Tests with the architecture"
      ],
      "metadata": {
        "id": "0r2yv3U54rUf"
      },
      "id": "0r2yv3U54rUf"
    },
    {
      "cell_type": "code",
      "execution_count": 7,
      "metadata": {
        "id": "wopQf8DUOWUr"
      },
      "outputs": [],
      "source": [
        "# https://stackoverflow.com/questions/44036971/multiple-outputs-in-keras\n",
        "\n",
        "from keras.models import Model\n",
        "from keras.layers import *    \n",
        "\n",
        "inp = Input((2,))\n",
        "\n",
        "x = Dense(64, activation='linear')(inp)\n",
        "\n",
        "out1 = Dense(1, activation='linear')(x)    \n",
        "out2 = Dense(1, activation='linear')(x)\n",
        "\n",
        "model = Model(inputs=inp, outputs=[out1,out2])\n",
        "model.compile(optimizer = 'adam', loss = 'mean_squared_error')"
      ],
      "id": "wopQf8DUOWUr"
    },
    {
      "cell_type": "code",
      "execution_count": 8,
      "metadata": {
        "colab": {
          "base_uri": "https://localhost:8080/"
        },
        "id": "QlPcK3bls2lk",
        "outputId": "62d107b3-7358-4b9d-ea8c-5f60f8524238"
      },
      "outputs": [
        {
          "output_type": "stream",
          "name": "stdout",
          "text": [
            "Epoch 1/500\n",
            "1/1 [==============================] - 3s 3s/step - loss: 16.1785 - dense_1_loss: 1.8745 - dense_2_loss: 14.3040\n",
            "Epoch 2/500\n",
            "1/1 [==============================] - 0s 24ms/step - loss: 13.2331 - dense_1_loss: 1.3731 - dense_2_loss: 11.8600\n",
            "Epoch 3/500\n",
            "1/1 [==============================] - 0s 18ms/step - loss: 10.6079 - dense_1_loss: 0.9626 - dense_2_loss: 9.6453\n",
            "Epoch 4/500\n",
            "1/1 [==============================] - 0s 11ms/step - loss: 8.3033 - dense_1_loss: 0.6462 - dense_2_loss: 7.6571\n",
            "Epoch 5/500\n",
            "1/1 [==============================] - 0s 8ms/step - loss: 6.3163 - dense_1_loss: 0.4115 - dense_2_loss: 5.9048\n",
            "Epoch 6/500\n",
            "1/1 [==============================] - 0s 17ms/step - loss: 4.6415 - dense_1_loss: 0.2465 - dense_2_loss: 4.3950\n",
            "Epoch 7/500\n",
            "1/1 [==============================] - 0s 21ms/step - loss: 3.2693 - dense_1_loss: 0.1407 - dense_2_loss: 3.1286\n",
            "Epoch 8/500\n",
            "1/1 [==============================] - 0s 13ms/step - loss: 2.1848 - dense_1_loss: 0.0839 - dense_2_loss: 2.1009\n",
            "Epoch 9/500\n",
            "1/1 [==============================] - 0s 24ms/step - loss: 1.3674 - dense_1_loss: 0.0649 - dense_2_loss: 1.3025\n",
            "Epoch 10/500\n",
            "1/1 [==============================] - 0s 16ms/step - loss: 0.7908 - dense_1_loss: 0.0714 - dense_2_loss: 0.7194\n",
            "Epoch 11/500\n",
            "1/1 [==============================] - 0s 13ms/step - loss: 0.4245 - dense_1_loss: 0.0919 - dense_2_loss: 0.3326\n",
            "Epoch 12/500\n",
            "1/1 [==============================] - 0s 20ms/step - loss: 0.2345 - dense_1_loss: 0.1161 - dense_2_loss: 0.1184\n",
            "Epoch 13/500\n",
            "1/1 [==============================] - 0s 20ms/step - loss: 0.1853 - dense_1_loss: 0.1365 - dense_2_loss: 0.0488\n",
            "Epoch 14/500\n",
            "1/1 [==============================] - 0s 18ms/step - loss: 0.2412 - dense_1_loss: 0.1485 - dense_2_loss: 0.0928\n",
            "Epoch 15/500\n",
            "1/1 [==============================] - 0s 33ms/step - loss: 0.3681 - dense_1_loss: 0.1508 - dense_2_loss: 0.2173\n",
            "Epoch 16/500\n",
            "1/1 [==============================] - 0s 12ms/step - loss: 0.5340 - dense_1_loss: 0.1445 - dense_2_loss: 0.3895\n",
            "Epoch 17/500\n",
            "1/1 [==============================] - 0s 16ms/step - loss: 0.7111 - dense_1_loss: 0.1323 - dense_2_loss: 0.5788\n",
            "Epoch 18/500\n",
            "1/1 [==============================] - 0s 35ms/step - loss: 0.8760 - dense_1_loss: 0.1172 - dense_2_loss: 0.7588\n",
            "Epoch 19/500\n",
            "1/1 [==============================] - 0s 31ms/step - loss: 1.0107 - dense_1_loss: 0.1021 - dense_2_loss: 0.9086\n",
            "Epoch 20/500\n",
            "1/1 [==============================] - 0s 22ms/step - loss: 1.1031 - dense_1_loss: 0.0889 - dense_2_loss: 1.0142\n",
            "Epoch 21/500\n",
            "1/1 [==============================] - 0s 15ms/step - loss: 1.1470 - dense_1_loss: 0.0787 - dense_2_loss: 1.0684\n",
            "Epoch 22/500\n",
            "1/1 [==============================] - 0s 22ms/step - loss: 1.1418 - dense_1_loss: 0.0715 - dense_2_loss: 1.0703\n",
            "Epoch 23/500\n",
            "1/1 [==============================] - 0s 18ms/step - loss: 1.0913 - dense_1_loss: 0.0670 - dense_2_loss: 1.0243\n",
            "Epoch 24/500\n",
            "1/1 [==============================] - 0s 10ms/step - loss: 1.0031 - dense_1_loss: 0.0642 - dense_2_loss: 0.9389\n",
            "Epoch 25/500\n",
            "1/1 [==============================] - 0s 22ms/step - loss: 0.8872 - dense_1_loss: 0.0626 - dense_2_loss: 0.8247\n",
            "Epoch 26/500\n",
            "1/1 [==============================] - 0s 10ms/step - loss: 0.7547 - dense_1_loss: 0.0613 - dense_2_loss: 0.6934\n",
            "Epoch 27/500\n",
            "1/1 [==============================] - 0s 18ms/step - loss: 0.6167 - dense_1_loss: 0.0600 - dense_2_loss: 0.5566\n",
            "Epoch 28/500\n",
            "1/1 [==============================] - 0s 15ms/step - loss: 0.4834 - dense_1_loss: 0.0587 - dense_2_loss: 0.4247\n",
            "Epoch 29/500\n",
            "1/1 [==============================] - 0s 34ms/step - loss: 0.3632 - dense_1_loss: 0.0572 - dense_2_loss: 0.3060\n",
            "Epoch 30/500\n",
            "1/1 [==============================] - 0s 28ms/step - loss: 0.2626 - dense_1_loss: 0.0557 - dense_2_loss: 0.2069\n",
            "Epoch 31/500\n",
            "1/1 [==============================] - 0s 38ms/step - loss: 0.1853 - dense_1_loss: 0.0544 - dense_2_loss: 0.1309\n",
            "Epoch 32/500\n",
            "1/1 [==============================] - 0s 24ms/step - loss: 0.1326 - dense_1_loss: 0.0533 - dense_2_loss: 0.0793\n",
            "Epoch 33/500\n",
            "1/1 [==============================] - 0s 24ms/step - loss: 0.1033 - dense_1_loss: 0.0523 - dense_2_loss: 0.0510\n",
            "Epoch 34/500\n",
            "1/1 [==============================] - 0s 19ms/step - loss: 0.0945 - dense_1_loss: 0.0514 - dense_2_loss: 0.0431\n",
            "Epoch 35/500\n",
            "1/1 [==============================] - 0s 21ms/step - loss: 0.1018 - dense_1_loss: 0.0504 - dense_2_loss: 0.0514\n",
            "Epoch 36/500\n",
            "1/1 [==============================] - 0s 8ms/step - loss: 0.1200 - dense_1_loss: 0.0493 - dense_2_loss: 0.0707\n",
            "Epoch 37/500\n",
            "1/1 [==============================] - 0s 9ms/step - loss: 0.1440 - dense_1_loss: 0.0480 - dense_2_loss: 0.0960\n",
            "Epoch 38/500\n",
            "1/1 [==============================] - 0s 13ms/step - loss: 0.1689 - dense_1_loss: 0.0466 - dense_2_loss: 0.1224\n",
            "Epoch 39/500\n",
            "1/1 [==============================] - 0s 14ms/step - loss: 0.1910 - dense_1_loss: 0.0452 - dense_2_loss: 0.1459\n",
            "Epoch 40/500\n",
            "1/1 [==============================] - 0s 9ms/step - loss: 0.2075 - dense_1_loss: 0.0440 - dense_2_loss: 0.1635\n",
            "Epoch 41/500\n",
            "1/1 [==============================] - 0s 9ms/step - loss: 0.2168 - dense_1_loss: 0.0432 - dense_2_loss: 0.1736\n",
            "Epoch 42/500\n",
            "1/1 [==============================] - 0s 9ms/step - loss: 0.2183 - dense_1_loss: 0.0428 - dense_2_loss: 0.1756\n",
            "Epoch 43/500\n",
            "1/1 [==============================] - 0s 13ms/step - loss: 0.2126 - dense_1_loss: 0.0428 - dense_2_loss: 0.1699\n",
            "Epoch 44/500\n",
            "1/1 [==============================] - 0s 11ms/step - loss: 0.2008 - dense_1_loss: 0.0430 - dense_2_loss: 0.1578\n",
            "Epoch 45/500\n",
            "1/1 [==============================] - 0s 12ms/step - loss: 0.1844 - dense_1_loss: 0.0433 - dense_2_loss: 0.1410\n",
            "Epoch 46/500\n",
            "1/1 [==============================] - 0s 10ms/step - loss: 0.1651 - dense_1_loss: 0.0434 - dense_2_loss: 0.1217\n",
            "Epoch 47/500\n",
            "1/1 [==============================] - 0s 10ms/step - loss: 0.1449 - dense_1_loss: 0.0431 - dense_2_loss: 0.1017\n",
            "Epoch 48/500\n",
            "1/1 [==============================] - 0s 10ms/step - loss: 0.1253 - dense_1_loss: 0.0424 - dense_2_loss: 0.0829\n",
            "Epoch 49/500\n",
            "1/1 [==============================] - 0s 10ms/step - loss: 0.1078 - dense_1_loss: 0.0412 - dense_2_loss: 0.0666\n",
            "Epoch 50/500\n",
            "1/1 [==============================] - 0s 13ms/step - loss: 0.0933 - dense_1_loss: 0.0397 - dense_2_loss: 0.0536\n",
            "Epoch 51/500\n",
            "1/1 [==============================] - 0s 11ms/step - loss: 0.0825 - dense_1_loss: 0.0381 - dense_2_loss: 0.0444\n",
            "Epoch 52/500\n",
            "1/1 [==============================] - 0s 11ms/step - loss: 0.0756 - dense_1_loss: 0.0366 - dense_2_loss: 0.0390\n",
            "Epoch 53/500\n",
            "1/1 [==============================] - 0s 10ms/step - loss: 0.0723 - dense_1_loss: 0.0353 - dense_2_loss: 0.0370\n",
            "Epoch 54/500\n",
            "1/1 [==============================] - 0s 12ms/step - loss: 0.0721 - dense_1_loss: 0.0344 - dense_2_loss: 0.0376\n",
            "Epoch 55/500\n",
            "1/1 [==============================] - 0s 17ms/step - loss: 0.0740 - dense_1_loss: 0.0339 - dense_2_loss: 0.0401\n",
            "Epoch 56/500\n",
            "1/1 [==============================] - 0s 9ms/step - loss: 0.0772 - dense_1_loss: 0.0336 - dense_2_loss: 0.0436\n",
            "Epoch 57/500\n",
            "1/1 [==============================] - 0s 8ms/step - loss: 0.0807 - dense_1_loss: 0.0334 - dense_2_loss: 0.0473\n",
            "Epoch 58/500\n",
            "1/1 [==============================] - 0s 11ms/step - loss: 0.0837 - dense_1_loss: 0.0333 - dense_2_loss: 0.0505\n",
            "Epoch 59/500\n",
            "1/1 [==============================] - 0s 11ms/step - loss: 0.0856 - dense_1_loss: 0.0329 - dense_2_loss: 0.0527\n",
            "Epoch 60/500\n",
            "1/1 [==============================] - 0s 11ms/step - loss: 0.0861 - dense_1_loss: 0.0324 - dense_2_loss: 0.0537\n",
            "Epoch 61/500\n",
            "1/1 [==============================] - 0s 12ms/step - loss: 0.0850 - dense_1_loss: 0.0316 - dense_2_loss: 0.0534\n",
            "Epoch 62/500\n",
            "1/1 [==============================] - 0s 10ms/step - loss: 0.0826 - dense_1_loss: 0.0307 - dense_2_loss: 0.0519\n",
            "Epoch 63/500\n",
            "1/1 [==============================] - 0s 15ms/step - loss: 0.0791 - dense_1_loss: 0.0297 - dense_2_loss: 0.0494\n",
            "Epoch 64/500\n",
            "1/1 [==============================] - 0s 10ms/step - loss: 0.0750 - dense_1_loss: 0.0287 - dense_2_loss: 0.0463\n",
            "Epoch 65/500\n",
            "1/1 [==============================] - 0s 15ms/step - loss: 0.0706 - dense_1_loss: 0.0278 - dense_2_loss: 0.0429\n",
            "Epoch 66/500\n",
            "1/1 [==============================] - 0s 10ms/step - loss: 0.0665 - dense_1_loss: 0.0270 - dense_2_loss: 0.0395\n",
            "Epoch 67/500\n",
            "1/1 [==============================] - 0s 10ms/step - loss: 0.0628 - dense_1_loss: 0.0263 - dense_2_loss: 0.0365\n",
            "Epoch 68/500\n",
            "1/1 [==============================] - 0s 12ms/step - loss: 0.0598 - dense_1_loss: 0.0257 - dense_2_loss: 0.0341\n",
            "Epoch 69/500\n",
            "1/1 [==============================] - 0s 14ms/step - loss: 0.0575 - dense_1_loss: 0.0252 - dense_2_loss: 0.0323\n",
            "Epoch 70/500\n",
            "1/1 [==============================] - 0s 8ms/step - loss: 0.0560 - dense_1_loss: 0.0247 - dense_2_loss: 0.0313\n",
            "Epoch 71/500\n",
            "1/1 [==============================] - 0s 16ms/step - loss: 0.0550 - dense_1_loss: 0.0242 - dense_2_loss: 0.0309\n",
            "Epoch 72/500\n",
            "1/1 [==============================] - 0s 11ms/step - loss: 0.0546 - dense_1_loss: 0.0236 - dense_2_loss: 0.0309\n",
            "Epoch 73/500\n",
            "1/1 [==============================] - 0s 7ms/step - loss: 0.0544 - dense_1_loss: 0.0231 - dense_2_loss: 0.0313\n",
            "Epoch 74/500\n",
            "1/1 [==============================] - 0s 12ms/step - loss: 0.0544 - dense_1_loss: 0.0225 - dense_2_loss: 0.0318\n",
            "Epoch 75/500\n",
            "1/1 [==============================] - 0s 13ms/step - loss: 0.0543 - dense_1_loss: 0.0220 - dense_2_loss: 0.0323\n",
            "Epoch 76/500\n",
            "1/1 [==============================] - 0s 10ms/step - loss: 0.0541 - dense_1_loss: 0.0215 - dense_2_loss: 0.0326\n",
            "Epoch 77/500\n",
            "1/1 [==============================] - 0s 12ms/step - loss: 0.0536 - dense_1_loss: 0.0210 - dense_2_loss: 0.0326\n",
            "Epoch 78/500\n",
            "1/1 [==============================] - 0s 13ms/step - loss: 0.0529 - dense_1_loss: 0.0206 - dense_2_loss: 0.0323\n",
            "Epoch 79/500\n",
            "1/1 [==============================] - 0s 8ms/step - loss: 0.0519 - dense_1_loss: 0.0202 - dense_2_loss: 0.0317\n",
            "Epoch 80/500\n",
            "1/1 [==============================] - 0s 13ms/step - loss: 0.0506 - dense_1_loss: 0.0197 - dense_2_loss: 0.0309\n",
            "Epoch 81/500\n",
            "1/1 [==============================] - 0s 13ms/step - loss: 0.0493 - dense_1_loss: 0.0194 - dense_2_loss: 0.0299\n",
            "Epoch 82/500\n",
            "1/1 [==============================] - 0s 12ms/step - loss: 0.0479 - dense_1_loss: 0.0190 - dense_2_loss: 0.0289\n",
            "Epoch 83/500\n",
            "1/1 [==============================] - 0s 11ms/step - loss: 0.0466 - dense_1_loss: 0.0186 - dense_2_loss: 0.0280\n",
            "Epoch 84/500\n",
            "1/1 [==============================] - 0s 13ms/step - loss: 0.0453 - dense_1_loss: 0.0183 - dense_2_loss: 0.0271\n",
            "Epoch 85/500\n",
            "1/1 [==============================] - 0s 10ms/step - loss: 0.0443 - dense_1_loss: 0.0179 - dense_2_loss: 0.0264\n",
            "Epoch 86/500\n",
            "1/1 [==============================] - 0s 10ms/step - loss: 0.0434 - dense_1_loss: 0.0176 - dense_2_loss: 0.0258\n",
            "Epoch 87/500\n",
            "1/1 [==============================] - 0s 12ms/step - loss: 0.0427 - dense_1_loss: 0.0172 - dense_2_loss: 0.0254\n",
            "Epoch 88/500\n",
            "1/1 [==============================] - 0s 12ms/step - loss: 0.0420 - dense_1_loss: 0.0169 - dense_2_loss: 0.0251\n",
            "Epoch 89/500\n",
            "1/1 [==============================] - 0s 8ms/step - loss: 0.0415 - dense_1_loss: 0.0166 - dense_2_loss: 0.0249\n",
            "Epoch 90/500\n",
            "1/1 [==============================] - 0s 12ms/step - loss: 0.0410 - dense_1_loss: 0.0163 - dense_2_loss: 0.0248\n",
            "Epoch 91/500\n",
            "1/1 [==============================] - 0s 12ms/step - loss: 0.0406 - dense_1_loss: 0.0160 - dense_2_loss: 0.0246\n",
            "Epoch 92/500\n",
            "1/1 [==============================] - 0s 10ms/step - loss: 0.0400 - dense_1_loss: 0.0157 - dense_2_loss: 0.0244\n",
            "Epoch 93/500\n",
            "1/1 [==============================] - 0s 10ms/step - loss: 0.0395 - dense_1_loss: 0.0154 - dense_2_loss: 0.0241\n",
            "Epoch 94/500\n",
            "1/1 [==============================] - 0s 10ms/step - loss: 0.0389 - dense_1_loss: 0.0151 - dense_2_loss: 0.0238\n",
            "Epoch 95/500\n",
            "1/1 [==============================] - 0s 9ms/step - loss: 0.0382 - dense_1_loss: 0.0148 - dense_2_loss: 0.0234\n",
            "Epoch 96/500\n",
            "1/1 [==============================] - 0s 10ms/step - loss: 0.0375 - dense_1_loss: 0.0145 - dense_2_loss: 0.0230\n",
            "Epoch 97/500\n",
            "1/1 [==============================] - 0s 12ms/step - loss: 0.0368 - dense_1_loss: 0.0143 - dense_2_loss: 0.0226\n",
            "Epoch 98/500\n",
            "1/1 [==============================] - 0s 12ms/step - loss: 0.0361 - dense_1_loss: 0.0140 - dense_2_loss: 0.0221\n",
            "Epoch 99/500\n",
            "1/1 [==============================] - 0s 7ms/step - loss: 0.0354 - dense_1_loss: 0.0137 - dense_2_loss: 0.0217\n",
            "Epoch 100/500\n",
            "1/1 [==============================] - 0s 9ms/step - loss: 0.0348 - dense_1_loss: 0.0135 - dense_2_loss: 0.0213\n",
            "Epoch 101/500\n",
            "1/1 [==============================] - 0s 7ms/step - loss: 0.0342 - dense_1_loss: 0.0132 - dense_2_loss: 0.0210\n",
            "Epoch 102/500\n",
            "1/1 [==============================] - 0s 11ms/step - loss: 0.0336 - dense_1_loss: 0.0130 - dense_2_loss: 0.0206\n",
            "Epoch 103/500\n",
            "1/1 [==============================] - 0s 9ms/step - loss: 0.0331 - dense_1_loss: 0.0127 - dense_2_loss: 0.0203\n",
            "Epoch 104/500\n",
            "1/1 [==============================] - 0s 13ms/step - loss: 0.0326 - dense_1_loss: 0.0125 - dense_2_loss: 0.0201\n",
            "Epoch 105/500\n",
            "1/1 [==============================] - 0s 12ms/step - loss: 0.0321 - dense_1_loss: 0.0123 - dense_2_loss: 0.0198\n",
            "Epoch 106/500\n",
            "1/1 [==============================] - 0s 12ms/step - loss: 0.0316 - dense_1_loss: 0.0121 - dense_2_loss: 0.0196\n",
            "Epoch 107/500\n",
            "1/1 [==============================] - 0s 10ms/step - loss: 0.0312 - dense_1_loss: 0.0119 - dense_2_loss: 0.0193\n",
            "Epoch 108/500\n",
            "1/1 [==============================] - 0s 12ms/step - loss: 0.0307 - dense_1_loss: 0.0117 - dense_2_loss: 0.0190\n",
            "Epoch 109/500\n",
            "1/1 [==============================] - 0s 8ms/step - loss: 0.0302 - dense_1_loss: 0.0115 - dense_2_loss: 0.0187\n",
            "Epoch 110/500\n",
            "1/1 [==============================] - 0s 7ms/step - loss: 0.0298 - dense_1_loss: 0.0113 - dense_2_loss: 0.0184\n",
            "Epoch 111/500\n",
            "1/1 [==============================] - 0s 12ms/step - loss: 0.0293 - dense_1_loss: 0.0111 - dense_2_loss: 0.0181\n",
            "Epoch 112/500\n",
            "1/1 [==============================] - 0s 10ms/step - loss: 0.0288 - dense_1_loss: 0.0110 - dense_2_loss: 0.0178\n",
            "Epoch 113/500\n",
            "1/1 [==============================] - 0s 10ms/step - loss: 0.0283 - dense_1_loss: 0.0108 - dense_2_loss: 0.0175\n",
            "Epoch 114/500\n",
            "1/1 [==============================] - 0s 11ms/step - loss: 0.0279 - dense_1_loss: 0.0106 - dense_2_loss: 0.0172\n",
            "Epoch 115/500\n",
            "1/1 [==============================] - 0s 10ms/step - loss: 0.0274 - dense_1_loss: 0.0105 - dense_2_loss: 0.0169\n",
            "Epoch 116/500\n",
            "1/1 [==============================] - 0s 6ms/step - loss: 0.0270 - dense_1_loss: 0.0103 - dense_2_loss: 0.0167\n",
            "Epoch 117/500\n",
            "1/1 [==============================] - 0s 12ms/step - loss: 0.0265 - dense_1_loss: 0.0102 - dense_2_loss: 0.0164\n",
            "Epoch 118/500\n",
            "1/1 [==============================] - 0s 14ms/step - loss: 0.0261 - dense_1_loss: 0.0100 - dense_2_loss: 0.0161\n",
            "Epoch 119/500\n",
            "1/1 [==============================] - 0s 12ms/step - loss: 0.0257 - dense_1_loss: 0.0099 - dense_2_loss: 0.0158\n",
            "Epoch 120/500\n",
            "1/1 [==============================] - 0s 18ms/step - loss: 0.0253 - dense_1_loss: 0.0097 - dense_2_loss: 0.0156\n",
            "Epoch 121/500\n",
            "1/1 [==============================] - 0s 15ms/step - loss: 0.0250 - dense_1_loss: 0.0096 - dense_2_loss: 0.0153\n",
            "Epoch 122/500\n",
            "1/1 [==============================] - 0s 11ms/step - loss: 0.0246 - dense_1_loss: 0.0095 - dense_2_loss: 0.0151\n",
            "Epoch 123/500\n",
            "1/1 [==============================] - 0s 12ms/step - loss: 0.0242 - dense_1_loss: 0.0094 - dense_2_loss: 0.0149\n",
            "Epoch 124/500\n",
            "1/1 [==============================] - 0s 9ms/step - loss: 0.0238 - dense_1_loss: 0.0092 - dense_2_loss: 0.0146\n",
            "Epoch 125/500\n",
            "1/1 [==============================] - 0s 9ms/step - loss: 0.0235 - dense_1_loss: 0.0091 - dense_2_loss: 0.0144\n",
            "Epoch 126/500\n",
            "1/1 [==============================] - 0s 11ms/step - loss: 0.0231 - dense_1_loss: 0.0090 - dense_2_loss: 0.0141\n",
            "Epoch 127/500\n",
            "1/1 [==============================] - 0s 9ms/step - loss: 0.0227 - dense_1_loss: 0.0089 - dense_2_loss: 0.0139\n",
            "Epoch 128/500\n",
            "1/1 [==============================] - 0s 12ms/step - loss: 0.0224 - dense_1_loss: 0.0088 - dense_2_loss: 0.0136\n",
            "Epoch 129/500\n",
            "1/1 [==============================] - 0s 12ms/step - loss: 0.0220 - dense_1_loss: 0.0087 - dense_2_loss: 0.0134\n",
            "Epoch 130/500\n",
            "1/1 [==============================] - 0s 11ms/step - loss: 0.0217 - dense_1_loss: 0.0086 - dense_2_loss: 0.0132\n",
            "Epoch 131/500\n",
            "1/1 [==============================] - 0s 11ms/step - loss: 0.0214 - dense_1_loss: 0.0085 - dense_2_loss: 0.0129\n",
            "Epoch 132/500\n",
            "1/1 [==============================] - 0s 8ms/step - loss: 0.0211 - dense_1_loss: 0.0084 - dense_2_loss: 0.0127\n",
            "Epoch 133/500\n",
            "1/1 [==============================] - 0s 7ms/step - loss: 0.0207 - dense_1_loss: 0.0083 - dense_2_loss: 0.0125\n",
            "Epoch 134/500\n",
            "1/1 [==============================] - 0s 9ms/step - loss: 0.0204 - dense_1_loss: 0.0082 - dense_2_loss: 0.0123\n",
            "Epoch 135/500\n",
            "1/1 [==============================] - 0s 18ms/step - loss: 0.0201 - dense_1_loss: 0.0081 - dense_2_loss: 0.0120\n",
            "Epoch 136/500\n",
            "1/1 [==============================] - 0s 19ms/step - loss: 0.0198 - dense_1_loss: 0.0080 - dense_2_loss: 0.0118\n",
            "Epoch 137/500\n",
            "1/1 [==============================] - 0s 10ms/step - loss: 0.0195 - dense_1_loss: 0.0079 - dense_2_loss: 0.0116\n",
            "Epoch 138/500\n",
            "1/1 [==============================] - 0s 20ms/step - loss: 0.0192 - dense_1_loss: 0.0078 - dense_2_loss: 0.0114\n",
            "Epoch 139/500\n",
            "1/1 [==============================] - 0s 10ms/step - loss: 0.0190 - dense_1_loss: 0.0078 - dense_2_loss: 0.0112\n",
            "Epoch 140/500\n",
            "1/1 [==============================] - 0s 15ms/step - loss: 0.0187 - dense_1_loss: 0.0077 - dense_2_loss: 0.0110\n",
            "Epoch 141/500\n",
            "1/1 [==============================] - 0s 16ms/step - loss: 0.0184 - dense_1_loss: 0.0076 - dense_2_loss: 0.0108\n",
            "Epoch 142/500\n",
            "1/1 [==============================] - 0s 9ms/step - loss: 0.0181 - dense_1_loss: 0.0075 - dense_2_loss: 0.0106\n",
            "Epoch 143/500\n",
            "1/1 [==============================] - 0s 18ms/step - loss: 0.0179 - dense_1_loss: 0.0075 - dense_2_loss: 0.0104\n",
            "Epoch 144/500\n",
            "1/1 [==============================] - 0s 13ms/step - loss: 0.0176 - dense_1_loss: 0.0074 - dense_2_loss: 0.0102\n",
            "Epoch 145/500\n",
            "1/1 [==============================] - 0s 13ms/step - loss: 0.0174 - dense_1_loss: 0.0073 - dense_2_loss: 0.0100\n",
            "Epoch 146/500\n",
            "1/1 [==============================] - 0s 10ms/step - loss: 0.0171 - dense_1_loss: 0.0073 - dense_2_loss: 0.0098\n",
            "Epoch 147/500\n",
            "1/1 [==============================] - 0s 12ms/step - loss: 0.0169 - dense_1_loss: 0.0072 - dense_2_loss: 0.0097\n",
            "Epoch 148/500\n",
            "1/1 [==============================] - 0s 16ms/step - loss: 0.0166 - dense_1_loss: 0.0071 - dense_2_loss: 0.0095\n",
            "Epoch 149/500\n",
            "1/1 [==============================] - 0s 14ms/step - loss: 0.0164 - dense_1_loss: 0.0071 - dense_2_loss: 0.0093\n",
            "Epoch 150/500\n",
            "1/1 [==============================] - 0s 15ms/step - loss: 0.0162 - dense_1_loss: 0.0070 - dense_2_loss: 0.0091\n",
            "Epoch 151/500\n",
            "1/1 [==============================] - 0s 14ms/step - loss: 0.0159 - dense_1_loss: 0.0070 - dense_2_loss: 0.0090\n",
            "Epoch 152/500\n",
            "1/1 [==============================] - 0s 12ms/step - loss: 0.0157 - dense_1_loss: 0.0069 - dense_2_loss: 0.0088\n",
            "Epoch 153/500\n",
            "1/1 [==============================] - 0s 13ms/step - loss: 0.0155 - dense_1_loss: 0.0069 - dense_2_loss: 0.0086\n",
            "Epoch 154/500\n",
            "1/1 [==============================] - 0s 10ms/step - loss: 0.0153 - dense_1_loss: 0.0068 - dense_2_loss: 0.0085\n",
            "Epoch 155/500\n",
            "1/1 [==============================] - 0s 9ms/step - loss: 0.0151 - dense_1_loss: 0.0068 - dense_2_loss: 0.0083\n",
            "Epoch 156/500\n",
            "1/1 [==============================] - 0s 11ms/step - loss: 0.0148 - dense_1_loss: 0.0067 - dense_2_loss: 0.0081\n",
            "Epoch 157/500\n",
            "1/1 [==============================] - 0s 11ms/step - loss: 0.0146 - dense_1_loss: 0.0067 - dense_2_loss: 0.0080\n",
            "Epoch 158/500\n",
            "1/1 [==============================] - 0s 10ms/step - loss: 0.0144 - dense_1_loss: 0.0066 - dense_2_loss: 0.0078\n",
            "Epoch 159/500\n",
            "1/1 [==============================] - 0s 11ms/step - loss: 0.0143 - dense_1_loss: 0.0066 - dense_2_loss: 0.0077\n",
            "Epoch 160/500\n",
            "1/1 [==============================] - 0s 14ms/step - loss: 0.0141 - dense_1_loss: 0.0065 - dense_2_loss: 0.0075\n",
            "Epoch 161/500\n",
            "1/1 [==============================] - 0s 12ms/step - loss: 0.0139 - dense_1_loss: 0.0065 - dense_2_loss: 0.0074\n",
            "Epoch 162/500\n",
            "1/1 [==============================] - 0s 13ms/step - loss: 0.0137 - dense_1_loss: 0.0064 - dense_2_loss: 0.0072\n",
            "Epoch 163/500\n",
            "1/1 [==============================] - 0s 16ms/step - loss: 0.0135 - dense_1_loss: 0.0064 - dense_2_loss: 0.0071\n",
            "Epoch 164/500\n",
            "1/1 [==============================] - 0s 15ms/step - loss: 0.0133 - dense_1_loss: 0.0064 - dense_2_loss: 0.0070\n",
            "Epoch 165/500\n",
            "1/1 [==============================] - 0s 13ms/step - loss: 0.0132 - dense_1_loss: 0.0063 - dense_2_loss: 0.0068\n",
            "Epoch 166/500\n",
            "1/1 [==============================] - 0s 14ms/step - loss: 0.0130 - dense_1_loss: 0.0063 - dense_2_loss: 0.0067\n",
            "Epoch 167/500\n",
            "1/1 [==============================] - 0s 12ms/step - loss: 0.0128 - dense_1_loss: 0.0063 - dense_2_loss: 0.0066\n",
            "Epoch 168/500\n",
            "1/1 [==============================] - 0s 9ms/step - loss: 0.0126 - dense_1_loss: 0.0062 - dense_2_loss: 0.0064\n",
            "Epoch 169/500\n",
            "1/1 [==============================] - 0s 14ms/step - loss: 0.0125 - dense_1_loss: 0.0062 - dense_2_loss: 0.0063\n",
            "Epoch 170/500\n",
            "1/1 [==============================] - 0s 12ms/step - loss: 0.0123 - dense_1_loss: 0.0061 - dense_2_loss: 0.0062\n",
            "Epoch 171/500\n",
            "1/1 [==============================] - 0s 15ms/step - loss: 0.0122 - dense_1_loss: 0.0061 - dense_2_loss: 0.0061\n",
            "Epoch 172/500\n",
            "1/1 [==============================] - 0s 14ms/step - loss: 0.0120 - dense_1_loss: 0.0061 - dense_2_loss: 0.0059\n",
            "Epoch 173/500\n",
            "1/1 [==============================] - 0s 11ms/step - loss: 0.0119 - dense_1_loss: 0.0061 - dense_2_loss: 0.0058\n",
            "Epoch 174/500\n",
            "1/1 [==============================] - 0s 9ms/step - loss: 0.0117 - dense_1_loss: 0.0060 - dense_2_loss: 0.0057\n",
            "Epoch 175/500\n",
            "1/1 [==============================] - 0s 14ms/step - loss: 0.0116 - dense_1_loss: 0.0060 - dense_2_loss: 0.0056\n",
            "Epoch 176/500\n",
            "1/1 [==============================] - 0s 20ms/step - loss: 0.0114 - dense_1_loss: 0.0060 - dense_2_loss: 0.0055\n",
            "Epoch 177/500\n",
            "1/1 [==============================] - 0s 14ms/step - loss: 0.0113 - dense_1_loss: 0.0059 - dense_2_loss: 0.0054\n",
            "Epoch 178/500\n",
            "1/1 [==============================] - 0s 12ms/step - loss: 0.0112 - dense_1_loss: 0.0059 - dense_2_loss: 0.0053\n",
            "Epoch 179/500\n",
            "1/1 [==============================] - 0s 12ms/step - loss: 0.0110 - dense_1_loss: 0.0059 - dense_2_loss: 0.0052\n",
            "Epoch 180/500\n",
            "1/1 [==============================] - 0s 12ms/step - loss: 0.0109 - dense_1_loss: 0.0059 - dense_2_loss: 0.0051\n",
            "Epoch 181/500\n",
            "1/1 [==============================] - 0s 11ms/step - loss: 0.0108 - dense_1_loss: 0.0058 - dense_2_loss: 0.0050\n",
            "Epoch 182/500\n",
            "1/1 [==============================] - 0s 14ms/step - loss: 0.0107 - dense_1_loss: 0.0058 - dense_2_loss: 0.0049\n",
            "Epoch 183/500\n",
            "1/1 [==============================] - 0s 9ms/step - loss: 0.0105 - dense_1_loss: 0.0058 - dense_2_loss: 0.0048\n",
            "Epoch 184/500\n",
            "1/1 [==============================] - 0s 20ms/step - loss: 0.0104 - dense_1_loss: 0.0057 - dense_2_loss: 0.0047\n",
            "Epoch 185/500\n",
            "1/1 [==============================] - 0s 12ms/step - loss: 0.0103 - dense_1_loss: 0.0057 - dense_2_loss: 0.0046\n",
            "Epoch 186/500\n",
            "1/1 [==============================] - 0s 15ms/step - loss: 0.0102 - dense_1_loss: 0.0057 - dense_2_loss: 0.0045\n",
            "Epoch 187/500\n",
            "1/1 [==============================] - 0s 12ms/step - loss: 0.0101 - dense_1_loss: 0.0057 - dense_2_loss: 0.0044\n",
            "Epoch 188/500\n",
            "1/1 [==============================] - 0s 10ms/step - loss: 0.0100 - dense_1_loss: 0.0057 - dense_2_loss: 0.0043\n",
            "Epoch 189/500\n",
            "1/1 [==============================] - 0s 11ms/step - loss: 0.0099 - dense_1_loss: 0.0056 - dense_2_loss: 0.0042\n",
            "Epoch 190/500\n",
            "1/1 [==============================] - 0s 14ms/step - loss: 0.0098 - dense_1_loss: 0.0056 - dense_2_loss: 0.0041\n",
            "Epoch 191/500\n",
            "1/1 [==============================] - 0s 12ms/step - loss: 0.0097 - dense_1_loss: 0.0056 - dense_2_loss: 0.0041\n",
            "Epoch 192/500\n",
            "1/1 [==============================] - 0s 7ms/step - loss: 0.0096 - dense_1_loss: 0.0056 - dense_2_loss: 0.0040\n",
            "Epoch 193/500\n",
            "1/1 [==============================] - 0s 9ms/step - loss: 0.0095 - dense_1_loss: 0.0055 - dense_2_loss: 0.0039\n",
            "Epoch 194/500\n",
            "1/1 [==============================] - 0s 9ms/step - loss: 0.0094 - dense_1_loss: 0.0055 - dense_2_loss: 0.0038\n",
            "Epoch 195/500\n",
            "1/1 [==============================] - 0s 13ms/step - loss: 0.0093 - dense_1_loss: 0.0055 - dense_2_loss: 0.0038\n",
            "Epoch 196/500\n",
            "1/1 [==============================] - 0s 7ms/step - loss: 0.0092 - dense_1_loss: 0.0055 - dense_2_loss: 0.0037\n",
            "Epoch 197/500\n",
            "1/1 [==============================] - 0s 16ms/step - loss: 0.0091 - dense_1_loss: 0.0055 - dense_2_loss: 0.0036\n",
            "Epoch 198/500\n",
            "1/1 [==============================] - 0s 16ms/step - loss: 0.0090 - dense_1_loss: 0.0054 - dense_2_loss: 0.0035\n",
            "Epoch 199/500\n",
            "1/1 [==============================] - 0s 12ms/step - loss: 0.0089 - dense_1_loss: 0.0054 - dense_2_loss: 0.0035\n",
            "Epoch 200/500\n",
            "1/1 [==============================] - 0s 16ms/step - loss: 0.0088 - dense_1_loss: 0.0054 - dense_2_loss: 0.0034\n",
            "Epoch 201/500\n",
            "1/1 [==============================] - 0s 11ms/step - loss: 0.0087 - dense_1_loss: 0.0054 - dense_2_loss: 0.0033\n",
            "Epoch 202/500\n",
            "1/1 [==============================] - 0s 14ms/step - loss: 0.0087 - dense_1_loss: 0.0054 - dense_2_loss: 0.0033\n",
            "Epoch 203/500\n",
            "1/1 [==============================] - 0s 12ms/step - loss: 0.0086 - dense_1_loss: 0.0054 - dense_2_loss: 0.0032\n",
            "Epoch 204/500\n",
            "1/1 [==============================] - 0s 12ms/step - loss: 0.0085 - dense_1_loss: 0.0053 - dense_2_loss: 0.0032\n",
            "Epoch 205/500\n",
            "1/1 [==============================] - 0s 12ms/step - loss: 0.0084 - dense_1_loss: 0.0053 - dense_2_loss: 0.0031\n",
            "Epoch 206/500\n",
            "1/1 [==============================] - 0s 14ms/step - loss: 0.0083 - dense_1_loss: 0.0053 - dense_2_loss: 0.0030\n",
            "Epoch 207/500\n",
            "1/1 [==============================] - 0s 14ms/step - loss: 0.0083 - dense_1_loss: 0.0053 - dense_2_loss: 0.0030\n",
            "Epoch 208/500\n",
            "1/1 [==============================] - 0s 13ms/step - loss: 0.0082 - dense_1_loss: 0.0053 - dense_2_loss: 0.0029\n",
            "Epoch 209/500\n",
            "1/1 [==============================] - 0s 17ms/step - loss: 0.0081 - dense_1_loss: 0.0053 - dense_2_loss: 0.0029\n",
            "Epoch 210/500\n",
            "1/1 [==============================] - 0s 11ms/step - loss: 0.0081 - dense_1_loss: 0.0052 - dense_2_loss: 0.0028\n",
            "Epoch 211/500\n",
            "1/1 [==============================] - 0s 12ms/step - loss: 0.0080 - dense_1_loss: 0.0052 - dense_2_loss: 0.0028\n",
            "Epoch 212/500\n",
            "1/1 [==============================] - 0s 10ms/step - loss: 0.0079 - dense_1_loss: 0.0052 - dense_2_loss: 0.0027\n",
            "Epoch 213/500\n",
            "1/1 [==============================] - 0s 11ms/step - loss: 0.0079 - dense_1_loss: 0.0052 - dense_2_loss: 0.0027\n",
            "Epoch 214/500\n",
            "1/1 [==============================] - 0s 9ms/step - loss: 0.0078 - dense_1_loss: 0.0052 - dense_2_loss: 0.0026\n",
            "Epoch 215/500\n",
            "1/1 [==============================] - 0s 9ms/step - loss: 0.0077 - dense_1_loss: 0.0052 - dense_2_loss: 0.0026\n",
            "Epoch 216/500\n",
            "1/1 [==============================] - 0s 16ms/step - loss: 0.0077 - dense_1_loss: 0.0052 - dense_2_loss: 0.0025\n",
            "Epoch 217/500\n",
            "1/1 [==============================] - 0s 11ms/step - loss: 0.0076 - dense_1_loss: 0.0051 - dense_2_loss: 0.0025\n",
            "Epoch 218/500\n",
            "1/1 [==============================] - 0s 14ms/step - loss: 0.0076 - dense_1_loss: 0.0051 - dense_2_loss: 0.0024\n",
            "Epoch 219/500\n",
            "1/1 [==============================] - 0s 13ms/step - loss: 0.0075 - dense_1_loss: 0.0051 - dense_2_loss: 0.0024\n",
            "Epoch 220/500\n",
            "1/1 [==============================] - 0s 10ms/step - loss: 0.0074 - dense_1_loss: 0.0051 - dense_2_loss: 0.0023\n",
            "Epoch 221/500\n",
            "1/1 [==============================] - 0s 13ms/step - loss: 0.0074 - dense_1_loss: 0.0051 - dense_2_loss: 0.0023\n",
            "Epoch 222/500\n",
            "1/1 [==============================] - 0s 11ms/step - loss: 0.0073 - dense_1_loss: 0.0051 - dense_2_loss: 0.0023\n",
            "Epoch 223/500\n",
            "1/1 [==============================] - 0s 17ms/step - loss: 0.0073 - dense_1_loss: 0.0051 - dense_2_loss: 0.0022\n",
            "Epoch 224/500\n",
            "1/1 [==============================] - 0s 9ms/step - loss: 0.0072 - dense_1_loss: 0.0050 - dense_2_loss: 0.0022\n",
            "Epoch 225/500\n",
            "1/1 [==============================] - 0s 7ms/step - loss: 0.0072 - dense_1_loss: 0.0050 - dense_2_loss: 0.0022\n",
            "Epoch 226/500\n",
            "1/1 [==============================] - 0s 7ms/step - loss: 0.0071 - dense_1_loss: 0.0050 - dense_2_loss: 0.0021\n",
            "Epoch 227/500\n",
            "1/1 [==============================] - 0s 17ms/step - loss: 0.0071 - dense_1_loss: 0.0050 - dense_2_loss: 0.0021\n",
            "Epoch 228/500\n",
            "1/1 [==============================] - 0s 19ms/step - loss: 0.0070 - dense_1_loss: 0.0050 - dense_2_loss: 0.0021\n",
            "Epoch 229/500\n",
            "1/1 [==============================] - 0s 12ms/step - loss: 0.0070 - dense_1_loss: 0.0050 - dense_2_loss: 0.0020\n",
            "Epoch 230/500\n",
            "1/1 [==============================] - 0s 15ms/step - loss: 0.0070 - dense_1_loss: 0.0050 - dense_2_loss: 0.0020\n",
            "Epoch 231/500\n",
            "1/1 [==============================] - 0s 13ms/step - loss: 0.0069 - dense_1_loss: 0.0050 - dense_2_loss: 0.0020\n",
            "Epoch 232/500\n",
            "1/1 [==============================] - 0s 17ms/step - loss: 0.0069 - dense_1_loss: 0.0049 - dense_2_loss: 0.0019\n",
            "Epoch 233/500\n",
            "1/1 [==============================] - 0s 13ms/step - loss: 0.0068 - dense_1_loss: 0.0049 - dense_2_loss: 0.0019\n",
            "Epoch 234/500\n",
            "1/1 [==============================] - 0s 12ms/step - loss: 0.0068 - dense_1_loss: 0.0049 - dense_2_loss: 0.0019\n",
            "Epoch 235/500\n",
            "1/1 [==============================] - 0s 11ms/step - loss: 0.0067 - dense_1_loss: 0.0049 - dense_2_loss: 0.0018\n",
            "Epoch 236/500\n",
            "1/1 [==============================] - 0s 7ms/step - loss: 0.0067 - dense_1_loss: 0.0049 - dense_2_loss: 0.0018\n",
            "Epoch 237/500\n",
            "1/1 [==============================] - 0s 9ms/step - loss: 0.0067 - dense_1_loss: 0.0049 - dense_2_loss: 0.0018\n",
            "Epoch 238/500\n",
            "1/1 [==============================] - 0s 9ms/step - loss: 0.0066 - dense_1_loss: 0.0049 - dense_2_loss: 0.0018\n",
            "Epoch 239/500\n",
            "1/1 [==============================] - 0s 13ms/step - loss: 0.0066 - dense_1_loss: 0.0049 - dense_2_loss: 0.0017\n",
            "Epoch 240/500\n",
            "1/1 [==============================] - 0s 14ms/step - loss: 0.0066 - dense_1_loss: 0.0048 - dense_2_loss: 0.0017\n",
            "Epoch 241/500\n",
            "1/1 [==============================] - 0s 13ms/step - loss: 0.0065 - dense_1_loss: 0.0048 - dense_2_loss: 0.0017\n",
            "Epoch 242/500\n",
            "1/1 [==============================] - 0s 13ms/step - loss: 0.0065 - dense_1_loss: 0.0048 - dense_2_loss: 0.0017\n",
            "Epoch 243/500\n",
            "1/1 [==============================] - 0s 14ms/step - loss: 0.0065 - dense_1_loss: 0.0048 - dense_2_loss: 0.0016\n",
            "Epoch 244/500\n",
            "1/1 [==============================] - 0s 11ms/step - loss: 0.0064 - dense_1_loss: 0.0048 - dense_2_loss: 0.0016\n",
            "Epoch 245/500\n",
            "1/1 [==============================] - 0s 18ms/step - loss: 0.0064 - dense_1_loss: 0.0048 - dense_2_loss: 0.0016\n",
            "Epoch 246/500\n",
            "1/1 [==============================] - 0s 14ms/step - loss: 0.0064 - dense_1_loss: 0.0048 - dense_2_loss: 0.0016\n",
            "Epoch 247/500\n",
            "1/1 [==============================] - 0s 12ms/step - loss: 0.0063 - dense_1_loss: 0.0048 - dense_2_loss: 0.0016\n",
            "Epoch 248/500\n",
            "1/1 [==============================] - 0s 15ms/step - loss: 0.0063 - dense_1_loss: 0.0048 - dense_2_loss: 0.0015\n",
            "Epoch 249/500\n",
            "1/1 [==============================] - 0s 11ms/step - loss: 0.0063 - dense_1_loss: 0.0047 - dense_2_loss: 0.0015\n",
            "Epoch 250/500\n",
            "1/1 [==============================] - 0s 11ms/step - loss: 0.0062 - dense_1_loss: 0.0047 - dense_2_loss: 0.0015\n",
            "Epoch 251/500\n",
            "1/1 [==============================] - 0s 15ms/step - loss: 0.0062 - dense_1_loss: 0.0047 - dense_2_loss: 0.0015\n",
            "Epoch 252/500\n",
            "1/1 [==============================] - 0s 11ms/step - loss: 0.0062 - dense_1_loss: 0.0047 - dense_2_loss: 0.0015\n",
            "Epoch 253/500\n",
            "1/1 [==============================] - 0s 12ms/step - loss: 0.0061 - dense_1_loss: 0.0047 - dense_2_loss: 0.0014\n",
            "Epoch 254/500\n",
            "1/1 [==============================] - 0s 8ms/step - loss: 0.0061 - dense_1_loss: 0.0047 - dense_2_loss: 0.0014\n",
            "Epoch 255/500\n",
            "1/1 [==============================] - 0s 13ms/step - loss: 0.0061 - dense_1_loss: 0.0047 - dense_2_loss: 0.0014\n",
            "Epoch 256/500\n",
            "1/1 [==============================] - 0s 13ms/step - loss: 0.0061 - dense_1_loss: 0.0047 - dense_2_loss: 0.0014\n",
            "Epoch 257/500\n",
            "1/1 [==============================] - 0s 13ms/step - loss: 0.0060 - dense_1_loss: 0.0047 - dense_2_loss: 0.0014\n",
            "Epoch 258/500\n",
            "1/1 [==============================] - 0s 13ms/step - loss: 0.0060 - dense_1_loss: 0.0047 - dense_2_loss: 0.0014\n",
            "Epoch 259/500\n",
            "1/1 [==============================] - 0s 15ms/step - loss: 0.0060 - dense_1_loss: 0.0046 - dense_2_loss: 0.0013\n",
            "Epoch 260/500\n",
            "1/1 [==============================] - 0s 9ms/step - loss: 0.0060 - dense_1_loss: 0.0046 - dense_2_loss: 0.0013\n",
            "Epoch 261/500\n",
            "1/1 [==============================] - 0s 14ms/step - loss: 0.0059 - dense_1_loss: 0.0046 - dense_2_loss: 0.0013\n",
            "Epoch 262/500\n",
            "1/1 [==============================] - 0s 15ms/step - loss: 0.0059 - dense_1_loss: 0.0046 - dense_2_loss: 0.0013\n",
            "Epoch 263/500\n",
            "1/1 [==============================] - 0s 12ms/step - loss: 0.0059 - dense_1_loss: 0.0046 - dense_2_loss: 0.0013\n",
            "Epoch 264/500\n",
            "1/1 [==============================] - 0s 14ms/step - loss: 0.0059 - dense_1_loss: 0.0046 - dense_2_loss: 0.0013\n",
            "Epoch 265/500\n",
            "1/1 [==============================] - 0s 11ms/step - loss: 0.0059 - dense_1_loss: 0.0046 - dense_2_loss: 0.0013\n",
            "Epoch 266/500\n",
            "1/1 [==============================] - 0s 15ms/step - loss: 0.0058 - dense_1_loss: 0.0046 - dense_2_loss: 0.0013\n",
            "Epoch 267/500\n",
            "1/1 [==============================] - 0s 12ms/step - loss: 0.0058 - dense_1_loss: 0.0046 - dense_2_loss: 0.0012\n",
            "Epoch 268/500\n",
            "1/1 [==============================] - 0s 12ms/step - loss: 0.0058 - dense_1_loss: 0.0046 - dense_2_loss: 0.0012\n",
            "Epoch 269/500\n",
            "1/1 [==============================] - 0s 12ms/step - loss: 0.0058 - dense_1_loss: 0.0045 - dense_2_loss: 0.0012\n",
            "Epoch 270/500\n",
            "1/1 [==============================] - 0s 16ms/step - loss: 0.0058 - dense_1_loss: 0.0045 - dense_2_loss: 0.0012\n",
            "Epoch 271/500\n",
            "1/1 [==============================] - 0s 13ms/step - loss: 0.0057 - dense_1_loss: 0.0045 - dense_2_loss: 0.0012\n",
            "Epoch 272/500\n",
            "1/1 [==============================] - 0s 14ms/step - loss: 0.0057 - dense_1_loss: 0.0045 - dense_2_loss: 0.0012\n",
            "Epoch 273/500\n",
            "1/1 [==============================] - 0s 15ms/step - loss: 0.0057 - dense_1_loss: 0.0045 - dense_2_loss: 0.0012\n",
            "Epoch 274/500\n",
            "1/1 [==============================] - 0s 14ms/step - loss: 0.0057 - dense_1_loss: 0.0045 - dense_2_loss: 0.0012\n",
            "Epoch 275/500\n",
            "1/1 [==============================] - 0s 8ms/step - loss: 0.0057 - dense_1_loss: 0.0045 - dense_2_loss: 0.0012\n",
            "Epoch 276/500\n",
            "1/1 [==============================] - 0s 12ms/step - loss: 0.0056 - dense_1_loss: 0.0045 - dense_2_loss: 0.0012\n",
            "Epoch 277/500\n",
            "1/1 [==============================] - 0s 11ms/step - loss: 0.0056 - dense_1_loss: 0.0045 - dense_2_loss: 0.0012\n",
            "Epoch 278/500\n",
            "1/1 [==============================] - 0s 11ms/step - loss: 0.0056 - dense_1_loss: 0.0045 - dense_2_loss: 0.0011\n",
            "Epoch 279/500\n",
            "1/1 [==============================] - 0s 12ms/step - loss: 0.0056 - dense_1_loss: 0.0045 - dense_2_loss: 0.0011\n",
            "Epoch 280/500\n",
            "1/1 [==============================] - 0s 9ms/step - loss: 0.0056 - dense_1_loss: 0.0044 - dense_2_loss: 0.0011\n",
            "Epoch 281/500\n",
            "1/1 [==============================] - 0s 12ms/step - loss: 0.0056 - dense_1_loss: 0.0044 - dense_2_loss: 0.0011\n",
            "Epoch 282/500\n",
            "1/1 [==============================] - 0s 8ms/step - loss: 0.0055 - dense_1_loss: 0.0044 - dense_2_loss: 0.0011\n",
            "Epoch 283/500\n",
            "1/1 [==============================] - 0s 14ms/step - loss: 0.0055 - dense_1_loss: 0.0044 - dense_2_loss: 0.0011\n",
            "Epoch 284/500\n",
            "1/1 [==============================] - 0s 9ms/step - loss: 0.0055 - dense_1_loss: 0.0044 - dense_2_loss: 0.0011\n",
            "Epoch 285/500\n",
            "1/1 [==============================] - 0s 10ms/step - loss: 0.0055 - dense_1_loss: 0.0044 - dense_2_loss: 0.0011\n",
            "Epoch 286/500\n",
            "1/1 [==============================] - 0s 15ms/step - loss: 0.0055 - dense_1_loss: 0.0044 - dense_2_loss: 0.0011\n",
            "Epoch 287/500\n",
            "1/1 [==============================] - 0s 14ms/step - loss: 0.0055 - dense_1_loss: 0.0044 - dense_2_loss: 0.0011\n",
            "Epoch 288/500\n",
            "1/1 [==============================] - 0s 12ms/step - loss: 0.0054 - dense_1_loss: 0.0044 - dense_2_loss: 0.0011\n",
            "Epoch 289/500\n",
            "1/1 [==============================] - 0s 12ms/step - loss: 0.0054 - dense_1_loss: 0.0044 - dense_2_loss: 0.0011\n",
            "Epoch 290/500\n",
            "1/1 [==============================] - 0s 12ms/step - loss: 0.0054 - dense_1_loss: 0.0044 - dense_2_loss: 0.0011\n",
            "Epoch 291/500\n",
            "1/1 [==============================] - 0s 13ms/step - loss: 0.0054 - dense_1_loss: 0.0043 - dense_2_loss: 0.0011\n",
            "Epoch 292/500\n",
            "1/1 [==============================] - 0s 13ms/step - loss: 0.0054 - dense_1_loss: 0.0043 - dense_2_loss: 0.0011\n",
            "Epoch 293/500\n",
            "1/1 [==============================] - 0s 14ms/step - loss: 0.0054 - dense_1_loss: 0.0043 - dense_2_loss: 0.0010\n",
            "Epoch 294/500\n",
            "1/1 [==============================] - 0s 11ms/step - loss: 0.0054 - dense_1_loss: 0.0043 - dense_2_loss: 0.0010\n",
            "Epoch 295/500\n",
            "1/1 [==============================] - 0s 13ms/step - loss: 0.0053 - dense_1_loss: 0.0043 - dense_2_loss: 0.0010\n",
            "Epoch 296/500\n",
            "1/1 [==============================] - 0s 18ms/step - loss: 0.0053 - dense_1_loss: 0.0043 - dense_2_loss: 0.0010\n",
            "Epoch 297/500\n",
            "1/1 [==============================] - 0s 12ms/step - loss: 0.0053 - dense_1_loss: 0.0043 - dense_2_loss: 0.0010\n",
            "Epoch 298/500\n",
            "1/1 [==============================] - 0s 19ms/step - loss: 0.0053 - dense_1_loss: 0.0043 - dense_2_loss: 0.0010\n",
            "Epoch 299/500\n",
            "1/1 [==============================] - 0s 13ms/step - loss: 0.0053 - dense_1_loss: 0.0043 - dense_2_loss: 0.0010\n",
            "Epoch 300/500\n",
            "1/1 [==============================] - 0s 12ms/step - loss: 0.0053 - dense_1_loss: 0.0043 - dense_2_loss: 0.0010\n",
            "Epoch 301/500\n",
            "1/1 [==============================] - 0s 19ms/step - loss: 0.0053 - dense_1_loss: 0.0043 - dense_2_loss: 0.0010\n",
            "Epoch 302/500\n",
            "1/1 [==============================] - 0s 12ms/step - loss: 0.0053 - dense_1_loss: 0.0042 - dense_2_loss: 0.0010\n",
            "Epoch 303/500\n",
            "1/1 [==============================] - 0s 16ms/step - loss: 0.0052 - dense_1_loss: 0.0042 - dense_2_loss: 0.0010\n",
            "Epoch 304/500\n",
            "1/1 [==============================] - 0s 12ms/step - loss: 0.0052 - dense_1_loss: 0.0042 - dense_2_loss: 0.0010\n",
            "Epoch 305/500\n",
            "1/1 [==============================] - 0s 11ms/step - loss: 0.0052 - dense_1_loss: 0.0042 - dense_2_loss: 0.0010\n",
            "Epoch 306/500\n",
            "1/1 [==============================] - 0s 19ms/step - loss: 0.0052 - dense_1_loss: 0.0042 - dense_2_loss: 9.9678e-04\n",
            "Epoch 307/500\n",
            "1/1 [==============================] - 0s 12ms/step - loss: 0.0052 - dense_1_loss: 0.0042 - dense_2_loss: 9.9370e-04\n",
            "Epoch 308/500\n",
            "1/1 [==============================] - 0s 16ms/step - loss: 0.0052 - dense_1_loss: 0.0042 - dense_2_loss: 9.9068e-04\n",
            "Epoch 309/500\n",
            "1/1 [==============================] - 0s 11ms/step - loss: 0.0052 - dense_1_loss: 0.0042 - dense_2_loss: 9.8779e-04\n",
            "Epoch 310/500\n",
            "1/1 [==============================] - 0s 18ms/step - loss: 0.0052 - dense_1_loss: 0.0042 - dense_2_loss: 9.8498e-04\n",
            "Epoch 311/500\n",
            "1/1 [==============================] - 0s 14ms/step - loss: 0.0052 - dense_1_loss: 0.0042 - dense_2_loss: 9.8228e-04\n",
            "Epoch 312/500\n",
            "1/1 [==============================] - 0s 13ms/step - loss: 0.0051 - dense_1_loss: 0.0042 - dense_2_loss: 9.7969e-04\n",
            "Epoch 313/500\n",
            "1/1 [==============================] - 0s 16ms/step - loss: 0.0051 - dense_1_loss: 0.0042 - dense_2_loss: 9.7717e-04\n",
            "Epoch 314/500\n",
            "1/1 [==============================] - 0s 12ms/step - loss: 0.0051 - dense_1_loss: 0.0041 - dense_2_loss: 9.7474e-04\n",
            "Epoch 315/500\n",
            "1/1 [==============================] - 0s 8ms/step - loss: 0.0051 - dense_1_loss: 0.0041 - dense_2_loss: 9.7239e-04\n",
            "Epoch 316/500\n",
            "1/1 [==============================] - 0s 16ms/step - loss: 0.0051 - dense_1_loss: 0.0041 - dense_2_loss: 9.7013e-04\n",
            "Epoch 317/500\n",
            "1/1 [==============================] - 0s 13ms/step - loss: 0.0051 - dense_1_loss: 0.0041 - dense_2_loss: 9.6794e-04\n",
            "Epoch 318/500\n",
            "1/1 [==============================] - 0s 22ms/step - loss: 0.0051 - dense_1_loss: 0.0041 - dense_2_loss: 9.6584e-04\n",
            "Epoch 319/500\n",
            "1/1 [==============================] - 0s 22ms/step - loss: 0.0051 - dense_1_loss: 0.0041 - dense_2_loss: 9.6380e-04\n",
            "Epoch 320/500\n",
            "1/1 [==============================] - 0s 17ms/step - loss: 0.0051 - dense_1_loss: 0.0041 - dense_2_loss: 9.6187e-04\n",
            "Epoch 321/500\n",
            "1/1 [==============================] - 0s 23ms/step - loss: 0.0050 - dense_1_loss: 0.0041 - dense_2_loss: 9.5995e-04\n",
            "Epoch 322/500\n",
            "1/1 [==============================] - 0s 14ms/step - loss: 0.0050 - dense_1_loss: 0.0041 - dense_2_loss: 9.5813e-04\n",
            "Epoch 323/500\n",
            "1/1 [==============================] - 0s 14ms/step - loss: 0.0050 - dense_1_loss: 0.0041 - dense_2_loss: 9.5639e-04\n",
            "Epoch 324/500\n",
            "1/1 [==============================] - 0s 8ms/step - loss: 0.0050 - dense_1_loss: 0.0041 - dense_2_loss: 9.5470e-04\n",
            "Epoch 325/500\n",
            "1/1 [==============================] - 0s 13ms/step - loss: 0.0050 - dense_1_loss: 0.0041 - dense_2_loss: 9.5306e-04\n",
            "Epoch 326/500\n",
            "1/1 [==============================] - 0s 13ms/step - loss: 0.0050 - dense_1_loss: 0.0040 - dense_2_loss: 9.5151e-04\n",
            "Epoch 327/500\n",
            "1/1 [==============================] - 0s 11ms/step - loss: 0.0050 - dense_1_loss: 0.0040 - dense_2_loss: 9.4998e-04\n",
            "Epoch 328/500\n",
            "1/1 [==============================] - 0s 16ms/step - loss: 0.0050 - dense_1_loss: 0.0040 - dense_2_loss: 9.4853e-04\n",
            "Epoch 329/500\n",
            "1/1 [==============================] - 0s 18ms/step - loss: 0.0050 - dense_1_loss: 0.0040 - dense_2_loss: 9.4712e-04\n",
            "Epoch 330/500\n",
            "1/1 [==============================] - 0s 9ms/step - loss: 0.0050 - dense_1_loss: 0.0040 - dense_2_loss: 9.4576e-04\n",
            "Epoch 331/500\n",
            "1/1 [==============================] - 0s 14ms/step - loss: 0.0049 - dense_1_loss: 0.0040 - dense_2_loss: 9.4445e-04\n",
            "Epoch 332/500\n",
            "1/1 [==============================] - 0s 16ms/step - loss: 0.0049 - dense_1_loss: 0.0040 - dense_2_loss: 9.4320e-04\n",
            "Epoch 333/500\n",
            "1/1 [==============================] - 0s 11ms/step - loss: 0.0049 - dense_1_loss: 0.0040 - dense_2_loss: 9.4199e-04\n",
            "Epoch 334/500\n",
            "1/1 [==============================] - 0s 15ms/step - loss: 0.0049 - dense_1_loss: 0.0040 - dense_2_loss: 9.4084e-04\n",
            "Epoch 335/500\n",
            "1/1 [==============================] - 0s 11ms/step - loss: 0.0049 - dense_1_loss: 0.0040 - dense_2_loss: 9.3972e-04\n",
            "Epoch 336/500\n",
            "1/1 [==============================] - 0s 15ms/step - loss: 0.0049 - dense_1_loss: 0.0040 - dense_2_loss: 9.3862e-04\n",
            "Epoch 337/500\n",
            "1/1 [==============================] - 0s 12ms/step - loss: 0.0049 - dense_1_loss: 0.0040 - dense_2_loss: 9.3760e-04\n",
            "Epoch 338/500\n",
            "1/1 [==============================] - 0s 10ms/step - loss: 0.0049 - dense_1_loss: 0.0039 - dense_2_loss: 9.3660e-04\n",
            "Epoch 339/500\n",
            "1/1 [==============================] - 0s 20ms/step - loss: 0.0049 - dense_1_loss: 0.0039 - dense_2_loss: 9.3564e-04\n",
            "Epoch 340/500\n",
            "1/1 [==============================] - 0s 13ms/step - loss: 0.0049 - dense_1_loss: 0.0039 - dense_2_loss: 9.3472e-04\n",
            "Epoch 341/500\n",
            "1/1 [==============================] - 0s 15ms/step - loss: 0.0049 - dense_1_loss: 0.0039 - dense_2_loss: 9.3383e-04\n",
            "Epoch 342/500\n",
            "1/1 [==============================] - 0s 11ms/step - loss: 0.0048 - dense_1_loss: 0.0039 - dense_2_loss: 9.3298e-04\n",
            "Epoch 343/500\n",
            "1/1 [==============================] - 0s 18ms/step - loss: 0.0048 - dense_1_loss: 0.0039 - dense_2_loss: 9.3216e-04\n",
            "Epoch 344/500\n",
            "1/1 [==============================] - 0s 16ms/step - loss: 0.0048 - dense_1_loss: 0.0039 - dense_2_loss: 9.3138e-04\n",
            "Epoch 345/500\n",
            "1/1 [==============================] - 0s 12ms/step - loss: 0.0048 - dense_1_loss: 0.0039 - dense_2_loss: 9.3062e-04\n",
            "Epoch 346/500\n",
            "1/1 [==============================] - 0s 16ms/step - loss: 0.0048 - dense_1_loss: 0.0039 - dense_2_loss: 9.2990e-04\n",
            "Epoch 347/500\n",
            "1/1 [==============================] - 0s 17ms/step - loss: 0.0048 - dense_1_loss: 0.0039 - dense_2_loss: 9.2920e-04\n",
            "Epoch 348/500\n",
            "1/1 [==============================] - 0s 15ms/step - loss: 0.0048 - dense_1_loss: 0.0039 - dense_2_loss: 9.2854e-04\n",
            "Epoch 349/500\n",
            "1/1 [==============================] - 0s 19ms/step - loss: 0.0048 - dense_1_loss: 0.0039 - dense_2_loss: 9.2789e-04\n",
            "Epoch 350/500\n",
            "1/1 [==============================] - 0s 16ms/step - loss: 0.0048 - dense_1_loss: 0.0038 - dense_2_loss: 9.2727e-04\n",
            "Epoch 351/500\n",
            "1/1 [==============================] - 0s 20ms/step - loss: 0.0048 - dense_1_loss: 0.0038 - dense_2_loss: 9.2668e-04\n",
            "Epoch 352/500\n",
            "1/1 [==============================] - 0s 14ms/step - loss: 0.0048 - dense_1_loss: 0.0038 - dense_2_loss: 9.2611e-04\n",
            "Epoch 353/500\n",
            "1/1 [==============================] - 0s 11ms/step - loss: 0.0048 - dense_1_loss: 0.0038 - dense_2_loss: 9.2554e-04\n",
            "Epoch 354/500\n",
            "1/1 [==============================] - 0s 18ms/step - loss: 0.0047 - dense_1_loss: 0.0038 - dense_2_loss: 9.2503e-04\n",
            "Epoch 355/500\n",
            "1/1 [==============================] - 0s 18ms/step - loss: 0.0047 - dense_1_loss: 0.0038 - dense_2_loss: 9.2453e-04\n",
            "Epoch 356/500\n",
            "1/1 [==============================] - 0s 17ms/step - loss: 0.0047 - dense_1_loss: 0.0038 - dense_2_loss: 9.2405e-04\n",
            "Epoch 357/500\n",
            "1/1 [==============================] - 0s 12ms/step - loss: 0.0047 - dense_1_loss: 0.0038 - dense_2_loss: 9.2357e-04\n",
            "Epoch 358/500\n",
            "1/1 [==============================] - 0s 15ms/step - loss: 0.0047 - dense_1_loss: 0.0038 - dense_2_loss: 9.2315e-04\n",
            "Epoch 359/500\n",
            "1/1 [==============================] - 0s 12ms/step - loss: 0.0047 - dense_1_loss: 0.0038 - dense_2_loss: 9.2270e-04\n",
            "Epoch 360/500\n",
            "1/1 [==============================] - 0s 11ms/step - loss: 0.0047 - dense_1_loss: 0.0038 - dense_2_loss: 9.2231e-04\n",
            "Epoch 361/500\n",
            "1/1 [==============================] - 0s 12ms/step - loss: 0.0047 - dense_1_loss: 0.0038 - dense_2_loss: 9.2191e-04\n",
            "Epoch 362/500\n",
            "1/1 [==============================] - 0s 15ms/step - loss: 0.0047 - dense_1_loss: 0.0038 - dense_2_loss: 9.2153e-04\n",
            "Epoch 363/500\n",
            "1/1 [==============================] - 0s 15ms/step - loss: 0.0047 - dense_1_loss: 0.0037 - dense_2_loss: 9.2118e-04\n",
            "Epoch 364/500\n",
            "1/1 [==============================] - 0s 11ms/step - loss: 0.0047 - dense_1_loss: 0.0037 - dense_2_loss: 9.2084e-04\n",
            "Epoch 365/500\n",
            "1/1 [==============================] - 0s 15ms/step - loss: 0.0047 - dense_1_loss: 0.0037 - dense_2_loss: 9.2051e-04\n",
            "Epoch 366/500\n",
            "1/1 [==============================] - 0s 10ms/step - loss: 0.0046 - dense_1_loss: 0.0037 - dense_2_loss: 9.2018e-04\n",
            "Epoch 367/500\n",
            "1/1 [==============================] - 0s 15ms/step - loss: 0.0046 - dense_1_loss: 0.0037 - dense_2_loss: 9.1990e-04\n",
            "Epoch 368/500\n",
            "1/1 [==============================] - 0s 13ms/step - loss: 0.0046 - dense_1_loss: 0.0037 - dense_2_loss: 9.1960e-04\n",
            "Epoch 369/500\n",
            "1/1 [==============================] - 0s 12ms/step - loss: 0.0046 - dense_1_loss: 0.0037 - dense_2_loss: 9.1933e-04\n",
            "Epoch 370/500\n",
            "1/1 [==============================] - 0s 7ms/step - loss: 0.0046 - dense_1_loss: 0.0037 - dense_2_loss: 9.1906e-04\n",
            "Epoch 371/500\n",
            "1/1 [==============================] - 0s 15ms/step - loss: 0.0046 - dense_1_loss: 0.0037 - dense_2_loss: 9.1883e-04\n",
            "Epoch 372/500\n",
            "1/1 [==============================] - 0s 13ms/step - loss: 0.0046 - dense_1_loss: 0.0037 - dense_2_loss: 9.1857e-04\n",
            "Epoch 373/500\n",
            "1/1 [==============================] - 0s 11ms/step - loss: 0.0046 - dense_1_loss: 0.0037 - dense_2_loss: 9.1834e-04\n",
            "Epoch 374/500\n",
            "1/1 [==============================] - 0s 13ms/step - loss: 0.0046 - dense_1_loss: 0.0037 - dense_2_loss: 9.1811e-04\n",
            "Epoch 375/500\n",
            "1/1 [==============================] - 0s 17ms/step - loss: 0.0046 - dense_1_loss: 0.0037 - dense_2_loss: 9.1792e-04\n",
            "Epoch 376/500\n",
            "1/1 [==============================] - 0s 11ms/step - loss: 0.0046 - dense_1_loss: 0.0036 - dense_2_loss: 9.1770e-04\n",
            "Epoch 377/500\n",
            "1/1 [==============================] - 0s 11ms/step - loss: 0.0046 - dense_1_loss: 0.0036 - dense_2_loss: 9.1752e-04\n",
            "Epoch 378/500\n",
            "1/1 [==============================] - 0s 19ms/step - loss: 0.0045 - dense_1_loss: 0.0036 - dense_2_loss: 9.1734e-04\n",
            "Epoch 379/500\n",
            "1/1 [==============================] - 0s 17ms/step - loss: 0.0045 - dense_1_loss: 0.0036 - dense_2_loss: 9.1717e-04\n",
            "Epoch 380/500\n",
            "1/1 [==============================] - 0s 10ms/step - loss: 0.0045 - dense_1_loss: 0.0036 - dense_2_loss: 9.1701e-04\n",
            "Epoch 381/500\n",
            "1/1 [==============================] - 0s 19ms/step - loss: 0.0045 - dense_1_loss: 0.0036 - dense_2_loss: 9.1682e-04\n",
            "Epoch 382/500\n",
            "1/1 [==============================] - 0s 15ms/step - loss: 0.0045 - dense_1_loss: 0.0036 - dense_2_loss: 9.1669e-04\n",
            "Epoch 383/500\n",
            "1/1 [==============================] - 0s 23ms/step - loss: 0.0045 - dense_1_loss: 0.0036 - dense_2_loss: 9.1656e-04\n",
            "Epoch 384/500\n",
            "1/1 [==============================] - 0s 13ms/step - loss: 0.0045 - dense_1_loss: 0.0036 - dense_2_loss: 9.1643e-04\n",
            "Epoch 385/500\n",
            "1/1 [==============================] - 0s 10ms/step - loss: 0.0045 - dense_1_loss: 0.0036 - dense_2_loss: 9.1627e-04\n",
            "Epoch 386/500\n",
            "1/1 [==============================] - 0s 17ms/step - loss: 0.0045 - dense_1_loss: 0.0036 - dense_2_loss: 9.1617e-04\n",
            "Epoch 387/500\n",
            "1/1 [==============================] - 0s 12ms/step - loss: 0.0045 - dense_1_loss: 0.0036 - dense_2_loss: 9.1605e-04\n",
            "Epoch 388/500\n",
            "1/1 [==============================] - 0s 8ms/step - loss: 0.0045 - dense_1_loss: 0.0036 - dense_2_loss: 9.1592e-04\n",
            "Epoch 389/500\n",
            "1/1 [==============================] - 0s 13ms/step - loss: 0.0045 - dense_1_loss: 0.0035 - dense_2_loss: 9.1582e-04\n",
            "Epoch 390/500\n",
            "1/1 [==============================] - 0s 19ms/step - loss: 0.0045 - dense_1_loss: 0.0035 - dense_2_loss: 9.1573e-04\n",
            "Epoch 391/500\n",
            "1/1 [==============================] - 0s 11ms/step - loss: 0.0044 - dense_1_loss: 0.0035 - dense_2_loss: 9.1563e-04\n",
            "Epoch 392/500\n",
            "1/1 [==============================] - 0s 12ms/step - loss: 0.0044 - dense_1_loss: 0.0035 - dense_2_loss: 9.1553e-04\n",
            "Epoch 393/500\n",
            "1/1 [==============================] - 0s 13ms/step - loss: 0.0044 - dense_1_loss: 0.0035 - dense_2_loss: 9.1546e-04\n",
            "Epoch 394/500\n",
            "1/1 [==============================] - 0s 11ms/step - loss: 0.0044 - dense_1_loss: 0.0035 - dense_2_loss: 9.1537e-04\n",
            "Epoch 395/500\n",
            "1/1 [==============================] - 0s 12ms/step - loss: 0.0044 - dense_1_loss: 0.0035 - dense_2_loss: 9.1529e-04\n",
            "Epoch 396/500\n",
            "1/1 [==============================] - 0s 13ms/step - loss: 0.0044 - dense_1_loss: 0.0035 - dense_2_loss: 9.1523e-04\n",
            "Epoch 397/500\n",
            "1/1 [==============================] - 0s 13ms/step - loss: 0.0044 - dense_1_loss: 0.0035 - dense_2_loss: 9.1514e-04\n",
            "Epoch 398/500\n",
            "1/1 [==============================] - 0s 9ms/step - loss: 0.0044 - dense_1_loss: 0.0035 - dense_2_loss: 9.1508e-04\n",
            "Epoch 399/500\n",
            "1/1 [==============================] - 0s 21ms/step - loss: 0.0044 - dense_1_loss: 0.0035 - dense_2_loss: 9.1502e-04\n",
            "Epoch 400/500\n",
            "1/1 [==============================] - 0s 13ms/step - loss: 0.0044 - dense_1_loss: 0.0035 - dense_2_loss: 9.1498e-04\n",
            "Epoch 401/500\n",
            "1/1 [==============================] - 0s 13ms/step - loss: 0.0044 - dense_1_loss: 0.0035 - dense_2_loss: 9.1492e-04\n",
            "Epoch 402/500\n",
            "1/1 [==============================] - 0s 22ms/step - loss: 0.0044 - dense_1_loss: 0.0034 - dense_2_loss: 9.1488e-04\n",
            "Epoch 403/500\n",
            "1/1 [==============================] - 0s 14ms/step - loss: 0.0044 - dense_1_loss: 0.0034 - dense_2_loss: 9.1483e-04\n",
            "Epoch 404/500\n",
            "1/1 [==============================] - 0s 12ms/step - loss: 0.0043 - dense_1_loss: 0.0034 - dense_2_loss: 9.1476e-04\n",
            "Epoch 405/500\n",
            "1/1 [==============================] - 0s 20ms/step - loss: 0.0043 - dense_1_loss: 0.0034 - dense_2_loss: 9.1472e-04\n",
            "Epoch 406/500\n",
            "1/1 [==============================] - 0s 20ms/step - loss: 0.0043 - dense_1_loss: 0.0034 - dense_2_loss: 9.1469e-04\n",
            "Epoch 407/500\n",
            "1/1 [==============================] - 0s 11ms/step - loss: 0.0043 - dense_1_loss: 0.0034 - dense_2_loss: 9.1466e-04\n",
            "Epoch 408/500\n",
            "1/1 [==============================] - 0s 14ms/step - loss: 0.0043 - dense_1_loss: 0.0034 - dense_2_loss: 9.1462e-04\n",
            "Epoch 409/500\n",
            "1/1 [==============================] - 0s 12ms/step - loss: 0.0043 - dense_1_loss: 0.0034 - dense_2_loss: 9.1458e-04\n",
            "Epoch 410/500\n",
            "1/1 [==============================] - 0s 11ms/step - loss: 0.0043 - dense_1_loss: 0.0034 - dense_2_loss: 9.1456e-04\n",
            "Epoch 411/500\n",
            "1/1 [==============================] - 0s 12ms/step - loss: 0.0043 - dense_1_loss: 0.0034 - dense_2_loss: 9.1454e-04\n",
            "Epoch 412/500\n",
            "1/1 [==============================] - 0s 17ms/step - loss: 0.0043 - dense_1_loss: 0.0034 - dense_2_loss: 9.1451e-04\n",
            "Epoch 413/500\n",
            "1/1 [==============================] - 0s 10ms/step - loss: 0.0043 - dense_1_loss: 0.0034 - dense_2_loss: 9.1448e-04\n",
            "Epoch 414/500\n",
            "1/1 [==============================] - 0s 14ms/step - loss: 0.0043 - dense_1_loss: 0.0034 - dense_2_loss: 9.1446e-04\n",
            "Epoch 415/500\n",
            "1/1 [==============================] - 0s 8ms/step - loss: 0.0043 - dense_1_loss: 0.0034 - dense_2_loss: 9.1444e-04\n",
            "Epoch 416/500\n",
            "1/1 [==============================] - 0s 16ms/step - loss: 0.0043 - dense_1_loss: 0.0033 - dense_2_loss: 9.1442e-04\n",
            "Epoch 417/500\n",
            "1/1 [==============================] - 0s 8ms/step - loss: 0.0043 - dense_1_loss: 0.0033 - dense_2_loss: 9.1441e-04\n",
            "Epoch 418/500\n",
            "1/1 [==============================] - 0s 11ms/step - loss: 0.0042 - dense_1_loss: 0.0033 - dense_2_loss: 9.1438e-04\n",
            "Epoch 419/500\n",
            "1/1 [==============================] - 0s 14ms/step - loss: 0.0042 - dense_1_loss: 0.0033 - dense_2_loss: 9.1438e-04\n",
            "Epoch 420/500\n",
            "1/1 [==============================] - 0s 12ms/step - loss: 0.0042 - dense_1_loss: 0.0033 - dense_2_loss: 9.1434e-04\n",
            "Epoch 421/500\n",
            "1/1 [==============================] - 0s 22ms/step - loss: 0.0042 - dense_1_loss: 0.0033 - dense_2_loss: 9.1434e-04\n",
            "Epoch 422/500\n",
            "1/1 [==============================] - 0s 14ms/step - loss: 0.0042 - dense_1_loss: 0.0033 - dense_2_loss: 9.1434e-04\n",
            "Epoch 423/500\n",
            "1/1 [==============================] - 0s 12ms/step - loss: 0.0042 - dense_1_loss: 0.0033 - dense_2_loss: 9.1431e-04\n",
            "Epoch 424/500\n",
            "1/1 [==============================] - 0s 21ms/step - loss: 0.0042 - dense_1_loss: 0.0033 - dense_2_loss: 9.1432e-04\n",
            "Epoch 425/500\n",
            "1/1 [==============================] - 0s 10ms/step - loss: 0.0042 - dense_1_loss: 0.0033 - dense_2_loss: 9.1431e-04\n",
            "Epoch 426/500\n",
            "1/1 [==============================] - 0s 11ms/step - loss: 0.0042 - dense_1_loss: 0.0033 - dense_2_loss: 9.1430e-04\n",
            "Epoch 427/500\n",
            "1/1 [==============================] - 0s 18ms/step - loss: 0.0042 - dense_1_loss: 0.0033 - dense_2_loss: 9.1429e-04\n",
            "Epoch 428/500\n",
            "1/1 [==============================] - 0s 13ms/step - loss: 0.0042 - dense_1_loss: 0.0033 - dense_2_loss: 9.1430e-04\n",
            "Epoch 429/500\n",
            "1/1 [==============================] - 0s 11ms/step - loss: 0.0042 - dense_1_loss: 0.0032 - dense_2_loss: 9.1428e-04\n",
            "Epoch 430/500\n",
            "1/1 [==============================] - 0s 15ms/step - loss: 0.0042 - dense_1_loss: 0.0032 - dense_2_loss: 9.1429e-04\n",
            "Epoch 431/500\n",
            "1/1 [==============================] - 0s 16ms/step - loss: 0.0041 - dense_1_loss: 0.0032 - dense_2_loss: 9.1429e-04\n",
            "Epoch 432/500\n",
            "1/1 [==============================] - 0s 15ms/step - loss: 0.0041 - dense_1_loss: 0.0032 - dense_2_loss: 9.1430e-04\n",
            "Epoch 433/500\n",
            "1/1 [==============================] - 0s 15ms/step - loss: 0.0041 - dense_1_loss: 0.0032 - dense_2_loss: 9.1428e-04\n",
            "Epoch 434/500\n",
            "1/1 [==============================] - 0s 16ms/step - loss: 0.0041 - dense_1_loss: 0.0032 - dense_2_loss: 9.1430e-04\n",
            "Epoch 435/500\n",
            "1/1 [==============================] - 0s 19ms/step - loss: 0.0041 - dense_1_loss: 0.0032 - dense_2_loss: 9.1429e-04\n",
            "Epoch 436/500\n",
            "1/1 [==============================] - 0s 18ms/step - loss: 0.0041 - dense_1_loss: 0.0032 - dense_2_loss: 9.1430e-04\n",
            "Epoch 437/500\n",
            "1/1 [==============================] - 0s 16ms/step - loss: 0.0041 - dense_1_loss: 0.0032 - dense_2_loss: 9.1431e-04\n",
            "Epoch 438/500\n",
            "1/1 [==============================] - 0s 10ms/step - loss: 0.0041 - dense_1_loss: 0.0032 - dense_2_loss: 9.1430e-04\n",
            "Epoch 439/500\n",
            "1/1 [==============================] - 0s 21ms/step - loss: 0.0041 - dense_1_loss: 0.0032 - dense_2_loss: 9.1431e-04\n",
            "Epoch 440/500\n",
            "1/1 [==============================] - 0s 14ms/step - loss: 0.0041 - dense_1_loss: 0.0032 - dense_2_loss: 9.1432e-04\n",
            "Epoch 441/500\n",
            "1/1 [==============================] - 0s 15ms/step - loss: 0.0041 - dense_1_loss: 0.0032 - dense_2_loss: 9.1433e-04\n",
            "Epoch 442/500\n",
            "1/1 [==============================] - 0s 18ms/step - loss: 0.0041 - dense_1_loss: 0.0032 - dense_2_loss: 9.1432e-04\n",
            "Epoch 443/500\n",
            "1/1 [==============================] - 0s 15ms/step - loss: 0.0041 - dense_1_loss: 0.0031 - dense_2_loss: 9.1433e-04\n",
            "Epoch 444/500\n",
            "1/1 [==============================] - 0s 15ms/step - loss: 0.0041 - dense_1_loss: 0.0031 - dense_2_loss: 9.1433e-04\n",
            "Epoch 445/500\n",
            "1/1 [==============================] - 0s 6ms/step - loss: 0.0040 - dense_1_loss: 0.0031 - dense_2_loss: 9.1434e-04\n",
            "Epoch 446/500\n",
            "1/1 [==============================] - 0s 8ms/step - loss: 0.0040 - dense_1_loss: 0.0031 - dense_2_loss: 9.1433e-04\n",
            "Epoch 447/500\n",
            "1/1 [==============================] - 0s 10ms/step - loss: 0.0040 - dense_1_loss: 0.0031 - dense_2_loss: 9.1435e-04\n",
            "Epoch 448/500\n",
            "1/1 [==============================] - 0s 13ms/step - loss: 0.0040 - dense_1_loss: 0.0031 - dense_2_loss: 9.1437e-04\n",
            "Epoch 449/500\n",
            "1/1 [==============================] - 0s 9ms/step - loss: 0.0040 - dense_1_loss: 0.0031 - dense_2_loss: 9.1438e-04\n",
            "Epoch 450/500\n",
            "1/1 [==============================] - 0s 13ms/step - loss: 0.0040 - dense_1_loss: 0.0031 - dense_2_loss: 9.1438e-04\n",
            "Epoch 451/500\n",
            "1/1 [==============================] - 0s 9ms/step - loss: 0.0040 - dense_1_loss: 0.0031 - dense_2_loss: 9.1440e-04\n",
            "Epoch 452/500\n",
            "1/1 [==============================] - 0s 9ms/step - loss: 0.0040 - dense_1_loss: 0.0031 - dense_2_loss: 9.1442e-04\n",
            "Epoch 453/500\n",
            "1/1 [==============================] - 0s 9ms/step - loss: 0.0040 - dense_1_loss: 0.0031 - dense_2_loss: 9.1440e-04\n",
            "Epoch 454/500\n",
            "1/1 [==============================] - 0s 14ms/step - loss: 0.0040 - dense_1_loss: 0.0031 - dense_2_loss: 9.1442e-04\n",
            "Epoch 455/500\n",
            "1/1 [==============================] - 0s 7ms/step - loss: 0.0040 - dense_1_loss: 0.0031 - dense_2_loss: 9.1442e-04\n",
            "Epoch 456/500\n",
            "1/1 [==============================] - 0s 11ms/step - loss: 0.0040 - dense_1_loss: 0.0031 - dense_2_loss: 9.1445e-04\n",
            "Epoch 457/500\n",
            "1/1 [==============================] - 0s 10ms/step - loss: 0.0040 - dense_1_loss: 0.0030 - dense_2_loss: 9.1445e-04\n",
            "Epoch 458/500\n",
            "1/1 [==============================] - 0s 12ms/step - loss: 0.0040 - dense_1_loss: 0.0030 - dense_2_loss: 9.1447e-04\n",
            "Epoch 459/500\n",
            "1/1 [==============================] - 0s 10ms/step - loss: 0.0039 - dense_1_loss: 0.0030 - dense_2_loss: 9.1447e-04\n",
            "Epoch 460/500\n",
            "1/1 [==============================] - 0s 12ms/step - loss: 0.0039 - dense_1_loss: 0.0030 - dense_2_loss: 9.1449e-04\n",
            "Epoch 461/500\n",
            "1/1 [==============================] - 0s 10ms/step - loss: 0.0039 - dense_1_loss: 0.0030 - dense_2_loss: 9.1449e-04\n",
            "Epoch 462/500\n",
            "1/1 [==============================] - 0s 10ms/step - loss: 0.0039 - dense_1_loss: 0.0030 - dense_2_loss: 9.1451e-04\n",
            "Epoch 463/500\n",
            "1/1 [==============================] - 0s 13ms/step - loss: 0.0039 - dense_1_loss: 0.0030 - dense_2_loss: 9.1452e-04\n",
            "Epoch 464/500\n",
            "1/1 [==============================] - 0s 11ms/step - loss: 0.0039 - dense_1_loss: 0.0030 - dense_2_loss: 9.1454e-04\n",
            "Epoch 465/500\n",
            "1/1 [==============================] - 0s 11ms/step - loss: 0.0039 - dense_1_loss: 0.0030 - dense_2_loss: 9.1454e-04\n",
            "Epoch 466/500\n",
            "1/1 [==============================] - 0s 15ms/step - loss: 0.0039 - dense_1_loss: 0.0030 - dense_2_loss: 9.1456e-04\n",
            "Epoch 467/500\n",
            "1/1 [==============================] - 0s 12ms/step - loss: 0.0039 - dense_1_loss: 0.0030 - dense_2_loss: 9.1458e-04\n",
            "Epoch 468/500\n",
            "1/1 [==============================] - 0s 14ms/step - loss: 0.0039 - dense_1_loss: 0.0030 - dense_2_loss: 9.1458e-04\n",
            "Epoch 469/500\n",
            "1/1 [==============================] - 0s 12ms/step - loss: 0.0039 - dense_1_loss: 0.0030 - dense_2_loss: 9.1458e-04\n",
            "Epoch 470/500\n",
            "1/1 [==============================] - 0s 10ms/step - loss: 0.0039 - dense_1_loss: 0.0030 - dense_2_loss: 9.1460e-04\n",
            "Epoch 471/500\n",
            "1/1 [==============================] - 0s 25ms/step - loss: 0.0039 - dense_1_loss: 0.0030 - dense_2_loss: 9.1463e-04\n",
            "Epoch 472/500\n",
            "1/1 [==============================] - 0s 13ms/step - loss: 0.0039 - dense_1_loss: 0.0029 - dense_2_loss: 9.1463e-04\n",
            "Epoch 473/500\n",
            "1/1 [==============================] - 0s 15ms/step - loss: 0.0039 - dense_1_loss: 0.0029 - dense_2_loss: 9.1467e-04\n",
            "Epoch 474/500\n",
            "1/1 [==============================] - 0s 10ms/step - loss: 0.0038 - dense_1_loss: 0.0029 - dense_2_loss: 9.1467e-04\n",
            "Epoch 475/500\n",
            "1/1 [==============================] - 0s 8ms/step - loss: 0.0038 - dense_1_loss: 0.0029 - dense_2_loss: 9.1468e-04\n",
            "Epoch 476/500\n",
            "1/1 [==============================] - 0s 14ms/step - loss: 0.0038 - dense_1_loss: 0.0029 - dense_2_loss: 9.1469e-04\n",
            "Epoch 477/500\n",
            "1/1 [==============================] - 0s 11ms/step - loss: 0.0038 - dense_1_loss: 0.0029 - dense_2_loss: 9.1470e-04\n",
            "Epoch 478/500\n",
            "1/1 [==============================] - 0s 7ms/step - loss: 0.0038 - dense_1_loss: 0.0029 - dense_2_loss: 9.1473e-04\n",
            "Epoch 479/500\n",
            "1/1 [==============================] - 0s 12ms/step - loss: 0.0038 - dense_1_loss: 0.0029 - dense_2_loss: 9.1474e-04\n",
            "Epoch 480/500\n",
            "1/1 [==============================] - 0s 6ms/step - loss: 0.0038 - dense_1_loss: 0.0029 - dense_2_loss: 9.1474e-04\n",
            "Epoch 481/500\n",
            "1/1 [==============================] - 0s 8ms/step - loss: 0.0038 - dense_1_loss: 0.0029 - dense_2_loss: 9.1477e-04\n",
            "Epoch 482/500\n",
            "1/1 [==============================] - 0s 18ms/step - loss: 0.0038 - dense_1_loss: 0.0029 - dense_2_loss: 9.1479e-04\n",
            "Epoch 483/500\n",
            "1/1 [==============================] - 0s 15ms/step - loss: 0.0038 - dense_1_loss: 0.0029 - dense_2_loss: 9.1481e-04\n",
            "Epoch 484/500\n",
            "1/1 [==============================] - 0s 13ms/step - loss: 0.0038 - dense_1_loss: 0.0029 - dense_2_loss: 9.1481e-04\n",
            "Epoch 485/500\n",
            "1/1 [==============================] - 0s 12ms/step - loss: 0.0038 - dense_1_loss: 0.0029 - dense_2_loss: 9.1483e-04\n",
            "Epoch 486/500\n",
            "1/1 [==============================] - 0s 12ms/step - loss: 0.0038 - dense_1_loss: 0.0029 - dense_2_loss: 9.1484e-04\n",
            "Epoch 487/500\n",
            "1/1 [==============================] - 0s 12ms/step - loss: 0.0038 - dense_1_loss: 0.0028 - dense_2_loss: 9.1486e-04\n",
            "Epoch 488/500\n",
            "1/1 [==============================] - 0s 19ms/step - loss: 0.0038 - dense_1_loss: 0.0028 - dense_2_loss: 9.1488e-04\n",
            "Epoch 489/500\n",
            "1/1 [==============================] - 0s 11ms/step - loss: 0.0037 - dense_1_loss: 0.0028 - dense_2_loss: 9.1487e-04\n",
            "Epoch 490/500\n",
            "1/1 [==============================] - 0s 15ms/step - loss: 0.0037 - dense_1_loss: 0.0028 - dense_2_loss: 9.1492e-04\n",
            "Epoch 491/500\n",
            "1/1 [==============================] - 0s 18ms/step - loss: 0.0037 - dense_1_loss: 0.0028 - dense_2_loss: 9.1494e-04\n",
            "Epoch 492/500\n",
            "1/1 [==============================] - 0s 20ms/step - loss: 0.0037 - dense_1_loss: 0.0028 - dense_2_loss: 9.1494e-04\n",
            "Epoch 493/500\n",
            "1/1 [==============================] - 0s 12ms/step - loss: 0.0037 - dense_1_loss: 0.0028 - dense_2_loss: 9.1497e-04\n",
            "Epoch 494/500\n",
            "1/1 [==============================] - 0s 18ms/step - loss: 0.0037 - dense_1_loss: 0.0028 - dense_2_loss: 9.1499e-04\n",
            "Epoch 495/500\n",
            "1/1 [==============================] - 0s 18ms/step - loss: 0.0037 - dense_1_loss: 0.0028 - dense_2_loss: 9.1500e-04\n",
            "Epoch 496/500\n",
            "1/1 [==============================] - 0s 12ms/step - loss: 0.0037 - dense_1_loss: 0.0028 - dense_2_loss: 9.1501e-04\n",
            "Epoch 497/500\n",
            "1/1 [==============================] - 0s 22ms/step - loss: 0.0037 - dense_1_loss: 0.0028 - dense_2_loss: 9.1502e-04\n",
            "Epoch 498/500\n",
            "1/1 [==============================] - 0s 15ms/step - loss: 0.0037 - dense_1_loss: 0.0028 - dense_2_loss: 9.1504e-04\n",
            "Epoch 499/500\n",
            "1/1 [==============================] - 0s 16ms/step - loss: 0.0037 - dense_1_loss: 0.0028 - dense_2_loss: 9.1506e-04\n",
            "Epoch 500/500\n",
            "1/1 [==============================] - 0s 15ms/step - loss: 0.0037 - dense_1_loss: 0.0028 - dense_2_loss: 9.1508e-04\n"
          ]
        },
        {
          "output_type": "execute_result",
          "data": {
            "text/plain": [
              "<keras.callbacks.History at 0x7f84338d5490>"
            ]
          },
          "metadata": {},
          "execution_count": 8
        }
      ],
      "source": [
        "trainInput = np.array([[1, 1], [2, 4], [3, 9], [4, 16], [5, 25]])\n",
        "\n",
        "trainOutputX = np.array([0.5, 1.1, 1.7, 2.4, 3.0])\n",
        "trainOutputY = np.array([0.5, 0.6, 0.8, 1.1, 1.3])\n",
        "\n",
        "model.fit(trainInput,[trainOutputX, trainOutputY], epochs=500, batch_size=5)"
      ],
      "id": "QlPcK3bls2lk"
    },
    {
      "cell_type": "code",
      "execution_count": 9,
      "metadata": {
        "colab": {
          "base_uri": "https://localhost:8080/"
        },
        "id": "sy8-AS38J8dA",
        "outputId": "6027d91e-6ddd-4870-9c89-2e57426bd479"
      },
      "outputs": [
        {
          "output_type": "stream",
          "name": "stdout",
          "text": [
            "[[3.845647 ]\n",
            " [4.7069545]\n",
            " [5.637148 ]\n",
            " [6.636231 ]\n",
            " [7.7041965]]\n",
            "[[1.6411464]\n",
            " [2.0028448]\n",
            " [2.4080186]\n",
            " [2.8566616]\n",
            " [3.3487766]]\n"
          ]
        }
      ],
      "source": [
        "#test_loss, test_acc = model.evaluate(testData, testOutput)\n",
        "#print(\"Test Accuracy : \", test_acc)\n",
        "continuation = np.array([[6, 36], [7, 49], [8,64], [9,81],[10,100]])\n",
        "preds = model.predict(continuation)\n",
        "print(preds[0])\n",
        "print(preds[1])\n",
        "\n",
        "train_preds = model.predict(trainInput)\n",
        "#print(train_preds[0])\n",
        "#print(train_preds[1])\n",
        "\n",
        "#trainOutputX = np.array([0.5, 1.1, 1.7, 2.4, 3.0])\n",
        "#trainOutputY = np.array([0.5, 0.6, 0.8, 1.1, 1.3])"
      ],
      "id": "sy8-AS38J8dA"
    },
    {
      "cell_type": "markdown",
      "source": [
        "### Actual experiment"
      ],
      "metadata": {
        "id": "62LU7Kni4orw"
      },
      "id": "62LU7Kni4orw"
    },
    {
      "cell_type": "code",
      "execution_count": 10,
      "metadata": {
        "colab": {
          "base_uri": "https://localhost:8080/",
          "height": 388
        },
        "id": "hqcv3q_wKQSC",
        "outputId": "e2e583a2-ed53-4b4b-b540-0ca407495178"
      },
      "outputs": [
        {
          "metadata": {
            "tags": null
          },
          "name": "stdout",
          "output_type": "stream",
          "text": [
            "WARNING:tensorflow:5 out of the last 504 calls to <function Model.make_train_function.<locals>.train_function at 0x7f84305fa560> triggered tf.function retracing. Tracing is expensive and the excessive number of tracings could be due to (1) creating @tf.function repeatedly in a loop, (2) passing tensors with different shapes, (3) passing Python objects instead of tensors. For (1), please define your @tf.function outside of the loop. For (2), @tf.function has experimental_relax_shapes=True option that relaxes argument shapes that can avoid unnecessary retracing. For (3), please refer to https://www.tensorflow.org/guide/function#controlling_retracing and https://www.tensorflow.org/api_docs/python/tf/function for  more details.\n",
            "WARNING:tensorflow:5 out of the last 6 calls to <function Model.make_predict_function.<locals>.predict_function at 0x7f842ff24dd0> triggered tf.function retracing. Tracing is expensive and the excessive number of tracings could be due to (1) creating @tf.function repeatedly in a loop, (2) passing tensors with different shapes, (3) passing Python objects instead of tensors. For (1), please define your @tf.function outside of the loop. For (2), @tf.function has experimental_relax_shapes=True option that relaxes argument shapes that can avoid unnecessary retracing. For (3), please refer to https://www.tensorflow.org/guide/function#controlling_retracing and https://www.tensorflow.org/api_docs/python/tf/function for  more details.\n",
            "WARNING:tensorflow:6 out of the last 505 calls to <function Model.make_train_function.<locals>.train_function at 0x7f842fcb54d0> triggered tf.function retracing. Tracing is expensive and the excessive number of tracings could be due to (1) creating @tf.function repeatedly in a loop, (2) passing tensors with different shapes, (3) passing Python objects instead of tensors. For (1), please define your @tf.function outside of the loop. For (2), @tf.function has experimental_relax_shapes=True option that relaxes argument shapes that can avoid unnecessary retracing. For (3), please refer to https://www.tensorflow.org/guide/function#controlling_retracing and https://www.tensorflow.org/api_docs/python/tf/function for  more details.\n",
            "WARNING:tensorflow:6 out of the last 7 calls to <function Model.make_predict_function.<locals>.predict_function at 0x7f842fa1e050> triggered tf.function retracing. Tracing is expensive and the excessive number of tracings could be due to (1) creating @tf.function repeatedly in a loop, (2) passing tensors with different shapes, (3) passing Python objects instead of tensors. For (1), please define your @tf.function outside of the loop. For (2), @tf.function has experimental_relax_shapes=True option that relaxes argument shapes that can avoid unnecessary retracing. For (3), please refer to https://www.tensorflow.org/guide/function#controlling_retracing and https://www.tensorflow.org/api_docs/python/tf/function for  more details.\n"
          ]
        },
        {
          "output_type": "display_data",
          "data": {
            "image/png": "[encoded data removed]",
            "text/plain": [
              "<Figure size 432x288 with 1 Axes>"
            ]
          },
          "metadata": {
            "needs_background": "light"
          }
        },
        {
          "output_type": "stream",
          "name": "stdout",
          "text": [
            "Average FDE:  9.700116\n"
          ]
        }
      ],
      "source": [
        "def train_and_predict(sample_x, sample_y, test_x):\n",
        "\n",
        "  # inp = Input((2,)) don't use t^2 for now as input\n",
        "  inp = Input((1,))\n",
        "\n",
        "  x = Dense(64, activation='linear')(inp)\n",
        "\n",
        "  out1 = Dense(1, activation='linear')(x)    \n",
        "  out2 = Dense(1, activation='linear')(x)\n",
        "\n",
        "  model = Model(inputs=inp, outputs=[out1,out2])\n",
        "  model.compile(optimizer = 'adam', loss = tf.keras.metrics.mean_squared_error)\n",
        "\n",
        "  # time_range_train = np.array([[x, x**2] for x in range(len(sample_x))])\n",
        "  # time_range_pred = np.array([[x, x**2] for x in range(len(sample_x), 2*len(sample_x))])\n",
        "\n",
        "  time_range_train = np.array([x for x in range(len(sample_x))])\n",
        "  time_range_pred = np.array([x for x in range(len(sample_x), 2*len(sample_x))])\n",
        "\n",
        "  model.fit(time_range_train,[np.array(sample_x), np.array(sample_y)], epochs=1, batch_size=5, verbose=0)\n",
        "  pred_x, pred_y = model.predict(time_range_pred)\n",
        "  return pred_x, pred_y\n",
        "\n",
        "def nn_time_input(data, agent_id, step, num_of_trajectories=5, noise=0.05, plot_data=False):\n",
        "    # Generate 'seen' and 'unseen' data\n",
        "    sample_x, sample_y, test_x, test_y = generate_data(data, 0, agent_id, step)\n",
        "    \n",
        "    preds_x, preds_y = train_and_predict(sample_x, sample_y, test_x)\n",
        "    \n",
        "    if (plot_data):\n",
        "        plot_predictions(sample_x, sample_y, test_x, test_y, preds_x, preds_y)\n",
        "    \n",
        "    # Error calculation\n",
        "    \n",
        "    FDE, MSE = calculate_error(preds_x, preds_y, test_x, test_y)\n",
        "    return FDE, MSE\n",
        "\n",
        "step = 5\n",
        "all_FDE = []\n",
        "for i in agent_ids:\n",
        "    run_FDE, run_MSE = nn_time_input(data, agent_id=i, step=step)\n",
        "    all_FDE.append(run_FDE)\n",
        "\n",
        "\n",
        "plt.plot(all_FDE)\n",
        "plt.title(\"Final displacement error\")\n",
        "plt.show()\n",
        "\n",
        "print(\"Average FDE: \", np.mean(all_FDE))"
      ],
      "id": "hqcv3q_wKQSC"
    },
    {
      "cell_type": "code",
      "execution_count": 11,
      "metadata": {
        "id": "I-DrEiFrzWCb",
        "colab": {
          "base_uri": "https://localhost:8080/",
          "height": 1000
        },
        "outputId": "1b076cc4-16e9-41d4-dfe0-2abd3cbdb816"
      },
      "outputs": [
        {
          "output_type": "display_data",
          "data": {
            "image/png": "[encoded data removed]",
            "text/plain": [
              "<Figure size 432x288 with 1 Axes>"
            ]
          },
          "metadata": {
            "needs_background": "light"
          }
        },
        {
          "output_type": "display_data",
          "data": {
            "image/png": "[encoded data removed]",
            "text/plain": [
              "<Figure size 432x288 with 1 Axes>"
            ]
          },
          "metadata": {
            "needs_background": "light"
          }
        },
        {
          "output_type": "display_data",
          "data": {
            "image/png": "[encoded data removed]",
            "text/plain": [
              "<Figure size 432x288 with 1 Axes>"
            ]
          },
          "metadata": {
            "needs_background": "light"
          }
        },
        {
          "output_type": "display_data",
          "data": {
            "image/png": "[encoded data removed]",
            "text/plain": [
              "<Figure size 432x288 with 1 Axes>"
            ]
          },
          "metadata": {
            "needs_background": "light"
          }
        },
        {
          "output_type": "display_data",
          "data": {
            "image/png": "[encoded data removed]",
            "text/plain": [
              "<Figure size 432x288 with 1 Axes>"
            ]
          },
          "metadata": {
            "needs_background": "light"
          }
        },
        {
          "output_type": "display_data",
          "data": {
            "image/png": "[encoded data removed]",
            "text/plain": [
              "<Figure size 432x288 with 1 Axes>"
            ]
          },
          "metadata": {
            "needs_background": "light"
          }
        },
        {
          "output_type": "display_data",
          "data": {
            "image/png": "[encoded data removed]",
            "text/plain": [
              "<Figure size 432x288 with 1 Axes>"
            ]
          },
          "metadata": {
            "needs_background": "light"
          }
        },
        {
          "output_type": "display_data",
          "data": {
            "image/png": "[encoded data removed]",
            "text/plain": [
              "<Figure size 432x288 with 1 Axes>"
            ]
          },
          "metadata": {
            "needs_background": "light"
          }
        },
        {
          "output_type": "display_data",
          "data": {
            "image/png": "[encoded data removed]",
            "text/plain": [
              "<Figure size 432x288 with 1 Axes>"
            ]
          },
          "metadata": {
            "needs_background": "light"
          }
        },
        {
          "output_type": "display_data",
          "data": {
            "image/png": "[encoded data removed]",
            "text/plain": [
              "<Figure size 432x288 with 1 Axes>"
            ]
          },
          "metadata": {
            "needs_background": "light"
          }
        },
        {
          "output_type": "display_data",
          "data": {
            "image/png": "[encoded data removed]",
            "text/plain": [
              "<Figure size 432x288 with 1 Axes>"
            ]
          },
          "metadata": {
            "needs_background": "light"
          }
        },
        {
          "output_type": "display_data",
          "data": {
            "image/png": "[encoded data removed]",
            "text/plain": [
              "<Figure size 432x288 with 1 Axes>"
            ]
          },
          "metadata": {
            "needs_background": "light"
          }
        },
        {
          "output_type": "display_data",
          "data": {
            "image/png": "[encoded data removed]",
            "text/plain": [
              "<Figure size 432x288 with 1 Axes>"
            ]
          },
          "metadata": {
            "needs_background": "light"
          }
        },
        {
          "output_type": "display_data",
          "data": {
            "image/png": "[encoded data removed]",
            "text/plain": [
              "<Figure size 432x288 with 1 Axes>"
            ]
          },
          "metadata": {
            "needs_background": "light"
          }
        },
        {
          "output_type": "display_data",
          "data": {
            "image/png": "[encoded data removed]",
            "text/plain": [
              "<Figure size 432x288 with 1 Axes>"
            ]
          },
          "metadata": {
            "needs_background": "light"
          }
        },
        {
          "output_type": "display_data",
          "data": {
            "image/png": "[encoded data removed]",
            "text/plain": [
              "<Figure size 432x288 with 1 Axes>"
            ]
          },
          "metadata": {
            "needs_background": "light"
          }
        },
        {
          "output_type": "display_data",
          "data": {
            "image/png": "[encoded data removed]",
            "text/plain": [
              "<Figure size 432x288 with 1 Axes>"
            ]
          },
          "metadata": {
            "needs_background": "light"
          }
        },
        {
          "output_type": "display_data",
          "data": {
            "image/png": "[encoded data removed]",
            "text/plain": [
              "<Figure size 432x288 with 1 Axes>"
            ]
          },
          "metadata": {
            "needs_background": "light"
          }
        },
        {
          "output_type": "display_data",
          "data": {
            "image/png": "[encoded data removed]",
            "text/plain": [
              "<Figure size 432x288 with 1 Axes>"
            ]
          },
          "metadata": {
            "needs_background": "light"
          }
        },
        {
          "output_type": "display_data",
          "data": {
            "image/png": "[encoded data removed]",
            "text/plain": [
              "<Figure size 432x288 with 1 Axes>"
            ]
          },
          "metadata": {
            "needs_background": "light"
          }
        }
      ],
      "source": [
        "# Checking some plot examples\n",
        "for i in agent_ids[:20]:\n",
        "    run_rmse = nn_time_input(data, agent_id=i, step=NUM_OF_STEPS, plot_data=True)"
      ],
      "id": "I-DrEiFrzWCb"
    },
    {
      "cell_type": "code",
      "execution_count": 11,
      "metadata": {
        "id": "qPVyiULC7O12"
      },
      "outputs": [],
      "source": [
        ""
      ],
      "id": "qPVyiULC7O12"
    }
  ],
  "metadata": {
    "accelerator": "GPU",
    "colab": {
      "collapsed_sections": [],
      "name": "Neural network test.ipynb",
      "provenance": [],
      "include_colab_link": true
    },
    "kernelspec": {
      "display_name": "Python 3",
      "language": "python",
      "name": "python3"
    },
    "language_info": {
      "codemirror_mode": {
        "name": "ipython",
        "version": 3
      },
      "file_extension": ".py",
      "mimetype": "text/x-python",
      "name": "python",
      "nbconvert_exporter": "python",
      "pygments_lexer": "ipython3",
      "version": "3.8.8"
    }
  },
  "nbformat": 4,
  "nbformat_minor": 5
}