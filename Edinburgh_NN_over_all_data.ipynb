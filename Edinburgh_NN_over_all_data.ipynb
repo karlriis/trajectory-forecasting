{
  "cells": [
    {
      "cell_type": "markdown",
      "metadata": {
        "id": "view-in-github",
        "colab_type": "text"
      },
      "source": [
        "<a href=\"https://colab.research.google.com/github/karlriis/trajectory-forecasting/blob/main/Edinburgh_NN_over_all_data.ipynb\" target=\"_parent\"><img src=\"https://colab.research.google.com/assets/colab-badge.svg\" alt=\"Open In Colab\"/></a>"
      ]
    },
    {
      "cell_type": "code",
      "execution_count": 1,
      "id": "be36544f",
      "metadata": {
        "colab": {
          "base_uri": "https://localhost:8080/"
        },
        "id": "be36544f",
        "outputId": "6d2474de-c555-4fd4-b703-23cdb3bfdf2b"
      },
      "outputs": [
        {
          "output_type": "stream",
          "name": "stdout",
          "text": [
            "Cloning into 'OpenTraj'...\n",
            "remote: Enumerating objects: 17725, done.\u001b[K\n",
            "remote: Counting objects: 100% (1526/1526), done.\u001b[K\n",
            "remote: Compressing objects: 100% (826/826), done.\u001b[K\n",
            "remote: Total 17725 (delta 807), reused 1355 (delta 683), pack-reused 16199\u001b[K\n",
            "Receiving objects: 100% (17725/17725), 390.77 MiB | 13.83 MiB/s, done.\n",
            "Resolving deltas: 100% (1245/1245), done.\n",
            "Checking out files: 100% (15796/15796), done.\n"
          ]
        }
      ],
      "source": [
        "! git clone https://github.com/crowdbotp/OpenTraj.git"
      ]
    },
    {
      "cell_type": "code",
      "execution_count": 2,
      "id": "d6adb30f",
      "metadata": {
        "colab": {
          "base_uri": "https://localhost:8080/"
        },
        "id": "d6adb30f",
        "outputId": "903c5f06-eafe-497d-9623-d3efbdc597d9"
      },
      "outputs": [
        {
          "output_type": "stream",
          "name": "stdout",
          "text": [
            "Collecting pykalman\n",
            "  Downloading pykalman-0.9.5.tar.gz (228 kB)\n",
            "\u001b[?25l\r\u001b[K     |█▍                              | 10 kB 16.2 MB/s eta 0:00:01\r\u001b[K     |██▉                             | 20 kB 8.9 MB/s eta 0:00:01\r\u001b[K     |████▎                           | 30 kB 7.5 MB/s eta 0:00:01\r\u001b[K     |█████▊                          | 40 kB 7.0 MB/s eta 0:00:01\r\u001b[K     |███████▏                        | 51 kB 3.9 MB/s eta 0:00:01\r\u001b[K     |████████▋                       | 61 kB 4.3 MB/s eta 0:00:01\r\u001b[K     |██████████                      | 71 kB 4.2 MB/s eta 0:00:01\r\u001b[K     |███████████▌                    | 81 kB 4.7 MB/s eta 0:00:01\r\u001b[K     |████████████▉                   | 92 kB 4.6 MB/s eta 0:00:01\r\u001b[K     |██████████████▎                 | 102 kB 4.0 MB/s eta 0:00:01\r\u001b[K     |███████████████▊                | 112 kB 4.0 MB/s eta 0:00:01\r\u001b[K     |█████████████████▏              | 122 kB 4.0 MB/s eta 0:00:01\r\u001b[K     |██████████████████▋             | 133 kB 4.0 MB/s eta 0:00:01\r\u001b[K     |████████████████████            | 143 kB 4.0 MB/s eta 0:00:01\r\u001b[K     |█████████████████████▌          | 153 kB 4.0 MB/s eta 0:00:01\r\u001b[K     |███████████████████████         | 163 kB 4.0 MB/s eta 0:00:01\r\u001b[K     |████████████████████████▍       | 174 kB 4.0 MB/s eta 0:00:01\r\u001b[K     |█████████████████████████▊      | 184 kB 4.0 MB/s eta 0:00:01\r\u001b[K     |███████████████████████████▏    | 194 kB 4.0 MB/s eta 0:00:01\r\u001b[K     |████████████████████████████▋   | 204 kB 4.0 MB/s eta 0:00:01\r\u001b[K     |██████████████████████████████  | 215 kB 4.0 MB/s eta 0:00:01\r\u001b[K     |███████████████████████████████▌| 225 kB 4.0 MB/s eta 0:00:01\r\u001b[K     |████████████████████████████████| 228 kB 4.0 MB/s \n",
            "\u001b[?25hBuilding wheels for collected packages: pykalman\n",
            "  Building wheel for pykalman (setup.py) ... \u001b[?25l\u001b[?25hdone\n",
            "  Created wheel for pykalman: filename=pykalman-0.9.5-py3-none-any.whl size=48461 sha256=be3a3d6fab0081c4ca364259acad5a9a72c84572abacdb32d236c5b2b682e58d\n",
            "  Stored in directory: /root/.cache/pip/wheels/6a/04/02/2dda6ea59c66d9e685affc8af3a31ad3a5d87b7311689efce6\n",
            "Successfully built pykalman\n",
            "Installing collected packages: pykalman\n",
            "Successfully installed pykalman-0.9.5\n"
          ]
        }
      ],
      "source": [
        "! pip install pykalman"
      ]
    },
    {
      "cell_type": "code",
      "execution_count": 3,
      "id": "43186641",
      "metadata": {
        "id": "43186641"
      },
      "outputs": [],
      "source": [
        "import os\n",
        "import sys\n",
        "sys.path.insert(0, os.path.abspath(os.getcwd()) + '/OpenTraj/opentraj/') # Anaconda python can't find the toolkit path without this for some reason\n",
        "\n",
        "from toolkit.loaders.loader_edinburgh import load_edinburgh\n",
        "from matplotlib import pyplot as plt\n",
        "import numpy as np\n",
        "np.random.seed(42)"
      ]
    },
    {
      "cell_type": "code",
      "execution_count": 4,
      "id": "63295479",
      "metadata": {
        "colab": {
          "base_uri": "https://localhost:8080/"
        },
        "id": "63295479",
        "outputId": "197d002e-4ee0-436c-da6b-bfc968acd7ab"
      },
      "outputs": [
        {
          "output_type": "stream",
          "name": "stderr",
          "text": [
            "/content/OpenTraj/opentraj/toolkit/loaders/loader_edinburgh.py:56: ParserWarning: Falling back to the 'python' engine because the 'c' engine does not support regex separators (separators > 1 char and different from '\\s+' are interpreted as regex); you can avoid this warning by specifying engine='python'.\n",
            "  data = pd.read_csv(file, sep=\"\\n|=\", header=None,index_col=None)\n"
          ]
        },
        {
          "output_type": "stream",
          "name": "stdout",
          "text": [
            "reading:./OpenTraj/datasets/Edinburgh/annotations/tracks.01Sep.txt\n"
          ]
        },
        {
          "output_type": "stream",
          "name": "stderr",
          "text": [
            "100%|██████████| 2342/2342 [06:02<00:00,  6.46it/s]\n"
          ]
        },
        {
          "output_type": "stream",
          "name": "stdout",
          "text": [
            "Warning! too big dt in [Edinburgh]\n",
            "finish\n"
          ]
        }
      ],
      "source": [
        "opentraj_root = './OpenTraj/'\n",
        "selected_day = '01Sep' # 3 days of data in total, ['01Jul', '01Aug', '01Sep']\n",
        "edinburgh_path = os.path.join(opentraj_root, 'datasets/Edinburgh/annotations', 'tracks.%s.txt' % selected_day)\n",
        "traj_dataset = load_edinburgh(edinburgh_path, title=\"Edinburgh\", \n",
        "                              use_kalman=False, scene_id=selected_day, sampling_rate=4)"
      ]
    },
    {
      "cell_type": "code",
      "execution_count": 206,
      "id": "d2107c6b",
      "metadata": {
        "id": "d2107c6b"
      },
      "outputs": [],
      "source": [
        "data = traj_dataset.data\n",
        "NUM_OF_STEPS = 5\n",
        "\n",
        "# Removing any agents which don't have enough steps for model fitting and predicting\n",
        "agent_ids = data.agent_id.unique()\n",
        "for agent_id in agent_ids:\n",
        "    if len(data[data.agent_id == agent_id]) < 2*NUM_OF_STEPS:\n",
        "        data = data[data.agent_id != agent_id]\n",
        "agent_ids = data.agent_id.unique()"
      ]
    },
    {
      "cell_type": "code",
      "execution_count": 207,
      "id": "9fb4ab4b",
      "metadata": {
        "id": "9fb4ab4b"
      },
      "outputs": [],
      "source": [
        "# 'Normalize' the data so that all trajectories will begin at x=0, y=0\n",
        "for agent_id in agent_ids:\n",
        "    first_x = data[data.agent_id == agent_id]['pos_x'].iloc[0]\n",
        "    first_y = data[data.agent_id == agent_id]['pos_y'].iloc[0]\n",
        "    \n",
        "    data.loc[data.agent_id == agent_id, 'pos_x'] = data[data.agent_id == agent_id]['pos_x'] - first_x\n",
        "    data.loc[data.agent_id == agent_id, 'pos_y'] = data[data.agent_id == agent_id]['pos_y'] - first_y"
      ]
    },
    {
      "cell_type": "code",
      "execution_count": 208,
      "id": "a7407d78",
      "metadata": {
        "id": "a7407d78"
      },
      "outputs": [],
      "source": [
        "# Select the useful columns from the dataset\n",
        "data = data[['index', 'agent_id', 'pos_x', 'pos_y']]"
      ]
    },
    {
      "cell_type": "code",
      "execution_count": 209,
      "id": "f7c7210a",
      "metadata": {
        "id": "f7c7210a"
      },
      "outputs": [],
      "source": [
        "from sklearn.model_selection import train_test_split\n",
        "train_agent_ids, test_agent_ids = train_test_split(agent_ids, test_size=0.2)"
      ]
    },
    {
      "cell_type": "markdown",
      "id": "7a69be78",
      "metadata": {
        "id": "7a69be78"
      },
      "source": [
        "### Helper functions"
      ]
    },
    {
      "cell_type": "code",
      "execution_count": 210,
      "id": "987ee314",
      "metadata": {
        "id": "987ee314"
      },
      "outputs": [],
      "source": [
        "def create_dataset(data, agent_ids):\n",
        "    dataX, dataY = [], []\n",
        "    for agent_id in agent_ids:\n",
        "        x = data[data['agent_id'] == agent_id].iloc[:5][['pos_x', 'pos_y']]\n",
        "        y = data[data['agent_id'] == agent_id].iloc[5][['pos_x', 'pos_y']]\n",
        "        dataX.append(x)\n",
        "        dataY.append(y)\n",
        "    return np.array(dataX), np.array(dataY)\n",
        "    \n",
        "def calculate_error(pred_x, pred_y, test_x, test_y):\n",
        "    \n",
        "    # FDE\n",
        "    final_displacement_x = pred_x[-1] - test_x[-1]\n",
        "    final_displacement_y = pred_y[-1] - test_y[-1]\n",
        "    FDE = np.sqrt(final_displacement_x**2 + final_displacement_y**2)\n",
        "    \n",
        "    # MSE\n",
        "    abs_error_x = pred_x - test_x\n",
        "    abs_error_y = pred_y - test_y\n",
        "    \n",
        "    MSE = np.mean(np.square(abs_error_x)) + np.mean(np.square(abs_error_y))\n",
        "    \n",
        "    return FDE, MSE"
      ]
    },
    {
      "cell_type": "code",
      "execution_count": 211,
      "id": "7f3fa56d",
      "metadata": {
        "id": "7f3fa56d"
      },
      "outputs": [],
      "source": [
        "train = create_dataset(data, train_agent_ids)\n",
        "test = create_dataset(data, test_agent_ids)"
      ]
    },
    {
      "cell_type": "code",
      "execution_count": 213,
      "id": "fc388252",
      "metadata": {
        "id": "fc388252"
      },
      "outputs": [],
      "source": [
        "from keras.models import Model\n",
        "from keras.layers import *    \n",
        "\n",
        "inp = Input((5,2))\n",
        "\n",
        "x = Flatten()(inp)\n",
        "\n",
        "x = Dense(16, activation='linear')(x)\n",
        "x = Dense(8, activation='linear')(x)\n",
        "\n",
        "out1 = Dense(1, activation='linear')(x)    \n",
        "out2 = Dense(1, activation='linear')(x)\n",
        "\n",
        "model = Model(inputs=inp, outputs=[out1,out2])\n",
        "model.compile(optimizer = 'adam', loss = 'mean_squared_error')"
      ]
    },
    {
      "cell_type": "code",
      "execution_count": 226,
      "id": "d2ad3d42",
      "metadata": {
        "colab": {
          "base_uri": "https://localhost:8080/"
        },
        "id": "d2ad3d42",
        "outputId": "05dbf193-ee23-4b51-cca8-4805b3b2ca18"
      },
      "outputs": [
        {
          "output_type": "stream",
          "name": "stdout",
          "text": [
            "Epoch 1/400\n",
            "1577/1577 - 3s - loss: 0.2002 - dense_34_loss: 0.0886 - dense_35_loss: 0.1117 - 3s/epoch - 2ms/step\n",
            "Epoch 2/400\n",
            "1577/1577 - 3s - loss: 0.2024 - dense_34_loss: 0.0897 - dense_35_loss: 0.1127 - 3s/epoch - 2ms/step\n",
            "Epoch 3/400\n",
            "1577/1577 - 3s - loss: 0.2059 - dense_34_loss: 0.0941 - dense_35_loss: 0.1119 - 3s/epoch - 2ms/step\n",
            "Epoch 4/400\n",
            "1577/1577 - 3s - loss: 0.2004 - dense_34_loss: 0.0884 - dense_35_loss: 0.1120 - 3s/epoch - 2ms/step\n",
            "Epoch 5/400\n",
            "1577/1577 - 3s - loss: 0.2015 - dense_34_loss: 0.0904 - dense_35_loss: 0.1111 - 3s/epoch - 2ms/step\n",
            "Epoch 6/400\n",
            "1577/1577 - 4s - loss: 0.2064 - dense_34_loss: 0.0947 - dense_35_loss: 0.1118 - 4s/epoch - 2ms/step\n",
            "Epoch 7/400\n",
            "1577/1577 - 4s - loss: 0.2005 - dense_34_loss: 0.0885 - dense_35_loss: 0.1120 - 4s/epoch - 2ms/step\n",
            "Epoch 8/400\n",
            "1577/1577 - 3s - loss: 0.2026 - dense_34_loss: 0.0913 - dense_35_loss: 0.1113 - 3s/epoch - 2ms/step\n",
            "Epoch 9/400\n",
            "1577/1577 - 3s - loss: 0.2018 - dense_34_loss: 0.0910 - dense_35_loss: 0.1108 - 3s/epoch - 2ms/step\n",
            "Epoch 10/400\n",
            "1577/1577 - 3s - loss: 0.2025 - dense_34_loss: 0.0906 - dense_35_loss: 0.1119 - 3s/epoch - 2ms/step\n",
            "Epoch 11/400\n",
            "1577/1577 - 3s - loss: 0.2009 - dense_34_loss: 0.0898 - dense_35_loss: 0.1111 - 3s/epoch - 2ms/step\n",
            "Epoch 12/400\n",
            "1577/1577 - 3s - loss: 0.2016 - dense_34_loss: 0.0890 - dense_35_loss: 0.1126 - 3s/epoch - 2ms/step\n",
            "Epoch 13/400\n",
            "1577/1577 - 3s - loss: 0.2022 - dense_34_loss: 0.0906 - dense_35_loss: 0.1116 - 3s/epoch - 2ms/step\n",
            "Epoch 14/400\n",
            "1577/1577 - 3s - loss: 0.1995 - dense_34_loss: 0.0905 - dense_35_loss: 0.1090 - 3s/epoch - 2ms/step\n",
            "Epoch 15/400\n",
            "1577/1577 - 3s - loss: 0.2032 - dense_34_loss: 0.0904 - dense_35_loss: 0.1129 - 3s/epoch - 2ms/step\n",
            "Epoch 16/400\n",
            "1577/1577 - 3s - loss: 0.2009 - dense_34_loss: 0.0901 - dense_35_loss: 0.1108 - 3s/epoch - 2ms/step\n",
            "Epoch 17/400\n",
            "1577/1577 - 3s - loss: 0.2071 - dense_34_loss: 0.0929 - dense_35_loss: 0.1142 - 3s/epoch - 2ms/step\n",
            "Epoch 18/400\n",
            "1577/1577 - 3s - loss: 0.2013 - dense_34_loss: 0.0892 - dense_35_loss: 0.1121 - 3s/epoch - 2ms/step\n",
            "Epoch 19/400\n",
            "1577/1577 - 3s - loss: 0.2000 - dense_34_loss: 0.0877 - dense_35_loss: 0.1123 - 3s/epoch - 2ms/step\n",
            "Epoch 20/400\n",
            "1577/1577 - 3s - loss: 0.1996 - dense_34_loss: 0.0896 - dense_35_loss: 0.1100 - 3s/epoch - 2ms/step\n",
            "Epoch 21/400\n",
            "1577/1577 - 3s - loss: 0.2064 - dense_34_loss: 0.0935 - dense_35_loss: 0.1129 - 3s/epoch - 2ms/step\n",
            "Epoch 22/400\n",
            "1577/1577 - 3s - loss: 0.1983 - dense_34_loss: 0.0884 - dense_35_loss: 0.1098 - 3s/epoch - 2ms/step\n",
            "Epoch 23/400\n",
            "1577/1577 - 3s - loss: 0.2023 - dense_34_loss: 0.0900 - dense_35_loss: 0.1123 - 3s/epoch - 2ms/step\n",
            "Epoch 24/400\n",
            "1577/1577 - 3s - loss: 0.2016 - dense_34_loss: 0.0898 - dense_35_loss: 0.1119 - 3s/epoch - 2ms/step\n",
            "Epoch 25/400\n",
            "1577/1577 - 3s - loss: 0.2057 - dense_34_loss: 0.0932 - dense_35_loss: 0.1125 - 3s/epoch - 2ms/step\n",
            "Epoch 26/400\n",
            "1577/1577 - 3s - loss: 0.1941 - dense_34_loss: 0.0859 - dense_35_loss: 0.1082 - 3s/epoch - 2ms/step\n",
            "Epoch 27/400\n",
            "1577/1577 - 3s - loss: 0.2029 - dense_34_loss: 0.0905 - dense_35_loss: 0.1125 - 3s/epoch - 2ms/step\n",
            "Epoch 28/400\n",
            "1577/1577 - 3s - loss: 0.1992 - dense_34_loss: 0.0865 - dense_35_loss: 0.1127 - 3s/epoch - 2ms/step\n",
            "Epoch 29/400\n",
            "1577/1577 - 3s - loss: 0.2031 - dense_34_loss: 0.0913 - dense_35_loss: 0.1118 - 3s/epoch - 2ms/step\n",
            "Epoch 30/400\n",
            "1577/1577 - 3s - loss: 0.2019 - dense_34_loss: 0.0910 - dense_35_loss: 0.1109 - 3s/epoch - 2ms/step\n",
            "Epoch 31/400\n",
            "1577/1577 - 3s - loss: 0.2040 - dense_34_loss: 0.0927 - dense_35_loss: 0.1113 - 3s/epoch - 2ms/step\n",
            "Epoch 32/400\n",
            "1577/1577 - 3s - loss: 0.2015 - dense_34_loss: 0.0889 - dense_35_loss: 0.1127 - 3s/epoch - 2ms/step\n",
            "Epoch 33/400\n",
            "1577/1577 - 3s - loss: 0.1989 - dense_34_loss: 0.0888 - dense_35_loss: 0.1101 - 3s/epoch - 2ms/step\n",
            "Epoch 34/400\n",
            "1577/1577 - 3s - loss: 0.1992 - dense_34_loss: 0.0880 - dense_35_loss: 0.1112 - 3s/epoch - 2ms/step\n",
            "Epoch 35/400\n",
            "1577/1577 - 3s - loss: 0.2014 - dense_34_loss: 0.0902 - dense_35_loss: 0.1112 - 3s/epoch - 2ms/step\n",
            "Epoch 36/400\n",
            "1577/1577 - 3s - loss: 0.1950 - dense_34_loss: 0.0866 - dense_35_loss: 0.1084 - 3s/epoch - 2ms/step\n",
            "Epoch 37/400\n",
            "1577/1577 - 3s - loss: 0.2064 - dense_34_loss: 0.0927 - dense_35_loss: 0.1137 - 3s/epoch - 2ms/step\n",
            "Epoch 38/400\n",
            "1577/1577 - 3s - loss: 0.2013 - dense_34_loss: 0.0910 - dense_35_loss: 0.1104 - 3s/epoch - 2ms/step\n",
            "Epoch 39/400\n",
            "1577/1577 - 3s - loss: 0.1980 - dense_34_loss: 0.0888 - dense_35_loss: 0.1092 - 3s/epoch - 2ms/step\n",
            "Epoch 40/400\n",
            "1577/1577 - 3s - loss: 0.1995 - dense_34_loss: 0.0896 - dense_35_loss: 0.1100 - 3s/epoch - 2ms/step\n",
            "Epoch 41/400\n",
            "1577/1577 - 3s - loss: 0.2046 - dense_34_loss: 0.0938 - dense_35_loss: 0.1108 - 3s/epoch - 2ms/step\n",
            "Epoch 42/400\n",
            "1577/1577 - 3s - loss: 0.1997 - dense_34_loss: 0.0894 - dense_35_loss: 0.1104 - 3s/epoch - 2ms/step\n",
            "Epoch 43/400\n",
            "1577/1577 - 3s - loss: 0.1993 - dense_34_loss: 0.0875 - dense_35_loss: 0.1118 - 3s/epoch - 2ms/step\n",
            "Epoch 44/400\n",
            "1577/1577 - 3s - loss: 0.1997 - dense_34_loss: 0.0908 - dense_35_loss: 0.1088 - 3s/epoch - 2ms/step\n",
            "Epoch 45/400\n",
            "1577/1577 - 3s - loss: 0.2030 - dense_34_loss: 0.0896 - dense_35_loss: 0.1134 - 3s/epoch - 2ms/step\n",
            "Epoch 46/400\n",
            "1577/1577 - 3s - loss: 0.2004 - dense_34_loss: 0.0899 - dense_35_loss: 0.1105 - 3s/epoch - 2ms/step\n",
            "Epoch 47/400\n",
            "1577/1577 - 3s - loss: 0.2019 - dense_34_loss: 0.0894 - dense_35_loss: 0.1125 - 3s/epoch - 2ms/step\n",
            "Epoch 48/400\n",
            "1577/1577 - 3s - loss: 0.2048 - dense_34_loss: 0.0927 - dense_35_loss: 0.1121 - 3s/epoch - 2ms/step\n",
            "Epoch 49/400\n",
            "1577/1577 - 3s - loss: 0.1975 - dense_34_loss: 0.0868 - dense_35_loss: 0.1106 - 3s/epoch - 2ms/step\n",
            "Epoch 50/400\n",
            "1577/1577 - 3s - loss: 0.2002 - dense_34_loss: 0.0889 - dense_35_loss: 0.1113 - 3s/epoch - 2ms/step\n",
            "Epoch 51/400\n",
            "1577/1577 - 3s - loss: 0.1988 - dense_34_loss: 0.0881 - dense_35_loss: 0.1108 - 3s/epoch - 2ms/step\n",
            "Epoch 52/400\n",
            "1577/1577 - 3s - loss: 0.2020 - dense_34_loss: 0.0898 - dense_35_loss: 0.1122 - 3s/epoch - 2ms/step\n",
            "Epoch 53/400\n",
            "1577/1577 - 3s - loss: 0.2012 - dense_34_loss: 0.0899 - dense_35_loss: 0.1114 - 3s/epoch - 2ms/step\n",
            "Epoch 54/400\n",
            "1577/1577 - 3s - loss: 0.2021 - dense_34_loss: 0.0913 - dense_35_loss: 0.1108 - 3s/epoch - 2ms/step\n",
            "Epoch 55/400\n",
            "1577/1577 - 3s - loss: 0.1992 - dense_34_loss: 0.0892 - dense_35_loss: 0.1100 - 3s/epoch - 2ms/step\n",
            "Epoch 56/400\n",
            "1577/1577 - 3s - loss: 0.2009 - dense_34_loss: 0.0910 - dense_35_loss: 0.1099 - 3s/epoch - 2ms/step\n",
            "Epoch 57/400\n",
            "1577/1577 - 3s - loss: 0.2005 - dense_34_loss: 0.0885 - dense_35_loss: 0.1120 - 3s/epoch - 2ms/step\n",
            "Epoch 58/400\n",
            "1577/1577 - 4s - loss: 0.2002 - dense_34_loss: 0.0883 - dense_35_loss: 0.1119 - 4s/epoch - 2ms/step\n",
            "Epoch 59/400\n",
            "1577/1577 - 3s - loss: 0.2029 - dense_34_loss: 0.0911 - dense_35_loss: 0.1119 - 3s/epoch - 2ms/step\n",
            "Epoch 60/400\n",
            "1577/1577 - 3s - loss: 0.2008 - dense_34_loss: 0.0905 - dense_35_loss: 0.1103 - 3s/epoch - 2ms/step\n",
            "Epoch 61/400\n",
            "1577/1577 - 3s - loss: 0.2010 - dense_34_loss: 0.0905 - dense_35_loss: 0.1105 - 3s/epoch - 2ms/step\n",
            "Epoch 62/400\n",
            "1577/1577 - 3s - loss: 0.1997 - dense_34_loss: 0.0904 - dense_35_loss: 0.1093 - 3s/epoch - 2ms/step\n",
            "Epoch 63/400\n",
            "1577/1577 - 3s - loss: 0.2036 - dense_34_loss: 0.0905 - dense_35_loss: 0.1131 - 3s/epoch - 2ms/step\n",
            "Epoch 64/400\n",
            "1577/1577 - 3s - loss: 0.2017 - dense_34_loss: 0.0908 - dense_35_loss: 0.1110 - 3s/epoch - 2ms/step\n",
            "Epoch 65/400\n",
            "1577/1577 - 3s - loss: 0.2001 - dense_34_loss: 0.0901 - dense_35_loss: 0.1100 - 3s/epoch - 2ms/step\n",
            "Epoch 66/400\n",
            "1577/1577 - 3s - loss: 0.1976 - dense_34_loss: 0.0864 - dense_35_loss: 0.1112 - 3s/epoch - 2ms/step\n",
            "Epoch 67/400\n",
            "1577/1577 - 3s - loss: 0.2009 - dense_34_loss: 0.0909 - dense_35_loss: 0.1100 - 3s/epoch - 2ms/step\n",
            "Epoch 68/400\n",
            "1577/1577 - 3s - loss: 0.1995 - dense_34_loss: 0.0895 - dense_35_loss: 0.1100 - 3s/epoch - 2ms/step\n",
            "Epoch 69/400\n",
            "1577/1577 - 3s - loss: 0.2007 - dense_34_loss: 0.0896 - dense_35_loss: 0.1112 - 3s/epoch - 2ms/step\n",
            "Epoch 70/400\n",
            "1577/1577 - 3s - loss: 0.1987 - dense_34_loss: 0.0889 - dense_35_loss: 0.1097 - 3s/epoch - 2ms/step\n",
            "Epoch 71/400\n",
            "1577/1577 - 3s - loss: 0.1996 - dense_34_loss: 0.0871 - dense_35_loss: 0.1126 - 3s/epoch - 2ms/step\n",
            "Epoch 72/400\n",
            "1577/1577 - 3s - loss: 0.1987 - dense_34_loss: 0.0887 - dense_35_loss: 0.1100 - 3s/epoch - 2ms/step\n",
            "Epoch 73/400\n",
            "1577/1577 - 3s - loss: 0.1981 - dense_34_loss: 0.0884 - dense_35_loss: 0.1097 - 3s/epoch - 2ms/step\n",
            "Epoch 74/400\n",
            "1577/1577 - 3s - loss: 0.2001 - dense_34_loss: 0.0883 - dense_35_loss: 0.1118 - 3s/epoch - 2ms/step\n",
            "Epoch 75/400\n",
            "1577/1577 - 3s - loss: 0.2004 - dense_34_loss: 0.0906 - dense_35_loss: 0.1098 - 3s/epoch - 2ms/step\n",
            "Epoch 76/400\n",
            "1577/1577 - 3s - loss: 0.2004 - dense_34_loss: 0.0889 - dense_35_loss: 0.1115 - 3s/epoch - 2ms/step\n",
            "Epoch 77/400\n",
            "1577/1577 - 3s - loss: 0.2023 - dense_34_loss: 0.0911 - dense_35_loss: 0.1111 - 3s/epoch - 2ms/step\n",
            "Epoch 78/400\n",
            "1577/1577 - 4s - loss: 0.2008 - dense_34_loss: 0.0909 - dense_35_loss: 0.1099 - 4s/epoch - 2ms/step\n",
            "Epoch 79/400\n",
            "1577/1577 - 3s - loss: 0.1952 - dense_34_loss: 0.0853 - dense_35_loss: 0.1099 - 3s/epoch - 2ms/step\n",
            "Epoch 80/400\n",
            "1577/1577 - 3s - loss: 0.2007 - dense_34_loss: 0.0902 - dense_35_loss: 0.1105 - 3s/epoch - 2ms/step\n",
            "Epoch 81/400\n",
            "1577/1577 - 3s - loss: 0.1989 - dense_34_loss: 0.0901 - dense_35_loss: 0.1088 - 3s/epoch - 2ms/step\n",
            "Epoch 82/400\n",
            "1577/1577 - 3s - loss: 0.1998 - dense_34_loss: 0.0896 - dense_35_loss: 0.1102 - 3s/epoch - 2ms/step\n",
            "Epoch 83/400\n",
            "1577/1577 - 3s - loss: 0.2016 - dense_34_loss: 0.0892 - dense_35_loss: 0.1124 - 3s/epoch - 2ms/step\n",
            "Epoch 84/400\n",
            "1577/1577 - 3s - loss: 0.1987 - dense_34_loss: 0.0889 - dense_35_loss: 0.1098 - 3s/epoch - 2ms/step\n",
            "Epoch 85/400\n",
            "1577/1577 - 3s - loss: 0.1989 - dense_34_loss: 0.0895 - dense_35_loss: 0.1093 - 3s/epoch - 2ms/step\n",
            "Epoch 86/400\n",
            "1577/1577 - 3s - loss: 0.1999 - dense_34_loss: 0.0894 - dense_35_loss: 0.1105 - 3s/epoch - 2ms/step\n",
            "Epoch 87/400\n",
            "1577/1577 - 3s - loss: 0.2022 - dense_34_loss: 0.0897 - dense_35_loss: 0.1125 - 3s/epoch - 2ms/step\n",
            "Epoch 88/400\n",
            "1577/1577 - 3s - loss: 0.2017 - dense_34_loss: 0.0895 - dense_35_loss: 0.1122 - 3s/epoch - 2ms/step\n",
            "Epoch 89/400\n",
            "1577/1577 - 3s - loss: 0.2006 - dense_34_loss: 0.0913 - dense_35_loss: 0.1093 - 3s/epoch - 2ms/step\n",
            "Epoch 90/400\n",
            "1577/1577 - 3s - loss: 0.2001 - dense_34_loss: 0.0887 - dense_35_loss: 0.1113 - 3s/epoch - 2ms/step\n",
            "Epoch 91/400\n",
            "1577/1577 - 3s - loss: 0.1995 - dense_34_loss: 0.0881 - dense_35_loss: 0.1113 - 3s/epoch - 2ms/step\n",
            "Epoch 92/400\n",
            "1577/1577 - 3s - loss: 0.2017 - dense_34_loss: 0.0904 - dense_35_loss: 0.1113 - 3s/epoch - 2ms/step\n",
            "Epoch 93/400\n",
            "1577/1577 - 3s - loss: 0.1980 - dense_34_loss: 0.0877 - dense_35_loss: 0.1102 - 3s/epoch - 2ms/step\n",
            "Epoch 94/400\n",
            "1577/1577 - 3s - loss: 0.2014 - dense_34_loss: 0.0903 - dense_35_loss: 0.1112 - 3s/epoch - 2ms/step\n",
            "Epoch 95/400\n",
            "1577/1577 - 3s - loss: 0.1998 - dense_34_loss: 0.0890 - dense_35_loss: 0.1109 - 3s/epoch - 2ms/step\n",
            "Epoch 96/400\n",
            "1577/1577 - 3s - loss: 0.1993 - dense_34_loss: 0.0901 - dense_35_loss: 0.1092 - 3s/epoch - 2ms/step\n",
            "Epoch 97/400\n",
            "1577/1577 - 3s - loss: 0.2014 - dense_34_loss: 0.0893 - dense_35_loss: 0.1121 - 3s/epoch - 2ms/step\n",
            "Epoch 98/400\n",
            "1577/1577 - 3s - loss: 0.1982 - dense_34_loss: 0.0874 - dense_35_loss: 0.1108 - 3s/epoch - 2ms/step\n",
            "Epoch 99/400\n",
            "1577/1577 - 3s - loss: 0.1977 - dense_34_loss: 0.0890 - dense_35_loss: 0.1088 - 3s/epoch - 2ms/step\n",
            "Epoch 100/400\n",
            "1577/1577 - 3s - loss: 0.2019 - dense_34_loss: 0.0890 - dense_35_loss: 0.1130 - 3s/epoch - 2ms/step\n",
            "Epoch 101/400\n",
            "1577/1577 - 3s - loss: 0.1961 - dense_34_loss: 0.0873 - dense_35_loss: 0.1088 - 3s/epoch - 2ms/step\n",
            "Epoch 102/400\n",
            "1577/1577 - 3s - loss: 0.2019 - dense_34_loss: 0.0894 - dense_35_loss: 0.1125 - 3s/epoch - 2ms/step\n",
            "Epoch 103/400\n",
            "1577/1577 - 3s - loss: 0.1981 - dense_34_loss: 0.0885 - dense_35_loss: 0.1096 - 3s/epoch - 2ms/step\n",
            "Epoch 104/400\n",
            "1577/1577 - 3s - loss: 0.2043 - dense_34_loss: 0.0924 - dense_35_loss: 0.1119 - 3s/epoch - 2ms/step\n",
            "Epoch 105/400\n",
            "1577/1577 - 3s - loss: 0.1998 - dense_34_loss: 0.0882 - dense_35_loss: 0.1117 - 3s/epoch - 2ms/step\n",
            "Epoch 106/400\n",
            "1577/1577 - 3s - loss: 0.2019 - dense_34_loss: 0.0904 - dense_35_loss: 0.1115 - 3s/epoch - 2ms/step\n",
            "Epoch 107/400\n",
            "1577/1577 - 3s - loss: 0.2052 - dense_34_loss: 0.0922 - dense_35_loss: 0.1131 - 3s/epoch - 2ms/step\n",
            "Epoch 108/400\n",
            "1577/1577 - 3s - loss: 0.1966 - dense_34_loss: 0.0888 - dense_35_loss: 0.1079 - 3s/epoch - 2ms/step\n",
            "Epoch 109/400\n",
            "1577/1577 - 3s - loss: 0.2001 - dense_34_loss: 0.0891 - dense_35_loss: 0.1110 - 3s/epoch - 2ms/step\n",
            "Epoch 110/400\n",
            "1577/1577 - 3s - loss: 0.2022 - dense_34_loss: 0.0908 - dense_35_loss: 0.1114 - 3s/epoch - 2ms/step\n",
            "Epoch 111/400\n",
            "1577/1577 - 3s - loss: 0.1991 - dense_34_loss: 0.0899 - dense_35_loss: 0.1092 - 3s/epoch - 2ms/step\n",
            "Epoch 112/400\n",
            "1577/1577 - 3s - loss: 0.1980 - dense_34_loss: 0.0872 - dense_35_loss: 0.1108 - 3s/epoch - 2ms/step\n",
            "Epoch 113/400\n",
            "1577/1577 - 3s - loss: 0.1981 - dense_34_loss: 0.0890 - dense_35_loss: 0.1091 - 3s/epoch - 2ms/step\n",
            "Epoch 114/400\n",
            "1577/1577 - 3s - loss: 0.2006 - dense_34_loss: 0.0908 - dense_35_loss: 0.1098 - 3s/epoch - 2ms/step\n",
            "Epoch 115/400\n",
            "1577/1577 - 3s - loss: 0.1994 - dense_34_loss: 0.0888 - dense_35_loss: 0.1106 - 3s/epoch - 2ms/step\n",
            "Epoch 116/400\n",
            "1577/1577 - 3s - loss: 0.2028 - dense_34_loss: 0.0906 - dense_35_loss: 0.1122 - 3s/epoch - 2ms/step\n",
            "Epoch 117/400\n",
            "1577/1577 - 3s - loss: 0.1968 - dense_34_loss: 0.0870 - dense_35_loss: 0.1098 - 3s/epoch - 2ms/step\n",
            "Epoch 118/400\n",
            "1577/1577 - 3s - loss: 0.2012 - dense_34_loss: 0.0902 - dense_35_loss: 0.1110 - 3s/epoch - 2ms/step\n",
            "Epoch 119/400\n",
            "1577/1577 - 3s - loss: 0.1994 - dense_34_loss: 0.0888 - dense_35_loss: 0.1106 - 3s/epoch - 2ms/step\n",
            "Epoch 120/400\n",
            "1577/1577 - 3s - loss: 0.2001 - dense_34_loss: 0.0901 - dense_35_loss: 0.1100 - 3s/epoch - 2ms/step\n",
            "Epoch 121/400\n",
            "1577/1577 - 3s - loss: 0.2004 - dense_34_loss: 0.0894 - dense_35_loss: 0.1110 - 3s/epoch - 2ms/step\n",
            "Epoch 122/400\n",
            "1577/1577 - 3s - loss: 0.1968 - dense_34_loss: 0.0881 - dense_35_loss: 0.1088 - 3s/epoch - 2ms/step\n",
            "Epoch 123/400\n",
            "1577/1577 - 3s - loss: 0.1990 - dense_34_loss: 0.0886 - dense_35_loss: 0.1104 - 3s/epoch - 2ms/step\n",
            "Epoch 124/400\n",
            "1577/1577 - 3s - loss: 0.1970 - dense_34_loss: 0.0865 - dense_35_loss: 0.1105 - 3s/epoch - 2ms/step\n",
            "Epoch 125/400\n",
            "1577/1577 - 3s - loss: 0.2001 - dense_34_loss: 0.0883 - dense_35_loss: 0.1118 - 3s/epoch - 2ms/step\n",
            "Epoch 126/400\n",
            "1577/1577 - 3s - loss: 0.1974 - dense_34_loss: 0.0877 - dense_35_loss: 0.1097 - 3s/epoch - 2ms/step\n",
            "Epoch 127/400\n",
            "1577/1577 - 3s - loss: 0.1993 - dense_34_loss: 0.0898 - dense_35_loss: 0.1095 - 3s/epoch - 2ms/step\n",
            "Epoch 128/400\n",
            "1577/1577 - 3s - loss: 0.1983 - dense_34_loss: 0.0875 - dense_35_loss: 0.1108 - 3s/epoch - 2ms/step\n",
            "Epoch 129/400\n",
            "1577/1577 - 3s - loss: 0.2016 - dense_34_loss: 0.0913 - dense_35_loss: 0.1103 - 3s/epoch - 2ms/step\n",
            "Epoch 130/400\n",
            "1577/1577 - 3s - loss: 0.1994 - dense_34_loss: 0.0896 - dense_35_loss: 0.1098 - 3s/epoch - 2ms/step\n",
            "Epoch 131/400\n",
            "1577/1577 - 3s - loss: 0.1991 - dense_34_loss: 0.0892 - dense_35_loss: 0.1100 - 3s/epoch - 2ms/step\n",
            "Epoch 132/400\n",
            "1577/1577 - 3s - loss: 0.1999 - dense_34_loss: 0.0900 - dense_35_loss: 0.1099 - 3s/epoch - 2ms/step\n",
            "Epoch 133/400\n",
            "1577/1577 - 3s - loss: 0.1968 - dense_34_loss: 0.0876 - dense_35_loss: 0.1092 - 3s/epoch - 2ms/step\n",
            "Epoch 134/400\n",
            "1577/1577 - 3s - loss: 0.1989 - dense_34_loss: 0.0898 - dense_35_loss: 0.1091 - 3s/epoch - 2ms/step\n",
            "Epoch 135/400\n",
            "1577/1577 - 3s - loss: 0.1967 - dense_34_loss: 0.0865 - dense_35_loss: 0.1102 - 3s/epoch - 2ms/step\n",
            "Epoch 136/400\n",
            "1577/1577 - 3s - loss: 0.1992 - dense_34_loss: 0.0893 - dense_35_loss: 0.1099 - 3s/epoch - 2ms/step\n",
            "Epoch 137/400\n",
            "1577/1577 - 3s - loss: 0.1994 - dense_34_loss: 0.0882 - dense_35_loss: 0.1111 - 3s/epoch - 2ms/step\n",
            "Epoch 138/400\n",
            "1577/1577 - 3s - loss: 0.1971 - dense_34_loss: 0.0886 - dense_35_loss: 0.1085 - 3s/epoch - 2ms/step\n",
            "Epoch 139/400\n",
            "1577/1577 - 3s - loss: 0.2016 - dense_34_loss: 0.0896 - dense_35_loss: 0.1120 - 3s/epoch - 2ms/step\n",
            "Epoch 140/400\n",
            "1577/1577 - 3s - loss: 0.1977 - dense_34_loss: 0.0879 - dense_35_loss: 0.1098 - 3s/epoch - 2ms/step\n",
            "Epoch 141/400\n",
            "1577/1577 - 3s - loss: 0.1982 - dense_34_loss: 0.0887 - dense_35_loss: 0.1095 - 3s/epoch - 2ms/step\n",
            "Epoch 142/400\n",
            "1577/1577 - 3s - loss: 0.1979 - dense_34_loss: 0.0882 - dense_35_loss: 0.1096 - 3s/epoch - 2ms/step\n",
            "Epoch 143/400\n",
            "1577/1577 - 3s - loss: 0.1983 - dense_34_loss: 0.0885 - dense_35_loss: 0.1098 - 3s/epoch - 2ms/step\n",
            "Epoch 144/400\n",
            "1577/1577 - 3s - loss: 0.2002 - dense_34_loss: 0.0883 - dense_35_loss: 0.1120 - 3s/epoch - 2ms/step\n",
            "Epoch 145/400\n",
            "1577/1577 - 3s - loss: 0.2023 - dense_34_loss: 0.0925 - dense_35_loss: 0.1097 - 3s/epoch - 2ms/step\n",
            "Epoch 146/400\n",
            "1577/1577 - 3s - loss: 0.2001 - dense_34_loss: 0.0891 - dense_35_loss: 0.1109 - 3s/epoch - 2ms/step\n",
            "Epoch 147/400\n",
            "1577/1577 - 3s - loss: 0.1995 - dense_34_loss: 0.0876 - dense_35_loss: 0.1120 - 3s/epoch - 2ms/step\n",
            "Epoch 148/400\n",
            "1577/1577 - 3s - loss: 0.1994 - dense_34_loss: 0.0890 - dense_35_loss: 0.1104 - 3s/epoch - 2ms/step\n",
            "Epoch 149/400\n",
            "1577/1577 - 3s - loss: 0.1990 - dense_34_loss: 0.0887 - dense_35_loss: 0.1102 - 3s/epoch - 2ms/step\n",
            "Epoch 150/400\n",
            "1577/1577 - 3s - loss: 0.2001 - dense_34_loss: 0.0889 - dense_35_loss: 0.1112 - 3s/epoch - 2ms/step\n",
            "Epoch 151/400\n",
            "1577/1577 - 3s - loss: 0.2014 - dense_34_loss: 0.0906 - dense_35_loss: 0.1109 - 3s/epoch - 2ms/step\n",
            "Epoch 152/400\n",
            "1577/1577 - 3s - loss: 0.2015 - dense_34_loss: 0.0903 - dense_35_loss: 0.1112 - 3s/epoch - 2ms/step\n",
            "Epoch 153/400\n",
            "1577/1577 - 3s - loss: 0.1989 - dense_34_loss: 0.0881 - dense_35_loss: 0.1108 - 3s/epoch - 2ms/step\n",
            "Epoch 154/400\n",
            "1577/1577 - 3s - loss: 0.2051 - dense_34_loss: 0.0921 - dense_35_loss: 0.1130 - 3s/epoch - 2ms/step\n",
            "Epoch 155/400\n",
            "1577/1577 - 3s - loss: 0.1967 - dense_34_loss: 0.0881 - dense_35_loss: 0.1086 - 3s/epoch - 2ms/step\n",
            "Epoch 156/400\n",
            "1577/1577 - 3s - loss: 0.1989 - dense_34_loss: 0.0898 - dense_35_loss: 0.1091 - 3s/epoch - 2ms/step\n",
            "Epoch 157/400\n",
            "1577/1577 - 3s - loss: 0.1975 - dense_34_loss: 0.0867 - dense_35_loss: 0.1108 - 3s/epoch - 2ms/step\n",
            "Epoch 158/400\n",
            "1577/1577 - 3s - loss: 0.2023 - dense_34_loss: 0.0909 - dense_35_loss: 0.1114 - 3s/epoch - 2ms/step\n",
            "Epoch 159/400\n",
            "1577/1577 - 3s - loss: 0.1975 - dense_34_loss: 0.0877 - dense_35_loss: 0.1098 - 3s/epoch - 2ms/step\n",
            "Epoch 160/400\n",
            "1577/1577 - 3s - loss: 0.2010 - dense_34_loss: 0.0898 - dense_35_loss: 0.1111 - 3s/epoch - 2ms/step\n",
            "Epoch 161/400\n",
            "1577/1577 - 3s - loss: 0.2022 - dense_34_loss: 0.0902 - dense_35_loss: 0.1120 - 3s/epoch - 2ms/step\n",
            "Epoch 162/400\n",
            "1577/1577 - 3s - loss: 0.1943 - dense_34_loss: 0.0859 - dense_35_loss: 0.1084 - 3s/epoch - 2ms/step\n",
            "Epoch 163/400\n",
            "1577/1577 - 3s - loss: 0.2052 - dense_34_loss: 0.0925 - dense_35_loss: 0.1126 - 3s/epoch - 2ms/step\n",
            "Epoch 164/400\n",
            "1577/1577 - 3s - loss: 0.1981 - dense_34_loss: 0.0881 - dense_35_loss: 0.1100 - 3s/epoch - 2ms/step\n",
            "Epoch 165/400\n",
            "1577/1577 - 3s - loss: 0.1978 - dense_34_loss: 0.0877 - dense_35_loss: 0.1101 - 3s/epoch - 2ms/step\n",
            "Epoch 166/400\n",
            "1577/1577 - 3s - loss: 0.1974 - dense_34_loss: 0.0876 - dense_35_loss: 0.1098 - 3s/epoch - 2ms/step\n",
            "Epoch 167/400\n",
            "1577/1577 - 3s - loss: 0.2001 - dense_34_loss: 0.0895 - dense_35_loss: 0.1106 - 3s/epoch - 2ms/step\n",
            "Epoch 168/400\n",
            "1577/1577 - 3s - loss: 0.1971 - dense_34_loss: 0.0868 - dense_35_loss: 0.1104 - 3s/epoch - 2ms/step\n",
            "Epoch 169/400\n",
            "1577/1577 - 3s - loss: 0.1974 - dense_34_loss: 0.0880 - dense_35_loss: 0.1093 - 3s/epoch - 2ms/step\n",
            "Epoch 170/400\n",
            "1577/1577 - 3s - loss: 0.2030 - dense_34_loss: 0.0913 - dense_35_loss: 0.1117 - 3s/epoch - 2ms/step\n",
            "Epoch 171/400\n",
            "1577/1577 - 3s - loss: 0.1982 - dense_34_loss: 0.0879 - dense_35_loss: 0.1102 - 3s/epoch - 2ms/step\n",
            "Epoch 172/400\n",
            "1577/1577 - 3s - loss: 0.1974 - dense_34_loss: 0.0868 - dense_35_loss: 0.1106 - 3s/epoch - 2ms/step\n",
            "Epoch 173/400\n",
            "1577/1577 - 3s - loss: 0.1978 - dense_34_loss: 0.0890 - dense_35_loss: 0.1087 - 3s/epoch - 2ms/step\n",
            "Epoch 174/400\n",
            "1577/1577 - 3s - loss: 0.2014 - dense_34_loss: 0.0894 - dense_35_loss: 0.1120 - 3s/epoch - 2ms/step\n",
            "Epoch 175/400\n",
            "1577/1577 - 3s - loss: 0.1982 - dense_34_loss: 0.0878 - dense_35_loss: 0.1105 - 3s/epoch - 2ms/step\n",
            "Epoch 176/400\n",
            "1577/1577 - 3s - loss: 0.1989 - dense_34_loss: 0.0890 - dense_35_loss: 0.1099 - 3s/epoch - 2ms/step\n",
            "Epoch 177/400\n",
            "1577/1577 - 3s - loss: 0.1983 - dense_34_loss: 0.0884 - dense_35_loss: 0.1099 - 3s/epoch - 2ms/step\n",
            "Epoch 178/400\n",
            "1577/1577 - 3s - loss: 0.2002 - dense_34_loss: 0.0895 - dense_35_loss: 0.1107 - 3s/epoch - 2ms/step\n",
            "Epoch 179/400\n",
            "1577/1577 - 3s - loss: 0.2012 - dense_34_loss: 0.0906 - dense_35_loss: 0.1106 - 3s/epoch - 2ms/step\n",
            "Epoch 180/400\n",
            "1577/1577 - 3s - loss: 0.1977 - dense_34_loss: 0.0871 - dense_35_loss: 0.1106 - 3s/epoch - 2ms/step\n",
            "Epoch 181/400\n",
            "1577/1577 - 3s - loss: 0.1996 - dense_34_loss: 0.0881 - dense_35_loss: 0.1114 - 3s/epoch - 2ms/step\n",
            "Epoch 182/400\n",
            "1577/1577 - 3s - loss: 0.1998 - dense_34_loss: 0.0890 - dense_35_loss: 0.1108 - 3s/epoch - 2ms/step\n",
            "Epoch 183/400\n",
            "1577/1577 - 3s - loss: 0.2009 - dense_34_loss: 0.0892 - dense_35_loss: 0.1117 - 3s/epoch - 2ms/step\n",
            "Epoch 184/400\n",
            "1577/1577 - 3s - loss: 0.1979 - dense_34_loss: 0.0875 - dense_35_loss: 0.1103 - 3s/epoch - 2ms/step\n",
            "Epoch 185/400\n",
            "1577/1577 - 3s - loss: 0.1996 - dense_34_loss: 0.0882 - dense_35_loss: 0.1113 - 3s/epoch - 2ms/step\n",
            "Epoch 186/400\n",
            "1577/1577 - 3s - loss: 0.1980 - dense_34_loss: 0.0892 - dense_35_loss: 0.1088 - 3s/epoch - 2ms/step\n",
            "Epoch 187/400\n",
            "1577/1577 - 3s - loss: 0.2005 - dense_34_loss: 0.0893 - dense_35_loss: 0.1112 - 3s/epoch - 2ms/step\n",
            "Epoch 188/400\n",
            "1577/1577 - 3s - loss: 0.1975 - dense_34_loss: 0.0885 - dense_35_loss: 0.1090 - 3s/epoch - 2ms/step\n",
            "Epoch 189/400\n",
            "1577/1577 - 3s - loss: 0.1979 - dense_34_loss: 0.0885 - dense_35_loss: 0.1094 - 3s/epoch - 2ms/step\n",
            "Epoch 190/400\n",
            "1577/1577 - 3s - loss: 0.2031 - dense_34_loss: 0.0921 - dense_35_loss: 0.1110 - 3s/epoch - 2ms/step\n",
            "Epoch 191/400\n",
            "1577/1577 - 3s - loss: 0.1978 - dense_34_loss: 0.0889 - dense_35_loss: 0.1089 - 3s/epoch - 2ms/step\n",
            "Epoch 192/400\n",
            "1577/1577 - 3s - loss: 0.2009 - dense_34_loss: 0.0897 - dense_35_loss: 0.1112 - 3s/epoch - 2ms/step\n",
            "Epoch 193/400\n",
            "1577/1577 - 3s - loss: 0.1993 - dense_34_loss: 0.0884 - dense_35_loss: 0.1110 - 3s/epoch - 2ms/step\n",
            "Epoch 194/400\n",
            "1577/1577 - 3s - loss: 0.1980 - dense_34_loss: 0.0873 - dense_35_loss: 0.1107 - 3s/epoch - 2ms/step\n",
            "Epoch 195/400\n",
            "1577/1577 - 3s - loss: 0.1991 - dense_34_loss: 0.0886 - dense_35_loss: 0.1105 - 3s/epoch - 2ms/step\n",
            "Epoch 196/400\n",
            "1577/1577 - 3s - loss: 0.1986 - dense_34_loss: 0.0893 - dense_35_loss: 0.1093 - 3s/epoch - 2ms/step\n",
            "Epoch 197/400\n",
            "1577/1577 - 3s - loss: 0.1996 - dense_34_loss: 0.0900 - dense_35_loss: 0.1095 - 3s/epoch - 2ms/step\n",
            "Epoch 198/400\n",
            "1577/1577 - 3s - loss: 0.2000 - dense_34_loss: 0.0901 - dense_35_loss: 0.1099 - 3s/epoch - 2ms/step\n",
            "Epoch 199/400\n",
            "1577/1577 - 3s - loss: 0.2002 - dense_34_loss: 0.0895 - dense_35_loss: 0.1108 - 3s/epoch - 2ms/step\n",
            "Epoch 200/400\n",
            "1577/1577 - 3s - loss: 0.1994 - dense_34_loss: 0.0892 - dense_35_loss: 0.1103 - 3s/epoch - 2ms/step\n",
            "Epoch 201/400\n",
            "1577/1577 - 3s - loss: 0.1983 - dense_34_loss: 0.0878 - dense_35_loss: 0.1105 - 3s/epoch - 2ms/step\n",
            "Epoch 202/400\n",
            "1577/1577 - 3s - loss: 0.1973 - dense_34_loss: 0.0883 - dense_35_loss: 0.1090 - 3s/epoch - 2ms/step\n",
            "Epoch 203/400\n",
            "1577/1577 - 3s - loss: 0.2009 - dense_34_loss: 0.0897 - dense_35_loss: 0.1112 - 3s/epoch - 2ms/step\n",
            "Epoch 204/400\n",
            "1577/1577 - 3s - loss: 0.1996 - dense_34_loss: 0.0877 - dense_35_loss: 0.1118 - 3s/epoch - 2ms/step\n",
            "Epoch 205/400\n",
            "1577/1577 - 3s - loss: 0.1988 - dense_34_loss: 0.0879 - dense_35_loss: 0.1109 - 3s/epoch - 2ms/step\n",
            "Epoch 206/400\n",
            "1577/1577 - 3s - loss: 0.1994 - dense_34_loss: 0.0901 - dense_35_loss: 0.1094 - 3s/epoch - 2ms/step\n",
            "Epoch 207/400\n",
            "1577/1577 - 3s - loss: 0.1988 - dense_34_loss: 0.0899 - dense_35_loss: 0.1089 - 3s/epoch - 2ms/step\n",
            "Epoch 208/400\n",
            "1577/1577 - 3s - loss: 0.1995 - dense_34_loss: 0.0895 - dense_35_loss: 0.1101 - 3s/epoch - 2ms/step\n",
            "Epoch 209/400\n",
            "1577/1577 - 3s - loss: 0.1973 - dense_34_loss: 0.0879 - dense_35_loss: 0.1094 - 3s/epoch - 2ms/step\n",
            "Epoch 210/400\n",
            "1577/1577 - 3s - loss: 0.2003 - dense_34_loss: 0.0900 - dense_35_loss: 0.1104 - 3s/epoch - 2ms/step\n",
            "Epoch 211/400\n",
            "1577/1577 - 3s - loss: 0.1986 - dense_34_loss: 0.0882 - dense_35_loss: 0.1103 - 3s/epoch - 2ms/step\n",
            "Epoch 212/400\n",
            "1577/1577 - 3s - loss: 0.2012 - dense_34_loss: 0.0897 - dense_35_loss: 0.1115 - 3s/epoch - 2ms/step\n",
            "Epoch 213/400\n",
            "1577/1577 - 3s - loss: 0.1956 - dense_34_loss: 0.0869 - dense_35_loss: 0.1087 - 3s/epoch - 2ms/step\n",
            "Epoch 214/400\n",
            "1577/1577 - 3s - loss: 0.1976 - dense_34_loss: 0.0860 - dense_35_loss: 0.1117 - 3s/epoch - 2ms/step\n",
            "Epoch 215/400\n",
            "1577/1577 - 3s - loss: 0.1987 - dense_34_loss: 0.0891 - dense_35_loss: 0.1095 - 3s/epoch - 2ms/step\n",
            "Epoch 216/400\n",
            "1577/1577 - 3s - loss: 0.1999 - dense_34_loss: 0.0896 - dense_35_loss: 0.1103 - 3s/epoch - 2ms/step\n",
            "Epoch 217/400\n",
            "1577/1577 - 3s - loss: 0.1988 - dense_34_loss: 0.0888 - dense_35_loss: 0.1100 - 3s/epoch - 2ms/step\n",
            "Epoch 218/400\n",
            "1577/1577 - 3s - loss: 0.1993 - dense_34_loss: 0.0896 - dense_35_loss: 0.1097 - 3s/epoch - 2ms/step\n",
            "Epoch 219/400\n",
            "1577/1577 - 3s - loss: 0.1998 - dense_34_loss: 0.0888 - dense_35_loss: 0.1110 - 3s/epoch - 2ms/step\n",
            "Epoch 220/400\n",
            "1577/1577 - 3s - loss: 0.1988 - dense_34_loss: 0.0896 - dense_35_loss: 0.1092 - 3s/epoch - 2ms/step\n",
            "Epoch 221/400\n",
            "1577/1577 - 3s - loss: 0.1977 - dense_34_loss: 0.0877 - dense_35_loss: 0.1100 - 3s/epoch - 2ms/step\n",
            "Epoch 222/400\n",
            "1577/1577 - 3s - loss: 0.1958 - dense_34_loss: 0.0877 - dense_35_loss: 0.1082 - 3s/epoch - 2ms/step\n",
            "Epoch 223/400\n",
            "1577/1577 - 3s - loss: 0.1989 - dense_34_loss: 0.0885 - dense_35_loss: 0.1103 - 3s/epoch - 2ms/step\n",
            "Epoch 224/400\n",
            "1577/1577 - 3s - loss: 0.1989 - dense_34_loss: 0.0888 - dense_35_loss: 0.1101 - 3s/epoch - 2ms/step\n",
            "Epoch 225/400\n",
            "1577/1577 - 3s - loss: 0.2003 - dense_34_loss: 0.0897 - dense_35_loss: 0.1106 - 3s/epoch - 2ms/step\n",
            "Epoch 226/400\n",
            "1577/1577 - 3s - loss: 0.2004 - dense_34_loss: 0.0898 - dense_35_loss: 0.1106 - 3s/epoch - 2ms/step\n",
            "Epoch 227/400\n",
            "1577/1577 - 3s - loss: 0.1990 - dense_34_loss: 0.0896 - dense_35_loss: 0.1094 - 3s/epoch - 2ms/step\n",
            "Epoch 228/400\n",
            "1577/1577 - 3s - loss: 0.1998 - dense_34_loss: 0.0902 - dense_35_loss: 0.1096 - 3s/epoch - 2ms/step\n",
            "Epoch 229/400\n",
            "1577/1577 - 3s - loss: 0.1967 - dense_34_loss: 0.0873 - dense_35_loss: 0.1095 - 3s/epoch - 2ms/step\n",
            "Epoch 230/400\n",
            "1577/1577 - 3s - loss: 0.1979 - dense_34_loss: 0.0874 - dense_35_loss: 0.1105 - 3s/epoch - 2ms/step\n",
            "Epoch 231/400\n",
            "1577/1577 - 3s - loss: 0.1988 - dense_34_loss: 0.0901 - dense_35_loss: 0.1087 - 3s/epoch - 2ms/step\n",
            "Epoch 232/400\n",
            "1577/1577 - 3s - loss: 0.1996 - dense_34_loss: 0.0884 - dense_35_loss: 0.1112 - 3s/epoch - 2ms/step\n",
            "Epoch 233/400\n",
            "1577/1577 - 3s - loss: 0.1981 - dense_34_loss: 0.0882 - dense_35_loss: 0.1099 - 3s/epoch - 2ms/step\n",
            "Epoch 234/400\n",
            "1577/1577 - 3s - loss: 0.1983 - dense_34_loss: 0.0884 - dense_35_loss: 0.1099 - 3s/epoch - 2ms/step\n",
            "Epoch 235/400\n",
            "1577/1577 - 3s - loss: 0.1978 - dense_34_loss: 0.0884 - dense_35_loss: 0.1094 - 3s/epoch - 2ms/step\n",
            "Epoch 236/400\n",
            "1577/1577 - 3s - loss: 0.1998 - dense_34_loss: 0.0897 - dense_35_loss: 0.1101 - 3s/epoch - 2ms/step\n",
            "Epoch 237/400\n",
            "1577/1577 - 3s - loss: 0.1968 - dense_34_loss: 0.0872 - dense_35_loss: 0.1096 - 3s/epoch - 2ms/step\n",
            "Epoch 238/400\n",
            "1577/1577 - 3s - loss: 0.1960 - dense_34_loss: 0.0870 - dense_35_loss: 0.1090 - 3s/epoch - 2ms/step\n",
            "Epoch 239/400\n",
            "1577/1577 - 3s - loss: 0.1979 - dense_34_loss: 0.0885 - dense_35_loss: 0.1094 - 3s/epoch - 2ms/step\n",
            "Epoch 240/400\n",
            "1577/1577 - 3s - loss: 0.1989 - dense_34_loss: 0.0889 - dense_35_loss: 0.1100 - 3s/epoch - 2ms/step\n",
            "Epoch 241/400\n",
            "1577/1577 - 3s - loss: 0.1986 - dense_34_loss: 0.0879 - dense_35_loss: 0.1107 - 3s/epoch - 2ms/step\n",
            "Epoch 242/400\n",
            "1577/1577 - 3s - loss: 0.1977 - dense_34_loss: 0.0877 - dense_35_loss: 0.1100 - 3s/epoch - 2ms/step\n",
            "Epoch 243/400\n",
            "1577/1577 - 3s - loss: 0.1976 - dense_34_loss: 0.0882 - dense_35_loss: 0.1094 - 3s/epoch - 2ms/step\n",
            "Epoch 244/400\n",
            "1577/1577 - 3s - loss: 0.1956 - dense_34_loss: 0.0864 - dense_35_loss: 0.1092 - 3s/epoch - 2ms/step\n",
            "Epoch 245/400\n",
            "1577/1577 - 3s - loss: 0.1979 - dense_34_loss: 0.0896 - dense_35_loss: 0.1083 - 3s/epoch - 2ms/step\n",
            "Epoch 246/400\n",
            "1577/1577 - 3s - loss: 0.1986 - dense_34_loss: 0.0885 - dense_35_loss: 0.1101 - 3s/epoch - 2ms/step\n",
            "Epoch 247/400\n",
            "1577/1577 - 3s - loss: 0.1992 - dense_34_loss: 0.0891 - dense_35_loss: 0.1100 - 3s/epoch - 2ms/step\n",
            "Epoch 248/400\n",
            "1577/1577 - 3s - loss: 0.1991 - dense_34_loss: 0.0877 - dense_35_loss: 0.1113 - 3s/epoch - 2ms/step\n",
            "Epoch 249/400\n",
            "1577/1577 - 3s - loss: 0.1980 - dense_34_loss: 0.0881 - dense_35_loss: 0.1100 - 3s/epoch - 2ms/step\n",
            "Epoch 250/400\n",
            "1577/1577 - 3s - loss: 0.1979 - dense_34_loss: 0.0890 - dense_35_loss: 0.1088 - 3s/epoch - 2ms/step\n",
            "Epoch 251/400\n",
            "1577/1577 - 3s - loss: 0.1978 - dense_34_loss: 0.0876 - dense_35_loss: 0.1102 - 3s/epoch - 2ms/step\n",
            "Epoch 252/400\n",
            "1577/1577 - 3s - loss: 0.1980 - dense_34_loss: 0.0882 - dense_35_loss: 0.1098 - 3s/epoch - 2ms/step\n",
            "Epoch 253/400\n",
            "1577/1577 - 3s - loss: 0.1981 - dense_34_loss: 0.0875 - dense_35_loss: 0.1106 - 3s/epoch - 2ms/step\n",
            "Epoch 254/400\n",
            "1577/1577 - 3s - loss: 0.1970 - dense_34_loss: 0.0876 - dense_35_loss: 0.1094 - 3s/epoch - 2ms/step\n",
            "Epoch 255/400\n",
            "1577/1577 - 3s - loss: 0.1985 - dense_34_loss: 0.0874 - dense_35_loss: 0.1111 - 3s/epoch - 2ms/step\n",
            "Epoch 256/400\n",
            "1577/1577 - 3s - loss: 0.1977 - dense_34_loss: 0.0868 - dense_35_loss: 0.1110 - 3s/epoch - 2ms/step\n",
            "Epoch 257/400\n",
            "1577/1577 - 3s - loss: 0.1970 - dense_34_loss: 0.0879 - dense_35_loss: 0.1091 - 3s/epoch - 2ms/step\n",
            "Epoch 258/400\n",
            "1577/1577 - 3s - loss: 0.1986 - dense_34_loss: 0.0887 - dense_35_loss: 0.1099 - 3s/epoch - 2ms/step\n",
            "Epoch 259/400\n",
            "1577/1577 - 3s - loss: 0.1977 - dense_34_loss: 0.0882 - dense_35_loss: 0.1094 - 3s/epoch - 2ms/step\n",
            "Epoch 260/400\n",
            "1577/1577 - 3s - loss: 0.1980 - dense_34_loss: 0.0886 - dense_35_loss: 0.1094 - 3s/epoch - 2ms/step\n",
            "Epoch 261/400\n",
            "1577/1577 - 3s - loss: 0.1979 - dense_34_loss: 0.0884 - dense_35_loss: 0.1095 - 3s/epoch - 2ms/step\n",
            "Epoch 262/400\n",
            "1577/1577 - 3s - loss: 0.1977 - dense_34_loss: 0.0887 - dense_35_loss: 0.1090 - 3s/epoch - 2ms/step\n",
            "Epoch 263/400\n",
            "1577/1577 - 3s - loss: 0.1954 - dense_34_loss: 0.0855 - dense_35_loss: 0.1099 - 3s/epoch - 2ms/step\n",
            "Epoch 264/400\n",
            "1577/1577 - 3s - loss: 0.2007 - dense_34_loss: 0.0895 - dense_35_loss: 0.1112 - 3s/epoch - 2ms/step\n",
            "Epoch 265/400\n",
            "1577/1577 - 3s - loss: 0.1971 - dense_34_loss: 0.0877 - dense_35_loss: 0.1094 - 3s/epoch - 2ms/step\n",
            "Epoch 266/400\n",
            "1577/1577 - 3s - loss: 0.1955 - dense_34_loss: 0.0870 - dense_35_loss: 0.1085 - 3s/epoch - 2ms/step\n",
            "Epoch 267/400\n",
            "1577/1577 - 3s - loss: 0.1980 - dense_34_loss: 0.0879 - dense_35_loss: 0.1101 - 3s/epoch - 2ms/step\n",
            "Epoch 268/400\n",
            "1577/1577 - 3s - loss: 0.2006 - dense_34_loss: 0.0901 - dense_35_loss: 0.1105 - 3s/epoch - 2ms/step\n",
            "Epoch 269/400\n",
            "1577/1577 - 3s - loss: 0.1945 - dense_34_loss: 0.0851 - dense_35_loss: 0.1094 - 3s/epoch - 2ms/step\n",
            "Epoch 270/400\n",
            "1577/1577 - 3s - loss: 0.1998 - dense_34_loss: 0.0894 - dense_35_loss: 0.1105 - 3s/epoch - 2ms/step\n",
            "Epoch 271/400\n",
            "1577/1577 - 3s - loss: 0.1966 - dense_34_loss: 0.0884 - dense_35_loss: 0.1082 - 3s/epoch - 2ms/step\n",
            "Epoch 272/400\n",
            "1577/1577 - 3s - loss: 0.1989 - dense_34_loss: 0.0886 - dense_35_loss: 0.1103 - 3s/epoch - 2ms/step\n",
            "Epoch 273/400\n",
            "1577/1577 - 3s - loss: 0.1954 - dense_34_loss: 0.0862 - dense_35_loss: 0.1092 - 3s/epoch - 2ms/step\n",
            "Epoch 274/400\n",
            "1577/1577 - 3s - loss: 0.1977 - dense_34_loss: 0.0883 - dense_35_loss: 0.1093 - 3s/epoch - 2ms/step\n",
            "Epoch 275/400\n",
            "1577/1577 - 3s - loss: 0.1964 - dense_34_loss: 0.0867 - dense_35_loss: 0.1097 - 3s/epoch - 2ms/step\n",
            "Epoch 276/400\n",
            "1577/1577 - 3s - loss: 0.1985 - dense_34_loss: 0.0889 - dense_35_loss: 0.1096 - 3s/epoch - 2ms/step\n",
            "Epoch 277/400\n",
            "1577/1577 - 3s - loss: 0.1968 - dense_34_loss: 0.0872 - dense_35_loss: 0.1096 - 3s/epoch - 2ms/step\n",
            "Epoch 278/400\n",
            "1577/1577 - 3s - loss: 0.1978 - dense_34_loss: 0.0879 - dense_35_loss: 0.1099 - 3s/epoch - 2ms/step\n",
            "Epoch 279/400\n",
            "1577/1577 - 3s - loss: 0.1985 - dense_34_loss: 0.0880 - dense_35_loss: 0.1105 - 3s/epoch - 2ms/step\n",
            "Epoch 280/400\n",
            "1577/1577 - 3s - loss: 0.1987 - dense_34_loss: 0.0877 - dense_35_loss: 0.1109 - 3s/epoch - 2ms/step\n",
            "Epoch 281/400\n",
            "1577/1577 - 3s - loss: 0.1984 - dense_34_loss: 0.0890 - dense_35_loss: 0.1095 - 3s/epoch - 2ms/step\n",
            "Epoch 282/400\n",
            "1577/1577 - 3s - loss: 0.1958 - dense_34_loss: 0.0873 - dense_35_loss: 0.1085 - 3s/epoch - 2ms/step\n",
            "Epoch 283/400\n",
            "1577/1577 - 3s - loss: 0.1984 - dense_34_loss: 0.0881 - dense_35_loss: 0.1102 - 3s/epoch - 2ms/step\n",
            "Epoch 284/400\n",
            "1577/1577 - 3s - loss: 0.1975 - dense_34_loss: 0.0877 - dense_35_loss: 0.1098 - 3s/epoch - 2ms/step\n",
            "Epoch 285/400\n",
            "1577/1577 - 3s - loss: 0.1974 - dense_34_loss: 0.0882 - dense_35_loss: 0.1092 - 3s/epoch - 2ms/step\n",
            "Epoch 286/400\n",
            "1577/1577 - 3s - loss: 0.1964 - dense_34_loss: 0.0879 - dense_35_loss: 0.1085 - 3s/epoch - 2ms/step\n",
            "Epoch 287/400\n",
            "1577/1577 - 3s - loss: 0.1969 - dense_34_loss: 0.0878 - dense_35_loss: 0.1091 - 3s/epoch - 2ms/step\n",
            "Epoch 288/400\n",
            "1577/1577 - 3s - loss: 0.1951 - dense_34_loss: 0.0864 - dense_35_loss: 0.1087 - 3s/epoch - 2ms/step\n",
            "Epoch 289/400\n",
            "1577/1577 - 3s - loss: 0.1952 - dense_34_loss: 0.0870 - dense_35_loss: 0.1081 - 3s/epoch - 2ms/step\n",
            "Epoch 290/400\n",
            "1577/1577 - 3s - loss: 0.1987 - dense_34_loss: 0.0889 - dense_35_loss: 0.1098 - 3s/epoch - 2ms/step\n",
            "Epoch 291/400\n",
            "1577/1577 - 3s - loss: 0.2001 - dense_34_loss: 0.0898 - dense_35_loss: 0.1103 - 3s/epoch - 2ms/step\n",
            "Epoch 292/400\n",
            "1577/1577 - 3s - loss: 0.1974 - dense_34_loss: 0.0884 - dense_35_loss: 0.1090 - 3s/epoch - 2ms/step\n",
            "Epoch 293/400\n",
            "1577/1577 - 3s - loss: 0.1952 - dense_34_loss: 0.0878 - dense_35_loss: 0.1075 - 3s/epoch - 2ms/step\n",
            "Epoch 294/400\n",
            "1577/1577 - 3s - loss: 0.1990 - dense_34_loss: 0.0891 - dense_35_loss: 0.1099 - 3s/epoch - 2ms/step\n",
            "Epoch 295/400\n",
            "1577/1577 - 3s - loss: 0.1962 - dense_34_loss: 0.0882 - dense_35_loss: 0.1081 - 3s/epoch - 2ms/step\n",
            "Epoch 296/400\n",
            "1577/1577 - 3s - loss: 0.1959 - dense_34_loss: 0.0854 - dense_35_loss: 0.1105 - 3s/epoch - 2ms/step\n",
            "Epoch 297/400\n",
            "1577/1577 - 3s - loss: 0.1980 - dense_34_loss: 0.0890 - dense_35_loss: 0.1090 - 3s/epoch - 2ms/step\n",
            "Epoch 298/400\n",
            "1577/1577 - 3s - loss: 0.1971 - dense_34_loss: 0.0871 - dense_35_loss: 0.1100 - 3s/epoch - 2ms/step\n",
            "Epoch 299/400\n",
            "1577/1577 - 3s - loss: 0.1961 - dense_34_loss: 0.0870 - dense_35_loss: 0.1092 - 3s/epoch - 2ms/step\n",
            "Epoch 300/400\n",
            "1577/1577 - 3s - loss: 0.2004 - dense_34_loss: 0.0897 - dense_35_loss: 0.1107 - 3s/epoch - 2ms/step\n",
            "Epoch 301/400\n",
            "1577/1577 - 3s - loss: 0.1959 - dense_34_loss: 0.0882 - dense_35_loss: 0.1078 - 3s/epoch - 2ms/step\n",
            "Epoch 302/400\n",
            "1577/1577 - 3s - loss: 0.1964 - dense_34_loss: 0.0875 - dense_35_loss: 0.1089 - 3s/epoch - 2ms/step\n",
            "Epoch 303/400\n",
            "1577/1577 - 3s - loss: 0.1950 - dense_34_loss: 0.0859 - dense_35_loss: 0.1091 - 3s/epoch - 2ms/step\n",
            "Epoch 304/400\n",
            "1577/1577 - 3s - loss: 0.1981 - dense_34_loss: 0.0879 - dense_35_loss: 0.1102 - 3s/epoch - 2ms/step\n",
            "Epoch 305/400\n",
            "1577/1577 - 3s - loss: 0.1963 - dense_34_loss: 0.0873 - dense_35_loss: 0.1090 - 3s/epoch - 2ms/step\n",
            "Epoch 306/400\n",
            "1577/1577 - 3s - loss: 0.1951 - dense_34_loss: 0.0873 - dense_35_loss: 0.1078 - 3s/epoch - 2ms/step\n",
            "Epoch 307/400\n",
            "1577/1577 - 3s - loss: 0.1975 - dense_34_loss: 0.0876 - dense_35_loss: 0.1099 - 3s/epoch - 2ms/step\n",
            "Epoch 308/400\n",
            "1577/1577 - 3s - loss: 0.1985 - dense_34_loss: 0.0888 - dense_35_loss: 0.1097 - 3s/epoch - 2ms/step\n",
            "Epoch 309/400\n",
            "1577/1577 - 3s - loss: 0.1972 - dense_34_loss: 0.0878 - dense_35_loss: 0.1094 - 3s/epoch - 2ms/step\n",
            "Epoch 310/400\n",
            "1577/1577 - 3s - loss: 0.1962 - dense_34_loss: 0.0871 - dense_35_loss: 0.1091 - 3s/epoch - 2ms/step\n",
            "Epoch 311/400\n",
            "1577/1577 - 3s - loss: 0.1954 - dense_34_loss: 0.0856 - dense_35_loss: 0.1098 - 3s/epoch - 2ms/step\n",
            "Epoch 312/400\n",
            "1577/1577 - 3s - loss: 0.1974 - dense_34_loss: 0.0880 - dense_35_loss: 0.1095 - 3s/epoch - 2ms/step\n",
            "Epoch 313/400\n",
            "1577/1577 - 3s - loss: 0.1955 - dense_34_loss: 0.0866 - dense_35_loss: 0.1089 - 3s/epoch - 2ms/step\n",
            "Epoch 314/400\n",
            "1577/1577 - 3s - loss: 0.1990 - dense_34_loss: 0.0888 - dense_35_loss: 0.1102 - 3s/epoch - 2ms/step\n",
            "Epoch 315/400\n",
            "1577/1577 - 3s - loss: 0.1963 - dense_34_loss: 0.0879 - dense_35_loss: 0.1083 - 3s/epoch - 2ms/step\n",
            "Epoch 316/400\n",
            "1577/1577 - 3s - loss: 0.1991 - dense_34_loss: 0.0886 - dense_35_loss: 0.1105 - 3s/epoch - 2ms/step\n",
            "Epoch 317/400\n",
            "1577/1577 - 3s - loss: 0.1946 - dense_34_loss: 0.0852 - dense_35_loss: 0.1094 - 3s/epoch - 2ms/step\n",
            "Epoch 318/400\n",
            "1577/1577 - 3s - loss: 0.1963 - dense_34_loss: 0.0872 - dense_35_loss: 0.1091 - 3s/epoch - 2ms/step\n",
            "Epoch 319/400\n",
            "1577/1577 - 3s - loss: 0.1973 - dense_34_loss: 0.0876 - dense_35_loss: 0.1097 - 3s/epoch - 2ms/step\n",
            "Epoch 320/400\n",
            "1577/1577 - 3s - loss: 0.1967 - dense_34_loss: 0.0886 - dense_35_loss: 0.1081 - 3s/epoch - 2ms/step\n",
            "Epoch 321/400\n",
            "1577/1577 - 3s - loss: 0.1961 - dense_34_loss: 0.0878 - dense_35_loss: 0.1083 - 3s/epoch - 2ms/step\n",
            "Epoch 322/400\n",
            "1577/1577 - 3s - loss: 0.1972 - dense_34_loss: 0.0881 - dense_35_loss: 0.1091 - 3s/epoch - 2ms/step\n",
            "Epoch 323/400\n",
            "1577/1577 - 3s - loss: 0.1969 - dense_34_loss: 0.0874 - dense_35_loss: 0.1094 - 3s/epoch - 2ms/step\n",
            "Epoch 324/400\n",
            "1577/1577 - 3s - loss: 0.1969 - dense_34_loss: 0.0874 - dense_35_loss: 0.1094 - 3s/epoch - 2ms/step\n",
            "Epoch 325/400\n",
            "1577/1577 - 3s - loss: 0.1985 - dense_34_loss: 0.0883 - dense_35_loss: 0.1102 - 3s/epoch - 2ms/step\n",
            "Epoch 326/400\n",
            "1577/1577 - 3s - loss: 0.1982 - dense_34_loss: 0.0878 - dense_35_loss: 0.1104 - 3s/epoch - 2ms/step\n",
            "Epoch 327/400\n",
            "1577/1577 - 3s - loss: 0.1980 - dense_34_loss: 0.0885 - dense_35_loss: 0.1095 - 3s/epoch - 2ms/step\n",
            "Epoch 328/400\n",
            "1577/1577 - 3s - loss: 0.1928 - dense_34_loss: 0.0838 - dense_35_loss: 0.1090 - 3s/epoch - 2ms/step\n",
            "Epoch 329/400\n",
            "1577/1577 - 3s - loss: 0.1981 - dense_34_loss: 0.0885 - dense_35_loss: 0.1096 - 3s/epoch - 2ms/step\n",
            "Epoch 330/400\n",
            "1577/1577 - 3s - loss: 0.1948 - dense_34_loss: 0.0866 - dense_35_loss: 0.1081 - 3s/epoch - 2ms/step\n",
            "Epoch 331/400\n",
            "1577/1577 - 3s - loss: 0.1978 - dense_34_loss: 0.0876 - dense_35_loss: 0.1103 - 3s/epoch - 2ms/step\n",
            "Epoch 332/400\n",
            "1577/1577 - 3s - loss: 0.1977 - dense_34_loss: 0.0888 - dense_35_loss: 0.1090 - 3s/epoch - 2ms/step\n",
            "Epoch 333/400\n",
            "1577/1577 - 3s - loss: 0.1941 - dense_34_loss: 0.0862 - dense_35_loss: 0.1079 - 3s/epoch - 2ms/step\n",
            "Epoch 334/400\n",
            "1577/1577 - 3s - loss: 0.1973 - dense_34_loss: 0.0887 - dense_35_loss: 0.1086 - 3s/epoch - 2ms/step\n",
            "Epoch 335/400\n",
            "1577/1577 - 3s - loss: 0.1966 - dense_34_loss: 0.0875 - dense_35_loss: 0.1092 - 3s/epoch - 2ms/step\n",
            "Epoch 336/400\n",
            "1577/1577 - 3s - loss: 0.1967 - dense_34_loss: 0.0873 - dense_35_loss: 0.1094 - 3s/epoch - 2ms/step\n",
            "Epoch 337/400\n",
            "1577/1577 - 3s - loss: 0.1981 - dense_34_loss: 0.0880 - dense_35_loss: 0.1101 - 3s/epoch - 2ms/step\n",
            "Epoch 338/400\n",
            "1577/1577 - 3s - loss: 0.1980 - dense_34_loss: 0.0876 - dense_35_loss: 0.1103 - 3s/epoch - 2ms/step\n",
            "Epoch 339/400\n",
            "1577/1577 - 3s - loss: 0.1958 - dense_34_loss: 0.0864 - dense_35_loss: 0.1094 - 3s/epoch - 2ms/step\n",
            "Epoch 340/400\n",
            "1577/1577 - 3s - loss: 0.1961 - dense_34_loss: 0.0862 - dense_35_loss: 0.1099 - 3s/epoch - 2ms/step\n",
            "Epoch 341/400\n",
            "1577/1577 - 3s - loss: 0.1978 - dense_34_loss: 0.0880 - dense_35_loss: 0.1098 - 3s/epoch - 2ms/step\n",
            "Epoch 342/400\n",
            "1577/1577 - 3s - loss: 0.1955 - dense_34_loss: 0.0864 - dense_35_loss: 0.1091 - 3s/epoch - 2ms/step\n",
            "Epoch 343/400\n",
            "1577/1577 - 3s - loss: 0.2032 - dense_34_loss: 0.0919 - dense_35_loss: 0.1114 - 3s/epoch - 2ms/step\n",
            "Epoch 344/400\n",
            "1577/1577 - 3s - loss: 0.1951 - dense_34_loss: 0.0870 - dense_35_loss: 0.1080 - 3s/epoch - 2ms/step\n",
            "Epoch 345/400\n",
            "1577/1577 - 3s - loss: 0.1961 - dense_34_loss: 0.0864 - dense_35_loss: 0.1097 - 3s/epoch - 2ms/step\n",
            "Epoch 346/400\n",
            "1577/1577 - 5s - loss: 0.1972 - dense_34_loss: 0.0868 - dense_35_loss: 0.1104 - 5s/epoch - 3ms/step\n",
            "Epoch 347/400\n",
            "1577/1577 - 5s - loss: 0.1970 - dense_34_loss: 0.0867 - dense_35_loss: 0.1104 - 5s/epoch - 3ms/step\n",
            "Epoch 348/400\n",
            "1577/1577 - 4s - loss: 0.1981 - dense_34_loss: 0.0894 - dense_35_loss: 0.1088 - 4s/epoch - 3ms/step\n",
            "Epoch 349/400\n",
            "1577/1577 - 6s - loss: 0.1955 - dense_34_loss: 0.0859 - dense_35_loss: 0.1096 - 6s/epoch - 4ms/step\n",
            "Epoch 350/400\n",
            "1577/1577 - 4s - loss: 0.1959 - dense_34_loss: 0.0871 - dense_35_loss: 0.1089 - 4s/epoch - 3ms/step\n",
            "Epoch 351/400\n",
            "1577/1577 - 3s - loss: 0.1954 - dense_34_loss: 0.0871 - dense_35_loss: 0.1084 - 3s/epoch - 2ms/step\n",
            "Epoch 352/400\n",
            "1577/1577 - 4s - loss: 0.1975 - dense_34_loss: 0.0875 - dense_35_loss: 0.1100 - 4s/epoch - 3ms/step\n",
            "Epoch 353/400\n",
            "1577/1577 - 4s - loss: 0.1975 - dense_34_loss: 0.0875 - dense_35_loss: 0.1100 - 4s/epoch - 3ms/step\n",
            "Epoch 354/400\n",
            "1577/1577 - 5s - loss: 0.1970 - dense_34_loss: 0.0870 - dense_35_loss: 0.1100 - 5s/epoch - 3ms/step\n",
            "Epoch 355/400\n",
            "1577/1577 - 5s - loss: 0.1988 - dense_34_loss: 0.0881 - dense_35_loss: 0.1108 - 5s/epoch - 3ms/step\n",
            "Epoch 356/400\n",
            "1577/1577 - 6s - loss: 0.1942 - dense_34_loss: 0.0863 - dense_35_loss: 0.1078 - 6s/epoch - 4ms/step\n",
            "Epoch 357/400\n",
            "1577/1577 - 4s - loss: 0.1959 - dense_34_loss: 0.0873 - dense_35_loss: 0.1085 - 4s/epoch - 2ms/step\n",
            "Epoch 358/400\n",
            "1577/1577 - 6s - loss: 0.1950 - dense_34_loss: 0.0876 - dense_35_loss: 0.1075 - 6s/epoch - 4ms/step\n",
            "Epoch 359/400\n",
            "1577/1577 - 5s - loss: 0.1955 - dense_34_loss: 0.0858 - dense_35_loss: 0.1097 - 5s/epoch - 3ms/step\n",
            "Epoch 360/400\n",
            "1577/1577 - 5s - loss: 0.1970 - dense_34_loss: 0.0881 - dense_35_loss: 0.1089 - 5s/epoch - 3ms/step\n",
            "Epoch 361/400\n",
            "1577/1577 - 5s - loss: 0.1993 - dense_34_loss: 0.0887 - dense_35_loss: 0.1106 - 5s/epoch - 3ms/step\n",
            "Epoch 362/400\n",
            "1577/1577 - 3s - loss: 0.1967 - dense_34_loss: 0.0870 - dense_35_loss: 0.1097 - 3s/epoch - 2ms/step\n",
            "Epoch 363/400\n",
            "1577/1577 - 3s - loss: 0.1969 - dense_34_loss: 0.0877 - dense_35_loss: 0.1093 - 3s/epoch - 2ms/step\n",
            "Epoch 364/400\n",
            "1577/1577 - 3s - loss: 0.1989 - dense_34_loss: 0.0884 - dense_35_loss: 0.1105 - 3s/epoch - 2ms/step\n",
            "Epoch 365/400\n",
            "1577/1577 - 5s - loss: 0.1962 - dense_34_loss: 0.0871 - dense_35_loss: 0.1091 - 5s/epoch - 3ms/step\n",
            "Epoch 366/400\n",
            "1577/1577 - 5s - loss: 0.1985 - dense_34_loss: 0.0881 - dense_35_loss: 0.1104 - 5s/epoch - 3ms/step\n",
            "Epoch 367/400\n",
            "1577/1577 - 4s - loss: 0.1965 - dense_34_loss: 0.0875 - dense_35_loss: 0.1090 - 4s/epoch - 3ms/step\n",
            "Epoch 368/400\n",
            "1577/1577 - 5s - loss: 0.1988 - dense_34_loss: 0.0895 - dense_35_loss: 0.1093 - 5s/epoch - 3ms/step\n",
            "Epoch 369/400\n",
            "1577/1577 - 3s - loss: 0.1968 - dense_34_loss: 0.0875 - dense_35_loss: 0.1093 - 3s/epoch - 2ms/step\n",
            "Epoch 370/400\n",
            "1577/1577 - 3s - loss: 0.1944 - dense_34_loss: 0.0853 - dense_35_loss: 0.1091 - 3s/epoch - 2ms/step\n",
            "Epoch 371/400\n",
            "1577/1577 - 3s - loss: 0.1984 - dense_34_loss: 0.0891 - dense_35_loss: 0.1092 - 3s/epoch - 2ms/step\n",
            "Epoch 372/400\n",
            "1577/1577 - 3s - loss: 0.1955 - dense_34_loss: 0.0854 - dense_35_loss: 0.1102 - 3s/epoch - 2ms/step\n",
            "Epoch 373/400\n",
            "1577/1577 - 3s - loss: 0.1970 - dense_34_loss: 0.0880 - dense_35_loss: 0.1090 - 3s/epoch - 2ms/step\n",
            "Epoch 374/400\n",
            "1577/1577 - 3s - loss: 0.1960 - dense_34_loss: 0.0881 - dense_35_loss: 0.1079 - 3s/epoch - 2ms/step\n",
            "Epoch 375/400\n",
            "1577/1577 - 4s - loss: 0.1971 - dense_34_loss: 0.0879 - dense_35_loss: 0.1092 - 4s/epoch - 2ms/step\n",
            "Epoch 376/400\n",
            "1577/1577 - 3s - loss: 0.1967 - dense_34_loss: 0.0887 - dense_35_loss: 0.1080 - 3s/epoch - 2ms/step\n",
            "Epoch 377/400\n",
            "1577/1577 - 3s - loss: 0.1961 - dense_34_loss: 0.0875 - dense_35_loss: 0.1085 - 3s/epoch - 2ms/step\n",
            "Epoch 378/400\n",
            "1577/1577 - 4s - loss: 0.1969 - dense_34_loss: 0.0878 - dense_35_loss: 0.1091 - 4s/epoch - 2ms/step\n",
            "Epoch 379/400\n",
            "1577/1577 - 4s - loss: 0.1962 - dense_34_loss: 0.0861 - dense_35_loss: 0.1101 - 4s/epoch - 2ms/step\n",
            "Epoch 380/400\n",
            "1577/1577 - 3s - loss: 0.1947 - dense_34_loss: 0.0859 - dense_35_loss: 0.1089 - 3s/epoch - 2ms/step\n",
            "Epoch 381/400\n",
            "1577/1577 - 3s - loss: 0.1970 - dense_34_loss: 0.0886 - dense_35_loss: 0.1084 - 3s/epoch - 2ms/step\n",
            "Epoch 382/400\n",
            "1577/1577 - 3s - loss: 0.1964 - dense_34_loss: 0.0866 - dense_35_loss: 0.1098 - 3s/epoch - 2ms/step\n",
            "Epoch 383/400\n",
            "1577/1577 - 3s - loss: 0.1965 - dense_34_loss: 0.0875 - dense_35_loss: 0.1089 - 3s/epoch - 2ms/step\n",
            "Epoch 384/400\n",
            "1577/1577 - 3s - loss: 0.1965 - dense_34_loss: 0.0879 - dense_35_loss: 0.1086 - 3s/epoch - 2ms/step\n",
            "Epoch 385/400\n",
            "1577/1577 - 3s - loss: 0.1956 - dense_34_loss: 0.0857 - dense_35_loss: 0.1099 - 3s/epoch - 2ms/step\n",
            "Epoch 386/400\n",
            "1577/1577 - 3s - loss: 0.1959 - dense_34_loss: 0.0866 - dense_35_loss: 0.1093 - 3s/epoch - 2ms/step\n",
            "Epoch 387/400\n",
            "1577/1577 - 4s - loss: 0.1979 - dense_34_loss: 0.0885 - dense_35_loss: 0.1095 - 4s/epoch - 3ms/step\n",
            "Epoch 388/400\n",
            "1577/1577 - 6s - loss: 0.1985 - dense_34_loss: 0.0888 - dense_35_loss: 0.1097 - 6s/epoch - 4ms/step\n",
            "Epoch 389/400\n",
            "1577/1577 - 5s - loss: 0.1971 - dense_34_loss: 0.0892 - dense_35_loss: 0.1079 - 5s/epoch - 3ms/step\n",
            "Epoch 390/400\n",
            "1577/1577 - 5s - loss: 0.1951 - dense_34_loss: 0.0856 - dense_35_loss: 0.1096 - 5s/epoch - 3ms/step\n",
            "Epoch 391/400\n",
            "1577/1577 - 4s - loss: 0.1953 - dense_34_loss: 0.0868 - dense_35_loss: 0.1085 - 4s/epoch - 3ms/step\n",
            "Epoch 392/400\n",
            "1577/1577 - 6s - loss: 0.1980 - dense_34_loss: 0.0872 - dense_35_loss: 0.1109 - 6s/epoch - 3ms/step\n",
            "Epoch 393/400\n",
            "1577/1577 - 4s - loss: 0.1975 - dense_34_loss: 0.0867 - dense_35_loss: 0.1107 - 4s/epoch - 3ms/step\n",
            "Epoch 394/400\n",
            "1577/1577 - 5s - loss: 0.1990 - dense_34_loss: 0.0887 - dense_35_loss: 0.1102 - 5s/epoch - 3ms/step\n",
            "Epoch 395/400\n",
            "1577/1577 - 4s - loss: 0.1958 - dense_34_loss: 0.0861 - dense_35_loss: 0.1097 - 4s/epoch - 3ms/step\n",
            "Epoch 396/400\n",
            "1577/1577 - 3s - loss: 0.2003 - dense_34_loss: 0.0896 - dense_35_loss: 0.1107 - 3s/epoch - 2ms/step\n",
            "Epoch 397/400\n",
            "1577/1577 - 3s - loss: 0.1939 - dense_34_loss: 0.0861 - dense_35_loss: 0.1079 - 3s/epoch - 2ms/step\n",
            "Epoch 398/400\n",
            "1577/1577 - 3s - loss: 0.1950 - dense_34_loss: 0.0863 - dense_35_loss: 0.1087 - 3s/epoch - 2ms/step\n",
            "Epoch 399/400\n",
            "1577/1577 - 3s - loss: 0.1969 - dense_34_loss: 0.0886 - dense_35_loss: 0.1083 - 3s/epoch - 2ms/step\n",
            "Epoch 400/400\n",
            "1577/1577 - 3s - loss: 0.1983 - dense_34_loss: 0.0900 - dense_35_loss: 0.1083 - 3s/epoch - 2ms/step\n"
          ]
        },
        {
          "output_type": "execute_result",
          "data": {
            "text/plain": [
              "<keras.callbacks.History at 0x7fe21cc9cd50>"
            ]
          },
          "metadata": {},
          "execution_count": 226
        }
      ],
      "source": [
        "sep_y_train_data = np.hsplit(train[1], 2) # separate the y data into pieces to only provide 1 point as NN output\n",
        "model.fit(train[0], [sep_y_train_data[0], sep_y_train_data[1]], epochs=400, batch_size=1, verbose=2)"
      ]
    },
    {
      "cell_type": "code",
      "source": [
        "\n",
        "trainScore = model.evaluate(train[0], [sep_y_train_data[0], sep_y_train_data[1]], verbose=0)\n",
        "print('Train Score: %.2f MSE (%.2f RMSE)' % (trainScore[0], np.sqrt(trainScore[0])))\n",
        "\n",
        "sep_y_test_data = np.hsplit(test[1], 2)\n",
        "testScore = model.evaluate(test[0], [sep_y_test_data[0], sep_y_test_data[1]], verbose=0)\n",
        "print('Test Score: %.2f MSE (%.2f RMSE)' % (testScore[0], np.sqrt(testScore[0])))"
      ],
      "metadata": {
        "colab": {
          "base_uri": "https://localhost:8080/"
        },
        "id": "BqPlv1LBOx7C",
        "outputId": "81501cf3-4d2c-4958-a105-fb52f5b8c1f5"
      },
      "id": "BqPlv1LBOx7C",
      "execution_count": 227,
      "outputs": [
        {
          "output_type": "stream",
          "name": "stdout",
          "text": [
            "Train Score: 0.19 MSE (0.44 RMSE)\n",
            "Test Score: 0.16 MSE (0.40 RMSE)\n"
          ]
        }
      ]
    },
    {
      "cell_type": "code",
      "source": [
        "all_FDE = []\n",
        "plotting = True\n",
        "for idx, agent_id in enumerate(test_agent_ids):\n",
        "\n",
        "  seen_x = np.array(data[data['agent_id'] == agent_id].iloc[:5]['pos_x'])\n",
        "  seen_y = np.array(data[data['agent_id'] == agent_id].iloc[:5]['pos_y'])\n",
        "  unseen_x = np.array(data[data['agent_id'] == agent_id].iloc[5:10]['pos_x'])\n",
        "  unseen_y = np.array(data[data['agent_id'] == agent_id].iloc[5:10]['pos_y'])\n",
        "\n",
        "  rolling_x = np.array(seen_x)\n",
        "  rolling_y = np.array(seen_y)\n",
        "  for i in range(5):\n",
        "    seen_coordinates = np.column_stack((rolling_x, rolling_y))\n",
        "    pred_x, pred_y = model.predict(np.array([seen_coordinates]))\n",
        "\n",
        "    rolling_x = np.append(rolling_x[1:], [pred_x[0]])\n",
        "    rolling_y = np.append(rolling_y[1:], [pred_y[0]])\n",
        "  \n",
        "  FDE = np.sqrt((rolling_x[-1] - unseen_x[-1])**2 + (rolling_y[-1] - unseen_y[-1])**2)\n",
        "  all_FDE.append(FDE)\n",
        "  # plot data\n",
        "  if plotting and idx < 20:\n",
        "    plt.axes().set_aspect('equal')\n",
        "\n",
        "    plt.plot(np.append(seen_x, unseen_x), np.append(seen_y, unseen_y), color='g')\n",
        "    plt.scatter(np.append(seen_x, unseen_x), np.append(seen_y, unseen_y), color='g')\n",
        "\n",
        "    plt.plot(rolling_x, rolling_y, color='r')\n",
        "    plt.scatter(rolling_x, rolling_y, color='r')\n",
        "\n",
        "    plt.scatter(seen_x[0], seen_y[0], color='b')\n",
        "\n",
        "    plt.show()\n",
        "\n",
        "print(\"Average FDE: \", np.mean(all_FDE))"
      ],
      "metadata": {
        "colab": {
          "base_uri": "https://localhost:8080/",
          "height": 1000
        },
        "id": "wdLHm-yCNbJU",
        "outputId": "9c757cc3-2916-46ce-cfcb-b134b3f90cb8"
      },
      "id": "wdLHm-yCNbJU",
      "execution_count": 232,
      "outputs": [
        {
          "output_type": "display_data",
          "data": {
            "image/png": "[encoded data removed]",
            "text/plain": [
              "<Figure size 432x288 with 1 Axes>"
            ]
          },
          "metadata": {
            "needs_background": "light"
          }
        },
        {
          "output_type": "display_data",
          "data": {
            "image/png": "[encoded data removed]",
            "text/plain": [
              "<Figure size 432x288 with 1 Axes>"
            ]
          },
          "metadata": {
            "needs_background": "light"
          }
        },
        {
          "output_type": "display_data",
          "data": {
            "image/png": "[encoded data removed]",
            "text/plain": [
              "<Figure size 432x288 with 1 Axes>"
            ]
          },
          "metadata": {
            "needs_background": "light"
          }
        },
        {
          "output_type": "display_data",
          "data": {
            "image/png": "[encoded data removed]",
            "text/plain": [
              "<Figure size 432x288 with 1 Axes>"
            ]
          },
          "metadata": {
            "needs_background": "light"
          }
        },
        {
          "output_type": "display_data",
          "data": {
            "image/png": "[encoded data removed]",
            "text/plain": [
              "<Figure size 432x288 with 1 Axes>"
            ]
          },
          "metadata": {
            "needs_background": "light"
          }
        },
        {
          "output_type": "display_data",
          "data": {
            "image/png": "[encoded data removed]",
            "text/plain": [
              "<Figure size 432x288 with 1 Axes>"
            ]
          },
          "metadata": {
            "needs_background": "light"
          }
        },
        {
          "output_type": "display_data",
          "data": {
            "image/png": "[encoded data removed]",
            "text/plain": [
              "<Figure size 432x288 with 1 Axes>"
            ]
          },
          "metadata": {
            "needs_background": "light"
          }
        },
        {
          "output_type": "display_data",
          "data": {
            "image/png": "[encoded data removed]",
            "text/plain": [
              "<Figure size 432x288 with 1 Axes>"
            ]
          },
          "metadata": {
            "needs_background": "light"
          }
        },
        {
          "output_type": "display_data",
          "data": {
            "image/png": "[encoded data removed]",
            "text/plain": [
              "<Figure size 432x288 with 1 Axes>"
            ]
          },
          "metadata": {
            "needs_background": "light"
          }
        },
        {
          "output_type": "display_data",
          "data": {
            "image/png": "[encoded data removed]",
            "text/plain": [
              "<Figure size 432x288 with 1 Axes>"
            ]
          },
          "metadata": {
            "needs_background": "light"
          }
        },
        {
          "output_type": "display_data",
          "data": {
            "image/png": "[encoded data removed]",
            "text/plain": [
              "<Figure size 432x288 with 1 Axes>"
            ]
          },
          "metadata": {
            "needs_background": "light"
          }
        },
        {
          "output_type": "display_data",
          "data": {
            "image/png": "[encoded data removed]",
            "text/plain": [
              "<Figure size 432x288 with 1 Axes>"
            ]
          },
          "metadata": {
            "needs_background": "light"
          }
        },
        {
          "output_type": "display_data",
          "data": {
            "image/png": "[encoded data removed]",
            "text/plain": [
              "<Figure size 432x288 with 1 Axes>"
            ]
          },
          "metadata": {
            "needs_background": "light"
          }
        },
        {
          "output_type": "display_data",
          "data": {
            "image/png": "[encoded data removed]",
            "text/plain": [
              "<Figure size 432x288 with 1 Axes>"
            ]
          },
          "metadata": {
            "needs_background": "light"
          }
        },
        {
          "output_type": "display_data",
          "data": {
            "image/png": "[encoded data removed]",
            "text/plain": [
              "<Figure size 432x288 with 1 Axes>"
            ]
          },
          "metadata": {
            "needs_background": "light"
          }
        },
        {
          "output_type": "display_data",
          "data": {
            "image/png": "[encoded data removed]",
            "text/plain": [
              "<Figure size 432x288 with 1 Axes>"
            ]
          },
          "metadata": {
            "needs_background": "light"
          }
        },
        {
          "output_type": "display_data",
          "data": {
            "image/png": "[encoded data removed]",
            "text/plain": [
              "<Figure size 432x288 with 1 Axes>"
            ]
          },
          "metadata": {
            "needs_background": "light"
          }
        },
        {
          "output_type": "display_data",
          "data": {
            "image/png": "[encoded data removed]",
            "text/plain": [
              "<Figure size 432x288 with 1 Axes>"
            ]
          },
          "metadata": {
            "needs_background": "light"
          }
        },
        {
          "output_type": "display_data",
          "data": {
            "image/png": "[encoded data removed]",
            "text/plain": [
              "<Figure size 432x288 with 1 Axes>"
            ]
          },
          "metadata": {
            "needs_background": "light"
          }
        },
        {
          "output_type": "display_data",
          "data": {
            "image/png": "[encoded data removed]",
            "text/plain": [
              "<Figure size 432x288 with 1 Axes>"
            ]
          },
          "metadata": {
            "needs_background": "light"
          }
        },
        {
          "output_type": "stream",
          "name": "stdout",
          "text": [
            "Average FDE:  4.807483113024023\n"
          ]
        }
      ]
    },
    {
      "cell_type": "code",
      "source": [
        "abc = np.array([[1,2],[1,2],[1,2],[1,2],[1,2]], dtype='float32')\n",
        "abc_pred = model.predict(np.array([abc]))\n",
        "print(abc_pred)"
      ],
      "metadata": {
        "colab": {
          "base_uri": "https://localhost:8080/"
        },
        "id": "EfXHp8hbYQTe",
        "outputId": "71aa0ca4-0950-422e-e853-a14975aecdd7"
      },
      "id": "EfXHp8hbYQTe",
      "execution_count": 233,
      "outputs": [
        {
          "output_type": "stream",
          "name": "stdout",
          "text": [
            "[array([[0.31332532]], dtype=float32), array([[2.2487936]], dtype=float32)]\n"
          ]
        }
      ]
    },
    {
      "cell_type": "code",
      "source": [
        "test_preds = np.array(model.predict(test[0]))"
      ],
      "metadata": {
        "id": "ujJzj8OeZJTq"
      },
      "id": "ujJzj8OeZJTq",
      "execution_count": 234,
      "outputs": []
    },
    {
      "cell_type": "code",
      "source": [
        "np.save('NN_test_preds.npy', test_preds)"
      ],
      "metadata": {
        "id": "9WGACWBn3c8u"
      },
      "id": "9WGACWBn3c8u",
      "execution_count": 235,
      "outputs": []
    },
    {
      "cell_type": "code",
      "source": [
        ""
      ],
      "metadata": {
        "id": "e-hnN5tT4NM0"
      },
      "id": "e-hnN5tT4NM0",
      "execution_count": null,
      "outputs": []
    }
  ],
  "metadata": {
    "kernelspec": {
      "display_name": "Python 3",
      "language": "python",
      "name": "python3"
    },
    "language_info": {
      "codemirror_mode": {
        "name": "ipython",
        "version": 3
      },
      "file_extension": ".py",
      "mimetype": "text/x-python",
      "name": "python",
      "nbconvert_exporter": "python",
      "pygments_lexer": "ipython3",
      "version": "3.8.8"
    },
    "colab": {
      "name": "Edinburgh-NN-over-all-data.ipynb",
      "provenance": [],
      "collapsed_sections": [],
      "include_colab_link": true
    },
    "accelerator": "GPU"
  },
  "nbformat": 4,
  "nbformat_minor": 5
}