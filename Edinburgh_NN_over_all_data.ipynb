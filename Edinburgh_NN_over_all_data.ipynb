{
  "cells": [
    {
      "cell_type": "markdown",
      "metadata": {
        "id": "view-in-github",
        "colab_type": "text"
      },
      "source": [
        "<a href=\"https://colab.research.google.com/github/karlriis/trajectory-forecasting/blob/main/Edinburgh_NN_over_all_data.ipynb\" target=\"_parent\"><img src=\"https://colab.research.google.com/assets/colab-badge.svg\" alt=\"Open In Colab\"/></a>"
      ]
    },
    {
      "cell_type": "code",
      "execution_count": 1,
      "id": "be36544f",
      "metadata": {
        "colab": {
          "base_uri": "https://localhost:8080/"
        },
        "id": "be36544f",
        "outputId": "6d2474de-c555-4fd4-b703-23cdb3bfdf2b"
      },
      "outputs": [
        {
          "output_type": "stream",
          "name": "stdout",
          "text": [
            "Cloning into 'OpenTraj'...\n",
            "remote: Enumerating objects: 17725, done.\u001b[K\n",
            "remote: Counting objects: 100% (1526/1526), done.\u001b[K\n",
            "remote: Compressing objects: 100% (826/826), done.\u001b[K\n",
            "remote: Total 17725 (delta 807), reused 1355 (delta 683), pack-reused 16199\u001b[K\n",
            "Receiving objects: 100% (17725/17725), 390.77 MiB | 13.83 MiB/s, done.\n",
            "Resolving deltas: 100% (1245/1245), done.\n",
            "Checking out files: 100% (15796/15796), done.\n"
          ]
        }
      ],
      "source": [
        "! git clone https://github.com/crowdbotp/OpenTraj.git"
      ]
    },
    {
      "cell_type": "code",
      "execution_count": 2,
      "id": "d6adb30f",
      "metadata": {
        "colab": {
          "base_uri": "https://localhost:8080/"
        },
        "id": "d6adb30f",
        "outputId": "903c5f06-eafe-497d-9623-d3efbdc597d9"
      },
      "outputs": [
        {
          "output_type": "stream",
          "name": "stdout",
          "text": [
            "Collecting pykalman\n",
            "  Downloading pykalman-0.9.5.tar.gz (228 kB)\n",
            "\u001b[?25l\r\u001b[K     |█▍                              | 10 kB 16.2 MB/s eta 0:00:01\r\u001b[K     |██▉                             | 20 kB 8.9 MB/s eta 0:00:01\r\u001b[K     |████▎                           | 30 kB 7.5 MB/s eta 0:00:01\r\u001b[K     |█████▊                          | 40 kB 7.0 MB/s eta 0:00:01\r\u001b[K     |███████▏                        | 51 kB 3.9 MB/s eta 0:00:01\r\u001b[K     |████████▋                       | 61 kB 4.3 MB/s eta 0:00:01\r\u001b[K     |██████████                      | 71 kB 4.2 MB/s eta 0:00:01\r\u001b[K     |███████████▌                    | 81 kB 4.7 MB/s eta 0:00:01\r\u001b[K     |████████████▉                   | 92 kB 4.6 MB/s eta 0:00:01\r\u001b[K     |██████████████▎                 | 102 kB 4.0 MB/s eta 0:00:01\r\u001b[K     |███████████████▊                | 112 kB 4.0 MB/s eta 0:00:01\r\u001b[K     |█████████████████▏              | 122 kB 4.0 MB/s eta 0:00:01\r\u001b[K     |██████████████████▋             | 133 kB 4.0 MB/s eta 0:00:01\r\u001b[K     |████████████████████            | 143 kB 4.0 MB/s eta 0:00:01\r\u001b[K     |█████████████████████▌          | 153 kB 4.0 MB/s eta 0:00:01\r\u001b[K     |███████████████████████         | 163 kB 4.0 MB/s eta 0:00:01\r\u001b[K     |████████████████████████▍       | 174 kB 4.0 MB/s eta 0:00:01\r\u001b[K     |█████████████████████████▊      | 184 kB 4.0 MB/s eta 0:00:01\r\u001b[K     |███████████████████████████▏    | 194 kB 4.0 MB/s eta 0:00:01\r\u001b[K     |████████████████████████████▋   | 204 kB 4.0 MB/s eta 0:00:01\r\u001b[K     |██████████████████████████████  | 215 kB 4.0 MB/s eta 0:00:01\r\u001b[K     |███████████████████████████████▌| 225 kB 4.0 MB/s eta 0:00:01\r\u001b[K     |████████████████████████████████| 228 kB 4.0 MB/s \n",
            "\u001b[?25hBuilding wheels for collected packages: pykalman\n",
            "  Building wheel for pykalman (setup.py) ... \u001b[?25l\u001b[?25hdone\n",
            "  Created wheel for pykalman: filename=pykalman-0.9.5-py3-none-any.whl size=48461 sha256=be3a3d6fab0081c4ca364259acad5a9a72c84572abacdb32d236c5b2b682e58d\n",
            "  Stored in directory: /root/.cache/pip/wheels/6a/04/02/2dda6ea59c66d9e685affc8af3a31ad3a5d87b7311689efce6\n",
            "Successfully built pykalman\n",
            "Installing collected packages: pykalman\n",
            "Successfully installed pykalman-0.9.5\n"
          ]
        }
      ],
      "source": [
        "! pip install pykalman"
      ]
    },
    {
      "cell_type": "code",
      "execution_count": 3,
      "id": "43186641",
      "metadata": {
        "id": "43186641"
      },
      "outputs": [],
      "source": [
        "import os\n",
        "import sys\n",
        "sys.path.insert(0, os.path.abspath(os.getcwd()) + '/OpenTraj/opentraj/') # Anaconda python can't find the toolkit path without this for some reason\n",
        "\n",
        "from toolkit.loaders.loader_edinburgh import load_edinburgh\n",
        "from matplotlib import pyplot as plt\n",
        "import numpy as np\n",
        "np.random.seed(42)"
      ]
    },
    {
      "cell_type": "code",
      "execution_count": 4,
      "id": "63295479",
      "metadata": {
        "colab": {
          "base_uri": "https://localhost:8080/"
        },
        "id": "63295479",
        "outputId": "197d002e-4ee0-436c-da6b-bfc968acd7ab"
      },
      "outputs": [
        {
          "output_type": "stream",
          "name": "stderr",
          "text": [
            "/content/OpenTraj/opentraj/toolkit/loaders/loader_edinburgh.py:56: ParserWarning: Falling back to the 'python' engine because the 'c' engine does not support regex separators (separators > 1 char and different from '\\s+' are interpreted as regex); you can avoid this warning by specifying engine='python'.\n",
            "  data = pd.read_csv(file, sep=\"\\n|=\", header=None,index_col=None)\n"
          ]
        },
        {
          "output_type": "stream",
          "name": "stdout",
          "text": [
            "reading:./OpenTraj/datasets/Edinburgh/annotations/tracks.01Sep.txt\n"
          ]
        },
        {
          "output_type": "stream",
          "name": "stderr",
          "text": [
            "100%|██████████| 2342/2342 [06:02<00:00,  6.46it/s]\n"
          ]
        },
        {
          "output_type": "stream",
          "name": "stdout",
          "text": [
            "Warning! too big dt in [Edinburgh]\n",
            "finish\n"
          ]
        }
      ],
      "source": [
        "opentraj_root = './OpenTraj/'\n",
        "selected_day = '01Sep' # 3 days of data in total, ['01Jul', '01Aug', '01Sep']\n",
        "edinburgh_path = os.path.join(opentraj_root, 'datasets/Edinburgh/annotations', 'tracks.%s.txt' % selected_day)\n",
        "traj_dataset = load_edinburgh(edinburgh_path, title=\"Edinburgh\", \n",
        "                              use_kalman=False, scene_id=selected_day, sampling_rate=4)"
      ]
    },
    {
      "cell_type": "code",
      "execution_count": 5,
      "id": "d2107c6b",
      "metadata": {
        "id": "d2107c6b"
      },
      "outputs": [],
      "source": [
        "data = traj_dataset.data\n",
        "NUM_OF_STEPS = 5\n",
        "\n",
        "# Removing any agents which don't have enough steps for model fitting and predicting\n",
        "agent_ids = data.agent_id.unique()\n",
        "for agent_id in agent_ids:\n",
        "    if len(data[data.agent_id == agent_id]) < 2*NUM_OF_STEPS:\n",
        "        data = data[data.agent_id != agent_id]\n",
        "agent_ids = data.agent_id.unique()"
      ]
    },
    {
      "cell_type": "code",
      "execution_count": 6,
      "id": "9fb4ab4b",
      "metadata": {
        "id": "9fb4ab4b"
      },
      "outputs": [],
      "source": [
        "# 'Normalize' the data so that all trajectories will begin at x=0, y=0\n",
        "for agent_id in agent_ids:\n",
        "    first_x = data[data.agent_id == agent_id]['pos_x'].iloc[0]\n",
        "    first_y = data[data.agent_id == agent_id]['pos_y'].iloc[0]\n",
        "    \n",
        "    data.loc[data.agent_id == agent_id, 'pos_x'] = data[data.agent_id == agent_id]['pos_x'] - first_x\n",
        "    data.loc[data.agent_id == agent_id, 'pos_y'] = data[data.agent_id == agent_id]['pos_y'] - first_y"
      ]
    },
    {
      "cell_type": "code",
      "execution_count": 7,
      "id": "a7407d78",
      "metadata": {
        "id": "a7407d78"
      },
      "outputs": [],
      "source": [
        "# Select the useful columns from the dataset\n",
        "data = data[['index', 'agent_id', 'pos_x', 'pos_y']]"
      ]
    },
    {
      "cell_type": "code",
      "execution_count": 8,
      "id": "f7c7210a",
      "metadata": {
        "id": "f7c7210a"
      },
      "outputs": [],
      "source": [
        "from sklearn.model_selection import train_test_split\n",
        "train_agent_ids, test_agent_ids = train_test_split(agent_ids, test_size=0.2)"
      ]
    },
    {
      "cell_type": "code",
      "source": [
        "# Temporarily use less data to debug NN architecture issues\n",
        "train_agent_ids = train_agent_ids[:50]\n",
        "test_agent_ids = test_agent_ids[:10]"
      ],
      "metadata": {
        "id": "rXaXV1u-4g5G"
      },
      "id": "rXaXV1u-4g5G",
      "execution_count": 9,
      "outputs": []
    },
    {
      "cell_type": "markdown",
      "id": "7a69be78",
      "metadata": {
        "id": "7a69be78"
      },
      "source": [
        "### Helper functions"
      ]
    },
    {
      "cell_type": "code",
      "execution_count": 10,
      "id": "987ee314",
      "metadata": {
        "id": "987ee314"
      },
      "outputs": [],
      "source": [
        "def create_dataset(data, agent_ids):\n",
        "    dataX, dataY = [], []\n",
        "    for agent_id in agent_ids:\n",
        "        x = data[data['agent_id'] == agent_id].iloc[:5][['pos_x', 'pos_y']]\n",
        "        y = data[data['agent_id'] == agent_id].iloc[5][['pos_x', 'pos_y']]\n",
        "        dataX.append(x)\n",
        "        dataY.append(y)\n",
        "    return np.array(dataX), np.array(dataY)\n",
        "    \n",
        "def calculate_error(pred_x, pred_y, test_x, test_y):\n",
        "    \n",
        "    # FDE\n",
        "    final_displacement_x = pred_x[-1] - test_x[-1]\n",
        "    final_displacement_y = pred_y[-1] - test_y[-1]\n",
        "    FDE = np.sqrt(final_displacement_x**2 + final_displacement_y**2)\n",
        "    \n",
        "    # MSE\n",
        "    abs_error_x = pred_x - test_x\n",
        "    abs_error_y = pred_y - test_y\n",
        "    \n",
        "    MSE = np.mean(np.square(abs_error_x)) + np.mean(np.square(abs_error_y))\n",
        "    \n",
        "    return FDE, MSE"
      ]
    },
    {
      "cell_type": "code",
      "execution_count": 11,
      "id": "7f3fa56d",
      "metadata": {
        "id": "7f3fa56d"
      },
      "outputs": [],
      "source": [
        "train = create_dataset(data, train_agent_ids)\n",
        "test = create_dataset(data, test_agent_ids)"
      ]
    },
    {
      "cell_type": "code",
      "source": [
        "print(train[0][0]) # first train features\n",
        "print(train[1][0]) # first train label"
      ],
      "metadata": {
        "colab": {
          "base_uri": "https://localhost:8080/"
        },
        "id": "EtizX-Q9gBoA",
        "outputId": "f8e6d80a-dec2-4ebf-e6f3-68e48c13b606"
      },
      "id": "EtizX-Q9gBoA",
      "execution_count": 69,
      "outputs": [
        {
          "output_type": "stream",
          "name": "stdout",
          "text": [
            "(5, 2)\n",
            "[-0.92224352 -3.07036324]\n"
          ]
        }
      ]
    },
    {
      "cell_type": "code",
      "execution_count": 149,
      "id": "fc388252",
      "metadata": {
        "id": "fc388252"
      },
      "outputs": [],
      "source": [
        "from keras.models import Model\n",
        "from keras.layers import *    \n",
        "\n",
        "inp = Input((5,2))\n",
        "\n",
        "x = Flatten()(inp)\n",
        "\n",
        "x = Dense(16, activation='linear')(x)\n",
        "x = Dense(8, activation='linear')(x)\n",
        "\n",
        "out1 = Dense(1, activation='linear')(x)    \n",
        "out2 = Dense(1, activation='linear')(x)\n",
        "\n",
        "model = Model(inputs=inp, outputs=[out1,out2])\n",
        "model.compile(optimizer = 'adam', loss = 'mean_squared_error')"
      ]
    },
    {
      "cell_type": "code",
      "execution_count": 150,
      "id": "d2ad3d42",
      "metadata": {
        "colab": {
          "base_uri": "https://localhost:8080/"
        },
        "id": "d2ad3d42",
        "outputId": "b60d374d-04d0-4362-cf77-536b3bdc8bb5"
      },
      "outputs": [
        {
          "output_type": "stream",
          "name": "stdout",
          "text": [
            "Epoch 1/100\n",
            "50/50 - 1s - loss: 4.4818 - dense_26_loss: 1.4532 - dense_27_loss: 3.0287 - 698ms/epoch - 14ms/step\n",
            "Epoch 2/100\n",
            "50/50 - 0s - loss: 1.6580 - dense_26_loss: 0.8365 - dense_27_loss: 0.8215 - 116ms/epoch - 2ms/step\n",
            "Epoch 3/100\n",
            "50/50 - 0s - loss: 0.9942 - dense_26_loss: 0.5661 - dense_27_loss: 0.4282 - 126ms/epoch - 3ms/step\n",
            "Epoch 4/100\n",
            "50/50 - 0s - loss: 0.8025 - dense_26_loss: 0.4362 - dense_27_loss: 0.3664 - 113ms/epoch - 2ms/step\n",
            "Epoch 5/100\n",
            "50/50 - 0s - loss: 0.7303 - dense_26_loss: 0.4057 - dense_27_loss: 0.3246 - 116ms/epoch - 2ms/step\n",
            "Epoch 6/100\n",
            "50/50 - 0s - loss: 0.6746 - dense_26_loss: 0.3736 - dense_27_loss: 0.3011 - 130ms/epoch - 3ms/step\n",
            "Epoch 7/100\n",
            "50/50 - 0s - loss: 0.6255 - dense_26_loss: 0.3469 - dense_27_loss: 0.2786 - 114ms/epoch - 2ms/step\n",
            "Epoch 8/100\n",
            "50/50 - 0s - loss: 0.6023 - dense_26_loss: 0.3534 - dense_27_loss: 0.2490 - 115ms/epoch - 2ms/step\n",
            "Epoch 9/100\n",
            "50/50 - 0s - loss: 0.5437 - dense_26_loss: 0.3176 - dense_27_loss: 0.2261 - 113ms/epoch - 2ms/step\n",
            "Epoch 10/100\n",
            "50/50 - 0s - loss: 0.5396 - dense_26_loss: 0.3260 - dense_27_loss: 0.2136 - 133ms/epoch - 3ms/step\n",
            "Epoch 11/100\n",
            "50/50 - 0s - loss: 0.4892 - dense_26_loss: 0.2974 - dense_27_loss: 0.1917 - 117ms/epoch - 2ms/step\n",
            "Epoch 12/100\n",
            "50/50 - 0s - loss: 0.4716 - dense_26_loss: 0.2933 - dense_27_loss: 0.1784 - 117ms/epoch - 2ms/step\n",
            "Epoch 13/100\n",
            "50/50 - 0s - loss: 0.4297 - dense_26_loss: 0.2697 - dense_27_loss: 0.1600 - 116ms/epoch - 2ms/step\n",
            "Epoch 14/100\n",
            "50/50 - 0s - loss: 0.4048 - dense_26_loss: 0.2559 - dense_27_loss: 0.1489 - 124ms/epoch - 2ms/step\n",
            "Epoch 15/100\n",
            "50/50 - 0s - loss: 0.3858 - dense_26_loss: 0.2454 - dense_27_loss: 0.1404 - 115ms/epoch - 2ms/step\n",
            "Epoch 16/100\n",
            "50/50 - 0s - loss: 0.3682 - dense_26_loss: 0.2330 - dense_27_loss: 0.1352 - 121ms/epoch - 2ms/step\n",
            "Epoch 17/100\n",
            "50/50 - 0s - loss: 0.3491 - dense_26_loss: 0.2274 - dense_27_loss: 0.1217 - 111ms/epoch - 2ms/step\n",
            "Epoch 18/100\n",
            "50/50 - 0s - loss: 0.3394 - dense_26_loss: 0.2250 - dense_27_loss: 0.1144 - 113ms/epoch - 2ms/step\n",
            "Epoch 19/100\n",
            "50/50 - 0s - loss: 0.3299 - dense_26_loss: 0.2204 - dense_27_loss: 0.1095 - 112ms/epoch - 2ms/step\n",
            "Epoch 20/100\n",
            "50/50 - 0s - loss: 0.3186 - dense_26_loss: 0.2093 - dense_27_loss: 0.1093 - 118ms/epoch - 2ms/step\n",
            "Epoch 21/100\n",
            "50/50 - 0s - loss: 0.3054 - dense_26_loss: 0.2024 - dense_27_loss: 0.1030 - 112ms/epoch - 2ms/step\n",
            "Epoch 22/100\n",
            "50/50 - 0s - loss: 0.2956 - dense_26_loss: 0.1949 - dense_27_loss: 0.1007 - 134ms/epoch - 3ms/step\n",
            "Epoch 23/100\n",
            "50/50 - 0s - loss: 0.2897 - dense_26_loss: 0.1899 - dense_27_loss: 0.0998 - 113ms/epoch - 2ms/step\n",
            "Epoch 24/100\n",
            "50/50 - 0s - loss: 0.2730 - dense_26_loss: 0.1753 - dense_27_loss: 0.0976 - 110ms/epoch - 2ms/step\n",
            "Epoch 25/100\n",
            "50/50 - 0s - loss: 0.2796 - dense_26_loss: 0.1772 - dense_27_loss: 0.1024 - 111ms/epoch - 2ms/step\n",
            "Epoch 26/100\n",
            "50/50 - 0s - loss: 0.2671 - dense_26_loss: 0.1692 - dense_27_loss: 0.0979 - 109ms/epoch - 2ms/step\n",
            "Epoch 27/100\n",
            "50/50 - 0s - loss: 0.2612 - dense_26_loss: 0.1653 - dense_27_loss: 0.0959 - 113ms/epoch - 2ms/step\n",
            "Epoch 28/100\n",
            "50/50 - 0s - loss: 0.2581 - dense_26_loss: 0.1613 - dense_27_loss: 0.0968 - 114ms/epoch - 2ms/step\n",
            "Epoch 29/100\n",
            "50/50 - 0s - loss: 0.2575 - dense_26_loss: 0.1560 - dense_27_loss: 0.1015 - 107ms/epoch - 2ms/step\n",
            "Epoch 30/100\n",
            "50/50 - 0s - loss: 0.2487 - dense_26_loss: 0.1515 - dense_27_loss: 0.0972 - 113ms/epoch - 2ms/step\n",
            "Epoch 31/100\n",
            "50/50 - 0s - loss: 0.2410 - dense_26_loss: 0.1474 - dense_27_loss: 0.0936 - 121ms/epoch - 2ms/step\n",
            "Epoch 32/100\n",
            "50/50 - 0s - loss: 0.2554 - dense_26_loss: 0.1613 - dense_27_loss: 0.0941 - 112ms/epoch - 2ms/step\n",
            "Epoch 33/100\n",
            "50/50 - 0s - loss: 0.2391 - dense_26_loss: 0.1448 - dense_27_loss: 0.0943 - 113ms/epoch - 2ms/step\n",
            "Epoch 34/100\n",
            "50/50 - 0s - loss: 0.2485 - dense_26_loss: 0.1436 - dense_27_loss: 0.1049 - 114ms/epoch - 2ms/step\n",
            "Epoch 35/100\n",
            "50/50 - 0s - loss: 0.2383 - dense_26_loss: 0.1423 - dense_27_loss: 0.0960 - 118ms/epoch - 2ms/step\n",
            "Epoch 36/100\n",
            "50/50 - 0s - loss: 0.2370 - dense_26_loss: 0.1428 - dense_27_loss: 0.0943 - 110ms/epoch - 2ms/step\n",
            "Epoch 37/100\n",
            "50/50 - 0s - loss: 0.2396 - dense_26_loss: 0.1433 - dense_27_loss: 0.0963 - 114ms/epoch - 2ms/step\n",
            "Epoch 38/100\n",
            "50/50 - 0s - loss: 0.2286 - dense_26_loss: 0.1348 - dense_27_loss: 0.0938 - 115ms/epoch - 2ms/step\n",
            "Epoch 39/100\n",
            "50/50 - 0s - loss: 0.2332 - dense_26_loss: 0.1346 - dense_27_loss: 0.0986 - 130ms/epoch - 3ms/step\n",
            "Epoch 40/100\n",
            "50/50 - 0s - loss: 0.2372 - dense_26_loss: 0.1402 - dense_27_loss: 0.0970 - 118ms/epoch - 2ms/step\n",
            "Epoch 41/100\n",
            "50/50 - 0s - loss: 0.2283 - dense_26_loss: 0.1341 - dense_27_loss: 0.0943 - 110ms/epoch - 2ms/step\n",
            "Epoch 42/100\n",
            "50/50 - 0s - loss: 0.2308 - dense_26_loss: 0.1322 - dense_27_loss: 0.0986 - 116ms/epoch - 2ms/step\n",
            "Epoch 43/100\n",
            "50/50 - 0s - loss: 0.2279 - dense_26_loss: 0.1350 - dense_27_loss: 0.0929 - 111ms/epoch - 2ms/step\n",
            "Epoch 44/100\n",
            "50/50 - 0s - loss: 0.2243 - dense_26_loss: 0.1302 - dense_27_loss: 0.0940 - 107ms/epoch - 2ms/step\n",
            "Epoch 45/100\n",
            "50/50 - 0s - loss: 0.2283 - dense_26_loss: 0.1282 - dense_27_loss: 0.1000 - 116ms/epoch - 2ms/step\n",
            "Epoch 46/100\n",
            "50/50 - 0s - loss: 0.2362 - dense_26_loss: 0.1344 - dense_27_loss: 0.1018 - 111ms/epoch - 2ms/step\n",
            "Epoch 47/100\n",
            "50/50 - 0s - loss: 0.2288 - dense_26_loss: 0.1299 - dense_27_loss: 0.0990 - 123ms/epoch - 2ms/step\n",
            "Epoch 48/100\n",
            "50/50 - 0s - loss: 0.2337 - dense_26_loss: 0.1379 - dense_27_loss: 0.0958 - 122ms/epoch - 2ms/step\n",
            "Epoch 49/100\n",
            "50/50 - 0s - loss: 0.2312 - dense_26_loss: 0.1338 - dense_27_loss: 0.0974 - 116ms/epoch - 2ms/step\n",
            "Epoch 50/100\n",
            "50/50 - 0s - loss: 0.2313 - dense_26_loss: 0.1353 - dense_27_loss: 0.0960 - 114ms/epoch - 2ms/step\n",
            "Epoch 51/100\n",
            "50/50 - 0s - loss: 0.2182 - dense_26_loss: 0.1267 - dense_27_loss: 0.0915 - 113ms/epoch - 2ms/step\n",
            "Epoch 52/100\n",
            "50/50 - 0s - loss: 0.2269 - dense_26_loss: 0.1297 - dense_27_loss: 0.0972 - 118ms/epoch - 2ms/step\n",
            "Epoch 53/100\n",
            "50/50 - 0s - loss: 0.2251 - dense_26_loss: 0.1246 - dense_27_loss: 0.1005 - 109ms/epoch - 2ms/step\n",
            "Epoch 54/100\n",
            "50/50 - 0s - loss: 0.2337 - dense_26_loss: 0.1233 - dense_27_loss: 0.1104 - 113ms/epoch - 2ms/step\n",
            "Epoch 55/100\n",
            "50/50 - 0s - loss: 0.2286 - dense_26_loss: 0.1286 - dense_27_loss: 0.0999 - 134ms/epoch - 3ms/step\n",
            "Epoch 56/100\n",
            "50/50 - 0s - loss: 0.2170 - dense_26_loss: 0.1266 - dense_27_loss: 0.0904 - 112ms/epoch - 2ms/step\n",
            "Epoch 57/100\n",
            "50/50 - 0s - loss: 0.2079 - dense_26_loss: 0.1148 - dense_27_loss: 0.0931 - 112ms/epoch - 2ms/step\n",
            "Epoch 58/100\n",
            "50/50 - 0s - loss: 0.2170 - dense_26_loss: 0.1276 - dense_27_loss: 0.0894 - 131ms/epoch - 3ms/step\n",
            "Epoch 59/100\n",
            "50/50 - 0s - loss: 0.2131 - dense_26_loss: 0.1214 - dense_27_loss: 0.0917 - 115ms/epoch - 2ms/step\n",
            "Epoch 60/100\n",
            "50/50 - 0s - loss: 0.2211 - dense_26_loss: 0.1303 - dense_27_loss: 0.0908 - 121ms/epoch - 2ms/step\n",
            "Epoch 61/100\n",
            "50/50 - 0s - loss: 0.2186 - dense_26_loss: 0.1258 - dense_27_loss: 0.0929 - 111ms/epoch - 2ms/step\n",
            "Epoch 62/100\n",
            "50/50 - 0s - loss: 0.2195 - dense_26_loss: 0.1261 - dense_27_loss: 0.0935 - 116ms/epoch - 2ms/step\n",
            "Epoch 63/100\n",
            "50/50 - 0s - loss: 0.2147 - dense_26_loss: 0.1224 - dense_27_loss: 0.0923 - 121ms/epoch - 2ms/step\n",
            "Epoch 64/100\n",
            "50/50 - 0s - loss: 0.2224 - dense_26_loss: 0.1308 - dense_27_loss: 0.0916 - 116ms/epoch - 2ms/step\n",
            "Epoch 65/100\n",
            "50/50 - 0s - loss: 0.2189 - dense_26_loss: 0.1299 - dense_27_loss: 0.0889 - 119ms/epoch - 2ms/step\n",
            "Epoch 66/100\n",
            "50/50 - 0s - loss: 0.2193 - dense_26_loss: 0.1254 - dense_27_loss: 0.0939 - 112ms/epoch - 2ms/step\n",
            "Epoch 67/100\n",
            "50/50 - 0s - loss: 0.2114 - dense_26_loss: 0.1219 - dense_27_loss: 0.0895 - 110ms/epoch - 2ms/step\n",
            "Epoch 68/100\n",
            "50/50 - 0s - loss: 0.2461 - dense_26_loss: 0.1508 - dense_27_loss: 0.0953 - 109ms/epoch - 2ms/step\n",
            "Epoch 69/100\n",
            "50/50 - 0s - loss: 0.2185 - dense_26_loss: 0.1295 - dense_27_loss: 0.0890 - 117ms/epoch - 2ms/step\n",
            "Epoch 70/100\n",
            "50/50 - 0s - loss: 0.2211 - dense_26_loss: 0.1310 - dense_27_loss: 0.0901 - 110ms/epoch - 2ms/step\n",
            "Epoch 71/100\n",
            "50/50 - 0s - loss: 0.2048 - dense_26_loss: 0.1126 - dense_27_loss: 0.0922 - 117ms/epoch - 2ms/step\n",
            "Epoch 72/100\n",
            "50/50 - 0s - loss: 0.2196 - dense_26_loss: 0.1284 - dense_27_loss: 0.0911 - 121ms/epoch - 2ms/step\n",
            "Epoch 73/100\n",
            "50/50 - 0s - loss: 0.2220 - dense_26_loss: 0.1286 - dense_27_loss: 0.0933 - 113ms/epoch - 2ms/step\n",
            "Epoch 74/100\n",
            "50/50 - 0s - loss: 0.2346 - dense_26_loss: 0.1384 - dense_27_loss: 0.0962 - 115ms/epoch - 2ms/step\n",
            "Epoch 75/100\n",
            "50/50 - 0s - loss: 0.2123 - dense_26_loss: 0.1216 - dense_27_loss: 0.0907 - 111ms/epoch - 2ms/step\n",
            "Epoch 76/100\n",
            "50/50 - 0s - loss: 0.2185 - dense_26_loss: 0.1283 - dense_27_loss: 0.0902 - 118ms/epoch - 2ms/step\n",
            "Epoch 77/100\n",
            "50/50 - 0s - loss: 0.2159 - dense_26_loss: 0.1216 - dense_27_loss: 0.0943 - 116ms/epoch - 2ms/step\n",
            "Epoch 78/100\n",
            "50/50 - 0s - loss: 0.2185 - dense_26_loss: 0.1228 - dense_27_loss: 0.0957 - 115ms/epoch - 2ms/step\n",
            "Epoch 79/100\n",
            "50/50 - 0s - loss: 0.2069 - dense_26_loss: 0.1125 - dense_27_loss: 0.0945 - 122ms/epoch - 2ms/step\n",
            "Epoch 80/100\n",
            "50/50 - 0s - loss: 0.2132 - dense_26_loss: 0.1202 - dense_27_loss: 0.0929 - 124ms/epoch - 2ms/step\n",
            "Epoch 81/100\n",
            "50/50 - 0s - loss: 0.2205 - dense_26_loss: 0.1318 - dense_27_loss: 0.0888 - 109ms/epoch - 2ms/step\n",
            "Epoch 82/100\n",
            "50/50 - 0s - loss: 0.2354 - dense_26_loss: 0.1444 - dense_27_loss: 0.0910 - 118ms/epoch - 2ms/step\n",
            "Epoch 83/100\n",
            "50/50 - 0s - loss: 0.2111 - dense_26_loss: 0.1196 - dense_27_loss: 0.0915 - 113ms/epoch - 2ms/step\n",
            "Epoch 84/100\n",
            "50/50 - 0s - loss: 0.2171 - dense_26_loss: 0.1243 - dense_27_loss: 0.0928 - 116ms/epoch - 2ms/step\n",
            "Epoch 85/100\n",
            "50/50 - 0s - loss: 0.2057 - dense_26_loss: 0.1134 - dense_27_loss: 0.0924 - 111ms/epoch - 2ms/step\n",
            "Epoch 86/100\n",
            "50/50 - 0s - loss: 0.2123 - dense_26_loss: 0.1230 - dense_27_loss: 0.0893 - 115ms/epoch - 2ms/step\n",
            "Epoch 87/100\n",
            "50/50 - 0s - loss: 0.2188 - dense_26_loss: 0.1221 - dense_27_loss: 0.0968 - 114ms/epoch - 2ms/step\n",
            "Epoch 88/100\n",
            "50/50 - 0s - loss: 0.2151 - dense_26_loss: 0.1256 - dense_27_loss: 0.0895 - 127ms/epoch - 3ms/step\n",
            "Epoch 89/100\n",
            "50/50 - 0s - loss: 0.2098 - dense_26_loss: 0.1189 - dense_27_loss: 0.0909 - 120ms/epoch - 2ms/step\n",
            "Epoch 90/100\n",
            "50/50 - 0s - loss: 0.2103 - dense_26_loss: 0.1176 - dense_27_loss: 0.0927 - 119ms/epoch - 2ms/step\n",
            "Epoch 91/100\n",
            "50/50 - 0s - loss: 0.2182 - dense_26_loss: 0.1251 - dense_27_loss: 0.0932 - 114ms/epoch - 2ms/step\n",
            "Epoch 92/100\n",
            "50/50 - 0s - loss: 0.2057 - dense_26_loss: 0.1146 - dense_27_loss: 0.0910 - 122ms/epoch - 2ms/step\n",
            "Epoch 93/100\n",
            "50/50 - 0s - loss: 0.2319 - dense_26_loss: 0.1403 - dense_27_loss: 0.0916 - 113ms/epoch - 2ms/step\n",
            "Epoch 94/100\n",
            "50/50 - 0s - loss: 0.2111 - dense_26_loss: 0.1225 - dense_27_loss: 0.0886 - 137ms/epoch - 3ms/step\n",
            "Epoch 95/100\n",
            "50/50 - 0s - loss: 0.2263 - dense_26_loss: 0.1342 - dense_27_loss: 0.0921 - 200ms/epoch - 4ms/step\n",
            "Epoch 96/100\n",
            "50/50 - 0s - loss: 0.2063 - dense_26_loss: 0.1170 - dense_27_loss: 0.0894 - 198ms/epoch - 4ms/step\n",
            "Epoch 97/100\n",
            "50/50 - 0s - loss: 0.2285 - dense_26_loss: 0.1366 - dense_27_loss: 0.0918 - 182ms/epoch - 4ms/step\n",
            "Epoch 98/100\n",
            "50/50 - 0s - loss: 0.2126 - dense_26_loss: 0.1216 - dense_27_loss: 0.0910 - 127ms/epoch - 3ms/step\n",
            "Epoch 99/100\n",
            "50/50 - 0s - loss: 0.2105 - dense_26_loss: 0.1195 - dense_27_loss: 0.0910 - 110ms/epoch - 2ms/step\n",
            "Epoch 100/100\n",
            "50/50 - 0s - loss: 0.2049 - dense_26_loss: 0.1138 - dense_27_loss: 0.0911 - 116ms/epoch - 2ms/step\n"
          ]
        },
        {
          "output_type": "execute_result",
          "data": {
            "text/plain": [
              "<keras.callbacks.History at 0x7fe21d3eb6d0>"
            ]
          },
          "metadata": {},
          "execution_count": 150
        }
      ],
      "source": [
        "sep_y_train_data = np.hsplit(train[1], 2) # separate the y data into pieces to only provide 1 point as NN output\n",
        "model.fit(train[0], [sep_y_train_data[0], sep_y_train_data[1]], epochs=100, batch_size=1, verbose=2)"
      ]
    },
    {
      "cell_type": "code",
      "source": [
        "\n",
        "trainScore = model.evaluate(train[0], [sep_y_train_data[0], sep_y_train_data[1]], verbose=0)\n",
        "print('Train Score: %.2f MSE (%.2f RMSE)' % (trainScore[0], np.sqrt(trainScore[0])))\n",
        "\n",
        "sep_y_test_data = np.hsplit(test[1], 2)\n",
        "testScore = model.evaluate(test[0], [sep_y_test_data[0], sep_y_test_data[1]], verbose=0)\n",
        "print('Test Score: %.2f MSE (%.2f RMSE)' % (testScore[0], np.sqrt(testScore[0])))"
      ],
      "metadata": {
        "colab": {
          "base_uri": "https://localhost:8080/"
        },
        "id": "BqPlv1LBOx7C",
        "outputId": "f6bae342-eb0a-43c9-ec3c-b7d2e27a195e"
      },
      "id": "BqPlv1LBOx7C",
      "execution_count": 151,
      "outputs": [
        {
          "output_type": "stream",
          "name": "stdout",
          "text": [
            "Train Score: 0.19 MSE (0.44 RMSE)\n",
            "Test Score: 0.26 MSE (0.51 RMSE)\n"
          ]
        }
      ]
    },
    {
      "cell_type": "code",
      "source": [
        "trainPredict = model.predict(train[0])\n",
        "testPredict = model.predict(test[0])"
      ],
      "metadata": {
        "id": "iBVRq3LbVqeU"
      },
      "id": "iBVRq3LbVqeU",
      "execution_count": 152,
      "outputs": []
    },
    {
      "cell_type": "code",
      "source": [
        "print(train[0][0])\n",
        "asd = model.predict(np.array([train[0][0]]))\n",
        "print(asd)"
      ],
      "metadata": {
        "colab": {
          "base_uri": "https://localhost:8080/"
        },
        "id": "T59lRUw0qTGo",
        "outputId": "bccebb9f-d3fb-413d-a581-065348bcc098"
      },
      "id": "T59lRUw0qTGo",
      "execution_count": 155,
      "outputs": [
        {
          "output_type": "stream",
          "name": "stdout",
          "text": [
            "[[ 0.          0.        ]\n",
            " [-0.0221581  -0.49772777]\n",
            " [-0.25798153 -1.38352893]\n",
            " [-0.45490984 -1.94707063]\n",
            " [-0.67965422 -2.5840079 ]]\n",
            "[array([[-0.73646647]], dtype=float32), array([[-3.0143898]], dtype=float32)]\n"
          ]
        }
      ]
    },
    {
      "cell_type": "code",
      "source": [
        "for agent_id in test_agent_ids[:20]:\n",
        "  seen_x = data[data['agent_id'] == agent_id].iloc[:5]['pos_x']\n",
        "  seen_y = data[data['agent_id'] == agent_id].iloc[:5]['pos_y']\n",
        "  unseen_x = data[data['agent_id'] == agent_id].iloc[5:10]['pos_x']\n",
        "  unseen_y = data[data['agent_id'] == agent_id].iloc[5:10]['pos_y']\n",
        "\n",
        "  rolling_x = np.array(seen_x)\n",
        "  rolling_y = np.array(seen_y)\n",
        "  for i in range(5):\n",
        "    seen_coordinates = np.column_stack((rolling_x, rolling_y))\n",
        "    pred_x, pred_y = model.predict(np.array([seen_coordinates]))\n",
        "\n",
        "    rolling_x = np.append(rolling_x[1:], [pred_x[0]])\n",
        "    rolling_y = np.append(rolling_y[1:], [pred_y[0]])\n",
        "  \n",
        "  plt.plot(np.append(seen_x, unseen_x), np.append(seen_y, unseen_y), color='g')\n",
        "  plt.scatter(np.append(seen_x, unseen_x), np.append(seen_y, unseen_y), color='g')\n",
        "\n",
        "  plt.plot(rolling_x, rolling_y, color='r')\n",
        "  plt.scatter(rolling_x, rolling_y, color='r')\n",
        "\n",
        "  plt.show()\n",
        "  break"
      ],
      "metadata": {
        "colab": {
          "base_uri": "https://localhost:8080/",
          "height": 265
        },
        "id": "wdLHm-yCNbJU",
        "outputId": "ff9b6e54-642c-4484-c62e-c57c5d4d4da0"
      },
      "id": "wdLHm-yCNbJU",
      "execution_count": 188,
      "outputs": [
        {
          "output_type": "display_data",
          "data": {
            "image/png": "[encoded data removed]",
            "text/plain": [
              "<Figure size 432x288 with 1 Axes>"
            ]
          },
          "metadata": {
            "needs_background": "light"
          }
        }
      ]
    },
    {
      "cell_type": "code",
      "source": [
        "abc = np.array([[1,2],[1,2],[1,2],[1,2],[1,2]], dtype='float32')\n",
        "abc_pred = model.predict(np.array([abc]))\n",
        "print(abc_pred)"
      ],
      "metadata": {
        "colab": {
          "base_uri": "https://localhost:8080/"
        },
        "id": "EfXHp8hbYQTe",
        "outputId": "e86f77c4-6a60-4ee6-b294-ad122f188a76"
      },
      "id": "EfXHp8hbYQTe",
      "execution_count": 179,
      "outputs": [
        {
          "output_type": "stream",
          "name": "stdout",
          "text": [
            "[array([[-1.8019186]], dtype=float32), array([[1.0680474]], dtype=float32)]\n"
          ]
        }
      ]
    },
    {
      "cell_type": "code",
      "source": [
        ""
      ],
      "metadata": {
        "id": "ujJzj8OeZJTq"
      },
      "id": "ujJzj8OeZJTq",
      "execution_count": null,
      "outputs": []
    }
  ],
  "metadata": {
    "kernelspec": {
      "display_name": "Python 3",
      "language": "python",
      "name": "python3"
    },
    "language_info": {
      "codemirror_mode": {
        "name": "ipython",
        "version": 3
      },
      "file_extension": ".py",
      "mimetype": "text/x-python",
      "name": "python",
      "nbconvert_exporter": "python",
      "pygments_lexer": "ipython3",
      "version": "3.8.8"
    },
    "colab": {
      "name": "Edinburgh-NN-over-all-data.ipynb",
      "provenance": [],
      "collapsed_sections": [],
      "include_colab_link": true
    },
    "accelerator": "GPU"
  },
  "nbformat": 4,
  "nbformat_minor": 5
}