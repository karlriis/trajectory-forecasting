{
 "cells": [
  {
   "cell_type": "code",
   "execution_count": 4,
   "id": "8e53c794-6b8c-4df3-801a-3d578061b913",
   "metadata": {},
   "outputs": [],
   "source": [
    "import os\n",
    "import sys\n",
    "sys.path.insert(0, os.path.abspath(os.getcwd()) + '/OpenTraj/opentraj/') # Anaconda python can't find the toolkit path without this for some reason\n",
    "import numpy as np"
   ]
  },
  {
   "cell_type": "markdown",
   "id": "185a6f2a-caf4-4356-a837-1d4cc0e07a7c",
   "metadata": {},
   "source": [
    "### Edinburgh"
   ]
  },
  {
   "cell_type": "code",
   "execution_count": null,
   "id": "b8ceba26-71ec-44b6-8c08-7a7cce9a68e6",
   "metadata": {},
   "outputs": [],
   "source": [
    "from toolkit.loaders.loader_edinburgh import load_edinburgh\n",
    "opentraj_root = './OpenTraj/'\n",
    "selected_day = '01Sep' # 3 days of data in total, ['01Jul', '01Aug', '01Sep']\n",
    "edinburgh_path = os.path.join(opentraj_root, 'datasets/Edinburgh/annotations', 'tracks.%s.txt' % selected_day)\n",
    "traj_dataset = load_edinburgh(edinburgh_path, title=\"Edinburgh\", \n",
    "                              use_kalman=False, scene_id=selected_day, sampling_rate=9)\n",
    "data = traj_dataset.data"
   ]
  },
  {
   "cell_type": "markdown",
   "id": "89a004f1-c662-4946-a377-02e8ec4b3041",
   "metadata": {},
   "source": [
    "### ETH"
   ]
  },
  {
   "cell_type": "code",
   "execution_count": 1,
   "id": "6e13e3bd-ce21-4847-819b-3ec6a8d2a6a7",
   "metadata": {},
   "outputs": [],
   "source": [
    "### ETH seq"
   ]
  },
  {
   "cell_type": "code",
   "execution_count": 107,
   "id": "42284d23-ae61-4298-95d9-b85455d1913d",
   "metadata": {},
   "outputs": [],
   "source": [
    "from toolkit.loaders.loader_eth import load_eth\n",
    "traj_dataset = load_eth(\"OpenTraj/datasets/ETH/seq_eth/obsmat.txt\", sampling_rate=4)\n",
    "data = traj_dataset.data\n",
    "\n",
    "num_steps=5"
   ]
  },
  {
   "cell_type": "code",
   "execution_count": 108,
   "id": "1c361bcf-40a9-4191-8cbd-ac7402bee120",
   "metadata": {},
   "outputs": [],
   "source": [
    "data = data[data['label']=='pedestrian']"
   ]
  },
  {
   "cell_type": "code",
   "execution_count": 109,
   "id": "9f99adc8-d72f-4db6-949b-34dd0fa23f3a",
   "metadata": {},
   "outputs": [],
   "source": [
    "agent_ids = data.agent_id.unique()\n",
    "for agent_id in agent_ids:\n",
    "    if len(data[data.agent_id == agent_id]) < 2 * num_steps:\n",
    "        data = data[data.agent_id != agent_id]\n",
    "agent_ids = data.agent_id.unique()\n",
    "\n",
    "\n",
    "for agent_id in agent_ids:\n",
    "    first_x = data[data.agent_id == agent_id]['pos_x'].iloc[0]\n",
    "    first_y = data[data.agent_id == agent_id]['pos_y'].iloc[0]\n",
    "\n",
    "    # 'Normalize' the data so that all trajectories will begin at x=0, y=0\n",
    "    data.loc[data.agent_id == agent_id, 'pos_x'] = data[data.agent_id == agent_id]['pos_x'] - first_x\n",
    "    data.loc[data.agent_id == agent_id, 'pos_y'] = data[data.agent_id == agent_id]['pos_y'] - first_y\n",
    "    # Calculate own velocities so that they don't depend on sampling rate\n",
    "    data.loc[data.agent_id == agent_id, 'vel_x'] = data[data.agent_id == agent_id]['pos_x'].diff()\n",
    "    data.loc[data.agent_id == agent_id, 'vel_y'] = data[data.agent_id == agent_id]['pos_y'].diff()"
   ]
  },
  {
   "cell_type": "code",
   "execution_count": 2,
   "id": "6c08806b-a988-4b53-822f-083e6e3b663e",
   "metadata": {},
   "outputs": [],
   "source": [
    "### seq_hotel"
   ]
  },
  {
   "cell_type": "code",
   "execution_count": 8,
   "id": "9d4905f7-a399-49ea-a7ce-419fff389ae1",
   "metadata": {},
   "outputs": [
    {
     "name": "stdout",
     "output_type": "stream",
     "text": [
      "Empty DataFrame\n",
      "Columns: [index, frame_id, agent_id, pos_x, pos_y, vel_x, vel_y, scene_id, label, timestamp]\n",
      "Index: []\n"
     ]
    }
   ],
   "source": [
    "from toolkit.loaders.loader_eth import load_eth\n",
    "traj_dataset = load_eth(\"OpenTraj/datasets/ETH/seq_hotel/obsmat.txt\", sampling_rate=4)\n",
    "print(traj_dataset.data)\n",
    "\n",
    "num_steps=5"
   ]
  },
  {
   "cell_type": "code",
   "execution_count": 6,
   "id": "1ee21421-053b-4960-8f1f-0aa56cd3aaef",
   "metadata": {},
   "outputs": [
    {
     "name": "stdout",
     "output_type": "stream",
     "text": [
      "Empty DataFrame\n",
      "Columns: [index, frame_id, agent_id, pos_x, pos_y, vel_x, vel_y, scene_id, label, timestamp]\n",
      "Index: []\n"
     ]
    }
   ],
   "source": [
    "print(data)"
   ]
  },
  {
   "cell_type": "markdown",
   "id": "68d15723-17f5-4f19-9d28-86063318dacb",
   "metadata": {},
   "source": [
    "### UCY"
   ]
  },
  {
   "cell_type": "code",
   "execution_count": 10,
   "id": "8bef0151-2dd5-4f79-8e94-536b1ea6dcd8",
   "metadata": {},
   "outputs": [],
   "source": [
    "import os\n",
    "from toolkit.loaders.loader_crowds import load_crowds\n",
    "# fixme: replace OPENTRAJ_ROOT with the address to root folder of OpenTraj\n",
    "OPENTRAJ_ROOT = './OpenTraj/'\n",
    "zara01_annot = os.path.join(OPENTRAJ_ROOT, 'datasets/UCY/zara01/annotation.vsp')\n",
    "zara01_H_file = os.path.join(OPENTRAJ_ROOT, 'datasets/UCY/zara01/H.txt')\n",
    "traj_dataset = load_crowds(zara01_annot, use_kalman=False, homog_file=zara01_H_file)"
   ]
  },
  {
   "cell_type": "code",
   "execution_count": 11,
   "id": "2dea6f21-a6b8-4614-98bc-b8da2c84ba9f",
   "metadata": {},
   "outputs": [
    {
     "name": "stdout",
     "output_type": "stream",
     "text": [
      "      frame_id  agent_id      pos_x     pos_y  scene_id       label  \\\n",
      "0           10         0   1.230339  2.622447         0  pedestrian   \n",
      "1           20         0   1.863678  2.649175         0  pedestrian   \n",
      "2           30         0   2.483173  2.693372         0  pedestrian   \n",
      "3           40         0   3.088825  2.755038         0  pedestrian   \n",
      "4           50         0   3.694478  2.816704         0  pedestrian   \n",
      "...        ...       ...        ...       ...       ...         ...   \n",
      "4981      8970       147  15.744374  5.688536         0  pedestrian   \n",
      "4982      8980       147  15.860835  5.635239         0  pedestrian   \n",
      "4983      8990       147  16.211599  5.474385         0  pedestrian   \n",
      "4984      9000       147  16.562362  5.313531         0  pedestrian   \n",
      "4985      9010       147  16.913126  5.152677         0  pedestrian   \n",
      "\n",
      "      timestamp     vel_x     vel_y  \n",
      "0           0.4  1.583348  0.066819  \n",
      "1           0.8  1.583348  0.066819  \n",
      "2           1.2  1.548739  0.110492  \n",
      "3           1.6  1.514130  0.154166  \n",
      "4           2.0  1.514130  0.154166  \n",
      "...         ...       ...       ...  \n",
      "4981      358.8  0.040115 -0.018002  \n",
      "4982      359.2  0.291153 -0.133242  \n",
      "4983      359.6  0.876909 -0.402135  \n",
      "4984      360.0  0.876909 -0.402135  \n",
      "4985      360.4  0.876909 -0.402135  \n",
      "\n",
      "[4986 rows x 9 columns]\n"
     ]
    }
   ],
   "source": [
    "print(traj_dataset.data)"
   ]
  },
  {
   "cell_type": "markdown",
   "id": "15115a34-bd01-4a47-be97-08ec9a9680f9",
   "metadata": {},
   "source": [
    "### HERMES"
   ]
  },
  {
   "cell_type": "code",
   "execution_count": 26,
   "id": "bc4f73d0-8491-4803-8183-e1b765fed096",
   "metadata": {},
   "outputs": [],
   "source": [
    "import os\n",
    "from toolkit.loaders.loader_hermes import load_bottleneck\n",
    "serie = 'Corridor-2D'\n",
    "exp = 'bo-360-160-160'\n",
    "OPENTRAJ_ROOT = './OpenTraj/'\n",
    "annot_file = os.path.join(OPENTRAJ_ROOT, \"datasets/HERMES\", serie, exp + '.txt')\n",
    "traj_datasets = load_bottleneck(annot_file, sampling_rate=6, use_kalman=False, title='Hermes')"
   ]
  },
  {
   "cell_type": "code",
   "execution_count": 27,
   "id": "3052f8b9-e834-48d3-bf84-5fdda5e1143a",
   "metadata": {},
   "outputs": [
    {
     "name": "stdout",
     "output_type": "stream",
     "text": [
      "       index  frame_id  agent_id    pos_x    pos_y  scene_id       label  \\\n",
      "0          1        66         1  6.66089  2.29151         0  pedestrian   \n",
      "1          7        72         1  6.19305  2.28999         0  pedestrian   \n",
      "2         13        78         1  5.70179  2.32027         0  pedestrian   \n",
      "3         19        84         1  5.22111  2.28289         0  pedestrian   \n",
      "4         25        90         1  4.70377  2.28232         0  pedestrian   \n",
      "...      ...       ...       ...      ...      ...       ...         ...   \n",
      "15365  92175       582       309  5.44977  3.55281         0  pedestrian   \n",
      "15366  92181       588       309  5.77591  3.78994         0  pedestrian   \n",
      "15367  92187       594       309  6.11509  4.00961         0  pedestrian   \n",
      "15368  92193       600       309  6.35927  4.31885         0  pedestrian   \n",
      "15369  92199       606       309  6.55438  4.70483         0  pedestrian   \n",
      "\n",
      "       timestamp     vel_x     vel_y  \n",
      "0          4.125 -1.247573 -0.004053  \n",
      "1          4.500 -1.247573 -0.004053  \n",
      "2          4.875 -1.310027  0.080747  \n",
      "3          5.250 -1.281813 -0.099680  \n",
      "4          5.625 -1.379573 -0.001520  \n",
      "...          ...       ...       ...  \n",
      "15365     36.375  0.816213  0.537787  \n",
      "15366     36.750  0.869707  0.632347  \n",
      "15367     37.125  0.904480  0.585787  \n",
      "15368     37.500  0.651147  0.824640  \n",
      "15369     37.875  0.520293  1.029280  \n",
      "\n",
      "[15370 rows x 10 columns]\n"
     ]
    }
   ],
   "source": [
    "print(traj_datasets.data)"
   ]
  },
  {
   "cell_type": "code",
   "execution_count": null,
   "id": "c186a085-ed20-4144-a4f2-e175f62a6ffa",
   "metadata": {},
   "outputs": [],
   "source": []
  }
 ],
 "metadata": {
  "kernelspec": {
   "display_name": "Python 3 (ipykernel)",
   "language": "python",
   "name": "python3"
  },
  "language_info": {
   "codemirror_mode": {
    "name": "ipython",
    "version": 3
   },
   "file_extension": ".py",
   "mimetype": "text/x-python",
   "name": "python",
   "nbconvert_exporter": "python",
   "pygments_lexer": "ipython3",
   "version": "3.9.0"
  }
 },
 "nbformat": 4,
 "nbformat_minor": 5
}
