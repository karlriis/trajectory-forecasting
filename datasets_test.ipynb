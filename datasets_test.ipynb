{
 "cells": [
  {
   "cell_type": "code",
   "execution_count": 4,
   "id": "8e53c794-6b8c-4df3-801a-3d578061b913",
   "metadata": {},
   "outputs": [],
   "source": [
    "import os\n",
    "import sys\n",
    "sys.path.insert(0, os.path.abspath(os.getcwd()) + '/OpenTraj/opentraj/') # Anaconda python can't find the toolkit path without this for some reason"
   ]
  },
  {
   "cell_type": "markdown",
   "id": "185a6f2a-caf4-4356-a837-1d4cc0e07a7c",
   "metadata": {},
   "source": [
    "### Edinburgh"
   ]
  },
  {
   "cell_type": "code",
   "execution_count": null,
   "id": "b8ceba26-71ec-44b6-8c08-7a7cce9a68e6",
   "metadata": {},
   "outputs": [],
   "source": [
    "from toolkit.loaders.loader_edinburgh import load_edinburgh\n",
    "opentraj_root = './OpenTraj/'\n",
    "selected_day = '01Sep' # 3 days of data in total, ['01Jul', '01Aug', '01Sep']\n",
    "edinburgh_path = os.path.join(opentraj_root, 'datasets/Edinburgh/annotations', 'tracks.%s.txt' % selected_day)\n",
    "traj_dataset = load_edinburgh(edinburgh_path, title=\"Edinburgh\", \n",
    "                              use_kalman=False, scene_id=selected_day, sampling_rate=9)\n",
    "data = traj_dataset.data"
   ]
  },
  {
   "cell_type": "markdown",
   "id": "89a004f1-c662-4946-a377-02e8ec4b3041",
   "metadata": {},
   "source": [
    "### ETH"
   ]
  },
  {
   "cell_type": "code",
   "execution_count": 53,
   "id": "42284d23-ae61-4298-95d9-b85455d1913d",
   "metadata": {},
   "outputs": [],
   "source": [
    "from toolkit.loaders.loader_eth import load_eth\n",
    "traj_dataset = load_eth(\"OpenTraj/datasets/ETH/seq_eth/obsmat.txt\")\n",
    "trajs = traj_dataset\n",
    "data = trajs.data"
   ]
  },
  {
   "cell_type": "code",
   "execution_count": 54,
   "id": "1c361bcf-40a9-4191-8cbd-ac7402bee120",
   "metadata": {},
   "outputs": [
    {
     "name": "stdout",
     "output_type": "stream",
     "text": [
      "   frame_id  agent_id      pos_x     pos_y     vel_x     vel_y  scene_id  \\\n",
      "0       780         1   8.456844  3.588066  1.671714  0.176292         0   \n",
      "1       786         1   9.125530  3.658583  1.662877  0.326723         0   \n",
      "2       792         1   9.787146  3.849445  1.683334  0.371084         0   \n",
      "3       798         1  10.472197  3.955450  1.598568  0.264795         0   \n",
      "4       804         1  11.066000  4.061280  1.574526  0.456390         0   \n",
      "6       810         1  11.731818  4.320563  1.644127  0.544391         0   \n",
      "8       816         1  12.381302  4.496793  1.623709  0.440576         0   \n",
      "\n",
      "        label  timestamp  \n",
      "0  pedestrian       52.0  \n",
      "1  pedestrian       52.4  \n",
      "2  pedestrian       52.8  \n",
      "3  pedestrian       53.2  \n",
      "4  pedestrian       53.6  \n",
      "6  pedestrian       54.0  \n",
      "8  pedestrian       54.4  \n"
     ]
    }
   ],
   "source": [
    "print(data[data['agent_id']==1])"
   ]
  },
  {
   "cell_type": "code",
   "execution_count": null,
   "id": "9f99adc8-d72f-4db6-949b-34dd0fa23f3a",
   "metadata": {},
   "outputs": [],
   "source": []
  }
 ],
 "metadata": {
  "kernelspec": {
   "display_name": "Python 3 (ipykernel)",
   "language": "python",
   "name": "python3"
  },
  "language_info": {
   "codemirror_mode": {
    "name": "ipython",
    "version": 3
   },
   "file_extension": ".py",
   "mimetype": "text/x-python",
   "name": "python",
   "nbconvert_exporter": "python",
   "pygments_lexer": "ipython3",
   "version": "3.9.0"
  }
 },
 "nbformat": 4,
 "nbformat_minor": 5
}
