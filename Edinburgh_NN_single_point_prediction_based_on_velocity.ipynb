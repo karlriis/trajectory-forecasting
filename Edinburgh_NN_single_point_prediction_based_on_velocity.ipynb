{
 "cells": [
  {
   "cell_type": "markdown",
   "id": "fa949827",
   "metadata": {},
   "source": [
    "## Neural network predicting 1 future point based on velocities"
   ]
  },
  {
   "cell_type": "code",
   "execution_count": 1,
   "id": "be36544f",
   "metadata": {
    "colab": {
     "base_uri": "https://localhost:8080/"
    },
    "id": "be36544f",
    "outputId": "b29ed334-6d6a-4c47-9174-2006437a4121"
   },
   "outputs": [],
   "source": [
    "#! git clone https://github.com/crowdbotp/OpenTraj.git\n",
    "#! pip install pykalman"
   ]
  },
  {
   "cell_type": "code",
   "execution_count": 2,
   "id": "43186641",
   "metadata": {
    "id": "43186641"
   },
   "outputs": [],
   "source": [
    "import os\n",
    "import sys\n",
    "sys.path.insert(0, os.path.abspath(os.getcwd()) + '/OpenTraj/opentraj/') # Anaconda python can't find the toolkit path without this for some reason\n",
    "\n",
    "from toolkit.loaders.loader_edinburgh import load_edinburgh\n",
    "from matplotlib import pyplot as plt\n",
    "import numpy as np\n",
    "np.random.seed(42)"
   ]
  },
  {
   "cell_type": "markdown",
   "id": "b0478b39",
   "metadata": {},
   "source": [
    "## Data preparation"
   ]
  },
  {
   "cell_type": "code",
   "execution_count": 14,
   "id": "63295479",
   "metadata": {
    "colab": {
     "base_uri": "https://localhost:8080/"
    },
    "id": "63295479",
    "outputId": "ad31dcd2-7582-4a14-9232-e9ce081f0d68"
   },
   "outputs": [
    {
     "name": "stderr",
     "output_type": "stream",
     "text": [
      "/Users/kriis/miniforge3/envs/tensorflow_m1/lib/python3.9/site-packages/pandas/util/_decorators.py:311: ParserWarning: Falling back to the 'python' engine because the 'c' engine does not support regex separators (separators > 1 char and different from '\\s+' are interpreted as regex); you can avoid this warning by specifying engine='python'.\n",
      "  return func(*args, **kwargs)\n"
     ]
    },
    {
     "name": "stdout",
     "output_type": "stream",
     "text": [
      "reading:./OpenTraj/datasets/Edinburgh/annotations/tracks.01Sep.txt\n"
     ]
    },
    {
     "name": "stderr",
     "output_type": "stream",
     "text": [
      "100%|█████████████████████████████████████████████████████████████████████████████████████████████████| 2342/2342 [01:02<00:00, 37.32it/s]\n"
     ]
    },
    {
     "name": "stdout",
     "output_type": "stream",
     "text": [
      "Warning! too big dt in [Edinburgh]\n",
      "finish\n"
     ]
    }
   ],
   "source": [
    "opentraj_root = './OpenTraj/'\n",
    "selected_day = '01Sep' # 3 days of data in total, ['01Jul', '01Aug', '01Sep']\n",
    "edinburgh_path = os.path.join(opentraj_root, 'datasets/Edinburgh/annotations', 'tracks.%s.txt' % selected_day)\n",
    "traj_dataset = load_edinburgh(edinburgh_path, title=\"Edinburgh\", \n",
    "                              use_kalman=False, scene_id=selected_day, sampling_rate=9)"
   ]
  },
  {
   "cell_type": "code",
   "execution_count": 15,
   "id": "d2107c6b",
   "metadata": {
    "id": "d2107c6b"
   },
   "outputs": [],
   "source": [
    "data = traj_dataset.data\n",
    "NUM_OF_STEPS = 5\n",
    "\n",
    "# Removing any agents which don't have enough steps for model fitting and predicting\n",
    "agent_ids = data.agent_id.unique()\n",
    "for agent_id in agent_ids:\n",
    "    if len(data[data.agent_id == agent_id]) < 2*NUM_OF_STEPS:\n",
    "        data = data[data.agent_id != agent_id]\n",
    "agent_ids = data.agent_id.unique()"
   ]
  },
  {
   "cell_type": "code",
   "execution_count": 16,
   "id": "9fb4ab4b",
   "metadata": {
    "id": "9fb4ab4b"
   },
   "outputs": [],
   "source": [
    "# 'Normalize' the data so that all trajectories will begin at x=0, y=0\n",
    "for agent_id in agent_ids:\n",
    "    first_x = data[data.agent_id == agent_id]['pos_x'].iloc[0]\n",
    "    first_y = data[data.agent_id == agent_id]['pos_y'].iloc[0]\n",
    "    \n",
    "    data.loc[data.agent_id == agent_id, 'pos_x'] = data[data.agent_id == agent_id]['pos_x'] - first_x\n",
    "    data.loc[data.agent_id == agent_id, 'pos_y'] = data[data.agent_id == agent_id]['pos_y'] - first_y"
   ]
  },
  {
   "cell_type": "code",
   "execution_count": 17,
   "id": "a7407d78",
   "metadata": {
    "id": "a7407d78"
   },
   "outputs": [],
   "source": [
    "# Select the useful columns from the dataset\n",
    "data = data[['index', 'agent_id', 'pos_x', 'pos_y', 'vel_x', 'vel_y']]"
   ]
  },
  {
   "cell_type": "code",
   "execution_count": 18,
   "id": "f7c7210a",
   "metadata": {
    "id": "f7c7210a"
   },
   "outputs": [],
   "source": [
    "from sklearn.model_selection import train_test_split\n",
    "train_agent_ids, test_agent_ids = train_test_split(agent_ids, test_size=0.2)"
   ]
  },
  {
   "cell_type": "markdown",
   "id": "7a69be78",
   "metadata": {
    "id": "7a69be78"
   },
   "source": [
    "### Helper functions"
   ]
  },
  {
   "cell_type": "code",
   "execution_count": 24,
   "id": "987ee314",
   "metadata": {
    "id": "987ee314"
   },
   "outputs": [],
   "source": [
    "def create_dataset(data, agent_ids):\n",
    "    dataX, dataY = [], []\n",
    "    for agent_id in agent_ids:\n",
    "        x = data[data['agent_id'] == agent_id].iloc[1:5][['vel_x', 'vel_y']]\n",
    "        y = data[data['agent_id'] == agent_id].iloc[5][['vel_x', 'vel_y']]\n",
    "        dataX.append(x)\n",
    "        dataY.append(y)\n",
    "    return np.array(dataX), np.array(dataY)\n",
    "    \n",
    "def calculate_error(pred_x, pred_y, test_x, test_y):\n",
    "    \n",
    "    # FDE\n",
    "    final_displacement_x = pred_x[-1] - test_x[-1]\n",
    "    final_displacement_y = pred_y[-1] - test_y[-1]\n",
    "    FDE = np.sqrt(final_displacement_x**2 + final_displacement_y**2)\n",
    "    \n",
    "    # MSE\n",
    "    abs_error_x = pred_x - test_x\n",
    "    abs_error_y = pred_y - test_y\n",
    "    \n",
    "    MSE = np.mean(np.square(abs_error_x)) + np.mean(np.square(abs_error_y))\n",
    "    \n",
    "    return FDE, MSE"
   ]
  },
  {
   "cell_type": "markdown",
   "id": "c9f384c5",
   "metadata": {},
   "source": [
    "## Experiment"
   ]
  },
  {
   "cell_type": "code",
   "execution_count": 25,
   "id": "7f3fa56d",
   "metadata": {
    "id": "7f3fa56d"
   },
   "outputs": [],
   "source": [
    "train = create_dataset(data, train_agent_ids)\n",
    "test = create_dataset(data, test_agent_ids)"
   ]
  },
  {
   "cell_type": "code",
   "execution_count": 26,
   "id": "fc388252",
   "metadata": {
    "id": "fc388252"
   },
   "outputs": [],
   "source": [
    "from keras.models import Model\n",
    "from keras.layers import *    \n",
    "from keras import backend as K\n",
    "\n",
    "def RMSE(y_true, y_pred):\n",
    "    return K.sqrt(K.mean(K.square(y_pred - y_true))) \n",
    "\n",
    "#inp = Input((5,2))\n",
    "inp = Input((4,2))\n",
    "\n",
    "x = Flatten()(inp)\n",
    "\n",
    "x = Dense(64, activation='relu')(x)\n",
    "x = Dense(32, activation='relu')(x)\n",
    "x = Dense(16, activation='relu')(x)\n",
    "x = Dense(16, activation='relu')(x)\n",
    "\n",
    "out1 = Dense(1, activation='linear')(x)    \n",
    "out2 = Dense(1, activation='linear')(x)\n",
    "\n",
    "model = Model(inputs=inp, outputs=[out1,out2])\n",
    "model.compile(optimizer=tf.keras.optimizers.Adam(learning_rate=0.001), loss = RMSE)"
   ]
  },
  {
   "cell_type": "code",
   "execution_count": 27,
   "id": "d2ad3d42",
   "metadata": {
    "colab": {
     "base_uri": "https://localhost:8080/"
    },
    "id": "d2ad3d42",
    "outputId": "83b641d4-9d00-4d8f-a643-c4a48ddaaa46"
   },
   "outputs": [
    {
     "name": "stdout",
     "output_type": "stream",
     "text": [
      "Epoch 1/400\n"
     ]
    },
    {
     "name": "stderr",
     "output_type": "stream",
     "text": [
      "2022-01-13 16:46:03.818800: I tensorflow/core/grappler/optimizers/custom_graph_optimizer_registry.cc:112] Plugin optimizer for device_type GPU is enabled.\n"
     ]
    },
    {
     "name": "stdout",
     "output_type": "stream",
     "text": [
      "39/39 - 1s - loss: 1.2033 - dense_16_loss: 0.6897 - dense_17_loss: 0.5136 - 537ms/epoch - 14ms/step\n",
      "Epoch 2/400\n",
      "39/39 - 0s - loss: 0.7288 - dense_16_loss: 0.3774 - dense_17_loss: 0.3514 - 196ms/epoch - 5ms/step\n",
      "Epoch 3/400\n",
      "39/39 - 0s - loss: 0.6497 - dense_16_loss: 0.3168 - dense_17_loss: 0.3329 - 197ms/epoch - 5ms/step\n",
      "Epoch 4/400\n",
      "39/39 - 0s - loss: 0.5960 - dense_16_loss: 0.2772 - dense_17_loss: 0.3188 - 207ms/epoch - 5ms/step\n",
      "Epoch 5/400\n",
      "39/39 - 0s - loss: 0.5879 - dense_16_loss: 0.2734 - dense_17_loss: 0.3145 - 196ms/epoch - 5ms/step\n",
      "Epoch 6/400\n",
      "39/39 - 0s - loss: 0.5848 - dense_16_loss: 0.2741 - dense_17_loss: 0.3107 - 196ms/epoch - 5ms/step\n",
      "Epoch 7/400\n",
      "39/39 - 0s - loss: 0.5686 - dense_16_loss: 0.2669 - dense_17_loss: 0.3017 - 195ms/epoch - 5ms/step\n",
      "Epoch 8/400\n",
      "39/39 - 0s - loss: 0.5614 - dense_16_loss: 0.2575 - dense_17_loss: 0.3039 - 196ms/epoch - 5ms/step\n",
      "Epoch 9/400\n",
      "39/39 - 0s - loss: 0.5413 - dense_16_loss: 0.2468 - dense_17_loss: 0.2945 - 194ms/epoch - 5ms/step\n",
      "Epoch 10/400\n",
      "39/39 - 0s - loss: 0.5484 - dense_16_loss: 0.2510 - dense_17_loss: 0.2974 - 200ms/epoch - 5ms/step\n",
      "Epoch 11/400\n",
      "39/39 - 0s - loss: 0.5375 - dense_16_loss: 0.2482 - dense_17_loss: 0.2893 - 203ms/epoch - 5ms/step\n",
      "Epoch 12/400\n",
      "39/39 - 0s - loss: 0.5406 - dense_16_loss: 0.2474 - dense_17_loss: 0.2933 - 196ms/epoch - 5ms/step\n",
      "Epoch 13/400\n",
      "39/39 - 0s - loss: 0.5271 - dense_16_loss: 0.2410 - dense_17_loss: 0.2861 - 201ms/epoch - 5ms/step\n",
      "Epoch 14/400\n",
      "39/39 - 0s - loss: 0.5224 - dense_16_loss: 0.2434 - dense_17_loss: 0.2790 - 200ms/epoch - 5ms/step\n",
      "Epoch 15/400\n",
      "39/39 - 0s - loss: 0.5177 - dense_16_loss: 0.2355 - dense_17_loss: 0.2822 - 205ms/epoch - 5ms/step\n",
      "Epoch 16/400\n",
      "39/39 - 0s - loss: 0.5165 - dense_16_loss: 0.2332 - dense_17_loss: 0.2834 - 204ms/epoch - 5ms/step\n",
      "Epoch 17/400\n",
      "39/39 - 0s - loss: 0.5131 - dense_16_loss: 0.2371 - dense_17_loss: 0.2759 - 199ms/epoch - 5ms/step\n",
      "Epoch 18/400\n",
      "39/39 - 0s - loss: 0.5002 - dense_16_loss: 0.2269 - dense_17_loss: 0.2734 - 200ms/epoch - 5ms/step\n",
      "Epoch 19/400\n",
      "39/39 - 0s - loss: 0.4935 - dense_16_loss: 0.2235 - dense_17_loss: 0.2700 - 203ms/epoch - 5ms/step\n",
      "Epoch 20/400\n",
      "39/39 - 0s - loss: 0.4987 - dense_16_loss: 0.2246 - dense_17_loss: 0.2742 - 203ms/epoch - 5ms/step\n",
      "Epoch 21/400\n",
      "39/39 - 0s - loss: 0.4891 - dense_16_loss: 0.2200 - dense_17_loss: 0.2691 - 200ms/epoch - 5ms/step\n",
      "Epoch 22/400\n",
      "39/39 - 0s - loss: 0.4874 - dense_16_loss: 0.2206 - dense_17_loss: 0.2668 - 200ms/epoch - 5ms/step\n",
      "Epoch 23/400\n",
      "39/39 - 0s - loss: 0.4848 - dense_16_loss: 0.2250 - dense_17_loss: 0.2598 - 204ms/epoch - 5ms/step\n",
      "Epoch 24/400\n",
      "39/39 - 0s - loss: 0.4838 - dense_16_loss: 0.2215 - dense_17_loss: 0.2623 - 196ms/epoch - 5ms/step\n",
      "Epoch 25/400\n",
      "39/39 - 0s - loss: 0.4876 - dense_16_loss: 0.2254 - dense_17_loss: 0.2623 - 196ms/epoch - 5ms/step\n",
      "Epoch 26/400\n",
      "39/39 - 0s - loss: 0.4844 - dense_16_loss: 0.2218 - dense_17_loss: 0.2625 - 195ms/epoch - 5ms/step\n",
      "Epoch 27/400\n",
      "39/39 - 0s - loss: 0.4825 - dense_16_loss: 0.2236 - dense_17_loss: 0.2589 - 192ms/epoch - 5ms/step\n",
      "Epoch 28/400\n",
      "39/39 - 0s - loss: 0.4804 - dense_16_loss: 0.2206 - dense_17_loss: 0.2598 - 194ms/epoch - 5ms/step\n",
      "Epoch 29/400\n",
      "39/39 - 0s - loss: 0.4749 - dense_16_loss: 0.2196 - dense_17_loss: 0.2553 - 198ms/epoch - 5ms/step\n",
      "Epoch 30/400\n",
      "39/39 - 0s - loss: 0.4678 - dense_16_loss: 0.2189 - dense_17_loss: 0.2489 - 197ms/epoch - 5ms/step\n",
      "Epoch 31/400\n",
      "39/39 - 0s - loss: 0.4687 - dense_16_loss: 0.2190 - dense_17_loss: 0.2497 - 196ms/epoch - 5ms/step\n",
      "Epoch 32/400\n",
      "39/39 - 0s - loss: 0.4654 - dense_16_loss: 0.2184 - dense_17_loss: 0.2470 - 197ms/epoch - 5ms/step\n",
      "Epoch 33/400\n",
      "39/39 - 0s - loss: 0.4534 - dense_16_loss: 0.2121 - dense_17_loss: 0.2413 - 198ms/epoch - 5ms/step\n",
      "Epoch 34/400\n",
      "39/39 - 0s - loss: 0.4625 - dense_16_loss: 0.2158 - dense_17_loss: 0.2467 - 210ms/epoch - 5ms/step\n",
      "Epoch 35/400\n",
      "39/39 - 0s - loss: 0.4475 - dense_16_loss: 0.2084 - dense_17_loss: 0.2390 - 197ms/epoch - 5ms/step\n",
      "Epoch 36/400\n",
      "39/39 - 0s - loss: 0.4508 - dense_16_loss: 0.2095 - dense_17_loss: 0.2413 - 197ms/epoch - 5ms/step\n",
      "Epoch 37/400\n",
      "39/39 - 0s - loss: 0.4486 - dense_16_loss: 0.2154 - dense_17_loss: 0.2332 - 197ms/epoch - 5ms/step\n",
      "Epoch 38/400\n",
      "39/39 - 0s - loss: 0.4486 - dense_16_loss: 0.2135 - dense_17_loss: 0.2352 - 216ms/epoch - 6ms/step\n",
      "Epoch 39/400\n",
      "39/39 - 0s - loss: 0.4367 - dense_16_loss: 0.2090 - dense_17_loss: 0.2276 - 193ms/epoch - 5ms/step\n",
      "Epoch 40/400\n",
      "39/39 - 0s - loss: 0.4424 - dense_16_loss: 0.2080 - dense_17_loss: 0.2345 - 207ms/epoch - 5ms/step\n",
      "Epoch 41/400\n",
      "39/39 - 0s - loss: 0.4381 - dense_16_loss: 0.2058 - dense_17_loss: 0.2323 - 200ms/epoch - 5ms/step\n",
      "Epoch 42/400\n",
      "39/39 - 0s - loss: 0.4346 - dense_16_loss: 0.2095 - dense_17_loss: 0.2251 - 210ms/epoch - 5ms/step\n",
      "Epoch 43/400\n",
      "39/39 - 0s - loss: 0.4371 - dense_16_loss: 0.2133 - dense_17_loss: 0.2238 - 204ms/epoch - 5ms/step\n",
      "Epoch 44/400\n",
      "39/39 - 0s - loss: 0.4497 - dense_16_loss: 0.2177 - dense_17_loss: 0.2320 - 194ms/epoch - 5ms/step\n",
      "Epoch 45/400\n",
      "39/39 - 0s - loss: 0.4399 - dense_16_loss: 0.2121 - dense_17_loss: 0.2279 - 196ms/epoch - 5ms/step\n",
      "Epoch 46/400\n",
      "39/39 - 0s - loss: 0.4377 - dense_16_loss: 0.2042 - dense_17_loss: 0.2335 - 203ms/epoch - 5ms/step\n",
      "Epoch 47/400\n",
      "39/39 - 0s - loss: 0.4310 - dense_16_loss: 0.2076 - dense_17_loss: 0.2235 - 195ms/epoch - 5ms/step\n",
      "Epoch 48/400\n",
      "39/39 - 0s - loss: 0.4265 - dense_16_loss: 0.2067 - dense_17_loss: 0.2198 - 196ms/epoch - 5ms/step\n",
      "Epoch 49/400\n",
      "39/39 - 0s - loss: 0.4224 - dense_16_loss: 0.2075 - dense_17_loss: 0.2149 - 196ms/epoch - 5ms/step\n",
      "Epoch 50/400\n",
      "39/39 - 0s - loss: 0.4249 - dense_16_loss: 0.2055 - dense_17_loss: 0.2195 - 201ms/epoch - 5ms/step\n",
      "Epoch 51/400\n",
      "39/39 - 0s - loss: 0.4165 - dense_16_loss: 0.2024 - dense_17_loss: 0.2141 - 201ms/epoch - 5ms/step\n",
      "Epoch 52/400\n",
      "39/39 - 0s - loss: 0.4081 - dense_16_loss: 0.1997 - dense_17_loss: 0.2085 - 198ms/epoch - 5ms/step\n",
      "Epoch 53/400\n",
      "39/39 - 0s - loss: 0.4203 - dense_16_loss: 0.2044 - dense_17_loss: 0.2159 - 200ms/epoch - 5ms/step\n",
      "Epoch 54/400\n",
      "39/39 - 0s - loss: 0.4102 - dense_16_loss: 0.2043 - dense_17_loss: 0.2059 - 196ms/epoch - 5ms/step\n",
      "Epoch 55/400\n",
      "39/39 - 0s - loss: 0.4001 - dense_16_loss: 0.1973 - dense_17_loss: 0.2028 - 197ms/epoch - 5ms/step\n",
      "Epoch 56/400\n",
      "39/39 - 0s - loss: 0.4042 - dense_16_loss: 0.2003 - dense_17_loss: 0.2039 - 204ms/epoch - 5ms/step\n",
      "Epoch 57/400\n",
      "39/39 - 0s - loss: 0.4009 - dense_16_loss: 0.1943 - dense_17_loss: 0.2066 - 192ms/epoch - 5ms/step\n",
      "Epoch 58/400\n",
      "39/39 - 0s - loss: 0.3941 - dense_16_loss: 0.1961 - dense_17_loss: 0.1980 - 195ms/epoch - 5ms/step\n",
      "Epoch 59/400\n",
      "39/39 - 0s - loss: 0.3942 - dense_16_loss: 0.1929 - dense_17_loss: 0.2013 - 208ms/epoch - 5ms/step\n",
      "Epoch 60/400\n",
      "39/39 - 0s - loss: 0.3890 - dense_16_loss: 0.1962 - dense_17_loss: 0.1928 - 193ms/epoch - 5ms/step\n",
      "Epoch 61/400\n",
      "39/39 - 0s - loss: 0.3890 - dense_16_loss: 0.1940 - dense_17_loss: 0.1950 - 196ms/epoch - 5ms/step\n",
      "Epoch 62/400\n",
      "39/39 - 0s - loss: 0.3921 - dense_16_loss: 0.1953 - dense_17_loss: 0.1968 - 192ms/epoch - 5ms/step\n",
      "Epoch 63/400\n",
      "39/39 - 0s - loss: 0.3948 - dense_16_loss: 0.1975 - dense_17_loss: 0.1973 - 193ms/epoch - 5ms/step\n",
      "Epoch 64/400\n",
      "39/39 - 0s - loss: 0.3917 - dense_16_loss: 0.1969 - dense_17_loss: 0.1948 - 194ms/epoch - 5ms/step\n",
      "Epoch 65/400\n",
      "39/39 - 0s - loss: 0.3792 - dense_16_loss: 0.1921 - dense_17_loss: 0.1872 - 194ms/epoch - 5ms/step\n",
      "Epoch 66/400\n",
      "39/39 - 0s - loss: 0.3795 - dense_16_loss: 0.1948 - dense_17_loss: 0.1846 - 195ms/epoch - 5ms/step\n",
      "Epoch 67/400\n",
      "39/39 - 0s - loss: 0.3731 - dense_16_loss: 0.1887 - dense_17_loss: 0.1845 - 195ms/epoch - 5ms/step\n",
      "Epoch 68/400\n",
      "39/39 - 0s - loss: 0.3762 - dense_16_loss: 0.1917 - dense_17_loss: 0.1845 - 196ms/epoch - 5ms/step\n",
      "Epoch 69/400\n",
      "39/39 - 0s - loss: 0.3769 - dense_16_loss: 0.1932 - dense_17_loss: 0.1837 - 197ms/epoch - 5ms/step\n",
      "Epoch 70/400\n",
      "39/39 - 0s - loss: 0.3755 - dense_16_loss: 0.1881 - dense_17_loss: 0.1874 - 200ms/epoch - 5ms/step\n",
      "Epoch 71/400\n",
      "39/39 - 0s - loss: 0.3687 - dense_16_loss: 0.1901 - dense_17_loss: 0.1785 - 193ms/epoch - 5ms/step\n",
      "Epoch 72/400\n",
      "39/39 - 0s - loss: 0.3748 - dense_16_loss: 0.1912 - dense_17_loss: 0.1836 - 194ms/epoch - 5ms/step\n",
      "Epoch 73/400\n",
      "39/39 - 0s - loss: 0.3725 - dense_16_loss: 0.1936 - dense_17_loss: 0.1789 - 193ms/epoch - 5ms/step\n",
      "Epoch 74/400\n",
      "39/39 - 0s - loss: 0.3655 - dense_16_loss: 0.1861 - dense_17_loss: 0.1794 - 194ms/epoch - 5ms/step\n"
     ]
    },
    {
     "name": "stdout",
     "output_type": "stream",
     "text": [
      "Epoch 75/400\n",
      "39/39 - 0s - loss: 0.3659 - dense_16_loss: 0.1871 - dense_17_loss: 0.1788 - 193ms/epoch - 5ms/step\n",
      "Epoch 76/400\n",
      "39/39 - 0s - loss: 0.3595 - dense_16_loss: 0.1859 - dense_17_loss: 0.1736 - 195ms/epoch - 5ms/step\n",
      "Epoch 77/400\n",
      "39/39 - 0s - loss: 0.3577 - dense_16_loss: 0.1834 - dense_17_loss: 0.1743 - 193ms/epoch - 5ms/step\n",
      "Epoch 78/400\n",
      "39/39 - 0s - loss: 0.3607 - dense_16_loss: 0.1839 - dense_17_loss: 0.1768 - 192ms/epoch - 5ms/step\n",
      "Epoch 79/400\n",
      "39/39 - 0s - loss: 0.3542 - dense_16_loss: 0.1820 - dense_17_loss: 0.1722 - 193ms/epoch - 5ms/step\n",
      "Epoch 80/400\n",
      "39/39 - 0s - loss: 0.3622 - dense_16_loss: 0.1905 - dense_17_loss: 0.1718 - 199ms/epoch - 5ms/step\n",
      "Epoch 81/400\n",
      "39/39 - 0s - loss: 0.3558 - dense_16_loss: 0.1841 - dense_17_loss: 0.1717 - 197ms/epoch - 5ms/step\n",
      "Epoch 82/400\n",
      "39/39 - 0s - loss: 0.3627 - dense_16_loss: 0.1907 - dense_17_loss: 0.1720 - 191ms/epoch - 5ms/step\n",
      "Epoch 83/400\n",
      "39/39 - 0s - loss: 0.3552 - dense_16_loss: 0.1848 - dense_17_loss: 0.1704 - 191ms/epoch - 5ms/step\n",
      "Epoch 84/400\n",
      "39/39 - 0s - loss: 0.3685 - dense_16_loss: 0.1855 - dense_17_loss: 0.1829 - 192ms/epoch - 5ms/step\n",
      "Epoch 85/400\n",
      "39/39 - 0s - loss: 0.3558 - dense_16_loss: 0.1807 - dense_17_loss: 0.1751 - 193ms/epoch - 5ms/step\n",
      "Epoch 86/400\n",
      "39/39 - 0s - loss: 0.3528 - dense_16_loss: 0.1835 - dense_17_loss: 0.1693 - 194ms/epoch - 5ms/step\n",
      "Epoch 87/400\n",
      "39/39 - 0s - loss: 0.3511 - dense_16_loss: 0.1802 - dense_17_loss: 0.1709 - 193ms/epoch - 5ms/step\n",
      "Epoch 88/400\n",
      "39/39 - 0s - loss: 0.3485 - dense_16_loss: 0.1809 - dense_17_loss: 0.1676 - 192ms/epoch - 5ms/step\n",
      "Epoch 89/400\n",
      "39/39 - 0s - loss: 0.3518 - dense_16_loss: 0.1793 - dense_17_loss: 0.1726 - 192ms/epoch - 5ms/step\n",
      "Epoch 90/400\n",
      "39/39 - 0s - loss: 0.3454 - dense_16_loss: 0.1835 - dense_17_loss: 0.1619 - 192ms/epoch - 5ms/step\n",
      "Epoch 91/400\n",
      "39/39 - 0s - loss: 0.3446 - dense_16_loss: 0.1815 - dense_17_loss: 0.1631 - 193ms/epoch - 5ms/step\n",
      "Epoch 92/400\n",
      "39/39 - 0s - loss: 0.3427 - dense_16_loss: 0.1806 - dense_17_loss: 0.1621 - 195ms/epoch - 5ms/step\n",
      "Epoch 93/400\n",
      "39/39 - 0s - loss: 0.3442 - dense_16_loss: 0.1829 - dense_17_loss: 0.1613 - 194ms/epoch - 5ms/step\n",
      "Epoch 94/400\n",
      "39/39 - 0s - loss: 0.3447 - dense_16_loss: 0.1838 - dense_17_loss: 0.1609 - 191ms/epoch - 5ms/step\n",
      "Epoch 95/400\n",
      "39/39 - 0s - loss: 0.3401 - dense_16_loss: 0.1794 - dense_17_loss: 0.1608 - 194ms/epoch - 5ms/step\n",
      "Epoch 96/400\n",
      "39/39 - 0s - loss: 0.3356 - dense_16_loss: 0.1757 - dense_17_loss: 0.1600 - 192ms/epoch - 5ms/step\n",
      "Epoch 97/400\n",
      "39/39 - 0s - loss: 0.3489 - dense_16_loss: 0.1820 - dense_17_loss: 0.1669 - 194ms/epoch - 5ms/step\n",
      "Epoch 98/400\n",
      "39/39 - 0s - loss: 0.3317 - dense_16_loss: 0.1749 - dense_17_loss: 0.1568 - 193ms/epoch - 5ms/step\n",
      "Epoch 99/400\n",
      "39/39 - 0s - loss: 0.3338 - dense_16_loss: 0.1760 - dense_17_loss: 0.1578 - 193ms/epoch - 5ms/step\n",
      "Epoch 100/400\n",
      "39/39 - 0s - loss: 0.3377 - dense_16_loss: 0.1788 - dense_17_loss: 0.1590 - 195ms/epoch - 5ms/step\n",
      "Epoch 101/400\n",
      "39/39 - 0s - loss: 0.3289 - dense_16_loss: 0.1713 - dense_17_loss: 0.1576 - 193ms/epoch - 5ms/step\n",
      "Epoch 102/400\n",
      "39/39 - 0s - loss: 0.3370 - dense_16_loss: 0.1724 - dense_17_loss: 0.1646 - 189ms/epoch - 5ms/step\n",
      "Epoch 103/400\n",
      "39/39 - 0s - loss: 0.3308 - dense_16_loss: 0.1733 - dense_17_loss: 0.1575 - 194ms/epoch - 5ms/step\n",
      "Epoch 104/400\n",
      "39/39 - 0s - loss: 0.3294 - dense_16_loss: 0.1749 - dense_17_loss: 0.1546 - 193ms/epoch - 5ms/step\n",
      "Epoch 105/400\n",
      "39/39 - 0s - loss: 0.3293 - dense_16_loss: 0.1752 - dense_17_loss: 0.1541 - 192ms/epoch - 5ms/step\n",
      "Epoch 106/400\n",
      "39/39 - 0s - loss: 0.3297 - dense_16_loss: 0.1780 - dense_17_loss: 0.1517 - 197ms/epoch - 5ms/step\n",
      "Epoch 107/400\n",
      "39/39 - 0s - loss: 0.3338 - dense_16_loss: 0.1766 - dense_17_loss: 0.1572 - 194ms/epoch - 5ms/step\n",
      "Epoch 108/400\n",
      "39/39 - 0s - loss: 0.3246 - dense_16_loss: 0.1729 - dense_17_loss: 0.1517 - 198ms/epoch - 5ms/step\n",
      "Epoch 109/400\n",
      "39/39 - 0s - loss: 0.3221 - dense_16_loss: 0.1686 - dense_17_loss: 0.1536 - 202ms/epoch - 5ms/step\n",
      "Epoch 110/400\n",
      "39/39 - 0s - loss: 0.3266 - dense_16_loss: 0.1710 - dense_17_loss: 0.1557 - 194ms/epoch - 5ms/step\n",
      "Epoch 111/400\n",
      "39/39 - 0s - loss: 0.3349 - dense_16_loss: 0.1738 - dense_17_loss: 0.1611 - 200ms/epoch - 5ms/step\n",
      "Epoch 112/400\n",
      "39/39 - 0s - loss: 0.3227 - dense_16_loss: 0.1700 - dense_17_loss: 0.1527 - 198ms/epoch - 5ms/step\n",
      "Epoch 113/400\n",
      "39/39 - 0s - loss: 0.3170 - dense_16_loss: 0.1666 - dense_17_loss: 0.1505 - 193ms/epoch - 5ms/step\n",
      "Epoch 114/400\n",
      "39/39 - 0s - loss: 0.3274 - dense_16_loss: 0.1710 - dense_17_loss: 0.1564 - 197ms/epoch - 5ms/step\n",
      "Epoch 115/400\n",
      "39/39 - 0s - loss: 0.3157 - dense_16_loss: 0.1662 - dense_17_loss: 0.1494 - 206ms/epoch - 5ms/step\n",
      "Epoch 116/400\n",
      "39/39 - 0s - loss: 0.3218 - dense_16_loss: 0.1694 - dense_17_loss: 0.1523 - 198ms/epoch - 5ms/step\n",
      "Epoch 117/400\n",
      "39/39 - 0s - loss: 0.3245 - dense_16_loss: 0.1697 - dense_17_loss: 0.1548 - 195ms/epoch - 5ms/step\n",
      "Epoch 118/400\n",
      "39/39 - 0s - loss: 0.3124 - dense_16_loss: 0.1633 - dense_17_loss: 0.1491 - 194ms/epoch - 5ms/step\n",
      "Epoch 119/400\n",
      "39/39 - 0s - loss: 0.3172 - dense_16_loss: 0.1664 - dense_17_loss: 0.1509 - 197ms/epoch - 5ms/step\n",
      "Epoch 120/400\n",
      "39/39 - 0s - loss: 0.3113 - dense_16_loss: 0.1659 - dense_17_loss: 0.1454 - 192ms/epoch - 5ms/step\n",
      "Epoch 121/400\n",
      "39/39 - 0s - loss: 0.3149 - dense_16_loss: 0.1695 - dense_17_loss: 0.1454 - 193ms/epoch - 5ms/step\n",
      "Epoch 122/400\n",
      "39/39 - 0s - loss: 0.3110 - dense_16_loss: 0.1666 - dense_17_loss: 0.1444 - 194ms/epoch - 5ms/step\n",
      "Epoch 123/400\n",
      "39/39 - 0s - loss: 0.3083 - dense_16_loss: 0.1639 - dense_17_loss: 0.1445 - 194ms/epoch - 5ms/step\n",
      "Epoch 124/400\n",
      "39/39 - 0s - loss: 0.3138 - dense_16_loss: 0.1658 - dense_17_loss: 0.1480 - 195ms/epoch - 5ms/step\n",
      "Epoch 125/400\n",
      "39/39 - 0s - loss: 0.3133 - dense_16_loss: 0.1674 - dense_17_loss: 0.1458 - 196ms/epoch - 5ms/step\n",
      "Epoch 126/400\n",
      "39/39 - 0s - loss: 0.3089 - dense_16_loss: 0.1629 - dense_17_loss: 0.1459 - 196ms/epoch - 5ms/step\n",
      "Epoch 127/400\n",
      "39/39 - 0s - loss: 0.3164 - dense_16_loss: 0.1639 - dense_17_loss: 0.1524 - 194ms/epoch - 5ms/step\n",
      "Epoch 128/400\n",
      "39/39 - 0s - loss: 0.3062 - dense_16_loss: 0.1616 - dense_17_loss: 0.1446 - 197ms/epoch - 5ms/step\n",
      "Epoch 129/400\n",
      "39/39 - 0s - loss: 0.3112 - dense_16_loss: 0.1667 - dense_17_loss: 0.1444 - 195ms/epoch - 5ms/step\n",
      "Epoch 130/400\n",
      "39/39 - 0s - loss: 0.3031 - dense_16_loss: 0.1645 - dense_17_loss: 0.1385 - 199ms/epoch - 5ms/step\n",
      "Epoch 131/400\n",
      "39/39 - 0s - loss: 0.3058 - dense_16_loss: 0.1606 - dense_17_loss: 0.1452 - 198ms/epoch - 5ms/step\n",
      "Epoch 132/400\n",
      "39/39 - 0s - loss: 0.3123 - dense_16_loss: 0.1647 - dense_17_loss: 0.1476 - 198ms/epoch - 5ms/step\n",
      "Epoch 133/400\n",
      "39/39 - 0s - loss: 0.3030 - dense_16_loss: 0.1592 - dense_17_loss: 0.1438 - 197ms/epoch - 5ms/step\n",
      "Epoch 134/400\n",
      "39/39 - 0s - loss: 0.2941 - dense_16_loss: 0.1579 - dense_17_loss: 0.1361 - 200ms/epoch - 5ms/step\n",
      "Epoch 135/400\n",
      "39/39 - 0s - loss: 0.2963 - dense_16_loss: 0.1560 - dense_17_loss: 0.1402 - 197ms/epoch - 5ms/step\n",
      "Epoch 136/400\n",
      "39/39 - 0s - loss: 0.3076 - dense_16_loss: 0.1612 - dense_17_loss: 0.1465 - 198ms/epoch - 5ms/step\n",
      "Epoch 137/400\n",
      "39/39 - 0s - loss: 0.3061 - dense_16_loss: 0.1556 - dense_17_loss: 0.1505 - 195ms/epoch - 5ms/step\n",
      "Epoch 138/400\n",
      "39/39 - 0s - loss: 0.2977 - dense_16_loss: 0.1569 - dense_17_loss: 0.1407 - 194ms/epoch - 5ms/step\n",
      "Epoch 139/400\n",
      "39/39 - 0s - loss: 0.3064 - dense_16_loss: 0.1598 - dense_17_loss: 0.1467 - 209ms/epoch - 5ms/step\n",
      "Epoch 140/400\n",
      "39/39 - 0s - loss: 0.2933 - dense_16_loss: 0.1578 - dense_17_loss: 0.1355 - 206ms/epoch - 5ms/step\n",
      "Epoch 141/400\n",
      "39/39 - 0s - loss: 0.2965 - dense_16_loss: 0.1605 - dense_17_loss: 0.1360 - 194ms/epoch - 5ms/step\n",
      "Epoch 142/400\n",
      "39/39 - 0s - loss: 0.2830 - dense_16_loss: 0.1502 - dense_17_loss: 0.1328 - 203ms/epoch - 5ms/step\n",
      "Epoch 143/400\n",
      "39/39 - 0s - loss: 0.3048 - dense_16_loss: 0.1612 - dense_17_loss: 0.1436 - 198ms/epoch - 5ms/step\n",
      "Epoch 144/400\n",
      "39/39 - 0s - loss: 0.3079 - dense_16_loss: 0.1574 - dense_17_loss: 0.1504 - 195ms/epoch - 5ms/step\n",
      "Epoch 145/400\n",
      "39/39 - 0s - loss: 0.2871 - dense_16_loss: 0.1564 - dense_17_loss: 0.1307 - 194ms/epoch - 5ms/step\n",
      "Epoch 146/400\n",
      "39/39 - 0s - loss: 0.2954 - dense_16_loss: 0.1591 - dense_17_loss: 0.1363 - 194ms/epoch - 5ms/step\n",
      "Epoch 147/400\n",
      "39/39 - 0s - loss: 0.2956 - dense_16_loss: 0.1577 - dense_17_loss: 0.1379 - 199ms/epoch - 5ms/step\n"
     ]
    },
    {
     "name": "stdout",
     "output_type": "stream",
     "text": [
      "Epoch 148/400\n",
      "39/39 - 0s - loss: 0.2884 - dense_16_loss: 0.1564 - dense_17_loss: 0.1320 - 200ms/epoch - 5ms/step\n",
      "Epoch 149/400\n",
      "39/39 - 0s - loss: 0.3001 - dense_16_loss: 0.1636 - dense_17_loss: 0.1365 - 196ms/epoch - 5ms/step\n",
      "Epoch 150/400\n",
      "39/39 - 0s - loss: 0.2867 - dense_16_loss: 0.1516 - dense_17_loss: 0.1351 - 194ms/epoch - 5ms/step\n",
      "Epoch 151/400\n",
      "39/39 - 0s - loss: 0.2863 - dense_16_loss: 0.1523 - dense_17_loss: 0.1340 - 197ms/epoch - 5ms/step\n",
      "Epoch 152/400\n",
      "39/39 - 0s - loss: 0.2850 - dense_16_loss: 0.1533 - dense_17_loss: 0.1317 - 196ms/epoch - 5ms/step\n",
      "Epoch 153/400\n",
      "39/39 - 0s - loss: 0.2838 - dense_16_loss: 0.1534 - dense_17_loss: 0.1304 - 196ms/epoch - 5ms/step\n",
      "Epoch 154/400\n",
      "39/39 - 0s - loss: 0.2855 - dense_16_loss: 0.1495 - dense_17_loss: 0.1360 - 197ms/epoch - 5ms/step\n",
      "Epoch 155/400\n",
      "39/39 - 0s - loss: 0.2925 - dense_16_loss: 0.1528 - dense_17_loss: 0.1397 - 195ms/epoch - 5ms/step\n",
      "Epoch 156/400\n",
      "39/39 - 0s - loss: 0.2947 - dense_16_loss: 0.1526 - dense_17_loss: 0.1422 - 196ms/epoch - 5ms/step\n",
      "Epoch 157/400\n",
      "39/39 - 0s - loss: 0.2884 - dense_16_loss: 0.1556 - dense_17_loss: 0.1327 - 193ms/epoch - 5ms/step\n",
      "Epoch 158/400\n",
      "39/39 - 0s - loss: 0.2849 - dense_16_loss: 0.1523 - dense_17_loss: 0.1327 - 192ms/epoch - 5ms/step\n",
      "Epoch 159/400\n",
      "39/39 - 0s - loss: 0.2848 - dense_16_loss: 0.1461 - dense_17_loss: 0.1387 - 197ms/epoch - 5ms/step\n",
      "Epoch 160/400\n",
      "39/39 - 0s - loss: 0.2806 - dense_16_loss: 0.1471 - dense_17_loss: 0.1335 - 196ms/epoch - 5ms/step\n",
      "Epoch 161/400\n",
      "39/39 - 0s - loss: 0.2797 - dense_16_loss: 0.1497 - dense_17_loss: 0.1300 - 196ms/epoch - 5ms/step\n",
      "Epoch 162/400\n",
      "39/39 - 0s - loss: 0.2782 - dense_16_loss: 0.1482 - dense_17_loss: 0.1301 - 198ms/epoch - 5ms/step\n",
      "Epoch 163/400\n",
      "39/39 - 0s - loss: 0.2857 - dense_16_loss: 0.1478 - dense_17_loss: 0.1379 - 198ms/epoch - 5ms/step\n",
      "Epoch 164/400\n",
      "39/39 - 0s - loss: 0.2814 - dense_16_loss: 0.1502 - dense_17_loss: 0.1312 - 194ms/epoch - 5ms/step\n",
      "Epoch 165/400\n",
      "39/39 - 0s - loss: 0.2818 - dense_16_loss: 0.1515 - dense_17_loss: 0.1303 - 199ms/epoch - 5ms/step\n",
      "Epoch 166/400\n",
      "39/39 - 0s - loss: 0.2779 - dense_16_loss: 0.1472 - dense_17_loss: 0.1307 - 207ms/epoch - 5ms/step\n",
      "Epoch 167/400\n",
      "39/39 - 0s - loss: 0.2731 - dense_16_loss: 0.1449 - dense_17_loss: 0.1282 - 193ms/epoch - 5ms/step\n",
      "Epoch 168/400\n",
      "39/39 - 0s - loss: 0.2708 - dense_16_loss: 0.1410 - dense_17_loss: 0.1298 - 197ms/epoch - 5ms/step\n",
      "Epoch 169/400\n",
      "39/39 - 0s - loss: 0.2760 - dense_16_loss: 0.1480 - dense_17_loss: 0.1280 - 196ms/epoch - 5ms/step\n",
      "Epoch 170/400\n",
      "39/39 - 0s - loss: 0.2728 - dense_16_loss: 0.1441 - dense_17_loss: 0.1287 - 194ms/epoch - 5ms/step\n",
      "Epoch 171/400\n",
      "39/39 - 0s - loss: 0.2798 - dense_16_loss: 0.1445 - dense_17_loss: 0.1352 - 196ms/epoch - 5ms/step\n",
      "Epoch 172/400\n",
      "39/39 - 0s - loss: 0.2712 - dense_16_loss: 0.1399 - dense_17_loss: 0.1313 - 194ms/epoch - 5ms/step\n",
      "Epoch 173/400\n",
      "39/39 - 0s - loss: 0.2668 - dense_16_loss: 0.1435 - dense_17_loss: 0.1233 - 196ms/epoch - 5ms/step\n",
      "Epoch 174/400\n",
      "39/39 - 0s - loss: 0.2758 - dense_16_loss: 0.1467 - dense_17_loss: 0.1291 - 195ms/epoch - 5ms/step\n",
      "Epoch 175/400\n",
      "39/39 - 0s - loss: 0.2801 - dense_16_loss: 0.1498 - dense_17_loss: 0.1303 - 194ms/epoch - 5ms/step\n",
      "Epoch 176/400\n",
      "39/39 - 0s - loss: 0.2757 - dense_16_loss: 0.1446 - dense_17_loss: 0.1312 - 199ms/epoch - 5ms/step\n",
      "Epoch 177/400\n",
      "39/39 - 0s - loss: 0.2677 - dense_16_loss: 0.1421 - dense_17_loss: 0.1256 - 194ms/epoch - 5ms/step\n",
      "Epoch 178/400\n",
      "39/39 - 0s - loss: 0.2718 - dense_16_loss: 0.1426 - dense_17_loss: 0.1291 - 194ms/epoch - 5ms/step\n",
      "Epoch 179/400\n",
      "39/39 - 0s - loss: 0.2686 - dense_16_loss: 0.1447 - dense_17_loss: 0.1239 - 196ms/epoch - 5ms/step\n",
      "Epoch 180/400\n",
      "39/39 - 0s - loss: 0.2685 - dense_16_loss: 0.1409 - dense_17_loss: 0.1275 - 193ms/epoch - 5ms/step\n",
      "Epoch 181/400\n",
      "39/39 - 0s - loss: 0.2767 - dense_16_loss: 0.1477 - dense_17_loss: 0.1290 - 196ms/epoch - 5ms/step\n",
      "Epoch 182/400\n",
      "39/39 - 0s - loss: 0.2759 - dense_16_loss: 0.1440 - dense_17_loss: 0.1319 - 194ms/epoch - 5ms/step\n",
      "Epoch 183/400\n",
      "39/39 - 0s - loss: 0.2641 - dense_16_loss: 0.1413 - dense_17_loss: 0.1228 - 195ms/epoch - 5ms/step\n",
      "Epoch 184/400\n",
      "39/39 - 0s - loss: 0.2704 - dense_16_loss: 0.1400 - dense_17_loss: 0.1304 - 194ms/epoch - 5ms/step\n",
      "Epoch 185/400\n",
      "39/39 - 0s - loss: 0.2679 - dense_16_loss: 0.1403 - dense_17_loss: 0.1277 - 195ms/epoch - 5ms/step\n",
      "Epoch 186/400\n",
      "39/39 - 0s - loss: 0.2662 - dense_16_loss: 0.1381 - dense_17_loss: 0.1281 - 195ms/epoch - 5ms/step\n",
      "Epoch 187/400\n",
      "39/39 - 0s - loss: 0.2622 - dense_16_loss: 0.1357 - dense_17_loss: 0.1264 - 195ms/epoch - 5ms/step\n",
      "Epoch 188/400\n",
      "39/39 - 0s - loss: 0.2748 - dense_16_loss: 0.1479 - dense_17_loss: 0.1269 - 195ms/epoch - 5ms/step\n",
      "Epoch 189/400\n",
      "39/39 - 0s - loss: 0.2707 - dense_16_loss: 0.1483 - dense_17_loss: 0.1224 - 194ms/epoch - 5ms/step\n",
      "Epoch 190/400\n",
      "39/39 - 0s - loss: 0.2695 - dense_16_loss: 0.1407 - dense_17_loss: 0.1289 - 194ms/epoch - 5ms/step\n",
      "Epoch 191/400\n",
      "39/39 - 0s - loss: 0.2651 - dense_16_loss: 0.1379 - dense_17_loss: 0.1272 - 193ms/epoch - 5ms/step\n",
      "Epoch 192/400\n",
      "39/39 - 0s - loss: 0.2694 - dense_16_loss: 0.1382 - dense_17_loss: 0.1312 - 194ms/epoch - 5ms/step\n",
      "Epoch 193/400\n",
      "39/39 - 0s - loss: 0.2714 - dense_16_loss: 0.1440 - dense_17_loss: 0.1274 - 195ms/epoch - 5ms/step\n",
      "Epoch 194/400\n",
      "39/39 - 0s - loss: 0.2827 - dense_16_loss: 0.1500 - dense_17_loss: 0.1327 - 196ms/epoch - 5ms/step\n",
      "Epoch 195/400\n",
      "39/39 - 0s - loss: 0.2689 - dense_16_loss: 0.1472 - dense_17_loss: 0.1217 - 195ms/epoch - 5ms/step\n",
      "Epoch 196/400\n",
      "39/39 - 0s - loss: 0.2618 - dense_16_loss: 0.1378 - dense_17_loss: 0.1240 - 195ms/epoch - 5ms/step\n",
      "Epoch 197/400\n",
      "39/39 - 0s - loss: 0.2636 - dense_16_loss: 0.1349 - dense_17_loss: 0.1288 - 194ms/epoch - 5ms/step\n",
      "Epoch 198/400\n",
      "39/39 - 0s - loss: 0.2650 - dense_16_loss: 0.1367 - dense_17_loss: 0.1283 - 194ms/epoch - 5ms/step\n",
      "Epoch 199/400\n",
      "39/39 - 0s - loss: 0.2541 - dense_16_loss: 0.1386 - dense_17_loss: 0.1155 - 196ms/epoch - 5ms/step\n",
      "Epoch 200/400\n",
      "39/39 - 0s - loss: 0.2535 - dense_16_loss: 0.1323 - dense_17_loss: 0.1212 - 193ms/epoch - 5ms/step\n",
      "Epoch 201/400\n",
      "39/39 - 0s - loss: 0.2615 - dense_16_loss: 0.1403 - dense_17_loss: 0.1213 - 193ms/epoch - 5ms/step\n",
      "Epoch 202/400\n",
      "39/39 - 0s - loss: 0.2569 - dense_16_loss: 0.1325 - dense_17_loss: 0.1244 - 195ms/epoch - 5ms/step\n",
      "Epoch 203/400\n",
      "39/39 - 0s - loss: 0.2570 - dense_16_loss: 0.1369 - dense_17_loss: 0.1200 - 192ms/epoch - 5ms/step\n",
      "Epoch 204/400\n",
      "39/39 - 0s - loss: 0.2560 - dense_16_loss: 0.1343 - dense_17_loss: 0.1217 - 195ms/epoch - 5ms/step\n",
      "Epoch 205/400\n",
      "39/39 - 0s - loss: 0.2570 - dense_16_loss: 0.1345 - dense_17_loss: 0.1225 - 192ms/epoch - 5ms/step\n",
      "Epoch 206/400\n",
      "39/39 - 0s - loss: 0.2596 - dense_16_loss: 0.1362 - dense_17_loss: 0.1235 - 194ms/epoch - 5ms/step\n",
      "Epoch 207/400\n",
      "39/39 - 0s - loss: 0.2555 - dense_16_loss: 0.1345 - dense_17_loss: 0.1210 - 193ms/epoch - 5ms/step\n",
      "Epoch 208/400\n",
      "39/39 - 0s - loss: 0.2556 - dense_16_loss: 0.1376 - dense_17_loss: 0.1180 - 194ms/epoch - 5ms/step\n",
      "Epoch 209/400\n",
      "39/39 - 0s - loss: 0.2533 - dense_16_loss: 0.1360 - dense_17_loss: 0.1174 - 196ms/epoch - 5ms/step\n",
      "Epoch 210/400\n",
      "39/39 - 0s - loss: 0.2642 - dense_16_loss: 0.1429 - dense_17_loss: 0.1213 - 194ms/epoch - 5ms/step\n",
      "Epoch 211/400\n",
      "39/39 - 0s - loss: 0.2671 - dense_16_loss: 0.1396 - dense_17_loss: 0.1275 - 196ms/epoch - 5ms/step\n",
      "Epoch 212/400\n",
      "39/39 - 0s - loss: 0.2573 - dense_16_loss: 0.1390 - dense_17_loss: 0.1183 - 195ms/epoch - 5ms/step\n",
      "Epoch 213/400\n",
      "39/39 - 0s - loss: 0.2608 - dense_16_loss: 0.1355 - dense_17_loss: 0.1253 - 197ms/epoch - 5ms/step\n",
      "Epoch 214/400\n",
      "39/39 - 0s - loss: 0.2556 - dense_16_loss: 0.1321 - dense_17_loss: 0.1234 - 191ms/epoch - 5ms/step\n",
      "Epoch 215/400\n",
      "39/39 - 0s - loss: 0.2510 - dense_16_loss: 0.1311 - dense_17_loss: 0.1200 - 193ms/epoch - 5ms/step\n",
      "Epoch 216/400\n",
      "39/39 - 0s - loss: 0.2501 - dense_16_loss: 0.1336 - dense_17_loss: 0.1166 - 194ms/epoch - 5ms/step\n",
      "Epoch 217/400\n",
      "39/39 - 0s - loss: 0.2530 - dense_16_loss: 0.1356 - dense_17_loss: 0.1174 - 195ms/epoch - 5ms/step\n",
      "Epoch 218/400\n",
      "39/39 - 0s - loss: 0.2520 - dense_16_loss: 0.1304 - dense_17_loss: 0.1215 - 196ms/epoch - 5ms/step\n",
      "Epoch 219/400\n",
      "39/39 - 0s - loss: 0.2513 - dense_16_loss: 0.1353 - dense_17_loss: 0.1160 - 195ms/epoch - 5ms/step\n",
      "Epoch 220/400\n",
      "39/39 - 0s - loss: 0.2542 - dense_16_loss: 0.1368 - dense_17_loss: 0.1175 - 196ms/epoch - 5ms/step\n"
     ]
    },
    {
     "name": "stdout",
     "output_type": "stream",
     "text": [
      "Epoch 221/400\n",
      "39/39 - 0s - loss: 0.2576 - dense_16_loss: 0.1389 - dense_17_loss: 0.1187 - 195ms/epoch - 5ms/step\n",
      "Epoch 222/400\n",
      "39/39 - 0s - loss: 0.2471 - dense_16_loss: 0.1314 - dense_17_loss: 0.1158 - 195ms/epoch - 5ms/step\n",
      "Epoch 223/400\n",
      "39/39 - 0s - loss: 0.2480 - dense_16_loss: 0.1346 - dense_17_loss: 0.1133 - 193ms/epoch - 5ms/step\n",
      "Epoch 224/400\n",
      "39/39 - 0s - loss: 0.2479 - dense_16_loss: 0.1293 - dense_17_loss: 0.1186 - 193ms/epoch - 5ms/step\n",
      "Epoch 225/400\n",
      "39/39 - 0s - loss: 0.2564 - dense_16_loss: 0.1363 - dense_17_loss: 0.1200 - 195ms/epoch - 5ms/step\n",
      "Epoch 226/400\n",
      "39/39 - 0s - loss: 0.2485 - dense_16_loss: 0.1338 - dense_17_loss: 0.1146 - 197ms/epoch - 5ms/step\n",
      "Epoch 227/400\n",
      "39/39 - 0s - loss: 0.2489 - dense_16_loss: 0.1297 - dense_17_loss: 0.1192 - 193ms/epoch - 5ms/step\n",
      "Epoch 228/400\n",
      "39/39 - 0s - loss: 0.2561 - dense_16_loss: 0.1358 - dense_17_loss: 0.1202 - 191ms/epoch - 5ms/step\n",
      "Epoch 229/400\n",
      "39/39 - 0s - loss: 0.2578 - dense_16_loss: 0.1386 - dense_17_loss: 0.1193 - 190ms/epoch - 5ms/step\n",
      "Epoch 230/400\n",
      "39/39 - 0s - loss: 0.2464 - dense_16_loss: 0.1288 - dense_17_loss: 0.1176 - 190ms/epoch - 5ms/step\n",
      "Epoch 231/400\n",
      "39/39 - 0s - loss: 0.2482 - dense_16_loss: 0.1323 - dense_17_loss: 0.1159 - 191ms/epoch - 5ms/step\n",
      "Epoch 232/400\n",
      "39/39 - 0s - loss: 0.2415 - dense_16_loss: 0.1274 - dense_17_loss: 0.1140 - 190ms/epoch - 5ms/step\n",
      "Epoch 233/400\n",
      "39/39 - 0s - loss: 0.2395 - dense_16_loss: 0.1277 - dense_17_loss: 0.1119 - 191ms/epoch - 5ms/step\n",
      "Epoch 234/400\n",
      "39/39 - 0s - loss: 0.2398 - dense_16_loss: 0.1280 - dense_17_loss: 0.1117 - 192ms/epoch - 5ms/step\n",
      "Epoch 235/400\n",
      "39/39 - 0s - loss: 0.2429 - dense_16_loss: 0.1252 - dense_17_loss: 0.1177 - 190ms/epoch - 5ms/step\n",
      "Epoch 236/400\n",
      "39/39 - 0s - loss: 0.2405 - dense_16_loss: 0.1249 - dense_17_loss: 0.1156 - 191ms/epoch - 5ms/step\n",
      "Epoch 237/400\n",
      "39/39 - 0s - loss: 0.2539 - dense_16_loss: 0.1338 - dense_17_loss: 0.1200 - 192ms/epoch - 5ms/step\n",
      "Epoch 238/400\n",
      "39/39 - 0s - loss: 0.2493 - dense_16_loss: 0.1266 - dense_17_loss: 0.1227 - 192ms/epoch - 5ms/step\n",
      "Epoch 239/400\n",
      "39/39 - 0s - loss: 0.2413 - dense_16_loss: 0.1267 - dense_17_loss: 0.1146 - 192ms/epoch - 5ms/step\n",
      "Epoch 240/400\n",
      "39/39 - 0s - loss: 0.2389 - dense_16_loss: 0.1252 - dense_17_loss: 0.1137 - 192ms/epoch - 5ms/step\n",
      "Epoch 241/400\n",
      "39/39 - 0s - loss: 0.2416 - dense_16_loss: 0.1310 - dense_17_loss: 0.1106 - 191ms/epoch - 5ms/step\n",
      "Epoch 242/400\n",
      "39/39 - 0s - loss: 0.2394 - dense_16_loss: 0.1316 - dense_17_loss: 0.1078 - 195ms/epoch - 5ms/step\n",
      "Epoch 243/400\n",
      "39/39 - 0s - loss: 0.2317 - dense_16_loss: 0.1205 - dense_17_loss: 0.1112 - 192ms/epoch - 5ms/step\n",
      "Epoch 244/400\n",
      "39/39 - 0s - loss: 0.2410 - dense_16_loss: 0.1260 - dense_17_loss: 0.1149 - 194ms/epoch - 5ms/step\n",
      "Epoch 245/400\n",
      "39/39 - 0s - loss: 0.2366 - dense_16_loss: 0.1265 - dense_17_loss: 0.1102 - 193ms/epoch - 5ms/step\n",
      "Epoch 246/400\n",
      "39/39 - 0s - loss: 0.2450 - dense_16_loss: 0.1281 - dense_17_loss: 0.1169 - 192ms/epoch - 5ms/step\n",
      "Epoch 247/400\n",
      "39/39 - 0s - loss: 0.2425 - dense_16_loss: 0.1270 - dense_17_loss: 0.1155 - 193ms/epoch - 5ms/step\n",
      "Epoch 248/400\n",
      "39/39 - 0s - loss: 0.2423 - dense_16_loss: 0.1235 - dense_17_loss: 0.1187 - 192ms/epoch - 5ms/step\n",
      "Epoch 249/400\n",
      "39/39 - 0s - loss: 0.2397 - dense_16_loss: 0.1271 - dense_17_loss: 0.1125 - 193ms/epoch - 5ms/step\n",
      "Epoch 250/400\n",
      "39/39 - 0s - loss: 0.2365 - dense_16_loss: 0.1247 - dense_17_loss: 0.1119 - 195ms/epoch - 5ms/step\n",
      "Epoch 251/400\n",
      "39/39 - 0s - loss: 0.2395 - dense_16_loss: 0.1245 - dense_17_loss: 0.1150 - 195ms/epoch - 5ms/step\n",
      "Epoch 252/400\n",
      "39/39 - 0s - loss: 0.2496 - dense_16_loss: 0.1310 - dense_17_loss: 0.1186 - 196ms/epoch - 5ms/step\n",
      "Epoch 253/400\n",
      "39/39 - 0s - loss: 0.2415 - dense_16_loss: 0.1229 - dense_17_loss: 0.1186 - 196ms/epoch - 5ms/step\n",
      "Epoch 254/400\n",
      "39/39 - 0s - loss: 0.2478 - dense_16_loss: 0.1307 - dense_17_loss: 0.1171 - 197ms/epoch - 5ms/step\n",
      "Epoch 255/400\n",
      "39/39 - 0s - loss: 0.2424 - dense_16_loss: 0.1295 - dense_17_loss: 0.1129 - 197ms/epoch - 5ms/step\n",
      "Epoch 256/400\n",
      "39/39 - 0s - loss: 0.2328 - dense_16_loss: 0.1225 - dense_17_loss: 0.1103 - 194ms/epoch - 5ms/step\n",
      "Epoch 257/400\n",
      "39/39 - 0s - loss: 0.2342 - dense_16_loss: 0.1229 - dense_17_loss: 0.1113 - 192ms/epoch - 5ms/step\n",
      "Epoch 258/400\n",
      "39/39 - 0s - loss: 0.2447 - dense_16_loss: 0.1272 - dense_17_loss: 0.1175 - 196ms/epoch - 5ms/step\n",
      "Epoch 259/400\n",
      "39/39 - 0s - loss: 0.2381 - dense_16_loss: 0.1236 - dense_17_loss: 0.1145 - 194ms/epoch - 5ms/step\n",
      "Epoch 260/400\n",
      "39/39 - 0s - loss: 0.2383 - dense_16_loss: 0.1239 - dense_17_loss: 0.1144 - 192ms/epoch - 5ms/step\n",
      "Epoch 261/400\n",
      "39/39 - 0s - loss: 0.2388 - dense_16_loss: 0.1255 - dense_17_loss: 0.1134 - 190ms/epoch - 5ms/step\n",
      "Epoch 262/400\n",
      "39/39 - 0s - loss: 0.2302 - dense_16_loss: 0.1181 - dense_17_loss: 0.1121 - 191ms/epoch - 5ms/step\n",
      "Epoch 263/400\n",
      "39/39 - 0s - loss: 0.2350 - dense_16_loss: 0.1257 - dense_17_loss: 0.1093 - 194ms/epoch - 5ms/step\n",
      "Epoch 264/400\n",
      "39/39 - 0s - loss: 0.2322 - dense_16_loss: 0.1196 - dense_17_loss: 0.1125 - 196ms/epoch - 5ms/step\n",
      "Epoch 265/400\n",
      "39/39 - 0s - loss: 0.2239 - dense_16_loss: 0.1173 - dense_17_loss: 0.1067 - 196ms/epoch - 5ms/step\n",
      "Epoch 266/400\n",
      "39/39 - 0s - loss: 0.2264 - dense_16_loss: 0.1186 - dense_17_loss: 0.1077 - 196ms/epoch - 5ms/step\n",
      "Epoch 267/400\n",
      "39/39 - 0s - loss: 0.2436 - dense_16_loss: 0.1247 - dense_17_loss: 0.1189 - 194ms/epoch - 5ms/step\n",
      "Epoch 268/400\n",
      "39/39 - 0s - loss: 0.2292 - dense_16_loss: 0.1204 - dense_17_loss: 0.1087 - 191ms/epoch - 5ms/step\n",
      "Epoch 269/400\n",
      "39/39 - 0s - loss: 0.2314 - dense_16_loss: 0.1206 - dense_17_loss: 0.1108 - 193ms/epoch - 5ms/step\n",
      "Epoch 270/400\n",
      "39/39 - 0s - loss: 0.2367 - dense_16_loss: 0.1217 - dense_17_loss: 0.1150 - 195ms/epoch - 5ms/step\n",
      "Epoch 271/400\n",
      "39/39 - 0s - loss: 0.2279 - dense_16_loss: 0.1172 - dense_17_loss: 0.1107 - 192ms/epoch - 5ms/step\n",
      "Epoch 272/400\n",
      "39/39 - 0s - loss: 0.2322 - dense_16_loss: 0.1255 - dense_17_loss: 0.1067 - 194ms/epoch - 5ms/step\n",
      "Epoch 273/400\n",
      "39/39 - 0s - loss: 0.2427 - dense_16_loss: 0.1322 - dense_17_loss: 0.1105 - 193ms/epoch - 5ms/step\n",
      "Epoch 274/400\n",
      "39/39 - 0s - loss: 0.2277 - dense_16_loss: 0.1203 - dense_17_loss: 0.1073 - 194ms/epoch - 5ms/step\n",
      "Epoch 275/400\n",
      "39/39 - 0s - loss: 0.2325 - dense_16_loss: 0.1234 - dense_17_loss: 0.1090 - 193ms/epoch - 5ms/step\n",
      "Epoch 276/400\n",
      "39/39 - 0s - loss: 0.2220 - dense_16_loss: 0.1183 - dense_17_loss: 0.1037 - 191ms/epoch - 5ms/step\n",
      "Epoch 277/400\n",
      "39/39 - 0s - loss: 0.2254 - dense_16_loss: 0.1216 - dense_17_loss: 0.1038 - 193ms/epoch - 5ms/step\n",
      "Epoch 278/400\n",
      "39/39 - 0s - loss: 0.2346 - dense_16_loss: 0.1248 - dense_17_loss: 0.1098 - 191ms/epoch - 5ms/step\n",
      "Epoch 279/400\n",
      "39/39 - 0s - loss: 0.2327 - dense_16_loss: 0.1219 - dense_17_loss: 0.1108 - 192ms/epoch - 5ms/step\n",
      "Epoch 280/400\n",
      "39/39 - 0s - loss: 0.2250 - dense_16_loss: 0.1192 - dense_17_loss: 0.1058 - 192ms/epoch - 5ms/step\n",
      "Epoch 281/400\n",
      "39/39 - 0s - loss: 0.2314 - dense_16_loss: 0.1230 - dense_17_loss: 0.1083 - 193ms/epoch - 5ms/step\n",
      "Epoch 282/400\n",
      "39/39 - 0s - loss: 0.2265 - dense_16_loss: 0.1213 - dense_17_loss: 0.1052 - 190ms/epoch - 5ms/step\n",
      "Epoch 283/400\n",
      "39/39 - 0s - loss: 0.2340 - dense_16_loss: 0.1211 - dense_17_loss: 0.1129 - 193ms/epoch - 5ms/step\n",
      "Epoch 284/400\n",
      "39/39 - 0s - loss: 0.2293 - dense_16_loss: 0.1157 - dense_17_loss: 0.1137 - 194ms/epoch - 5ms/step\n",
      "Epoch 285/400\n",
      "39/39 - 0s - loss: 0.2361 - dense_16_loss: 0.1200 - dense_17_loss: 0.1161 - 195ms/epoch - 5ms/step\n",
      "Epoch 286/400\n",
      "39/39 - 0s - loss: 0.2281 - dense_16_loss: 0.1178 - dense_17_loss: 0.1103 - 192ms/epoch - 5ms/step\n",
      "Epoch 287/400\n",
      "39/39 - 0s - loss: 0.2239 - dense_16_loss: 0.1167 - dense_17_loss: 0.1072 - 192ms/epoch - 5ms/step\n",
      "Epoch 288/400\n",
      "39/39 - 0s - loss: 0.2293 - dense_16_loss: 0.1205 - dense_17_loss: 0.1088 - 192ms/epoch - 5ms/step\n",
      "Epoch 289/400\n",
      "39/39 - 0s - loss: 0.2236 - dense_16_loss: 0.1124 - dense_17_loss: 0.1112 - 190ms/epoch - 5ms/step\n",
      "Epoch 290/400\n",
      "39/39 - 0s - loss: 0.2288 - dense_16_loss: 0.1188 - dense_17_loss: 0.1101 - 195ms/epoch - 5ms/step\n",
      "Epoch 291/400\n",
      "39/39 - 0s - loss: 0.2295 - dense_16_loss: 0.1178 - dense_17_loss: 0.1117 - 198ms/epoch - 5ms/step\n",
      "Epoch 292/400\n",
      "39/39 - 0s - loss: 0.2281 - dense_16_loss: 0.1213 - dense_17_loss: 0.1068 - 195ms/epoch - 5ms/step\n",
      "Epoch 293/400\n",
      "39/39 - 0s - loss: 0.2200 - dense_16_loss: 0.1165 - dense_17_loss: 0.1035 - 194ms/epoch - 5ms/step\n"
     ]
    },
    {
     "name": "stdout",
     "output_type": "stream",
     "text": [
      "Epoch 294/400\n",
      "39/39 - 0s - loss: 0.2233 - dense_16_loss: 0.1178 - dense_17_loss: 0.1054 - 194ms/epoch - 5ms/step\n",
      "Epoch 295/400\n",
      "39/39 - 0s - loss: 0.2192 - dense_16_loss: 0.1133 - dense_17_loss: 0.1060 - 194ms/epoch - 5ms/step\n",
      "Epoch 296/400\n",
      "39/39 - 0s - loss: 0.2241 - dense_16_loss: 0.1201 - dense_17_loss: 0.1040 - 196ms/epoch - 5ms/step\n",
      "Epoch 297/400\n",
      "39/39 - 0s - loss: 0.2350 - dense_16_loss: 0.1183 - dense_17_loss: 0.1167 - 192ms/epoch - 5ms/step\n",
      "Epoch 298/400\n",
      "39/39 - 0s - loss: 0.2256 - dense_16_loss: 0.1172 - dense_17_loss: 0.1085 - 195ms/epoch - 5ms/step\n",
      "Epoch 299/400\n",
      "39/39 - 0s - loss: 0.2172 - dense_16_loss: 0.1147 - dense_17_loss: 0.1025 - 195ms/epoch - 5ms/step\n",
      "Epoch 300/400\n",
      "39/39 - 0s - loss: 0.2253 - dense_16_loss: 0.1224 - dense_17_loss: 0.1029 - 197ms/epoch - 5ms/step\n",
      "Epoch 301/400\n",
      "39/39 - 0s - loss: 0.2152 - dense_16_loss: 0.1175 - dense_17_loss: 0.0977 - 198ms/epoch - 5ms/step\n",
      "Epoch 302/400\n",
      "39/39 - 0s - loss: 0.2252 - dense_16_loss: 0.1219 - dense_17_loss: 0.1033 - 197ms/epoch - 5ms/step\n",
      "Epoch 303/400\n",
      "39/39 - 0s - loss: 0.2199 - dense_16_loss: 0.1161 - dense_17_loss: 0.1038 - 196ms/epoch - 5ms/step\n",
      "Epoch 304/400\n",
      "39/39 - 0s - loss: 0.2230 - dense_16_loss: 0.1205 - dense_17_loss: 0.1026 - 195ms/epoch - 5ms/step\n",
      "Epoch 305/400\n",
      "39/39 - 0s - loss: 0.2088 - dense_16_loss: 0.1085 - dense_17_loss: 0.1003 - 197ms/epoch - 5ms/step\n",
      "Epoch 306/400\n",
      "39/39 - 0s - loss: 0.2210 - dense_16_loss: 0.1162 - dense_17_loss: 0.1048 - 195ms/epoch - 5ms/step\n",
      "Epoch 307/400\n",
      "39/39 - 0s - loss: 0.2170 - dense_16_loss: 0.1155 - dense_17_loss: 0.1015 - 195ms/epoch - 5ms/step\n",
      "Epoch 308/400\n",
      "39/39 - 0s - loss: 0.2182 - dense_16_loss: 0.1152 - dense_17_loss: 0.1030 - 194ms/epoch - 5ms/step\n",
      "Epoch 309/400\n",
      "39/39 - 0s - loss: 0.2188 - dense_16_loss: 0.1140 - dense_17_loss: 0.1048 - 197ms/epoch - 5ms/step\n",
      "Epoch 310/400\n",
      "39/39 - 0s - loss: 0.2327 - dense_16_loss: 0.1206 - dense_17_loss: 0.1121 - 199ms/epoch - 5ms/step\n",
      "Epoch 311/400\n",
      "39/39 - 0s - loss: 0.2259 - dense_16_loss: 0.1141 - dense_17_loss: 0.1118 - 192ms/epoch - 5ms/step\n",
      "Epoch 312/400\n",
      "39/39 - 0s - loss: 0.2189 - dense_16_loss: 0.1140 - dense_17_loss: 0.1049 - 196ms/epoch - 5ms/step\n",
      "Epoch 313/400\n",
      "39/39 - 0s - loss: 0.2184 - dense_16_loss: 0.1153 - dense_17_loss: 0.1030 - 196ms/epoch - 5ms/step\n",
      "Epoch 314/400\n",
      "39/39 - 0s - loss: 0.2188 - dense_16_loss: 0.1134 - dense_17_loss: 0.1055 - 197ms/epoch - 5ms/step\n",
      "Epoch 315/400\n",
      "39/39 - 0s - loss: 0.2224 - dense_16_loss: 0.1148 - dense_17_loss: 0.1076 - 197ms/epoch - 5ms/step\n",
      "Epoch 316/400\n",
      "39/39 - 0s - loss: 0.2203 - dense_16_loss: 0.1163 - dense_17_loss: 0.1040 - 194ms/epoch - 5ms/step\n",
      "Epoch 317/400\n",
      "39/39 - 0s - loss: 0.2170 - dense_16_loss: 0.1109 - dense_17_loss: 0.1061 - 196ms/epoch - 5ms/step\n",
      "Epoch 318/400\n",
      "39/39 - 0s - loss: 0.2233 - dense_16_loss: 0.1190 - dense_17_loss: 0.1043 - 197ms/epoch - 5ms/step\n",
      "Epoch 319/400\n",
      "39/39 - 0s - loss: 0.2068 - dense_16_loss: 0.1082 - dense_17_loss: 0.0986 - 192ms/epoch - 5ms/step\n",
      "Epoch 320/400\n",
      "39/39 - 0s - loss: 0.2152 - dense_16_loss: 0.1103 - dense_17_loss: 0.1049 - 198ms/epoch - 5ms/step\n",
      "Epoch 321/400\n",
      "39/39 - 0s - loss: 0.2134 - dense_16_loss: 0.1146 - dense_17_loss: 0.0988 - 197ms/epoch - 5ms/step\n",
      "Epoch 322/400\n",
      "39/39 - 0s - loss: 0.2192 - dense_16_loss: 0.1135 - dense_17_loss: 0.1056 - 197ms/epoch - 5ms/step\n",
      "Epoch 323/400\n",
      "39/39 - 0s - loss: 0.2255 - dense_16_loss: 0.1165 - dense_17_loss: 0.1090 - 194ms/epoch - 5ms/step\n",
      "Epoch 324/400\n",
      "39/39 - 0s - loss: 0.2112 - dense_16_loss: 0.1095 - dense_17_loss: 0.1016 - 198ms/epoch - 5ms/step\n",
      "Epoch 325/400\n",
      "39/39 - 0s - loss: 0.2067 - dense_16_loss: 0.1070 - dense_17_loss: 0.0997 - 196ms/epoch - 5ms/step\n",
      "Epoch 326/400\n",
      "39/39 - 0s - loss: 0.2089 - dense_16_loss: 0.1095 - dense_17_loss: 0.0994 - 194ms/epoch - 5ms/step\n",
      "Epoch 327/400\n",
      "39/39 - 0s - loss: 0.2225 - dense_16_loss: 0.1144 - dense_17_loss: 0.1080 - 194ms/epoch - 5ms/step\n",
      "Epoch 328/400\n",
      "39/39 - 0s - loss: 0.2323 - dense_16_loss: 0.1172 - dense_17_loss: 0.1150 - 195ms/epoch - 5ms/step\n",
      "Epoch 329/400\n",
      "39/39 - 0s - loss: 0.2178 - dense_16_loss: 0.1120 - dense_17_loss: 0.1058 - 193ms/epoch - 5ms/step\n",
      "Epoch 330/400\n",
      "39/39 - 0s - loss: 0.2188 - dense_16_loss: 0.1137 - dense_17_loss: 0.1051 - 195ms/epoch - 5ms/step\n",
      "Epoch 331/400\n",
      "39/39 - 0s - loss: 0.2129 - dense_16_loss: 0.1102 - dense_17_loss: 0.1027 - 192ms/epoch - 5ms/step\n",
      "Epoch 332/400\n",
      "39/39 - 0s - loss: 0.2200 - dense_16_loss: 0.1143 - dense_17_loss: 0.1057 - 194ms/epoch - 5ms/step\n",
      "Epoch 333/400\n",
      "39/39 - 0s - loss: 0.2136 - dense_16_loss: 0.1111 - dense_17_loss: 0.1025 - 193ms/epoch - 5ms/step\n",
      "Epoch 334/400\n",
      "39/39 - 0s - loss: 0.2135 - dense_16_loss: 0.1086 - dense_17_loss: 0.1049 - 193ms/epoch - 5ms/step\n",
      "Epoch 335/400\n",
      "39/39 - 0s - loss: 0.2176 - dense_16_loss: 0.1145 - dense_17_loss: 0.1032 - 195ms/epoch - 5ms/step\n",
      "Epoch 336/400\n",
      "39/39 - 0s - loss: 0.2170 - dense_16_loss: 0.1190 - dense_17_loss: 0.0980 - 204ms/epoch - 5ms/step\n",
      "Epoch 337/400\n",
      "39/39 - 0s - loss: 0.2057 - dense_16_loss: 0.1068 - dense_17_loss: 0.0989 - 201ms/epoch - 5ms/step\n",
      "Epoch 338/400\n",
      "39/39 - 0s - loss: 0.2135 - dense_16_loss: 0.1143 - dense_17_loss: 0.0992 - 195ms/epoch - 5ms/step\n",
      "Epoch 339/400\n",
      "39/39 - 0s - loss: 0.2192 - dense_16_loss: 0.1110 - dense_17_loss: 0.1083 - 194ms/epoch - 5ms/step\n",
      "Epoch 340/400\n",
      "39/39 - 0s - loss: 0.2063 - dense_16_loss: 0.1118 - dense_17_loss: 0.0945 - 195ms/epoch - 5ms/step\n",
      "Epoch 341/400\n",
      "39/39 - 0s - loss: 0.2105 - dense_16_loss: 0.1120 - dense_17_loss: 0.0984 - 193ms/epoch - 5ms/step\n",
      "Epoch 342/400\n",
      "39/39 - 0s - loss: 0.2195 - dense_16_loss: 0.1125 - dense_17_loss: 0.1070 - 198ms/epoch - 5ms/step\n",
      "Epoch 343/400\n",
      "39/39 - 0s - loss: 0.2198 - dense_16_loss: 0.1125 - dense_17_loss: 0.1072 - 194ms/epoch - 5ms/step\n",
      "Epoch 344/400\n",
      "39/39 - 0s - loss: 0.2143 - dense_16_loss: 0.1100 - dense_17_loss: 0.1043 - 201ms/epoch - 5ms/step\n",
      "Epoch 345/400\n",
      "39/39 - 0s - loss: 0.2156 - dense_16_loss: 0.1154 - dense_17_loss: 0.1003 - 195ms/epoch - 5ms/step\n",
      "Epoch 346/400\n",
      "39/39 - 0s - loss: 0.2104 - dense_16_loss: 0.1089 - dense_17_loss: 0.1015 - 193ms/epoch - 5ms/step\n",
      "Epoch 347/400\n",
      "39/39 - 0s - loss: 0.2081 - dense_16_loss: 0.1078 - dense_17_loss: 0.1003 - 199ms/epoch - 5ms/step\n",
      "Epoch 348/400\n",
      "39/39 - 0s - loss: 0.2152 - dense_16_loss: 0.1126 - dense_17_loss: 0.1027 - 197ms/epoch - 5ms/step\n",
      "Epoch 349/400\n",
      "39/39 - 0s - loss: 0.2307 - dense_16_loss: 0.1208 - dense_17_loss: 0.1099 - 196ms/epoch - 5ms/step\n",
      "Epoch 350/400\n",
      "39/39 - 0s - loss: 0.2153 - dense_16_loss: 0.1115 - dense_17_loss: 0.1037 - 193ms/epoch - 5ms/step\n",
      "Epoch 351/400\n",
      "39/39 - 0s - loss: 0.2175 - dense_16_loss: 0.1121 - dense_17_loss: 0.1053 - 201ms/epoch - 5ms/step\n",
      "Epoch 352/400\n",
      "39/39 - 0s - loss: 0.2064 - dense_16_loss: 0.1091 - dense_17_loss: 0.0973 - 193ms/epoch - 5ms/step\n",
      "Epoch 353/400\n",
      "39/39 - 0s - loss: 0.2070 - dense_16_loss: 0.1089 - dense_17_loss: 0.0981 - 191ms/epoch - 5ms/step\n",
      "Epoch 354/400\n",
      "39/39 - 0s - loss: 0.2079 - dense_16_loss: 0.1066 - dense_17_loss: 0.1013 - 192ms/epoch - 5ms/step\n",
      "Epoch 355/400\n",
      "39/39 - 0s - loss: 0.2074 - dense_16_loss: 0.1089 - dense_17_loss: 0.0985 - 196ms/epoch - 5ms/step\n",
      "Epoch 356/400\n",
      "39/39 - 0s - loss: 0.2126 - dense_16_loss: 0.1068 - dense_17_loss: 0.1058 - 196ms/epoch - 5ms/step\n",
      "Epoch 357/400\n",
      "39/39 - 0s - loss: 0.2116 - dense_16_loss: 0.1076 - dense_17_loss: 0.1040 - 196ms/epoch - 5ms/step\n",
      "Epoch 358/400\n",
      "39/39 - 0s - loss: 0.2141 - dense_16_loss: 0.1120 - dense_17_loss: 0.1021 - 192ms/epoch - 5ms/step\n",
      "Epoch 359/400\n",
      "39/39 - 0s - loss: 0.2182 - dense_16_loss: 0.1053 - dense_17_loss: 0.1129 - 192ms/epoch - 5ms/step\n",
      "Epoch 360/400\n",
      "39/39 - 0s - loss: 0.2123 - dense_16_loss: 0.1155 - dense_17_loss: 0.0968 - 199ms/epoch - 5ms/step\n",
      "Epoch 361/400\n",
      "39/39 - 0s - loss: 0.2039 - dense_16_loss: 0.1089 - dense_17_loss: 0.0950 - 192ms/epoch - 5ms/step\n",
      "Epoch 362/400\n",
      "39/39 - 0s - loss: 0.2126 - dense_16_loss: 0.1104 - dense_17_loss: 0.1022 - 192ms/epoch - 5ms/step\n",
      "Epoch 363/400\n",
      "39/39 - 0s - loss: 0.2056 - dense_16_loss: 0.1099 - dense_17_loss: 0.0957 - 193ms/epoch - 5ms/step\n",
      "Epoch 364/400\n",
      "39/39 - 0s - loss: 0.2042 - dense_16_loss: 0.1073 - dense_17_loss: 0.0970 - 201ms/epoch - 5ms/step\n",
      "Epoch 365/400\n",
      "39/39 - 0s - loss: 0.2030 - dense_16_loss: 0.1049 - dense_17_loss: 0.0981 - 202ms/epoch - 5ms/step\n",
      "Epoch 366/400\n",
      "39/39 - 0s - loss: 0.2096 - dense_16_loss: 0.1095 - dense_17_loss: 0.1001 - 195ms/epoch - 5ms/step\n"
     ]
    },
    {
     "name": "stdout",
     "output_type": "stream",
     "text": [
      "Epoch 367/400\n",
      "39/39 - 0s - loss: 0.2162 - dense_16_loss: 0.1153 - dense_17_loss: 0.1009 - 191ms/epoch - 5ms/step\n",
      "Epoch 368/400\n",
      "39/39 - 0s - loss: 0.2044 - dense_16_loss: 0.1068 - dense_17_loss: 0.0976 - 201ms/epoch - 5ms/step\n",
      "Epoch 369/400\n",
      "39/39 - 0s - loss: 0.2061 - dense_16_loss: 0.1061 - dense_17_loss: 0.1000 - 196ms/epoch - 5ms/step\n",
      "Epoch 370/400\n",
      "39/39 - 0s - loss: 0.2117 - dense_16_loss: 0.1068 - dense_17_loss: 0.1049 - 193ms/epoch - 5ms/step\n",
      "Epoch 371/400\n",
      "39/39 - 0s - loss: 0.1993 - dense_16_loss: 0.1043 - dense_17_loss: 0.0950 - 197ms/epoch - 5ms/step\n",
      "Epoch 372/400\n",
      "39/39 - 0s - loss: 0.2061 - dense_16_loss: 0.1099 - dense_17_loss: 0.0962 - 199ms/epoch - 5ms/step\n",
      "Epoch 373/400\n",
      "39/39 - 0s - loss: 0.2118 - dense_16_loss: 0.1153 - dense_17_loss: 0.0965 - 193ms/epoch - 5ms/step\n",
      "Epoch 374/400\n",
      "39/39 - 0s - loss: 0.2095 - dense_16_loss: 0.1095 - dense_17_loss: 0.1000 - 192ms/epoch - 5ms/step\n",
      "Epoch 375/400\n",
      "39/39 - 0s - loss: 0.1985 - dense_16_loss: 0.1021 - dense_17_loss: 0.0964 - 196ms/epoch - 5ms/step\n",
      "Epoch 376/400\n",
      "39/39 - 0s - loss: 0.1911 - dense_16_loss: 0.1000 - dense_17_loss: 0.0911 - 199ms/epoch - 5ms/step\n",
      "Epoch 377/400\n",
      "39/39 - 0s - loss: 0.1968 - dense_16_loss: 0.1030 - dense_17_loss: 0.0938 - 197ms/epoch - 5ms/step\n",
      "Epoch 378/400\n",
      "39/39 - 0s - loss: 0.2004 - dense_16_loss: 0.1055 - dense_17_loss: 0.0949 - 192ms/epoch - 5ms/step\n",
      "Epoch 379/400\n",
      "39/39 - 0s - loss: 0.2118 - dense_16_loss: 0.1102 - dense_17_loss: 0.1016 - 194ms/epoch - 5ms/step\n",
      "Epoch 380/400\n",
      "39/39 - 0s - loss: 0.2075 - dense_16_loss: 0.1071 - dense_17_loss: 0.1004 - 197ms/epoch - 5ms/step\n",
      "Epoch 381/400\n",
      "39/39 - 0s - loss: 0.1980 - dense_16_loss: 0.1027 - dense_17_loss: 0.0952 - 200ms/epoch - 5ms/step\n",
      "Epoch 382/400\n",
      "39/39 - 0s - loss: 0.2070 - dense_16_loss: 0.1068 - dense_17_loss: 0.1001 - 198ms/epoch - 5ms/step\n",
      "Epoch 383/400\n",
      "39/39 - 0s - loss: 0.2061 - dense_16_loss: 0.1084 - dense_17_loss: 0.0977 - 196ms/epoch - 5ms/step\n",
      "Epoch 384/400\n",
      "39/39 - 0s - loss: 0.1980 - dense_16_loss: 0.1070 - dense_17_loss: 0.0911 - 203ms/epoch - 5ms/step\n",
      "Epoch 385/400\n",
      "39/39 - 0s - loss: 0.1952 - dense_16_loss: 0.1024 - dense_17_loss: 0.0929 - 198ms/epoch - 5ms/step\n",
      "Epoch 386/400\n",
      "39/39 - 0s - loss: 0.1987 - dense_16_loss: 0.1023 - dense_17_loss: 0.0964 - 197ms/epoch - 5ms/step\n",
      "Epoch 387/400\n",
      "39/39 - 0s - loss: 0.2044 - dense_16_loss: 0.1067 - dense_17_loss: 0.0978 - 206ms/epoch - 5ms/step\n",
      "Epoch 388/400\n",
      "39/39 - 0s - loss: 0.2074 - dense_16_loss: 0.1046 - dense_17_loss: 0.1028 - 195ms/epoch - 5ms/step\n",
      "Epoch 389/400\n",
      "39/39 - 0s - loss: 0.2133 - dense_16_loss: 0.1134 - dense_17_loss: 0.0999 - 200ms/epoch - 5ms/step\n",
      "Epoch 390/400\n",
      "39/39 - 0s - loss: 0.2066 - dense_16_loss: 0.1111 - dense_17_loss: 0.0955 - 196ms/epoch - 5ms/step\n",
      "Epoch 391/400\n",
      "39/39 - 0s - loss: 0.2038 - dense_16_loss: 0.1090 - dense_17_loss: 0.0948 - 199ms/epoch - 5ms/step\n",
      "Epoch 392/400\n",
      "39/39 - 0s - loss: 0.2074 - dense_16_loss: 0.1028 - dense_17_loss: 0.1046 - 201ms/epoch - 5ms/step\n",
      "Epoch 393/400\n",
      "39/39 - 0s - loss: 0.1964 - dense_16_loss: 0.1060 - dense_17_loss: 0.0905 - 193ms/epoch - 5ms/step\n",
      "Epoch 394/400\n",
      "39/39 - 0s - loss: 0.1987 - dense_16_loss: 0.1023 - dense_17_loss: 0.0963 - 192ms/epoch - 5ms/step\n",
      "Epoch 395/400\n",
      "39/39 - 0s - loss: 0.2093 - dense_16_loss: 0.1055 - dense_17_loss: 0.1038 - 197ms/epoch - 5ms/step\n",
      "Epoch 396/400\n",
      "39/39 - 0s - loss: 0.1936 - dense_16_loss: 0.1023 - dense_17_loss: 0.0913 - 200ms/epoch - 5ms/step\n",
      "Epoch 397/400\n",
      "39/39 - 0s - loss: 0.2049 - dense_16_loss: 0.1053 - dense_17_loss: 0.0996 - 195ms/epoch - 5ms/step\n",
      "Epoch 398/400\n",
      "39/39 - 0s - loss: 0.2114 - dense_16_loss: 0.1098 - dense_17_loss: 0.1016 - 196ms/epoch - 5ms/step\n",
      "Epoch 399/400\n",
      "39/39 - 0s - loss: 0.2034 - dense_16_loss: 0.1091 - dense_17_loss: 0.0943 - 194ms/epoch - 5ms/step\n",
      "Epoch 400/400\n",
      "39/39 - 0s - loss: 0.1978 - dense_16_loss: 0.1033 - dense_17_loss: 0.0945 - 198ms/epoch - 5ms/step\n"
     ]
    },
    {
     "data": {
      "text/plain": [
       "<keras.callbacks.History at 0x29055e1f0>"
      ]
     },
     "execution_count": 27,
     "metadata": {},
     "output_type": "execute_result"
    }
   ],
   "source": [
    "sep_y_train_data = np.hsplit(train[1], 2) # separate the y data into pieces to only provide 1 point as NN output\n",
    "model.fit(train[0], [sep_y_train_data[0], sep_y_train_data[1]], epochs=400, batch_size=16, verbose=2)"
   ]
  },
  {
   "cell_type": "code",
   "execution_count": 28,
   "id": "BqPlv1LBOx7C",
   "metadata": {
    "colab": {
     "base_uri": "https://localhost:8080/"
    },
    "id": "BqPlv1LBOx7C",
    "outputId": "81501cf3-4d2c-4958-a105-fb52f5b8c1f5"
   },
   "outputs": [
    {
     "name": "stdout",
     "output_type": "stream",
     "text": [
      "Train Score: 0.22\n",
      "Test Score: 0.85\n"
     ]
    },
    {
     "name": "stderr",
     "output_type": "stream",
     "text": [
      "2022-01-13 16:47:25.098134: I tensorflow/core/grappler/optimizers/custom_graph_optimizer_registry.cc:112] Plugin optimizer for device_type GPU is enabled.\n"
     ]
    }
   ],
   "source": [
    "trainScore = model.evaluate(train[0], [sep_y_train_data[0], sep_y_train_data[1]], verbose=0)\n",
    "print('Train Score: %.2f' % (trainScore[0]))\n",
    "\n",
    "sep_y_test_data = np.hsplit(test[1], 2)\n",
    "testScore = model.evaluate(test[0], [sep_y_test_data[0], sep_y_test_data[1]], verbose=0)\n",
    "print('Test Score: %.2f' % (testScore[0]))"
   ]
  },
  {
   "cell_type": "markdown",
   "id": "e31f3b62",
   "metadata": {},
   "source": [
    "## Predicting on train data and plotting"
   ]
  },
  {
   "cell_type": "code",
   "execution_count": 36,
   "id": "wdLHm-yCNbJU",
   "metadata": {
    "colab": {
     "base_uri": "https://localhost:8080/",
     "height": 1000
    },
    "id": "wdLHm-yCNbJU",
    "outputId": "19757ef5-3529-4b8e-b5b8-1f7b43deff58"
   },
   "outputs": [
    {
     "data": {
      "image/png": "[encoded data removed]",
      "text/plain": [
       "<Figure size 432x288 with 1 Axes>"
      ]
     },
     "metadata": {
      "needs_background": "light"
     },
     "output_type": "display_data"
    },
    {
     "data": {
      "image/png": "[encoded data removed]",
      "text/plain": [
       "<Figure size 432x288 with 1 Axes>"
      ]
     },
     "metadata": {
      "needs_background": "light"
     },
     "output_type": "display_data"
    },
    {
     "data": {
      "image/png": "[encoded data removed]",
      "text/plain": [
       "<Figure size 432x288 with 1 Axes>"
      ]
     },
     "metadata": {
      "needs_background": "light"
     },
     "output_type": "display_data"
    },
    {
     "data": {
      "image/png": "[encoded data removed]",
      "text/plain": [
       "<Figure size 432x288 with 1 Axes>"
      ]
     },
     "metadata": {
      "needs_background": "light"
     },
     "output_type": "display_data"
    },
    {
     "data": {
      "image/png": "[encoded data removed]",
      "text/plain": [
       "<Figure size 432x288 with 1 Axes>"
      ]
     },
     "metadata": {
      "needs_background": "light"
     },
     "output_type": "display_data"
    },
    {
     "data": {
      "image/png": "[encoded data removed]",
      "text/plain": [
       "<Figure size 432x288 with 1 Axes>"
      ]
     },
     "metadata": {
      "needs_background": "light"
     },
     "output_type": "display_data"
    },
    {
     "data": {
      "image/png": "[encoded data removed]",
      "text/plain": [
       "<Figure size 432x288 with 1 Axes>"
      ]
     },
     "metadata": {
      "needs_background": "light"
     },
     "output_type": "display_data"
    },
    {
     "data": {
      "image/png": "[encoded data removed]",
      "text/plain": [
       "<Figure size 432x288 with 1 Axes>"
      ]
     },
     "metadata": {
      "needs_background": "light"
     },
     "output_type": "display_data"
    },
    {
     "data": {
      "image/png": "[encoded data removed]",
      "text/plain": [
       "<Figure size 432x288 with 1 Axes>"
      ]
     },
     "metadata": {
      "needs_background": "light"
     },
     "output_type": "display_data"
    },
    {
     "data": {
      "image/png": "[encoded data removed]",
      "text/plain": [
       "<Figure size 432x288 with 1 Axes>"
      ]
     },
     "metadata": {
      "needs_background": "light"
     },
     "output_type": "display_data"
    },
    {
     "data": {
      "image/png": "[encoded data removed]",
      "text/plain": [
       "<Figure size 432x288 with 1 Axes>"
      ]
     },
     "metadata": {
      "needs_background": "light"
     },
     "output_type": "display_data"
    },
    {
     "data": {
      "image/png": "[encoded data removed]",
      "text/plain": [
       "<Figure size 432x288 with 1 Axes>"
      ]
     },
     "metadata": {
      "needs_background": "light"
     },
     "output_type": "display_data"
    },
    {
     "data": {
      "image/png": "[encoded data removed]",
      "text/plain": [
       "<Figure size 432x288 with 1 Axes>"
      ]
     },
     "metadata": {
      "needs_background": "light"
     },
     "output_type": "display_data"
    },
    {
     "data": {
      "image/png": "[encoded data removed]",
      "text/plain": [
       "<Figure size 432x288 with 1 Axes>"
      ]
     },
     "metadata": {
      "needs_background": "light"
     },
     "output_type": "display_data"
    },
    {
     "data": {
      "image/png": "[encoded data removed]",
      "text/plain": [
       "<Figure size 432x288 with 1 Axes>"
      ]
     },
     "metadata": {
      "needs_background": "light"
     },
     "output_type": "display_data"
    },
    {
     "data": {
      "image/png": "[encoded data removed]",
      "text/plain": [
       "<Figure size 432x288 with 1 Axes>"
      ]
     },
     "metadata": {
      "needs_background": "light"
     },
     "output_type": "display_data"
    },
    {
     "data": {
      "image/png": "[encoded data removed]",
      "text/plain": [
       "<Figure size 432x288 with 1 Axes>"
      ]
     },
     "metadata": {
      "needs_background": "light"
     },
     "output_type": "display_data"
    },
    {
     "data": {
      "image/png": "[encoded data removed]",
      "text/plain": [
       "<Figure size 432x288 with 1 Axes>"
      ]
     },
     "metadata": {
      "needs_background": "light"
     },
     "output_type": "display_data"
    },
    {
     "data": {
      "image/png": "[encoded data removed]",
      "text/plain": [
       "<Figure size 432x288 with 1 Axes>"
      ]
     },
     "metadata": {
      "needs_background": "light"
     },
     "output_type": "display_data"
    },
    {
     "data": {
      "image/png": "[encoded data removed]",
      "text/plain": [
       "<Figure size 432x288 with 1 Axes>"
      ]
     },
     "metadata": {
      "needs_background": "light"
     },
     "output_type": "display_data"
    },
    {
     "name": "stdout",
     "output_type": "stream",
     "text": [
      "Average FDE:  2.5988962964539564\n"
     ]
    }
   ],
   "source": [
    "# Creating a 'rolling' prediction, predicting 1 point based on 5 seen points, then another point based\n",
    "# on 4 seen points and 1 predicted point and so on\n",
    "all_FDE = []\n",
    "plotting = True\n",
    "no_of_plotted_trajectories = 20\n",
    "\n",
    "for idx, agent_id in enumerate(test_agent_ids):\n",
    "\n",
    "    seen_x = np.array(data[data['agent_id'] == agent_id].iloc[:5]['pos_x'])\n",
    "    seen_y = np.array(data[data['agent_id'] == agent_id].iloc[:5]['pos_y'])\n",
    "    \n",
    "    seen_vel_x = np.array(data[data['agent_id'] == agent_id].iloc[1:5]['vel_x'])\n",
    "    seen_vel_y = np.array(data[data['agent_id'] == agent_id].iloc[1:5]['vel_y'])\n",
    "    \n",
    "    unseen_x = np.array(data[data['agent_id'] == agent_id].iloc[5:10]['pos_x'])\n",
    "    unseen_y = np.array(data[data['agent_id'] == agent_id].iloc[5:10]['pos_y'])\n",
    "\n",
    "    rolling_vel_x = np.array(seen_vel_x)\n",
    "    rolling_vel_y = np.array(seen_vel_y)\n",
    "    for i in range(5):\n",
    "        seen_velocities = np.column_stack((rolling_vel_x, rolling_vel_y))\n",
    "        pred_vel_x, pred_vel_y = model.predict(np.array([seen_velocities]))\n",
    "\n",
    "        # To get the fifth velocity we need for prediction\n",
    "        if i == 4:\n",
    "            rolling_vel_x = np.append(rolling_vel_x, [pred_vel_x[0]])\n",
    "            rolling_vel_y = np.append(rolling_vel_y, [pred_vel_y[0]])\n",
    "        else:\n",
    "            rolling_vel_x = np.append(rolling_vel_x[1:], [pred_vel_x[0]])\n",
    "            rolling_vel_y = np.append(rolling_vel_y[1:], [pred_vel_y[0]])\n",
    "\n",
    "    # Create coordinates from the velocity predictions\n",
    "    pred_coord_x = [seen_x[-1] + rolling_vel_x[0]]\n",
    "    pred_coord_y = [seen_y[-1] + rolling_vel_y[0]]\n",
    "    for i in range(1, 5):\n",
    "        pred_coord_x.append(pred_coord_x[i-1] + rolling_vel_x[i])\n",
    "        pred_coord_y.append(pred_coord_y[i-1] + rolling_vel_y[i])\n",
    "        \n",
    "    # Calculate final displacement error\n",
    "    FDE = np.sqrt((pred_coord_x[-1] - unseen_x[-1])**2 + (pred_coord_y[-1] - unseen_y[-1])**2)\n",
    "    all_FDE.append(FDE)\n",
    "    \n",
    "    # plot data\n",
    "    if plotting and idx < no_of_plotted_trajectories:\n",
    "        plt.axes().set_aspect('equal')\n",
    "\n",
    "        plt.plot(np.append(seen_x, unseen_x), np.append(seen_y, unseen_y), color='g')\n",
    "        plt.scatter(np.append(seen_x, unseen_x), np.append(seen_y, unseen_y), color='g')\n",
    "\n",
    "        plt.plot(pred_coord_x, pred_coord_y, color='r')\n",
    "        plt.scatter(pred_coord_x, pred_coord_y, color='r')\n",
    "\n",
    "        plt.scatter(seen_x[0], seen_y[0], color='b')\n",
    "\n",
    "        plt.show()\n",
    "\n",
    "print(\"Average FDE: \", np.mean(all_FDE))"
   ]
  },
  {
   "cell_type": "code",
   "execution_count": null,
   "id": "de55df37",
   "metadata": {},
   "outputs": [],
   "source": []
  }
 ],
 "metadata": {
  "accelerator": "TPU",
  "colab": {
   "collapsed_sections": [],
   "include_colab_link": true,
   "name": "Edinburgh-NN-over-all-data.ipynb",
   "provenance": []
  },
  "kernelspec": {
   "display_name": "Python 3 (ipykernel)",
   "language": "python",
   "name": "python3"
  },
  "language_info": {
   "codemirror_mode": {
    "name": "ipython",
    "version": 3
   },
   "file_extension": ".py",
   "mimetype": "text/x-python",
   "name": "python",
   "nbconvert_exporter": "python",
   "pygments_lexer": "ipython3",
   "version": "3.9.0"
  }
 },
 "nbformat": 4,
 "nbformat_minor": 5
}
