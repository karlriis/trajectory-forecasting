{
 "cells": [
  {
   "cell_type": "code",
   "execution_count": 10,
   "id": "3539b74f",
   "metadata": {},
   "outputs": [],
   "source": [
    "import generative_model\n",
    "import numpy as np"
   ]
  },
  {
   "cell_type": "code",
   "execution_count": 2,
   "id": "67f499c4",
   "metadata": {},
   "outputs": [],
   "source": [
    "params = {\n",
    "    \"NOISE\": 0.1,\n",
    "    \"NO_OF_TRAJECTORIES\": 1000,\n",
    "    \"CONST_VEL_MODEL_PROB\": 0.8,\n",
    "    \n",
    "    \"STOP_PROB\": 0.2,\n",
    "    \n",
    "    \"DISCOUNT_AVG_PROB\": 0.5,\n",
    "    \"DISCOUNT_LOWER_BOUND\": 0.5,\n",
    "    \n",
    "    \"VELOCITY_CHANGE_PROB\": 0.2,\n",
    "    \"VELOCITY_CHANGE_NOISE\": 0.1,\n",
    "    \n",
    "    \"ANGLE_CHANGE_PROB\": 0.05,\n",
    "    \"ANGLE_CHANGE_NOISE\": 1,\n",
    "    \n",
    "    \"CLUSTER_PERCENTAGES\": [0.2, 0.68, 0.95, 1.0]\n",
    "}"
   ]
  },
  {
   "cell_type": "code",
   "execution_count": 3,
   "id": "95eb4e14",
   "metadata": {},
   "outputs": [],
   "source": [
    "import json\n",
    "import pandas as pd"
   ]
  },
  {
   "cell_type": "code",
   "execution_count": 39,
   "id": "d20e8b39",
   "metadata": {},
   "outputs": [],
   "source": [
    "import trajnetplusplustools\n",
    "from trajnetplusplustools.data import TrackRow\n",
    "test_path = 'trajnet_data/test_original/'\n",
    "pred_path = 'trajnet_data/test/'\n",
    "file_paths = [\n",
    "    'real_data/biwi_eth',\n",
    "    'real_data/crowds_uni_examples',\n",
    "    'real_data/crowds_zara02',\n",
    "    'synth_data/collision_test',\n",
    "    'synth_data/orca_synth'\n",
    "]\n",
    "sample = 1.0"
   ]
  },
  {
   "cell_type": "code",
   "execution_count": 41,
   "id": "69ddb244",
   "metadata": {},
   "outputs": [],
   "source": [
    "for file_path in file_paths:\n",
    "\n",
    "    reader = trajnetplusplustools.Reader(test_path + file_path + '.ndjson', scene_type='paths')\n",
    "    scenes = [(s_id, s) for s_id, s in reader.scenes(sample=sample)]\n",
    "\n",
    "    for scene_data in scenes:\n",
    "        scene_id = scene_data[0]\n",
    "        pedestrian_tracks = scene_data[1]\n",
    "\n",
    "        primary_pedestrian_track = pedestrian_tracks[0]\n",
    "        pedestrian_id = primary_pedestrian_track[0].pedestrian\n",
    "        last_frame_no = primary_pedestrian_track[-1].frame\n",
    "\n",
    "        xs = []\n",
    "        ys = []\n",
    "        for frame in primary_pedestrian_track:\n",
    "            frame_id = frame.frame\n",
    "            x = frame.x\n",
    "            y = frame.y\n",
    "\n",
    "            xs.append(x)\n",
    "            ys.append(y)\n",
    "\n",
    "        all_pred_x, all_pred_y, weights = generative_model.predict(xs, ys, params, trajectory_length=12)\n",
    "        sorting_order = np.array(weights).argsort()[::-1]\n",
    "        all_pred_x = np.array(all_pred_x)[sorting_order]\n",
    "        all_pred_y = np.array(all_pred_y)[sorting_order]\n",
    "\n",
    "        for prediction_no in range(len(all_pred_x)):\n",
    "            pred_x = all_pred_x[prediction_no]\n",
    "            pred_y = all_pred_y[prediction_no]\n",
    "\n",
    "            for i in range(len(pred_x)):\n",
    "                pred_row = TrackRow(\n",
    "                    frame=last_frame_no + i + 1,\n",
    "                    pedestrian=pedestrian_id,\n",
    "                    x=pred_x[i],\n",
    "                    y=pred_y[i],\n",
    "                    prediction_number=prediction_no,\n",
    "                    scene_id=scene_id\n",
    "                )\n",
    "\n",
    "                pred_row = trajnetplusplustools.writers.trajnet_tracks(pred_row)\n",
    "                with open(pred_path + file_path + '.ndjson', \"a\") as pred_file:\n",
    "                    pred_file.write(pred_row + '\\n')\n",
    "                                 "
   ]
  },
  {
   "cell_type": "code",
   "execution_count": null,
   "id": "0f02c2f1",
   "metadata": {},
   "outputs": [],
   "source": []
  }
 ],
 "metadata": {
  "kernelspec": {
   "display_name": "Python 3 (ipykernel)",
   "language": "python",
   "name": "python3"
  },
  "language_info": {
   "codemirror_mode": {
    "name": "ipython",
    "version": 3
   },
   "file_extension": ".py",
   "mimetype": "text/x-python",
   "name": "python",
   "nbconvert_exporter": "python",
   "pygments_lexer": "ipython3",
   "version": "3.9.0"
  }
 },
 "nbformat": 4,
 "nbformat_minor": 5
}
